{
 "cells": [
  {
   "cell_type": "markdown",
   "metadata": {},
   "source": [
    "# EDA and Data Cleaning"
   ]
  },
  {
   "cell_type": "markdown",
   "metadata": {
    "toc": true
   },
   "source": [
    "<h1>Table of Contents<span class=\"tocSkip\"></span></h1>\n",
    "<div class=\"toc\"><ul class=\"toc-item\"><li><span><a href=\"#EDA-and-Data-Cleaning\" data-toc-modified-id=\"EDA-and-Data-Cleaning-1\"><span class=\"toc-item-num\">1&nbsp;&nbsp;</span>EDA and Data Cleaning</a></span><ul class=\"toc-item\"><li><span><a href=\"#Data-Dictionary\" data-toc-modified-id=\"Data-Dictionary-1.1\"><span class=\"toc-item-num\">1.1&nbsp;&nbsp;</span>Data Dictionary</a></span></li><li><span><a href=\"#Import-libraries\" data-toc-modified-id=\"Import-libraries-1.2\"><span class=\"toc-item-num\">1.2&nbsp;&nbsp;</span>Import libraries</a></span></li><li><span><a href=\"#Read-in-data\" data-toc-modified-id=\"Read-in-data-1.3\"><span class=\"toc-item-num\">1.3&nbsp;&nbsp;</span>Read in data</a></span></li><li><span><a href=\"#Initial-Data-Cleaning\" data-toc-modified-id=\"Initial-Data-Cleaning-1.4\"><span class=\"toc-item-num\">1.4&nbsp;&nbsp;</span>Initial Data Cleaning</a></span><ul class=\"toc-item\"><li><span><a href=\"#Drop-columns:-'Unnamed:-0',-'icon',-and-'photos'\" data-toc-modified-id=\"Drop-columns:-'Unnamed:-0',-'icon',-and-'photos'-1.4.1\"><span class=\"toc-item-num\">1.4.1&nbsp;&nbsp;</span>Drop columns: 'Unnamed: 0', 'icon', and 'photos'</a></span></li><li><span><a href=\"#Get-city,-state,-and-zip-code-from-'formatted_address',-and-create-new-columns\" data-toc-modified-id=\"Get-city,-state,-and-zip-code-from-'formatted_address',-and-create-new-columns-1.4.2\"><span class=\"toc-item-num\">1.4.2&nbsp;&nbsp;</span>Get city, state, and zip code from 'formatted_address', and create new columns</a></span></li><li><span><a href=\"#Get-lat,-lng-from-'geometry',-and-create-new-columns\" data-toc-modified-id=\"Get-lat,-lng-from-'geometry',-and-create-new-columns-1.4.3\"><span class=\"toc-item-num\">1.4.3&nbsp;&nbsp;</span>Get lat, lng from 'geometry', and create new columns</a></span></li><li><span><a href=\"#Get-'compound_code',-'global_code'-from-'plus_code',-and-create-new-columns\" data-toc-modified-id=\"Get-'compound_code',-'global_code'-from-'plus_code',-and-create-new-columns-1.4.4\"><span class=\"toc-item-num\">1.4.4&nbsp;&nbsp;</span>Get 'compound_code', 'global_code' from 'plus_code', and create new columns</a></span></li><li><span><a href=\"#Use-CountVectorizer-to-process-'types'\" data-toc-modified-id=\"Use-CountVectorizer-to-process-'types'-1.4.5\"><span class=\"toc-item-num\">1.4.5&nbsp;&nbsp;</span>Use CountVectorizer to process 'types'</a></span></li></ul></li></ul></li></ul></div>"
   ]
  },
  {
   "cell_type": "markdown",
   "metadata": {},
   "source": [
    "## Data Dictionary"
   ]
  },
  {
   "cell_type": "markdown",
   "metadata": {},
   "source": [
    "[Data Dictionary Link](https://developers.google.com/places/web-service/search#PlaceSearchResults)"
   ]
  },
  {
   "cell_type": "markdown",
   "metadata": {},
   "source": [
    "## Import libraries"
   ]
  },
  {
   "cell_type": "code",
   "execution_count": 52,
   "metadata": {},
   "outputs": [],
   "source": [
    "import numpy as np\n",
    "import pandas as pd\n",
    "import ast \n",
    "import re\n",
    "\n",
    "from sklearn.feature_extraction.text import CountVectorizer\n",
    "\n",
    "# Display Preference\n",
    "pd.set_option('display.max_columns', None)"
   ]
  },
  {
   "cell_type": "markdown",
   "metadata": {},
   "source": [
    "## Read in data"
   ]
  },
  {
   "cell_type": "code",
   "execution_count": 2,
   "metadata": {},
   "outputs": [],
   "source": [
    "df = pd.read_csv('../data/raw_google_data_nyc.csv')"
   ]
  },
  {
   "cell_type": "code",
   "execution_count": 3,
   "metadata": {},
   "outputs": [
    {
     "data": {
      "text/html": [
       "<div>\n",
       "<style scoped>\n",
       "    .dataframe tbody tr th:only-of-type {\n",
       "        vertical-align: middle;\n",
       "    }\n",
       "\n",
       "    .dataframe tbody tr th {\n",
       "        vertical-align: top;\n",
       "    }\n",
       "\n",
       "    .dataframe thead th {\n",
       "        text-align: right;\n",
       "    }\n",
       "</style>\n",
       "<table border=\"1\" class=\"dataframe\">\n",
       "  <thead>\n",
       "    <tr style=\"text-align: right;\">\n",
       "      <th></th>\n",
       "      <th>Unnamed: 0</th>\n",
       "      <th>formatted_address</th>\n",
       "      <th>geometry</th>\n",
       "      <th>icon</th>\n",
       "      <th>id</th>\n",
       "      <th>name</th>\n",
       "      <th>opening_hours</th>\n",
       "      <th>photos</th>\n",
       "      <th>place_id</th>\n",
       "      <th>plus_code</th>\n",
       "      <th>price_level</th>\n",
       "      <th>rating</th>\n",
       "      <th>reference</th>\n",
       "      <th>types</th>\n",
       "      <th>user_ratings_total</th>\n",
       "      <th>searched_keyword</th>\n",
       "      <th>searched_zipcode</th>\n",
       "    </tr>\n",
       "  </thead>\n",
       "  <tbody>\n",
       "    <tr>\n",
       "      <td>0</td>\n",
       "      <td>0</td>\n",
       "      <td>138 W 34th St, New York, NY 10001, United States</td>\n",
       "      <td>{'location': {'lat': 40.750269, 'lng': -73.989...</td>\n",
       "      <td>https://maps.gstatic.com/mapfiles/place_api/ic...</td>\n",
       "      <td>cab18c9c7ea5cf2330fdf146a7cbfe9a3ab03d6d</td>\n",
       "      <td>Sprint Store</td>\n",
       "      <td>{'open_now': False}</td>\n",
       "      <td>[{'height': 2592, 'html_attributions': ['&lt;a hr...</td>\n",
       "      <td>ChIJCV0vTalZwokR61PIDIe0gI0</td>\n",
       "      <td>{'compound_code': 'Q226+44 New York', 'global_...</td>\n",
       "      <td>2.0</td>\n",
       "      <td>3.4</td>\n",
       "      <td>ChIJCV0vTalZwokR61PIDIe0gI0</td>\n",
       "      <td>['point_of_interest', 'store', 'establishment']</td>\n",
       "      <td>273</td>\n",
       "      <td>stores</td>\n",
       "      <td>10001</td>\n",
       "    </tr>\n",
       "    <tr>\n",
       "      <td>1</td>\n",
       "      <td>1</td>\n",
       "      <td>460 8th Ave, New York, NY 10001, United States</td>\n",
       "      <td>{'location': {'lat': 40.751744, 'lng': -73.993...</td>\n",
       "      <td>https://maps.gstatic.com/mapfiles/place_api/ic...</td>\n",
       "      <td>e386d17b32833d39a246d0f8ed3df43ed5f27252</td>\n",
       "      <td>Duane Reade</td>\n",
       "      <td>{'open_now': True}</td>\n",
       "      <td>[{'height': 4896, 'html_attributions': ['&lt;a hr...</td>\n",
       "      <td>ChIJJwQ3561ZwokRuYknT0uxER8</td>\n",
       "      <td>{'compound_code': 'Q224+MJ New York', 'global_...</td>\n",
       "      <td>2.0</td>\n",
       "      <td>3.9</td>\n",
       "      <td>ChIJJwQ3561ZwokRuYknT0uxER8</td>\n",
       "      <td>['convenience_store', 'food', 'point_of_intere...</td>\n",
       "      <td>50</td>\n",
       "      <td>stores</td>\n",
       "      <td>10001</td>\n",
       "    </tr>\n",
       "    <tr>\n",
       "      <td>2</td>\n",
       "      <td>2</td>\n",
       "      <td>151 W 34th St, New York, NY 10001, United States</td>\n",
       "      <td>{'location': {'lat': 40.7508025, 'lng': -73.98...</td>\n",
       "      <td>https://maps.gstatic.com/mapfiles/place_api/ic...</td>\n",
       "      <td>e04114820206890ff0155d2f7a6f7efc0903fb9b</td>\n",
       "      <td>Macy's</td>\n",
       "      <td>{'open_now': True}</td>\n",
       "      <td>[{'height': 2610, 'html_attributions': ['&lt;a hr...</td>\n",
       "      <td>ChIJ3xjWra5ZwokRrwJ0KZ4yKNs</td>\n",
       "      <td>{'compound_code': 'Q226+86 New York', 'global_...</td>\n",
       "      <td>2.0</td>\n",
       "      <td>4.4</td>\n",
       "      <td>ChIJ3xjWra5ZwokRrwJ0KZ4yKNs</td>\n",
       "      <td>['department_store', 'shoe_store', 'jewelry_st...</td>\n",
       "      <td>50800</td>\n",
       "      <td>stores</td>\n",
       "      <td>10001</td>\n",
       "    </tr>\n",
       "    <tr>\n",
       "      <td>3</td>\n",
       "      <td>3</td>\n",
       "      <td>5 Pennsylvania Plaza, New York, NY 10001, Unit...</td>\n",
       "      <td>{'location': {'lat': 40.7519205, 'lng': -73.99...</td>\n",
       "      <td>https://maps.gstatic.com/mapfiles/place_api/ic...</td>\n",
       "      <td>76f93a3e6a81e29c91d14ceb783366beedf1c63e</td>\n",
       "      <td>CVS</td>\n",
       "      <td>{'open_now': True}</td>\n",
       "      <td>[{'height': 1836, 'html_attributions': ['&lt;a hr...</td>\n",
       "      <td>ChIJhbi9_npZwokR0rqh_uP6s1U</td>\n",
       "      <td>{'compound_code': 'Q224+Q9 New York', 'global_...</td>\n",
       "      <td>NaN</td>\n",
       "      <td>3.8</td>\n",
       "      <td>ChIJhbi9_npZwokR0rqh_uP6s1U</td>\n",
       "      <td>['drugstore', 'convenience_store', 'food', 'he...</td>\n",
       "      <td>45</td>\n",
       "      <td>stores</td>\n",
       "      <td>10001</td>\n",
       "    </tr>\n",
       "    <tr>\n",
       "      <td>4</td>\n",
       "      <td>4</td>\n",
       "      <td>420 9th Ave, New York, NY 10001, United States</td>\n",
       "      <td>{'location': {'lat': 40.7529454, 'lng': -73.99...</td>\n",
       "      <td>https://maps.gstatic.com/mapfiles/place_api/ic...</td>\n",
       "      <td>3b2cbe32c41a5633864a49f9730d1c1388cbc37a</td>\n",
       "      <td>B&amp;H Photo Video - Electronics and Camera Store</td>\n",
       "      <td>{'open_now': True}</td>\n",
       "      <td>[{'height': 2988, 'html_attributions': ['&lt;a hr...</td>\n",
       "      <td>ChIJI93dPbJZwokRIoOEoivEDQs</td>\n",
       "      <td>{'compound_code': 'Q233+5F New York', 'global_...</td>\n",
       "      <td>NaN</td>\n",
       "      <td>4.6</td>\n",
       "      <td>ChIJI93dPbJZwokRIoOEoivEDQs</td>\n",
       "      <td>['electronics_store', 'home_goods_store', 'poi...</td>\n",
       "      <td>22644</td>\n",
       "      <td>stores</td>\n",
       "      <td>10001</td>\n",
       "    </tr>\n",
       "  </tbody>\n",
       "</table>\n",
       "</div>"
      ],
      "text/plain": [
       "   Unnamed: 0                                  formatted_address  \\\n",
       "0           0   138 W 34th St, New York, NY 10001, United States   \n",
       "1           1     460 8th Ave, New York, NY 10001, United States   \n",
       "2           2   151 W 34th St, New York, NY 10001, United States   \n",
       "3           3  5 Pennsylvania Plaza, New York, NY 10001, Unit...   \n",
       "4           4     420 9th Ave, New York, NY 10001, United States   \n",
       "\n",
       "                                            geometry  \\\n",
       "0  {'location': {'lat': 40.750269, 'lng': -73.989...   \n",
       "1  {'location': {'lat': 40.751744, 'lng': -73.993...   \n",
       "2  {'location': {'lat': 40.7508025, 'lng': -73.98...   \n",
       "3  {'location': {'lat': 40.7519205, 'lng': -73.99...   \n",
       "4  {'location': {'lat': 40.7529454, 'lng': -73.99...   \n",
       "\n",
       "                                                icon  \\\n",
       "0  https://maps.gstatic.com/mapfiles/place_api/ic...   \n",
       "1  https://maps.gstatic.com/mapfiles/place_api/ic...   \n",
       "2  https://maps.gstatic.com/mapfiles/place_api/ic...   \n",
       "3  https://maps.gstatic.com/mapfiles/place_api/ic...   \n",
       "4  https://maps.gstatic.com/mapfiles/place_api/ic...   \n",
       "\n",
       "                                         id  \\\n",
       "0  cab18c9c7ea5cf2330fdf146a7cbfe9a3ab03d6d   \n",
       "1  e386d17b32833d39a246d0f8ed3df43ed5f27252   \n",
       "2  e04114820206890ff0155d2f7a6f7efc0903fb9b   \n",
       "3  76f93a3e6a81e29c91d14ceb783366beedf1c63e   \n",
       "4  3b2cbe32c41a5633864a49f9730d1c1388cbc37a   \n",
       "\n",
       "                                             name        opening_hours  \\\n",
       "0                                    Sprint Store  {'open_now': False}   \n",
       "1                                     Duane Reade   {'open_now': True}   \n",
       "2                                          Macy's   {'open_now': True}   \n",
       "3                                             CVS   {'open_now': True}   \n",
       "4  B&H Photo Video - Electronics and Camera Store   {'open_now': True}   \n",
       "\n",
       "                                              photos  \\\n",
       "0  [{'height': 2592, 'html_attributions': ['<a hr...   \n",
       "1  [{'height': 4896, 'html_attributions': ['<a hr...   \n",
       "2  [{'height': 2610, 'html_attributions': ['<a hr...   \n",
       "3  [{'height': 1836, 'html_attributions': ['<a hr...   \n",
       "4  [{'height': 2988, 'html_attributions': ['<a hr...   \n",
       "\n",
       "                      place_id  \\\n",
       "0  ChIJCV0vTalZwokR61PIDIe0gI0   \n",
       "1  ChIJJwQ3561ZwokRuYknT0uxER8   \n",
       "2  ChIJ3xjWra5ZwokRrwJ0KZ4yKNs   \n",
       "3  ChIJhbi9_npZwokR0rqh_uP6s1U   \n",
       "4  ChIJI93dPbJZwokRIoOEoivEDQs   \n",
       "\n",
       "                                           plus_code  price_level  rating  \\\n",
       "0  {'compound_code': 'Q226+44 New York', 'global_...          2.0     3.4   \n",
       "1  {'compound_code': 'Q224+MJ New York', 'global_...          2.0     3.9   \n",
       "2  {'compound_code': 'Q226+86 New York', 'global_...          2.0     4.4   \n",
       "3  {'compound_code': 'Q224+Q9 New York', 'global_...          NaN     3.8   \n",
       "4  {'compound_code': 'Q233+5F New York', 'global_...          NaN     4.6   \n",
       "\n",
       "                     reference  \\\n",
       "0  ChIJCV0vTalZwokR61PIDIe0gI0   \n",
       "1  ChIJJwQ3561ZwokRuYknT0uxER8   \n",
       "2  ChIJ3xjWra5ZwokRrwJ0KZ4yKNs   \n",
       "3  ChIJhbi9_npZwokR0rqh_uP6s1U   \n",
       "4  ChIJI93dPbJZwokRIoOEoivEDQs   \n",
       "\n",
       "                                               types  user_ratings_total  \\\n",
       "0    ['point_of_interest', 'store', 'establishment']                 273   \n",
       "1  ['convenience_store', 'food', 'point_of_intere...                  50   \n",
       "2  ['department_store', 'shoe_store', 'jewelry_st...               50800   \n",
       "3  ['drugstore', 'convenience_store', 'food', 'he...                  45   \n",
       "4  ['electronics_store', 'home_goods_store', 'poi...               22644   \n",
       "\n",
       "  searched_keyword  searched_zipcode  \n",
       "0           stores             10001  \n",
       "1           stores             10001  \n",
       "2           stores             10001  \n",
       "3           stores             10001  \n",
       "4           stores             10001  "
      ]
     },
     "execution_count": 3,
     "metadata": {},
     "output_type": "execute_result"
    }
   ],
   "source": [
    "df.head()"
   ]
  },
  {
   "cell_type": "code",
   "execution_count": 4,
   "metadata": {},
   "outputs": [
    {
     "data": {
      "text/plain": [
       "(9889, 17)"
      ]
     },
     "execution_count": 4,
     "metadata": {},
     "output_type": "execute_result"
    }
   ],
   "source": [
    "# Check the shape of the data\n",
    "df.shape"
   ]
  },
  {
   "cell_type": "code",
   "execution_count": 20,
   "metadata": {
    "scrolled": true
   },
   "outputs": [
    {
     "data": {
      "text/plain": [
       "city                   object\n",
       "state                  object\n",
       "zipcode                object\n",
       "id                     object\n",
       "name                   object\n",
       "open_now               object\n",
       "place_id               object\n",
       "plus_code              object\n",
       "price_level           float64\n",
       "rating                float64\n",
       "reference              object\n",
       "types                  object\n",
       "user_ratings_total      int64\n",
       "searched_keyword       object\n",
       "searched_zipcode        int64\n",
       "location_lat          float64\n",
       "location_lng          float64\n",
       "dtype: object"
      ]
     },
     "execution_count": 20,
     "metadata": {},
     "output_type": "execute_result"
    }
   ],
   "source": [
    "# Check data types\n",
    "df.dtypes"
   ]
  },
  {
   "cell_type": "code",
   "execution_count": 21,
   "metadata": {},
   "outputs": [
    {
     "data": {
      "text/plain": [
       "city                     0\n",
       "state                    9\n",
       "zipcode                  0\n",
       "id                       0\n",
       "name                     0\n",
       "open_now               483\n",
       "place_id                 0\n",
       "plus_code                4\n",
       "price_level           3571\n",
       "rating                   0\n",
       "reference                0\n",
       "types                    0\n",
       "user_ratings_total       0\n",
       "searched_keyword         0\n",
       "searched_zipcode         0\n",
       "location_lat             0\n",
       "location_lng             0\n",
       "dtype: int64"
      ]
     },
     "execution_count": 21,
     "metadata": {},
     "output_type": "execute_result"
    }
   ],
   "source": [
    "# Check nulls\n",
    "df.isnull().sum()"
   ]
  },
  {
   "cell_type": "markdown",
   "metadata": {},
   "source": [
    "## Initial Data Cleaning"
   ]
  },
  {
   "cell_type": "markdown",
   "metadata": {},
   "source": [
    "### Drop columns: 'Unnamed: 0', 'icon', and 'photos'"
   ]
  },
  {
   "cell_type": "code",
   "execution_count": 5,
   "metadata": {},
   "outputs": [],
   "source": [
    "df.drop(columns=['Unnamed: 0', 'icon', 'photos'], inplace=True)"
   ]
  },
  {
   "cell_type": "code",
   "execution_count": 6,
   "metadata": {
    "scrolled": false
   },
   "outputs": [],
   "source": [
    "# Change 'opening_hours' from str to bool\n",
    "df['opening_hours'] = [ast.literal_eval(df['opening_hours'][i]).get('open_now') \n",
    "                       if pd.isnull(df['opening_hours'][i]) is False else\n",
    "                       df['opening_hours'][i]\n",
    "                       for i in df.index ]\n",
    "df.rename(columns={'opening_hours':'open_now'}, inplace=True )"
   ]
  },
  {
   "cell_type": "markdown",
   "metadata": {},
   "source": [
    "### Get city, state, and zip code from 'formatted_address', and create new columns"
   ]
  },
  {
   "cell_type": "code",
   "execution_count": 7,
   "metadata": {},
   "outputs": [],
   "source": [
    "# Regular expression reference: https://regex101.com/\n",
    "ADDRESS_RE = re.compile(r'^(.*, +)?(?P<city>.*),( +(?P<state>[A-Z]{2}))? +(?P<zipcode>[0-9\\-]*), +United States$')"
   ]
  },
  {
   "cell_type": "code",
   "execution_count": 8,
   "metadata": {},
   "outputs": [],
   "source": [
    "# Define a funciton to match the regular expression constant above\n",
    "def parse_address(string):\n",
    "    match = re.match(ADDRESS_RE, string)\n",
    "    \n",
    "    # If match fails, raise error showing the failed match string\n",
    "    if match is None:\n",
    "        raise Exception(string)\n",
    "        \n",
    "    #  Return a dictionary object\n",
    "    address_dict = match.groupdict()\n",
    "    \n",
    "    # Return 'None' if the address is missing 'state'. \n",
    "    if 'state' not in address_dict:\n",
    "        address_dict['state'] = None\n",
    "        \n",
    "    return address_dict"
   ]
  },
  {
   "cell_type": "code",
   "execution_count": 9,
   "metadata": {
    "scrolled": true
   },
   "outputs": [],
   "source": [
    "# Apply the parse_address function to column 'formatted_address'\n",
    "df = pd.concat([pd.DataFrame(list(df['formatted_address'].apply(parse_address).values)), df], axis=1, copy=True)"
   ]
  },
  {
   "cell_type": "code",
   "execution_count": 10,
   "metadata": {},
   "outputs": [],
   "source": [
    "# Drop the 'formatted_address' column\n",
    "df.drop(columns='formatted_address', inplace=True)"
   ]
  },
  {
   "cell_type": "markdown",
   "metadata": {},
   "source": [
    "### Get lat, lng from 'geometry', and create new columns"
   ]
  },
  {
   "cell_type": "code",
   "execution_count": 11,
   "metadata": {},
   "outputs": [],
   "source": [
    "df['location_lat'] = [ast.literal_eval(df['geometry'][i]).get('location').get('lat') for i in df.index]\n",
    "df['location_lng'] = [ast.literal_eval(df['geometry'][i]).get('location').get('lng') for i in df.index]"
   ]
  },
  {
   "cell_type": "code",
   "execution_count": 12,
   "metadata": {},
   "outputs": [],
   "source": [
    "df.drop(columns='geometry', inplace=True)"
   ]
  },
  {
   "cell_type": "markdown",
   "metadata": {},
   "source": [
    "### Get 'compound_code', 'global_code' from 'plus_code', and create new columns"
   ]
  },
  {
   "cell_type": "markdown",
   "metadata": {},
   "source": [
    "'plus_code' is is an encoded location reference, derived from latitude and longitude coordinates, that represents an area: 1/8000th of a degree by 1/8000th of a degree (about 14m x 14m at the equator) or smaller. Plus codes can be used as a replacement for street addresses in places where they do not exist (where buildings are not numbered or streets are not named). [Reference](https://developers.google.com/places/web-service/search#PlaceSearchResults)"
   ]
  },
  {
   "cell_type": "code",
   "execution_count": 22,
   "metadata": {},
   "outputs": [],
   "source": [
    "df['compound_code'] = [ast.literal_eval(df['plus_code'][i]).get('compound_code')\n",
    "                       if pd.isnull(df['plus_code'][i]) is False else\n",
    "                       df['plus_code'][i]\n",
    "                       for i in df.index]\n",
    "df['global_code'] = [ast.literal_eval(df['plus_code'][i]).get('global_code')\n",
    "                     if pd.isnull(df['plus_code'][i]) is False else\n",
    "                     df['plus_code'][i]\n",
    "                     for i in df.index]"
   ]
  },
  {
   "cell_type": "code",
   "execution_count": 24,
   "metadata": {},
   "outputs": [],
   "source": [
    "df.drop(columns='plus_code', inplace=True)"
   ]
  },
  {
   "cell_type": "markdown",
   "metadata": {},
   "source": [
    "### Use CountVectorizer to process 'types'"
   ]
  },
  {
   "cell_type": "code",
   "execution_count": 47,
   "metadata": {
    "scrolled": true
   },
   "outputs": [],
   "source": [
    "vectorizer = CountVectorizer()\n",
    "X = vectorizer.fit_transform(df['types'])"
   ]
  },
  {
   "cell_type": "code",
   "execution_count": 48,
   "metadata": {
    "scrolled": true
   },
   "outputs": [],
   "source": [
    "vectorizerized_types = pd.DataFrame(X.toarray(), columns=vectorizer.get_feature_names())"
   ]
  },
  {
   "cell_type": "code",
   "execution_count": 49,
   "metadata": {},
   "outputs": [],
   "source": [
    "df = pd.concat([df, vectorizerized_types], axis=1, copy=True)"
   ]
  },
  {
   "cell_type": "code",
   "execution_count": 55,
   "metadata": {},
   "outputs": [],
   "source": [
    "df.drop(columns='types', inplace=True)"
   ]
  },
  {
   "cell_type": "markdown",
   "metadata": {},
   "source": [
    "https://stackoverflow.com/questions/27198283/google-places-api-are-place-id-or-id-unique-to-any-city-in-the-world"
   ]
  }
 ],
 "metadata": {
  "kernelspec": {
   "display_name": "Python 3",
   "language": "python",
   "name": "python3"
  },
  "language_info": {
   "codemirror_mode": {
    "name": "ipython",
    "version": 3
   },
   "file_extension": ".py",
   "mimetype": "text/x-python",
   "name": "python",
   "nbconvert_exporter": "python",
   "pygments_lexer": "ipython3",
   "version": "3.7.4"
  },
  "toc": {
   "base_numbering": 1,
   "nav_menu": {},
   "number_sections": true,
   "sideBar": true,
   "skip_h1_title": false,
   "title_cell": "Table of Contents",
   "title_sidebar": "Contents",
   "toc_cell": true,
   "toc_position": {},
   "toc_section_display": true,
   "toc_window_display": true
  }
 },
 "nbformat": 4,
 "nbformat_minor": 2
}
