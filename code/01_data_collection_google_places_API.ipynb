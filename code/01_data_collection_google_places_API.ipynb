{
 "cells": [
  {
   "cell_type": "markdown",
   "metadata": {},
   "source": [
    "# Data Collection: Google Places API"
   ]
  },
  {
   "cell_type": "markdown",
   "metadata": {},
   "source": [
    "## Introduction"
   ]
  },
  {
   "cell_type": "markdown",
   "metadata": {},
   "source": [
    "**Google Places API**  \n",
    "To collect neighborhood commercial informations, I will use the [Google Places API](https://developers.google.com/places/web-service/intro). There are several sub-categories, and I will use the [Place Search](https://developers.google.com/places/web-service/search) API. "
   ]
  },
  {
   "cell_type": "markdown",
   "metadata": {},
   "source": [
    "**Result limits**\n",
    "- Results per query: 20\n",
    "- Max results per location: 60\n",
    "- If more than 20 results is needed, pass the value of the `next_page_token` to the pagetoken parameter of a new search to see the next set of results. \n",
    "- [Reference](https://developers.google.com/places/web-service/search)"
   ]
  },
  {
   "cell_type": "markdown",
   "metadata": {},
   "source": [
    "**Python Client for Google Maps Services**  \n",
    "Google Places API has a [Python Client Library](https://github.com/googlemaps/google-maps-services-python), which I will use in this project. \n",
    "- [Installation instructions](https://github.com/googlemaps/google-maps-services-python#installation)\n",
    "- [Library documentation](https://developers.google.com/places/web-service/client-library)\n",
    "- [Example of using library](https://github.com/googlemaps/google-maps-services-python/blob/81640b0a76fb741f228996f260a05c6e4a2cb27c/googlemaps/test/test_places.py)\n",
    "- [Method source code](https://github.com/googlemaps/google-maps-services-python/blob/81640b0a76fb741f228996f260a05c6e4a2cb27c/googlemaps/places.py#L101)"
   ]
  },
  {
   "cell_type": "markdown",
   "metadata": {},
   "source": [
    "## Import Libraries"
   ]
  },
  {
   "cell_type": "code",
   "execution_count": 150,
   "metadata": {},
   "outputs": [],
   "source": [
    "import pandas as pd\n",
    "#import requests\n",
    "#import datetime as dt\n",
    "#import re\n",
    "import time\n",
    "from pathlib import Path\n",
    "\n",
    "# Import Python Client Library for Google Maps Services\n",
    "import googlemaps"
   ]
  },
  {
   "cell_type": "markdown",
   "metadata": {},
   "source": [
    "## Fetch API key"
   ]
  },
  {
   "cell_type": "markdown",
   "metadata": {},
   "source": [
    "- Create Google Places API key [here](https://developers.google.com/places/web-service/intro?utm_source=google&utm_medium=cpc&utm_campaign=FY18-Q2-global-demandgen-paidsearchonnetworkhouseads-cs-maps_contactsal_saf&utm_content=text-ad-none-none-DEV_c-CRE_315916118135-ADGP_Hybrid+%7C+AW+SEM+%7C+SKWS+~+Places+API-KWID_43700039136946627-kwd-475997044718-userloc_9073479&utm_term=KW_%2Bplace%20%2Bapi-ST_%2Bplace+%2Bapi&gclid=EAIaIQobChMI2Ib1w6Xo5wIVD5SzCh3eDgR9EAAYASAAEgJwXvD_BwE).\n",
    "- Save the API key as `.txt` file, create a directory with the path `\"~/api_keys\"`, and store the API key there."
   ]
  },
  {
   "cell_type": "code",
   "execution_count": 154,
   "metadata": {},
   "outputs": [],
   "source": [
    "with open(str(Path.home() / 'api_keys/google_api.txt')) as file:\n",
    "    API_KEY = file.read().replace('\\n', '')"
   ]
  },
  {
   "cell_type": "markdown",
   "metadata": {},
   "source": [
    "## Instantiate client object"
   ]
  },
  {
   "cell_type": "code",
   "execution_count": 9,
   "metadata": {},
   "outputs": [],
   "source": [
    "# Instance of making a single call\n",
    "client = googlemaps.Client(key=API_KEY, queries_per_second=2)"
   ]
  },
  {
   "cell_type": "markdown",
   "metadata": {},
   "source": [
    "## Create a list of keywords"
   ]
  },
  {
   "cell_type": "markdown",
   "metadata": {},
   "source": [
    "I will use the text search, input a list of key words and a list of zipcodes to fetch businesses. This key word is not exhaustive; the purpose is to sample a few common types of businesses. The decision is arbitrary."
   ]
  },
  {
   "cell_type": "code",
   "execution_count": 136,
   "metadata": {},
   "outputs": [],
   "source": [
    "LIST_OF_KEYWORDS = ['stores', 'restaurant', 'coffee shops']"
   ]
  },
  {
   "cell_type": "markdown",
   "metadata": {},
   "source": [
    "## Import ZCTA data"
   ]
  },
  {
   "cell_type": "code",
   "execution_count": 117,
   "metadata": {},
   "outputs": [],
   "source": [
    "zcta = pd.read_csv('../data/zcta_nyc.csv')"
   ]
  },
  {
   "cell_type": "code",
   "execution_count": 141,
   "metadata": {},
   "outputs": [],
   "source": [
    "list_of_zcta = list(zcta['zcta'].values)"
   ]
  },
  {
   "cell_type": "markdown",
   "metadata": {},
   "source": [
    "## Define functions for requests"
   ]
  },
  {
   "cell_type": "code",
   "execution_count": 101,
   "metadata": {},
   "outputs": [],
   "source": [
    "# Define a function to send multiple requests and fetch up to 60 results\n",
    "# def search_place(keyword, zipcode):\n",
    "#     results = []\n",
    "    \n",
    "#     def _get_next_results(next_page_token=None):\n",
    "#         json_result = client.places(f'{keyword} near {zipcode}', page_token=next_page_token)\n",
    "#         results.extend(json_result['results'])\n",
    "#         return json_result.get('next_page_token')\n",
    "    \n",
    "#     next_page_token = _get_next_results()\n",
    "#     while next_page_token:\n",
    "#         # Must wait for the next_page_token to become valid\n",
    "#         # See https://github.com/googlemaps/google-maps-services-python/issues/145\n",
    "#         time.sleep(2)\n",
    "#         next_page_token = _get_next_results(next_page_token=next_page_token)\n",
    "    \n",
    "#     df_businesses = pd.DataFrame(results)\n",
    "#     df_businesses['searched_keyword'] = keyword\n",
    "#     df_businesses['searched_zipcode'] = zipcode\n",
    "#     return df_businesses"
   ]
  },
  {
   "cell_type": "code",
   "execution_count": 105,
   "metadata": {},
   "outputs": [],
   "source": [
    "def search_place(keyword, zipcode):\n",
    "    '''\n",
    "    Inputs one keyword and one zip code\n",
    "    Send a single request\n",
    "    Outputs up to 20 results\n",
    "    '''\n",
    "    json_result = client.places(f'{keyword} near {zipcode}')\n",
    "    df_businesses = pd.DataFrame(json_result['results'])\n",
    "    \n",
    "    # Add columns searched_keyword and searched_zipcode to the dataframe\n",
    "    df_businesses['searched_keyword'] = keyword\n",
    "    df_businesses['searched_zipcode'] = zipcode\n",
    "    return df_businesses"
   ]
  },
  {
   "cell_type": "code",
   "execution_count": 107,
   "metadata": {},
   "outputs": [],
   "source": [
    "def serach_all_places(list_of_keywords, list_of_zipcodes):\n",
    "    '''\n",
    "    Inputs a list of keywords (n) and a list of zip codes (m)\n",
    "    Send (n*m) requests\n",
    "    Outputs up to (n*m*20) results\n",
    "    '''\n",
    "    df = pd.DataFrame()\n",
    "    for zipcode in list_of_zipcodes:\n",
    "        for keyword in list_of_keywords:\n",
    "            df = df.append(search_place(keyword, zipcode), ignore_index=True, sort=False) \n",
    "    return df"
   ]
  },
  {
   "cell_type": "markdown",
   "metadata": {},
   "source": [
    "## Fetch data"
   ]
  },
  {
   "cell_type": "code",
   "execution_count": 142,
   "metadata": {},
   "outputs": [],
   "source": [
    "#data = serach_all_places(LIST_OF_KEYWORDS, list_of_zcta)"
   ]
  },
  {
   "cell_type": "code",
   "execution_count": 144,
   "metadata": {
    "scrolled": true
   },
   "outputs": [
    {
     "data": {
      "text/plain": [
       "(9889, 16)"
      ]
     },
     "execution_count": 144,
     "metadata": {},
     "output_type": "execute_result"
    }
   ],
   "source": [
    "# Check the shape of the data\n",
    "data.shape"
   ]
  },
  {
   "cell_type": "markdown",
   "metadata": {},
   "source": [
    "## Export data as .csv file"
   ]
  },
  {
   "cell_type": "code",
   "execution_count": 149,
   "metadata": {},
   "outputs": [],
   "source": [
    "data.to_csv('../data/raw_google_data_nyc.csv')"
   ]
  }
 ],
 "metadata": {
  "kernelspec": {
   "display_name": "Python 3",
   "language": "python",
   "name": "python3"
  },
  "language_info": {
   "codemirror_mode": {
    "name": "ipython",
    "version": 3
   },
   "file_extension": ".py",
   "mimetype": "text/x-python",
   "name": "python",
   "nbconvert_exporter": "python",
   "pygments_lexer": "ipython3",
   "version": "3.7.4"
  },
  "toc": {
   "base_numbering": 1,
   "nav_menu": {},
   "number_sections": true,
   "sideBar": true,
   "skip_h1_title": false,
   "title_cell": "Table of Contents",
   "title_sidebar": "Contents",
   "toc_cell": false,
   "toc_position": {},
   "toc_section_display": true,
   "toc_window_display": false
  }
 },
 "nbformat": 4,
 "nbformat_minor": 2
}
