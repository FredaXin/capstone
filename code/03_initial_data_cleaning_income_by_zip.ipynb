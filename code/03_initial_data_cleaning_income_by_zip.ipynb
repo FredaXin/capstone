{
 "cells": [
  {
   "cell_type": "markdown",
   "metadata": {},
   "source": [
    "# Initial Data Cleaning: Income by Zip Data Set"
   ]
  },
  {
   "cell_type": "markdown",
   "metadata": {},
   "source": [
    "## Data Dictionary"
   ]
  },
  {
   "cell_type": "markdown",
   "metadata": {},
   "source": [
    "TODO\n",
    "\n",
    "zip | Zip (ZCTA) |\n",
    "    |Median household income in the past 12 months (in 2018 inflation-adjusted dollars)|\n",
    "    "
   ]
  },
  {
   "cell_type": "markdown",
   "metadata": {},
   "source": [
    "## Import libraries"
   ]
  },
  {
   "cell_type": "code",
   "execution_count": 1,
   "metadata": {},
   "outputs": [],
   "source": [
    "import numpy as np\n",
    "import pandas as pd"
   ]
  },
  {
   "cell_type": "markdown",
   "metadata": {},
   "source": [
    "## Read in data"
   ]
  },
  {
   "cell_type": "code",
   "execution_count": 2,
   "metadata": {},
   "outputs": [],
   "source": [
    "df = pd.read_csv('../data/raw_income_by_zip_nyc.csv')"
   ]
  },
  {
   "cell_type": "code",
   "execution_count": 3,
   "metadata": {},
   "outputs": [
    {
     "data": {
      "text/html": [
       "<div>\n",
       "<style scoped>\n",
       "    .dataframe tbody tr th:only-of-type {\n",
       "        vertical-align: middle;\n",
       "    }\n",
       "\n",
       "    .dataframe tbody tr th {\n",
       "        vertical-align: top;\n",
       "    }\n",
       "\n",
       "    .dataframe thead th {\n",
       "        text-align: right;\n",
       "    }\n",
       "</style>\n",
       "<table border=\"1\" class=\"dataframe\">\n",
       "  <thead>\n",
       "    <tr style=\"text-align: right;\">\n",
       "      <th></th>\n",
       "      <th>Zip (ZCTA)</th>\n",
       "      <th>Median household income in the past 12 months (in 2018 inflation-adjusted dollars)</th>\n",
       "      <th>Per capita income in the past 12 months (in 2018 Inflation-adjusted dollars)</th>\n",
       "      <th>Population</th>\n",
       "      <th>Population Density (square miles)</th>\n",
       "      <th>Housing Units</th>\n",
       "      <th>Median Value of Owner-occupied Units</th>\n",
       "    </tr>\n",
       "  </thead>\n",
       "  <tbody>\n",
       "    <tr>\n",
       "      <td>0</td>\n",
       "      <td>10001</td>\n",
       "      <td>$88,526</td>\n",
       "      <td>$84,765</td>\n",
       "      <td>22,924</td>\n",
       "      <td>37,306.60</td>\n",
       "      <td>14,141</td>\n",
       "      <td>$343,400</td>\n",
       "    </tr>\n",
       "    <tr>\n",
       "      <td>1</td>\n",
       "      <td>10002</td>\n",
       "      <td>$35,859</td>\n",
       "      <td>$32,694</td>\n",
       "      <td>74,993</td>\n",
       "      <td>85,369.80</td>\n",
       "      <td>35,724</td>\n",
       "      <td>$665,200</td>\n",
       "    </tr>\n",
       "    <tr>\n",
       "      <td>2</td>\n",
       "      <td>10003</td>\n",
       "      <td>$112,131</td>\n",
       "      <td>$92,781</td>\n",
       "      <td>54,682</td>\n",
       "      <td>94,859.60</td>\n",
       "      <td>30,876</td>\n",
       "      <td>$1,001,200</td>\n",
       "    </tr>\n",
       "    <tr>\n",
       "      <td>3</td>\n",
       "      <td>10004</td>\n",
       "      <td>$157,645</td>\n",
       "      <td>$122,165</td>\n",
       "      <td>3,028</td>\n",
       "      <td>5,622.90</td>\n",
       "      <td>2,139</td>\n",
       "      <td>$1,640,600</td>\n",
       "    </tr>\n",
       "    <tr>\n",
       "      <td>4</td>\n",
       "      <td>10005</td>\n",
       "      <td>$173,333</td>\n",
       "      <td>$106,702</td>\n",
       "      <td>8,831</td>\n",
       "      <td>121,496.40</td>\n",
       "      <td>5,585</td>\n",
       "      <td>$1,415,400</td>\n",
       "    </tr>\n",
       "  </tbody>\n",
       "</table>\n",
       "</div>"
      ],
      "text/plain": [
       "   Zip (ZCTA)  \\\n",
       "0       10001   \n",
       "1       10002   \n",
       "2       10003   \n",
       "3       10004   \n",
       "4       10005   \n",
       "\n",
       "  Median household income in the past 12 months (in 2018 inflation-adjusted dollars)  \\\n",
       "0                                           $88,526                                    \n",
       "1                                           $35,859                                    \n",
       "2                                          $112,131                                    \n",
       "3                                          $157,645                                    \n",
       "4                                          $173,333                                    \n",
       "\n",
       "  Per capita income in the past 12 months (in 2018 Inflation-adjusted dollars)  \\\n",
       "0                                           $84,765                              \n",
       "1                                           $32,694                              \n",
       "2                                           $92,781                              \n",
       "3                                          $122,165                              \n",
       "4                                          $106,702                              \n",
       "\n",
       "  Population Population Density (square miles)  Housing Units  \\\n",
       "0     22,924                          37,306.60        14,141   \n",
       "1     74,993                          85,369.80        35,724   \n",
       "2     54,682                          94,859.60        30,876   \n",
       "3      3,028                           5,622.90         2,139   \n",
       "4      8,831                         121,496.40         5,585   \n",
       "\n",
       "  Median Value of Owner-occupied Units  \n",
       "0                            $343,400   \n",
       "1                            $665,200   \n",
       "2                          $1,001,200   \n",
       "3                          $1,640,600   \n",
       "4                          $1,415,400   "
      ]
     },
     "execution_count": 3,
     "metadata": {},
     "output_type": "execute_result"
    }
   ],
   "source": [
    "df.head()"
   ]
  },
  {
   "cell_type": "code",
   "execution_count": 4,
   "metadata": {},
   "outputs": [
    {
     "data": {
      "text/plain": [
       "(177, 7)"
      ]
     },
     "execution_count": 4,
     "metadata": {},
     "output_type": "execute_result"
    }
   ],
   "source": [
    "# Check the shape of the data\n",
    "df.shape"
   ]
  },
  {
   "cell_type": "code",
   "execution_count": 5,
   "metadata": {},
   "outputs": [
    {
     "data": {
      "text/plain": [
       "Zip (ZCTA)                                                                             int64\n",
       "Median household income in the past 12 months (in 2018 inflation-adjusted dollars)    object\n",
       "Per capita income in the past 12 months (in 2018 Inflation-adjusted dollars)          object\n",
       "Population                                                                            object\n",
       "Population Density (square miles)                                                     object\n",
       "Housing Units                                                                         object\n",
       "Median Value of Owner-occupied Units                                                  object\n",
       "dtype: object"
      ]
     },
     "execution_count": 5,
     "metadata": {},
     "output_type": "execute_result"
    }
   ],
   "source": [
    "# Check data types\n",
    "df.dtypes"
   ]
  },
  {
   "cell_type": "code",
   "execution_count": 6,
   "metadata": {},
   "outputs": [
    {
     "data": {
      "text/plain": [
       "Zip (ZCTA)                                                                            0\n",
       "Median household income in the past 12 months (in 2018 inflation-adjusted dollars)    0\n",
       "Per capita income in the past 12 months (in 2018 Inflation-adjusted dollars)          0\n",
       "Population                                                                            0\n",
       "Population Density (square miles)                                                     0\n",
       "Housing Units                                                                         0\n",
       "Median Value of Owner-occupied Units                                                  0\n",
       "dtype: int64"
      ]
     },
     "execution_count": 6,
     "metadata": {},
     "output_type": "execute_result"
    }
   ],
   "source": [
    "# Check nulls\n",
    "df.isnull().sum()"
   ]
  },
  {
   "cell_type": "markdown",
   "metadata": {},
   "source": [
    "## Initial Data Cleaning"
   ]
  },
  {
   "cell_type": "markdown",
   "metadata": {},
   "source": [
    "### Change column names "
   ]
  },
  {
   "cell_type": "code",
   "execution_count": 7,
   "metadata": {},
   "outputs": [],
   "source": [
    "# Create column dictionary\n",
    "col_dict = {\n",
    "    'Zip (ZCTA)' : 'zipcode',\n",
    "    'Median household income in the past 12 months (in 2018 inflation-adjusted dollars)' : 'median_household_income',\n",
    "    'Per capita income in the past 12 months (in 2018 Inflation-adjusted dollars)' : 'per_capita_income',\n",
    "    'Population' : 'population',\n",
    "    'Population Density (square miles) ' : 'population_density_square_miles',\n",
    "    'Housing Units' : 'housing_units',\n",
    "    'Median Value of Owner-occupied Units' : 'median_home_value'\n",
    "}"
   ]
  },
  {
   "cell_type": "code",
   "execution_count": 8,
   "metadata": {},
   "outputs": [],
   "source": [
    "# Change column names \n",
    "df = df.rename(columns=col_dict)"
   ]
  },
  {
   "cell_type": "code",
   "execution_count": 9,
   "metadata": {},
   "outputs": [
    {
     "data": {
      "text/html": [
       "<div>\n",
       "<style scoped>\n",
       "    .dataframe tbody tr th:only-of-type {\n",
       "        vertical-align: middle;\n",
       "    }\n",
       "\n",
       "    .dataframe tbody tr th {\n",
       "        vertical-align: top;\n",
       "    }\n",
       "\n",
       "    .dataframe thead th {\n",
       "        text-align: right;\n",
       "    }\n",
       "</style>\n",
       "<table border=\"1\" class=\"dataframe\">\n",
       "  <thead>\n",
       "    <tr style=\"text-align: right;\">\n",
       "      <th></th>\n",
       "      <th>zipcode</th>\n",
       "      <th>median_household_income</th>\n",
       "      <th>per_capita_income</th>\n",
       "      <th>population</th>\n",
       "      <th>population_density_square_miles</th>\n",
       "      <th>housing_units</th>\n",
       "      <th>median_home_value</th>\n",
       "    </tr>\n",
       "  </thead>\n",
       "  <tbody>\n",
       "    <tr>\n",
       "      <td>0</td>\n",
       "      <td>10001</td>\n",
       "      <td>$88,526</td>\n",
       "      <td>$84,765</td>\n",
       "      <td>22,924</td>\n",
       "      <td>37,306.60</td>\n",
       "      <td>14,141</td>\n",
       "      <td>$343,400</td>\n",
       "    </tr>\n",
       "    <tr>\n",
       "      <td>1</td>\n",
       "      <td>10002</td>\n",
       "      <td>$35,859</td>\n",
       "      <td>$32,694</td>\n",
       "      <td>74,993</td>\n",
       "      <td>85,369.80</td>\n",
       "      <td>35,724</td>\n",
       "      <td>$665,200</td>\n",
       "    </tr>\n",
       "    <tr>\n",
       "      <td>2</td>\n",
       "      <td>10003</td>\n",
       "      <td>$112,131</td>\n",
       "      <td>$92,781</td>\n",
       "      <td>54,682</td>\n",
       "      <td>94,859.60</td>\n",
       "      <td>30,876</td>\n",
       "      <td>$1,001,200</td>\n",
       "    </tr>\n",
       "    <tr>\n",
       "      <td>3</td>\n",
       "      <td>10004</td>\n",
       "      <td>$157,645</td>\n",
       "      <td>$122,165</td>\n",
       "      <td>3,028</td>\n",
       "      <td>5,622.90</td>\n",
       "      <td>2,139</td>\n",
       "      <td>$1,640,600</td>\n",
       "    </tr>\n",
       "    <tr>\n",
       "      <td>4</td>\n",
       "      <td>10005</td>\n",
       "      <td>$173,333</td>\n",
       "      <td>$106,702</td>\n",
       "      <td>8,831</td>\n",
       "      <td>121,496.40</td>\n",
       "      <td>5,585</td>\n",
       "      <td>$1,415,400</td>\n",
       "    </tr>\n",
       "  </tbody>\n",
       "</table>\n",
       "</div>"
      ],
      "text/plain": [
       "   zipcode median_household_income per_capita_income population  \\\n",
       "0    10001                $88,526           $84,765      22,924   \n",
       "1    10002                $35,859           $32,694      74,993   \n",
       "2    10003               $112,131           $92,781      54,682   \n",
       "3    10004               $157,645          $122,165       3,028   \n",
       "4    10005               $173,333          $106,702       8,831   \n",
       "\n",
       "  population_density_square_miles housing_units median_home_value  \n",
       "0                       37,306.60        14,141         $343,400   \n",
       "1                       85,369.80        35,724         $665,200   \n",
       "2                       94,859.60        30,876       $1,001,200   \n",
       "3                        5,622.90         2,139       $1,640,600   \n",
       "4                      121,496.40         5,585       $1,415,400   "
      ]
     },
     "execution_count": 9,
     "metadata": {},
     "output_type": "execute_result"
    }
   ],
   "source": [
    "df.head()"
   ]
  },
  {
   "cell_type": "markdown",
   "metadata": {},
   "source": [
    "### Change datatypes"
   ]
  },
  {
   "cell_type": "markdown",
   "metadata": {},
   "source": [
    "Change `object` to `float` or `int`"
   ]
  },
  {
   "cell_type": "code",
   "execution_count": 10,
   "metadata": {},
   "outputs": [],
   "source": [
    "col_list_float = [\n",
    "    'median_household_income', 'per_capita_income',\n",
    "    'population_density_square_miles', 'median_home_value'\n",
    "]"
   ]
  },
  {
   "cell_type": "code",
   "execution_count": 11,
   "metadata": {},
   "outputs": [],
   "source": [
    "col_list_int = ['population', 'housing_units']"
   ]
  },
  {
   "cell_type": "code",
   "execution_count": 12,
   "metadata": {},
   "outputs": [],
   "source": [
    "# Define fuction to change data types to float\n",
    "def change_dtypes_float(df, col_list):\n",
    "    for col in col_list:\n",
    "        df[col] = df[col].replace('[\\$,]', '', regex=True).astype(float)\n",
    "    return df"
   ]
  },
  {
   "cell_type": "code",
   "execution_count": 13,
   "metadata": {},
   "outputs": [],
   "source": [
    "# Define function to change data types to int\n",
    "def change_dtypes_int(df, col_list):\n",
    "    for col in col_list:\n",
    "        df[col] = df[col].replace('[\\,]', '', regex=True).astype(int)\n",
    "    return df"
   ]
  },
  {
   "cell_type": "code",
   "execution_count": 14,
   "metadata": {},
   "outputs": [],
   "source": [
    "df = change_dtypes_float(df, col_list_float)"
   ]
  },
  {
   "cell_type": "code",
   "execution_count": 15,
   "metadata": {},
   "outputs": [],
   "source": [
    "df = change_dtypes_int(df, col_list_int)"
   ]
  },
  {
   "cell_type": "code",
   "execution_count": 16,
   "metadata": {
    "scrolled": true
   },
   "outputs": [
    {
     "data": {
      "text/plain": [
       "zipcode                              int64\n",
       "median_household_income            float64\n",
       "per_capita_income                  float64\n",
       "population                           int64\n",
       "population_density_square_miles    float64\n",
       "housing_units                        int64\n",
       "median_home_value                  float64\n",
       "dtype: object"
      ]
     },
     "execution_count": 16,
     "metadata": {},
     "output_type": "execute_result"
    }
   ],
   "source": [
    "# Check data types again\n",
    "df.dtypes"
   ]
  },
  {
   "cell_type": "markdown",
   "metadata": {},
   "source": [
    "## Create Target Column 'home_price_to_income_ratios'"
   ]
  },
  {
   "cell_type": "markdown",
   "metadata": {},
   "source": [
    "Home prices are the median sale price of existing homes and incomes are the median household income within markets [(Reference)](https://www.jchs.harvard.edu/home-price-income-ratios). The unit is in (human) year."
   ]
  },
  {
   "cell_type": "code",
   "execution_count": 17,
   "metadata": {},
   "outputs": [],
   "source": [
    "df['home_price_to_income_ratios'] = df['median_home_value'] / df['median_household_income']"
   ]
  },
  {
   "cell_type": "code",
   "execution_count": 18,
   "metadata": {},
   "outputs": [],
   "source": [
    "# ## Drop 'median_home_value' and 'median_household_income'\n",
    "# df.drop(columns=['median_home_value', 'median_household_income'], inplace=True)"
   ]
  },
  {
   "cell_type": "markdown",
   "metadata": {},
   "source": [
    "## Export clean dataset as csv"
   ]
  },
  {
   "cell_type": "code",
   "execution_count": 19,
   "metadata": {},
   "outputs": [],
   "source": [
    "df.to_csv('../data/clean_income_by_zip_nyc.csv', index=False)"
   ]
  }
 ],
 "metadata": {
  "kernelspec": {
   "display_name": "Python 3",
   "language": "python",
   "name": "python3"
  },
  "language_info": {
   "codemirror_mode": {
    "name": "ipython",
    "version": 3
   },
   "file_extension": ".py",
   "mimetype": "text/x-python",
   "name": "python",
   "nbconvert_exporter": "python",
   "pygments_lexer": "ipython3",
   "version": "3.7.4"
  },
  "toc": {
   "base_numbering": 1,
   "nav_menu": {},
   "number_sections": true,
   "sideBar": true,
   "skip_h1_title": false,
   "title_cell": "Table of Contents",
   "title_sidebar": "Contents",
   "toc_cell": false,
   "toc_position": {},
   "toc_section_display": true,
   "toc_window_display": false
  }
 },
 "nbformat": 4,
 "nbformat_minor": 2
}
