{
 "cells": [
  {
   "cell_type": "markdown",
   "metadata": {},
   "source": [
    "# EDA and Data Cleaning"
   ]
  },
  {
   "cell_type": "markdown",
   "metadata": {
    "toc": true
   },
   "source": [
    "<h1>Table of Contents<span class=\"tocSkip\"></span></h1>\n",
    "<div class=\"toc\"><ul class=\"toc-item\"><li><span><a href=\"#EDA-and-Data-Cleaning\" data-toc-modified-id=\"EDA-and-Data-Cleaning-1\"><span class=\"toc-item-num\">1&nbsp;&nbsp;</span>EDA and Data Cleaning</a></span><ul class=\"toc-item\"><li><span><a href=\"#Import-libraries\" data-toc-modified-id=\"Import-libraries-1.1\"><span class=\"toc-item-num\">1.1&nbsp;&nbsp;</span>Import libraries</a></span></li><li><span><a href=\"#Read-in-data\" data-toc-modified-id=\"Read-in-data-1.2\"><span class=\"toc-item-num\">1.2&nbsp;&nbsp;</span>Read in data</a></span></li><li><span><a href=\"#Merge-Goolge-dataset-with-Income-dataset\" data-toc-modified-id=\"Merge-Goolge-dataset-with-Income-dataset-1.3\"><span class=\"toc-item-num\">1.3&nbsp;&nbsp;</span>Merge Goolge dataset with Income dataset</a></span></li><li><span><a href=\"#Shuffle-the-dataset\" data-toc-modified-id=\"Shuffle-the-dataset-1.4\"><span class=\"toc-item-num\">1.4&nbsp;&nbsp;</span>Shuffle the dataset</a></span></li><li><span><a href=\"#Feature-Engineering\" data-toc-modified-id=\"Feature-Engineering-1.5\"><span class=\"toc-item-num\">1.5&nbsp;&nbsp;</span>Feature Engineering</a></span><ul class=\"toc-item\"><li><span><a href=\"#Create-interaction-column-using-Google-dataset\" data-toc-modified-id=\"Create-interaction-column-using-Google-dataset-1.5.1\"><span class=\"toc-item-num\">1.5.1&nbsp;&nbsp;</span>Create interaction column using Google dataset</a></span></li><li><span><a href=\"#Create-aggregated-features-for-each-zip-code\" data-toc-modified-id=\"Create-aggregated-features-for-each-zip-code-1.5.2\"><span class=\"toc-item-num\">1.5.2&nbsp;&nbsp;</span>Create aggregated features for each zip code</a></span></li><li><span><a href=\"#Create-transformation-columns-using-demographic-information-from-'income'-dataset\" data-toc-modified-id=\"Create-transformation-columns-using-demographic-information-from-'income'-dataset-1.5.3\"><span class=\"toc-item-num\">1.5.3&nbsp;&nbsp;</span>Create transformation columns using demographic information from 'income' dataset</a></span></li></ul></li><li><span><a href=\"#Missing-Values\" data-toc-modified-id=\"Missing-Values-1.6\"><span class=\"toc-item-num\">1.6&nbsp;&nbsp;</span>Missing Values</a></span></li><li><span><a href=\"#Investigate-target-column-'home_price_to_income_ratios'\" data-toc-modified-id=\"Investigate-target-column-'home_price_to_income_ratios'-1.7\"><span class=\"toc-item-num\">1.7&nbsp;&nbsp;</span>Investigate target column 'home_price_to_income_ratios'</a></span><ul class=\"toc-item\"><li><span><a href=\"#TODO:-Visualiazation-for-Distribution-of-Home-Price-to-Income-Ratios\" data-toc-modified-id=\"TODO:-Visualiazation-for-Distribution-of-Home-Price-to-Income-Ratios-1.7.1\"><span class=\"toc-item-num\">1.7.1&nbsp;&nbsp;</span>TODO: Visualiazation for Distribution of Home Price to Income Ratios</a></span></li></ul></li><li><span><a href=\"#Investigate-categorical-data\" data-toc-modified-id=\"Investigate-categorical-data-1.8\"><span class=\"toc-item-num\">1.8&nbsp;&nbsp;</span>Investigate categorical data</a></span></li><li><span><a href=\"#Investigate-numerical-data\" data-toc-modified-id=\"Investigate-numerical-data-1.9\"><span class=\"toc-item-num\">1.9&nbsp;&nbsp;</span>Investigate numerical data</a></span></li><li><span><a href=\"#EDA-Summary:\" data-toc-modified-id=\"EDA-Summary:-1.10\"><span class=\"toc-item-num\">1.10&nbsp;&nbsp;</span>EDA Summary:</a></span></li></ul></li><li><span><a href=\"#Modeling:-NYC-dataset\" data-toc-modified-id=\"Modeling:-NYC-dataset-2\"><span class=\"toc-item-num\">2&nbsp;&nbsp;</span>Modeling: NYC dataset</a></span><ul class=\"toc-item\"><li><span><a href=\"#Baseline-Model\" data-toc-modified-id=\"Baseline-Model-2.1\"><span class=\"toc-item-num\">2.1&nbsp;&nbsp;</span>Baseline Model</a></span></li><li><span><a href=\"#Linear-Regression\" data-toc-modified-id=\"Linear-Regression-2.2\"><span class=\"toc-item-num\">2.2&nbsp;&nbsp;</span>Linear Regression</a></span></li><li><span><a href=\"#KNN\" data-toc-modified-id=\"KNN-2.3\"><span class=\"toc-item-num\">2.3&nbsp;&nbsp;</span>KNN</a></span></li><li><span><a href=\"#Tree\" data-toc-modified-id=\"Tree-2.4\"><span class=\"toc-item-num\">2.4&nbsp;&nbsp;</span>Tree</a></span></li><li><span><a href=\"#Bagged-Tree\" data-toc-modified-id=\"Bagged-Tree-2.5\"><span class=\"toc-item-num\">2.5&nbsp;&nbsp;</span>Bagged Tree</a></span></li><li><span><a href=\"#Ada-Boost\" data-toc-modified-id=\"Ada-Boost-2.6\"><span class=\"toc-item-num\">2.6&nbsp;&nbsp;</span>Ada Boost</a></span></li><li><span><a href=\"#Support-Vector-Machine\" data-toc-modified-id=\"Support-Vector-Machine-2.7\"><span class=\"toc-item-num\">2.7&nbsp;&nbsp;</span>Support Vector Machine</a></span></li><li><span><a href=\"#Polynomial-Regression\" data-toc-modified-id=\"Polynomial-Regression-2.8\"><span class=\"toc-item-num\">2.8&nbsp;&nbsp;</span>Polynomial Regression</a></span></li><li><span><a href=\"#Stochastic-Gradient-Descent\" data-toc-modified-id=\"Stochastic-Gradient-Descent-2.9\"><span class=\"toc-item-num\">2.9&nbsp;&nbsp;</span>Stochastic Gradient Descent</a></span></li></ul></li><li><span><a href=\"#Modeling:-LA-dataset\" data-toc-modified-id=\"Modeling:-LA-dataset-3\"><span class=\"toc-item-num\">3&nbsp;&nbsp;</span>Modeling: LA dataset</a></span><ul class=\"toc-item\"><li><span><a href=\"#Baseline-Model\" data-toc-modified-id=\"Baseline-Model-3.1\"><span class=\"toc-item-num\">3.1&nbsp;&nbsp;</span>Baseline Model</a></span></li><li><span><a href=\"#Linear-Regression\" data-toc-modified-id=\"Linear-Regression-3.2\"><span class=\"toc-item-num\">3.2&nbsp;&nbsp;</span>Linear Regression</a></span></li><li><span><a href=\"#KNN\" data-toc-modified-id=\"KNN-3.3\"><span class=\"toc-item-num\">3.3&nbsp;&nbsp;</span>KNN</a></span></li><li><span><a href=\"#Tree\" data-toc-modified-id=\"Tree-3.4\"><span class=\"toc-item-num\">3.4&nbsp;&nbsp;</span>Tree</a></span></li><li><span><a href=\"#Bagged-Tree\" data-toc-modified-id=\"Bagged-Tree-3.5\"><span class=\"toc-item-num\">3.5&nbsp;&nbsp;</span>Bagged Tree</a></span></li><li><span><a href=\"#Ada-Boost\" data-toc-modified-id=\"Ada-Boost-3.6\"><span class=\"toc-item-num\">3.6&nbsp;&nbsp;</span>Ada Boost</a></span></li><li><span><a href=\"#Support-Vector-Machine\" data-toc-modified-id=\"Support-Vector-Machine-3.7\"><span class=\"toc-item-num\">3.7&nbsp;&nbsp;</span>Support Vector Machine</a></span></li><li><span><a href=\"#Polynomial-Regression\" data-toc-modified-id=\"Polynomial-Regression-3.8\"><span class=\"toc-item-num\">3.8&nbsp;&nbsp;</span>Polynomial Regression</a></span></li><li><span><a href=\"#Stochastic-Gradient-Descent\" data-toc-modified-id=\"Stochastic-Gradient-Descent-3.9\"><span class=\"toc-item-num\">3.9&nbsp;&nbsp;</span>Stochastic Gradient Descent</a></span></li></ul></li></ul></div>"
   ]
  },
  {
   "cell_type": "markdown",
   "metadata": {},
   "source": [
    "## Import libraries"
   ]
  },
  {
   "cell_type": "code",
   "execution_count": 1,
   "metadata": {},
   "outputs": [],
   "source": [
    "#pip install plotly-geo"
   ]
  },
  {
   "cell_type": "code",
   "execution_count": 2,
   "metadata": {},
   "outputs": [],
   "source": [
    "#EDA and Data Cleaning Libraries\n",
    "import pandas as pd\n",
    "import numpy as np\n",
    "import matplotlib.pyplot as plt\n",
    "import seaborn as sns\n",
    "\n",
    "from sklearn.utils import shuffle\n",
    "\n",
    "#Geographical Data Visualization\n",
    "import plotly as py\n",
    "import plotly.graph_objs as go\n",
    "import plotly.figure_factory as ff\n",
    "\n",
    "# Display Preference\n",
    "pd.set_option('display.max_columns', None)"
   ]
  },
  {
   "cell_type": "code",
   "execution_count": 3,
   "metadata": {},
   "outputs": [],
   "source": [
    "# Modeling Libraries\n",
    "# import pandas as pd\n",
    "# import numpy as np\n",
    "# import matplotlib.pyplot as plt\n",
    "\n",
    "from sklearn.preprocessing import StandardScaler\n",
    "from sklearn.model_selection import train_test_split, GridSearchCV, cross_val_score\n",
    "from sklearn.pipeline import Pipeline\n",
    "\n",
    "from sklearn.linear_model import LinearRegression, RidgeCV\n",
    "from sklearn.neighbors import KNeighborsRegressor\n",
    "from sklearn.tree import DecisionTreeRegressor\n",
    "from sklearn.ensemble import BaggingRegressor, RandomForestRegressor, AdaBoostRegressor\n",
    "from sklearn.svm import SVR\n",
    "\n",
    "from sklearn.metrics import mean_squared_error, make_scorer, r2_score\n",
    "\n",
    "%matplotlib inline"
   ]
  },
  {
   "cell_type": "markdown",
   "metadata": {},
   "source": [
    "## Read in data"
   ]
  },
  {
   "cell_type": "code",
   "execution_count": 4,
   "metadata": {},
   "outputs": [],
   "source": [
    "google = pd.read_csv('../data/clean_google_data_nyc.csv')\n",
    "income = pd.read_csv('../data/clean_income_by_zip_nyc.csv')"
   ]
  },
  {
   "cell_type": "code",
   "execution_count": 5,
   "metadata": {
    "scrolled": true
   },
   "outputs": [
    {
     "data": {
      "text/html": [
       "<div>\n",
       "<style scoped>\n",
       "    .dataframe tbody tr th:only-of-type {\n",
       "        vertical-align: middle;\n",
       "    }\n",
       "\n",
       "    .dataframe tbody tr th {\n",
       "        vertical-align: top;\n",
       "    }\n",
       "\n",
       "    .dataframe thead th {\n",
       "        text-align: right;\n",
       "    }\n",
       "</style>\n",
       "<table border=\"1\" class=\"dataframe\">\n",
       "  <thead>\n",
       "    <tr style=\"text-align: right;\">\n",
       "      <th></th>\n",
       "      <th>zipcode</th>\n",
       "      <th>name</th>\n",
       "      <th>open_now</th>\n",
       "      <th>place_id</th>\n",
       "      <th>price_level</th>\n",
       "      <th>rating</th>\n",
       "      <th>user_ratings_total</th>\n",
       "      <th>searched_keyword</th>\n",
       "      <th>searched_zipcode</th>\n",
       "      <th>location_lat</th>\n",
       "      <th>location_lng</th>\n",
       "      <th>compound_code</th>\n",
       "      <th>global_code</th>\n",
       "      <th>art_gallery</th>\n",
       "      <th>atm</th>\n",
       "      <th>bakery</th>\n",
       "      <th>bar</th>\n",
       "      <th>beauty_salon</th>\n",
       "      <th>bicycle_store</th>\n",
       "      <th>book_store</th>\n",
       "      <th>cafe</th>\n",
       "      <th>car_dealer</th>\n",
       "      <th>car_repair</th>\n",
       "      <th>car_wash</th>\n",
       "      <th>clothing_store</th>\n",
       "      <th>convenience_store</th>\n",
       "      <th>department_store</th>\n",
       "      <th>drugstore</th>\n",
       "      <th>electronics_store</th>\n",
       "      <th>establishment</th>\n",
       "      <th>finance</th>\n",
       "      <th>florist</th>\n",
       "      <th>food</th>\n",
       "      <th>funeral_home</th>\n",
       "      <th>furniture_store</th>\n",
       "      <th>gas_station</th>\n",
       "      <th>general_contractor</th>\n",
       "      <th>grocery_or_supermarket</th>\n",
       "      <th>hair_care</th>\n",
       "      <th>hardware_store</th>\n",
       "      <th>health</th>\n",
       "      <th>home_goods_store</th>\n",
       "      <th>jewelry_store</th>\n",
       "      <th>laundry</th>\n",
       "      <th>liquor_store</th>\n",
       "      <th>local_government_office</th>\n",
       "      <th>locksmith</th>\n",
       "      <th>lodging</th>\n",
       "      <th>meal_delivery</th>\n",
       "      <th>meal_takeaway</th>\n",
       "      <th>movie_rental</th>\n",
       "      <th>night_club</th>\n",
       "      <th>park</th>\n",
       "      <th>parking</th>\n",
       "      <th>pet_store</th>\n",
       "      <th>pharmacy</th>\n",
       "      <th>point_of_interest</th>\n",
       "      <th>premise</th>\n",
       "      <th>restaurant</th>\n",
       "      <th>school</th>\n",
       "      <th>shoe_store</th>\n",
       "      <th>shopping_mall</th>\n",
       "      <th>spa</th>\n",
       "      <th>storage</th>\n",
       "      <th>store</th>\n",
       "      <th>supermarket</th>\n",
       "      <th>tourist_attraction</th>\n",
       "      <th>travel_agency</th>\n",
       "    </tr>\n",
       "  </thead>\n",
       "  <tbody>\n",
       "    <tr>\n",
       "      <td>0</td>\n",
       "      <td>10031</td>\n",
       "      <td>Sugar Hill Cafe</td>\n",
       "      <td>True</td>\n",
       "      <td>ChIJTdM-m3z2wokR6xZB62deoYY</td>\n",
       "      <td>NaN</td>\n",
       "      <td>4.5</td>\n",
       "      <td>362</td>\n",
       "      <td>coffee shops</td>\n",
       "      <td>10030</td>\n",
       "      <td>40.824202</td>\n",
       "      <td>-73.945600</td>\n",
       "      <td>R3F3+MQ New York</td>\n",
       "      <td>87G8R3F3+MQ</td>\n",
       "      <td>0</td>\n",
       "      <td>0</td>\n",
       "      <td>0</td>\n",
       "      <td>0</td>\n",
       "      <td>0</td>\n",
       "      <td>0</td>\n",
       "      <td>0</td>\n",
       "      <td>1</td>\n",
       "      <td>0</td>\n",
       "      <td>0</td>\n",
       "      <td>0</td>\n",
       "      <td>0</td>\n",
       "      <td>0</td>\n",
       "      <td>0</td>\n",
       "      <td>0</td>\n",
       "      <td>0</td>\n",
       "      <td>1</td>\n",
       "      <td>0</td>\n",
       "      <td>0</td>\n",
       "      <td>1</td>\n",
       "      <td>0</td>\n",
       "      <td>0</td>\n",
       "      <td>0</td>\n",
       "      <td>0</td>\n",
       "      <td>0</td>\n",
       "      <td>0</td>\n",
       "      <td>0</td>\n",
       "      <td>0</td>\n",
       "      <td>0</td>\n",
       "      <td>0</td>\n",
       "      <td>0</td>\n",
       "      <td>0</td>\n",
       "      <td>0</td>\n",
       "      <td>0</td>\n",
       "      <td>0</td>\n",
       "      <td>0</td>\n",
       "      <td>0</td>\n",
       "      <td>0</td>\n",
       "      <td>0</td>\n",
       "      <td>0</td>\n",
       "      <td>0</td>\n",
       "      <td>0</td>\n",
       "      <td>0</td>\n",
       "      <td>1</td>\n",
       "      <td>0</td>\n",
       "      <td>1</td>\n",
       "      <td>0</td>\n",
       "      <td>0</td>\n",
       "      <td>0</td>\n",
       "      <td>0</td>\n",
       "      <td>0</td>\n",
       "      <td>1</td>\n",
       "      <td>0</td>\n",
       "      <td>0</td>\n",
       "      <td>0</td>\n",
       "    </tr>\n",
       "    <tr>\n",
       "      <td>1</td>\n",
       "      <td>10463</td>\n",
       "      <td>Buunni Coffee</td>\n",
       "      <td>False</td>\n",
       "      <td>ChIJUwMBqb7zwokRTmJ13EWbS9M</td>\n",
       "      <td>NaN</td>\n",
       "      <td>4.5</td>\n",
       "      <td>76</td>\n",
       "      <td>coffee shops</td>\n",
       "      <td>10463</td>\n",
       "      <td>40.886812</td>\n",
       "      <td>-73.906868</td>\n",
       "      <td>V3PV+P7 The Bronx, New York</td>\n",
       "      <td>87G8V3PV+P7</td>\n",
       "      <td>0</td>\n",
       "      <td>0</td>\n",
       "      <td>0</td>\n",
       "      <td>0</td>\n",
       "      <td>0</td>\n",
       "      <td>0</td>\n",
       "      <td>0</td>\n",
       "      <td>1</td>\n",
       "      <td>0</td>\n",
       "      <td>0</td>\n",
       "      <td>0</td>\n",
       "      <td>0</td>\n",
       "      <td>0</td>\n",
       "      <td>0</td>\n",
       "      <td>0</td>\n",
       "      <td>0</td>\n",
       "      <td>1</td>\n",
       "      <td>0</td>\n",
       "      <td>0</td>\n",
       "      <td>1</td>\n",
       "      <td>0</td>\n",
       "      <td>0</td>\n",
       "      <td>0</td>\n",
       "      <td>0</td>\n",
       "      <td>0</td>\n",
       "      <td>0</td>\n",
       "      <td>0</td>\n",
       "      <td>0</td>\n",
       "      <td>0</td>\n",
       "      <td>0</td>\n",
       "      <td>0</td>\n",
       "      <td>0</td>\n",
       "      <td>0</td>\n",
       "      <td>0</td>\n",
       "      <td>0</td>\n",
       "      <td>0</td>\n",
       "      <td>0</td>\n",
       "      <td>0</td>\n",
       "      <td>0</td>\n",
       "      <td>0</td>\n",
       "      <td>0</td>\n",
       "      <td>0</td>\n",
       "      <td>0</td>\n",
       "      <td>1</td>\n",
       "      <td>0</td>\n",
       "      <td>0</td>\n",
       "      <td>0</td>\n",
       "      <td>0</td>\n",
       "      <td>0</td>\n",
       "      <td>0</td>\n",
       "      <td>0</td>\n",
       "      <td>1</td>\n",
       "      <td>0</td>\n",
       "      <td>0</td>\n",
       "      <td>0</td>\n",
       "    </tr>\n",
       "    <tr>\n",
       "      <td>2</td>\n",
       "      <td>11363</td>\n",
       "      <td>Parkway Diner</td>\n",
       "      <td>True</td>\n",
       "      <td>ChIJocNSKPmJwokRZgAKkD7B-xM</td>\n",
       "      <td>2.0</td>\n",
       "      <td>4.2</td>\n",
       "      <td>202</td>\n",
       "      <td>restaurant</td>\n",
       "      <td>11363</td>\n",
       "      <td>40.765914</td>\n",
       "      <td>-73.744611</td>\n",
       "      <td>Q784+95 New York</td>\n",
       "      <td>87G8Q784+95</td>\n",
       "      <td>0</td>\n",
       "      <td>0</td>\n",
       "      <td>0</td>\n",
       "      <td>0</td>\n",
       "      <td>0</td>\n",
       "      <td>0</td>\n",
       "      <td>0</td>\n",
       "      <td>0</td>\n",
       "      <td>0</td>\n",
       "      <td>0</td>\n",
       "      <td>0</td>\n",
       "      <td>0</td>\n",
       "      <td>0</td>\n",
       "      <td>0</td>\n",
       "      <td>0</td>\n",
       "      <td>0</td>\n",
       "      <td>1</td>\n",
       "      <td>0</td>\n",
       "      <td>0</td>\n",
       "      <td>1</td>\n",
       "      <td>0</td>\n",
       "      <td>0</td>\n",
       "      <td>0</td>\n",
       "      <td>0</td>\n",
       "      <td>0</td>\n",
       "      <td>0</td>\n",
       "      <td>0</td>\n",
       "      <td>0</td>\n",
       "      <td>0</td>\n",
       "      <td>0</td>\n",
       "      <td>0</td>\n",
       "      <td>0</td>\n",
       "      <td>0</td>\n",
       "      <td>0</td>\n",
       "      <td>0</td>\n",
       "      <td>0</td>\n",
       "      <td>0</td>\n",
       "      <td>0</td>\n",
       "      <td>0</td>\n",
       "      <td>0</td>\n",
       "      <td>0</td>\n",
       "      <td>0</td>\n",
       "      <td>0</td>\n",
       "      <td>1</td>\n",
       "      <td>0</td>\n",
       "      <td>1</td>\n",
       "      <td>0</td>\n",
       "      <td>0</td>\n",
       "      <td>0</td>\n",
       "      <td>0</td>\n",
       "      <td>0</td>\n",
       "      <td>0</td>\n",
       "      <td>0</td>\n",
       "      <td>0</td>\n",
       "      <td>0</td>\n",
       "    </tr>\n",
       "    <tr>\n",
       "      <td>3</td>\n",
       "      <td>10304</td>\n",
       "      <td>Bari's Pizza Pasta</td>\n",
       "      <td>True</td>\n",
       "      <td>ChIJrREOgghPwokR_Bn91VAQiHo</td>\n",
       "      <td>NaN</td>\n",
       "      <td>4.3</td>\n",
       "      <td>244</td>\n",
       "      <td>restaurant</td>\n",
       "      <td>10304</td>\n",
       "      <td>40.627262</td>\n",
       "      <td>-74.076232</td>\n",
       "      <td>JWGF+WG Staten Island, New York</td>\n",
       "      <td>87G7JWGF+WG</td>\n",
       "      <td>0</td>\n",
       "      <td>0</td>\n",
       "      <td>0</td>\n",
       "      <td>0</td>\n",
       "      <td>0</td>\n",
       "      <td>0</td>\n",
       "      <td>0</td>\n",
       "      <td>0</td>\n",
       "      <td>0</td>\n",
       "      <td>0</td>\n",
       "      <td>0</td>\n",
       "      <td>0</td>\n",
       "      <td>0</td>\n",
       "      <td>0</td>\n",
       "      <td>0</td>\n",
       "      <td>0</td>\n",
       "      <td>1</td>\n",
       "      <td>0</td>\n",
       "      <td>0</td>\n",
       "      <td>1</td>\n",
       "      <td>0</td>\n",
       "      <td>0</td>\n",
       "      <td>0</td>\n",
       "      <td>0</td>\n",
       "      <td>0</td>\n",
       "      <td>0</td>\n",
       "      <td>0</td>\n",
       "      <td>0</td>\n",
       "      <td>0</td>\n",
       "      <td>0</td>\n",
       "      <td>0</td>\n",
       "      <td>0</td>\n",
       "      <td>0</td>\n",
       "      <td>0</td>\n",
       "      <td>0</td>\n",
       "      <td>1</td>\n",
       "      <td>1</td>\n",
       "      <td>0</td>\n",
       "      <td>0</td>\n",
       "      <td>0</td>\n",
       "      <td>0</td>\n",
       "      <td>0</td>\n",
       "      <td>0</td>\n",
       "      <td>1</td>\n",
       "      <td>0</td>\n",
       "      <td>1</td>\n",
       "      <td>0</td>\n",
       "      <td>0</td>\n",
       "      <td>0</td>\n",
       "      <td>0</td>\n",
       "      <td>0</td>\n",
       "      <td>0</td>\n",
       "      <td>0</td>\n",
       "      <td>0</td>\n",
       "      <td>0</td>\n",
       "    </tr>\n",
       "    <tr>\n",
       "      <td>4</td>\n",
       "      <td>11214</td>\n",
       "      <td>La Chacra</td>\n",
       "      <td>True</td>\n",
       "      <td>ChIJXzpErQtFwokRLeybEWiCbNM</td>\n",
       "      <td>2.0</td>\n",
       "      <td>4.3</td>\n",
       "      <td>296</td>\n",
       "      <td>restaurant</td>\n",
       "      <td>11214</td>\n",
       "      <td>40.602106</td>\n",
       "      <td>-74.003078</td>\n",
       "      <td>JX2W+RQ Brooklyn, New York</td>\n",
       "      <td>87G7JX2W+RQ</td>\n",
       "      <td>0</td>\n",
       "      <td>0</td>\n",
       "      <td>0</td>\n",
       "      <td>0</td>\n",
       "      <td>0</td>\n",
       "      <td>0</td>\n",
       "      <td>0</td>\n",
       "      <td>0</td>\n",
       "      <td>0</td>\n",
       "      <td>0</td>\n",
       "      <td>0</td>\n",
       "      <td>0</td>\n",
       "      <td>0</td>\n",
       "      <td>0</td>\n",
       "      <td>0</td>\n",
       "      <td>0</td>\n",
       "      <td>1</td>\n",
       "      <td>0</td>\n",
       "      <td>0</td>\n",
       "      <td>1</td>\n",
       "      <td>0</td>\n",
       "      <td>0</td>\n",
       "      <td>0</td>\n",
       "      <td>0</td>\n",
       "      <td>0</td>\n",
       "      <td>0</td>\n",
       "      <td>0</td>\n",
       "      <td>0</td>\n",
       "      <td>0</td>\n",
       "      <td>0</td>\n",
       "      <td>0</td>\n",
       "      <td>0</td>\n",
       "      <td>0</td>\n",
       "      <td>0</td>\n",
       "      <td>0</td>\n",
       "      <td>0</td>\n",
       "      <td>0</td>\n",
       "      <td>0</td>\n",
       "      <td>0</td>\n",
       "      <td>0</td>\n",
       "      <td>0</td>\n",
       "      <td>0</td>\n",
       "      <td>0</td>\n",
       "      <td>1</td>\n",
       "      <td>0</td>\n",
       "      <td>1</td>\n",
       "      <td>0</td>\n",
       "      <td>0</td>\n",
       "      <td>0</td>\n",
       "      <td>0</td>\n",
       "      <td>0</td>\n",
       "      <td>0</td>\n",
       "      <td>0</td>\n",
       "      <td>0</td>\n",
       "      <td>0</td>\n",
       "    </tr>\n",
       "  </tbody>\n",
       "</table>\n",
       "</div>"
      ],
      "text/plain": [
       "   zipcode                name open_now                     place_id  \\\n",
       "0    10031     Sugar Hill Cafe     True  ChIJTdM-m3z2wokR6xZB62deoYY   \n",
       "1    10463       Buunni Coffee    False  ChIJUwMBqb7zwokRTmJ13EWbS9M   \n",
       "2    11363       Parkway Diner     True  ChIJocNSKPmJwokRZgAKkD7B-xM   \n",
       "3    10304  Bari's Pizza Pasta     True  ChIJrREOgghPwokR_Bn91VAQiHo   \n",
       "4    11214           La Chacra     True  ChIJXzpErQtFwokRLeybEWiCbNM   \n",
       "\n",
       "   price_level  rating  user_ratings_total searched_keyword  searched_zipcode  \\\n",
       "0          NaN     4.5                 362     coffee shops             10030   \n",
       "1          NaN     4.5                  76     coffee shops             10463   \n",
       "2          2.0     4.2                 202       restaurant             11363   \n",
       "3          NaN     4.3                 244       restaurant             10304   \n",
       "4          2.0     4.3                 296       restaurant             11214   \n",
       "\n",
       "   location_lat  location_lng                    compound_code  global_code  \\\n",
       "0     40.824202    -73.945600                 R3F3+MQ New York  87G8R3F3+MQ   \n",
       "1     40.886812    -73.906868      V3PV+P7 The Bronx, New York  87G8V3PV+P7   \n",
       "2     40.765914    -73.744611                 Q784+95 New York  87G8Q784+95   \n",
       "3     40.627262    -74.076232  JWGF+WG Staten Island, New York  87G7JWGF+WG   \n",
       "4     40.602106    -74.003078       JX2W+RQ Brooklyn, New York  87G7JX2W+RQ   \n",
       "\n",
       "   art_gallery  atm  bakery  bar  beauty_salon  bicycle_store  book_store  \\\n",
       "0            0    0       0    0             0              0           0   \n",
       "1            0    0       0    0             0              0           0   \n",
       "2            0    0       0    0             0              0           0   \n",
       "3            0    0       0    0             0              0           0   \n",
       "4            0    0       0    0             0              0           0   \n",
       "\n",
       "   cafe  car_dealer  car_repair  car_wash  clothing_store  convenience_store  \\\n",
       "0     1           0           0         0               0                  0   \n",
       "1     1           0           0         0               0                  0   \n",
       "2     0           0           0         0               0                  0   \n",
       "3     0           0           0         0               0                  0   \n",
       "4     0           0           0         0               0                  0   \n",
       "\n",
       "   department_store  drugstore  electronics_store  establishment  finance  \\\n",
       "0                 0          0                  0              1        0   \n",
       "1                 0          0                  0              1        0   \n",
       "2                 0          0                  0              1        0   \n",
       "3                 0          0                  0              1        0   \n",
       "4                 0          0                  0              1        0   \n",
       "\n",
       "   florist  food  funeral_home  furniture_store  gas_station  \\\n",
       "0        0     1             0                0            0   \n",
       "1        0     1             0                0            0   \n",
       "2        0     1             0                0            0   \n",
       "3        0     1             0                0            0   \n",
       "4        0     1             0                0            0   \n",
       "\n",
       "   general_contractor  grocery_or_supermarket  hair_care  hardware_store  \\\n",
       "0                   0                       0          0               0   \n",
       "1                   0                       0          0               0   \n",
       "2                   0                       0          0               0   \n",
       "3                   0                       0          0               0   \n",
       "4                   0                       0          0               0   \n",
       "\n",
       "   health  home_goods_store  jewelry_store  laundry  liquor_store  \\\n",
       "0       0                 0              0        0             0   \n",
       "1       0                 0              0        0             0   \n",
       "2       0                 0              0        0             0   \n",
       "3       0                 0              0        0             0   \n",
       "4       0                 0              0        0             0   \n",
       "\n",
       "   local_government_office  locksmith  lodging  meal_delivery  meal_takeaway  \\\n",
       "0                        0          0        0              0              0   \n",
       "1                        0          0        0              0              0   \n",
       "2                        0          0        0              0              0   \n",
       "3                        0          0        0              1              1   \n",
       "4                        0          0        0              0              0   \n",
       "\n",
       "   movie_rental  night_club  park  parking  pet_store  pharmacy  \\\n",
       "0             0           0     0        0          0         0   \n",
       "1             0           0     0        0          0         0   \n",
       "2             0           0     0        0          0         0   \n",
       "3             0           0     0        0          0         0   \n",
       "4             0           0     0        0          0         0   \n",
       "\n",
       "   point_of_interest  premise  restaurant  school  shoe_store  shopping_mall  \\\n",
       "0                  1        0           1       0           0              0   \n",
       "1                  1        0           0       0           0              0   \n",
       "2                  1        0           1       0           0              0   \n",
       "3                  1        0           1       0           0              0   \n",
       "4                  1        0           1       0           0              0   \n",
       "\n",
       "   spa  storage  store  supermarket  tourist_attraction  travel_agency  \n",
       "0    0        0      1            0                   0              0  \n",
       "1    0        0      1            0                   0              0  \n",
       "2    0        0      0            0                   0              0  \n",
       "3    0        0      0            0                   0              0  \n",
       "4    0        0      0            0                   0              0  "
      ]
     },
     "execution_count": 5,
     "metadata": {},
     "output_type": "execute_result"
    }
   ],
   "source": [
    "google.head()"
   ]
  },
  {
   "cell_type": "code",
   "execution_count": 6,
   "metadata": {},
   "outputs": [
    {
     "data": {
      "text/html": [
       "<div>\n",
       "<style scoped>\n",
       "    .dataframe tbody tr th:only-of-type {\n",
       "        vertical-align: middle;\n",
       "    }\n",
       "\n",
       "    .dataframe tbody tr th {\n",
       "        vertical-align: top;\n",
       "    }\n",
       "\n",
       "    .dataframe thead th {\n",
       "        text-align: right;\n",
       "    }\n",
       "</style>\n",
       "<table border=\"1\" class=\"dataframe\">\n",
       "  <thead>\n",
       "    <tr style=\"text-align: right;\">\n",
       "      <th></th>\n",
       "      <th>zipcode</th>\n",
       "      <th>population</th>\n",
       "      <th>population_density_square_miles</th>\n",
       "      <th>housing_units</th>\n",
       "      <th>home_price_to_income_ratios</th>\n",
       "    </tr>\n",
       "  </thead>\n",
       "  <tbody>\n",
       "    <tr>\n",
       "      <td>0</td>\n",
       "      <td>10001</td>\n",
       "      <td>22924</td>\n",
       "      <td>37306.6</td>\n",
       "      <td>14141</td>\n",
       "      <td>3.879086</td>\n",
       "    </tr>\n",
       "    <tr>\n",
       "      <td>1</td>\n",
       "      <td>10002</td>\n",
       "      <td>74993</td>\n",
       "      <td>85369.8</td>\n",
       "      <td>35724</td>\n",
       "      <td>18.550434</td>\n",
       "    </tr>\n",
       "    <tr>\n",
       "      <td>2</td>\n",
       "      <td>10003</td>\n",
       "      <td>54682</td>\n",
       "      <td>94859.6</td>\n",
       "      <td>30876</td>\n",
       "      <td>8.928842</td>\n",
       "    </tr>\n",
       "    <tr>\n",
       "      <td>3</td>\n",
       "      <td>10004</td>\n",
       "      <td>3028</td>\n",
       "      <td>5622.9</td>\n",
       "      <td>2139</td>\n",
       "      <td>10.406927</td>\n",
       "    </tr>\n",
       "    <tr>\n",
       "      <td>4</td>\n",
       "      <td>10005</td>\n",
       "      <td>8831</td>\n",
       "      <td>121496.4</td>\n",
       "      <td>5585</td>\n",
       "      <td>8.165785</td>\n",
       "    </tr>\n",
       "  </tbody>\n",
       "</table>\n",
       "</div>"
      ],
      "text/plain": [
       "   zipcode  population  population_density_square_miles  housing_units  \\\n",
       "0    10001       22924                          37306.6          14141   \n",
       "1    10002       74993                          85369.8          35724   \n",
       "2    10003       54682                          94859.6          30876   \n",
       "3    10004        3028                           5622.9           2139   \n",
       "4    10005        8831                         121496.4           5585   \n",
       "\n",
       "   home_price_to_income_ratios  \n",
       "0                     3.879086  \n",
       "1                    18.550434  \n",
       "2                     8.928842  \n",
       "3                    10.406927  \n",
       "4                     8.165785  "
      ]
     },
     "execution_count": 6,
     "metadata": {},
     "output_type": "execute_result"
    }
   ],
   "source": [
    "income.head()"
   ]
  },
  {
   "cell_type": "markdown",
   "metadata": {},
   "source": [
    "## Merge Goolge dataset with Income dataset"
   ]
  },
  {
   "cell_type": "markdown",
   "metadata": {},
   "source": [
    "Note that 'inner' is used here for the merge. If any zipcode that doesn't exist in Google but in Income will be dropped and vice verse."
   ]
  },
  {
   "cell_type": "code",
   "execution_count": 7,
   "metadata": {},
   "outputs": [],
   "source": [
    "df = pd.merge(google, income, how='inner', left_on='zipcode', right_on='zipcode')"
   ]
  },
  {
   "cell_type": "code",
   "execution_count": 8,
   "metadata": {},
   "outputs": [
    {
     "data": {
      "text/plain": [
       "(8166, 72)"
      ]
     },
     "execution_count": 8,
     "metadata": {},
     "output_type": "execute_result"
    }
   ],
   "source": [
    "df.shape"
   ]
  },
  {
   "cell_type": "code",
   "execution_count": 9,
   "metadata": {
    "scrolled": false
   },
   "outputs": [
    {
     "data": {
      "text/html": [
       "<div>\n",
       "<style scoped>\n",
       "    .dataframe tbody tr th:only-of-type {\n",
       "        vertical-align: middle;\n",
       "    }\n",
       "\n",
       "    .dataframe tbody tr th {\n",
       "        vertical-align: top;\n",
       "    }\n",
       "\n",
       "    .dataframe thead th {\n",
       "        text-align: right;\n",
       "    }\n",
       "</style>\n",
       "<table border=\"1\" class=\"dataframe\">\n",
       "  <thead>\n",
       "    <tr style=\"text-align: right;\">\n",
       "      <th></th>\n",
       "      <th>zipcode</th>\n",
       "      <th>name</th>\n",
       "      <th>open_now</th>\n",
       "      <th>place_id</th>\n",
       "      <th>price_level</th>\n",
       "      <th>rating</th>\n",
       "      <th>user_ratings_total</th>\n",
       "      <th>searched_keyword</th>\n",
       "      <th>searched_zipcode</th>\n",
       "      <th>location_lat</th>\n",
       "      <th>location_lng</th>\n",
       "      <th>compound_code</th>\n",
       "      <th>global_code</th>\n",
       "      <th>art_gallery</th>\n",
       "      <th>atm</th>\n",
       "      <th>bakery</th>\n",
       "      <th>bar</th>\n",
       "      <th>beauty_salon</th>\n",
       "      <th>bicycle_store</th>\n",
       "      <th>book_store</th>\n",
       "      <th>cafe</th>\n",
       "      <th>car_dealer</th>\n",
       "      <th>car_repair</th>\n",
       "      <th>car_wash</th>\n",
       "      <th>clothing_store</th>\n",
       "      <th>convenience_store</th>\n",
       "      <th>department_store</th>\n",
       "      <th>drugstore</th>\n",
       "      <th>electronics_store</th>\n",
       "      <th>establishment</th>\n",
       "      <th>finance</th>\n",
       "      <th>florist</th>\n",
       "      <th>food</th>\n",
       "      <th>funeral_home</th>\n",
       "      <th>furniture_store</th>\n",
       "      <th>gas_station</th>\n",
       "      <th>general_contractor</th>\n",
       "      <th>grocery_or_supermarket</th>\n",
       "      <th>hair_care</th>\n",
       "      <th>hardware_store</th>\n",
       "      <th>health</th>\n",
       "      <th>home_goods_store</th>\n",
       "      <th>jewelry_store</th>\n",
       "      <th>laundry</th>\n",
       "      <th>liquor_store</th>\n",
       "      <th>local_government_office</th>\n",
       "      <th>locksmith</th>\n",
       "      <th>lodging</th>\n",
       "      <th>meal_delivery</th>\n",
       "      <th>meal_takeaway</th>\n",
       "      <th>movie_rental</th>\n",
       "      <th>night_club</th>\n",
       "      <th>park</th>\n",
       "      <th>parking</th>\n",
       "      <th>pet_store</th>\n",
       "      <th>pharmacy</th>\n",
       "      <th>point_of_interest</th>\n",
       "      <th>premise</th>\n",
       "      <th>restaurant</th>\n",
       "      <th>school</th>\n",
       "      <th>shoe_store</th>\n",
       "      <th>shopping_mall</th>\n",
       "      <th>spa</th>\n",
       "      <th>storage</th>\n",
       "      <th>store</th>\n",
       "      <th>supermarket</th>\n",
       "      <th>tourist_attraction</th>\n",
       "      <th>travel_agency</th>\n",
       "      <th>population</th>\n",
       "      <th>population_density_square_miles</th>\n",
       "      <th>housing_units</th>\n",
       "      <th>home_price_to_income_ratios</th>\n",
       "    </tr>\n",
       "  </thead>\n",
       "  <tbody>\n",
       "    <tr>\n",
       "      <td>0</td>\n",
       "      <td>10031</td>\n",
       "      <td>Sugar Hill Cafe</td>\n",
       "      <td>True</td>\n",
       "      <td>ChIJTdM-m3z2wokR6xZB62deoYY</td>\n",
       "      <td>NaN</td>\n",
       "      <td>4.5</td>\n",
       "      <td>362</td>\n",
       "      <td>coffee shops</td>\n",
       "      <td>10030</td>\n",
       "      <td>40.824202</td>\n",
       "      <td>-73.945600</td>\n",
       "      <td>R3F3+MQ New York</td>\n",
       "      <td>87G8R3F3+MQ</td>\n",
       "      <td>0</td>\n",
       "      <td>0</td>\n",
       "      <td>0</td>\n",
       "      <td>0</td>\n",
       "      <td>0</td>\n",
       "      <td>0</td>\n",
       "      <td>0</td>\n",
       "      <td>1</td>\n",
       "      <td>0</td>\n",
       "      <td>0</td>\n",
       "      <td>0</td>\n",
       "      <td>0</td>\n",
       "      <td>0</td>\n",
       "      <td>0</td>\n",
       "      <td>0</td>\n",
       "      <td>0</td>\n",
       "      <td>1</td>\n",
       "      <td>0</td>\n",
       "      <td>0</td>\n",
       "      <td>1</td>\n",
       "      <td>0</td>\n",
       "      <td>0</td>\n",
       "      <td>0</td>\n",
       "      <td>0</td>\n",
       "      <td>0</td>\n",
       "      <td>0</td>\n",
       "      <td>0</td>\n",
       "      <td>0</td>\n",
       "      <td>0</td>\n",
       "      <td>0</td>\n",
       "      <td>0</td>\n",
       "      <td>0</td>\n",
       "      <td>0</td>\n",
       "      <td>0</td>\n",
       "      <td>0</td>\n",
       "      <td>0</td>\n",
       "      <td>0</td>\n",
       "      <td>0</td>\n",
       "      <td>0</td>\n",
       "      <td>0</td>\n",
       "      <td>0</td>\n",
       "      <td>0</td>\n",
       "      <td>0</td>\n",
       "      <td>1</td>\n",
       "      <td>0</td>\n",
       "      <td>1</td>\n",
       "      <td>0</td>\n",
       "      <td>0</td>\n",
       "      <td>0</td>\n",
       "      <td>0</td>\n",
       "      <td>0</td>\n",
       "      <td>1</td>\n",
       "      <td>0</td>\n",
       "      <td>0</td>\n",
       "      <td>0</td>\n",
       "      <td>60254</td>\n",
       "      <td>92805.8</td>\n",
       "      <td>23802</td>\n",
       "      <td>8.358221</td>\n",
       "    </tr>\n",
       "    <tr>\n",
       "      <td>1</td>\n",
       "      <td>10031</td>\n",
       "      <td>Pet Ark Inc</td>\n",
       "      <td>True</td>\n",
       "      <td>ChIJy4ahbGT2wokRyfIagpfOE0Y</td>\n",
       "      <td>NaN</td>\n",
       "      <td>4.4</td>\n",
       "      <td>93</td>\n",
       "      <td>stores</td>\n",
       "      <td>10031</td>\n",
       "      <td>40.823917</td>\n",
       "      <td>-73.951950</td>\n",
       "      <td>R2FX+H6 New York</td>\n",
       "      <td>87G8R2FX+H6</td>\n",
       "      <td>0</td>\n",
       "      <td>0</td>\n",
       "      <td>0</td>\n",
       "      <td>0</td>\n",
       "      <td>0</td>\n",
       "      <td>0</td>\n",
       "      <td>0</td>\n",
       "      <td>0</td>\n",
       "      <td>0</td>\n",
       "      <td>0</td>\n",
       "      <td>0</td>\n",
       "      <td>0</td>\n",
       "      <td>0</td>\n",
       "      <td>0</td>\n",
       "      <td>0</td>\n",
       "      <td>0</td>\n",
       "      <td>1</td>\n",
       "      <td>0</td>\n",
       "      <td>0</td>\n",
       "      <td>0</td>\n",
       "      <td>0</td>\n",
       "      <td>0</td>\n",
       "      <td>0</td>\n",
       "      <td>0</td>\n",
       "      <td>0</td>\n",
       "      <td>0</td>\n",
       "      <td>0</td>\n",
       "      <td>0</td>\n",
       "      <td>0</td>\n",
       "      <td>0</td>\n",
       "      <td>0</td>\n",
       "      <td>0</td>\n",
       "      <td>0</td>\n",
       "      <td>0</td>\n",
       "      <td>0</td>\n",
       "      <td>0</td>\n",
       "      <td>0</td>\n",
       "      <td>0</td>\n",
       "      <td>0</td>\n",
       "      <td>0</td>\n",
       "      <td>0</td>\n",
       "      <td>0</td>\n",
       "      <td>0</td>\n",
       "      <td>1</td>\n",
       "      <td>0</td>\n",
       "      <td>0</td>\n",
       "      <td>0</td>\n",
       "      <td>0</td>\n",
       "      <td>0</td>\n",
       "      <td>0</td>\n",
       "      <td>0</td>\n",
       "      <td>1</td>\n",
       "      <td>0</td>\n",
       "      <td>0</td>\n",
       "      <td>0</td>\n",
       "      <td>60254</td>\n",
       "      <td>92805.8</td>\n",
       "      <td>23802</td>\n",
       "      <td>8.358221</td>\n",
       "    </tr>\n",
       "    <tr>\n",
       "      <td>2</td>\n",
       "      <td>10031</td>\n",
       "      <td>Grill on the Hill</td>\n",
       "      <td>True</td>\n",
       "      <td>ChIJheSk_GT2wokR-MLgSDMoiAk</td>\n",
       "      <td>2.0</td>\n",
       "      <td>4.1</td>\n",
       "      <td>385</td>\n",
       "      <td>restaurant</td>\n",
       "      <td>10031</td>\n",
       "      <td>40.822315</td>\n",
       "      <td>-73.950147</td>\n",
       "      <td>R2CX+WW New York</td>\n",
       "      <td>87G8R2CX+WW</td>\n",
       "      <td>0</td>\n",
       "      <td>0</td>\n",
       "      <td>0</td>\n",
       "      <td>1</td>\n",
       "      <td>0</td>\n",
       "      <td>0</td>\n",
       "      <td>0</td>\n",
       "      <td>0</td>\n",
       "      <td>0</td>\n",
       "      <td>0</td>\n",
       "      <td>0</td>\n",
       "      <td>0</td>\n",
       "      <td>0</td>\n",
       "      <td>0</td>\n",
       "      <td>0</td>\n",
       "      <td>0</td>\n",
       "      <td>1</td>\n",
       "      <td>0</td>\n",
       "      <td>0</td>\n",
       "      <td>1</td>\n",
       "      <td>0</td>\n",
       "      <td>0</td>\n",
       "      <td>0</td>\n",
       "      <td>0</td>\n",
       "      <td>0</td>\n",
       "      <td>0</td>\n",
       "      <td>0</td>\n",
       "      <td>0</td>\n",
       "      <td>0</td>\n",
       "      <td>0</td>\n",
       "      <td>0</td>\n",
       "      <td>0</td>\n",
       "      <td>0</td>\n",
       "      <td>0</td>\n",
       "      <td>0</td>\n",
       "      <td>0</td>\n",
       "      <td>0</td>\n",
       "      <td>0</td>\n",
       "      <td>0</td>\n",
       "      <td>0</td>\n",
       "      <td>0</td>\n",
       "      <td>0</td>\n",
       "      <td>0</td>\n",
       "      <td>1</td>\n",
       "      <td>0</td>\n",
       "      <td>1</td>\n",
       "      <td>0</td>\n",
       "      <td>0</td>\n",
       "      <td>0</td>\n",
       "      <td>0</td>\n",
       "      <td>0</td>\n",
       "      <td>0</td>\n",
       "      <td>0</td>\n",
       "      <td>0</td>\n",
       "      <td>0</td>\n",
       "      <td>60254</td>\n",
       "      <td>92805.8</td>\n",
       "      <td>23802</td>\n",
       "      <td>8.358221</td>\n",
       "    </tr>\n",
       "    <tr>\n",
       "      <td>3</td>\n",
       "      <td>10031</td>\n",
       "      <td>Foodtown of St. Nicholas Ave</td>\n",
       "      <td>True</td>\n",
       "      <td>ChIJAevUyn32wokRkzP0mEI6lIo</td>\n",
       "      <td>NaN</td>\n",
       "      <td>4.1</td>\n",
       "      <td>756</td>\n",
       "      <td>stores</td>\n",
       "      <td>10031</td>\n",
       "      <td>40.825960</td>\n",
       "      <td>-73.943139</td>\n",
       "      <td>R3G4+9P New York</td>\n",
       "      <td>87G8R3G4+9P</td>\n",
       "      <td>0</td>\n",
       "      <td>0</td>\n",
       "      <td>0</td>\n",
       "      <td>0</td>\n",
       "      <td>0</td>\n",
       "      <td>0</td>\n",
       "      <td>0</td>\n",
       "      <td>0</td>\n",
       "      <td>0</td>\n",
       "      <td>0</td>\n",
       "      <td>0</td>\n",
       "      <td>0</td>\n",
       "      <td>0</td>\n",
       "      <td>0</td>\n",
       "      <td>0</td>\n",
       "      <td>0</td>\n",
       "      <td>1</td>\n",
       "      <td>0</td>\n",
       "      <td>1</td>\n",
       "      <td>1</td>\n",
       "      <td>0</td>\n",
       "      <td>0</td>\n",
       "      <td>0</td>\n",
       "      <td>0</td>\n",
       "      <td>1</td>\n",
       "      <td>0</td>\n",
       "      <td>0</td>\n",
       "      <td>0</td>\n",
       "      <td>0</td>\n",
       "      <td>0</td>\n",
       "      <td>0</td>\n",
       "      <td>0</td>\n",
       "      <td>0</td>\n",
       "      <td>0</td>\n",
       "      <td>0</td>\n",
       "      <td>0</td>\n",
       "      <td>0</td>\n",
       "      <td>0</td>\n",
       "      <td>0</td>\n",
       "      <td>0</td>\n",
       "      <td>0</td>\n",
       "      <td>0</td>\n",
       "      <td>0</td>\n",
       "      <td>1</td>\n",
       "      <td>0</td>\n",
       "      <td>0</td>\n",
       "      <td>0</td>\n",
       "      <td>0</td>\n",
       "      <td>0</td>\n",
       "      <td>0</td>\n",
       "      <td>0</td>\n",
       "      <td>1</td>\n",
       "      <td>1</td>\n",
       "      <td>0</td>\n",
       "      <td>0</td>\n",
       "      <td>60254</td>\n",
       "      <td>92805.8</td>\n",
       "      <td>23802</td>\n",
       "      <td>8.358221</td>\n",
       "    </tr>\n",
       "    <tr>\n",
       "      <td>4</td>\n",
       "      <td>10031</td>\n",
       "      <td>Hamilton's Cafe Restaurant</td>\n",
       "      <td>False</td>\n",
       "      <td>ChIJfeGy52L2wokRzh1E8y2l2MU</td>\n",
       "      <td>2.0</td>\n",
       "      <td>4.2</td>\n",
       "      <td>294</td>\n",
       "      <td>coffee shops</td>\n",
       "      <td>10031</td>\n",
       "      <td>40.827344</td>\n",
       "      <td>-73.949401</td>\n",
       "      <td>R3G2+W6 New York</td>\n",
       "      <td>87G8R3G2+W6</td>\n",
       "      <td>0</td>\n",
       "      <td>0</td>\n",
       "      <td>0</td>\n",
       "      <td>0</td>\n",
       "      <td>0</td>\n",
       "      <td>0</td>\n",
       "      <td>0</td>\n",
       "      <td>1</td>\n",
       "      <td>0</td>\n",
       "      <td>0</td>\n",
       "      <td>0</td>\n",
       "      <td>0</td>\n",
       "      <td>0</td>\n",
       "      <td>0</td>\n",
       "      <td>0</td>\n",
       "      <td>0</td>\n",
       "      <td>1</td>\n",
       "      <td>0</td>\n",
       "      <td>0</td>\n",
       "      <td>1</td>\n",
       "      <td>0</td>\n",
       "      <td>0</td>\n",
       "      <td>0</td>\n",
       "      <td>0</td>\n",
       "      <td>0</td>\n",
       "      <td>0</td>\n",
       "      <td>0</td>\n",
       "      <td>0</td>\n",
       "      <td>0</td>\n",
       "      <td>0</td>\n",
       "      <td>0</td>\n",
       "      <td>0</td>\n",
       "      <td>0</td>\n",
       "      <td>0</td>\n",
       "      <td>0</td>\n",
       "      <td>0</td>\n",
       "      <td>0</td>\n",
       "      <td>0</td>\n",
       "      <td>0</td>\n",
       "      <td>0</td>\n",
       "      <td>0</td>\n",
       "      <td>0</td>\n",
       "      <td>0</td>\n",
       "      <td>1</td>\n",
       "      <td>0</td>\n",
       "      <td>1</td>\n",
       "      <td>0</td>\n",
       "      <td>0</td>\n",
       "      <td>0</td>\n",
       "      <td>0</td>\n",
       "      <td>0</td>\n",
       "      <td>1</td>\n",
       "      <td>0</td>\n",
       "      <td>0</td>\n",
       "      <td>0</td>\n",
       "      <td>60254</td>\n",
       "      <td>92805.8</td>\n",
       "      <td>23802</td>\n",
       "      <td>8.358221</td>\n",
       "    </tr>\n",
       "  </tbody>\n",
       "</table>\n",
       "</div>"
      ],
      "text/plain": [
       "   zipcode                          name open_now  \\\n",
       "0    10031               Sugar Hill Cafe     True   \n",
       "1    10031                   Pet Ark Inc     True   \n",
       "2    10031             Grill on the Hill     True   \n",
       "3    10031  Foodtown of St. Nicholas Ave     True   \n",
       "4    10031    Hamilton's Cafe Restaurant    False   \n",
       "\n",
       "                      place_id  price_level  rating  user_ratings_total  \\\n",
       "0  ChIJTdM-m3z2wokR6xZB62deoYY          NaN     4.5                 362   \n",
       "1  ChIJy4ahbGT2wokRyfIagpfOE0Y          NaN     4.4                  93   \n",
       "2  ChIJheSk_GT2wokR-MLgSDMoiAk          2.0     4.1                 385   \n",
       "3  ChIJAevUyn32wokRkzP0mEI6lIo          NaN     4.1                 756   \n",
       "4  ChIJfeGy52L2wokRzh1E8y2l2MU          2.0     4.2                 294   \n",
       "\n",
       "  searched_keyword  searched_zipcode  location_lat  location_lng  \\\n",
       "0     coffee shops             10030     40.824202    -73.945600   \n",
       "1           stores             10031     40.823917    -73.951950   \n",
       "2       restaurant             10031     40.822315    -73.950147   \n",
       "3           stores             10031     40.825960    -73.943139   \n",
       "4     coffee shops             10031     40.827344    -73.949401   \n",
       "\n",
       "      compound_code  global_code  art_gallery  atm  bakery  bar  beauty_salon  \\\n",
       "0  R3F3+MQ New York  87G8R3F3+MQ            0    0       0    0             0   \n",
       "1  R2FX+H6 New York  87G8R2FX+H6            0    0       0    0             0   \n",
       "2  R2CX+WW New York  87G8R2CX+WW            0    0       0    1             0   \n",
       "3  R3G4+9P New York  87G8R3G4+9P            0    0       0    0             0   \n",
       "4  R3G2+W6 New York  87G8R3G2+W6            0    0       0    0             0   \n",
       "\n",
       "   bicycle_store  book_store  cafe  car_dealer  car_repair  car_wash  \\\n",
       "0              0           0     1           0           0         0   \n",
       "1              0           0     0           0           0         0   \n",
       "2              0           0     0           0           0         0   \n",
       "3              0           0     0           0           0         0   \n",
       "4              0           0     1           0           0         0   \n",
       "\n",
       "   clothing_store  convenience_store  department_store  drugstore  \\\n",
       "0               0                  0                 0          0   \n",
       "1               0                  0                 0          0   \n",
       "2               0                  0                 0          0   \n",
       "3               0                  0                 0          0   \n",
       "4               0                  0                 0          0   \n",
       "\n",
       "   electronics_store  establishment  finance  florist  food  funeral_home  \\\n",
       "0                  0              1        0        0     1             0   \n",
       "1                  0              1        0        0     0             0   \n",
       "2                  0              1        0        0     1             0   \n",
       "3                  0              1        0        1     1             0   \n",
       "4                  0              1        0        0     1             0   \n",
       "\n",
       "   furniture_store  gas_station  general_contractor  grocery_or_supermarket  \\\n",
       "0                0            0                   0                       0   \n",
       "1                0            0                   0                       0   \n",
       "2                0            0                   0                       0   \n",
       "3                0            0                   0                       1   \n",
       "4                0            0                   0                       0   \n",
       "\n",
       "   hair_care  hardware_store  health  home_goods_store  jewelry_store  \\\n",
       "0          0               0       0                 0              0   \n",
       "1          0               0       0                 0              0   \n",
       "2          0               0       0                 0              0   \n",
       "3          0               0       0                 0              0   \n",
       "4          0               0       0                 0              0   \n",
       "\n",
       "   laundry  liquor_store  local_government_office  locksmith  lodging  \\\n",
       "0        0             0                        0          0        0   \n",
       "1        0             0                        0          0        0   \n",
       "2        0             0                        0          0        0   \n",
       "3        0             0                        0          0        0   \n",
       "4        0             0                        0          0        0   \n",
       "\n",
       "   meal_delivery  meal_takeaway  movie_rental  night_club  park  parking  \\\n",
       "0              0              0             0           0     0        0   \n",
       "1              0              0             0           0     0        0   \n",
       "2              0              0             0           0     0        0   \n",
       "3              0              0             0           0     0        0   \n",
       "4              0              0             0           0     0        0   \n",
       "\n",
       "   pet_store  pharmacy  point_of_interest  premise  restaurant  school  \\\n",
       "0          0         0                  1        0           1       0   \n",
       "1          0         0                  1        0           0       0   \n",
       "2          0         0                  1        0           1       0   \n",
       "3          0         0                  1        0           0       0   \n",
       "4          0         0                  1        0           1       0   \n",
       "\n",
       "   shoe_store  shopping_mall  spa  storage  store  supermarket  \\\n",
       "0           0              0    0        0      1            0   \n",
       "1           0              0    0        0      1            0   \n",
       "2           0              0    0        0      0            0   \n",
       "3           0              0    0        0      1            1   \n",
       "4           0              0    0        0      1            0   \n",
       "\n",
       "   tourist_attraction  travel_agency  population  \\\n",
       "0                   0              0       60254   \n",
       "1                   0              0       60254   \n",
       "2                   0              0       60254   \n",
       "3                   0              0       60254   \n",
       "4                   0              0       60254   \n",
       "\n",
       "   population_density_square_miles  housing_units  home_price_to_income_ratios  \n",
       "0                          92805.8          23802                     8.358221  \n",
       "1                          92805.8          23802                     8.358221  \n",
       "2                          92805.8          23802                     8.358221  \n",
       "3                          92805.8          23802                     8.358221  \n",
       "4                          92805.8          23802                     8.358221  "
      ]
     },
     "execution_count": 9,
     "metadata": {},
     "output_type": "execute_result"
    }
   ],
   "source": [
    "df.head()"
   ]
  },
  {
   "cell_type": "markdown",
   "metadata": {},
   "source": [
    "## Shuffle the dataset\n",
    "Shuffling the dataset is crucial; otherwise it would be problematic during the cross validation process, since Sklearn's cross validation does not shuffle the dataset."
   ]
  },
  {
   "cell_type": "code",
   "execution_count": 10,
   "metadata": {},
   "outputs": [],
   "source": [
    "index = df.index\n",
    "df = shuffle(df)\n",
    "df.index = index"
   ]
  },
  {
   "cell_type": "markdown",
   "metadata": {},
   "source": [
    "## Feature Engineering"
   ]
  },
  {
   "cell_type": "markdown",
   "metadata": {},
   "source": [
    "### Create interaction column using Google dataset"
   ]
  },
  {
   "cell_type": "code",
   "execution_count": 11,
   "metadata": {},
   "outputs": [],
   "source": [
    "df['price_level*rating'] = df['price_level'] * df['rating']"
   ]
  },
  {
   "cell_type": "markdown",
   "metadata": {},
   "source": [
    "### Create aggregated features for each zip code\n",
    "[Reference](https://towardsdatascience.com/automated-feature-engineering-in-python-99baf11cc219)"
   ]
  },
  {
   "cell_type": "code",
   "execution_count": 12,
   "metadata": {},
   "outputs": [],
   "source": [
    "# Create column 'avg_price_level_by_zipcode', which calculate the avg price level for each zipcode\n",
    "df['avg_price_level_by_zipcode'] = [df.groupby('zipcode')['price_level'].mean()[zipcode] \n",
    "                                    for zipcode in df['zipcode']]"
   ]
  },
  {
   "cell_type": "code",
   "execution_count": 13,
   "metadata": {},
   "outputs": [],
   "source": [
    "# Avarage rating by zipcode\n",
    "df['avg_rating_by_zipcode'] = [df.groupby('zipcode')['rating'].mean()[zipcode] \n",
    "                               for zipcode in df['zipcode']]"
   ]
  },
  {
   "cell_type": "code",
   "execution_count": 14,
   "metadata": {},
   "outputs": [],
   "source": [
    "# Avarage rating_count by zipcode\n",
    "df['avg_user_ratings_total_by_zipcode'] = [df.groupby('zipcode')['user_ratings_total'].mean()[zipcode] \n",
    "                                           for zipcode in df['zipcode']]"
   ]
  },
  {
   "cell_type": "code",
   "execution_count": 15,
   "metadata": {},
   "outputs": [],
   "source": [
    "# Total number of bars by zipcode. \n",
    "# Limitation: this approach has limiattion since our dataset is merely a sample of the businesses for each zipcode.\n",
    "df['total_number_of_bars_by_zipcode'] = [df.groupby('zipcode')['bar'].sum()[zipcode] \n",
    "                                         for zipcode in df['zipcode']]\n"
   ]
  },
  {
   "cell_type": "code",
   "execution_count": 16,
   "metadata": {},
   "outputs": [],
   "source": [
    "# Total number of cafe by zipcode. \n",
    "# Limitation: this approach has limiattion since our dataset is merely a sample of the businesses for each zipcode.\n",
    "df['total_number_of_cafes_by_zipcode'] = [df.groupby('zipcode')['cafe'].sum()[zipcode] \n",
    "                                          for zipcode in df['zipcode']]"
   ]
  },
  {
   "cell_type": "markdown",
   "metadata": {},
   "source": [
    "### Create transformation columns using demographic information from 'income' dataset"
   ]
  },
  {
   "cell_type": "code",
   "execution_count": 17,
   "metadata": {},
   "outputs": [],
   "source": [
    "# Create column user ratings counts devided by the population in the given zipcode\n",
    "df['user_ratings_total_per_capita'] = df['user_ratings_total'] / df['population']"
   ]
  },
  {
   "cell_type": "code",
   "execution_count": 18,
   "metadata": {},
   "outputs": [],
   "source": [
    "# Create column rating weighed with population density in the given zipcode\n",
    "df['rating_weighed_population_density'] = df['rating'] * df['population_density_square_miles']"
   ]
  },
  {
   "cell_type": "code",
   "execution_count": 19,
   "metadata": {},
   "outputs": [
    {
     "data": {
      "text/html": [
       "<div>\n",
       "<style scoped>\n",
       "    .dataframe tbody tr th:only-of-type {\n",
       "        vertical-align: middle;\n",
       "    }\n",
       "\n",
       "    .dataframe tbody tr th {\n",
       "        vertical-align: top;\n",
       "    }\n",
       "\n",
       "    .dataframe thead th {\n",
       "        text-align: right;\n",
       "    }\n",
       "</style>\n",
       "<table border=\"1\" class=\"dataframe\">\n",
       "  <thead>\n",
       "    <tr style=\"text-align: right;\">\n",
       "      <th></th>\n",
       "      <th>zipcode</th>\n",
       "      <th>price_level</th>\n",
       "      <th>rating</th>\n",
       "      <th>user_ratings_total</th>\n",
       "      <th>searched_zipcode</th>\n",
       "      <th>location_lat</th>\n",
       "      <th>location_lng</th>\n",
       "      <th>art_gallery</th>\n",
       "      <th>atm</th>\n",
       "      <th>bakery</th>\n",
       "      <th>bar</th>\n",
       "      <th>beauty_salon</th>\n",
       "      <th>bicycle_store</th>\n",
       "      <th>book_store</th>\n",
       "      <th>cafe</th>\n",
       "      <th>car_dealer</th>\n",
       "      <th>car_repair</th>\n",
       "      <th>car_wash</th>\n",
       "      <th>clothing_store</th>\n",
       "      <th>convenience_store</th>\n",
       "      <th>department_store</th>\n",
       "      <th>drugstore</th>\n",
       "      <th>electronics_store</th>\n",
       "      <th>establishment</th>\n",
       "      <th>finance</th>\n",
       "      <th>florist</th>\n",
       "      <th>food</th>\n",
       "      <th>funeral_home</th>\n",
       "      <th>furniture_store</th>\n",
       "      <th>gas_station</th>\n",
       "      <th>general_contractor</th>\n",
       "      <th>grocery_or_supermarket</th>\n",
       "      <th>hair_care</th>\n",
       "      <th>hardware_store</th>\n",
       "      <th>health</th>\n",
       "      <th>home_goods_store</th>\n",
       "      <th>jewelry_store</th>\n",
       "      <th>laundry</th>\n",
       "      <th>liquor_store</th>\n",
       "      <th>local_government_office</th>\n",
       "      <th>locksmith</th>\n",
       "      <th>lodging</th>\n",
       "      <th>meal_delivery</th>\n",
       "      <th>meal_takeaway</th>\n",
       "      <th>movie_rental</th>\n",
       "      <th>night_club</th>\n",
       "      <th>park</th>\n",
       "      <th>parking</th>\n",
       "      <th>pet_store</th>\n",
       "      <th>pharmacy</th>\n",
       "      <th>point_of_interest</th>\n",
       "      <th>premise</th>\n",
       "      <th>restaurant</th>\n",
       "      <th>school</th>\n",
       "      <th>shoe_store</th>\n",
       "      <th>shopping_mall</th>\n",
       "      <th>spa</th>\n",
       "      <th>storage</th>\n",
       "      <th>store</th>\n",
       "      <th>supermarket</th>\n",
       "      <th>tourist_attraction</th>\n",
       "      <th>travel_agency</th>\n",
       "      <th>population</th>\n",
       "      <th>population_density_square_miles</th>\n",
       "      <th>housing_units</th>\n",
       "      <th>home_price_to_income_ratios</th>\n",
       "      <th>price_level*rating</th>\n",
       "      <th>avg_price_level_by_zipcode</th>\n",
       "      <th>avg_rating_by_zipcode</th>\n",
       "      <th>avg_user_ratings_total_by_zipcode</th>\n",
       "      <th>total_number_of_bars_by_zipcode</th>\n",
       "      <th>total_number_of_cafes_by_zipcode</th>\n",
       "      <th>user_ratings_total_per_capita</th>\n",
       "      <th>rating_weighed_population_density</th>\n",
       "    </tr>\n",
       "  </thead>\n",
       "  <tbody>\n",
       "    <tr>\n",
       "      <td>count</td>\n",
       "      <td>8166.000000</td>\n",
       "      <td>4987.000000</td>\n",
       "      <td>8166.000000</td>\n",
       "      <td>8166.000000</td>\n",
       "      <td>8166.000000</td>\n",
       "      <td>8166.000000</td>\n",
       "      <td>8166.000000</td>\n",
       "      <td>8166.000000</td>\n",
       "      <td>8166.000000</td>\n",
       "      <td>8166.000000</td>\n",
       "      <td>8166.000000</td>\n",
       "      <td>8166.000000</td>\n",
       "      <td>8166.000000</td>\n",
       "      <td>8166.000000</td>\n",
       "      <td>8166.000000</td>\n",
       "      <td>8166.000000</td>\n",
       "      <td>8166.000000</td>\n",
       "      <td>8166.000000</td>\n",
       "      <td>8166.000000</td>\n",
       "      <td>8166.000000</td>\n",
       "      <td>8166.000000</td>\n",
       "      <td>8166.000000</td>\n",
       "      <td>8166.000000</td>\n",
       "      <td>8166.0</td>\n",
       "      <td>8166.000000</td>\n",
       "      <td>8166.000000</td>\n",
       "      <td>8166.000000</td>\n",
       "      <td>8166.000000</td>\n",
       "      <td>8166.000000</td>\n",
       "      <td>8166.000000</td>\n",
       "      <td>8166.000000</td>\n",
       "      <td>8166.000000</td>\n",
       "      <td>8166.000000</td>\n",
       "      <td>8166.000000</td>\n",
       "      <td>8166.000000</td>\n",
       "      <td>8166.000000</td>\n",
       "      <td>8166.000000</td>\n",
       "      <td>8166.000000</td>\n",
       "      <td>8166.000000</td>\n",
       "      <td>8166.000000</td>\n",
       "      <td>8166.000000</td>\n",
       "      <td>8166.000000</td>\n",
       "      <td>8166.000000</td>\n",
       "      <td>8166.000000</td>\n",
       "      <td>8166.0</td>\n",
       "      <td>8166.000000</td>\n",
       "      <td>8166.000000</td>\n",
       "      <td>8166.000000</td>\n",
       "      <td>8166.000000</td>\n",
       "      <td>8166.000000</td>\n",
       "      <td>8166.0</td>\n",
       "      <td>8166.000000</td>\n",
       "      <td>8166.000000</td>\n",
       "      <td>8166.000000</td>\n",
       "      <td>8166.000000</td>\n",
       "      <td>8166.000000</td>\n",
       "      <td>8166.000000</td>\n",
       "      <td>8166.000000</td>\n",
       "      <td>8166.000000</td>\n",
       "      <td>8166.000000</td>\n",
       "      <td>8166.000000</td>\n",
       "      <td>8166.000000</td>\n",
       "      <td>8166.000000</td>\n",
       "      <td>8166.000000</td>\n",
       "      <td>8166.000000</td>\n",
       "      <td>8166.000000</td>\n",
       "      <td>4987.000000</td>\n",
       "      <td>8166.000000</td>\n",
       "      <td>8166.000000</td>\n",
       "      <td>8166.000000</td>\n",
       "      <td>8166.000000</td>\n",
       "      <td>8166.000000</td>\n",
       "      <td>8166.000000</td>\n",
       "      <td>8166.000000</td>\n",
       "    </tr>\n",
       "    <tr>\n",
       "      <td>mean</td>\n",
       "      <td>10762.693608</td>\n",
       "      <td>1.675957</td>\n",
       "      <td>4.075398</td>\n",
       "      <td>322.767695</td>\n",
       "      <td>10763.380480</td>\n",
       "      <td>40.727565</td>\n",
       "      <td>-73.928664</td>\n",
       "      <td>0.000857</td>\n",
       "      <td>0.002327</td>\n",
       "      <td>0.078619</td>\n",
       "      <td>0.089028</td>\n",
       "      <td>0.000245</td>\n",
       "      <td>0.003184</td>\n",
       "      <td>0.003551</td>\n",
       "      <td>0.219691</td>\n",
       "      <td>0.000122</td>\n",
       "      <td>0.009674</td>\n",
       "      <td>0.000122</td>\n",
       "      <td>0.071516</td>\n",
       "      <td>0.070536</td>\n",
       "      <td>0.013960</td>\n",
       "      <td>0.039922</td>\n",
       "      <td>0.032329</td>\n",
       "      <td>1.0</td>\n",
       "      <td>0.012981</td>\n",
       "      <td>0.005756</td>\n",
       "      <td>0.757164</td>\n",
       "      <td>0.000122</td>\n",
       "      <td>0.034656</td>\n",
       "      <td>0.000490</td>\n",
       "      <td>0.002694</td>\n",
       "      <td>0.060740</td>\n",
       "      <td>0.000735</td>\n",
       "      <td>0.024614</td>\n",
       "      <td>0.050453</td>\n",
       "      <td>0.066005</td>\n",
       "      <td>0.009184</td>\n",
       "      <td>0.000122</td>\n",
       "      <td>0.033921</td>\n",
       "      <td>0.000122</td>\n",
       "      <td>0.002449</td>\n",
       "      <td>0.000245</td>\n",
       "      <td>0.112540</td>\n",
       "      <td>0.022777</td>\n",
       "      <td>0.0</td>\n",
       "      <td>0.007348</td>\n",
       "      <td>0.000122</td>\n",
       "      <td>0.000245</td>\n",
       "      <td>0.002572</td>\n",
       "      <td>0.009429</td>\n",
       "      <td>1.0</td>\n",
       "      <td>0.025104</td>\n",
       "      <td>0.501225</td>\n",
       "      <td>0.000245</td>\n",
       "      <td>0.015307</td>\n",
       "      <td>0.002327</td>\n",
       "      <td>0.000122</td>\n",
       "      <td>0.000245</td>\n",
       "      <td>0.598579</td>\n",
       "      <td>0.021798</td>\n",
       "      <td>0.000245</td>\n",
       "      <td>0.000245</td>\n",
       "      <td>50634.423953</td>\n",
       "      <td>47646.411021</td>\n",
       "      <td>21243.660911</td>\n",
       "      <td>10.016076</td>\n",
       "      <td>6.929076</td>\n",
       "      <td>1.634721</td>\n",
       "      <td>4.075398</td>\n",
       "      <td>322.767695</td>\n",
       "      <td>4.647073</td>\n",
       "      <td>11.583395</td>\n",
       "      <td>0.011354</td>\n",
       "      <td>194552.141166</td>\n",
       "    </tr>\n",
       "    <tr>\n",
       "      <td>std</td>\n",
       "      <td>575.304404</td>\n",
       "      <td>0.586714</td>\n",
       "      <td>0.792878</td>\n",
       "      <td>954.401839</td>\n",
       "      <td>574.968362</td>\n",
       "      <td>0.082737</td>\n",
       "      <td>0.092027</td>\n",
       "      <td>0.029267</td>\n",
       "      <td>0.048183</td>\n",
       "      <td>0.269159</td>\n",
       "      <td>0.284801</td>\n",
       "      <td>0.015649</td>\n",
       "      <td>0.056340</td>\n",
       "      <td>0.059491</td>\n",
       "      <td>0.414063</td>\n",
       "      <td>0.011066</td>\n",
       "      <td>0.097887</td>\n",
       "      <td>0.011066</td>\n",
       "      <td>0.257701</td>\n",
       "      <td>0.256064</td>\n",
       "      <td>0.117333</td>\n",
       "      <td>0.195787</td>\n",
       "      <td>0.176884</td>\n",
       "      <td>0.0</td>\n",
       "      <td>0.113198</td>\n",
       "      <td>0.075651</td>\n",
       "      <td>0.428823</td>\n",
       "      <td>0.011066</td>\n",
       "      <td>0.182918</td>\n",
       "      <td>0.022128</td>\n",
       "      <td>0.051838</td>\n",
       "      <td>0.238867</td>\n",
       "      <td>0.027098</td>\n",
       "      <td>0.154956</td>\n",
       "      <td>0.218891</td>\n",
       "      <td>0.248307</td>\n",
       "      <td>0.095400</td>\n",
       "      <td>0.011066</td>\n",
       "      <td>0.181037</td>\n",
       "      <td>0.011066</td>\n",
       "      <td>0.049432</td>\n",
       "      <td>0.015649</td>\n",
       "      <td>0.316049</td>\n",
       "      <td>0.149202</td>\n",
       "      <td>0.0</td>\n",
       "      <td>0.085408</td>\n",
       "      <td>0.011066</td>\n",
       "      <td>0.015649</td>\n",
       "      <td>0.050649</td>\n",
       "      <td>0.096652</td>\n",
       "      <td>0.0</td>\n",
       "      <td>0.156451</td>\n",
       "      <td>0.500029</td>\n",
       "      <td>0.015649</td>\n",
       "      <td>0.122780</td>\n",
       "      <td>0.048183</td>\n",
       "      <td>0.011066</td>\n",
       "      <td>0.015649</td>\n",
       "      <td>0.490216</td>\n",
       "      <td>0.146031</td>\n",
       "      <td>0.015649</td>\n",
       "      <td>0.015649</td>\n",
       "      <td>26293.570052</td>\n",
       "      <td>31856.830926</td>\n",
       "      <td>10389.978473</td>\n",
       "      <td>4.040684</td>\n",
       "      <td>2.696373</td>\n",
       "      <td>0.266850</td>\n",
       "      <td>0.214264</td>\n",
       "      <td>235.730861</td>\n",
       "      <td>3.666583</td>\n",
       "      <td>6.104185</td>\n",
       "      <td>0.056434</td>\n",
       "      <td>137310.972102</td>\n",
       "    </tr>\n",
       "    <tr>\n",
       "      <td>min</td>\n",
       "      <td>10001.000000</td>\n",
       "      <td>1.000000</td>\n",
       "      <td>0.000000</td>\n",
       "      <td>0.000000</td>\n",
       "      <td>10001.000000</td>\n",
       "      <td>40.506413</td>\n",
       "      <td>-74.251412</td>\n",
       "      <td>0.000000</td>\n",
       "      <td>0.000000</td>\n",
       "      <td>0.000000</td>\n",
       "      <td>0.000000</td>\n",
       "      <td>0.000000</td>\n",
       "      <td>0.000000</td>\n",
       "      <td>0.000000</td>\n",
       "      <td>0.000000</td>\n",
       "      <td>0.000000</td>\n",
       "      <td>0.000000</td>\n",
       "      <td>0.000000</td>\n",
       "      <td>0.000000</td>\n",
       "      <td>0.000000</td>\n",
       "      <td>0.000000</td>\n",
       "      <td>0.000000</td>\n",
       "      <td>0.000000</td>\n",
       "      <td>1.0</td>\n",
       "      <td>0.000000</td>\n",
       "      <td>0.000000</td>\n",
       "      <td>0.000000</td>\n",
       "      <td>0.000000</td>\n",
       "      <td>0.000000</td>\n",
       "      <td>0.000000</td>\n",
       "      <td>0.000000</td>\n",
       "      <td>0.000000</td>\n",
       "      <td>0.000000</td>\n",
       "      <td>0.000000</td>\n",
       "      <td>0.000000</td>\n",
       "      <td>0.000000</td>\n",
       "      <td>0.000000</td>\n",
       "      <td>0.000000</td>\n",
       "      <td>0.000000</td>\n",
       "      <td>0.000000</td>\n",
       "      <td>0.000000</td>\n",
       "      <td>0.000000</td>\n",
       "      <td>0.000000</td>\n",
       "      <td>0.000000</td>\n",
       "      <td>0.0</td>\n",
       "      <td>0.000000</td>\n",
       "      <td>0.000000</td>\n",
       "      <td>0.000000</td>\n",
       "      <td>0.000000</td>\n",
       "      <td>0.000000</td>\n",
       "      <td>1.0</td>\n",
       "      <td>0.000000</td>\n",
       "      <td>0.000000</td>\n",
       "      <td>0.000000</td>\n",
       "      <td>0.000000</td>\n",
       "      <td>0.000000</td>\n",
       "      <td>0.000000</td>\n",
       "      <td>0.000000</td>\n",
       "      <td>0.000000</td>\n",
       "      <td>0.000000</td>\n",
       "      <td>0.000000</td>\n",
       "      <td>0.000000</td>\n",
       "      <td>1749.000000</td>\n",
       "      <td>1277.000000</td>\n",
       "      <td>1613.000000</td>\n",
       "      <td>0.542965</td>\n",
       "      <td>0.000000</td>\n",
       "      <td>1.000000</td>\n",
       "      <td>1.850000</td>\n",
       "      <td>4.500000</td>\n",
       "      <td>0.000000</td>\n",
       "      <td>0.000000</td>\n",
       "      <td>0.000000</td>\n",
       "      <td>0.000000</td>\n",
       "    </tr>\n",
       "    <tr>\n",
       "      <td>25%</td>\n",
       "      <td>10049.250000</td>\n",
       "      <td>1.000000</td>\n",
       "      <td>3.900000</td>\n",
       "      <td>37.000000</td>\n",
       "      <td>10065.000000</td>\n",
       "      <td>40.673857</td>\n",
       "      <td>-73.982478</td>\n",
       "      <td>0.000000</td>\n",
       "      <td>0.000000</td>\n",
       "      <td>0.000000</td>\n",
       "      <td>0.000000</td>\n",
       "      <td>0.000000</td>\n",
       "      <td>0.000000</td>\n",
       "      <td>0.000000</td>\n",
       "      <td>0.000000</td>\n",
       "      <td>0.000000</td>\n",
       "      <td>0.000000</td>\n",
       "      <td>0.000000</td>\n",
       "      <td>0.000000</td>\n",
       "      <td>0.000000</td>\n",
       "      <td>0.000000</td>\n",
       "      <td>0.000000</td>\n",
       "      <td>0.000000</td>\n",
       "      <td>1.0</td>\n",
       "      <td>0.000000</td>\n",
       "      <td>0.000000</td>\n",
       "      <td>1.000000</td>\n",
       "      <td>0.000000</td>\n",
       "      <td>0.000000</td>\n",
       "      <td>0.000000</td>\n",
       "      <td>0.000000</td>\n",
       "      <td>0.000000</td>\n",
       "      <td>0.000000</td>\n",
       "      <td>0.000000</td>\n",
       "      <td>0.000000</td>\n",
       "      <td>0.000000</td>\n",
       "      <td>0.000000</td>\n",
       "      <td>0.000000</td>\n",
       "      <td>0.000000</td>\n",
       "      <td>0.000000</td>\n",
       "      <td>0.000000</td>\n",
       "      <td>0.000000</td>\n",
       "      <td>0.000000</td>\n",
       "      <td>0.000000</td>\n",
       "      <td>0.0</td>\n",
       "      <td>0.000000</td>\n",
       "      <td>0.000000</td>\n",
       "      <td>0.000000</td>\n",
       "      <td>0.000000</td>\n",
       "      <td>0.000000</td>\n",
       "      <td>1.0</td>\n",
       "      <td>0.000000</td>\n",
       "      <td>0.000000</td>\n",
       "      <td>0.000000</td>\n",
       "      <td>0.000000</td>\n",
       "      <td>0.000000</td>\n",
       "      <td>0.000000</td>\n",
       "      <td>0.000000</td>\n",
       "      <td>0.000000</td>\n",
       "      <td>0.000000</td>\n",
       "      <td>0.000000</td>\n",
       "      <td>0.000000</td>\n",
       "      <td>30043.000000</td>\n",
       "      <td>22742.100000</td>\n",
       "      <td>12931.000000</td>\n",
       "      <td>6.858595</td>\n",
       "      <td>4.300000</td>\n",
       "      <td>1.444444</td>\n",
       "      <td>4.000000</td>\n",
       "      <td>190.673077</td>\n",
       "      <td>2.000000</td>\n",
       "      <td>6.000000</td>\n",
       "      <td>0.000781</td>\n",
       "      <td>87403.050000</td>\n",
       "    </tr>\n",
       "    <tr>\n",
       "      <td>50%</td>\n",
       "      <td>11102.000000</td>\n",
       "      <td>2.000000</td>\n",
       "      <td>4.200000</td>\n",
       "      <td>126.000000</td>\n",
       "      <td>11102.000000</td>\n",
       "      <td>40.729964</td>\n",
       "      <td>-73.937396</td>\n",
       "      <td>0.000000</td>\n",
       "      <td>0.000000</td>\n",
       "      <td>0.000000</td>\n",
       "      <td>0.000000</td>\n",
       "      <td>0.000000</td>\n",
       "      <td>0.000000</td>\n",
       "      <td>0.000000</td>\n",
       "      <td>0.000000</td>\n",
       "      <td>0.000000</td>\n",
       "      <td>0.000000</td>\n",
       "      <td>0.000000</td>\n",
       "      <td>0.000000</td>\n",
       "      <td>0.000000</td>\n",
       "      <td>0.000000</td>\n",
       "      <td>0.000000</td>\n",
       "      <td>0.000000</td>\n",
       "      <td>1.0</td>\n",
       "      <td>0.000000</td>\n",
       "      <td>0.000000</td>\n",
       "      <td>1.000000</td>\n",
       "      <td>0.000000</td>\n",
       "      <td>0.000000</td>\n",
       "      <td>0.000000</td>\n",
       "      <td>0.000000</td>\n",
       "      <td>0.000000</td>\n",
       "      <td>0.000000</td>\n",
       "      <td>0.000000</td>\n",
       "      <td>0.000000</td>\n",
       "      <td>0.000000</td>\n",
       "      <td>0.000000</td>\n",
       "      <td>0.000000</td>\n",
       "      <td>0.000000</td>\n",
       "      <td>0.000000</td>\n",
       "      <td>0.000000</td>\n",
       "      <td>0.000000</td>\n",
       "      <td>0.000000</td>\n",
       "      <td>0.000000</td>\n",
       "      <td>0.0</td>\n",
       "      <td>0.000000</td>\n",
       "      <td>0.000000</td>\n",
       "      <td>0.000000</td>\n",
       "      <td>0.000000</td>\n",
       "      <td>0.000000</td>\n",
       "      <td>1.0</td>\n",
       "      <td>0.000000</td>\n",
       "      <td>1.000000</td>\n",
       "      <td>0.000000</td>\n",
       "      <td>0.000000</td>\n",
       "      <td>0.000000</td>\n",
       "      <td>0.000000</td>\n",
       "      <td>0.000000</td>\n",
       "      <td>1.000000</td>\n",
       "      <td>0.000000</td>\n",
       "      <td>0.000000</td>\n",
       "      <td>0.000000</td>\n",
       "      <td>46064.000000</td>\n",
       "      <td>42754.600000</td>\n",
       "      <td>20030.000000</td>\n",
       "      <td>9.212432</td>\n",
       "      <td>7.800000</td>\n",
       "      <td>1.600000</td>\n",
       "      <td>4.095833</td>\n",
       "      <td>254.622222</td>\n",
       "      <td>4.000000</td>\n",
       "      <td>12.000000</td>\n",
       "      <td>0.002743</td>\n",
       "      <td>168067.610000</td>\n",
       "    </tr>\n",
       "    <tr>\n",
       "      <td>75%</td>\n",
       "      <td>11236.000000</td>\n",
       "      <td>2.000000</td>\n",
       "      <td>4.500000</td>\n",
       "      <td>336.000000</td>\n",
       "      <td>11236.000000</td>\n",
       "      <td>40.779636</td>\n",
       "      <td>-73.870514</td>\n",
       "      <td>0.000000</td>\n",
       "      <td>0.000000</td>\n",
       "      <td>0.000000</td>\n",
       "      <td>0.000000</td>\n",
       "      <td>0.000000</td>\n",
       "      <td>0.000000</td>\n",
       "      <td>0.000000</td>\n",
       "      <td>0.000000</td>\n",
       "      <td>0.000000</td>\n",
       "      <td>0.000000</td>\n",
       "      <td>0.000000</td>\n",
       "      <td>0.000000</td>\n",
       "      <td>0.000000</td>\n",
       "      <td>0.000000</td>\n",
       "      <td>0.000000</td>\n",
       "      <td>0.000000</td>\n",
       "      <td>1.0</td>\n",
       "      <td>0.000000</td>\n",
       "      <td>0.000000</td>\n",
       "      <td>1.000000</td>\n",
       "      <td>0.000000</td>\n",
       "      <td>0.000000</td>\n",
       "      <td>0.000000</td>\n",
       "      <td>0.000000</td>\n",
       "      <td>0.000000</td>\n",
       "      <td>0.000000</td>\n",
       "      <td>0.000000</td>\n",
       "      <td>0.000000</td>\n",
       "      <td>0.000000</td>\n",
       "      <td>0.000000</td>\n",
       "      <td>0.000000</td>\n",
       "      <td>0.000000</td>\n",
       "      <td>0.000000</td>\n",
       "      <td>0.000000</td>\n",
       "      <td>0.000000</td>\n",
       "      <td>0.000000</td>\n",
       "      <td>0.000000</td>\n",
       "      <td>0.0</td>\n",
       "      <td>0.000000</td>\n",
       "      <td>0.000000</td>\n",
       "      <td>0.000000</td>\n",
       "      <td>0.000000</td>\n",
       "      <td>0.000000</td>\n",
       "      <td>1.0</td>\n",
       "      <td>0.000000</td>\n",
       "      <td>1.000000</td>\n",
       "      <td>0.000000</td>\n",
       "      <td>0.000000</td>\n",
       "      <td>0.000000</td>\n",
       "      <td>0.000000</td>\n",
       "      <td>0.000000</td>\n",
       "      <td>1.000000</td>\n",
       "      <td>0.000000</td>\n",
       "      <td>0.000000</td>\n",
       "      <td>0.000000</td>\n",
       "      <td>72479.000000</td>\n",
       "      <td>65283.500000</td>\n",
       "      <td>30734.000000</td>\n",
       "      <td>12.312973</td>\n",
       "      <td>8.800000</td>\n",
       "      <td>1.800000</td>\n",
       "      <td>4.202222</td>\n",
       "      <td>393.961538</td>\n",
       "      <td>8.000000</td>\n",
       "      <td>16.000000</td>\n",
       "      <td>0.008137</td>\n",
       "      <td>270321.710000</td>\n",
       "    </tr>\n",
       "    <tr>\n",
       "      <td>max</td>\n",
       "      <td>11697.000000</td>\n",
       "      <td>4.000000</td>\n",
       "      <td>5.000000</td>\n",
       "      <td>51032.000000</td>\n",
       "      <td>11697.000000</td>\n",
       "      <td>40.910483</td>\n",
       "      <td>-73.701657</td>\n",
       "      <td>1.000000</td>\n",
       "      <td>1.000000</td>\n",
       "      <td>1.000000</td>\n",
       "      <td>1.000000</td>\n",
       "      <td>1.000000</td>\n",
       "      <td>1.000000</td>\n",
       "      <td>1.000000</td>\n",
       "      <td>1.000000</td>\n",
       "      <td>1.000000</td>\n",
       "      <td>1.000000</td>\n",
       "      <td>1.000000</td>\n",
       "      <td>1.000000</td>\n",
       "      <td>1.000000</td>\n",
       "      <td>1.000000</td>\n",
       "      <td>1.000000</td>\n",
       "      <td>1.000000</td>\n",
       "      <td>1.0</td>\n",
       "      <td>1.000000</td>\n",
       "      <td>1.000000</td>\n",
       "      <td>1.000000</td>\n",
       "      <td>1.000000</td>\n",
       "      <td>1.000000</td>\n",
       "      <td>1.000000</td>\n",
       "      <td>1.000000</td>\n",
       "      <td>1.000000</td>\n",
       "      <td>1.000000</td>\n",
       "      <td>1.000000</td>\n",
       "      <td>1.000000</td>\n",
       "      <td>1.000000</td>\n",
       "      <td>1.000000</td>\n",
       "      <td>1.000000</td>\n",
       "      <td>1.000000</td>\n",
       "      <td>1.000000</td>\n",
       "      <td>1.000000</td>\n",
       "      <td>1.000000</td>\n",
       "      <td>1.000000</td>\n",
       "      <td>1.000000</td>\n",
       "      <td>0.0</td>\n",
       "      <td>1.000000</td>\n",
       "      <td>1.000000</td>\n",
       "      <td>1.000000</td>\n",
       "      <td>1.000000</td>\n",
       "      <td>1.000000</td>\n",
       "      <td>1.0</td>\n",
       "      <td>1.000000</td>\n",
       "      <td>1.000000</td>\n",
       "      <td>1.000000</td>\n",
       "      <td>1.000000</td>\n",
       "      <td>1.000000</td>\n",
       "      <td>1.000000</td>\n",
       "      <td>1.000000</td>\n",
       "      <td>1.000000</td>\n",
       "      <td>1.000000</td>\n",
       "      <td>1.000000</td>\n",
       "      <td>1.000000</td>\n",
       "      <td>112425.000000</td>\n",
       "      <td>152562.200000</td>\n",
       "      <td>48359.000000</td>\n",
       "      <td>22.005344</td>\n",
       "      <td>19.600000</td>\n",
       "      <td>2.297872</td>\n",
       "      <td>4.438182</td>\n",
       "      <td>1872.661290</td>\n",
       "      <td>14.000000</td>\n",
       "      <td>29.000000</td>\n",
       "      <td>2.495088</td>\n",
       "      <td>762811.000000</td>\n",
       "    </tr>\n",
       "  </tbody>\n",
       "</table>\n",
       "</div>"
      ],
      "text/plain": [
       "            zipcode  price_level       rating  user_ratings_total  \\\n",
       "count   8166.000000  4987.000000  8166.000000         8166.000000   \n",
       "mean   10762.693608     1.675957     4.075398          322.767695   \n",
       "std      575.304404     0.586714     0.792878          954.401839   \n",
       "min    10001.000000     1.000000     0.000000            0.000000   \n",
       "25%    10049.250000     1.000000     3.900000           37.000000   \n",
       "50%    11102.000000     2.000000     4.200000          126.000000   \n",
       "75%    11236.000000     2.000000     4.500000          336.000000   \n",
       "max    11697.000000     4.000000     5.000000        51032.000000   \n",
       "\n",
       "       searched_zipcode  location_lat  location_lng  art_gallery          atm  \\\n",
       "count       8166.000000   8166.000000   8166.000000  8166.000000  8166.000000   \n",
       "mean       10763.380480     40.727565    -73.928664     0.000857     0.002327   \n",
       "std          574.968362      0.082737      0.092027     0.029267     0.048183   \n",
       "min        10001.000000     40.506413    -74.251412     0.000000     0.000000   \n",
       "25%        10065.000000     40.673857    -73.982478     0.000000     0.000000   \n",
       "50%        11102.000000     40.729964    -73.937396     0.000000     0.000000   \n",
       "75%        11236.000000     40.779636    -73.870514     0.000000     0.000000   \n",
       "max        11697.000000     40.910483    -73.701657     1.000000     1.000000   \n",
       "\n",
       "            bakery          bar  beauty_salon  bicycle_store   book_store  \\\n",
       "count  8166.000000  8166.000000   8166.000000    8166.000000  8166.000000   \n",
       "mean      0.078619     0.089028      0.000245       0.003184     0.003551   \n",
       "std       0.269159     0.284801      0.015649       0.056340     0.059491   \n",
       "min       0.000000     0.000000      0.000000       0.000000     0.000000   \n",
       "25%       0.000000     0.000000      0.000000       0.000000     0.000000   \n",
       "50%       0.000000     0.000000      0.000000       0.000000     0.000000   \n",
       "75%       0.000000     0.000000      0.000000       0.000000     0.000000   \n",
       "max       1.000000     1.000000      1.000000       1.000000     1.000000   \n",
       "\n",
       "              cafe   car_dealer   car_repair     car_wash  clothing_store  \\\n",
       "count  8166.000000  8166.000000  8166.000000  8166.000000     8166.000000   \n",
       "mean      0.219691     0.000122     0.009674     0.000122        0.071516   \n",
       "std       0.414063     0.011066     0.097887     0.011066        0.257701   \n",
       "min       0.000000     0.000000     0.000000     0.000000        0.000000   \n",
       "25%       0.000000     0.000000     0.000000     0.000000        0.000000   \n",
       "50%       0.000000     0.000000     0.000000     0.000000        0.000000   \n",
       "75%       0.000000     0.000000     0.000000     0.000000        0.000000   \n",
       "max       1.000000     1.000000     1.000000     1.000000        1.000000   \n",
       "\n",
       "       convenience_store  department_store    drugstore  electronics_store  \\\n",
       "count        8166.000000       8166.000000  8166.000000        8166.000000   \n",
       "mean            0.070536          0.013960     0.039922           0.032329   \n",
       "std             0.256064          0.117333     0.195787           0.176884   \n",
       "min             0.000000          0.000000     0.000000           0.000000   \n",
       "25%             0.000000          0.000000     0.000000           0.000000   \n",
       "50%             0.000000          0.000000     0.000000           0.000000   \n",
       "75%             0.000000          0.000000     0.000000           0.000000   \n",
       "max             1.000000          1.000000     1.000000           1.000000   \n",
       "\n",
       "       establishment      finance      florist         food  funeral_home  \\\n",
       "count         8166.0  8166.000000  8166.000000  8166.000000   8166.000000   \n",
       "mean             1.0     0.012981     0.005756     0.757164      0.000122   \n",
       "std              0.0     0.113198     0.075651     0.428823      0.011066   \n",
       "min              1.0     0.000000     0.000000     0.000000      0.000000   \n",
       "25%              1.0     0.000000     0.000000     1.000000      0.000000   \n",
       "50%              1.0     0.000000     0.000000     1.000000      0.000000   \n",
       "75%              1.0     0.000000     0.000000     1.000000      0.000000   \n",
       "max              1.0     1.000000     1.000000     1.000000      1.000000   \n",
       "\n",
       "       furniture_store  gas_station  general_contractor  \\\n",
       "count      8166.000000  8166.000000         8166.000000   \n",
       "mean          0.034656     0.000490            0.002694   \n",
       "std           0.182918     0.022128            0.051838   \n",
       "min           0.000000     0.000000            0.000000   \n",
       "25%           0.000000     0.000000            0.000000   \n",
       "50%           0.000000     0.000000            0.000000   \n",
       "75%           0.000000     0.000000            0.000000   \n",
       "max           1.000000     1.000000            1.000000   \n",
       "\n",
       "       grocery_or_supermarket    hair_care  hardware_store       health  \\\n",
       "count             8166.000000  8166.000000     8166.000000  8166.000000   \n",
       "mean                 0.060740     0.000735        0.024614     0.050453   \n",
       "std                  0.238867     0.027098        0.154956     0.218891   \n",
       "min                  0.000000     0.000000        0.000000     0.000000   \n",
       "25%                  0.000000     0.000000        0.000000     0.000000   \n",
       "50%                  0.000000     0.000000        0.000000     0.000000   \n",
       "75%                  0.000000     0.000000        0.000000     0.000000   \n",
       "max                  1.000000     1.000000        1.000000     1.000000   \n",
       "\n",
       "       home_goods_store  jewelry_store      laundry  liquor_store  \\\n",
       "count       8166.000000    8166.000000  8166.000000   8166.000000   \n",
       "mean           0.066005       0.009184     0.000122      0.033921   \n",
       "std            0.248307       0.095400     0.011066      0.181037   \n",
       "min            0.000000       0.000000     0.000000      0.000000   \n",
       "25%            0.000000       0.000000     0.000000      0.000000   \n",
       "50%            0.000000       0.000000     0.000000      0.000000   \n",
       "75%            0.000000       0.000000     0.000000      0.000000   \n",
       "max            1.000000       1.000000     1.000000      1.000000   \n",
       "\n",
       "       local_government_office    locksmith      lodging  meal_delivery  \\\n",
       "count              8166.000000  8166.000000  8166.000000    8166.000000   \n",
       "mean                  0.000122     0.002449     0.000245       0.112540   \n",
       "std                   0.011066     0.049432     0.015649       0.316049   \n",
       "min                   0.000000     0.000000     0.000000       0.000000   \n",
       "25%                   0.000000     0.000000     0.000000       0.000000   \n",
       "50%                   0.000000     0.000000     0.000000       0.000000   \n",
       "75%                   0.000000     0.000000     0.000000       0.000000   \n",
       "max                   1.000000     1.000000     1.000000       1.000000   \n",
       "\n",
       "       meal_takeaway  movie_rental   night_club         park      parking  \\\n",
       "count    8166.000000        8166.0  8166.000000  8166.000000  8166.000000   \n",
       "mean        0.022777           0.0     0.007348     0.000122     0.000245   \n",
       "std         0.149202           0.0     0.085408     0.011066     0.015649   \n",
       "min         0.000000           0.0     0.000000     0.000000     0.000000   \n",
       "25%         0.000000           0.0     0.000000     0.000000     0.000000   \n",
       "50%         0.000000           0.0     0.000000     0.000000     0.000000   \n",
       "75%         0.000000           0.0     0.000000     0.000000     0.000000   \n",
       "max         1.000000           0.0     1.000000     1.000000     1.000000   \n",
       "\n",
       "         pet_store     pharmacy  point_of_interest      premise   restaurant  \\\n",
       "count  8166.000000  8166.000000             8166.0  8166.000000  8166.000000   \n",
       "mean      0.002572     0.009429                1.0     0.025104     0.501225   \n",
       "std       0.050649     0.096652                0.0     0.156451     0.500029   \n",
       "min       0.000000     0.000000                1.0     0.000000     0.000000   \n",
       "25%       0.000000     0.000000                1.0     0.000000     0.000000   \n",
       "50%       0.000000     0.000000                1.0     0.000000     1.000000   \n",
       "75%       0.000000     0.000000                1.0     0.000000     1.000000   \n",
       "max       1.000000     1.000000                1.0     1.000000     1.000000   \n",
       "\n",
       "            school   shoe_store  shopping_mall          spa      storage  \\\n",
       "count  8166.000000  8166.000000    8166.000000  8166.000000  8166.000000   \n",
       "mean      0.000245     0.015307       0.002327     0.000122     0.000245   \n",
       "std       0.015649     0.122780       0.048183     0.011066     0.015649   \n",
       "min       0.000000     0.000000       0.000000     0.000000     0.000000   \n",
       "25%       0.000000     0.000000       0.000000     0.000000     0.000000   \n",
       "50%       0.000000     0.000000       0.000000     0.000000     0.000000   \n",
       "75%       0.000000     0.000000       0.000000     0.000000     0.000000   \n",
       "max       1.000000     1.000000       1.000000     1.000000     1.000000   \n",
       "\n",
       "             store  supermarket  tourist_attraction  travel_agency  \\\n",
       "count  8166.000000  8166.000000         8166.000000    8166.000000   \n",
       "mean      0.598579     0.021798            0.000245       0.000245   \n",
       "std       0.490216     0.146031            0.015649       0.015649   \n",
       "min       0.000000     0.000000            0.000000       0.000000   \n",
       "25%       0.000000     0.000000            0.000000       0.000000   \n",
       "50%       1.000000     0.000000            0.000000       0.000000   \n",
       "75%       1.000000     0.000000            0.000000       0.000000   \n",
       "max       1.000000     1.000000            1.000000       1.000000   \n",
       "\n",
       "          population  population_density_square_miles  housing_units  \\\n",
       "count    8166.000000                      8166.000000    8166.000000   \n",
       "mean    50634.423953                     47646.411021   21243.660911   \n",
       "std     26293.570052                     31856.830926   10389.978473   \n",
       "min      1749.000000                      1277.000000    1613.000000   \n",
       "25%     30043.000000                     22742.100000   12931.000000   \n",
       "50%     46064.000000                     42754.600000   20030.000000   \n",
       "75%     72479.000000                     65283.500000   30734.000000   \n",
       "max    112425.000000                    152562.200000   48359.000000   \n",
       "\n",
       "       home_price_to_income_ratios  price_level*rating  \\\n",
       "count                  8166.000000         4987.000000   \n",
       "mean                     10.016076            6.929076   \n",
       "std                       4.040684            2.696373   \n",
       "min                       0.542965            0.000000   \n",
       "25%                       6.858595            4.300000   \n",
       "50%                       9.212432            7.800000   \n",
       "75%                      12.312973            8.800000   \n",
       "max                      22.005344           19.600000   \n",
       "\n",
       "       avg_price_level_by_zipcode  avg_rating_by_zipcode  \\\n",
       "count                 8166.000000            8166.000000   \n",
       "mean                     1.634721               4.075398   \n",
       "std                      0.266850               0.214264   \n",
       "min                      1.000000               1.850000   \n",
       "25%                      1.444444               4.000000   \n",
       "50%                      1.600000               4.095833   \n",
       "75%                      1.800000               4.202222   \n",
       "max                      2.297872               4.438182   \n",
       "\n",
       "       avg_user_ratings_total_by_zipcode  total_number_of_bars_by_zipcode  \\\n",
       "count                        8166.000000                      8166.000000   \n",
       "mean                          322.767695                         4.647073   \n",
       "std                           235.730861                         3.666583   \n",
       "min                             4.500000                         0.000000   \n",
       "25%                           190.673077                         2.000000   \n",
       "50%                           254.622222                         4.000000   \n",
       "75%                           393.961538                         8.000000   \n",
       "max                          1872.661290                        14.000000   \n",
       "\n",
       "       total_number_of_cafes_by_zipcode  user_ratings_total_per_capita  \\\n",
       "count                       8166.000000                    8166.000000   \n",
       "mean                          11.583395                       0.011354   \n",
       "std                            6.104185                       0.056434   \n",
       "min                            0.000000                       0.000000   \n",
       "25%                            6.000000                       0.000781   \n",
       "50%                           12.000000                       0.002743   \n",
       "75%                           16.000000                       0.008137   \n",
       "max                           29.000000                       2.495088   \n",
       "\n",
       "       rating_weighed_population_density  \n",
       "count                        8166.000000  \n",
       "mean                       194552.141166  \n",
       "std                        137310.972102  \n",
       "min                             0.000000  \n",
       "25%                         87403.050000  \n",
       "50%                        168067.610000  \n",
       "75%                        270321.710000  \n",
       "max                        762811.000000  "
      ]
     },
     "execution_count": 19,
     "metadata": {},
     "output_type": "execute_result"
    }
   ],
   "source": [
    "df.describe()"
   ]
  },
  {
   "cell_type": "markdown",
   "metadata": {},
   "source": [
    "## Missing Values"
   ]
  },
  {
   "cell_type": "code",
   "execution_count": 20,
   "metadata": {
    "scrolled": true
   },
   "outputs": [],
   "source": [
    "# define a funciton to view the total and percentage of missing values \n",
    "def view_col_with_nans(df):\n",
    "    mask_percent = df.isnull().mean().sort_values(ascending=False) \n",
    "    mask_total = df.isnull().sum().sort_values(ascending=False)\n",
    "    total = mask_total[mask_total > 0]\n",
    "    percent = mask_percent[mask_percent > 0] \n",
    "    missing_data = pd.concat([total, percent], axis=1, keys=['Total', 'Percent'])\n",
    "    return missing_data"
   ]
  },
  {
   "cell_type": "code",
   "execution_count": 21,
   "metadata": {
    "scrolled": true
   },
   "outputs": [
    {
     "data": {
      "text/html": [
       "<div>\n",
       "<style scoped>\n",
       "    .dataframe tbody tr th:only-of-type {\n",
       "        vertical-align: middle;\n",
       "    }\n",
       "\n",
       "    .dataframe tbody tr th {\n",
       "        vertical-align: top;\n",
       "    }\n",
       "\n",
       "    .dataframe thead th {\n",
       "        text-align: right;\n",
       "    }\n",
       "</style>\n",
       "<table border=\"1\" class=\"dataframe\">\n",
       "  <thead>\n",
       "    <tr style=\"text-align: right;\">\n",
       "      <th></th>\n",
       "      <th>Total</th>\n",
       "      <th>Percent</th>\n",
       "    </tr>\n",
       "  </thead>\n",
       "  <tbody>\n",
       "    <tr>\n",
       "      <td>price_level</td>\n",
       "      <td>3179</td>\n",
       "      <td>0.389297</td>\n",
       "    </tr>\n",
       "    <tr>\n",
       "      <td>price_level*rating</td>\n",
       "      <td>3179</td>\n",
       "      <td>0.389297</td>\n",
       "    </tr>\n",
       "    <tr>\n",
       "      <td>open_now</td>\n",
       "      <td>282</td>\n",
       "      <td>0.034533</td>\n",
       "    </tr>\n",
       "    <tr>\n",
       "      <td>compound_code</td>\n",
       "      <td>3</td>\n",
       "      <td>0.000367</td>\n",
       "    </tr>\n",
       "    <tr>\n",
       "      <td>global_code</td>\n",
       "      <td>3</td>\n",
       "      <td>0.000367</td>\n",
       "    </tr>\n",
       "  </tbody>\n",
       "</table>\n",
       "</div>"
      ],
      "text/plain": [
       "                    Total   Percent\n",
       "price_level          3179  0.389297\n",
       "price_level*rating   3179  0.389297\n",
       "open_now              282  0.034533\n",
       "compound_code           3  0.000367\n",
       "global_code             3  0.000367"
      ]
     },
     "execution_count": 21,
     "metadata": {},
     "output_type": "execute_result"
    }
   ],
   "source": [
    "view_col_with_nans(df)"
   ]
  },
  {
   "cell_type": "markdown",
   "metadata": {},
   "source": [
    "- Since **'price_level'** and **'price_level\\*rating'** are two important features, so dropping the column is not an option.\n",
    "Since they both contain large percentages of missing data, dropping the rows is not an option. \n",
    "In the modeling process, I will the **Pattern Submodel Approach**, and break the dataset into subsets based on missingness pattern. I will fit one model on each subset.\n",
    "\n",
    "- For **'open_now'**, a missing value could have meaning: if a business does not have 'open_now' information on Google, it might be indicate some since it's a categorical column, I will dummify the column and set `dummy_na=True`.\n",
    "\n",
    "- For **'compound_code'** and **'global_code'**, since I will not use them in the modeling process, the missing value can be ingnored."
   ]
  },
  {
   "cell_type": "markdown",
   "metadata": {},
   "source": [
    "## Investigate target column 'home_price_to_income_ratios'"
   ]
  },
  {
   "cell_type": "code",
   "execution_count": 22,
   "metadata": {
    "scrolled": true
   },
   "outputs": [
    {
     "data": {
      "text/plain": [
       "count    8166.000000\n",
       "mean       10.016076\n",
       "std         4.040684\n",
       "min         0.542965\n",
       "25%         6.858595\n",
       "50%         9.212432\n",
       "75%        12.312973\n",
       "max        22.005344\n",
       "Name: home_price_to_income_ratios, dtype: float64"
      ]
     },
     "execution_count": 22,
     "metadata": {},
     "output_type": "execute_result"
    }
   ],
   "source": [
    "df['home_price_to_income_ratios'].describe()"
   ]
  },
  {
   "cell_type": "code",
   "execution_count": 23,
   "metadata": {},
   "outputs": [
    {
     "data": {
      "image/png": "[encoded data removed]",
      "text/plain": [
       "<Figure size 576x432 with 1 Axes>"
      ]
     },
     "metadata": {
      "needs_background": "light"
     },
     "output_type": "display_data"
    }
   ],
   "source": [
    "plt.figure(figsize=(8,6))\n",
    "ax = sns.distplot(df['home_price_to_income_ratios'], kde=False)\n",
    "ax.set_title('Distribution of Home Price to Income Ratios')\n",
    "ax.set_ylabel('Frequency')\n",
    "ax.set_xlabel('Ratios in year')\n",
    "plt.axvline(x=df['home_price_to_income_ratios'].mean(), color='r', linestyle='--');"
   ]
  },
  {
   "cell_type": "code",
   "execution_count": 24,
   "metadata": {
    "scrolled": false
   },
   "outputs": [
    {
     "data": {
      "image/png": "[encoded data removed]",
      "text/plain": [
       "<Figure size 576x432 with 1 Axes>"
      ]
     },
     "metadata": {
      "needs_background": "light"
     },
     "output_type": "display_data"
    }
   ],
   "source": [
    "plt.figure(figsize=(8,6))\n",
    "ax = sns.boxplot(df['home_price_to_income_ratios'])\n",
    "ax.set_title('Distribution of Home Price to Income Ratios')\n",
    "ax.set_xlabel('Ratios in year');"
   ]
  },
  {
   "cell_type": "markdown",
   "metadata": {},
   "source": [
    "The target 'home_price_to_income_ratios' is slightly right skewed, and some outliers on the higher end. "
   ]
  },
  {
   "cell_type": "markdown",
   "metadata": {},
   "source": [
    "### TODO: Visualiazation for Distribution of Home Price to Income Ratios"
   ]
  },
  {
   "cell_type": "markdown",
   "metadata": {},
   "source": [
    "## Investigate categorical data"
   ]
  },
  {
   "cell_type": "markdown",
   "metadata": {},
   "source": [
    "The only useful categorical columns for modeling is the 'open_now' column. "
   ]
  },
  {
   "cell_type": "code",
   "execution_count": 25,
   "metadata": {
    "scrolled": false
   },
   "outputs": [
    {
     "data": {
      "text/html": [
       "<div>\n",
       "<style scoped>\n",
       "    .dataframe tbody tr th:only-of-type {\n",
       "        vertical-align: middle;\n",
       "    }\n",
       "\n",
       "    .dataframe tbody tr th {\n",
       "        vertical-align: top;\n",
       "    }\n",
       "\n",
       "    .dataframe thead th {\n",
       "        text-align: right;\n",
       "    }\n",
       "</style>\n",
       "<table border=\"1\" class=\"dataframe\">\n",
       "  <thead>\n",
       "    <tr style=\"text-align: right;\">\n",
       "      <th></th>\n",
       "      <th>name</th>\n",
       "      <th>open_now</th>\n",
       "      <th>place_id</th>\n",
       "      <th>searched_keyword</th>\n",
       "      <th>compound_code</th>\n",
       "      <th>global_code</th>\n",
       "    </tr>\n",
       "  </thead>\n",
       "  <tbody>\n",
       "    <tr>\n",
       "      <td>count</td>\n",
       "      <td>8166</td>\n",
       "      <td>7884</td>\n",
       "      <td>8166</td>\n",
       "      <td>8166</td>\n",
       "      <td>8163</td>\n",
       "      <td>8163</td>\n",
       "    </tr>\n",
       "    <tr>\n",
       "      <td>unique</td>\n",
       "      <td>5810</td>\n",
       "      <td>2</td>\n",
       "      <td>8166</td>\n",
       "      <td>3</td>\n",
       "      <td>7986</td>\n",
       "      <td>7928</td>\n",
       "    </tr>\n",
       "    <tr>\n",
       "      <td>top</td>\n",
       "      <td>Dunkin'</td>\n",
       "      <td>True</td>\n",
       "      <td>ChIJ-zPTIlm1w4kRk9873jeFp-E</td>\n",
       "      <td>restaurant</td>\n",
       "      <td>J25Q+R6 Brooklyn, New York</td>\n",
       "      <td>87G8J25Q+R6</td>\n",
       "    </tr>\n",
       "    <tr>\n",
       "      <td>freq</td>\n",
       "      <td>439</td>\n",
       "      <td>7130</td>\n",
       "      <td>1</td>\n",
       "      <td>3260</td>\n",
       "      <td>4</td>\n",
       "      <td>4</td>\n",
       "    </tr>\n",
       "  </tbody>\n",
       "</table>\n",
       "</div>"
      ],
      "text/plain": [
       "           name open_now                     place_id searched_keyword  \\\n",
       "count      8166     7884                         8166             8166   \n",
       "unique     5810        2                         8166                3   \n",
       "top     Dunkin'     True  ChIJ-zPTIlm1w4kRk9873jeFp-E       restaurant   \n",
       "freq        439     7130                            1             3260   \n",
       "\n",
       "                     compound_code  global_code  \n",
       "count                         8163         8163  \n",
       "unique                        7986         7928  \n",
       "top     J25Q+R6 Brooklyn, New York  87G8J25Q+R6  \n",
       "freq                             4            4  "
      ]
     },
     "execution_count": 25,
     "metadata": {},
     "output_type": "execute_result"
    }
   ],
   "source": [
    "df.describe(include=object)"
   ]
  },
  {
   "cell_type": "code",
   "execution_count": 26,
   "metadata": {},
   "outputs": [],
   "source": [
    "# drop_first=False since we might not use linear regression models\n",
    "df = pd.get_dummies(df, columns=['open_now'], drop_first=False, dummy_na=True)"
   ]
  },
  {
   "cell_type": "markdown",
   "metadata": {},
   "source": [
    "## Investigate numerical data"
   ]
  },
  {
   "cell_type": "markdown",
   "metadata": {},
   "source": [
    "Columns such as zipcode, location_lat, location_lng etc. are nominal.   \n",
    "Columns that contain's business type information are categorical in nature.  \n",
    "I will not explore those columns in this section."
   ]
  },
  {
   "cell_type": "code",
   "execution_count": 27,
   "metadata": {},
   "outputs": [
    {
     "data": {
      "text/html": [
       "<div>\n",
       "<style scoped>\n",
       "    .dataframe tbody tr th:only-of-type {\n",
       "        vertical-align: middle;\n",
       "    }\n",
       "\n",
       "    .dataframe tbody tr th {\n",
       "        vertical-align: top;\n",
       "    }\n",
       "\n",
       "    .dataframe thead th {\n",
       "        text-align: right;\n",
       "    }\n",
       "</style>\n",
       "<table border=\"1\" class=\"dataframe\">\n",
       "  <thead>\n",
       "    <tr style=\"text-align: right;\">\n",
       "      <th></th>\n",
       "      <th>zipcode</th>\n",
       "      <th>price_level</th>\n",
       "      <th>rating</th>\n",
       "      <th>user_ratings_total</th>\n",
       "      <th>searched_zipcode</th>\n",
       "      <th>location_lat</th>\n",
       "      <th>location_lng</th>\n",
       "      <th>art_gallery</th>\n",
       "      <th>atm</th>\n",
       "      <th>bakery</th>\n",
       "      <th>bar</th>\n",
       "      <th>beauty_salon</th>\n",
       "      <th>bicycle_store</th>\n",
       "      <th>book_store</th>\n",
       "      <th>cafe</th>\n",
       "      <th>car_dealer</th>\n",
       "      <th>car_repair</th>\n",
       "      <th>car_wash</th>\n",
       "      <th>clothing_store</th>\n",
       "      <th>convenience_store</th>\n",
       "      <th>department_store</th>\n",
       "      <th>drugstore</th>\n",
       "      <th>electronics_store</th>\n",
       "      <th>establishment</th>\n",
       "      <th>finance</th>\n",
       "      <th>florist</th>\n",
       "      <th>food</th>\n",
       "      <th>funeral_home</th>\n",
       "      <th>furniture_store</th>\n",
       "      <th>gas_station</th>\n",
       "      <th>general_contractor</th>\n",
       "      <th>grocery_or_supermarket</th>\n",
       "      <th>hair_care</th>\n",
       "      <th>hardware_store</th>\n",
       "      <th>health</th>\n",
       "      <th>home_goods_store</th>\n",
       "      <th>jewelry_store</th>\n",
       "      <th>laundry</th>\n",
       "      <th>liquor_store</th>\n",
       "      <th>local_government_office</th>\n",
       "      <th>locksmith</th>\n",
       "      <th>lodging</th>\n",
       "      <th>meal_delivery</th>\n",
       "      <th>meal_takeaway</th>\n",
       "      <th>movie_rental</th>\n",
       "      <th>night_club</th>\n",
       "      <th>park</th>\n",
       "      <th>parking</th>\n",
       "      <th>pet_store</th>\n",
       "      <th>pharmacy</th>\n",
       "      <th>point_of_interest</th>\n",
       "      <th>premise</th>\n",
       "      <th>restaurant</th>\n",
       "      <th>school</th>\n",
       "      <th>shoe_store</th>\n",
       "      <th>shopping_mall</th>\n",
       "      <th>spa</th>\n",
       "      <th>storage</th>\n",
       "      <th>store</th>\n",
       "      <th>supermarket</th>\n",
       "      <th>tourist_attraction</th>\n",
       "      <th>travel_agency</th>\n",
       "      <th>population</th>\n",
       "      <th>population_density_square_miles</th>\n",
       "      <th>housing_units</th>\n",
       "      <th>home_price_to_income_ratios</th>\n",
       "      <th>price_level*rating</th>\n",
       "      <th>avg_price_level_by_zipcode</th>\n",
       "      <th>avg_rating_by_zipcode</th>\n",
       "      <th>avg_user_ratings_total_by_zipcode</th>\n",
       "      <th>total_number_of_bars_by_zipcode</th>\n",
       "      <th>total_number_of_cafes_by_zipcode</th>\n",
       "      <th>user_ratings_total_per_capita</th>\n",
       "      <th>rating_weighed_population_density</th>\n",
       "      <th>open_now_False</th>\n",
       "      <th>open_now_True</th>\n",
       "      <th>open_now_nan</th>\n",
       "    </tr>\n",
       "  </thead>\n",
       "  <tbody>\n",
       "    <tr>\n",
       "      <td>count</td>\n",
       "      <td>8166.000000</td>\n",
       "      <td>4987.000000</td>\n",
       "      <td>8166.000000</td>\n",
       "      <td>8166.000000</td>\n",
       "      <td>8166.000000</td>\n",
       "      <td>8166.000000</td>\n",
       "      <td>8166.000000</td>\n",
       "      <td>8166.000000</td>\n",
       "      <td>8166.000000</td>\n",
       "      <td>8166.000000</td>\n",
       "      <td>8166.000000</td>\n",
       "      <td>8166.000000</td>\n",
       "      <td>8166.000000</td>\n",
       "      <td>8166.000000</td>\n",
       "      <td>8166.000000</td>\n",
       "      <td>8166.000000</td>\n",
       "      <td>8166.000000</td>\n",
       "      <td>8166.000000</td>\n",
       "      <td>8166.000000</td>\n",
       "      <td>8166.000000</td>\n",
       "      <td>8166.000000</td>\n",
       "      <td>8166.000000</td>\n",
       "      <td>8166.000000</td>\n",
       "      <td>8166.0</td>\n",
       "      <td>8166.000000</td>\n",
       "      <td>8166.000000</td>\n",
       "      <td>8166.000000</td>\n",
       "      <td>8166.000000</td>\n",
       "      <td>8166.000000</td>\n",
       "      <td>8166.000000</td>\n",
       "      <td>8166.000000</td>\n",
       "      <td>8166.000000</td>\n",
       "      <td>8166.000000</td>\n",
       "      <td>8166.000000</td>\n",
       "      <td>8166.000000</td>\n",
       "      <td>8166.000000</td>\n",
       "      <td>8166.000000</td>\n",
       "      <td>8166.000000</td>\n",
       "      <td>8166.000000</td>\n",
       "      <td>8166.000000</td>\n",
       "      <td>8166.000000</td>\n",
       "      <td>8166.000000</td>\n",
       "      <td>8166.000000</td>\n",
       "      <td>8166.000000</td>\n",
       "      <td>8166.0</td>\n",
       "      <td>8166.000000</td>\n",
       "      <td>8166.000000</td>\n",
       "      <td>8166.000000</td>\n",
       "      <td>8166.000000</td>\n",
       "      <td>8166.000000</td>\n",
       "      <td>8166.0</td>\n",
       "      <td>8166.000000</td>\n",
       "      <td>8166.000000</td>\n",
       "      <td>8166.000000</td>\n",
       "      <td>8166.000000</td>\n",
       "      <td>8166.000000</td>\n",
       "      <td>8166.000000</td>\n",
       "      <td>8166.000000</td>\n",
       "      <td>8166.000000</td>\n",
       "      <td>8166.000000</td>\n",
       "      <td>8166.000000</td>\n",
       "      <td>8166.000000</td>\n",
       "      <td>8166.000000</td>\n",
       "      <td>8166.000000</td>\n",
       "      <td>8166.000000</td>\n",
       "      <td>8166.000000</td>\n",
       "      <td>4987.000000</td>\n",
       "      <td>8166.000000</td>\n",
       "      <td>8166.000000</td>\n",
       "      <td>8166.000000</td>\n",
       "      <td>8166.000000</td>\n",
       "      <td>8166.000000</td>\n",
       "      <td>8166.000000</td>\n",
       "      <td>8166.000000</td>\n",
       "      <td>8166.000000</td>\n",
       "      <td>8166.000000</td>\n",
       "      <td>8166.000000</td>\n",
       "    </tr>\n",
       "    <tr>\n",
       "      <td>mean</td>\n",
       "      <td>10762.693608</td>\n",
       "      <td>1.675957</td>\n",
       "      <td>4.075398</td>\n",
       "      <td>322.767695</td>\n",
       "      <td>10763.380480</td>\n",
       "      <td>40.727565</td>\n",
       "      <td>-73.928664</td>\n",
       "      <td>0.000857</td>\n",
       "      <td>0.002327</td>\n",
       "      <td>0.078619</td>\n",
       "      <td>0.089028</td>\n",
       "      <td>0.000245</td>\n",
       "      <td>0.003184</td>\n",
       "      <td>0.003551</td>\n",
       "      <td>0.219691</td>\n",
       "      <td>0.000122</td>\n",
       "      <td>0.009674</td>\n",
       "      <td>0.000122</td>\n",
       "      <td>0.071516</td>\n",
       "      <td>0.070536</td>\n",
       "      <td>0.013960</td>\n",
       "      <td>0.039922</td>\n",
       "      <td>0.032329</td>\n",
       "      <td>1.0</td>\n",
       "      <td>0.012981</td>\n",
       "      <td>0.005756</td>\n",
       "      <td>0.757164</td>\n",
       "      <td>0.000122</td>\n",
       "      <td>0.034656</td>\n",
       "      <td>0.000490</td>\n",
       "      <td>0.002694</td>\n",
       "      <td>0.060740</td>\n",
       "      <td>0.000735</td>\n",
       "      <td>0.024614</td>\n",
       "      <td>0.050453</td>\n",
       "      <td>0.066005</td>\n",
       "      <td>0.009184</td>\n",
       "      <td>0.000122</td>\n",
       "      <td>0.033921</td>\n",
       "      <td>0.000122</td>\n",
       "      <td>0.002449</td>\n",
       "      <td>0.000245</td>\n",
       "      <td>0.112540</td>\n",
       "      <td>0.022777</td>\n",
       "      <td>0.0</td>\n",
       "      <td>0.007348</td>\n",
       "      <td>0.000122</td>\n",
       "      <td>0.000245</td>\n",
       "      <td>0.002572</td>\n",
       "      <td>0.009429</td>\n",
       "      <td>1.0</td>\n",
       "      <td>0.025104</td>\n",
       "      <td>0.501225</td>\n",
       "      <td>0.000245</td>\n",
       "      <td>0.015307</td>\n",
       "      <td>0.002327</td>\n",
       "      <td>0.000122</td>\n",
       "      <td>0.000245</td>\n",
       "      <td>0.598579</td>\n",
       "      <td>0.021798</td>\n",
       "      <td>0.000245</td>\n",
       "      <td>0.000245</td>\n",
       "      <td>50634.423953</td>\n",
       "      <td>47646.411021</td>\n",
       "      <td>21243.660911</td>\n",
       "      <td>10.016076</td>\n",
       "      <td>6.929076</td>\n",
       "      <td>1.634721</td>\n",
       "      <td>4.075398</td>\n",
       "      <td>322.767695</td>\n",
       "      <td>4.647073</td>\n",
       "      <td>11.583395</td>\n",
       "      <td>0.011354</td>\n",
       "      <td>194552.141166</td>\n",
       "      <td>0.092334</td>\n",
       "      <td>0.873133</td>\n",
       "      <td>0.034533</td>\n",
       "    </tr>\n",
       "    <tr>\n",
       "      <td>std</td>\n",
       "      <td>575.304404</td>\n",
       "      <td>0.586714</td>\n",
       "      <td>0.792878</td>\n",
       "      <td>954.401839</td>\n",
       "      <td>574.968362</td>\n",
       "      <td>0.082737</td>\n",
       "      <td>0.092027</td>\n",
       "      <td>0.029267</td>\n",
       "      <td>0.048183</td>\n",
       "      <td>0.269159</td>\n",
       "      <td>0.284801</td>\n",
       "      <td>0.015649</td>\n",
       "      <td>0.056340</td>\n",
       "      <td>0.059491</td>\n",
       "      <td>0.414063</td>\n",
       "      <td>0.011066</td>\n",
       "      <td>0.097887</td>\n",
       "      <td>0.011066</td>\n",
       "      <td>0.257701</td>\n",
       "      <td>0.256064</td>\n",
       "      <td>0.117333</td>\n",
       "      <td>0.195787</td>\n",
       "      <td>0.176884</td>\n",
       "      <td>0.0</td>\n",
       "      <td>0.113198</td>\n",
       "      <td>0.075651</td>\n",
       "      <td>0.428823</td>\n",
       "      <td>0.011066</td>\n",
       "      <td>0.182918</td>\n",
       "      <td>0.022128</td>\n",
       "      <td>0.051838</td>\n",
       "      <td>0.238867</td>\n",
       "      <td>0.027098</td>\n",
       "      <td>0.154956</td>\n",
       "      <td>0.218891</td>\n",
       "      <td>0.248307</td>\n",
       "      <td>0.095400</td>\n",
       "      <td>0.011066</td>\n",
       "      <td>0.181037</td>\n",
       "      <td>0.011066</td>\n",
       "      <td>0.049432</td>\n",
       "      <td>0.015649</td>\n",
       "      <td>0.316049</td>\n",
       "      <td>0.149202</td>\n",
       "      <td>0.0</td>\n",
       "      <td>0.085408</td>\n",
       "      <td>0.011066</td>\n",
       "      <td>0.015649</td>\n",
       "      <td>0.050649</td>\n",
       "      <td>0.096652</td>\n",
       "      <td>0.0</td>\n",
       "      <td>0.156451</td>\n",
       "      <td>0.500029</td>\n",
       "      <td>0.015649</td>\n",
       "      <td>0.122780</td>\n",
       "      <td>0.048183</td>\n",
       "      <td>0.011066</td>\n",
       "      <td>0.015649</td>\n",
       "      <td>0.490216</td>\n",
       "      <td>0.146031</td>\n",
       "      <td>0.015649</td>\n",
       "      <td>0.015649</td>\n",
       "      <td>26293.570052</td>\n",
       "      <td>31856.830926</td>\n",
       "      <td>10389.978473</td>\n",
       "      <td>4.040684</td>\n",
       "      <td>2.696373</td>\n",
       "      <td>0.266850</td>\n",
       "      <td>0.214264</td>\n",
       "      <td>235.730861</td>\n",
       "      <td>3.666583</td>\n",
       "      <td>6.104185</td>\n",
       "      <td>0.056434</td>\n",
       "      <td>137310.972102</td>\n",
       "      <td>0.289515</td>\n",
       "      <td>0.332845</td>\n",
       "      <td>0.182606</td>\n",
       "    </tr>\n",
       "    <tr>\n",
       "      <td>min</td>\n",
       "      <td>10001.000000</td>\n",
       "      <td>1.000000</td>\n",
       "      <td>0.000000</td>\n",
       "      <td>0.000000</td>\n",
       "      <td>10001.000000</td>\n",
       "      <td>40.506413</td>\n",
       "      <td>-74.251412</td>\n",
       "      <td>0.000000</td>\n",
       "      <td>0.000000</td>\n",
       "      <td>0.000000</td>\n",
       "      <td>0.000000</td>\n",
       "      <td>0.000000</td>\n",
       "      <td>0.000000</td>\n",
       "      <td>0.000000</td>\n",
       "      <td>0.000000</td>\n",
       "      <td>0.000000</td>\n",
       "      <td>0.000000</td>\n",
       "      <td>0.000000</td>\n",
       "      <td>0.000000</td>\n",
       "      <td>0.000000</td>\n",
       "      <td>0.000000</td>\n",
       "      <td>0.000000</td>\n",
       "      <td>0.000000</td>\n",
       "      <td>1.0</td>\n",
       "      <td>0.000000</td>\n",
       "      <td>0.000000</td>\n",
       "      <td>0.000000</td>\n",
       "      <td>0.000000</td>\n",
       "      <td>0.000000</td>\n",
       "      <td>0.000000</td>\n",
       "      <td>0.000000</td>\n",
       "      <td>0.000000</td>\n",
       "      <td>0.000000</td>\n",
       "      <td>0.000000</td>\n",
       "      <td>0.000000</td>\n",
       "      <td>0.000000</td>\n",
       "      <td>0.000000</td>\n",
       "      <td>0.000000</td>\n",
       "      <td>0.000000</td>\n",
       "      <td>0.000000</td>\n",
       "      <td>0.000000</td>\n",
       "      <td>0.000000</td>\n",
       "      <td>0.000000</td>\n",
       "      <td>0.000000</td>\n",
       "      <td>0.0</td>\n",
       "      <td>0.000000</td>\n",
       "      <td>0.000000</td>\n",
       "      <td>0.000000</td>\n",
       "      <td>0.000000</td>\n",
       "      <td>0.000000</td>\n",
       "      <td>1.0</td>\n",
       "      <td>0.000000</td>\n",
       "      <td>0.000000</td>\n",
       "      <td>0.000000</td>\n",
       "      <td>0.000000</td>\n",
       "      <td>0.000000</td>\n",
       "      <td>0.000000</td>\n",
       "      <td>0.000000</td>\n",
       "      <td>0.000000</td>\n",
       "      <td>0.000000</td>\n",
       "      <td>0.000000</td>\n",
       "      <td>0.000000</td>\n",
       "      <td>1749.000000</td>\n",
       "      <td>1277.000000</td>\n",
       "      <td>1613.000000</td>\n",
       "      <td>0.542965</td>\n",
       "      <td>0.000000</td>\n",
       "      <td>1.000000</td>\n",
       "      <td>1.850000</td>\n",
       "      <td>4.500000</td>\n",
       "      <td>0.000000</td>\n",
       "      <td>0.000000</td>\n",
       "      <td>0.000000</td>\n",
       "      <td>0.000000</td>\n",
       "      <td>0.000000</td>\n",
       "      <td>0.000000</td>\n",
       "      <td>0.000000</td>\n",
       "    </tr>\n",
       "    <tr>\n",
       "      <td>25%</td>\n",
       "      <td>10049.250000</td>\n",
       "      <td>1.000000</td>\n",
       "      <td>3.900000</td>\n",
       "      <td>37.000000</td>\n",
       "      <td>10065.000000</td>\n",
       "      <td>40.673857</td>\n",
       "      <td>-73.982478</td>\n",
       "      <td>0.000000</td>\n",
       "      <td>0.000000</td>\n",
       "      <td>0.000000</td>\n",
       "      <td>0.000000</td>\n",
       "      <td>0.000000</td>\n",
       "      <td>0.000000</td>\n",
       "      <td>0.000000</td>\n",
       "      <td>0.000000</td>\n",
       "      <td>0.000000</td>\n",
       "      <td>0.000000</td>\n",
       "      <td>0.000000</td>\n",
       "      <td>0.000000</td>\n",
       "      <td>0.000000</td>\n",
       "      <td>0.000000</td>\n",
       "      <td>0.000000</td>\n",
       "      <td>0.000000</td>\n",
       "      <td>1.0</td>\n",
       "      <td>0.000000</td>\n",
       "      <td>0.000000</td>\n",
       "      <td>1.000000</td>\n",
       "      <td>0.000000</td>\n",
       "      <td>0.000000</td>\n",
       "      <td>0.000000</td>\n",
       "      <td>0.000000</td>\n",
       "      <td>0.000000</td>\n",
       "      <td>0.000000</td>\n",
       "      <td>0.000000</td>\n",
       "      <td>0.000000</td>\n",
       "      <td>0.000000</td>\n",
       "      <td>0.000000</td>\n",
       "      <td>0.000000</td>\n",
       "      <td>0.000000</td>\n",
       "      <td>0.000000</td>\n",
       "      <td>0.000000</td>\n",
       "      <td>0.000000</td>\n",
       "      <td>0.000000</td>\n",
       "      <td>0.000000</td>\n",
       "      <td>0.0</td>\n",
       "      <td>0.000000</td>\n",
       "      <td>0.000000</td>\n",
       "      <td>0.000000</td>\n",
       "      <td>0.000000</td>\n",
       "      <td>0.000000</td>\n",
       "      <td>1.0</td>\n",
       "      <td>0.000000</td>\n",
       "      <td>0.000000</td>\n",
       "      <td>0.000000</td>\n",
       "      <td>0.000000</td>\n",
       "      <td>0.000000</td>\n",
       "      <td>0.000000</td>\n",
       "      <td>0.000000</td>\n",
       "      <td>0.000000</td>\n",
       "      <td>0.000000</td>\n",
       "      <td>0.000000</td>\n",
       "      <td>0.000000</td>\n",
       "      <td>30043.000000</td>\n",
       "      <td>22742.100000</td>\n",
       "      <td>12931.000000</td>\n",
       "      <td>6.858595</td>\n",
       "      <td>4.300000</td>\n",
       "      <td>1.444444</td>\n",
       "      <td>4.000000</td>\n",
       "      <td>190.673077</td>\n",
       "      <td>2.000000</td>\n",
       "      <td>6.000000</td>\n",
       "      <td>0.000781</td>\n",
       "      <td>87403.050000</td>\n",
       "      <td>0.000000</td>\n",
       "      <td>1.000000</td>\n",
       "      <td>0.000000</td>\n",
       "    </tr>\n",
       "    <tr>\n",
       "      <td>50%</td>\n",
       "      <td>11102.000000</td>\n",
       "      <td>2.000000</td>\n",
       "      <td>4.200000</td>\n",
       "      <td>126.000000</td>\n",
       "      <td>11102.000000</td>\n",
       "      <td>40.729964</td>\n",
       "      <td>-73.937396</td>\n",
       "      <td>0.000000</td>\n",
       "      <td>0.000000</td>\n",
       "      <td>0.000000</td>\n",
       "      <td>0.000000</td>\n",
       "      <td>0.000000</td>\n",
       "      <td>0.000000</td>\n",
       "      <td>0.000000</td>\n",
       "      <td>0.000000</td>\n",
       "      <td>0.000000</td>\n",
       "      <td>0.000000</td>\n",
       "      <td>0.000000</td>\n",
       "      <td>0.000000</td>\n",
       "      <td>0.000000</td>\n",
       "      <td>0.000000</td>\n",
       "      <td>0.000000</td>\n",
       "      <td>0.000000</td>\n",
       "      <td>1.0</td>\n",
       "      <td>0.000000</td>\n",
       "      <td>0.000000</td>\n",
       "      <td>1.000000</td>\n",
       "      <td>0.000000</td>\n",
       "      <td>0.000000</td>\n",
       "      <td>0.000000</td>\n",
       "      <td>0.000000</td>\n",
       "      <td>0.000000</td>\n",
       "      <td>0.000000</td>\n",
       "      <td>0.000000</td>\n",
       "      <td>0.000000</td>\n",
       "      <td>0.000000</td>\n",
       "      <td>0.000000</td>\n",
       "      <td>0.000000</td>\n",
       "      <td>0.000000</td>\n",
       "      <td>0.000000</td>\n",
       "      <td>0.000000</td>\n",
       "      <td>0.000000</td>\n",
       "      <td>0.000000</td>\n",
       "      <td>0.000000</td>\n",
       "      <td>0.0</td>\n",
       "      <td>0.000000</td>\n",
       "      <td>0.000000</td>\n",
       "      <td>0.000000</td>\n",
       "      <td>0.000000</td>\n",
       "      <td>0.000000</td>\n",
       "      <td>1.0</td>\n",
       "      <td>0.000000</td>\n",
       "      <td>1.000000</td>\n",
       "      <td>0.000000</td>\n",
       "      <td>0.000000</td>\n",
       "      <td>0.000000</td>\n",
       "      <td>0.000000</td>\n",
       "      <td>0.000000</td>\n",
       "      <td>1.000000</td>\n",
       "      <td>0.000000</td>\n",
       "      <td>0.000000</td>\n",
       "      <td>0.000000</td>\n",
       "      <td>46064.000000</td>\n",
       "      <td>42754.600000</td>\n",
       "      <td>20030.000000</td>\n",
       "      <td>9.212432</td>\n",
       "      <td>7.800000</td>\n",
       "      <td>1.600000</td>\n",
       "      <td>4.095833</td>\n",
       "      <td>254.622222</td>\n",
       "      <td>4.000000</td>\n",
       "      <td>12.000000</td>\n",
       "      <td>0.002743</td>\n",
       "      <td>168067.610000</td>\n",
       "      <td>0.000000</td>\n",
       "      <td>1.000000</td>\n",
       "      <td>0.000000</td>\n",
       "    </tr>\n",
       "    <tr>\n",
       "      <td>75%</td>\n",
       "      <td>11236.000000</td>\n",
       "      <td>2.000000</td>\n",
       "      <td>4.500000</td>\n",
       "      <td>336.000000</td>\n",
       "      <td>11236.000000</td>\n",
       "      <td>40.779636</td>\n",
       "      <td>-73.870514</td>\n",
       "      <td>0.000000</td>\n",
       "      <td>0.000000</td>\n",
       "      <td>0.000000</td>\n",
       "      <td>0.000000</td>\n",
       "      <td>0.000000</td>\n",
       "      <td>0.000000</td>\n",
       "      <td>0.000000</td>\n",
       "      <td>0.000000</td>\n",
       "      <td>0.000000</td>\n",
       "      <td>0.000000</td>\n",
       "      <td>0.000000</td>\n",
       "      <td>0.000000</td>\n",
       "      <td>0.000000</td>\n",
       "      <td>0.000000</td>\n",
       "      <td>0.000000</td>\n",
       "      <td>0.000000</td>\n",
       "      <td>1.0</td>\n",
       "      <td>0.000000</td>\n",
       "      <td>0.000000</td>\n",
       "      <td>1.000000</td>\n",
       "      <td>0.000000</td>\n",
       "      <td>0.000000</td>\n",
       "      <td>0.000000</td>\n",
       "      <td>0.000000</td>\n",
       "      <td>0.000000</td>\n",
       "      <td>0.000000</td>\n",
       "      <td>0.000000</td>\n",
       "      <td>0.000000</td>\n",
       "      <td>0.000000</td>\n",
       "      <td>0.000000</td>\n",
       "      <td>0.000000</td>\n",
       "      <td>0.000000</td>\n",
       "      <td>0.000000</td>\n",
       "      <td>0.000000</td>\n",
       "      <td>0.000000</td>\n",
       "      <td>0.000000</td>\n",
       "      <td>0.000000</td>\n",
       "      <td>0.0</td>\n",
       "      <td>0.000000</td>\n",
       "      <td>0.000000</td>\n",
       "      <td>0.000000</td>\n",
       "      <td>0.000000</td>\n",
       "      <td>0.000000</td>\n",
       "      <td>1.0</td>\n",
       "      <td>0.000000</td>\n",
       "      <td>1.000000</td>\n",
       "      <td>0.000000</td>\n",
       "      <td>0.000000</td>\n",
       "      <td>0.000000</td>\n",
       "      <td>0.000000</td>\n",
       "      <td>0.000000</td>\n",
       "      <td>1.000000</td>\n",
       "      <td>0.000000</td>\n",
       "      <td>0.000000</td>\n",
       "      <td>0.000000</td>\n",
       "      <td>72479.000000</td>\n",
       "      <td>65283.500000</td>\n",
       "      <td>30734.000000</td>\n",
       "      <td>12.312973</td>\n",
       "      <td>8.800000</td>\n",
       "      <td>1.800000</td>\n",
       "      <td>4.202222</td>\n",
       "      <td>393.961538</td>\n",
       "      <td>8.000000</td>\n",
       "      <td>16.000000</td>\n",
       "      <td>0.008137</td>\n",
       "      <td>270321.710000</td>\n",
       "      <td>0.000000</td>\n",
       "      <td>1.000000</td>\n",
       "      <td>0.000000</td>\n",
       "    </tr>\n",
       "    <tr>\n",
       "      <td>max</td>\n",
       "      <td>11697.000000</td>\n",
       "      <td>4.000000</td>\n",
       "      <td>5.000000</td>\n",
       "      <td>51032.000000</td>\n",
       "      <td>11697.000000</td>\n",
       "      <td>40.910483</td>\n",
       "      <td>-73.701657</td>\n",
       "      <td>1.000000</td>\n",
       "      <td>1.000000</td>\n",
       "      <td>1.000000</td>\n",
       "      <td>1.000000</td>\n",
       "      <td>1.000000</td>\n",
       "      <td>1.000000</td>\n",
       "      <td>1.000000</td>\n",
       "      <td>1.000000</td>\n",
       "      <td>1.000000</td>\n",
       "      <td>1.000000</td>\n",
       "      <td>1.000000</td>\n",
       "      <td>1.000000</td>\n",
       "      <td>1.000000</td>\n",
       "      <td>1.000000</td>\n",
       "      <td>1.000000</td>\n",
       "      <td>1.000000</td>\n",
       "      <td>1.0</td>\n",
       "      <td>1.000000</td>\n",
       "      <td>1.000000</td>\n",
       "      <td>1.000000</td>\n",
       "      <td>1.000000</td>\n",
       "      <td>1.000000</td>\n",
       "      <td>1.000000</td>\n",
       "      <td>1.000000</td>\n",
       "      <td>1.000000</td>\n",
       "      <td>1.000000</td>\n",
       "      <td>1.000000</td>\n",
       "      <td>1.000000</td>\n",
       "      <td>1.000000</td>\n",
       "      <td>1.000000</td>\n",
       "      <td>1.000000</td>\n",
       "      <td>1.000000</td>\n",
       "      <td>1.000000</td>\n",
       "      <td>1.000000</td>\n",
       "      <td>1.000000</td>\n",
       "      <td>1.000000</td>\n",
       "      <td>1.000000</td>\n",
       "      <td>0.0</td>\n",
       "      <td>1.000000</td>\n",
       "      <td>1.000000</td>\n",
       "      <td>1.000000</td>\n",
       "      <td>1.000000</td>\n",
       "      <td>1.000000</td>\n",
       "      <td>1.0</td>\n",
       "      <td>1.000000</td>\n",
       "      <td>1.000000</td>\n",
       "      <td>1.000000</td>\n",
       "      <td>1.000000</td>\n",
       "      <td>1.000000</td>\n",
       "      <td>1.000000</td>\n",
       "      <td>1.000000</td>\n",
       "      <td>1.000000</td>\n",
       "      <td>1.000000</td>\n",
       "      <td>1.000000</td>\n",
       "      <td>1.000000</td>\n",
       "      <td>112425.000000</td>\n",
       "      <td>152562.200000</td>\n",
       "      <td>48359.000000</td>\n",
       "      <td>22.005344</td>\n",
       "      <td>19.600000</td>\n",
       "      <td>2.297872</td>\n",
       "      <td>4.438182</td>\n",
       "      <td>1872.661290</td>\n",
       "      <td>14.000000</td>\n",
       "      <td>29.000000</td>\n",
       "      <td>2.495088</td>\n",
       "      <td>762811.000000</td>\n",
       "      <td>1.000000</td>\n",
       "      <td>1.000000</td>\n",
       "      <td>1.000000</td>\n",
       "    </tr>\n",
       "  </tbody>\n",
       "</table>\n",
       "</div>"
      ],
      "text/plain": [
       "            zipcode  price_level       rating  user_ratings_total  \\\n",
       "count   8166.000000  4987.000000  8166.000000         8166.000000   \n",
       "mean   10762.693608     1.675957     4.075398          322.767695   \n",
       "std      575.304404     0.586714     0.792878          954.401839   \n",
       "min    10001.000000     1.000000     0.000000            0.000000   \n",
       "25%    10049.250000     1.000000     3.900000           37.000000   \n",
       "50%    11102.000000     2.000000     4.200000          126.000000   \n",
       "75%    11236.000000     2.000000     4.500000          336.000000   \n",
       "max    11697.000000     4.000000     5.000000        51032.000000   \n",
       "\n",
       "       searched_zipcode  location_lat  location_lng  art_gallery          atm  \\\n",
       "count       8166.000000   8166.000000   8166.000000  8166.000000  8166.000000   \n",
       "mean       10763.380480     40.727565    -73.928664     0.000857     0.002327   \n",
       "std          574.968362      0.082737      0.092027     0.029267     0.048183   \n",
       "min        10001.000000     40.506413    -74.251412     0.000000     0.000000   \n",
       "25%        10065.000000     40.673857    -73.982478     0.000000     0.000000   \n",
       "50%        11102.000000     40.729964    -73.937396     0.000000     0.000000   \n",
       "75%        11236.000000     40.779636    -73.870514     0.000000     0.000000   \n",
       "max        11697.000000     40.910483    -73.701657     1.000000     1.000000   \n",
       "\n",
       "            bakery          bar  beauty_salon  bicycle_store   book_store  \\\n",
       "count  8166.000000  8166.000000   8166.000000    8166.000000  8166.000000   \n",
       "mean      0.078619     0.089028      0.000245       0.003184     0.003551   \n",
       "std       0.269159     0.284801      0.015649       0.056340     0.059491   \n",
       "min       0.000000     0.000000      0.000000       0.000000     0.000000   \n",
       "25%       0.000000     0.000000      0.000000       0.000000     0.000000   \n",
       "50%       0.000000     0.000000      0.000000       0.000000     0.000000   \n",
       "75%       0.000000     0.000000      0.000000       0.000000     0.000000   \n",
       "max       1.000000     1.000000      1.000000       1.000000     1.000000   \n",
       "\n",
       "              cafe   car_dealer   car_repair     car_wash  clothing_store  \\\n",
       "count  8166.000000  8166.000000  8166.000000  8166.000000     8166.000000   \n",
       "mean      0.219691     0.000122     0.009674     0.000122        0.071516   \n",
       "std       0.414063     0.011066     0.097887     0.011066        0.257701   \n",
       "min       0.000000     0.000000     0.000000     0.000000        0.000000   \n",
       "25%       0.000000     0.000000     0.000000     0.000000        0.000000   \n",
       "50%       0.000000     0.000000     0.000000     0.000000        0.000000   \n",
       "75%       0.000000     0.000000     0.000000     0.000000        0.000000   \n",
       "max       1.000000     1.000000     1.000000     1.000000        1.000000   \n",
       "\n",
       "       convenience_store  department_store    drugstore  electronics_store  \\\n",
       "count        8166.000000       8166.000000  8166.000000        8166.000000   \n",
       "mean            0.070536          0.013960     0.039922           0.032329   \n",
       "std             0.256064          0.117333     0.195787           0.176884   \n",
       "min             0.000000          0.000000     0.000000           0.000000   \n",
       "25%             0.000000          0.000000     0.000000           0.000000   \n",
       "50%             0.000000          0.000000     0.000000           0.000000   \n",
       "75%             0.000000          0.000000     0.000000           0.000000   \n",
       "max             1.000000          1.000000     1.000000           1.000000   \n",
       "\n",
       "       establishment      finance      florist         food  funeral_home  \\\n",
       "count         8166.0  8166.000000  8166.000000  8166.000000   8166.000000   \n",
       "mean             1.0     0.012981     0.005756     0.757164      0.000122   \n",
       "std              0.0     0.113198     0.075651     0.428823      0.011066   \n",
       "min              1.0     0.000000     0.000000     0.000000      0.000000   \n",
       "25%              1.0     0.000000     0.000000     1.000000      0.000000   \n",
       "50%              1.0     0.000000     0.000000     1.000000      0.000000   \n",
       "75%              1.0     0.000000     0.000000     1.000000      0.000000   \n",
       "max              1.0     1.000000     1.000000     1.000000      1.000000   \n",
       "\n",
       "       furniture_store  gas_station  general_contractor  \\\n",
       "count      8166.000000  8166.000000         8166.000000   \n",
       "mean          0.034656     0.000490            0.002694   \n",
       "std           0.182918     0.022128            0.051838   \n",
       "min           0.000000     0.000000            0.000000   \n",
       "25%           0.000000     0.000000            0.000000   \n",
       "50%           0.000000     0.000000            0.000000   \n",
       "75%           0.000000     0.000000            0.000000   \n",
       "max           1.000000     1.000000            1.000000   \n",
       "\n",
       "       grocery_or_supermarket    hair_care  hardware_store       health  \\\n",
       "count             8166.000000  8166.000000     8166.000000  8166.000000   \n",
       "mean                 0.060740     0.000735        0.024614     0.050453   \n",
       "std                  0.238867     0.027098        0.154956     0.218891   \n",
       "min                  0.000000     0.000000        0.000000     0.000000   \n",
       "25%                  0.000000     0.000000        0.000000     0.000000   \n",
       "50%                  0.000000     0.000000        0.000000     0.000000   \n",
       "75%                  0.000000     0.000000        0.000000     0.000000   \n",
       "max                  1.000000     1.000000        1.000000     1.000000   \n",
       "\n",
       "       home_goods_store  jewelry_store      laundry  liquor_store  \\\n",
       "count       8166.000000    8166.000000  8166.000000   8166.000000   \n",
       "mean           0.066005       0.009184     0.000122      0.033921   \n",
       "std            0.248307       0.095400     0.011066      0.181037   \n",
       "min            0.000000       0.000000     0.000000      0.000000   \n",
       "25%            0.000000       0.000000     0.000000      0.000000   \n",
       "50%            0.000000       0.000000     0.000000      0.000000   \n",
       "75%            0.000000       0.000000     0.000000      0.000000   \n",
       "max            1.000000       1.000000     1.000000      1.000000   \n",
       "\n",
       "       local_government_office    locksmith      lodging  meal_delivery  \\\n",
       "count              8166.000000  8166.000000  8166.000000    8166.000000   \n",
       "mean                  0.000122     0.002449     0.000245       0.112540   \n",
       "std                   0.011066     0.049432     0.015649       0.316049   \n",
       "min                   0.000000     0.000000     0.000000       0.000000   \n",
       "25%                   0.000000     0.000000     0.000000       0.000000   \n",
       "50%                   0.000000     0.000000     0.000000       0.000000   \n",
       "75%                   0.000000     0.000000     0.000000       0.000000   \n",
       "max                   1.000000     1.000000     1.000000       1.000000   \n",
       "\n",
       "       meal_takeaway  movie_rental   night_club         park      parking  \\\n",
       "count    8166.000000        8166.0  8166.000000  8166.000000  8166.000000   \n",
       "mean        0.022777           0.0     0.007348     0.000122     0.000245   \n",
       "std         0.149202           0.0     0.085408     0.011066     0.015649   \n",
       "min         0.000000           0.0     0.000000     0.000000     0.000000   \n",
       "25%         0.000000           0.0     0.000000     0.000000     0.000000   \n",
       "50%         0.000000           0.0     0.000000     0.000000     0.000000   \n",
       "75%         0.000000           0.0     0.000000     0.000000     0.000000   \n",
       "max         1.000000           0.0     1.000000     1.000000     1.000000   \n",
       "\n",
       "         pet_store     pharmacy  point_of_interest      premise   restaurant  \\\n",
       "count  8166.000000  8166.000000             8166.0  8166.000000  8166.000000   \n",
       "mean      0.002572     0.009429                1.0     0.025104     0.501225   \n",
       "std       0.050649     0.096652                0.0     0.156451     0.500029   \n",
       "min       0.000000     0.000000                1.0     0.000000     0.000000   \n",
       "25%       0.000000     0.000000                1.0     0.000000     0.000000   \n",
       "50%       0.000000     0.000000                1.0     0.000000     1.000000   \n",
       "75%       0.000000     0.000000                1.0     0.000000     1.000000   \n",
       "max       1.000000     1.000000                1.0     1.000000     1.000000   \n",
       "\n",
       "            school   shoe_store  shopping_mall          spa      storage  \\\n",
       "count  8166.000000  8166.000000    8166.000000  8166.000000  8166.000000   \n",
       "mean      0.000245     0.015307       0.002327     0.000122     0.000245   \n",
       "std       0.015649     0.122780       0.048183     0.011066     0.015649   \n",
       "min       0.000000     0.000000       0.000000     0.000000     0.000000   \n",
       "25%       0.000000     0.000000       0.000000     0.000000     0.000000   \n",
       "50%       0.000000     0.000000       0.000000     0.000000     0.000000   \n",
       "75%       0.000000     0.000000       0.000000     0.000000     0.000000   \n",
       "max       1.000000     1.000000       1.000000     1.000000     1.000000   \n",
       "\n",
       "             store  supermarket  tourist_attraction  travel_agency  \\\n",
       "count  8166.000000  8166.000000         8166.000000    8166.000000   \n",
       "mean      0.598579     0.021798            0.000245       0.000245   \n",
       "std       0.490216     0.146031            0.015649       0.015649   \n",
       "min       0.000000     0.000000            0.000000       0.000000   \n",
       "25%       0.000000     0.000000            0.000000       0.000000   \n",
       "50%       1.000000     0.000000            0.000000       0.000000   \n",
       "75%       1.000000     0.000000            0.000000       0.000000   \n",
       "max       1.000000     1.000000            1.000000       1.000000   \n",
       "\n",
       "          population  population_density_square_miles  housing_units  \\\n",
       "count    8166.000000                      8166.000000    8166.000000   \n",
       "mean    50634.423953                     47646.411021   21243.660911   \n",
       "std     26293.570052                     31856.830926   10389.978473   \n",
       "min      1749.000000                      1277.000000    1613.000000   \n",
       "25%     30043.000000                     22742.100000   12931.000000   \n",
       "50%     46064.000000                     42754.600000   20030.000000   \n",
       "75%     72479.000000                     65283.500000   30734.000000   \n",
       "max    112425.000000                    152562.200000   48359.000000   \n",
       "\n",
       "       home_price_to_income_ratios  price_level*rating  \\\n",
       "count                  8166.000000         4987.000000   \n",
       "mean                     10.016076            6.929076   \n",
       "std                       4.040684            2.696373   \n",
       "min                       0.542965            0.000000   \n",
       "25%                       6.858595            4.300000   \n",
       "50%                       9.212432            7.800000   \n",
       "75%                      12.312973            8.800000   \n",
       "max                      22.005344           19.600000   \n",
       "\n",
       "       avg_price_level_by_zipcode  avg_rating_by_zipcode  \\\n",
       "count                 8166.000000            8166.000000   \n",
       "mean                     1.634721               4.075398   \n",
       "std                      0.266850               0.214264   \n",
       "min                      1.000000               1.850000   \n",
       "25%                      1.444444               4.000000   \n",
       "50%                      1.600000               4.095833   \n",
       "75%                      1.800000               4.202222   \n",
       "max                      2.297872               4.438182   \n",
       "\n",
       "       avg_user_ratings_total_by_zipcode  total_number_of_bars_by_zipcode  \\\n",
       "count                        8166.000000                      8166.000000   \n",
       "mean                          322.767695                         4.647073   \n",
       "std                           235.730861                         3.666583   \n",
       "min                             4.500000                         0.000000   \n",
       "25%                           190.673077                         2.000000   \n",
       "50%                           254.622222                         4.000000   \n",
       "75%                           393.961538                         8.000000   \n",
       "max                          1872.661290                        14.000000   \n",
       "\n",
       "       total_number_of_cafes_by_zipcode  user_ratings_total_per_capita  \\\n",
       "count                       8166.000000                    8166.000000   \n",
       "mean                          11.583395                       0.011354   \n",
       "std                            6.104185                       0.056434   \n",
       "min                            0.000000                       0.000000   \n",
       "25%                            6.000000                       0.000781   \n",
       "50%                           12.000000                       0.002743   \n",
       "75%                           16.000000                       0.008137   \n",
       "max                           29.000000                       2.495088   \n",
       "\n",
       "       rating_weighed_population_density  open_now_False  open_now_True  \\\n",
       "count                        8166.000000     8166.000000    8166.000000   \n",
       "mean                       194552.141166        0.092334       0.873133   \n",
       "std                        137310.972102        0.289515       0.332845   \n",
       "min                             0.000000        0.000000       0.000000   \n",
       "25%                         87403.050000        0.000000       1.000000   \n",
       "50%                        168067.610000        0.000000       1.000000   \n",
       "75%                        270321.710000        0.000000       1.000000   \n",
       "max                        762811.000000        1.000000       1.000000   \n",
       "\n",
       "       open_now_nan  \n",
       "count   8166.000000  \n",
       "mean       0.034533  \n",
       "std        0.182606  \n",
       "min        0.000000  \n",
       "25%        0.000000  \n",
       "50%        0.000000  \n",
       "75%        0.000000  \n",
       "max        1.000000  "
      ]
     },
     "execution_count": 27,
     "metadata": {},
     "output_type": "execute_result"
    }
   ],
   "source": [
    "df.describe()"
   ]
  },
  {
   "cell_type": "code",
   "execution_count": 28,
   "metadata": {},
   "outputs": [],
   "source": [
    "numerical_columns = [\n",
    "       'price_level', 'rating', 'user_ratings_total','population',\n",
    "       'population_density_square_miles', 'housing_units', 'price_level*rating',\n",
    "       'avg_price_level_by_zipcode', 'avg_rating_by_zipcode',\n",
    "       'avg_user_ratings_total_by_zipcode', 'total_number_of_bars_by_zipcode',\n",
    "       'total_number_of_cafes_by_zipcode', 'user_ratings_total_per_capita',\n",
    "       'rating_weighed_population_density'\n",
    "]"
   ]
  },
  {
   "cell_type": "code",
   "execution_count": 29,
   "metadata": {},
   "outputs": [],
   "source": [
    "# Define a function to visualize all numerical columns\n",
    "def histograms_numeric_columns(df, numerical_columns):\n",
    "    '''\n",
    "    take df, numerical columns as list\n",
    "    return group histagrams\n",
    "    '''\n",
    "    f = pd.melt(df, value_vars=numerical_columns) \n",
    "    g = sns.FacetGrid(f, col='variable',  col_wrap=3, sharex=False, sharey=False)\n",
    "    g = g.map(sns.distplot, 'value')\n",
    "    return g"
   ]
  },
  {
   "cell_type": "code",
   "execution_count": 30,
   "metadata": {},
   "outputs": [
    {
     "data": {
      "text/plain": [
       "<seaborn.axisgrid.FacetGrid at 0x126c96b10>"
      ]
     },
     "execution_count": 30,
     "metadata": {},
     "output_type": "execute_result"
    },
    {
     "data": {
      "image/png": "[encoded data removed]",
      "text/plain": [
       "<Figure size 648x1080 with 14 Axes>"
      ]
     },
     "metadata": {
      "needs_background": "light"
     },
     "output_type": "display_data"
    }
   ],
   "source": [
    "histograms_numeric_columns(df.dropna(), numerical_columns)"
   ]
  },
  {
   "cell_type": "code",
   "execution_count": 31,
   "metadata": {},
   "outputs": [],
   "source": [
    "def scatter_plots(df, numerical_cols, target_col):\n",
    "    '''\n",
    "    Take a dataframe, a list of numerical columns, a target column as string\n",
    "    Return a group of scatter plots\n",
    "    '''\n",
    "    # Calculate the number of rows\n",
    "    num_rows = (len(numerical_cols) // 3) + 1\n",
    "    # Generate a 3 x n subplots frame\n",
    "    fix, ax = plt.subplots(num_rows, 3, sharey='row', figsize=(15,20))\n",
    "\n",
    "    # Reference: https://stackoverflow.com/a/434328\n",
    "    # Define a function to iterate through a list and divide them into chunks\n",
    "    def chunker(seq, size):\n",
    "        return (seq[pos:pos + size] for pos in range(0, len(seq), size))\n",
    "    \n",
    "    # Iterate through numerical_cols and generate each subplot\n",
    "    for y, plot_group in enumerate(chunker((numerical_cols), 3)):\n",
    "        for x, col in enumerate(plot_group):\n",
    "            sub_ax = ax[y][x]\n",
    "            plots = sub_ax.scatter(df[col], df[target_col], s=2)\n",
    "            plots_titles = sub_ax.set_title(col)\n",
    "    return (plots, plots_titles)"
   ]
  },
  {
   "cell_type": "code",
   "execution_count": 32,
   "metadata": {},
   "outputs": [
    {
     "data": {
      "text/plain": [
       "(<matplotlib.collections.PathCollection at 0x131d97c50>,\n",
       " Text(0.5,1,'rating_weighed_population_density'))"
      ]
     },
     "execution_count": 32,
     "metadata": {},
     "output_type": "execute_result"
    },
    {
     "data": {
      "image/png": "[encoded data removed]",
      "text/plain": [
       "<Figure size 1080x1440 with 15 Axes>"
      ]
     },
     "metadata": {
      "needs_background": "light"
     },
     "output_type": "display_data"
    }
   ],
   "source": [
    "scatter_plots(df, numerical_columns, 'home_price_to_income_ratios')"
   ]
  },
  {
   "cell_type": "code",
   "execution_count": 33,
   "metadata": {},
   "outputs": [
    {
     "data": {
      "text/html": [
       "<div>\n",
       "<style scoped>\n",
       "    .dataframe tbody tr th:only-of-type {\n",
       "        vertical-align: middle;\n",
       "    }\n",
       "\n",
       "    .dataframe tbody tr th {\n",
       "        vertical-align: top;\n",
       "    }\n",
       "\n",
       "    .dataframe thead th {\n",
       "        text-align: right;\n",
       "    }\n",
       "</style>\n",
       "<table border=\"1\" class=\"dataframe\">\n",
       "  <thead>\n",
       "    <tr style=\"text-align: right;\">\n",
       "      <th></th>\n",
       "      <th>zipcode</th>\n",
       "      <th>name</th>\n",
       "      <th>place_id</th>\n",
       "      <th>price_level</th>\n",
       "      <th>rating</th>\n",
       "      <th>user_ratings_total</th>\n",
       "      <th>searched_keyword</th>\n",
       "      <th>searched_zipcode</th>\n",
       "      <th>location_lat</th>\n",
       "      <th>location_lng</th>\n",
       "      <th>compound_code</th>\n",
       "      <th>global_code</th>\n",
       "      <th>art_gallery</th>\n",
       "      <th>atm</th>\n",
       "      <th>bakery</th>\n",
       "      <th>bar</th>\n",
       "      <th>beauty_salon</th>\n",
       "      <th>bicycle_store</th>\n",
       "      <th>book_store</th>\n",
       "      <th>cafe</th>\n",
       "      <th>car_dealer</th>\n",
       "      <th>car_repair</th>\n",
       "      <th>car_wash</th>\n",
       "      <th>clothing_store</th>\n",
       "      <th>convenience_store</th>\n",
       "      <th>department_store</th>\n",
       "      <th>drugstore</th>\n",
       "      <th>electronics_store</th>\n",
       "      <th>establishment</th>\n",
       "      <th>finance</th>\n",
       "      <th>florist</th>\n",
       "      <th>food</th>\n",
       "      <th>funeral_home</th>\n",
       "      <th>furniture_store</th>\n",
       "      <th>gas_station</th>\n",
       "      <th>general_contractor</th>\n",
       "      <th>grocery_or_supermarket</th>\n",
       "      <th>hair_care</th>\n",
       "      <th>hardware_store</th>\n",
       "      <th>health</th>\n",
       "      <th>home_goods_store</th>\n",
       "      <th>jewelry_store</th>\n",
       "      <th>laundry</th>\n",
       "      <th>liquor_store</th>\n",
       "      <th>local_government_office</th>\n",
       "      <th>locksmith</th>\n",
       "      <th>lodging</th>\n",
       "      <th>meal_delivery</th>\n",
       "      <th>meal_takeaway</th>\n",
       "      <th>movie_rental</th>\n",
       "      <th>night_club</th>\n",
       "      <th>park</th>\n",
       "      <th>parking</th>\n",
       "      <th>pet_store</th>\n",
       "      <th>pharmacy</th>\n",
       "      <th>point_of_interest</th>\n",
       "      <th>premise</th>\n",
       "      <th>restaurant</th>\n",
       "      <th>school</th>\n",
       "      <th>shoe_store</th>\n",
       "      <th>shopping_mall</th>\n",
       "      <th>spa</th>\n",
       "      <th>storage</th>\n",
       "      <th>store</th>\n",
       "      <th>supermarket</th>\n",
       "      <th>tourist_attraction</th>\n",
       "      <th>travel_agency</th>\n",
       "      <th>population</th>\n",
       "      <th>population_density_square_miles</th>\n",
       "      <th>housing_units</th>\n",
       "      <th>home_price_to_income_ratios</th>\n",
       "      <th>price_level*rating</th>\n",
       "      <th>avg_price_level_by_zipcode</th>\n",
       "      <th>avg_rating_by_zipcode</th>\n",
       "      <th>avg_user_ratings_total_by_zipcode</th>\n",
       "      <th>total_number_of_bars_by_zipcode</th>\n",
       "      <th>total_number_of_cafes_by_zipcode</th>\n",
       "      <th>user_ratings_total_per_capita</th>\n",
       "      <th>rating_weighed_population_density</th>\n",
       "      <th>open_now_False</th>\n",
       "      <th>open_now_True</th>\n",
       "      <th>open_now_nan</th>\n",
       "    </tr>\n",
       "  </thead>\n",
       "  <tbody>\n",
       "    <tr>\n",
       "      <td>0</td>\n",
       "      <td>10075</td>\n",
       "      <td>Kobe</td>\n",
       "      <td>ChIJRXBFY7hYwokRlE627pWPn8I</td>\n",
       "      <td>2.0</td>\n",
       "      <td>4.4</td>\n",
       "      <td>47</td>\n",
       "      <td>restaurant</td>\n",
       "      <td>10075</td>\n",
       "      <td>40.770817</td>\n",
       "      <td>-73.950682</td>\n",
       "      <td>Q2CX+8P New York</td>\n",
       "      <td>87G8Q2CX+8P</td>\n",
       "      <td>0</td>\n",
       "      <td>0</td>\n",
       "      <td>0</td>\n",
       "      <td>0</td>\n",
       "      <td>0</td>\n",
       "      <td>0</td>\n",
       "      <td>0</td>\n",
       "      <td>0</td>\n",
       "      <td>0</td>\n",
       "      <td>0</td>\n",
       "      <td>0</td>\n",
       "      <td>0</td>\n",
       "      <td>0</td>\n",
       "      <td>0</td>\n",
       "      <td>0</td>\n",
       "      <td>0</td>\n",
       "      <td>1</td>\n",
       "      <td>0</td>\n",
       "      <td>0</td>\n",
       "      <td>1</td>\n",
       "      <td>0</td>\n",
       "      <td>0</td>\n",
       "      <td>0</td>\n",
       "      <td>0</td>\n",
       "      <td>0</td>\n",
       "      <td>0</td>\n",
       "      <td>0</td>\n",
       "      <td>0</td>\n",
       "      <td>0</td>\n",
       "      <td>0</td>\n",
       "      <td>0</td>\n",
       "      <td>0</td>\n",
       "      <td>0</td>\n",
       "      <td>0</td>\n",
       "      <td>0</td>\n",
       "      <td>1</td>\n",
       "      <td>0</td>\n",
       "      <td>0</td>\n",
       "      <td>0</td>\n",
       "      <td>0</td>\n",
       "      <td>0</td>\n",
       "      <td>0</td>\n",
       "      <td>0</td>\n",
       "      <td>1</td>\n",
       "      <td>0</td>\n",
       "      <td>1</td>\n",
       "      <td>0</td>\n",
       "      <td>0</td>\n",
       "      <td>0</td>\n",
       "      <td>0</td>\n",
       "      <td>0</td>\n",
       "      <td>0</td>\n",
       "      <td>0</td>\n",
       "      <td>0</td>\n",
       "      <td>0</td>\n",
       "      <td>21556</td>\n",
       "      <td>117012.2</td>\n",
       "      <td>12599</td>\n",
       "      <td>7.660449</td>\n",
       "      <td>8.8</td>\n",
       "      <td>2.029412</td>\n",
       "      <td>4.128846</td>\n",
       "      <td>190.673077</td>\n",
       "      <td>8</td>\n",
       "      <td>10</td>\n",
       "      <td>0.002180</td>\n",
       "      <td>514853.68</td>\n",
       "      <td>0</td>\n",
       "      <td>1</td>\n",
       "      <td>0</td>\n",
       "    </tr>\n",
       "    <tr>\n",
       "      <td>1</td>\n",
       "      <td>10463</td>\n",
       "      <td>Starbucks</td>\n",
       "      <td>ChIJUdrWy5bzwokRrqqaID530ss</td>\n",
       "      <td>2.0</td>\n",
       "      <td>4.3</td>\n",
       "      <td>353</td>\n",
       "      <td>coffee shops</td>\n",
       "      <td>10034</td>\n",
       "      <td>40.877577</td>\n",
       "      <td>-73.905557</td>\n",
       "      <td>V3HV+2Q The Bronx, New York</td>\n",
       "      <td>87G8V3HV+2Q</td>\n",
       "      <td>0</td>\n",
       "      <td>0</td>\n",
       "      <td>0</td>\n",
       "      <td>0</td>\n",
       "      <td>0</td>\n",
       "      <td>0</td>\n",
       "      <td>0</td>\n",
       "      <td>1</td>\n",
       "      <td>0</td>\n",
       "      <td>0</td>\n",
       "      <td>0</td>\n",
       "      <td>0</td>\n",
       "      <td>0</td>\n",
       "      <td>0</td>\n",
       "      <td>0</td>\n",
       "      <td>0</td>\n",
       "      <td>1</td>\n",
       "      <td>0</td>\n",
       "      <td>0</td>\n",
       "      <td>1</td>\n",
       "      <td>0</td>\n",
       "      <td>0</td>\n",
       "      <td>0</td>\n",
       "      <td>0</td>\n",
       "      <td>0</td>\n",
       "      <td>0</td>\n",
       "      <td>0</td>\n",
       "      <td>0</td>\n",
       "      <td>0</td>\n",
       "      <td>0</td>\n",
       "      <td>0</td>\n",
       "      <td>0</td>\n",
       "      <td>0</td>\n",
       "      <td>0</td>\n",
       "      <td>0</td>\n",
       "      <td>0</td>\n",
       "      <td>0</td>\n",
       "      <td>0</td>\n",
       "      <td>0</td>\n",
       "      <td>0</td>\n",
       "      <td>0</td>\n",
       "      <td>0</td>\n",
       "      <td>0</td>\n",
       "      <td>1</td>\n",
       "      <td>0</td>\n",
       "      <td>0</td>\n",
       "      <td>0</td>\n",
       "      <td>0</td>\n",
       "      <td>0</td>\n",
       "      <td>0</td>\n",
       "      <td>0</td>\n",
       "      <td>1</td>\n",
       "      <td>0</td>\n",
       "      <td>0</td>\n",
       "      <td>0</td>\n",
       "      <td>71360</td>\n",
       "      <td>49208.9</td>\n",
       "      <td>29973</td>\n",
       "      <td>4.908541</td>\n",
       "      <td>8.6</td>\n",
       "      <td>1.697674</td>\n",
       "      <td>4.069811</td>\n",
       "      <td>404.811321</td>\n",
       "      <td>9</td>\n",
       "      <td>14</td>\n",
       "      <td>0.004947</td>\n",
       "      <td>211598.27</td>\n",
       "      <td>0</td>\n",
       "      <td>1</td>\n",
       "      <td>0</td>\n",
       "    </tr>\n",
       "    <tr>\n",
       "      <td>2</td>\n",
       "      <td>10128</td>\n",
       "      <td>Marjory Warren Boutique</td>\n",
       "      <td>ChIJFc7cwqJYwokRVxG2yMPoyzk</td>\n",
       "      <td>NaN</td>\n",
       "      <td>4.7</td>\n",
       "      <td>6</td>\n",
       "      <td>stores</td>\n",
       "      <td>10128</td>\n",
       "      <td>40.786340</td>\n",
       "      <td>-73.951681</td>\n",
       "      <td>Q2PX+G8 New York</td>\n",
       "      <td>87G8Q2PX+G8</td>\n",
       "      <td>0</td>\n",
       "      <td>0</td>\n",
       "      <td>0</td>\n",
       "      <td>0</td>\n",
       "      <td>0</td>\n",
       "      <td>0</td>\n",
       "      <td>0</td>\n",
       "      <td>0</td>\n",
       "      <td>0</td>\n",
       "      <td>0</td>\n",
       "      <td>0</td>\n",
       "      <td>1</td>\n",
       "      <td>0</td>\n",
       "      <td>0</td>\n",
       "      <td>0</td>\n",
       "      <td>0</td>\n",
       "      <td>1</td>\n",
       "      <td>0</td>\n",
       "      <td>0</td>\n",
       "      <td>0</td>\n",
       "      <td>0</td>\n",
       "      <td>0</td>\n",
       "      <td>0</td>\n",
       "      <td>0</td>\n",
       "      <td>0</td>\n",
       "      <td>0</td>\n",
       "      <td>0</td>\n",
       "      <td>0</td>\n",
       "      <td>0</td>\n",
       "      <td>0</td>\n",
       "      <td>0</td>\n",
       "      <td>0</td>\n",
       "      <td>0</td>\n",
       "      <td>0</td>\n",
       "      <td>0</td>\n",
       "      <td>0</td>\n",
       "      <td>0</td>\n",
       "      <td>0</td>\n",
       "      <td>0</td>\n",
       "      <td>0</td>\n",
       "      <td>0</td>\n",
       "      <td>0</td>\n",
       "      <td>0</td>\n",
       "      <td>1</td>\n",
       "      <td>0</td>\n",
       "      <td>0</td>\n",
       "      <td>0</td>\n",
       "      <td>0</td>\n",
       "      <td>0</td>\n",
       "      <td>0</td>\n",
       "      <td>0</td>\n",
       "      <td>1</td>\n",
       "      <td>0</td>\n",
       "      <td>0</td>\n",
       "      <td>0</td>\n",
       "      <td>59256</td>\n",
       "      <td>127237.0</td>\n",
       "      <td>34790</td>\n",
       "      <td>8.967634</td>\n",
       "      <td>NaN</td>\n",
       "      <td>2.051282</td>\n",
       "      <td>4.192308</td>\n",
       "      <td>212.480769</td>\n",
       "      <td>7</td>\n",
       "      <td>12</td>\n",
       "      <td>0.000101</td>\n",
       "      <td>598013.90</td>\n",
       "      <td>0</td>\n",
       "      <td>1</td>\n",
       "      <td>0</td>\n",
       "    </tr>\n",
       "    <tr>\n",
       "      <td>3</td>\n",
       "      <td>11103</td>\n",
       "      <td>Express</td>\n",
       "      <td>ChIJlb-Qoj5fwokRSfIz2xtdp5o</td>\n",
       "      <td>2.0</td>\n",
       "      <td>4.2</td>\n",
       "      <td>206</td>\n",
       "      <td>stores</td>\n",
       "      <td>11103</td>\n",
       "      <td>40.761101</td>\n",
       "      <td>-73.916981</td>\n",
       "      <td>Q36M+C6 Astoria, Queens, NY</td>\n",
       "      <td>87G8Q36M+C6</td>\n",
       "      <td>0</td>\n",
       "      <td>0</td>\n",
       "      <td>0</td>\n",
       "      <td>0</td>\n",
       "      <td>0</td>\n",
       "      <td>0</td>\n",
       "      <td>0</td>\n",
       "      <td>0</td>\n",
       "      <td>0</td>\n",
       "      <td>0</td>\n",
       "      <td>0</td>\n",
       "      <td>1</td>\n",
       "      <td>0</td>\n",
       "      <td>0</td>\n",
       "      <td>0</td>\n",
       "      <td>0</td>\n",
       "      <td>1</td>\n",
       "      <td>0</td>\n",
       "      <td>0</td>\n",
       "      <td>0</td>\n",
       "      <td>0</td>\n",
       "      <td>0</td>\n",
       "      <td>0</td>\n",
       "      <td>0</td>\n",
       "      <td>0</td>\n",
       "      <td>0</td>\n",
       "      <td>0</td>\n",
       "      <td>0</td>\n",
       "      <td>0</td>\n",
       "      <td>0</td>\n",
       "      <td>0</td>\n",
       "      <td>0</td>\n",
       "      <td>0</td>\n",
       "      <td>0</td>\n",
       "      <td>0</td>\n",
       "      <td>0</td>\n",
       "      <td>0</td>\n",
       "      <td>0</td>\n",
       "      <td>0</td>\n",
       "      <td>0</td>\n",
       "      <td>0</td>\n",
       "      <td>0</td>\n",
       "      <td>0</td>\n",
       "      <td>1</td>\n",
       "      <td>0</td>\n",
       "      <td>0</td>\n",
       "      <td>0</td>\n",
       "      <td>0</td>\n",
       "      <td>0</td>\n",
       "      <td>0</td>\n",
       "      <td>0</td>\n",
       "      <td>1</td>\n",
       "      <td>0</td>\n",
       "      <td>0</td>\n",
       "      <td>0</td>\n",
       "      <td>36140</td>\n",
       "      <td>50794.4</td>\n",
       "      <td>18016</td>\n",
       "      <td>11.095091</td>\n",
       "      <td>8.4</td>\n",
       "      <td>1.789474</td>\n",
       "      <td>4.267273</td>\n",
       "      <td>216.472727</td>\n",
       "      <td>5</td>\n",
       "      <td>14</td>\n",
       "      <td>0.005700</td>\n",
       "      <td>213336.48</td>\n",
       "      <td>0</td>\n",
       "      <td>1</td>\n",
       "      <td>0</td>\n",
       "    </tr>\n",
       "    <tr>\n",
       "      <td>4</td>\n",
       "      <td>10462</td>\n",
       "      <td>Marshalls</td>\n",
       "      <td>ChIJ5RbVVb_0wokRB0bFujNzRb8</td>\n",
       "      <td>NaN</td>\n",
       "      <td>4.0</td>\n",
       "      <td>1215</td>\n",
       "      <td>stores</td>\n",
       "      <td>10462</td>\n",
       "      <td>40.836359</td>\n",
       "      <td>-73.860083</td>\n",
       "      <td>R4PQ+GX The Bronx, New York</td>\n",
       "      <td>87G8R4PQ+GX</td>\n",
       "      <td>0</td>\n",
       "      <td>0</td>\n",
       "      <td>0</td>\n",
       "      <td>0</td>\n",
       "      <td>0</td>\n",
       "      <td>0</td>\n",
       "      <td>0</td>\n",
       "      <td>0</td>\n",
       "      <td>0</td>\n",
       "      <td>0</td>\n",
       "      <td>0</td>\n",
       "      <td>1</td>\n",
       "      <td>0</td>\n",
       "      <td>1</td>\n",
       "      <td>0</td>\n",
       "      <td>0</td>\n",
       "      <td>1</td>\n",
       "      <td>0</td>\n",
       "      <td>0</td>\n",
       "      <td>0</td>\n",
       "      <td>0</td>\n",
       "      <td>0</td>\n",
       "      <td>0</td>\n",
       "      <td>0</td>\n",
       "      <td>0</td>\n",
       "      <td>0</td>\n",
       "      <td>0</td>\n",
       "      <td>0</td>\n",
       "      <td>0</td>\n",
       "      <td>0</td>\n",
       "      <td>0</td>\n",
       "      <td>0</td>\n",
       "      <td>0</td>\n",
       "      <td>0</td>\n",
       "      <td>0</td>\n",
       "      <td>0</td>\n",
       "      <td>0</td>\n",
       "      <td>0</td>\n",
       "      <td>0</td>\n",
       "      <td>0</td>\n",
       "      <td>0</td>\n",
       "      <td>0</td>\n",
       "      <td>0</td>\n",
       "      <td>1</td>\n",
       "      <td>0</td>\n",
       "      <td>0</td>\n",
       "      <td>0</td>\n",
       "      <td>0</td>\n",
       "      <td>0</td>\n",
       "      <td>0</td>\n",
       "      <td>0</td>\n",
       "      <td>1</td>\n",
       "      <td>0</td>\n",
       "      <td>0</td>\n",
       "      <td>0</td>\n",
       "      <td>76756</td>\n",
       "      <td>52066.9</td>\n",
       "      <td>31120</td>\n",
       "      <td>5.724208</td>\n",
       "      <td>NaN</td>\n",
       "      <td>1.500000</td>\n",
       "      <td>3.953846</td>\n",
       "      <td>461.730769</td>\n",
       "      <td>3</td>\n",
       "      <td>12</td>\n",
       "      <td>0.015829</td>\n",
       "      <td>208267.60</td>\n",
       "      <td>0</td>\n",
       "      <td>1</td>\n",
       "      <td>0</td>\n",
       "    </tr>\n",
       "  </tbody>\n",
       "</table>\n",
       "</div>"
      ],
      "text/plain": [
       "   zipcode                     name                     place_id  price_level  \\\n",
       "0    10075                     Kobe  ChIJRXBFY7hYwokRlE627pWPn8I          2.0   \n",
       "1    10463                Starbucks  ChIJUdrWy5bzwokRrqqaID530ss          2.0   \n",
       "2    10128  Marjory Warren Boutique  ChIJFc7cwqJYwokRVxG2yMPoyzk          NaN   \n",
       "3    11103                  Express  ChIJlb-Qoj5fwokRSfIz2xtdp5o          2.0   \n",
       "4    10462                Marshalls  ChIJ5RbVVb_0wokRB0bFujNzRb8          NaN   \n",
       "\n",
       "   rating  user_ratings_total searched_keyword  searched_zipcode  \\\n",
       "0     4.4                  47       restaurant             10075   \n",
       "1     4.3                 353     coffee shops             10034   \n",
       "2     4.7                   6           stores             10128   \n",
       "3     4.2                 206           stores             11103   \n",
       "4     4.0                1215           stores             10462   \n",
       "\n",
       "   location_lat  location_lng                compound_code  global_code  \\\n",
       "0     40.770817    -73.950682             Q2CX+8P New York  87G8Q2CX+8P   \n",
       "1     40.877577    -73.905557  V3HV+2Q The Bronx, New York  87G8V3HV+2Q   \n",
       "2     40.786340    -73.951681             Q2PX+G8 New York  87G8Q2PX+G8   \n",
       "3     40.761101    -73.916981  Q36M+C6 Astoria, Queens, NY  87G8Q36M+C6   \n",
       "4     40.836359    -73.860083  R4PQ+GX The Bronx, New York  87G8R4PQ+GX   \n",
       "\n",
       "   art_gallery  atm  bakery  bar  beauty_salon  bicycle_store  book_store  \\\n",
       "0            0    0       0    0             0              0           0   \n",
       "1            0    0       0    0             0              0           0   \n",
       "2            0    0       0    0             0              0           0   \n",
       "3            0    0       0    0             0              0           0   \n",
       "4            0    0       0    0             0              0           0   \n",
       "\n",
       "   cafe  car_dealer  car_repair  car_wash  clothing_store  convenience_store  \\\n",
       "0     0           0           0         0               0                  0   \n",
       "1     1           0           0         0               0                  0   \n",
       "2     0           0           0         0               1                  0   \n",
       "3     0           0           0         0               1                  0   \n",
       "4     0           0           0         0               1                  0   \n",
       "\n",
       "   department_store  drugstore  electronics_store  establishment  finance  \\\n",
       "0                 0          0                  0              1        0   \n",
       "1                 0          0                  0              1        0   \n",
       "2                 0          0                  0              1        0   \n",
       "3                 0          0                  0              1        0   \n",
       "4                 1          0                  0              1        0   \n",
       "\n",
       "   florist  food  funeral_home  furniture_store  gas_station  \\\n",
       "0        0     1             0                0            0   \n",
       "1        0     1             0                0            0   \n",
       "2        0     0             0                0            0   \n",
       "3        0     0             0                0            0   \n",
       "4        0     0             0                0            0   \n",
       "\n",
       "   general_contractor  grocery_or_supermarket  hair_care  hardware_store  \\\n",
       "0                   0                       0          0               0   \n",
       "1                   0                       0          0               0   \n",
       "2                   0                       0          0               0   \n",
       "3                   0                       0          0               0   \n",
       "4                   0                       0          0               0   \n",
       "\n",
       "   health  home_goods_store  jewelry_store  laundry  liquor_store  \\\n",
       "0       0                 0              0        0             0   \n",
       "1       0                 0              0        0             0   \n",
       "2       0                 0              0        0             0   \n",
       "3       0                 0              0        0             0   \n",
       "4       0                 0              0        0             0   \n",
       "\n",
       "   local_government_office  locksmith  lodging  meal_delivery  meal_takeaway  \\\n",
       "0                        0          0        0              1              0   \n",
       "1                        0          0        0              0              0   \n",
       "2                        0          0        0              0              0   \n",
       "3                        0          0        0              0              0   \n",
       "4                        0          0        0              0              0   \n",
       "\n",
       "   movie_rental  night_club  park  parking  pet_store  pharmacy  \\\n",
       "0             0           0     0        0          0         0   \n",
       "1             0           0     0        0          0         0   \n",
       "2             0           0     0        0          0         0   \n",
       "3             0           0     0        0          0         0   \n",
       "4             0           0     0        0          0         0   \n",
       "\n",
       "   point_of_interest  premise  restaurant  school  shoe_store  shopping_mall  \\\n",
       "0                  1        0           1       0           0              0   \n",
       "1                  1        0           0       0           0              0   \n",
       "2                  1        0           0       0           0              0   \n",
       "3                  1        0           0       0           0              0   \n",
       "4                  1        0           0       0           0              0   \n",
       "\n",
       "   spa  storage  store  supermarket  tourist_attraction  travel_agency  \\\n",
       "0    0        0      0            0                   0              0   \n",
       "1    0        0      1            0                   0              0   \n",
       "2    0        0      1            0                   0              0   \n",
       "3    0        0      1            0                   0              0   \n",
       "4    0        0      1            0                   0              0   \n",
       "\n",
       "   population  population_density_square_miles  housing_units  \\\n",
       "0       21556                         117012.2          12599   \n",
       "1       71360                          49208.9          29973   \n",
       "2       59256                         127237.0          34790   \n",
       "3       36140                          50794.4          18016   \n",
       "4       76756                          52066.9          31120   \n",
       "\n",
       "   home_price_to_income_ratios  price_level*rating  \\\n",
       "0                     7.660449                 8.8   \n",
       "1                     4.908541                 8.6   \n",
       "2                     8.967634                 NaN   \n",
       "3                    11.095091                 8.4   \n",
       "4                     5.724208                 NaN   \n",
       "\n",
       "   avg_price_level_by_zipcode  avg_rating_by_zipcode  \\\n",
       "0                    2.029412               4.128846   \n",
       "1                    1.697674               4.069811   \n",
       "2                    2.051282               4.192308   \n",
       "3                    1.789474               4.267273   \n",
       "4                    1.500000               3.953846   \n",
       "\n",
       "   avg_user_ratings_total_by_zipcode  total_number_of_bars_by_zipcode  \\\n",
       "0                         190.673077                                8   \n",
       "1                         404.811321                                9   \n",
       "2                         212.480769                                7   \n",
       "3                         216.472727                                5   \n",
       "4                         461.730769                                3   \n",
       "\n",
       "   total_number_of_cafes_by_zipcode  user_ratings_total_per_capita  \\\n",
       "0                                10                       0.002180   \n",
       "1                                14                       0.004947   \n",
       "2                                12                       0.000101   \n",
       "3                                14                       0.005700   \n",
       "4                                12                       0.015829   \n",
       "\n",
       "   rating_weighed_population_density  open_now_False  open_now_True  \\\n",
       "0                          514853.68               0              1   \n",
       "1                          211598.27               0              1   \n",
       "2                          598013.90               0              1   \n",
       "3                          213336.48               0              1   \n",
       "4                          208267.60               0              1   \n",
       "\n",
       "   open_now_nan  \n",
       "0             0  \n",
       "1             0  \n",
       "2             0  \n",
       "3             0  \n",
       "4             0  "
      ]
     },
     "execution_count": 33,
     "metadata": {},
     "output_type": "execute_result"
    }
   ],
   "source": [
    "df.head()"
   ]
  },
  {
   "cell_type": "code",
   "execution_count": 34,
   "metadata": {},
   "outputs": [],
   "source": [
    "# data = dict(\n",
    "#     type = 'choropleth',\n",
    "#     locations = df['zipcode'],\n",
    "#     locationmode='zipcode',\n",
    "#     colorscale = ['balance'],\n",
    "#     z=df['home_price_to_income_ratios'])\n",
    "\n",
    "# map_1 = go.Figure(data=[data])\n",
    "# py.offline.plot(map_1)"
   ]
  },
  {
   "cell_type": "code",
   "execution_count": 35,
   "metadata": {},
   "outputs": [],
   "source": [
    "# plt.figure(figsize=(10, 10))\n",
    "# plt.scatter(df['location_lng'], df['location_lat'], s=2)"
   ]
  },
  {
   "cell_type": "code",
   "execution_count": 36,
   "metadata": {},
   "outputs": [],
   "source": [
    "def heatmap_numeric_w_dependent_variable(df, dependent_variable):\n",
    "    '''\n",
    "    Generate a heatmap of dependent variable's correlation with y\n",
    "    '''\n",
    "    plt.figure(figsize=(8, 30))\n",
    "    g = sns.heatmap(df.corr()[[dependent_variable]].sort_values(by=dependent_variable), \n",
    "                    annot=True, \n",
    "                    cmap='coolwarm', \n",
    "                    vmin=-1,\n",
    "                    vmax=1) \n",
    "    return g"
   ]
  },
  {
   "cell_type": "code",
   "execution_count": 37,
   "metadata": {},
   "outputs": [
    {
     "data": {
      "text/plain": [
       "<matplotlib.axes._subplots.AxesSubplot at 0x1153dfc10>"
      ]
     },
     "execution_count": 37,
     "metadata": {},
     "output_type": "execute_result"
    },
    {
     "data": {
      "image/png": "[encoded data removed]",
      "text/plain": [
       "<Figure size 576x2160 with 2 Axes>"
      ]
     },
     "metadata": {
      "needs_background": "light"
     },
     "output_type": "display_data"
    }
   ],
   "source": [
    "heatmap_numeric_w_dependent_variable(df, 'home_price_to_income_ratios')"
   ]
  },
  {
   "cell_type": "markdown",
   "metadata": {},
   "source": [
    "## EDA Summary:\n",
    "\n",
    "Based on our EDA, we have a non-linear dataset. \n",
    "In this case, a classic linear regression model may not be able to handle it. \n",
    "[Reference](https://www.analyticsvidhya.com/blog/2016/04/tree-based-algorithms-complete-tutorial-scratch-in-python/)"
   ]
  },
  {
   "cell_type": "code",
   "execution_count": 38,
   "metadata": {
    "scrolled": true
   },
   "outputs": [
    {
     "data": {
      "text/plain": [
       "(8166, 82)"
      ]
     },
     "execution_count": 38,
     "metadata": {},
     "output_type": "execute_result"
    }
   ],
   "source": [
    "df.shape"
   ]
  },
  {
   "cell_type": "code",
   "execution_count": 39,
   "metadata": {},
   "outputs": [],
   "source": [
    "df.to_csv('../data/final_nyc.csv', index=False)"
   ]
  },
  {
   "cell_type": "markdown",
   "metadata": {},
   "source": [
    "# Modeling: NYC dataset"
   ]
  },
  {
   "cell_type": "code",
   "execution_count": 40,
   "metadata": {},
   "outputs": [
    {
     "data": {
      "text/plain": [
       "Index(['zipcode', 'name', 'place_id', 'price_level', 'rating',\n",
       "       'user_ratings_total', 'searched_keyword', 'searched_zipcode',\n",
       "       'location_lat', 'location_lng', 'compound_code', 'global_code',\n",
       "       'art_gallery', 'atm', 'bakery', 'bar', 'beauty_salon', 'bicycle_store',\n",
       "       'book_store', 'cafe', 'car_dealer', 'car_repair', 'car_wash',\n",
       "       'clothing_store', 'convenience_store', 'department_store', 'drugstore',\n",
       "       'electronics_store', 'establishment', 'finance', 'florist', 'food',\n",
       "       'funeral_home', 'furniture_store', 'gas_station', 'general_contractor',\n",
       "       'grocery_or_supermarket', 'hair_care', 'hardware_store', 'health',\n",
       "       'home_goods_store', 'jewelry_store', 'laundry', 'liquor_store',\n",
       "       'local_government_office', 'locksmith', 'lodging', 'meal_delivery',\n",
       "       'meal_takeaway', 'movie_rental', 'night_club', 'park', 'parking',\n",
       "       'pet_store', 'pharmacy', 'point_of_interest', 'premise', 'restaurant',\n",
       "       'school', 'shoe_store', 'shopping_mall', 'spa', 'storage', 'store',\n",
       "       'supermarket', 'tourist_attraction', 'travel_agency', 'population',\n",
       "       'population_density_square_miles', 'housing_units',\n",
       "       'home_price_to_income_ratios', 'price_level*rating',\n",
       "       'avg_price_level_by_zipcode', 'avg_rating_by_zipcode',\n",
       "       'avg_user_ratings_total_by_zipcode', 'total_number_of_bars_by_zipcode',\n",
       "       'total_number_of_cafes_by_zipcode', 'user_ratings_total_per_capita',\n",
       "       'rating_weighed_population_density', 'open_now_False', 'open_now_True',\n",
       "       'open_now_nan'],\n",
       "      dtype='object')"
      ]
     },
     "execution_count": 40,
     "metadata": {},
     "output_type": "execute_result"
    }
   ],
   "source": [
    "df.columns"
   ]
  },
  {
   "cell_type": "code",
   "execution_count": 41,
   "metadata": {},
   "outputs": [],
   "source": [
    "columns = [\n",
    "       'price_level', 'rating', 'user_ratings_total', \n",
    "       #'art_gallery', 'atm', 'bakery', 'bar', 'beauty_salon',\n",
    "       #'bicycle_store', 'book_store', 'cafe', 'car_dealer', 'car_repair',\n",
    "       #'car_wash', 'clothing_store', 'convenience_store', 'department_store',\n",
    "       #'drugstore', 'electronics_store', 'establishment', 'finance', 'florist',\n",
    "       #'food', 'funeral_home', 'furniture_store', 'gas_station',\n",
    "       #'general_contractor', 'grocery_or_supermarket', 'hair_care',\n",
    "       #'hardware_store', 'health', 'home_goods_store', 'jewelry_store',\n",
    "       #'laundry', 'liquor_store', 'local_government_office', 'locksmith',\n",
    "       #'lodging', 'meal_delivery', 'meal_takeaway', 'movie_rental',\n",
    "       #'night_club', 'park', 'parking', 'pet_store', 'pharmacy',\n",
    "       #'point_of_interest', 'premise', 'restaurant', 'school', 'shoe_store',\n",
    "       #'shopping_mall', 'spa', 'storage', 'store', 'supermarket',\n",
    "       # 'tourist_attraction', 'travel_agency',  \n",
    "       #'population_density_square_miles', 'population', 'housing_units', \n",
    "       'home_price_to_income_ratios', 'price_level*rating',\n",
    "       'avg_price_level_by_zipcode', 'avg_rating_by_zipcode',\n",
    "       'avg_user_ratings_total_by_zipcode', \n",
    "       #'user_ratings_total_per_capita', 'rating_weighed_population_density'\n",
    "       ]\n"
   ]
  },
  {
   "cell_type": "code",
   "execution_count": 42,
   "metadata": {},
   "outputs": [],
   "source": [
    "final = df[columns].dropna()"
   ]
  },
  {
   "cell_type": "code",
   "execution_count": 43,
   "metadata": {},
   "outputs": [
    {
     "data": {
      "text/html": [
       "<div>\n",
       "<style scoped>\n",
       "    .dataframe tbody tr th:only-of-type {\n",
       "        vertical-align: middle;\n",
       "    }\n",
       "\n",
       "    .dataframe tbody tr th {\n",
       "        vertical-align: top;\n",
       "    }\n",
       "\n",
       "    .dataframe thead th {\n",
       "        text-align: right;\n",
       "    }\n",
       "</style>\n",
       "<table border=\"1\" class=\"dataframe\">\n",
       "  <thead>\n",
       "    <tr style=\"text-align: right;\">\n",
       "      <th></th>\n",
       "      <th>price_level</th>\n",
       "      <th>rating</th>\n",
       "      <th>user_ratings_total</th>\n",
       "      <th>home_price_to_income_ratios</th>\n",
       "      <th>price_level*rating</th>\n",
       "      <th>avg_price_level_by_zipcode</th>\n",
       "      <th>avg_rating_by_zipcode</th>\n",
       "      <th>avg_user_ratings_total_by_zipcode</th>\n",
       "    </tr>\n",
       "  </thead>\n",
       "  <tbody>\n",
       "    <tr>\n",
       "      <td>0</td>\n",
       "      <td>2.0</td>\n",
       "      <td>4.4</td>\n",
       "      <td>47</td>\n",
       "      <td>7.660449</td>\n",
       "      <td>8.8</td>\n",
       "      <td>2.029412</td>\n",
       "      <td>4.128846</td>\n",
       "      <td>190.673077</td>\n",
       "    </tr>\n",
       "    <tr>\n",
       "      <td>1</td>\n",
       "      <td>2.0</td>\n",
       "      <td>4.3</td>\n",
       "      <td>353</td>\n",
       "      <td>4.908541</td>\n",
       "      <td>8.6</td>\n",
       "      <td>1.697674</td>\n",
       "      <td>4.069811</td>\n",
       "      <td>404.811321</td>\n",
       "    </tr>\n",
       "    <tr>\n",
       "      <td>3</td>\n",
       "      <td>2.0</td>\n",
       "      <td>4.2</td>\n",
       "      <td>206</td>\n",
       "      <td>11.095091</td>\n",
       "      <td>8.4</td>\n",
       "      <td>1.789474</td>\n",
       "      <td>4.267273</td>\n",
       "      <td>216.472727</td>\n",
       "    </tr>\n",
       "    <tr>\n",
       "      <td>5</td>\n",
       "      <td>1.0</td>\n",
       "      <td>3.8</td>\n",
       "      <td>81</td>\n",
       "      <td>8.211434</td>\n",
       "      <td>3.8</td>\n",
       "      <td>1.380952</td>\n",
       "      <td>3.744444</td>\n",
       "      <td>164.666667</td>\n",
       "    </tr>\n",
       "    <tr>\n",
       "      <td>6</td>\n",
       "      <td>1.0</td>\n",
       "      <td>4.5</td>\n",
       "      <td>126</td>\n",
       "      <td>6.630543</td>\n",
       "      <td>4.5</td>\n",
       "      <td>2.022727</td>\n",
       "      <td>4.179661</td>\n",
       "      <td>381.338983</td>\n",
       "    </tr>\n",
       "  </tbody>\n",
       "</table>\n",
       "</div>"
      ],
      "text/plain": [
       "   price_level  rating  user_ratings_total  home_price_to_income_ratios  \\\n",
       "0          2.0     4.4                  47                     7.660449   \n",
       "1          2.0     4.3                 353                     4.908541   \n",
       "3          2.0     4.2                 206                    11.095091   \n",
       "5          1.0     3.8                  81                     8.211434   \n",
       "6          1.0     4.5                 126                     6.630543   \n",
       "\n",
       "   price_level*rating  avg_price_level_by_zipcode  avg_rating_by_zipcode  \\\n",
       "0                 8.8                    2.029412               4.128846   \n",
       "1                 8.6                    1.697674               4.069811   \n",
       "3                 8.4                    1.789474               4.267273   \n",
       "5                 3.8                    1.380952               3.744444   \n",
       "6                 4.5                    2.022727               4.179661   \n",
       "\n",
       "   avg_user_ratings_total_by_zipcode  \n",
       "0                         190.673077  \n",
       "1                         404.811321  \n",
       "3                         216.472727  \n",
       "5                         164.666667  \n",
       "6                         381.338983  "
      ]
     },
     "execution_count": 43,
     "metadata": {},
     "output_type": "execute_result"
    }
   ],
   "source": [
    "final.head()"
   ]
  },
  {
   "cell_type": "code",
   "execution_count": 44,
   "metadata": {},
   "outputs": [],
   "source": [
    "target = 'home_price_to_income_ratios'\n",
    "X = final.drop(columns=target)\n",
    "y = final[target]"
   ]
  },
  {
   "cell_type": "code",
   "execution_count": 45,
   "metadata": {},
   "outputs": [],
   "source": [
    "X_train, X_test, y_train, y_test = train_test_split(X, y, random_state=42, train_size=0.70)"
   ]
  },
  {
   "cell_type": "markdown",
   "metadata": {},
   "source": [
    "## Baseline Model"
   ]
  },
  {
   "cell_type": "markdown",
   "metadata": {},
   "source": [
    "[reference](https://chrisalbon.com/machine_learning/model_evaluation/create_baseline_regression_model/)"
   ]
  },
  {
   "cell_type": "code",
   "execution_count": 46,
   "metadata": {},
   "outputs": [],
   "source": [
    "from sklearn.dummy import DummyRegressor"
   ]
  },
  {
   "cell_type": "code",
   "execution_count": 47,
   "metadata": {},
   "outputs": [
    {
     "data": {
      "text/plain": [
       "DummyRegressor(constant=20, quantile=None, strategy='mean')"
      ]
     },
     "execution_count": 47,
     "metadata": {},
     "output_type": "execute_result"
    }
   ],
   "source": [
    "# Create a dummy regressor\n",
    "dummy_mean = DummyRegressor(strategy='mean', constant=20)\n",
    "\n",
    "# \"Train\" dummy regressor\n",
    "dummy_mean.fit(X_train, y_train)"
   ]
  },
  {
   "cell_type": "code",
   "execution_count": 48,
   "metadata": {},
   "outputs": [
    {
     "data": {
      "text/plain": [
       "0.0"
      ]
     },
     "execution_count": 48,
     "metadata": {},
     "output_type": "execute_result"
    }
   ],
   "source": [
    "dummy_mean.score(X_train, y_train)"
   ]
  },
  {
   "cell_type": "code",
   "execution_count": 49,
   "metadata": {
    "scrolled": true
   },
   "outputs": [
    {
     "data": {
      "text/plain": [
       "-0.005357203951431355"
      ]
     },
     "execution_count": 49,
     "metadata": {},
     "output_type": "execute_result"
    }
   ],
   "source": [
    "dummy_mean.score(X_test, y_test)"
   ]
  },
  {
   "cell_type": "markdown",
   "metadata": {},
   "source": [
    "## Linear Regression"
   ]
  },
  {
   "cell_type": "code",
   "execution_count": 50,
   "metadata": {},
   "outputs": [],
   "source": [
    "lr = LinearRegression()"
   ]
  },
  {
   "cell_type": "code",
   "execution_count": 51,
   "metadata": {},
   "outputs": [
    {
     "data": {
      "text/plain": [
       "LinearRegression(copy_X=True, fit_intercept=True, n_jobs=None, normalize=False)"
      ]
     },
     "execution_count": 51,
     "metadata": {},
     "output_type": "execute_result"
    }
   ],
   "source": [
    "lr.fit(X_train, y_train)"
   ]
  },
  {
   "cell_type": "code",
   "execution_count": 52,
   "metadata": {},
   "outputs": [
    {
     "data": {
      "text/plain": [
       "0.06292177237048557"
      ]
     },
     "execution_count": 52,
     "metadata": {},
     "output_type": "execute_result"
    }
   ],
   "source": [
    "lr.score(X_train, y_train)"
   ]
  },
  {
   "cell_type": "code",
   "execution_count": 53,
   "metadata": {},
   "outputs": [
    {
     "data": {
      "text/plain": [
       "0.06963041156259042"
      ]
     },
     "execution_count": 53,
     "metadata": {},
     "output_type": "execute_result"
    }
   ],
   "source": [
    "lr.score(X_test, y_test)"
   ]
  },
  {
   "cell_type": "code",
   "execution_count": 54,
   "metadata": {
    "scrolled": true
   },
   "outputs": [
    {
     "data": {
      "text/plain": [
       "0.06266316045183977"
      ]
     },
     "execution_count": 54,
     "metadata": {},
     "output_type": "execute_result"
    }
   ],
   "source": [
    "cross_val_score(lr, X, y, cv=5).mean()"
   ]
  },
  {
   "cell_type": "code",
   "execution_count": 55,
   "metadata": {},
   "outputs": [
    {
     "data": {
      "text/plain": [
       "3.895418238627311"
      ]
     },
     "execution_count": 55,
     "metadata": {},
     "output_type": "execute_result"
    }
   ],
   "source": [
    "y_train_preds = lr.predict(X_train)\n",
    "np.sqrt(mean_squared_error(y_train, y_train_preds))"
   ]
  },
  {
   "cell_type": "code",
   "execution_count": 56,
   "metadata": {},
   "outputs": [
    {
     "data": {
      "text/plain": [
       "3.728614518957365"
      ]
     },
     "execution_count": 56,
     "metadata": {},
     "output_type": "execute_result"
    }
   ],
   "source": [
    "y_test_preds = lr.predict(X_test)\n",
    "np.sqrt(mean_squared_error(y_test, y_test_preds))"
   ]
  },
  {
   "cell_type": "code",
   "execution_count": 57,
   "metadata": {},
   "outputs": [],
   "source": [
    "# cross_val_score = cross_val_score(lr, X, y, cv=5, scoring='neg_mean_squared_error')\n",
    "# np.sqrt(-cross_val_score).mean()"
   ]
  },
  {
   "cell_type": "markdown",
   "metadata": {},
   "source": [
    "## KNN"
   ]
  },
  {
   "cell_type": "code",
   "execution_count": 58,
   "metadata": {},
   "outputs": [],
   "source": [
    "# Use a pipeline to combine StandardScaler and KNN\n",
    "pipe = Pipeline(steps=[\n",
    "    ('sc', StandardScaler()),\n",
    "    ('knn', KNeighborsRegressor())\n",
    "])\n",
    "\n",
    "pipe_params = {\n",
    "    'knn__n_neighbors': [3, 5, 7, 9],\n",
    "    'knn__p' : [1, 2],\n",
    "    'knn__weights' : ['uniform', 'distance']\n",
    "}\n",
    "\n",
    "gs_knn = GridSearchCV(\n",
    "    pipe,\n",
    "    pipe_params,\n",
    "    cv=5\n",
    ").fit(X_train, y_train);"
   ]
  },
  {
   "cell_type": "code",
   "execution_count": 59,
   "metadata": {},
   "outputs": [
    {
     "data": {
      "text/plain": [
       "{'knn__n_neighbors': 3, 'knn__p': 1, 'knn__weights': 'distance'}"
      ]
     },
     "execution_count": 59,
     "metadata": {},
     "output_type": "execute_result"
    }
   ],
   "source": [
    "gs_knn.best_params_"
   ]
  },
  {
   "cell_type": "code",
   "execution_count": 60,
   "metadata": {},
   "outputs": [
    {
     "data": {
      "text/plain": [
       "0.6587177665216398"
      ]
     },
     "execution_count": 60,
     "metadata": {},
     "output_type": "execute_result"
    }
   ],
   "source": [
    "gs_knn.best_score_"
   ]
  },
  {
   "cell_type": "code",
   "execution_count": 61,
   "metadata": {},
   "outputs": [
    {
     "data": {
      "text/plain": [
       "1.0"
      ]
     },
     "execution_count": 61,
     "metadata": {},
     "output_type": "execute_result"
    }
   ],
   "source": [
    "gs_knn.score(X_train, y_train)"
   ]
  },
  {
   "cell_type": "code",
   "execution_count": 62,
   "metadata": {},
   "outputs": [
    {
     "data": {
      "text/plain": [
       "0.6804142564210762"
      ]
     },
     "execution_count": 62,
     "metadata": {},
     "output_type": "execute_result"
    }
   ],
   "source": [
    "gs_knn.score(X_test, y_test)"
   ]
  },
  {
   "cell_type": "code",
   "execution_count": 63,
   "metadata": {},
   "outputs": [
    {
     "data": {
      "text/plain": [
       "0.7309717348983351"
      ]
     },
     "execution_count": 63,
     "metadata": {},
     "output_type": "execute_result"
    }
   ],
   "source": [
    "cross_val_score(gs_knn.best_estimator_, X, y, scoring='r2', cv=5).mean()"
   ]
  },
  {
   "cell_type": "code",
   "execution_count": 64,
   "metadata": {},
   "outputs": [
    {
     "data": {
      "text/plain": [
       "0.0"
      ]
     },
     "execution_count": 64,
     "metadata": {},
     "output_type": "execute_result"
    }
   ],
   "source": [
    "y_train_preds = gs_knn.predict(X_train)\n",
    "np.sqrt(mean_squared_error(y_train, y_train_preds))"
   ]
  },
  {
   "cell_type": "code",
   "execution_count": 65,
   "metadata": {},
   "outputs": [
    {
     "data": {
      "text/plain": [
       "2.1853119076672436"
      ]
     },
     "execution_count": 65,
     "metadata": {},
     "output_type": "execute_result"
    }
   ],
   "source": [
    "y_test_preds = gs_knn.predict(X_test)\n",
    "np.sqrt(mean_squared_error(y_test, y_test_preds))"
   ]
  },
  {
   "cell_type": "markdown",
   "metadata": {},
   "source": [
    "## Tree"
   ]
  },
  {
   "cell_type": "code",
   "execution_count": 66,
   "metadata": {},
   "outputs": [
    {
     "data": {
      "text/plain": [
       "Index(['price_level', 'rating', 'user_ratings_total', 'price_level*rating',\n",
       "       'avg_price_level_by_zipcode', 'avg_rating_by_zipcode',\n",
       "       'avg_user_ratings_total_by_zipcode'],\n",
       "      dtype='object')"
      ]
     },
     "execution_count": 66,
     "metadata": {},
     "output_type": "execute_result"
    }
   ],
   "source": [
    "X_train.columns"
   ]
  },
  {
   "cell_type": "code",
   "execution_count": 67,
   "metadata": {},
   "outputs": [],
   "source": [
    "# Use grid search to find best hyperparams\n",
    "gs_tree = GridSearchCV(\n",
    "    estimator = DecisionTreeRegressor(random_state=42),\n",
    "    param_grid = {\n",
    "        'max_depth' : [15, 20, 30],\n",
    "        'min_samples_split' : [2, 3, 5],\n",
    "        'min_samples_leaf' : [2, 3, 5],\n",
    "         #'max_features' : [4, 6, 10]\n",
    "    },\n",
    "    cv=5\n",
    ").fit(X_train, y_train)"
   ]
  },
  {
   "cell_type": "code",
   "execution_count": 68,
   "metadata": {
    "scrolled": true
   },
   "outputs": [
    {
     "data": {
      "text/plain": [
       "{'max_depth': 20, 'min_samples_leaf': 2, 'min_samples_split': 5}"
      ]
     },
     "execution_count": 68,
     "metadata": {},
     "output_type": "execute_result"
    }
   ],
   "source": [
    "gs_tree.best_params_"
   ]
  },
  {
   "cell_type": "code",
   "execution_count": 69,
   "metadata": {},
   "outputs": [
    {
     "data": {
      "text/plain": [
       "0.9961845635116355"
      ]
     },
     "execution_count": 69,
     "metadata": {},
     "output_type": "execute_result"
    }
   ],
   "source": [
    "gs_tree.best_score_"
   ]
  },
  {
   "cell_type": "code",
   "execution_count": 70,
   "metadata": {},
   "outputs": [
    {
     "data": {
      "text/plain": [
       "0.999754756231599"
      ]
     },
     "execution_count": 70,
     "metadata": {},
     "output_type": "execute_result"
    }
   ],
   "source": [
    "gs_tree.score(X_train, y_train)"
   ]
  },
  {
   "cell_type": "code",
   "execution_count": 71,
   "metadata": {
    "scrolled": true
   },
   "outputs": [
    {
     "data": {
      "text/plain": [
       "0.98895903269936"
      ]
     },
     "execution_count": 71,
     "metadata": {},
     "output_type": "execute_result"
    }
   ],
   "source": [
    "gs_tree.score(X_test, y_test)"
   ]
  },
  {
   "cell_type": "code",
   "execution_count": 72,
   "metadata": {},
   "outputs": [
    {
     "data": {
      "text/plain": [
       "0.9981521130760933"
      ]
     },
     "execution_count": 72,
     "metadata": {},
     "output_type": "execute_result"
    }
   ],
   "source": [
    "cross_val_score(gs_tree.best_estimator_, X, y, scoring='r2', cv=5).mean()"
   ]
  },
  {
   "cell_type": "code",
   "execution_count": 73,
   "metadata": {
    "scrolled": false
   },
   "outputs": [],
   "source": [
    "feature_importance = pd.DataFrame(dict(zip(X_train.columns, gs_tree.best_estimator_.feature_importances_)).items())"
   ]
  },
  {
   "cell_type": "code",
   "execution_count": 74,
   "metadata": {},
   "outputs": [],
   "source": [
    "feature_importance = feature_importance.sort_values(by=[1])"
   ]
  },
  {
   "cell_type": "code",
   "execution_count": 75,
   "metadata": {},
   "outputs": [
    {
     "data": {
      "text/plain": [
       "<BarContainer object of 7 artists>"
      ]
     },
     "execution_count": 75,
     "metadata": {},
     "output_type": "execute_result"
    },
    {
     "data": {
      "image/png": "[encoded data removed]",
      "text/plain": [
       "<Figure size 720x1080 with 1 Axes>"
      ]
     },
     "metadata": {
      "needs_background": "light"
     },
     "output_type": "display_data"
    }
   ],
   "source": [
    "plt.figure(figsize=(10, 15))\n",
    "plt.barh(y = feature_importance[0], width=feature_importance[1])"
   ]
  },
  {
   "cell_type": "code",
   "execution_count": 76,
   "metadata": {},
   "outputs": [
    {
     "data": {
      "text/plain": [
       "0.0630180789585942"
      ]
     },
     "execution_count": 76,
     "metadata": {},
     "output_type": "execute_result"
    }
   ],
   "source": [
    "y_train_preds = gs_tree.predict(X_train)\n",
    "np.sqrt(mean_squared_error(y_train, y_train_preds))"
   ]
  },
  {
   "cell_type": "code",
   "execution_count": 77,
   "metadata": {},
   "outputs": [
    {
     "data": {
      "text/plain": [
       "0.40618445185523633"
      ]
     },
     "execution_count": 77,
     "metadata": {},
     "output_type": "execute_result"
    }
   ],
   "source": [
    "y_test_preds = gs_tree.predict(X_test)\n",
    "np.sqrt(mean_squared_error(y_test, y_test_preds))"
   ]
  },
  {
   "cell_type": "markdown",
   "metadata": {},
   "source": [
    "## Bagged Tree"
   ]
  },
  {
   "cell_type": "code",
   "execution_count": 78,
   "metadata": {},
   "outputs": [],
   "source": [
    "bag = BaggingRegressor(random_state=42).fit(X_train, y_train)"
   ]
  },
  {
   "cell_type": "code",
   "execution_count": 79,
   "metadata": {},
   "outputs": [
    {
     "data": {
      "text/plain": [
       "0.9995191534185331"
      ]
     },
     "execution_count": 79,
     "metadata": {},
     "output_type": "execute_result"
    }
   ],
   "source": [
    "bag.score(X_train, y_train)"
   ]
  },
  {
   "cell_type": "code",
   "execution_count": 80,
   "metadata": {
    "scrolled": true
   },
   "outputs": [
    {
     "data": {
      "text/plain": [
       "0.9884335124693543"
      ]
     },
     "execution_count": 80,
     "metadata": {},
     "output_type": "execute_result"
    }
   ],
   "source": [
    "bag.score(X_test, y_test)"
   ]
  },
  {
   "cell_type": "code",
   "execution_count": 81,
   "metadata": {},
   "outputs": [],
   "source": [
    "preds = bag.predict(X_test)"
   ]
  },
  {
   "cell_type": "code",
   "execution_count": 82,
   "metadata": {
    "scrolled": true
   },
   "outputs": [
    {
     "data": {
      "text/plain": [
       "<matplotlib.axes._subplots.AxesSubplot at 0x1334c35d0>"
      ]
     },
     "execution_count": 82,
     "metadata": {},
     "output_type": "execute_result"
    },
    {
     "data": {
      "image/png": "[encoded data removed]",
      "text/plain": [
       "<Figure size 432x288 with 1 Axes>"
      ]
     },
     "metadata": {
      "needs_background": "light"
     },
     "output_type": "display_data"
    }
   ],
   "source": [
    "sns.scatterplot(x = y_test, y = preds, alpha = .5)"
   ]
  },
  {
   "cell_type": "code",
   "execution_count": 83,
   "metadata": {},
   "outputs": [],
   "source": [
    "resids = y_test - preds"
   ]
  },
  {
   "cell_type": "code",
   "execution_count": 84,
   "metadata": {},
   "outputs": [
    {
     "data": {
      "text/plain": [
       "<matplotlib.axes._subplots.AxesSubplot at 0x13406fdd0>"
      ]
     },
     "execution_count": 84,
     "metadata": {},
     "output_type": "execute_result"
    },
    {
     "data": {
      "image/png": "[encoded data removed]",
      "text/plain": [
       "<Figure size 432x288 with 1 Axes>"
      ]
     },
     "metadata": {
      "needs_background": "light"
     },
     "output_type": "display_data"
    }
   ],
   "source": [
    "sns.scatterplot(x = range(len(resids)),y = resids, alpha = .5)"
   ]
  },
  {
   "cell_type": "markdown",
   "metadata": {},
   "source": [
    "## Ada Boost"
   ]
  },
  {
   "cell_type": "code",
   "execution_count": 85,
   "metadata": {},
   "outputs": [],
   "source": [
    "ad = AdaBoostRegressor(random_state=42).fit(X_train, y_train)"
   ]
  },
  {
   "cell_type": "code",
   "execution_count": 86,
   "metadata": {},
   "outputs": [
    {
     "data": {
      "text/plain": [
       "0.3002981593303583"
      ]
     },
     "execution_count": 86,
     "metadata": {},
     "output_type": "execute_result"
    }
   ],
   "source": [
    "ad.score(X_train, y_train)"
   ]
  },
  {
   "cell_type": "code",
   "execution_count": 87,
   "metadata": {},
   "outputs": [
    {
     "data": {
      "text/plain": [
       "0.272689664622326"
      ]
     },
     "execution_count": 87,
     "metadata": {},
     "output_type": "execute_result"
    }
   ],
   "source": [
    "ad.score(X_test, y_test)"
   ]
  },
  {
   "cell_type": "code",
   "execution_count": 88,
   "metadata": {
    "scrolled": true
   },
   "outputs": [
    {
     "data": {
      "text/plain": [
       "0.2795579280484869"
      ]
     },
     "execution_count": 88,
     "metadata": {},
     "output_type": "execute_result"
    }
   ],
   "source": [
    "cross_val_score(ad, X, y, scoring='r2', cv=5).mean()"
   ]
  },
  {
   "cell_type": "markdown",
   "metadata": {},
   "source": [
    "## Support Vector Machine"
   ]
  },
  {
   "cell_type": "code",
   "execution_count": 89,
   "metadata": {},
   "outputs": [],
   "source": [
    "# Use a pipeline to combine StandardScaler and KNN\n",
    "pipe = Pipeline(steps=[\n",
    "    ('sc', StandardScaler()),\n",
    "    ('svr', SVR())\n",
    "])\n",
    "\n",
    "pipe_params = {\n",
    "   'svr__gamma' : ['scale'],\n",
    "   'svr__degree' : [3, 4, 5],\n",
    "    'svr__kernel' :['linear', 'poly']\n",
    "}\n",
    "\n",
    "gs_svr = GridSearchCV(\n",
    "    pipe,\n",
    "    pipe_params,\n",
    "    cv=5\n",
    ").fit(X_train, y_train);"
   ]
  },
  {
   "cell_type": "code",
   "execution_count": 90,
   "metadata": {},
   "outputs": [
    {
     "data": {
      "text/plain": [
       "{'svr__degree': 3, 'svr__gamma': 'scale', 'svr__kernel': 'linear'}"
      ]
     },
     "execution_count": 90,
     "metadata": {},
     "output_type": "execute_result"
    }
   ],
   "source": [
    "gs_svr.best_params_"
   ]
  },
  {
   "cell_type": "code",
   "execution_count": 91,
   "metadata": {},
   "outputs": [
    {
     "data": {
      "text/plain": [
       "0.03098921643748398"
      ]
     },
     "execution_count": 91,
     "metadata": {},
     "output_type": "execute_result"
    }
   ],
   "source": [
    "gs_svr.score(X_train, y_train)"
   ]
  },
  {
   "cell_type": "code",
   "execution_count": 92,
   "metadata": {},
   "outputs": [
    {
     "data": {
      "text/plain": [
       "0.033451494657749326"
      ]
     },
     "execution_count": 92,
     "metadata": {},
     "output_type": "execute_result"
    }
   ],
   "source": [
    "gs_svr.score(X_test, y_test)"
   ]
  },
  {
   "cell_type": "code",
   "execution_count": 93,
   "metadata": {},
   "outputs": [
    {
     "data": {
      "text/plain": [
       "0.027920503788578976"
      ]
     },
     "execution_count": 93,
     "metadata": {},
     "output_type": "execute_result"
    }
   ],
   "source": [
    "cross_val_score(gs_svr.best_estimator_, X, y, scoring='r2', cv=5).mean()"
   ]
  },
  {
   "cell_type": "markdown",
   "metadata": {},
   "source": [
    "## Polynomial Regression"
   ]
  },
  {
   "cell_type": "code",
   "execution_count": 94,
   "metadata": {},
   "outputs": [],
   "source": [
    "from sklearn.preprocessing import PolynomialFeatures"
   ]
  },
  {
   "cell_type": "code",
   "execution_count": 95,
   "metadata": {},
   "outputs": [],
   "source": [
    "poly = Pipeline([\n",
    "    ('sc', StandardScaler()),\n",
    "    ('poly_features', PolynomialFeatures(degree=2, include_bias=False)),\n",
    "    ('lin_poly', LinearRegression())\n",
    "])\n",
    "poly.fit(X_train, y_train);"
   ]
  },
  {
   "cell_type": "code",
   "execution_count": 96,
   "metadata": {},
   "outputs": [
    {
     "data": {
      "text/plain": [
       "0.08061822893880066"
      ]
     },
     "execution_count": 96,
     "metadata": {},
     "output_type": "execute_result"
    }
   ],
   "source": [
    "poly.score(X_train, y_train)"
   ]
  },
  {
   "cell_type": "code",
   "execution_count": 97,
   "metadata": {},
   "outputs": [
    {
     "data": {
      "text/plain": [
       "0.10392967532884179"
      ]
     },
     "execution_count": 97,
     "metadata": {},
     "output_type": "execute_result"
    }
   ],
   "source": [
    "poly.score(X_test, y_test)"
   ]
  },
  {
   "cell_type": "code",
   "execution_count": 98,
   "metadata": {},
   "outputs": [
    {
     "data": {
      "text/plain": [
       "0.04754484038245958"
      ]
     },
     "execution_count": 98,
     "metadata": {},
     "output_type": "execute_result"
    }
   ],
   "source": [
    "cross_val_score(poly, X, y, scoring='r2', cv=5).mean()"
   ]
  },
  {
   "cell_type": "markdown",
   "metadata": {},
   "source": [
    "## Stochastic Gradient Descent"
   ]
  },
  {
   "cell_type": "code",
   "execution_count": 99,
   "metadata": {},
   "outputs": [],
   "source": [
    "from sklearn.linear_model import SGDRegressor"
   ]
  },
  {
   "cell_type": "code",
   "execution_count": 100,
   "metadata": {},
   "outputs": [],
   "source": [
    "pipe_2 = Pipeline(steps=[\n",
    "    ('sc', StandardScaler()),\n",
    "    ('SGD', SGDRegressor())\n",
    "])\n",
    "\n",
    "pipe_params_2 = {\n",
    "    'SGD__max_iter': [1000],\n",
    "    'SGD__penalty' : ['l1', 'l2'],\n",
    "    #'SGD__tol': [1e-3]\n",
    "}\n",
    "\n",
    "gs_SGD = GridSearchCV(\n",
    "    pipe_2,\n",
    "    pipe_params_2,\n",
    "    cv=5\n",
    "    \n",
    ").fit(X_train, y_train);"
   ]
  },
  {
   "cell_type": "code",
   "execution_count": 101,
   "metadata": {},
   "outputs": [
    {
     "data": {
      "text/plain": [
       "0.060288610756647154"
      ]
     },
     "execution_count": 101,
     "metadata": {},
     "output_type": "execute_result"
    }
   ],
   "source": [
    "gs_SGD.score(X_train, y_train)"
   ]
  },
  {
   "cell_type": "code",
   "execution_count": 102,
   "metadata": {
    "scrolled": true
   },
   "outputs": [
    {
     "data": {
      "text/plain": [
       "0.07001121297617852"
      ]
     },
     "execution_count": 102,
     "metadata": {},
     "output_type": "execute_result"
    }
   ],
   "source": [
    "gs_SGD.score(X_test, y_test)"
   ]
  },
  {
   "cell_type": "markdown",
   "metadata": {},
   "source": [
    "# Modeling: LA dataset"
   ]
  },
  {
   "cell_type": "code",
   "execution_count": 103,
   "metadata": {},
   "outputs": [],
   "source": [
    "df_la = pd.read_csv('../data/final_la.csv')"
   ]
  },
  {
   "cell_type": "code",
   "execution_count": 104,
   "metadata": {},
   "outputs": [
    {
     "data": {
      "text/plain": [
       "Index(['zipcode', 'name', 'place_id', 'rating', 'user_ratings_total',\n",
       "       'price_level', 'searched_keyword', 'searched_zipcode', 'location_lat',\n",
       "       'location_lng', 'compound_code', 'global_code', 'art_gallery', 'atm',\n",
       "       'bakery', 'bank', 'bar', 'beauty_salon', 'bicycle_store', 'book_store',\n",
       "       'bowling_alley', 'cafe', 'car_dealer', 'car_repair', 'car_wash',\n",
       "       'clothing_store', 'convenience_store', 'dentist', 'department_store',\n",
       "       'drugstore', 'electronics_store', 'establishment', 'finance', 'florist',\n",
       "       'food', 'furniture_store', 'gas_station', 'general_contractor',\n",
       "       'grocery_or_supermarket', 'gym', 'hair_care', 'hardware_store',\n",
       "       'health', 'home_goods_store', 'hospital', 'insurance_agency',\n",
       "       'jewelry_store', 'laundry', 'liquor_store', 'locksmith', 'lodging',\n",
       "       'meal_delivery', 'meal_takeaway', 'movie_rental', 'movie_theater',\n",
       "       'moving_company', 'night_club', 'park', 'parking', 'pet_store',\n",
       "       'pharmacy', 'plumber', 'point_of_interest', 'premise',\n",
       "       'real_estate_agency', 'restaurant', 'school', 'shoe_store',\n",
       "       'shopping_mall', 'spa', 'storage', 'store', 'supermarket',\n",
       "       'tourist_attraction', 'veterinary_care', 'population',\n",
       "       'population_density_square_miles', 'housing_units',\n",
       "       'home_price_to_income_ratios', 'price_level*rating',\n",
       "       'avg_price_level_by_zipcode', 'avg_rating_by_zipcode',\n",
       "       'avg_user_ratings_total_by_zipcode', 'total_number_of_bars_by_zipcode',\n",
       "       'total_number_of_cafes_by_zipcode', 'user_ratings_total_per_capita',\n",
       "       'rating_weighed_population_density', 'open_now_False', 'open_now_True',\n",
       "       'open_now_nan'],\n",
       "      dtype='object')"
      ]
     },
     "execution_count": 104,
     "metadata": {},
     "output_type": "execute_result"
    }
   ],
   "source": [
    "df_la.columns"
   ]
  },
  {
   "cell_type": "code",
   "execution_count": 105,
   "metadata": {},
   "outputs": [],
   "source": [
    "columns_la = [\n",
    "       'price_level', 'rating', 'user_ratings_total', \n",
    "       #'art_gallery', 'atm', 'bakery', 'bar', 'beauty_salon',\n",
    "       #'bicycle_store', 'book_store', 'cafe', 'car_dealer', 'car_repair',\n",
    "       #'car_wash', 'clothing_store', 'convenience_store', 'department_store',\n",
    "       #'drugstore', 'electronics_store', 'establishment', 'finance', 'florist',\n",
    "       #'food', 'funeral_home', 'furniture_store', 'gas_station',\n",
    "       #'general_contractor', 'grocery_or_supermarket', 'hair_care',\n",
    "       #'hardware_store', 'health', 'home_goods_store', 'jewelry_store',\n",
    "       #'laundry', 'liquor_store', 'local_government_office', 'locksmith',\n",
    "       #'lodging', 'meal_delivery', 'meal_takeaway', 'movie_rental',\n",
    "       #'night_club', 'park', 'parking', 'pet_store', 'pharmacy',\n",
    "       #'point_of_interest', 'premise', 'restaurant', 'school', 'shoe_store',\n",
    "       #'shopping_mall', 'spa', 'storage', 'store', 'supermarket',\n",
    "       # 'tourist_attraction', 'travel_agency',  \n",
    "       #'population_density_square_miles', 'population', 'housing_units', \n",
    "       'home_price_to_income_ratios', 'price_level*rating',\n",
    "       'avg_price_level_by_zipcode', 'avg_rating_by_zipcode',\n",
    "       'avg_user_ratings_total_by_zipcode', \n",
    "       #'user_ratings_total_per_capita', 'rating_weighed_population_density'\n",
    "       ]\n"
   ]
  },
  {
   "cell_type": "code",
   "execution_count": 106,
   "metadata": {},
   "outputs": [],
   "source": [
    "final_la = df_la[columns_la].dropna()"
   ]
  },
  {
   "cell_type": "code",
   "execution_count": 107,
   "metadata": {
    "scrolled": true
   },
   "outputs": [
    {
     "data": {
      "text/html": [
       "<div>\n",
       "<style scoped>\n",
       "    .dataframe tbody tr th:only-of-type {\n",
       "        vertical-align: middle;\n",
       "    }\n",
       "\n",
       "    .dataframe tbody tr th {\n",
       "        vertical-align: top;\n",
       "    }\n",
       "\n",
       "    .dataframe thead th {\n",
       "        text-align: right;\n",
       "    }\n",
       "</style>\n",
       "<table border=\"1\" class=\"dataframe\">\n",
       "  <thead>\n",
       "    <tr style=\"text-align: right;\">\n",
       "      <th></th>\n",
       "      <th>price_level</th>\n",
       "      <th>rating</th>\n",
       "      <th>user_ratings_total</th>\n",
       "      <th>home_price_to_income_ratios</th>\n",
       "      <th>price_level*rating</th>\n",
       "      <th>avg_price_level_by_zipcode</th>\n",
       "      <th>avg_rating_by_zipcode</th>\n",
       "      <th>avg_user_ratings_total_by_zipcode</th>\n",
       "    </tr>\n",
       "  </thead>\n",
       "  <tbody>\n",
       "    <tr>\n",
       "      <td>0</td>\n",
       "      <td>1.0</td>\n",
       "      <td>4.4</td>\n",
       "      <td>66.0</td>\n",
       "      <td>8.321933</td>\n",
       "      <td>4.4</td>\n",
       "      <td>1.142857</td>\n",
       "      <td>4.400000</td>\n",
       "      <td>193.000000</td>\n",
       "    </tr>\n",
       "    <tr>\n",
       "      <td>2</td>\n",
       "      <td>2.0</td>\n",
       "      <td>4.4</td>\n",
       "      <td>168.0</td>\n",
       "      <td>9.893722</td>\n",
       "      <td>8.8</td>\n",
       "      <td>1.800000</td>\n",
       "      <td>4.415686</td>\n",
       "      <td>177.823529</td>\n",
       "    </tr>\n",
       "    <tr>\n",
       "      <td>5</td>\n",
       "      <td>2.0</td>\n",
       "      <td>4.4</td>\n",
       "      <td>1729.0</td>\n",
       "      <td>9.813486</td>\n",
       "      <td>8.8</td>\n",
       "      <td>1.875000</td>\n",
       "      <td>4.362264</td>\n",
       "      <td>446.905660</td>\n",
       "    </tr>\n",
       "    <tr>\n",
       "      <td>6</td>\n",
       "      <td>1.0</td>\n",
       "      <td>4.7</td>\n",
       "      <td>271.0</td>\n",
       "      <td>12.623606</td>\n",
       "      <td>4.7</td>\n",
       "      <td>1.695652</td>\n",
       "      <td>4.148485</td>\n",
       "      <td>299.666667</td>\n",
       "    </tr>\n",
       "    <tr>\n",
       "      <td>8</td>\n",
       "      <td>2.0</td>\n",
       "      <td>4.0</td>\n",
       "      <td>417.0</td>\n",
       "      <td>9.855462</td>\n",
       "      <td>8.0</td>\n",
       "      <td>1.487805</td>\n",
       "      <td>4.155769</td>\n",
       "      <td>391.076923</td>\n",
       "    </tr>\n",
       "  </tbody>\n",
       "</table>\n",
       "</div>"
      ],
      "text/plain": [
       "   price_level  rating  user_ratings_total  home_price_to_income_ratios  \\\n",
       "0          1.0     4.4                66.0                     8.321933   \n",
       "2          2.0     4.4               168.0                     9.893722   \n",
       "5          2.0     4.4              1729.0                     9.813486   \n",
       "6          1.0     4.7               271.0                    12.623606   \n",
       "8          2.0     4.0               417.0                     9.855462   \n",
       "\n",
       "   price_level*rating  avg_price_level_by_zipcode  avg_rating_by_zipcode  \\\n",
       "0                 4.4                    1.142857               4.400000   \n",
       "2                 8.8                    1.800000               4.415686   \n",
       "5                 8.8                    1.875000               4.362264   \n",
       "6                 4.7                    1.695652               4.148485   \n",
       "8                 8.0                    1.487805               4.155769   \n",
       "\n",
       "   avg_user_ratings_total_by_zipcode  \n",
       "0                         193.000000  \n",
       "2                         177.823529  \n",
       "5                         446.905660  \n",
       "6                         299.666667  \n",
       "8                         391.076923  "
      ]
     },
     "execution_count": 107,
     "metadata": {},
     "output_type": "execute_result"
    }
   ],
   "source": [
    "final_la.head()"
   ]
  },
  {
   "cell_type": "code",
   "execution_count": 108,
   "metadata": {},
   "outputs": [],
   "source": [
    "target = 'home_price_to_income_ratios'\n",
    "X = final_la.drop(columns=target)\n",
    "y = final_la[target]"
   ]
  },
  {
   "cell_type": "code",
   "execution_count": 109,
   "metadata": {},
   "outputs": [],
   "source": [
    "X_train, X_test, y_train, y_test = train_test_split(X, y, random_state=42, train_size=0.70)"
   ]
  },
  {
   "cell_type": "markdown",
   "metadata": {},
   "source": [
    "## Baseline Model"
   ]
  },
  {
   "cell_type": "markdown",
   "metadata": {},
   "source": [
    "[reference](https://chrisalbon.com/machine_learning/model_evaluation/create_baseline_regression_model/)"
   ]
  },
  {
   "cell_type": "code",
   "execution_count": 110,
   "metadata": {},
   "outputs": [],
   "source": [
    "from sklearn.dummy import DummyRegressor"
   ]
  },
  {
   "cell_type": "code",
   "execution_count": 111,
   "metadata": {},
   "outputs": [
    {
     "data": {
      "text/plain": [
       "DummyRegressor(constant=20, quantile=None, strategy='mean')"
      ]
     },
     "execution_count": 111,
     "metadata": {},
     "output_type": "execute_result"
    }
   ],
   "source": [
    "# Create a dummy regressor\n",
    "dummy_mean = DummyRegressor(strategy='mean', constant=20)\n",
    "\n",
    "# \"Train\" dummy regressor\n",
    "dummy_mean.fit(X_train, y_train)"
   ]
  },
  {
   "cell_type": "code",
   "execution_count": 112,
   "metadata": {},
   "outputs": [
    {
     "data": {
      "text/plain": [
       "0.0"
      ]
     },
     "execution_count": 112,
     "metadata": {},
     "output_type": "execute_result"
    }
   ],
   "source": [
    "dummy_mean.score(X_train, y_train)"
   ]
  },
  {
   "cell_type": "code",
   "execution_count": 113,
   "metadata": {
    "scrolled": true
   },
   "outputs": [
    {
     "data": {
      "text/plain": [
       "-0.002408531822008397"
      ]
     },
     "execution_count": 113,
     "metadata": {},
     "output_type": "execute_result"
    }
   ],
   "source": [
    "dummy_mean.score(X_test, y_test)"
   ]
  },
  {
   "cell_type": "markdown",
   "metadata": {},
   "source": [
    "## Linear Regression"
   ]
  },
  {
   "cell_type": "code",
   "execution_count": 114,
   "metadata": {},
   "outputs": [],
   "source": [
    "lr = LinearRegression()"
   ]
  },
  {
   "cell_type": "code",
   "execution_count": 115,
   "metadata": {},
   "outputs": [
    {
     "data": {
      "text/plain": [
       "LinearRegression(copy_X=True, fit_intercept=True, n_jobs=None, normalize=False)"
      ]
     },
     "execution_count": 115,
     "metadata": {},
     "output_type": "execute_result"
    }
   ],
   "source": [
    "lr.fit(X_train, y_train)"
   ]
  },
  {
   "cell_type": "code",
   "execution_count": 116,
   "metadata": {},
   "outputs": [
    {
     "data": {
      "text/plain": [
       "0.16566143861706195"
      ]
     },
     "execution_count": 116,
     "metadata": {},
     "output_type": "execute_result"
    }
   ],
   "source": [
    "lr.score(X_train, y_train)"
   ]
  },
  {
   "cell_type": "code",
   "execution_count": 117,
   "metadata": {},
   "outputs": [
    {
     "data": {
      "text/plain": [
       "0.1366546413376033"
      ]
     },
     "execution_count": 117,
     "metadata": {},
     "output_type": "execute_result"
    }
   ],
   "source": [
    "lr.score(X_test, y_test)"
   ]
  },
  {
   "cell_type": "code",
   "execution_count": 118,
   "metadata": {
    "scrolled": true
   },
   "outputs": [
    {
     "data": {
      "text/plain": [
       "0.1575193883096531"
      ]
     },
     "execution_count": 118,
     "metadata": {},
     "output_type": "execute_result"
    }
   ],
   "source": [
    "cross_val_score(lr, X, y, cv=5).mean()"
   ]
  },
  {
   "cell_type": "code",
   "execution_count": 119,
   "metadata": {},
   "outputs": [
    {
     "data": {
      "text/plain": [
       "4.0698004423496466"
      ]
     },
     "execution_count": 119,
     "metadata": {},
     "output_type": "execute_result"
    }
   ],
   "source": [
    "y_train_preds = lr.predict(X_train)\n",
    "np.sqrt(mean_squared_error(y_train, y_train_preds))"
   ]
  },
  {
   "cell_type": "code",
   "execution_count": 120,
   "metadata": {},
   "outputs": [
    {
     "data": {
      "text/plain": [
       "4.04121461730974"
      ]
     },
     "execution_count": 120,
     "metadata": {},
     "output_type": "execute_result"
    }
   ],
   "source": [
    "y_test_preds = lr.predict(X_test)\n",
    "np.sqrt(mean_squared_error(y_test, y_test_preds))"
   ]
  },
  {
   "cell_type": "code",
   "execution_count": 121,
   "metadata": {},
   "outputs": [],
   "source": [
    "# cross_val_score = cross_val_score(lr, X, y, cv=5, scoring='neg_mean_squared_error')\n",
    "# np.sqrt(-cross_val_score).mean()"
   ]
  },
  {
   "cell_type": "markdown",
   "metadata": {},
   "source": [
    "## KNN"
   ]
  },
  {
   "cell_type": "code",
   "execution_count": 122,
   "metadata": {},
   "outputs": [],
   "source": [
    "# Use a pipeline to combine StandardScaler and KNN\n",
    "pipe = Pipeline(steps=[\n",
    "    ('sc', StandardScaler()),\n",
    "    ('knn', KNeighborsRegressor())\n",
    "])\n",
    "\n",
    "pipe_params = {\n",
    "    'knn__n_neighbors': [3, 5, 7, 9],\n",
    "    'knn__p' : [1, 2],\n",
    "    'knn__weights' : ['uniform', 'distance']\n",
    "}\n",
    "\n",
    "gs_knn = GridSearchCV(\n",
    "    pipe,\n",
    "    pipe_params,\n",
    "    cv=5\n",
    ").fit(X_train, y_train);"
   ]
  },
  {
   "cell_type": "code",
   "execution_count": 123,
   "metadata": {},
   "outputs": [
    {
     "data": {
      "text/plain": [
       "{'knn__n_neighbors': 3, 'knn__p': 1, 'knn__weights': 'distance'}"
      ]
     },
     "execution_count": 123,
     "metadata": {},
     "output_type": "execute_result"
    }
   ],
   "source": [
    "gs_knn.best_params_"
   ]
  },
  {
   "cell_type": "code",
   "execution_count": 124,
   "metadata": {},
   "outputs": [
    {
     "data": {
      "text/plain": [
       "0.5222216390911072"
      ]
     },
     "execution_count": 124,
     "metadata": {},
     "output_type": "execute_result"
    }
   ],
   "source": [
    "gs_knn.best_score_"
   ]
  },
  {
   "cell_type": "code",
   "execution_count": 125,
   "metadata": {},
   "outputs": [
    {
     "data": {
      "text/plain": [
       "1.0"
      ]
     },
     "execution_count": 125,
     "metadata": {},
     "output_type": "execute_result"
    }
   ],
   "source": [
    "gs_knn.score(X_train, y_train)"
   ]
  },
  {
   "cell_type": "code",
   "execution_count": 126,
   "metadata": {},
   "outputs": [
    {
     "data": {
      "text/plain": [
       "0.5064158712501685"
      ]
     },
     "execution_count": 126,
     "metadata": {},
     "output_type": "execute_result"
    }
   ],
   "source": [
    "gs_knn.score(X_test, y_test)"
   ]
  },
  {
   "cell_type": "code",
   "execution_count": 127,
   "metadata": {},
   "outputs": [
    {
     "data": {
      "text/plain": [
       "0.610375521945438"
      ]
     },
     "execution_count": 127,
     "metadata": {},
     "output_type": "execute_result"
    }
   ],
   "source": [
    "cross_val_score(gs_knn.best_estimator_, X, y, scoring='r2', cv=5).mean()"
   ]
  },
  {
   "cell_type": "code",
   "execution_count": 128,
   "metadata": {},
   "outputs": [
    {
     "data": {
      "text/plain": [
       "0.0"
      ]
     },
     "execution_count": 128,
     "metadata": {},
     "output_type": "execute_result"
    }
   ],
   "source": [
    "y_train_preds = gs_knn.predict(X_train)\n",
    "np.sqrt(mean_squared_error(y_train, y_train_preds))"
   ]
  },
  {
   "cell_type": "code",
   "execution_count": 129,
   "metadata": {},
   "outputs": [
    {
     "data": {
      "text/plain": [
       "3.0556262278911706"
      ]
     },
     "execution_count": 129,
     "metadata": {},
     "output_type": "execute_result"
    }
   ],
   "source": [
    "y_test_preds = gs_knn.predict(X_test)\n",
    "np.sqrt(mean_squared_error(y_test, y_test_preds))"
   ]
  },
  {
   "cell_type": "markdown",
   "metadata": {},
   "source": [
    "## Tree"
   ]
  },
  {
   "cell_type": "code",
   "execution_count": 130,
   "metadata": {},
   "outputs": [
    {
     "data": {
      "text/plain": [
       "Index(['price_level', 'rating', 'user_ratings_total', 'price_level*rating',\n",
       "       'avg_price_level_by_zipcode', 'avg_rating_by_zipcode',\n",
       "       'avg_user_ratings_total_by_zipcode'],\n",
       "      dtype='object')"
      ]
     },
     "execution_count": 130,
     "metadata": {},
     "output_type": "execute_result"
    }
   ],
   "source": [
    "X_train.columns"
   ]
  },
  {
   "cell_type": "code",
   "execution_count": 131,
   "metadata": {},
   "outputs": [],
   "source": [
    "# Use grid search to find best hyperparams\n",
    "gs_tree = GridSearchCV(\n",
    "    estimator = DecisionTreeRegressor(random_state=42),\n",
    "    param_grid = {\n",
    "        'max_depth' : [15, 20, 30],\n",
    "        'min_samples_split' : [2, 3, 5],\n",
    "        'min_samples_leaf' : [2, 3, 5],\n",
    "         #'max_features' : [4, 6, 10]\n",
    "    },\n",
    "    cv=5\n",
    ").fit(X_train, y_train)"
   ]
  },
  {
   "cell_type": "code",
   "execution_count": 132,
   "metadata": {
    "scrolled": true
   },
   "outputs": [
    {
     "data": {
      "text/plain": [
       "{'max_depth': 20, 'min_samples_leaf': 2, 'min_samples_split': 5}"
      ]
     },
     "execution_count": 132,
     "metadata": {},
     "output_type": "execute_result"
    }
   ],
   "source": [
    "gs_tree.best_params_"
   ]
  },
  {
   "cell_type": "code",
   "execution_count": 133,
   "metadata": {},
   "outputs": [
    {
     "data": {
      "text/plain": [
       "0.998115672789559"
      ]
     },
     "execution_count": 133,
     "metadata": {},
     "output_type": "execute_result"
    }
   ],
   "source": [
    "gs_tree.best_score_"
   ]
  },
  {
   "cell_type": "code",
   "execution_count": 134,
   "metadata": {},
   "outputs": [
    {
     "data": {
      "text/plain": [
       "0.9999839705434403"
      ]
     },
     "execution_count": 134,
     "metadata": {},
     "output_type": "execute_result"
    }
   ],
   "source": [
    "gs_tree.score(X_train, y_train)"
   ]
  },
  {
   "cell_type": "code",
   "execution_count": 135,
   "metadata": {
    "scrolled": true
   },
   "outputs": [
    {
     "data": {
      "text/plain": [
       "0.9956377136005782"
      ]
     },
     "execution_count": 135,
     "metadata": {},
     "output_type": "execute_result"
    }
   ],
   "source": [
    "gs_tree.score(X_test, y_test)"
   ]
  },
  {
   "cell_type": "code",
   "execution_count": 136,
   "metadata": {},
   "outputs": [
    {
     "data": {
      "text/plain": [
       "0.9979140012921036"
      ]
     },
     "execution_count": 136,
     "metadata": {},
     "output_type": "execute_result"
    }
   ],
   "source": [
    "cross_val_score(gs_tree.best_estimator_, X, y, scoring='r2', cv=5).mean()"
   ]
  },
  {
   "cell_type": "code",
   "execution_count": 137,
   "metadata": {
    "scrolled": false
   },
   "outputs": [],
   "source": [
    "feature_importance = pd.DataFrame(dict(zip(X_train.columns, gs_tree.best_estimator_.feature_importances_)).items())"
   ]
  },
  {
   "cell_type": "code",
   "execution_count": 138,
   "metadata": {},
   "outputs": [],
   "source": [
    "feature_importance = feature_importance.sort_values(by=[1])"
   ]
  },
  {
   "cell_type": "code",
   "execution_count": 139,
   "metadata": {},
   "outputs": [
    {
     "data": {
      "text/plain": [
       "<BarContainer object of 7 artists>"
      ]
     },
     "execution_count": 139,
     "metadata": {},
     "output_type": "execute_result"
    },
    {
     "data": {
      "image/png": "[encoded data removed]",
      "text/plain": [
       "<Figure size 720x1080 with 1 Axes>"
      ]
     },
     "metadata": {
      "needs_background": "light"
     },
     "output_type": "display_data"
    }
   ],
   "source": [
    "plt.figure(figsize=(10, 15))\n",
    "plt.barh(y = feature_importance[0], width=feature_importance[1])"
   ]
  },
  {
   "cell_type": "code",
   "execution_count": 140,
   "metadata": {},
   "outputs": [
    {
     "data": {
      "text/plain": [
       "0.017838624180091273"
      ]
     },
     "execution_count": 140,
     "metadata": {},
     "output_type": "execute_result"
    }
   ],
   "source": [
    "y_train_preds = gs_tree.predict(X_train)\n",
    "np.sqrt(mean_squared_error(y_train, y_train_preds))"
   ]
  },
  {
   "cell_type": "code",
   "execution_count": 141,
   "metadata": {},
   "outputs": [
    {
     "data": {
      "text/plain": [
       "0.28726103669382874"
      ]
     },
     "execution_count": 141,
     "metadata": {},
     "output_type": "execute_result"
    }
   ],
   "source": [
    "y_test_preds = gs_tree.predict(X_test)\n",
    "np.sqrt(mean_squared_error(y_test, y_test_preds))"
   ]
  },
  {
   "cell_type": "markdown",
   "metadata": {},
   "source": [
    "## Bagged Tree"
   ]
  },
  {
   "cell_type": "code",
   "execution_count": 142,
   "metadata": {},
   "outputs": [],
   "source": [
    "bag = BaggingRegressor(random_state=42).fit(X_train, y_train)"
   ]
  },
  {
   "cell_type": "code",
   "execution_count": 143,
   "metadata": {},
   "outputs": [
    {
     "data": {
      "text/plain": [
       "0.9989339177319199"
      ]
     },
     "execution_count": 143,
     "metadata": {},
     "output_type": "execute_result"
    }
   ],
   "source": [
    "bag.score(X_train, y_train)"
   ]
  },
  {
   "cell_type": "code",
   "execution_count": 144,
   "metadata": {
    "scrolled": true
   },
   "outputs": [
    {
     "data": {
      "text/plain": [
       "0.9984423300047537"
      ]
     },
     "execution_count": 144,
     "metadata": {},
     "output_type": "execute_result"
    }
   ],
   "source": [
    "bag.score(X_test, y_test)"
   ]
  },
  {
   "cell_type": "code",
   "execution_count": 145,
   "metadata": {},
   "outputs": [],
   "source": [
    "preds = bag.predict(X_test)"
   ]
  },
  {
   "cell_type": "code",
   "execution_count": 146,
   "metadata": {
    "scrolled": true
   },
   "outputs": [
    {
     "data": {
      "text/plain": [
       "<matplotlib.axes._subplots.AxesSubplot at 0x13447a9d0>"
      ]
     },
     "execution_count": 146,
     "metadata": {},
     "output_type": "execute_result"
    },
    {
     "data": {
      "image/png": "[encoded data removed]",
      "text/plain": [
       "<Figure size 432x288 with 1 Axes>"
      ]
     },
     "metadata": {
      "needs_background": "light"
     },
     "output_type": "display_data"
    }
   ],
   "source": [
    "sns.scatterplot(x = y_test, y = preds, alpha = .5)"
   ]
  },
  {
   "cell_type": "code",
   "execution_count": 147,
   "metadata": {},
   "outputs": [],
   "source": [
    "resids = y_test - preds"
   ]
  },
  {
   "cell_type": "code",
   "execution_count": 148,
   "metadata": {},
   "outputs": [
    {
     "data": {
      "text/plain": [
       "<matplotlib.axes._subplots.AxesSubplot at 0x1347ad390>"
      ]
     },
     "execution_count": 148,
     "metadata": {},
     "output_type": "execute_result"
    },
    {
     "data": {
      "image/png": "[encoded data removed]",
      "text/plain": [
       "<Figure size 432x288 with 1 Axes>"
      ]
     },
     "metadata": {
      "needs_background": "light"
     },
     "output_type": "display_data"
    }
   ],
   "source": [
    "sns.scatterplot(x = range(len(resids)),y = resids, alpha = .5)"
   ]
  },
  {
   "cell_type": "markdown",
   "metadata": {},
   "source": [
    "## Ada Boost"
   ]
  },
  {
   "cell_type": "code",
   "execution_count": 149,
   "metadata": {},
   "outputs": [],
   "source": [
    "ad = AdaBoostRegressor(random_state=42).fit(X_train, y_train)"
   ]
  },
  {
   "cell_type": "code",
   "execution_count": 150,
   "metadata": {},
   "outputs": [
    {
     "data": {
      "text/plain": [
       "0.6100953172729338"
      ]
     },
     "execution_count": 150,
     "metadata": {},
     "output_type": "execute_result"
    }
   ],
   "source": [
    "ad.score(X_train, y_train)"
   ]
  },
  {
   "cell_type": "code",
   "execution_count": 151,
   "metadata": {},
   "outputs": [
    {
     "data": {
      "text/plain": [
       "0.6003637111514358"
      ]
     },
     "execution_count": 151,
     "metadata": {},
     "output_type": "execute_result"
    }
   ],
   "source": [
    "ad.score(X_test, y_test)"
   ]
  },
  {
   "cell_type": "code",
   "execution_count": 152,
   "metadata": {
    "scrolled": true
   },
   "outputs": [
    {
     "data": {
      "text/plain": [
       "0.5874889152140825"
      ]
     },
     "execution_count": 152,
     "metadata": {},
     "output_type": "execute_result"
    }
   ],
   "source": [
    "cross_val_score(ad, X, y, scoring='r2', cv=5).mean()"
   ]
  },
  {
   "cell_type": "markdown",
   "metadata": {},
   "source": [
    "## Support Vector Machine"
   ]
  },
  {
   "cell_type": "code",
   "execution_count": 153,
   "metadata": {},
   "outputs": [
    {
     "name": "stderr",
     "output_type": "stream",
     "text": [
      "/opt/anaconda3/lib/python3.7/site-packages/sklearn/model_selection/_search.py:814: DeprecationWarning:\n",
      "\n",
      "The default of the `iid` parameter will change from True to False in version 0.22 and will be removed in 0.24. This will change numeric results when test-set sizes are unequal.\n",
      "\n"
     ]
    }
   ],
   "source": [
    "# Use a pipeline to combine StandardScaler and KNN\n",
    "pipe = Pipeline(steps=[\n",
    "    ('sc', StandardScaler()),\n",
    "    ('svr', SVR())\n",
    "])\n",
    "\n",
    "pipe_params = {\n",
    "   'svr__gamma' : ['scale'],\n",
    "   'svr__degree' : [3, 4, 5],\n",
    "    'svr__kernel' :['linear', 'poly']\n",
    "}\n",
    "\n",
    "gs_svr = GridSearchCV(\n",
    "    pipe,\n",
    "    pipe_params,\n",
    "    cv=5\n",
    ").fit(X_train, y_train);"
   ]
  },
  {
   "cell_type": "code",
   "execution_count": 154,
   "metadata": {},
   "outputs": [
    {
     "data": {
      "text/plain": [
       "{'svr__degree': 3, 'svr__gamma': 'scale', 'svr__kernel': 'linear'}"
      ]
     },
     "execution_count": 154,
     "metadata": {},
     "output_type": "execute_result"
    }
   ],
   "source": [
    "gs_svr.best_params_"
   ]
  },
  {
   "cell_type": "code",
   "execution_count": 155,
   "metadata": {},
   "outputs": [
    {
     "data": {
      "text/plain": [
       "0.12053517860713782"
      ]
     },
     "execution_count": 155,
     "metadata": {},
     "output_type": "execute_result"
    }
   ],
   "source": [
    "gs_svr.score(X_train, y_train)"
   ]
  },
  {
   "cell_type": "code",
   "execution_count": 156,
   "metadata": {},
   "outputs": [
    {
     "data": {
      "text/plain": [
       "0.11106677310742885"
      ]
     },
     "execution_count": 156,
     "metadata": {},
     "output_type": "execute_result"
    }
   ],
   "source": [
    "gs_svr.score(X_test, y_test)"
   ]
  },
  {
   "cell_type": "code",
   "execution_count": 157,
   "metadata": {},
   "outputs": [
    {
     "data": {
      "text/plain": [
       "0.11375439413702852"
      ]
     },
     "execution_count": 157,
     "metadata": {},
     "output_type": "execute_result"
    }
   ],
   "source": [
    "cross_val_score(gs_svr.best_estimator_, X, y, scoring='r2', cv=5).mean()"
   ]
  },
  {
   "cell_type": "markdown",
   "metadata": {},
   "source": [
    "## Polynomial Regression"
   ]
  },
  {
   "cell_type": "code",
   "execution_count": 158,
   "metadata": {},
   "outputs": [],
   "source": [
    "from sklearn.preprocessing import PolynomialFeatures"
   ]
  },
  {
   "cell_type": "code",
   "execution_count": 159,
   "metadata": {},
   "outputs": [],
   "source": [
    "poly = Pipeline([\n",
    "    ('sc', StandardScaler()),\n",
    "    ('poly_features', PolynomialFeatures(degree=2, include_bias=False)),\n",
    "    ('lin_poly', LinearRegression())\n",
    "])\n",
    "poly.fit(X_train, y_train);"
   ]
  },
  {
   "cell_type": "code",
   "execution_count": 160,
   "metadata": {},
   "outputs": [
    {
     "data": {
      "text/plain": [
       "0.203633141635016"
      ]
     },
     "execution_count": 160,
     "metadata": {},
     "output_type": "execute_result"
    }
   ],
   "source": [
    "poly.score(X_train, y_train)"
   ]
  },
  {
   "cell_type": "code",
   "execution_count": 161,
   "metadata": {},
   "outputs": [
    {
     "data": {
      "text/plain": [
       "0.16695379923502884"
      ]
     },
     "execution_count": 161,
     "metadata": {},
     "output_type": "execute_result"
    }
   ],
   "source": [
    "poly.score(X_test, y_test)"
   ]
  },
  {
   "cell_type": "code",
   "execution_count": 162,
   "metadata": {},
   "outputs": [
    {
     "data": {
      "text/plain": [
       "0.1868138112714895"
      ]
     },
     "execution_count": 162,
     "metadata": {},
     "output_type": "execute_result"
    }
   ],
   "source": [
    "cross_val_score(poly, X, y, scoring='r2', cv=5).mean()"
   ]
  },
  {
   "cell_type": "markdown",
   "metadata": {},
   "source": [
    "## Stochastic Gradient Descent"
   ]
  },
  {
   "cell_type": "code",
   "execution_count": 163,
   "metadata": {},
   "outputs": [],
   "source": [
    "from sklearn.linear_model import SGDRegressor"
   ]
  },
  {
   "cell_type": "code",
   "execution_count": 164,
   "metadata": {},
   "outputs": [],
   "source": [
    "pipe_2 = Pipeline(steps=[\n",
    "    ('sc', StandardScaler()),\n",
    "    ('SGD', SGDRegressor())\n",
    "])\n",
    "\n",
    "pipe_params_2 = {\n",
    "    'SGD__max_iter': [1000],\n",
    "    'SGD__penalty' : ['l1', 'l2'],\n",
    "    #'SGD__tol': [1e-3]\n",
    "}\n",
    "\n",
    "gs_SGD = GridSearchCV(\n",
    "    pipe_2,\n",
    "    pipe_params_2,\n",
    "    cv=5\n",
    "    \n",
    ").fit(X_train, y_train);"
   ]
  },
  {
   "cell_type": "code",
   "execution_count": 165,
   "metadata": {},
   "outputs": [
    {
     "data": {
      "text/plain": [
       "0.16528721900755072"
      ]
     },
     "execution_count": 165,
     "metadata": {},
     "output_type": "execute_result"
    }
   ],
   "source": [
    "gs_SGD.score(X_train, y_train)"
   ]
  },
  {
   "cell_type": "code",
   "execution_count": 166,
   "metadata": {
    "scrolled": true
   },
   "outputs": [
    {
     "data": {
      "text/plain": [
       "0.1366607369690097"
      ]
     },
     "execution_count": 166,
     "metadata": {},
     "output_type": "execute_result"
    }
   ],
   "source": [
    "gs_SGD.score(X_test, y_test)"
   ]
  }
 ],
 "metadata": {
  "kernelspec": {
   "display_name": "Python 3",
   "language": "python",
   "name": "python3"
  },
  "language_info": {
   "codemirror_mode": {
    "name": "ipython",
    "version": 3
   },
   "file_extension": ".py",
   "mimetype": "text/x-python",
   "name": "python",
   "nbconvert_exporter": "python",
   "pygments_lexer": "ipython3",
   "version": "3.7.4"
  },
  "toc": {
   "base_numbering": 1,
   "nav_menu": {},
   "number_sections": true,
   "sideBar": true,
   "skip_h1_title": false,
   "title_cell": "Table of Contents",
   "title_sidebar": "Contents",
   "toc_cell": true,
   "toc_position": {
    "height": "calc(100% - 180px)",
    "left": "10px",
    "top": "150px",
    "width": "301.818px"
   },
   "toc_section_display": true,
   "toc_window_display": true
  }
 },
 "nbformat": 4,
 "nbformat_minor": 2
}
