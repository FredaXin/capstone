{
 "cells": [
  {
   "cell_type": "markdown",
   "metadata": {},
   "source": [
    "# EDA and Data Cleaning"
   ]
  },
  {
   "cell_type": "markdown",
   "metadata": {
    "toc": true
   },
   "source": [
    "<h1>Table of Contents<span class=\"tocSkip\"></span></h1>\n",
    "<div class=\"toc\"><ul class=\"toc-item\"><li><span><a href=\"#EDA-and-Data-Cleaning\" data-toc-modified-id=\"EDA-and-Data-Cleaning-1\"><span class=\"toc-item-num\">1&nbsp;&nbsp;</span>EDA and Data Cleaning</a></span><ul class=\"toc-item\"><li><span><a href=\"#Import-libraries\" data-toc-modified-id=\"Import-libraries-1.1\"><span class=\"toc-item-num\">1.1&nbsp;&nbsp;</span>Import libraries</a></span></li><li><span><a href=\"#Read-in-data\" data-toc-modified-id=\"Read-in-data-1.2\"><span class=\"toc-item-num\">1.2&nbsp;&nbsp;</span>Read in data</a></span></li><li><span><a href=\"#Merge-Goolge-dataset-with-Income-dataset\" data-toc-modified-id=\"Merge-Goolge-dataset-with-Income-dataset-1.3\"><span class=\"toc-item-num\">1.3&nbsp;&nbsp;</span>Merge Goolge dataset with Income dataset</a></span></li><li><span><a href=\"#Feature-Engineering\" data-toc-modified-id=\"Feature-Engineering-1.4\"><span class=\"toc-item-num\">1.4&nbsp;&nbsp;</span>Feature Engineering</a></span><ul class=\"toc-item\"><li><span><a href=\"#Create-aggregated-features-for-each-zip-code\" data-toc-modified-id=\"Create-aggregated-features-for-each-zip-code-1.4.1\"><span class=\"toc-item-num\">1.4.1&nbsp;&nbsp;</span>Create aggregated features for each zip code</a></span></li></ul></li><li><span><a href=\"#Create-transformation-columns-using-demographic-information-from-'income'-dataset\" data-toc-modified-id=\"Create-transformation-columns-using-demographic-information-from-'income'-dataset-1.5\"><span class=\"toc-item-num\">1.5&nbsp;&nbsp;</span>Create transformation columns using demographic information from 'income' dataset</a></span></li><li><span><a href=\"#Investigate-target-column-'home_price_to_income_ratios'\" data-toc-modified-id=\"Investigate-target-column-'home_price_to_income_ratios'-1.6\"><span class=\"toc-item-num\">1.6&nbsp;&nbsp;</span>Investigate target column 'home_price_to_income_ratios'</a></span></li><li><span><a href=\"#EDA:-Numerical-Data\" data-toc-modified-id=\"EDA:-Numerical-Data-1.7\"><span class=\"toc-item-num\">1.7&nbsp;&nbsp;</span>EDA: Numerical Data</a></span></li><li><span><a href=\"#Modeling\" data-toc-modified-id=\"Modeling-1.8\"><span class=\"toc-item-num\">1.8&nbsp;&nbsp;</span>Modeling</a></span><ul class=\"toc-item\"><li><span><a href=\"#Linear-Regression\" data-toc-modified-id=\"Linear-Regression-1.8.1\"><span class=\"toc-item-num\">1.8.1&nbsp;&nbsp;</span>Linear Regression</a></span></li><li><span><a href=\"#KNN\" data-toc-modified-id=\"KNN-1.8.2\"><span class=\"toc-item-num\">1.8.2&nbsp;&nbsp;</span>KNN</a></span></li><li><span><a href=\"#Tree\" data-toc-modified-id=\"Tree-1.8.3\"><span class=\"toc-item-num\">1.8.3&nbsp;&nbsp;</span>Tree</a></span></li><li><span><a href=\"#Bagged-Tree\" data-toc-modified-id=\"Bagged-Tree-1.8.4\"><span class=\"toc-item-num\">1.8.4&nbsp;&nbsp;</span>Bagged Tree</a></span></li><li><span><a href=\"#Ada-Boost\" data-toc-modified-id=\"Ada-Boost-1.8.5\"><span class=\"toc-item-num\">1.8.5&nbsp;&nbsp;</span>Ada Boost</a></span></li><li><span><a href=\"#Support-Vector-Machine\" data-toc-modified-id=\"Support-Vector-Machine-1.8.6\"><span class=\"toc-item-num\">1.8.6&nbsp;&nbsp;</span>Support Vector Machine</a></span></li><li><span><a href=\"#Baseline-Model\" data-toc-modified-id=\"Baseline-Model-1.8.7\"><span class=\"toc-item-num\">1.8.7&nbsp;&nbsp;</span>Baseline Model</a></span></li><li><span><a href=\"#Polynomial-Regression\" data-toc-modified-id=\"Polynomial-Regression-1.8.8\"><span class=\"toc-item-num\">1.8.8&nbsp;&nbsp;</span>Polynomial Regression</a></span></li><li><span><a href=\"#Stochastic-Gradient-Descent\" data-toc-modified-id=\"Stochastic-Gradient-Descent-1.8.9\"><span class=\"toc-item-num\">1.8.9&nbsp;&nbsp;</span>Stochastic Gradient Descent</a></span></li></ul></li></ul></li></ul></div>"
   ]
  },
  {
   "cell_type": "markdown",
   "metadata": {},
   "source": [
    "## Import libraries"
   ]
  },
  {
   "cell_type": "code",
   "execution_count": 1,
   "metadata": {},
   "outputs": [],
   "source": [
    "#pip install plotly-geo"
   ]
  },
  {
   "cell_type": "code",
   "execution_count": 2,
   "metadata": {},
   "outputs": [],
   "source": [
    "import pandas as pd\n",
    "import numpy as np\n",
    "import matplotlib.pyplot as plt\n",
    "import seaborn as sns\n",
    "\n",
    "#Geographical Data Visualization\n",
    "import plotly as py\n",
    "import plotly.graph_objs as go\n",
    "import plotly.figure_factory as ff\n",
    "\n",
    "# Display Preference\n",
    "pd.set_option('display.max_columns', None)"
   ]
  },
  {
   "cell_type": "markdown",
   "metadata": {},
   "source": [
    "## Read in data"
   ]
  },
  {
   "cell_type": "code",
   "execution_count": 3,
   "metadata": {},
   "outputs": [],
   "source": [
    "google = pd.read_csv('../data/clean_google_data_nyc.csv')\n",
    "income = pd.read_csv('../data/clean_income_by_zip_nyc.csv')"
   ]
  },
  {
   "cell_type": "code",
   "execution_count": 4,
   "metadata": {
    "scrolled": true
   },
   "outputs": [
    {
     "data": {
      "text/html": [
       "<div>\n",
       "<style scoped>\n",
       "    .dataframe tbody tr th:only-of-type {\n",
       "        vertical-align: middle;\n",
       "    }\n",
       "\n",
       "    .dataframe tbody tr th {\n",
       "        vertical-align: top;\n",
       "    }\n",
       "\n",
       "    .dataframe thead th {\n",
       "        text-align: right;\n",
       "    }\n",
       "</style>\n",
       "<table border=\"1\" class=\"dataframe\">\n",
       "  <thead>\n",
       "    <tr style=\"text-align: right;\">\n",
       "      <th></th>\n",
       "      <th>city</th>\n",
       "      <th>state</th>\n",
       "      <th>zipcode</th>\n",
       "      <th>name</th>\n",
       "      <th>open_now</th>\n",
       "      <th>place_id</th>\n",
       "      <th>price_level</th>\n",
       "      <th>rating</th>\n",
       "      <th>user_ratings_total</th>\n",
       "      <th>searched_keyword</th>\n",
       "      <th>searched_zipcode</th>\n",
       "      <th>location_lat</th>\n",
       "      <th>location_lng</th>\n",
       "      <th>compound_code</th>\n",
       "      <th>global_code</th>\n",
       "      <th>art_gallery</th>\n",
       "      <th>atm</th>\n",
       "      <th>bakery</th>\n",
       "      <th>bar</th>\n",
       "      <th>beauty_salon</th>\n",
       "      <th>bicycle_store</th>\n",
       "      <th>book_store</th>\n",
       "      <th>cafe</th>\n",
       "      <th>car_dealer</th>\n",
       "      <th>car_repair</th>\n",
       "      <th>car_wash</th>\n",
       "      <th>clothing_store</th>\n",
       "      <th>convenience_store</th>\n",
       "      <th>department_store</th>\n",
       "      <th>drugstore</th>\n",
       "      <th>electronics_store</th>\n",
       "      <th>establishment</th>\n",
       "      <th>finance</th>\n",
       "      <th>florist</th>\n",
       "      <th>food</th>\n",
       "      <th>funeral_home</th>\n",
       "      <th>furniture_store</th>\n",
       "      <th>gas_station</th>\n",
       "      <th>general_contractor</th>\n",
       "      <th>grocery_or_supermarket</th>\n",
       "      <th>hair_care</th>\n",
       "      <th>hardware_store</th>\n",
       "      <th>health</th>\n",
       "      <th>home_goods_store</th>\n",
       "      <th>jewelry_store</th>\n",
       "      <th>laundry</th>\n",
       "      <th>liquor_store</th>\n",
       "      <th>local_government_office</th>\n",
       "      <th>locksmith</th>\n",
       "      <th>lodging</th>\n",
       "      <th>meal_delivery</th>\n",
       "      <th>meal_takeaway</th>\n",
       "      <th>movie_rental</th>\n",
       "      <th>night_club</th>\n",
       "      <th>park</th>\n",
       "      <th>parking</th>\n",
       "      <th>pet_store</th>\n",
       "      <th>pharmacy</th>\n",
       "      <th>point_of_interest</th>\n",
       "      <th>premise</th>\n",
       "      <th>restaurant</th>\n",
       "      <th>school</th>\n",
       "      <th>shoe_store</th>\n",
       "      <th>shopping_mall</th>\n",
       "      <th>spa</th>\n",
       "      <th>storage</th>\n",
       "      <th>store</th>\n",
       "      <th>supermarket</th>\n",
       "      <th>tourist_attraction</th>\n",
       "      <th>travel_agency</th>\n",
       "    </tr>\n",
       "  </thead>\n",
       "  <tbody>\n",
       "    <tr>\n",
       "      <td>0</td>\n",
       "      <td>New York</td>\n",
       "      <td>NY</td>\n",
       "      <td>10001</td>\n",
       "      <td>Sprint Store</td>\n",
       "      <td>True</td>\n",
       "      <td>ChIJCV0vTalZwokR61PIDIe0gI0</td>\n",
       "      <td>2.0</td>\n",
       "      <td>3.4</td>\n",
       "      <td>276</td>\n",
       "      <td>stores</td>\n",
       "      <td>10001</td>\n",
       "      <td>40.750269</td>\n",
       "      <td>-73.989655</td>\n",
       "      <td>Q226+44 New York</td>\n",
       "      <td>87G8Q226+44</td>\n",
       "      <td>0</td>\n",
       "      <td>0</td>\n",
       "      <td>0</td>\n",
       "      <td>0</td>\n",
       "      <td>0</td>\n",
       "      <td>0</td>\n",
       "      <td>0</td>\n",
       "      <td>0</td>\n",
       "      <td>0</td>\n",
       "      <td>0</td>\n",
       "      <td>0</td>\n",
       "      <td>0</td>\n",
       "      <td>0</td>\n",
       "      <td>0</td>\n",
       "      <td>0</td>\n",
       "      <td>0</td>\n",
       "      <td>1</td>\n",
       "      <td>0</td>\n",
       "      <td>0</td>\n",
       "      <td>0</td>\n",
       "      <td>0</td>\n",
       "      <td>0</td>\n",
       "      <td>0</td>\n",
       "      <td>0</td>\n",
       "      <td>0</td>\n",
       "      <td>0</td>\n",
       "      <td>0</td>\n",
       "      <td>0</td>\n",
       "      <td>0</td>\n",
       "      <td>0</td>\n",
       "      <td>0</td>\n",
       "      <td>0</td>\n",
       "      <td>0</td>\n",
       "      <td>0</td>\n",
       "      <td>0</td>\n",
       "      <td>0</td>\n",
       "      <td>0</td>\n",
       "      <td>0</td>\n",
       "      <td>0</td>\n",
       "      <td>0</td>\n",
       "      <td>0</td>\n",
       "      <td>0</td>\n",
       "      <td>0</td>\n",
       "      <td>1</td>\n",
       "      <td>0</td>\n",
       "      <td>0</td>\n",
       "      <td>0</td>\n",
       "      <td>0</td>\n",
       "      <td>0</td>\n",
       "      <td>0</td>\n",
       "      <td>0</td>\n",
       "      <td>1</td>\n",
       "      <td>0</td>\n",
       "      <td>0</td>\n",
       "      <td>0</td>\n",
       "    </tr>\n",
       "    <tr>\n",
       "      <td>1</td>\n",
       "      <td>New York</td>\n",
       "      <td>NY</td>\n",
       "      <td>10001</td>\n",
       "      <td>Duane Reade</td>\n",
       "      <td>True</td>\n",
       "      <td>ChIJJwQ3561ZwokRuYknT0uxER8</td>\n",
       "      <td>2.0</td>\n",
       "      <td>3.9</td>\n",
       "      <td>50</td>\n",
       "      <td>stores</td>\n",
       "      <td>10001</td>\n",
       "      <td>40.751744</td>\n",
       "      <td>-73.993482</td>\n",
       "      <td>Q224+MJ New York</td>\n",
       "      <td>87G8Q224+MJ</td>\n",
       "      <td>0</td>\n",
       "      <td>0</td>\n",
       "      <td>0</td>\n",
       "      <td>0</td>\n",
       "      <td>0</td>\n",
       "      <td>0</td>\n",
       "      <td>0</td>\n",
       "      <td>0</td>\n",
       "      <td>0</td>\n",
       "      <td>0</td>\n",
       "      <td>0</td>\n",
       "      <td>1</td>\n",
       "      <td>1</td>\n",
       "      <td>0</td>\n",
       "      <td>0</td>\n",
       "      <td>0</td>\n",
       "      <td>1</td>\n",
       "      <td>0</td>\n",
       "      <td>0</td>\n",
       "      <td>1</td>\n",
       "      <td>0</td>\n",
       "      <td>0</td>\n",
       "      <td>0</td>\n",
       "      <td>0</td>\n",
       "      <td>0</td>\n",
       "      <td>0</td>\n",
       "      <td>0</td>\n",
       "      <td>0</td>\n",
       "      <td>0</td>\n",
       "      <td>0</td>\n",
       "      <td>0</td>\n",
       "      <td>0</td>\n",
       "      <td>0</td>\n",
       "      <td>0</td>\n",
       "      <td>0</td>\n",
       "      <td>0</td>\n",
       "      <td>0</td>\n",
       "      <td>0</td>\n",
       "      <td>0</td>\n",
       "      <td>0</td>\n",
       "      <td>0</td>\n",
       "      <td>0</td>\n",
       "      <td>0</td>\n",
       "      <td>1</td>\n",
       "      <td>0</td>\n",
       "      <td>0</td>\n",
       "      <td>0</td>\n",
       "      <td>0</td>\n",
       "      <td>0</td>\n",
       "      <td>0</td>\n",
       "      <td>0</td>\n",
       "      <td>1</td>\n",
       "      <td>0</td>\n",
       "      <td>0</td>\n",
       "      <td>0</td>\n",
       "    </tr>\n",
       "    <tr>\n",
       "      <td>2</td>\n",
       "      <td>New York</td>\n",
       "      <td>NY</td>\n",
       "      <td>10001</td>\n",
       "      <td>Macy's</td>\n",
       "      <td>True</td>\n",
       "      <td>ChIJ3xjWra5ZwokRrwJ0KZ4yKNs</td>\n",
       "      <td>2.0</td>\n",
       "      <td>4.4</td>\n",
       "      <td>51032</td>\n",
       "      <td>stores</td>\n",
       "      <td>10001</td>\n",
       "      <td>40.750802</td>\n",
       "      <td>-73.989483</td>\n",
       "      <td>Q226+86 New York</td>\n",
       "      <td>87G8Q226+86</td>\n",
       "      <td>0</td>\n",
       "      <td>0</td>\n",
       "      <td>0</td>\n",
       "      <td>0</td>\n",
       "      <td>0</td>\n",
       "      <td>0</td>\n",
       "      <td>0</td>\n",
       "      <td>0</td>\n",
       "      <td>0</td>\n",
       "      <td>0</td>\n",
       "      <td>0</td>\n",
       "      <td>1</td>\n",
       "      <td>0</td>\n",
       "      <td>1</td>\n",
       "      <td>0</td>\n",
       "      <td>0</td>\n",
       "      <td>1</td>\n",
       "      <td>0</td>\n",
       "      <td>0</td>\n",
       "      <td>0</td>\n",
       "      <td>0</td>\n",
       "      <td>1</td>\n",
       "      <td>0</td>\n",
       "      <td>0</td>\n",
       "      <td>0</td>\n",
       "      <td>0</td>\n",
       "      <td>0</td>\n",
       "      <td>0</td>\n",
       "      <td>1</td>\n",
       "      <td>1</td>\n",
       "      <td>0</td>\n",
       "      <td>0</td>\n",
       "      <td>0</td>\n",
       "      <td>0</td>\n",
       "      <td>0</td>\n",
       "      <td>0</td>\n",
       "      <td>0</td>\n",
       "      <td>0</td>\n",
       "      <td>0</td>\n",
       "      <td>0</td>\n",
       "      <td>0</td>\n",
       "      <td>0</td>\n",
       "      <td>0</td>\n",
       "      <td>1</td>\n",
       "      <td>0</td>\n",
       "      <td>0</td>\n",
       "      <td>0</td>\n",
       "      <td>1</td>\n",
       "      <td>0</td>\n",
       "      <td>0</td>\n",
       "      <td>0</td>\n",
       "      <td>1</td>\n",
       "      <td>0</td>\n",
       "      <td>0</td>\n",
       "      <td>0</td>\n",
       "    </tr>\n",
       "    <tr>\n",
       "      <td>3</td>\n",
       "      <td>New York</td>\n",
       "      <td>NY</td>\n",
       "      <td>10001</td>\n",
       "      <td>Uniqlo</td>\n",
       "      <td>True</td>\n",
       "      <td>ChIJX6mEEqlZwokRtDQOWIDVc3I</td>\n",
       "      <td>1.0</td>\n",
       "      <td>4.4</td>\n",
       "      <td>3962</td>\n",
       "      <td>stores</td>\n",
       "      <td>10001</td>\n",
       "      <td>40.749488</td>\n",
       "      <td>-73.986632</td>\n",
       "      <td>P2X7+Q8 New York</td>\n",
       "      <td>87G8P2X7+Q8</td>\n",
       "      <td>0</td>\n",
       "      <td>0</td>\n",
       "      <td>0</td>\n",
       "      <td>0</td>\n",
       "      <td>0</td>\n",
       "      <td>0</td>\n",
       "      <td>0</td>\n",
       "      <td>0</td>\n",
       "      <td>0</td>\n",
       "      <td>0</td>\n",
       "      <td>0</td>\n",
       "      <td>1</td>\n",
       "      <td>0</td>\n",
       "      <td>0</td>\n",
       "      <td>0</td>\n",
       "      <td>0</td>\n",
       "      <td>1</td>\n",
       "      <td>0</td>\n",
       "      <td>0</td>\n",
       "      <td>0</td>\n",
       "      <td>0</td>\n",
       "      <td>0</td>\n",
       "      <td>0</td>\n",
       "      <td>0</td>\n",
       "      <td>0</td>\n",
       "      <td>0</td>\n",
       "      <td>0</td>\n",
       "      <td>0</td>\n",
       "      <td>0</td>\n",
       "      <td>0</td>\n",
       "      <td>0</td>\n",
       "      <td>0</td>\n",
       "      <td>0</td>\n",
       "      <td>0</td>\n",
       "      <td>0</td>\n",
       "      <td>0</td>\n",
       "      <td>0</td>\n",
       "      <td>0</td>\n",
       "      <td>0</td>\n",
       "      <td>0</td>\n",
       "      <td>0</td>\n",
       "      <td>0</td>\n",
       "      <td>0</td>\n",
       "      <td>1</td>\n",
       "      <td>0</td>\n",
       "      <td>0</td>\n",
       "      <td>0</td>\n",
       "      <td>0</td>\n",
       "      <td>0</td>\n",
       "      <td>0</td>\n",
       "      <td>0</td>\n",
       "      <td>1</td>\n",
       "      <td>0</td>\n",
       "      <td>0</td>\n",
       "      <td>0</td>\n",
       "    </tr>\n",
       "    <tr>\n",
       "      <td>4</td>\n",
       "      <td>New York</td>\n",
       "      <td>NY</td>\n",
       "      <td>10001</td>\n",
       "      <td>B&amp;H Photo Video - Electronics and Camera Store</td>\n",
       "      <td>False</td>\n",
       "      <td>ChIJI93dPbJZwokRIoOEoivEDQs</td>\n",
       "      <td>NaN</td>\n",
       "      <td>4.6</td>\n",
       "      <td>22772</td>\n",
       "      <td>stores</td>\n",
       "      <td>10001</td>\n",
       "      <td>40.752945</td>\n",
       "      <td>-73.996337</td>\n",
       "      <td>Q233+5F New York</td>\n",
       "      <td>87G8Q233+5F</td>\n",
       "      <td>0</td>\n",
       "      <td>0</td>\n",
       "      <td>0</td>\n",
       "      <td>0</td>\n",
       "      <td>0</td>\n",
       "      <td>0</td>\n",
       "      <td>0</td>\n",
       "      <td>0</td>\n",
       "      <td>0</td>\n",
       "      <td>0</td>\n",
       "      <td>0</td>\n",
       "      <td>0</td>\n",
       "      <td>0</td>\n",
       "      <td>0</td>\n",
       "      <td>0</td>\n",
       "      <td>1</td>\n",
       "      <td>1</td>\n",
       "      <td>0</td>\n",
       "      <td>0</td>\n",
       "      <td>0</td>\n",
       "      <td>0</td>\n",
       "      <td>0</td>\n",
       "      <td>0</td>\n",
       "      <td>0</td>\n",
       "      <td>0</td>\n",
       "      <td>0</td>\n",
       "      <td>0</td>\n",
       "      <td>0</td>\n",
       "      <td>1</td>\n",
       "      <td>0</td>\n",
       "      <td>0</td>\n",
       "      <td>0</td>\n",
       "      <td>0</td>\n",
       "      <td>0</td>\n",
       "      <td>0</td>\n",
       "      <td>0</td>\n",
       "      <td>0</td>\n",
       "      <td>0</td>\n",
       "      <td>0</td>\n",
       "      <td>0</td>\n",
       "      <td>0</td>\n",
       "      <td>0</td>\n",
       "      <td>0</td>\n",
       "      <td>1</td>\n",
       "      <td>0</td>\n",
       "      <td>0</td>\n",
       "      <td>0</td>\n",
       "      <td>0</td>\n",
       "      <td>0</td>\n",
       "      <td>0</td>\n",
       "      <td>0</td>\n",
       "      <td>1</td>\n",
       "      <td>0</td>\n",
       "      <td>0</td>\n",
       "      <td>0</td>\n",
       "    </tr>\n",
       "  </tbody>\n",
       "</table>\n",
       "</div>"
      ],
      "text/plain": [
       "       city state  zipcode                                            name  \\\n",
       "0  New York    NY    10001                                    Sprint Store   \n",
       "1  New York    NY    10001                                     Duane Reade   \n",
       "2  New York    NY    10001                                          Macy's   \n",
       "3  New York    NY    10001                                          Uniqlo   \n",
       "4  New York    NY    10001  B&H Photo Video - Electronics and Camera Store   \n",
       "\n",
       "  open_now                     place_id  price_level  rating  \\\n",
       "0     True  ChIJCV0vTalZwokR61PIDIe0gI0          2.0     3.4   \n",
       "1     True  ChIJJwQ3561ZwokRuYknT0uxER8          2.0     3.9   \n",
       "2     True  ChIJ3xjWra5ZwokRrwJ0KZ4yKNs          2.0     4.4   \n",
       "3     True  ChIJX6mEEqlZwokRtDQOWIDVc3I          1.0     4.4   \n",
       "4    False  ChIJI93dPbJZwokRIoOEoivEDQs          NaN     4.6   \n",
       "\n",
       "   user_ratings_total searched_keyword  searched_zipcode  location_lat  \\\n",
       "0                 276           stores             10001     40.750269   \n",
       "1                  50           stores             10001     40.751744   \n",
       "2               51032           stores             10001     40.750802   \n",
       "3                3962           stores             10001     40.749488   \n",
       "4               22772           stores             10001     40.752945   \n",
       "\n",
       "   location_lng     compound_code  global_code  art_gallery  atm  bakery  bar  \\\n",
       "0    -73.989655  Q226+44 New York  87G8Q226+44            0    0       0    0   \n",
       "1    -73.993482  Q224+MJ New York  87G8Q224+MJ            0    0       0    0   \n",
       "2    -73.989483  Q226+86 New York  87G8Q226+86            0    0       0    0   \n",
       "3    -73.986632  P2X7+Q8 New York  87G8P2X7+Q8            0    0       0    0   \n",
       "4    -73.996337  Q233+5F New York  87G8Q233+5F            0    0       0    0   \n",
       "\n",
       "   beauty_salon  bicycle_store  book_store  cafe  car_dealer  car_repair  \\\n",
       "0             0              0           0     0           0           0   \n",
       "1             0              0           0     0           0           0   \n",
       "2             0              0           0     0           0           0   \n",
       "3             0              0           0     0           0           0   \n",
       "4             0              0           0     0           0           0   \n",
       "\n",
       "   car_wash  clothing_store  convenience_store  department_store  drugstore  \\\n",
       "0         0               0                  0                 0          0   \n",
       "1         0               1                  1                 0          0   \n",
       "2         0               1                  0                 1          0   \n",
       "3         0               1                  0                 0          0   \n",
       "4         0               0                  0                 0          0   \n",
       "\n",
       "   electronics_store  establishment  finance  florist  food  funeral_home  \\\n",
       "0                  0              1        0        0     0             0   \n",
       "1                  0              1        0        0     1             0   \n",
       "2                  0              1        0        0     0             0   \n",
       "3                  0              1        0        0     0             0   \n",
       "4                  1              1        0        0     0             0   \n",
       "\n",
       "   furniture_store  gas_station  general_contractor  grocery_or_supermarket  \\\n",
       "0                0            0                   0                       0   \n",
       "1                0            0                   0                       0   \n",
       "2                1            0                   0                       0   \n",
       "3                0            0                   0                       0   \n",
       "4                0            0                   0                       0   \n",
       "\n",
       "   hair_care  hardware_store  health  home_goods_store  jewelry_store  \\\n",
       "0          0               0       0                 0              0   \n",
       "1          0               0       0                 0              0   \n",
       "2          0               0       0                 1              1   \n",
       "3          0               0       0                 0              0   \n",
       "4          0               0       0                 1              0   \n",
       "\n",
       "   laundry  liquor_store  local_government_office  locksmith  lodging  \\\n",
       "0        0             0                        0          0        0   \n",
       "1        0             0                        0          0        0   \n",
       "2        0             0                        0          0        0   \n",
       "3        0             0                        0          0        0   \n",
       "4        0             0                        0          0        0   \n",
       "\n",
       "   meal_delivery  meal_takeaway  movie_rental  night_club  park  parking  \\\n",
       "0              0              0             0           0     0        0   \n",
       "1              0              0             0           0     0        0   \n",
       "2              0              0             0           0     0        0   \n",
       "3              0              0             0           0     0        0   \n",
       "4              0              0             0           0     0        0   \n",
       "\n",
       "   pet_store  pharmacy  point_of_interest  premise  restaurant  school  \\\n",
       "0          0         0                  1        0           0       0   \n",
       "1          0         0                  1        0           0       0   \n",
       "2          0         0                  1        0           0       0   \n",
       "3          0         0                  1        0           0       0   \n",
       "4          0         0                  1        0           0       0   \n",
       "\n",
       "   shoe_store  shopping_mall  spa  storage  store  supermarket  \\\n",
       "0           0              0    0        0      1            0   \n",
       "1           0              0    0        0      1            0   \n",
       "2           1              0    0        0      1            0   \n",
       "3           0              0    0        0      1            0   \n",
       "4           0              0    0        0      1            0   \n",
       "\n",
       "   tourist_attraction  travel_agency  \n",
       "0                   0              0  \n",
       "1                   0              0  \n",
       "2                   0              0  \n",
       "3                   0              0  \n",
       "4                   0              0  "
      ]
     },
     "execution_count": 4,
     "metadata": {},
     "output_type": "execute_result"
    }
   ],
   "source": [
    "google.head()"
   ]
  },
  {
   "cell_type": "code",
   "execution_count": 5,
   "metadata": {},
   "outputs": [
    {
     "data": {
      "text/html": [
       "<div>\n",
       "<style scoped>\n",
       "    .dataframe tbody tr th:only-of-type {\n",
       "        vertical-align: middle;\n",
       "    }\n",
       "\n",
       "    .dataframe tbody tr th {\n",
       "        vertical-align: top;\n",
       "    }\n",
       "\n",
       "    .dataframe thead th {\n",
       "        text-align: right;\n",
       "    }\n",
       "</style>\n",
       "<table border=\"1\" class=\"dataframe\">\n",
       "  <thead>\n",
       "    <tr style=\"text-align: right;\">\n",
       "      <th></th>\n",
       "      <th>zipcode</th>\n",
       "      <th>median_household_income</th>\n",
       "      <th>per_capita_income</th>\n",
       "      <th>population</th>\n",
       "      <th>population_density_square_miles</th>\n",
       "      <th>housing_units</th>\n",
       "      <th>median_home_value</th>\n",
       "      <th>home_price_to_income_ratios</th>\n",
       "    </tr>\n",
       "  </thead>\n",
       "  <tbody>\n",
       "    <tr>\n",
       "      <td>0</td>\n",
       "      <td>10001</td>\n",
       "      <td>88526.0</td>\n",
       "      <td>84765.0</td>\n",
       "      <td>22924</td>\n",
       "      <td>37306.6</td>\n",
       "      <td>14141</td>\n",
       "      <td>343400.0</td>\n",
       "      <td>3.879086</td>\n",
       "    </tr>\n",
       "    <tr>\n",
       "      <td>1</td>\n",
       "      <td>10002</td>\n",
       "      <td>35859.0</td>\n",
       "      <td>32694.0</td>\n",
       "      <td>74993</td>\n",
       "      <td>85369.8</td>\n",
       "      <td>35724</td>\n",
       "      <td>665200.0</td>\n",
       "      <td>18.550434</td>\n",
       "    </tr>\n",
       "    <tr>\n",
       "      <td>2</td>\n",
       "      <td>10003</td>\n",
       "      <td>112131.0</td>\n",
       "      <td>92781.0</td>\n",
       "      <td>54682</td>\n",
       "      <td>94859.6</td>\n",
       "      <td>30876</td>\n",
       "      <td>1001200.0</td>\n",
       "      <td>8.928842</td>\n",
       "    </tr>\n",
       "    <tr>\n",
       "      <td>3</td>\n",
       "      <td>10004</td>\n",
       "      <td>157645.0</td>\n",
       "      <td>122165.0</td>\n",
       "      <td>3028</td>\n",
       "      <td>5622.9</td>\n",
       "      <td>2139</td>\n",
       "      <td>1640600.0</td>\n",
       "      <td>10.406927</td>\n",
       "    </tr>\n",
       "    <tr>\n",
       "      <td>4</td>\n",
       "      <td>10005</td>\n",
       "      <td>173333.0</td>\n",
       "      <td>106702.0</td>\n",
       "      <td>8831</td>\n",
       "      <td>121496.4</td>\n",
       "      <td>5585</td>\n",
       "      <td>1415400.0</td>\n",
       "      <td>8.165785</td>\n",
       "    </tr>\n",
       "  </tbody>\n",
       "</table>\n",
       "</div>"
      ],
      "text/plain": [
       "   zipcode  median_household_income  per_capita_income  population  \\\n",
       "0    10001                  88526.0            84765.0       22924   \n",
       "1    10002                  35859.0            32694.0       74993   \n",
       "2    10003                 112131.0            92781.0       54682   \n",
       "3    10004                 157645.0           122165.0        3028   \n",
       "4    10005                 173333.0           106702.0        8831   \n",
       "\n",
       "   population_density_square_miles  housing_units  median_home_value  \\\n",
       "0                          37306.6          14141           343400.0   \n",
       "1                          85369.8          35724           665200.0   \n",
       "2                          94859.6          30876          1001200.0   \n",
       "3                           5622.9           2139          1640600.0   \n",
       "4                         121496.4           5585          1415400.0   \n",
       "\n",
       "   home_price_to_income_ratios  \n",
       "0                     3.879086  \n",
       "1                    18.550434  \n",
       "2                     8.928842  \n",
       "3                    10.406927  \n",
       "4                     8.165785  "
      ]
     },
     "execution_count": 5,
     "metadata": {},
     "output_type": "execute_result"
    }
   ],
   "source": [
    "income.head()"
   ]
  },
  {
   "cell_type": "markdown",
   "metadata": {},
   "source": [
    "## Merge Goolge dataset with Income dataset"
   ]
  },
  {
   "cell_type": "code",
   "execution_count": 6,
   "metadata": {},
   "outputs": [],
   "source": [
    "# Note that 'inner' is used here for the merge. \n",
    "# If any zipcode that doesn't exist in Google but in Income will be dropped and vice verse\n",
    "df = pd.merge(google, income, how='inner', left_on='zipcode', right_on='zipcode')"
   ]
  },
  {
   "cell_type": "code",
   "execution_count": 7,
   "metadata": {},
   "outputs": [
    {
     "data": {
      "text/plain": [
       "(8585, 77)"
      ]
     },
     "execution_count": 7,
     "metadata": {},
     "output_type": "execute_result"
    }
   ],
   "source": [
    "df.shape"
   ]
  },
  {
   "cell_type": "code",
   "execution_count": 8,
   "metadata": {
    "scrolled": true
   },
   "outputs": [
    {
     "data": {
      "text/html": [
       "<div>\n",
       "<style scoped>\n",
       "    .dataframe tbody tr th:only-of-type {\n",
       "        vertical-align: middle;\n",
       "    }\n",
       "\n",
       "    .dataframe tbody tr th {\n",
       "        vertical-align: top;\n",
       "    }\n",
       "\n",
       "    .dataframe thead th {\n",
       "        text-align: right;\n",
       "    }\n",
       "</style>\n",
       "<table border=\"1\" class=\"dataframe\">\n",
       "  <thead>\n",
       "    <tr style=\"text-align: right;\">\n",
       "      <th></th>\n",
       "      <th>city</th>\n",
       "      <th>state</th>\n",
       "      <th>zipcode</th>\n",
       "      <th>name</th>\n",
       "      <th>open_now</th>\n",
       "      <th>place_id</th>\n",
       "      <th>price_level</th>\n",
       "      <th>rating</th>\n",
       "      <th>user_ratings_total</th>\n",
       "      <th>searched_keyword</th>\n",
       "      <th>searched_zipcode</th>\n",
       "      <th>location_lat</th>\n",
       "      <th>location_lng</th>\n",
       "      <th>compound_code</th>\n",
       "      <th>global_code</th>\n",
       "      <th>art_gallery</th>\n",
       "      <th>atm</th>\n",
       "      <th>bakery</th>\n",
       "      <th>bar</th>\n",
       "      <th>beauty_salon</th>\n",
       "      <th>bicycle_store</th>\n",
       "      <th>book_store</th>\n",
       "      <th>cafe</th>\n",
       "      <th>car_dealer</th>\n",
       "      <th>car_repair</th>\n",
       "      <th>car_wash</th>\n",
       "      <th>clothing_store</th>\n",
       "      <th>convenience_store</th>\n",
       "      <th>department_store</th>\n",
       "      <th>drugstore</th>\n",
       "      <th>electronics_store</th>\n",
       "      <th>establishment</th>\n",
       "      <th>finance</th>\n",
       "      <th>florist</th>\n",
       "      <th>food</th>\n",
       "      <th>funeral_home</th>\n",
       "      <th>furniture_store</th>\n",
       "      <th>gas_station</th>\n",
       "      <th>general_contractor</th>\n",
       "      <th>grocery_or_supermarket</th>\n",
       "      <th>hair_care</th>\n",
       "      <th>hardware_store</th>\n",
       "      <th>health</th>\n",
       "      <th>home_goods_store</th>\n",
       "      <th>jewelry_store</th>\n",
       "      <th>laundry</th>\n",
       "      <th>liquor_store</th>\n",
       "      <th>local_government_office</th>\n",
       "      <th>locksmith</th>\n",
       "      <th>lodging</th>\n",
       "      <th>meal_delivery</th>\n",
       "      <th>meal_takeaway</th>\n",
       "      <th>movie_rental</th>\n",
       "      <th>night_club</th>\n",
       "      <th>park</th>\n",
       "      <th>parking</th>\n",
       "      <th>pet_store</th>\n",
       "      <th>pharmacy</th>\n",
       "      <th>point_of_interest</th>\n",
       "      <th>premise</th>\n",
       "      <th>restaurant</th>\n",
       "      <th>school</th>\n",
       "      <th>shoe_store</th>\n",
       "      <th>shopping_mall</th>\n",
       "      <th>spa</th>\n",
       "      <th>storage</th>\n",
       "      <th>store</th>\n",
       "      <th>supermarket</th>\n",
       "      <th>tourist_attraction</th>\n",
       "      <th>travel_agency</th>\n",
       "      <th>median_household_income</th>\n",
       "      <th>per_capita_income</th>\n",
       "      <th>population</th>\n",
       "      <th>population_density_square_miles</th>\n",
       "      <th>housing_units</th>\n",
       "      <th>median_home_value</th>\n",
       "      <th>home_price_to_income_ratios</th>\n",
       "    </tr>\n",
       "  </thead>\n",
       "  <tbody>\n",
       "    <tr>\n",
       "      <td>0</td>\n",
       "      <td>New York</td>\n",
       "      <td>NY</td>\n",
       "      <td>10001</td>\n",
       "      <td>Sprint Store</td>\n",
       "      <td>True</td>\n",
       "      <td>ChIJCV0vTalZwokR61PIDIe0gI0</td>\n",
       "      <td>2.0</td>\n",
       "      <td>3.4</td>\n",
       "      <td>276</td>\n",
       "      <td>stores</td>\n",
       "      <td>10001</td>\n",
       "      <td>40.750269</td>\n",
       "      <td>-73.989655</td>\n",
       "      <td>Q226+44 New York</td>\n",
       "      <td>87G8Q226+44</td>\n",
       "      <td>0</td>\n",
       "      <td>0</td>\n",
       "      <td>0</td>\n",
       "      <td>0</td>\n",
       "      <td>0</td>\n",
       "      <td>0</td>\n",
       "      <td>0</td>\n",
       "      <td>0</td>\n",
       "      <td>0</td>\n",
       "      <td>0</td>\n",
       "      <td>0</td>\n",
       "      <td>0</td>\n",
       "      <td>0</td>\n",
       "      <td>0</td>\n",
       "      <td>0</td>\n",
       "      <td>0</td>\n",
       "      <td>1</td>\n",
       "      <td>0</td>\n",
       "      <td>0</td>\n",
       "      <td>0</td>\n",
       "      <td>0</td>\n",
       "      <td>0</td>\n",
       "      <td>0</td>\n",
       "      <td>0</td>\n",
       "      <td>0</td>\n",
       "      <td>0</td>\n",
       "      <td>0</td>\n",
       "      <td>0</td>\n",
       "      <td>0</td>\n",
       "      <td>0</td>\n",
       "      <td>0</td>\n",
       "      <td>0</td>\n",
       "      <td>0</td>\n",
       "      <td>0</td>\n",
       "      <td>0</td>\n",
       "      <td>0</td>\n",
       "      <td>0</td>\n",
       "      <td>0</td>\n",
       "      <td>0</td>\n",
       "      <td>0</td>\n",
       "      <td>0</td>\n",
       "      <td>0</td>\n",
       "      <td>0</td>\n",
       "      <td>1</td>\n",
       "      <td>0</td>\n",
       "      <td>0</td>\n",
       "      <td>0</td>\n",
       "      <td>0</td>\n",
       "      <td>0</td>\n",
       "      <td>0</td>\n",
       "      <td>0</td>\n",
       "      <td>1</td>\n",
       "      <td>0</td>\n",
       "      <td>0</td>\n",
       "      <td>0</td>\n",
       "      <td>88526.0</td>\n",
       "      <td>84765.0</td>\n",
       "      <td>22924</td>\n",
       "      <td>37306.6</td>\n",
       "      <td>14141</td>\n",
       "      <td>343400.0</td>\n",
       "      <td>3.879086</td>\n",
       "    </tr>\n",
       "    <tr>\n",
       "      <td>1</td>\n",
       "      <td>New York</td>\n",
       "      <td>NY</td>\n",
       "      <td>10001</td>\n",
       "      <td>Duane Reade</td>\n",
       "      <td>True</td>\n",
       "      <td>ChIJJwQ3561ZwokRuYknT0uxER8</td>\n",
       "      <td>2.0</td>\n",
       "      <td>3.9</td>\n",
       "      <td>50</td>\n",
       "      <td>stores</td>\n",
       "      <td>10001</td>\n",
       "      <td>40.751744</td>\n",
       "      <td>-73.993482</td>\n",
       "      <td>Q224+MJ New York</td>\n",
       "      <td>87G8Q224+MJ</td>\n",
       "      <td>0</td>\n",
       "      <td>0</td>\n",
       "      <td>0</td>\n",
       "      <td>0</td>\n",
       "      <td>0</td>\n",
       "      <td>0</td>\n",
       "      <td>0</td>\n",
       "      <td>0</td>\n",
       "      <td>0</td>\n",
       "      <td>0</td>\n",
       "      <td>0</td>\n",
       "      <td>1</td>\n",
       "      <td>1</td>\n",
       "      <td>0</td>\n",
       "      <td>0</td>\n",
       "      <td>0</td>\n",
       "      <td>1</td>\n",
       "      <td>0</td>\n",
       "      <td>0</td>\n",
       "      <td>1</td>\n",
       "      <td>0</td>\n",
       "      <td>0</td>\n",
       "      <td>0</td>\n",
       "      <td>0</td>\n",
       "      <td>0</td>\n",
       "      <td>0</td>\n",
       "      <td>0</td>\n",
       "      <td>0</td>\n",
       "      <td>0</td>\n",
       "      <td>0</td>\n",
       "      <td>0</td>\n",
       "      <td>0</td>\n",
       "      <td>0</td>\n",
       "      <td>0</td>\n",
       "      <td>0</td>\n",
       "      <td>0</td>\n",
       "      <td>0</td>\n",
       "      <td>0</td>\n",
       "      <td>0</td>\n",
       "      <td>0</td>\n",
       "      <td>0</td>\n",
       "      <td>0</td>\n",
       "      <td>0</td>\n",
       "      <td>1</td>\n",
       "      <td>0</td>\n",
       "      <td>0</td>\n",
       "      <td>0</td>\n",
       "      <td>0</td>\n",
       "      <td>0</td>\n",
       "      <td>0</td>\n",
       "      <td>0</td>\n",
       "      <td>1</td>\n",
       "      <td>0</td>\n",
       "      <td>0</td>\n",
       "      <td>0</td>\n",
       "      <td>88526.0</td>\n",
       "      <td>84765.0</td>\n",
       "      <td>22924</td>\n",
       "      <td>37306.6</td>\n",
       "      <td>14141</td>\n",
       "      <td>343400.0</td>\n",
       "      <td>3.879086</td>\n",
       "    </tr>\n",
       "    <tr>\n",
       "      <td>2</td>\n",
       "      <td>New York</td>\n",
       "      <td>NY</td>\n",
       "      <td>10001</td>\n",
       "      <td>Macy's</td>\n",
       "      <td>True</td>\n",
       "      <td>ChIJ3xjWra5ZwokRrwJ0KZ4yKNs</td>\n",
       "      <td>2.0</td>\n",
       "      <td>4.4</td>\n",
       "      <td>51032</td>\n",
       "      <td>stores</td>\n",
       "      <td>10001</td>\n",
       "      <td>40.750802</td>\n",
       "      <td>-73.989483</td>\n",
       "      <td>Q226+86 New York</td>\n",
       "      <td>87G8Q226+86</td>\n",
       "      <td>0</td>\n",
       "      <td>0</td>\n",
       "      <td>0</td>\n",
       "      <td>0</td>\n",
       "      <td>0</td>\n",
       "      <td>0</td>\n",
       "      <td>0</td>\n",
       "      <td>0</td>\n",
       "      <td>0</td>\n",
       "      <td>0</td>\n",
       "      <td>0</td>\n",
       "      <td>1</td>\n",
       "      <td>0</td>\n",
       "      <td>1</td>\n",
       "      <td>0</td>\n",
       "      <td>0</td>\n",
       "      <td>1</td>\n",
       "      <td>0</td>\n",
       "      <td>0</td>\n",
       "      <td>0</td>\n",
       "      <td>0</td>\n",
       "      <td>1</td>\n",
       "      <td>0</td>\n",
       "      <td>0</td>\n",
       "      <td>0</td>\n",
       "      <td>0</td>\n",
       "      <td>0</td>\n",
       "      <td>0</td>\n",
       "      <td>1</td>\n",
       "      <td>1</td>\n",
       "      <td>0</td>\n",
       "      <td>0</td>\n",
       "      <td>0</td>\n",
       "      <td>0</td>\n",
       "      <td>0</td>\n",
       "      <td>0</td>\n",
       "      <td>0</td>\n",
       "      <td>0</td>\n",
       "      <td>0</td>\n",
       "      <td>0</td>\n",
       "      <td>0</td>\n",
       "      <td>0</td>\n",
       "      <td>0</td>\n",
       "      <td>1</td>\n",
       "      <td>0</td>\n",
       "      <td>0</td>\n",
       "      <td>0</td>\n",
       "      <td>1</td>\n",
       "      <td>0</td>\n",
       "      <td>0</td>\n",
       "      <td>0</td>\n",
       "      <td>1</td>\n",
       "      <td>0</td>\n",
       "      <td>0</td>\n",
       "      <td>0</td>\n",
       "      <td>88526.0</td>\n",
       "      <td>84765.0</td>\n",
       "      <td>22924</td>\n",
       "      <td>37306.6</td>\n",
       "      <td>14141</td>\n",
       "      <td>343400.0</td>\n",
       "      <td>3.879086</td>\n",
       "    </tr>\n",
       "    <tr>\n",
       "      <td>3</td>\n",
       "      <td>New York</td>\n",
       "      <td>NY</td>\n",
       "      <td>10001</td>\n",
       "      <td>Uniqlo</td>\n",
       "      <td>True</td>\n",
       "      <td>ChIJX6mEEqlZwokRtDQOWIDVc3I</td>\n",
       "      <td>1.0</td>\n",
       "      <td>4.4</td>\n",
       "      <td>3962</td>\n",
       "      <td>stores</td>\n",
       "      <td>10001</td>\n",
       "      <td>40.749488</td>\n",
       "      <td>-73.986632</td>\n",
       "      <td>P2X7+Q8 New York</td>\n",
       "      <td>87G8P2X7+Q8</td>\n",
       "      <td>0</td>\n",
       "      <td>0</td>\n",
       "      <td>0</td>\n",
       "      <td>0</td>\n",
       "      <td>0</td>\n",
       "      <td>0</td>\n",
       "      <td>0</td>\n",
       "      <td>0</td>\n",
       "      <td>0</td>\n",
       "      <td>0</td>\n",
       "      <td>0</td>\n",
       "      <td>1</td>\n",
       "      <td>0</td>\n",
       "      <td>0</td>\n",
       "      <td>0</td>\n",
       "      <td>0</td>\n",
       "      <td>1</td>\n",
       "      <td>0</td>\n",
       "      <td>0</td>\n",
       "      <td>0</td>\n",
       "      <td>0</td>\n",
       "      <td>0</td>\n",
       "      <td>0</td>\n",
       "      <td>0</td>\n",
       "      <td>0</td>\n",
       "      <td>0</td>\n",
       "      <td>0</td>\n",
       "      <td>0</td>\n",
       "      <td>0</td>\n",
       "      <td>0</td>\n",
       "      <td>0</td>\n",
       "      <td>0</td>\n",
       "      <td>0</td>\n",
       "      <td>0</td>\n",
       "      <td>0</td>\n",
       "      <td>0</td>\n",
       "      <td>0</td>\n",
       "      <td>0</td>\n",
       "      <td>0</td>\n",
       "      <td>0</td>\n",
       "      <td>0</td>\n",
       "      <td>0</td>\n",
       "      <td>0</td>\n",
       "      <td>1</td>\n",
       "      <td>0</td>\n",
       "      <td>0</td>\n",
       "      <td>0</td>\n",
       "      <td>0</td>\n",
       "      <td>0</td>\n",
       "      <td>0</td>\n",
       "      <td>0</td>\n",
       "      <td>1</td>\n",
       "      <td>0</td>\n",
       "      <td>0</td>\n",
       "      <td>0</td>\n",
       "      <td>88526.0</td>\n",
       "      <td>84765.0</td>\n",
       "      <td>22924</td>\n",
       "      <td>37306.6</td>\n",
       "      <td>14141</td>\n",
       "      <td>343400.0</td>\n",
       "      <td>3.879086</td>\n",
       "    </tr>\n",
       "    <tr>\n",
       "      <td>4</td>\n",
       "      <td>New York</td>\n",
       "      <td>NY</td>\n",
       "      <td>10001</td>\n",
       "      <td>B&amp;H Photo Video - Electronics and Camera Store</td>\n",
       "      <td>False</td>\n",
       "      <td>ChIJI93dPbJZwokRIoOEoivEDQs</td>\n",
       "      <td>NaN</td>\n",
       "      <td>4.6</td>\n",
       "      <td>22772</td>\n",
       "      <td>stores</td>\n",
       "      <td>10001</td>\n",
       "      <td>40.752945</td>\n",
       "      <td>-73.996337</td>\n",
       "      <td>Q233+5F New York</td>\n",
       "      <td>87G8Q233+5F</td>\n",
       "      <td>0</td>\n",
       "      <td>0</td>\n",
       "      <td>0</td>\n",
       "      <td>0</td>\n",
       "      <td>0</td>\n",
       "      <td>0</td>\n",
       "      <td>0</td>\n",
       "      <td>0</td>\n",
       "      <td>0</td>\n",
       "      <td>0</td>\n",
       "      <td>0</td>\n",
       "      <td>0</td>\n",
       "      <td>0</td>\n",
       "      <td>0</td>\n",
       "      <td>0</td>\n",
       "      <td>1</td>\n",
       "      <td>1</td>\n",
       "      <td>0</td>\n",
       "      <td>0</td>\n",
       "      <td>0</td>\n",
       "      <td>0</td>\n",
       "      <td>0</td>\n",
       "      <td>0</td>\n",
       "      <td>0</td>\n",
       "      <td>0</td>\n",
       "      <td>0</td>\n",
       "      <td>0</td>\n",
       "      <td>0</td>\n",
       "      <td>1</td>\n",
       "      <td>0</td>\n",
       "      <td>0</td>\n",
       "      <td>0</td>\n",
       "      <td>0</td>\n",
       "      <td>0</td>\n",
       "      <td>0</td>\n",
       "      <td>0</td>\n",
       "      <td>0</td>\n",
       "      <td>0</td>\n",
       "      <td>0</td>\n",
       "      <td>0</td>\n",
       "      <td>0</td>\n",
       "      <td>0</td>\n",
       "      <td>0</td>\n",
       "      <td>1</td>\n",
       "      <td>0</td>\n",
       "      <td>0</td>\n",
       "      <td>0</td>\n",
       "      <td>0</td>\n",
       "      <td>0</td>\n",
       "      <td>0</td>\n",
       "      <td>0</td>\n",
       "      <td>1</td>\n",
       "      <td>0</td>\n",
       "      <td>0</td>\n",
       "      <td>0</td>\n",
       "      <td>88526.0</td>\n",
       "      <td>84765.0</td>\n",
       "      <td>22924</td>\n",
       "      <td>37306.6</td>\n",
       "      <td>14141</td>\n",
       "      <td>343400.0</td>\n",
       "      <td>3.879086</td>\n",
       "    </tr>\n",
       "  </tbody>\n",
       "</table>\n",
       "</div>"
      ],
      "text/plain": [
       "       city state  zipcode                                            name  \\\n",
       "0  New York    NY    10001                                    Sprint Store   \n",
       "1  New York    NY    10001                                     Duane Reade   \n",
       "2  New York    NY    10001                                          Macy's   \n",
       "3  New York    NY    10001                                          Uniqlo   \n",
       "4  New York    NY    10001  B&H Photo Video - Electronics and Camera Store   \n",
       "\n",
       "  open_now                     place_id  price_level  rating  \\\n",
       "0     True  ChIJCV0vTalZwokR61PIDIe0gI0          2.0     3.4   \n",
       "1     True  ChIJJwQ3561ZwokRuYknT0uxER8          2.0     3.9   \n",
       "2     True  ChIJ3xjWra5ZwokRrwJ0KZ4yKNs          2.0     4.4   \n",
       "3     True  ChIJX6mEEqlZwokRtDQOWIDVc3I          1.0     4.4   \n",
       "4    False  ChIJI93dPbJZwokRIoOEoivEDQs          NaN     4.6   \n",
       "\n",
       "   user_ratings_total searched_keyword  searched_zipcode  location_lat  \\\n",
       "0                 276           stores             10001     40.750269   \n",
       "1                  50           stores             10001     40.751744   \n",
       "2               51032           stores             10001     40.750802   \n",
       "3                3962           stores             10001     40.749488   \n",
       "4               22772           stores             10001     40.752945   \n",
       "\n",
       "   location_lng     compound_code  global_code  art_gallery  atm  bakery  bar  \\\n",
       "0    -73.989655  Q226+44 New York  87G8Q226+44            0    0       0    0   \n",
       "1    -73.993482  Q224+MJ New York  87G8Q224+MJ            0    0       0    0   \n",
       "2    -73.989483  Q226+86 New York  87G8Q226+86            0    0       0    0   \n",
       "3    -73.986632  P2X7+Q8 New York  87G8P2X7+Q8            0    0       0    0   \n",
       "4    -73.996337  Q233+5F New York  87G8Q233+5F            0    0       0    0   \n",
       "\n",
       "   beauty_salon  bicycle_store  book_store  cafe  car_dealer  car_repair  \\\n",
       "0             0              0           0     0           0           0   \n",
       "1             0              0           0     0           0           0   \n",
       "2             0              0           0     0           0           0   \n",
       "3             0              0           0     0           0           0   \n",
       "4             0              0           0     0           0           0   \n",
       "\n",
       "   car_wash  clothing_store  convenience_store  department_store  drugstore  \\\n",
       "0         0               0                  0                 0          0   \n",
       "1         0               1                  1                 0          0   \n",
       "2         0               1                  0                 1          0   \n",
       "3         0               1                  0                 0          0   \n",
       "4         0               0                  0                 0          0   \n",
       "\n",
       "   electronics_store  establishment  finance  florist  food  funeral_home  \\\n",
       "0                  0              1        0        0     0             0   \n",
       "1                  0              1        0        0     1             0   \n",
       "2                  0              1        0        0     0             0   \n",
       "3                  0              1        0        0     0             0   \n",
       "4                  1              1        0        0     0             0   \n",
       "\n",
       "   furniture_store  gas_station  general_contractor  grocery_or_supermarket  \\\n",
       "0                0            0                   0                       0   \n",
       "1                0            0                   0                       0   \n",
       "2                1            0                   0                       0   \n",
       "3                0            0                   0                       0   \n",
       "4                0            0                   0                       0   \n",
       "\n",
       "   hair_care  hardware_store  health  home_goods_store  jewelry_store  \\\n",
       "0          0               0       0                 0              0   \n",
       "1          0               0       0                 0              0   \n",
       "2          0               0       0                 1              1   \n",
       "3          0               0       0                 0              0   \n",
       "4          0               0       0                 1              0   \n",
       "\n",
       "   laundry  liquor_store  local_government_office  locksmith  lodging  \\\n",
       "0        0             0                        0          0        0   \n",
       "1        0             0                        0          0        0   \n",
       "2        0             0                        0          0        0   \n",
       "3        0             0                        0          0        0   \n",
       "4        0             0                        0          0        0   \n",
       "\n",
       "   meal_delivery  meal_takeaway  movie_rental  night_club  park  parking  \\\n",
       "0              0              0             0           0     0        0   \n",
       "1              0              0             0           0     0        0   \n",
       "2              0              0             0           0     0        0   \n",
       "3              0              0             0           0     0        0   \n",
       "4              0              0             0           0     0        0   \n",
       "\n",
       "   pet_store  pharmacy  point_of_interest  premise  restaurant  school  \\\n",
       "0          0         0                  1        0           0       0   \n",
       "1          0         0                  1        0           0       0   \n",
       "2          0         0                  1        0           0       0   \n",
       "3          0         0                  1        0           0       0   \n",
       "4          0         0                  1        0           0       0   \n",
       "\n",
       "   shoe_store  shopping_mall  spa  storage  store  supermarket  \\\n",
       "0           0              0    0        0      1            0   \n",
       "1           0              0    0        0      1            0   \n",
       "2           1              0    0        0      1            0   \n",
       "3           0              0    0        0      1            0   \n",
       "4           0              0    0        0      1            0   \n",
       "\n",
       "   tourist_attraction  travel_agency  median_household_income  \\\n",
       "0                   0              0                  88526.0   \n",
       "1                   0              0                  88526.0   \n",
       "2                   0              0                  88526.0   \n",
       "3                   0              0                  88526.0   \n",
       "4                   0              0                  88526.0   \n",
       "\n",
       "   per_capita_income  population  population_density_square_miles  \\\n",
       "0            84765.0       22924                          37306.6   \n",
       "1            84765.0       22924                          37306.6   \n",
       "2            84765.0       22924                          37306.6   \n",
       "3            84765.0       22924                          37306.6   \n",
       "4            84765.0       22924                          37306.6   \n",
       "\n",
       "   housing_units  median_home_value  home_price_to_income_ratios  \n",
       "0          14141           343400.0                     3.879086  \n",
       "1          14141           343400.0                     3.879086  \n",
       "2          14141           343400.0                     3.879086  \n",
       "3          14141           343400.0                     3.879086  \n",
       "4          14141           343400.0                     3.879086  "
      ]
     },
     "execution_count": 8,
     "metadata": {},
     "output_type": "execute_result"
    }
   ],
   "source": [
    "df.head()"
   ]
  },
  {
   "cell_type": "markdown",
   "metadata": {},
   "source": [
    "## Feature Engineering"
   ]
  },
  {
   "cell_type": "markdown",
   "metadata": {},
   "source": [
    "### Create aggregated features for each zip code\n",
    "[Reference](https://towardsdatascience.com/automated-feature-engineering-in-python-99baf11cc219)"
   ]
  },
  {
   "cell_type": "code",
   "execution_count": 9,
   "metadata": {},
   "outputs": [],
   "source": [
    "# Create column 'avg_price_level_by_zipcode', which calculate the avg price level for each zipcode\n",
    "df['avg_price_level_by_zipcode'] = [df.groupby('zipcode')['price_level'].mean()[zipcode] \n",
    "                                    for zipcode in df['zipcode']]"
   ]
  },
  {
   "cell_type": "code",
   "execution_count": 10,
   "metadata": {},
   "outputs": [],
   "source": [
    "# Avarage rating by zipcode\n",
    "df['avg_rating_by_zipcode'] = [df.groupby('zipcode')['rating'].mean()[zipcode] \n",
    "                              for zipcode in df['zipcode']]"
   ]
  },
  {
   "cell_type": "code",
   "execution_count": 11,
   "metadata": {},
   "outputs": [],
   "source": [
    "# Avarage rating_count by zipcode\n",
    "df['avg_user_ratings_total_by_zipcode'] = [df.groupby('zipcode')['user_ratings_total'].mean()[zipcode] \n",
    "                              for zipcode in df['zipcode']]"
   ]
  },
  {
   "cell_type": "code",
   "execution_count": 12,
   "metadata": {},
   "outputs": [
    {
     "data": {
      "text/plain": [
       "1862"
      ]
     },
     "execution_count": 12,
     "metadata": {},
     "output_type": "execute_result"
    }
   ],
   "source": [
    "df['cafe'].sum()"
   ]
  },
  {
   "cell_type": "code",
   "execution_count": 13,
   "metadata": {},
   "outputs": [],
   "source": [
    "business_type_list = ['art_gallery', 'atm', 'bakery', 'bar', 'beauty_salon',\n",
    "       'bicycle_store', 'book_store', 'cafe', 'car_dealer', 'car_repair',\n",
    "       'car_wash', 'clothing_store', 'convenience_store', 'department_store',\n",
    "       'drugstore', 'electronics_store', 'establishment', 'finance', 'florist',\n",
    "       'food', 'funeral_home', 'furniture_store', 'gas_station',\n",
    "       'general_contractor', 'grocery_or_supermarket', 'hair_care',\n",
    "       'hardware_store', 'health', 'home_goods_store', 'jewelry_store',\n",
    "       'laundry', 'liquor_store', 'local_government_office', 'locksmith',\n",
    "       'lodging', 'meal_delivery', 'meal_takeaway', 'movie_rental',\n",
    "       'night_club', 'park', 'parking', 'pet_store', 'pharmacy',\n",
    "       'point_of_interest', 'premise', 'restaurant', 'school', 'shoe_store',\n",
    "       'shopping_mall', 'spa', 'storage', 'store', 'supermarket',\n",
    "       'tourist_attraction', 'travel_agency']"
   ]
  },
  {
   "cell_type": "code",
   "execution_count": 14,
   "metadata": {},
   "outputs": [
    {
     "data": {
      "text/plain": [
       "Index(['city', 'state', 'zipcode', 'name', 'open_now', 'place_id',\n",
       "       'price_level', 'rating', 'user_ratings_total', 'searched_keyword',\n",
       "       'searched_zipcode', 'location_lat', 'location_lng', 'compound_code',\n",
       "       'global_code', 'art_gallery', 'atm', 'bakery', 'bar', 'beauty_salon',\n",
       "       'bicycle_store', 'book_store', 'cafe', 'car_dealer', 'car_repair',\n",
       "       'car_wash', 'clothing_store', 'convenience_store', 'department_store',\n",
       "       'drugstore', 'electronics_store', 'establishment', 'finance', 'florist',\n",
       "       'food', 'funeral_home', 'furniture_store', 'gas_station',\n",
       "       'general_contractor', 'grocery_or_supermarket', 'hair_care',\n",
       "       'hardware_store', 'health', 'home_goods_store', 'jewelry_store',\n",
       "       'laundry', 'liquor_store', 'local_government_office', 'locksmith',\n",
       "       'lodging', 'meal_delivery', 'meal_takeaway', 'movie_rental',\n",
       "       'night_club', 'park', 'parking', 'pet_store', 'pharmacy',\n",
       "       'point_of_interest', 'premise', 'restaurant', 'school', 'shoe_store',\n",
       "       'shopping_mall', 'spa', 'storage', 'store', 'supermarket',\n",
       "       'tourist_attraction', 'travel_agency', 'median_household_income',\n",
       "       'per_capita_income', 'population', 'population_density_square_miles',\n",
       "       'housing_units', 'median_home_value', 'home_price_to_income_ratios',\n",
       "       'avg_price_level_by_zipcode', 'avg_rating_by_zipcode',\n",
       "       'avg_user_ratings_total_by_zipcode'],\n",
       "      dtype='object')"
      ]
     },
     "execution_count": 14,
     "metadata": {},
     "output_type": "execute_result"
    }
   ],
   "source": [
    "df.columns"
   ]
  },
  {
   "cell_type": "markdown",
   "metadata": {},
   "source": [
    "## Create transformation columns using demographic information from 'income' dataset"
   ]
  },
  {
   "cell_type": "code",
   "execution_count": 15,
   "metadata": {},
   "outputs": [],
   "source": [
    "# Create column user ratings counts devided by the population in the given zipcode\n",
    "df['user_ratings_count_per_capipa'] = df['user_ratings_total'] / df['population']"
   ]
  },
  {
   "cell_type": "code",
   "execution_count": 16,
   "metadata": {},
   "outputs": [],
   "source": [
    "# Create column rating weighed with population density in the given zipcode\n",
    "df['rating_weighed_population_density'] = df['rating'] * df['population_density_square_miles']"
   ]
  },
  {
   "cell_type": "markdown",
   "metadata": {},
   "source": [
    "## Investigate target column 'home_price_to_income_ratios'"
   ]
  },
  {
   "cell_type": "code",
   "execution_count": 17,
   "metadata": {
    "scrolled": true
   },
   "outputs": [
    {
     "data": {
      "text/plain": [
       "count    8585.000000\n",
       "mean        9.866797\n",
       "std         4.017068\n",
       "min         0.542965\n",
       "25%         6.792980\n",
       "50%         9.061191\n",
       "75%        11.886419\n",
       "max        22.005344\n",
       "Name: home_price_to_income_ratios, dtype: float64"
      ]
     },
     "execution_count": 17,
     "metadata": {},
     "output_type": "execute_result"
    }
   ],
   "source": [
    "df['home_price_to_income_ratios'].describe()"
   ]
  },
  {
   "cell_type": "code",
   "execution_count": 18,
   "metadata": {},
   "outputs": [
    {
     "data": {
      "image/png": "[encoded data removed]",
      "text/plain": [
       "<Figure size 720x504 with 1 Axes>"
      ]
     },
     "metadata": {
      "needs_background": "light"
     },
     "output_type": "display_data"
    }
   ],
   "source": [
    "plt.figure(figsize=(10,7))\n",
    "ax = sns.distplot(df['home_price_to_income_ratios'], kde=False)\n",
    "ax.set_title('Distribution of Home Price to Income Ratios')\n",
    "ax.set_ylabel('Frequency')\n",
    "ax.set_xlabel('Ratios in year)')\n",
    "plt.axvline(x=df['home_price_to_income_ratios'].mean(), color='r', linestyle='--');"
   ]
  },
  {
   "cell_type": "code",
   "execution_count": 19,
   "metadata": {},
   "outputs": [
    {
     "data": {
      "image/png": "[encoded data removed]",
      "text/plain": [
       "<Figure size 720x504 with 1 Axes>"
      ]
     },
     "metadata": {
      "needs_background": "light"
     },
     "output_type": "display_data"
    }
   ],
   "source": [
    "plt.figure(figsize=(10,7))\n",
    "ax = sns.boxplot(df['home_price_to_income_ratios'])\n",
    "ax.set_title('Distribution of Home Price to Income Ratios')\n",
    "ax.set_xlabel('Ratios in year');"
   ]
  },
  {
   "cell_type": "markdown",
   "metadata": {},
   "source": [
    "## EDA: Numerical Data"
   ]
  },
  {
   "cell_type": "code",
   "execution_count": 20,
   "metadata": {},
   "outputs": [],
   "source": [
    "df_numerical_columns = df.select_dtypes(include = 'number')"
   ]
  },
  {
   "cell_type": "code",
   "execution_count": 21,
   "metadata": {},
   "outputs": [
    {
     "data": {
      "image/png": "[encoded data removed]",
      "text/plain": [
       "<Figure size 720x504 with 1 Axes>"
      ]
     },
     "metadata": {
      "needs_background": "light"
     },
     "output_type": "display_data"
    }
   ],
   "source": [
    "plt.figure(figsize=(10,7))\n",
    "ax = sns.distplot(df['housing_units'].dropna(), kde=False)"
   ]
  },
  {
   "cell_type": "code",
   "execution_count": 22,
   "metadata": {},
   "outputs": [
    {
     "data": {
      "text/plain": [
       "<matplotlib.collections.PathCollection at 0x133f2ef90>"
      ]
     },
     "execution_count": 22,
     "metadata": {},
     "output_type": "execute_result"
    },
    {
     "data": {
      "image/png": "[encoded data removed]",
      "text/plain": [
       "<Figure size 720x720 with 1 Axes>"
      ]
     },
     "metadata": {
      "needs_background": "light"
     },
     "output_type": "display_data"
    }
   ],
   "source": [
    "plt.figure(figsize=(10, 10))\n",
    "plt.scatter(df['location_lng'], df['location_lat'], s=2)"
   ]
  },
  {
   "cell_type": "code",
   "execution_count": 147,
   "metadata": {
    "scrolled": true
   },
   "outputs": [
    {
     "data": {
      "image/png": "[encoded data removed]",
      "text/plain": [
       "<Figure size 720x504 with 1 Axes>"
      ]
     },
     "metadata": {
      "needs_background": "light"
     },
     "output_type": "display_data"
    }
   ],
   "source": [
    "plt.figure(figsize=(10,7))\n",
    "ax = sns.scatterplot(x=df['avg_rating_by_zipcode'], y=df['home_price_to_income_ratios'])\n",
    "ax.set_title('Correlation Above grade (ground) living area and Sale Price (before eliminating outliers)')\n",
    "ax.set_xlabel('Above grade (ground) living area in sq ft')\n",
    "ax.set_ylabel('Sale Price in USD');"
   ]
  },
  {
   "cell_type": "code",
   "execution_count": null,
   "metadata": {},
   "outputs": [],
   "source": []
  },
  {
   "cell_type": "code",
   "execution_count": 23,
   "metadata": {},
   "outputs": [],
   "source": [
    "def heatmap_numeric_w_dependent_variable(df, dependent_variable):\n",
    "    '''\n",
    "    Generate a heatmap of dependent variable's correlation with y\n",
    "    '''\n",
    "    plt.figure(figsize=(8, 30))\n",
    "    g = sns.heatmap(df.corr()[[dependent_variable]].sort_values(by=dependent_variable), \n",
    "                    annot=True, \n",
    "                    cmap='coolwarm', \n",
    "                    vmin=-1,\n",
    "                    vmax=1) \n",
    "    return g"
   ]
  },
  {
   "cell_type": "code",
   "execution_count": 24,
   "metadata": {},
   "outputs": [
    {
     "data": {
      "text/plain": [
       "<matplotlib.axes._subplots.AxesSubplot at 0x134072190>"
      ]
     },
     "execution_count": 24,
     "metadata": {},
     "output_type": "execute_result"
    },
    {
     "data": {
      "image/png": "[encoded data removed]",
      "text/plain": [
       "<Figure size 576x2160 with 2 Axes>"
      ]
     },
     "metadata": {
      "needs_background": "light"
     },
     "output_type": "display_data"
    }
   ],
   "source": [
    "heatmap_numeric_w_dependent_variable(df, 'home_price_to_income_ratios')"
   ]
  },
  {
   "cell_type": "code",
   "execution_count": 25,
   "metadata": {},
   "outputs": [
    {
     "data": {
      "text/html": [
       "<div>\n",
       "<style scoped>\n",
       "    .dataframe tbody tr th:only-of-type {\n",
       "        vertical-align: middle;\n",
       "    }\n",
       "\n",
       "    .dataframe tbody tr th {\n",
       "        vertical-align: top;\n",
       "    }\n",
       "\n",
       "    .dataframe thead th {\n",
       "        text-align: right;\n",
       "    }\n",
       "</style>\n",
       "<table border=\"1\" class=\"dataframe\">\n",
       "  <thead>\n",
       "    <tr style=\"text-align: right;\">\n",
       "      <th></th>\n",
       "      <th>city</th>\n",
       "      <th>state</th>\n",
       "      <th>zipcode</th>\n",
       "      <th>name</th>\n",
       "      <th>open_now</th>\n",
       "      <th>place_id</th>\n",
       "      <th>price_level</th>\n",
       "      <th>rating</th>\n",
       "      <th>user_ratings_total</th>\n",
       "      <th>searched_keyword</th>\n",
       "      <th>searched_zipcode</th>\n",
       "      <th>location_lat</th>\n",
       "      <th>location_lng</th>\n",
       "      <th>compound_code</th>\n",
       "      <th>global_code</th>\n",
       "      <th>art_gallery</th>\n",
       "      <th>atm</th>\n",
       "      <th>bakery</th>\n",
       "      <th>bar</th>\n",
       "      <th>beauty_salon</th>\n",
       "      <th>bicycle_store</th>\n",
       "      <th>book_store</th>\n",
       "      <th>cafe</th>\n",
       "      <th>car_dealer</th>\n",
       "      <th>car_repair</th>\n",
       "      <th>car_wash</th>\n",
       "      <th>clothing_store</th>\n",
       "      <th>convenience_store</th>\n",
       "      <th>department_store</th>\n",
       "      <th>drugstore</th>\n",
       "      <th>electronics_store</th>\n",
       "      <th>establishment</th>\n",
       "      <th>finance</th>\n",
       "      <th>florist</th>\n",
       "      <th>food</th>\n",
       "      <th>funeral_home</th>\n",
       "      <th>furniture_store</th>\n",
       "      <th>gas_station</th>\n",
       "      <th>general_contractor</th>\n",
       "      <th>grocery_or_supermarket</th>\n",
       "      <th>hair_care</th>\n",
       "      <th>hardware_store</th>\n",
       "      <th>health</th>\n",
       "      <th>home_goods_store</th>\n",
       "      <th>jewelry_store</th>\n",
       "      <th>laundry</th>\n",
       "      <th>liquor_store</th>\n",
       "      <th>local_government_office</th>\n",
       "      <th>locksmith</th>\n",
       "      <th>lodging</th>\n",
       "      <th>meal_delivery</th>\n",
       "      <th>meal_takeaway</th>\n",
       "      <th>movie_rental</th>\n",
       "      <th>night_club</th>\n",
       "      <th>park</th>\n",
       "      <th>parking</th>\n",
       "      <th>pet_store</th>\n",
       "      <th>pharmacy</th>\n",
       "      <th>point_of_interest</th>\n",
       "      <th>premise</th>\n",
       "      <th>restaurant</th>\n",
       "      <th>school</th>\n",
       "      <th>shoe_store</th>\n",
       "      <th>shopping_mall</th>\n",
       "      <th>spa</th>\n",
       "      <th>storage</th>\n",
       "      <th>store</th>\n",
       "      <th>supermarket</th>\n",
       "      <th>tourist_attraction</th>\n",
       "      <th>travel_agency</th>\n",
       "      <th>median_household_income</th>\n",
       "      <th>per_capita_income</th>\n",
       "      <th>population</th>\n",
       "      <th>population_density_square_miles</th>\n",
       "      <th>housing_units</th>\n",
       "      <th>median_home_value</th>\n",
       "      <th>home_price_to_income_ratios</th>\n",
       "      <th>avg_price_level_by_zipcode</th>\n",
       "      <th>avg_rating_by_zipcode</th>\n",
       "      <th>avg_user_ratings_total_by_zipcode</th>\n",
       "      <th>user_ratings_count_per_capipa</th>\n",
       "      <th>rating_weighed_population_density</th>\n",
       "    </tr>\n",
       "  </thead>\n",
       "  <tbody>\n",
       "    <tr>\n",
       "      <td>0</td>\n",
       "      <td>New York</td>\n",
       "      <td>NY</td>\n",
       "      <td>10001</td>\n",
       "      <td>Sprint Store</td>\n",
       "      <td>True</td>\n",
       "      <td>ChIJCV0vTalZwokR61PIDIe0gI0</td>\n",
       "      <td>2.0</td>\n",
       "      <td>3.4</td>\n",
       "      <td>276</td>\n",
       "      <td>stores</td>\n",
       "      <td>10001</td>\n",
       "      <td>40.750269</td>\n",
       "      <td>-73.989655</td>\n",
       "      <td>Q226+44 New York</td>\n",
       "      <td>87G8Q226+44</td>\n",
       "      <td>0</td>\n",
       "      <td>0</td>\n",
       "      <td>0</td>\n",
       "      <td>0</td>\n",
       "      <td>0</td>\n",
       "      <td>0</td>\n",
       "      <td>0</td>\n",
       "      <td>0</td>\n",
       "      <td>0</td>\n",
       "      <td>0</td>\n",
       "      <td>0</td>\n",
       "      <td>0</td>\n",
       "      <td>0</td>\n",
       "      <td>0</td>\n",
       "      <td>0</td>\n",
       "      <td>0</td>\n",
       "      <td>1</td>\n",
       "      <td>0</td>\n",
       "      <td>0</td>\n",
       "      <td>0</td>\n",
       "      <td>0</td>\n",
       "      <td>0</td>\n",
       "      <td>0</td>\n",
       "      <td>0</td>\n",
       "      <td>0</td>\n",
       "      <td>0</td>\n",
       "      <td>0</td>\n",
       "      <td>0</td>\n",
       "      <td>0</td>\n",
       "      <td>0</td>\n",
       "      <td>0</td>\n",
       "      <td>0</td>\n",
       "      <td>0</td>\n",
       "      <td>0</td>\n",
       "      <td>0</td>\n",
       "      <td>0</td>\n",
       "      <td>0</td>\n",
       "      <td>0</td>\n",
       "      <td>0</td>\n",
       "      <td>0</td>\n",
       "      <td>0</td>\n",
       "      <td>0</td>\n",
       "      <td>0</td>\n",
       "      <td>1</td>\n",
       "      <td>0</td>\n",
       "      <td>0</td>\n",
       "      <td>0</td>\n",
       "      <td>0</td>\n",
       "      <td>0</td>\n",
       "      <td>0</td>\n",
       "      <td>0</td>\n",
       "      <td>1</td>\n",
       "      <td>0</td>\n",
       "      <td>0</td>\n",
       "      <td>0</td>\n",
       "      <td>88526.0</td>\n",
       "      <td>84765.0</td>\n",
       "      <td>22924</td>\n",
       "      <td>37306.6</td>\n",
       "      <td>14141</td>\n",
       "      <td>343400.0</td>\n",
       "      <td>3.879086</td>\n",
       "      <td>2.0</td>\n",
       "      <td>4.144262</td>\n",
       "      <td>1900.721311</td>\n",
       "      <td>0.012040</td>\n",
       "      <td>126842.44</td>\n",
       "    </tr>\n",
       "    <tr>\n",
       "      <td>1</td>\n",
       "      <td>New York</td>\n",
       "      <td>NY</td>\n",
       "      <td>10001</td>\n",
       "      <td>Duane Reade</td>\n",
       "      <td>True</td>\n",
       "      <td>ChIJJwQ3561ZwokRuYknT0uxER8</td>\n",
       "      <td>2.0</td>\n",
       "      <td>3.9</td>\n",
       "      <td>50</td>\n",
       "      <td>stores</td>\n",
       "      <td>10001</td>\n",
       "      <td>40.751744</td>\n",
       "      <td>-73.993482</td>\n",
       "      <td>Q224+MJ New York</td>\n",
       "      <td>87G8Q224+MJ</td>\n",
       "      <td>0</td>\n",
       "      <td>0</td>\n",
       "      <td>0</td>\n",
       "      <td>0</td>\n",
       "      <td>0</td>\n",
       "      <td>0</td>\n",
       "      <td>0</td>\n",
       "      <td>0</td>\n",
       "      <td>0</td>\n",
       "      <td>0</td>\n",
       "      <td>0</td>\n",
       "      <td>1</td>\n",
       "      <td>1</td>\n",
       "      <td>0</td>\n",
       "      <td>0</td>\n",
       "      <td>0</td>\n",
       "      <td>1</td>\n",
       "      <td>0</td>\n",
       "      <td>0</td>\n",
       "      <td>1</td>\n",
       "      <td>0</td>\n",
       "      <td>0</td>\n",
       "      <td>0</td>\n",
       "      <td>0</td>\n",
       "      <td>0</td>\n",
       "      <td>0</td>\n",
       "      <td>0</td>\n",
       "      <td>0</td>\n",
       "      <td>0</td>\n",
       "      <td>0</td>\n",
       "      <td>0</td>\n",
       "      <td>0</td>\n",
       "      <td>0</td>\n",
       "      <td>0</td>\n",
       "      <td>0</td>\n",
       "      <td>0</td>\n",
       "      <td>0</td>\n",
       "      <td>0</td>\n",
       "      <td>0</td>\n",
       "      <td>0</td>\n",
       "      <td>0</td>\n",
       "      <td>0</td>\n",
       "      <td>0</td>\n",
       "      <td>1</td>\n",
       "      <td>0</td>\n",
       "      <td>0</td>\n",
       "      <td>0</td>\n",
       "      <td>0</td>\n",
       "      <td>0</td>\n",
       "      <td>0</td>\n",
       "      <td>0</td>\n",
       "      <td>1</td>\n",
       "      <td>0</td>\n",
       "      <td>0</td>\n",
       "      <td>0</td>\n",
       "      <td>88526.0</td>\n",
       "      <td>84765.0</td>\n",
       "      <td>22924</td>\n",
       "      <td>37306.6</td>\n",
       "      <td>14141</td>\n",
       "      <td>343400.0</td>\n",
       "      <td>3.879086</td>\n",
       "      <td>2.0</td>\n",
       "      <td>4.144262</td>\n",
       "      <td>1900.721311</td>\n",
       "      <td>0.002181</td>\n",
       "      <td>145495.74</td>\n",
       "    </tr>\n",
       "    <tr>\n",
       "      <td>2</td>\n",
       "      <td>New York</td>\n",
       "      <td>NY</td>\n",
       "      <td>10001</td>\n",
       "      <td>Macy's</td>\n",
       "      <td>True</td>\n",
       "      <td>ChIJ3xjWra5ZwokRrwJ0KZ4yKNs</td>\n",
       "      <td>2.0</td>\n",
       "      <td>4.4</td>\n",
       "      <td>51032</td>\n",
       "      <td>stores</td>\n",
       "      <td>10001</td>\n",
       "      <td>40.750802</td>\n",
       "      <td>-73.989483</td>\n",
       "      <td>Q226+86 New York</td>\n",
       "      <td>87G8Q226+86</td>\n",
       "      <td>0</td>\n",
       "      <td>0</td>\n",
       "      <td>0</td>\n",
       "      <td>0</td>\n",
       "      <td>0</td>\n",
       "      <td>0</td>\n",
       "      <td>0</td>\n",
       "      <td>0</td>\n",
       "      <td>0</td>\n",
       "      <td>0</td>\n",
       "      <td>0</td>\n",
       "      <td>1</td>\n",
       "      <td>0</td>\n",
       "      <td>1</td>\n",
       "      <td>0</td>\n",
       "      <td>0</td>\n",
       "      <td>1</td>\n",
       "      <td>0</td>\n",
       "      <td>0</td>\n",
       "      <td>0</td>\n",
       "      <td>0</td>\n",
       "      <td>1</td>\n",
       "      <td>0</td>\n",
       "      <td>0</td>\n",
       "      <td>0</td>\n",
       "      <td>0</td>\n",
       "      <td>0</td>\n",
       "      <td>0</td>\n",
       "      <td>1</td>\n",
       "      <td>1</td>\n",
       "      <td>0</td>\n",
       "      <td>0</td>\n",
       "      <td>0</td>\n",
       "      <td>0</td>\n",
       "      <td>0</td>\n",
       "      <td>0</td>\n",
       "      <td>0</td>\n",
       "      <td>0</td>\n",
       "      <td>0</td>\n",
       "      <td>0</td>\n",
       "      <td>0</td>\n",
       "      <td>0</td>\n",
       "      <td>0</td>\n",
       "      <td>1</td>\n",
       "      <td>0</td>\n",
       "      <td>0</td>\n",
       "      <td>0</td>\n",
       "      <td>1</td>\n",
       "      <td>0</td>\n",
       "      <td>0</td>\n",
       "      <td>0</td>\n",
       "      <td>1</td>\n",
       "      <td>0</td>\n",
       "      <td>0</td>\n",
       "      <td>0</td>\n",
       "      <td>88526.0</td>\n",
       "      <td>84765.0</td>\n",
       "      <td>22924</td>\n",
       "      <td>37306.6</td>\n",
       "      <td>14141</td>\n",
       "      <td>343400.0</td>\n",
       "      <td>3.879086</td>\n",
       "      <td>2.0</td>\n",
       "      <td>4.144262</td>\n",
       "      <td>1900.721311</td>\n",
       "      <td>2.226139</td>\n",
       "      <td>164149.04</td>\n",
       "    </tr>\n",
       "    <tr>\n",
       "      <td>3</td>\n",
       "      <td>New York</td>\n",
       "      <td>NY</td>\n",
       "      <td>10001</td>\n",
       "      <td>Uniqlo</td>\n",
       "      <td>True</td>\n",
       "      <td>ChIJX6mEEqlZwokRtDQOWIDVc3I</td>\n",
       "      <td>1.0</td>\n",
       "      <td>4.4</td>\n",
       "      <td>3962</td>\n",
       "      <td>stores</td>\n",
       "      <td>10001</td>\n",
       "      <td>40.749488</td>\n",
       "      <td>-73.986632</td>\n",
       "      <td>P2X7+Q8 New York</td>\n",
       "      <td>87G8P2X7+Q8</td>\n",
       "      <td>0</td>\n",
       "      <td>0</td>\n",
       "      <td>0</td>\n",
       "      <td>0</td>\n",
       "      <td>0</td>\n",
       "      <td>0</td>\n",
       "      <td>0</td>\n",
       "      <td>0</td>\n",
       "      <td>0</td>\n",
       "      <td>0</td>\n",
       "      <td>0</td>\n",
       "      <td>1</td>\n",
       "      <td>0</td>\n",
       "      <td>0</td>\n",
       "      <td>0</td>\n",
       "      <td>0</td>\n",
       "      <td>1</td>\n",
       "      <td>0</td>\n",
       "      <td>0</td>\n",
       "      <td>0</td>\n",
       "      <td>0</td>\n",
       "      <td>0</td>\n",
       "      <td>0</td>\n",
       "      <td>0</td>\n",
       "      <td>0</td>\n",
       "      <td>0</td>\n",
       "      <td>0</td>\n",
       "      <td>0</td>\n",
       "      <td>0</td>\n",
       "      <td>0</td>\n",
       "      <td>0</td>\n",
       "      <td>0</td>\n",
       "      <td>0</td>\n",
       "      <td>0</td>\n",
       "      <td>0</td>\n",
       "      <td>0</td>\n",
       "      <td>0</td>\n",
       "      <td>0</td>\n",
       "      <td>0</td>\n",
       "      <td>0</td>\n",
       "      <td>0</td>\n",
       "      <td>0</td>\n",
       "      <td>0</td>\n",
       "      <td>1</td>\n",
       "      <td>0</td>\n",
       "      <td>0</td>\n",
       "      <td>0</td>\n",
       "      <td>0</td>\n",
       "      <td>0</td>\n",
       "      <td>0</td>\n",
       "      <td>0</td>\n",
       "      <td>1</td>\n",
       "      <td>0</td>\n",
       "      <td>0</td>\n",
       "      <td>0</td>\n",
       "      <td>88526.0</td>\n",
       "      <td>84765.0</td>\n",
       "      <td>22924</td>\n",
       "      <td>37306.6</td>\n",
       "      <td>14141</td>\n",
       "      <td>343400.0</td>\n",
       "      <td>3.879086</td>\n",
       "      <td>2.0</td>\n",
       "      <td>4.144262</td>\n",
       "      <td>1900.721311</td>\n",
       "      <td>0.172832</td>\n",
       "      <td>164149.04</td>\n",
       "    </tr>\n",
       "    <tr>\n",
       "      <td>4</td>\n",
       "      <td>New York</td>\n",
       "      <td>NY</td>\n",
       "      <td>10001</td>\n",
       "      <td>B&amp;H Photo Video - Electronics and Camera Store</td>\n",
       "      <td>False</td>\n",
       "      <td>ChIJI93dPbJZwokRIoOEoivEDQs</td>\n",
       "      <td>NaN</td>\n",
       "      <td>4.6</td>\n",
       "      <td>22772</td>\n",
       "      <td>stores</td>\n",
       "      <td>10001</td>\n",
       "      <td>40.752945</td>\n",
       "      <td>-73.996337</td>\n",
       "      <td>Q233+5F New York</td>\n",
       "      <td>87G8Q233+5F</td>\n",
       "      <td>0</td>\n",
       "      <td>0</td>\n",
       "      <td>0</td>\n",
       "      <td>0</td>\n",
       "      <td>0</td>\n",
       "      <td>0</td>\n",
       "      <td>0</td>\n",
       "      <td>0</td>\n",
       "      <td>0</td>\n",
       "      <td>0</td>\n",
       "      <td>0</td>\n",
       "      <td>0</td>\n",
       "      <td>0</td>\n",
       "      <td>0</td>\n",
       "      <td>0</td>\n",
       "      <td>1</td>\n",
       "      <td>1</td>\n",
       "      <td>0</td>\n",
       "      <td>0</td>\n",
       "      <td>0</td>\n",
       "      <td>0</td>\n",
       "      <td>0</td>\n",
       "      <td>0</td>\n",
       "      <td>0</td>\n",
       "      <td>0</td>\n",
       "      <td>0</td>\n",
       "      <td>0</td>\n",
       "      <td>0</td>\n",
       "      <td>1</td>\n",
       "      <td>0</td>\n",
       "      <td>0</td>\n",
       "      <td>0</td>\n",
       "      <td>0</td>\n",
       "      <td>0</td>\n",
       "      <td>0</td>\n",
       "      <td>0</td>\n",
       "      <td>0</td>\n",
       "      <td>0</td>\n",
       "      <td>0</td>\n",
       "      <td>0</td>\n",
       "      <td>0</td>\n",
       "      <td>0</td>\n",
       "      <td>0</td>\n",
       "      <td>1</td>\n",
       "      <td>0</td>\n",
       "      <td>0</td>\n",
       "      <td>0</td>\n",
       "      <td>0</td>\n",
       "      <td>0</td>\n",
       "      <td>0</td>\n",
       "      <td>0</td>\n",
       "      <td>1</td>\n",
       "      <td>0</td>\n",
       "      <td>0</td>\n",
       "      <td>0</td>\n",
       "      <td>88526.0</td>\n",
       "      <td>84765.0</td>\n",
       "      <td>22924</td>\n",
       "      <td>37306.6</td>\n",
       "      <td>14141</td>\n",
       "      <td>343400.0</td>\n",
       "      <td>3.879086</td>\n",
       "      <td>2.0</td>\n",
       "      <td>4.144262</td>\n",
       "      <td>1900.721311</td>\n",
       "      <td>0.993369</td>\n",
       "      <td>171610.36</td>\n",
       "    </tr>\n",
       "  </tbody>\n",
       "</table>\n",
       "</div>"
      ],
      "text/plain": [
       "       city state  zipcode                                            name  \\\n",
       "0  New York    NY    10001                                    Sprint Store   \n",
       "1  New York    NY    10001                                     Duane Reade   \n",
       "2  New York    NY    10001                                          Macy's   \n",
       "3  New York    NY    10001                                          Uniqlo   \n",
       "4  New York    NY    10001  B&H Photo Video - Electronics and Camera Store   \n",
       "\n",
       "  open_now                     place_id  price_level  rating  \\\n",
       "0     True  ChIJCV0vTalZwokR61PIDIe0gI0          2.0     3.4   \n",
       "1     True  ChIJJwQ3561ZwokRuYknT0uxER8          2.0     3.9   \n",
       "2     True  ChIJ3xjWra5ZwokRrwJ0KZ4yKNs          2.0     4.4   \n",
       "3     True  ChIJX6mEEqlZwokRtDQOWIDVc3I          1.0     4.4   \n",
       "4    False  ChIJI93dPbJZwokRIoOEoivEDQs          NaN     4.6   \n",
       "\n",
       "   user_ratings_total searched_keyword  searched_zipcode  location_lat  \\\n",
       "0                 276           stores             10001     40.750269   \n",
       "1                  50           stores             10001     40.751744   \n",
       "2               51032           stores             10001     40.750802   \n",
       "3                3962           stores             10001     40.749488   \n",
       "4               22772           stores             10001     40.752945   \n",
       "\n",
       "   location_lng     compound_code  global_code  art_gallery  atm  bakery  bar  \\\n",
       "0    -73.989655  Q226+44 New York  87G8Q226+44            0    0       0    0   \n",
       "1    -73.993482  Q224+MJ New York  87G8Q224+MJ            0    0       0    0   \n",
       "2    -73.989483  Q226+86 New York  87G8Q226+86            0    0       0    0   \n",
       "3    -73.986632  P2X7+Q8 New York  87G8P2X7+Q8            0    0       0    0   \n",
       "4    -73.996337  Q233+5F New York  87G8Q233+5F            0    0       0    0   \n",
       "\n",
       "   beauty_salon  bicycle_store  book_store  cafe  car_dealer  car_repair  \\\n",
       "0             0              0           0     0           0           0   \n",
       "1             0              0           0     0           0           0   \n",
       "2             0              0           0     0           0           0   \n",
       "3             0              0           0     0           0           0   \n",
       "4             0              0           0     0           0           0   \n",
       "\n",
       "   car_wash  clothing_store  convenience_store  department_store  drugstore  \\\n",
       "0         0               0                  0                 0          0   \n",
       "1         0               1                  1                 0          0   \n",
       "2         0               1                  0                 1          0   \n",
       "3         0               1                  0                 0          0   \n",
       "4         0               0                  0                 0          0   \n",
       "\n",
       "   electronics_store  establishment  finance  florist  food  funeral_home  \\\n",
       "0                  0              1        0        0     0             0   \n",
       "1                  0              1        0        0     1             0   \n",
       "2                  0              1        0        0     0             0   \n",
       "3                  0              1        0        0     0             0   \n",
       "4                  1              1        0        0     0             0   \n",
       "\n",
       "   furniture_store  gas_station  general_contractor  grocery_or_supermarket  \\\n",
       "0                0            0                   0                       0   \n",
       "1                0            0                   0                       0   \n",
       "2                1            0                   0                       0   \n",
       "3                0            0                   0                       0   \n",
       "4                0            0                   0                       0   \n",
       "\n",
       "   hair_care  hardware_store  health  home_goods_store  jewelry_store  \\\n",
       "0          0               0       0                 0              0   \n",
       "1          0               0       0                 0              0   \n",
       "2          0               0       0                 1              1   \n",
       "3          0               0       0                 0              0   \n",
       "4          0               0       0                 1              0   \n",
       "\n",
       "   laundry  liquor_store  local_government_office  locksmith  lodging  \\\n",
       "0        0             0                        0          0        0   \n",
       "1        0             0                        0          0        0   \n",
       "2        0             0                        0          0        0   \n",
       "3        0             0                        0          0        0   \n",
       "4        0             0                        0          0        0   \n",
       "\n",
       "   meal_delivery  meal_takeaway  movie_rental  night_club  park  parking  \\\n",
       "0              0              0             0           0     0        0   \n",
       "1              0              0             0           0     0        0   \n",
       "2              0              0             0           0     0        0   \n",
       "3              0              0             0           0     0        0   \n",
       "4              0              0             0           0     0        0   \n",
       "\n",
       "   pet_store  pharmacy  point_of_interest  premise  restaurant  school  \\\n",
       "0          0         0                  1        0           0       0   \n",
       "1          0         0                  1        0           0       0   \n",
       "2          0         0                  1        0           0       0   \n",
       "3          0         0                  1        0           0       0   \n",
       "4          0         0                  1        0           0       0   \n",
       "\n",
       "   shoe_store  shopping_mall  spa  storage  store  supermarket  \\\n",
       "0           0              0    0        0      1            0   \n",
       "1           0              0    0        0      1            0   \n",
       "2           1              0    0        0      1            0   \n",
       "3           0              0    0        0      1            0   \n",
       "4           0              0    0        0      1            0   \n",
       "\n",
       "   tourist_attraction  travel_agency  median_household_income  \\\n",
       "0                   0              0                  88526.0   \n",
       "1                   0              0                  88526.0   \n",
       "2                   0              0                  88526.0   \n",
       "3                   0              0                  88526.0   \n",
       "4                   0              0                  88526.0   \n",
       "\n",
       "   per_capita_income  population  population_density_square_miles  \\\n",
       "0            84765.0       22924                          37306.6   \n",
       "1            84765.0       22924                          37306.6   \n",
       "2            84765.0       22924                          37306.6   \n",
       "3            84765.0       22924                          37306.6   \n",
       "4            84765.0       22924                          37306.6   \n",
       "\n",
       "   housing_units  median_home_value  home_price_to_income_ratios  \\\n",
       "0          14141           343400.0                     3.879086   \n",
       "1          14141           343400.0                     3.879086   \n",
       "2          14141           343400.0                     3.879086   \n",
       "3          14141           343400.0                     3.879086   \n",
       "4          14141           343400.0                     3.879086   \n",
       "\n",
       "   avg_price_level_by_zipcode  avg_rating_by_zipcode  \\\n",
       "0                         2.0               4.144262   \n",
       "1                         2.0               4.144262   \n",
       "2                         2.0               4.144262   \n",
       "3                         2.0               4.144262   \n",
       "4                         2.0               4.144262   \n",
       "\n",
       "   avg_user_ratings_total_by_zipcode  user_ratings_count_per_capipa  \\\n",
       "0                        1900.721311                       0.012040   \n",
       "1                        1900.721311                       0.002181   \n",
       "2                        1900.721311                       2.226139   \n",
       "3                        1900.721311                       0.172832   \n",
       "4                        1900.721311                       0.993369   \n",
       "\n",
       "   rating_weighed_population_density  \n",
       "0                          126842.44  \n",
       "1                          145495.74  \n",
       "2                          164149.04  \n",
       "3                          164149.04  \n",
       "4                          171610.36  "
      ]
     },
     "execution_count": 25,
     "metadata": {},
     "output_type": "execute_result"
    }
   ],
   "source": [
    "df.head()"
   ]
  },
  {
   "cell_type": "code",
   "execution_count": 26,
   "metadata": {},
   "outputs": [
    {
     "data": {
      "text/plain": [
       "Index(['city', 'state', 'zipcode', 'name', 'open_now', 'place_id',\n",
       "       'price_level', 'rating', 'user_ratings_total', 'searched_keyword',\n",
       "       'searched_zipcode', 'location_lat', 'location_lng', 'compound_code',\n",
       "       'global_code', 'art_gallery', 'atm', 'bakery', 'bar', 'beauty_salon',\n",
       "       'bicycle_store', 'book_store', 'cafe', 'car_dealer', 'car_repair',\n",
       "       'car_wash', 'clothing_store', 'convenience_store', 'department_store',\n",
       "       'drugstore', 'electronics_store', 'establishment', 'finance', 'florist',\n",
       "       'food', 'funeral_home', 'furniture_store', 'gas_station',\n",
       "       'general_contractor', 'grocery_or_supermarket', 'hair_care',\n",
       "       'hardware_store', 'health', 'home_goods_store', 'jewelry_store',\n",
       "       'laundry', 'liquor_store', 'local_government_office', 'locksmith',\n",
       "       'lodging', 'meal_delivery', 'meal_takeaway', 'movie_rental',\n",
       "       'night_club', 'park', 'parking', 'pet_store', 'pharmacy',\n",
       "       'point_of_interest', 'premise', 'restaurant', 'school', 'shoe_store',\n",
       "       'shopping_mall', 'spa', 'storage', 'store', 'supermarket',\n",
       "       'tourist_attraction', 'travel_agency', 'median_household_income',\n",
       "       'per_capita_income', 'population', 'population_density_square_miles',\n",
       "       'housing_units', 'median_home_value', 'home_price_to_income_ratios',\n",
       "       'avg_price_level_by_zipcode', 'avg_rating_by_zipcode',\n",
       "       'avg_user_ratings_total_by_zipcode', 'user_ratings_count_per_capipa',\n",
       "       'rating_weighed_population_density'],\n",
       "      dtype='object')"
      ]
     },
     "execution_count": 26,
     "metadata": {},
     "output_type": "execute_result"
    }
   ],
   "source": [
    "df.columns"
   ]
  },
  {
   "cell_type": "markdown",
   "metadata": {},
   "source": [
    "## Modeling"
   ]
  },
  {
   "cell_type": "code",
   "execution_count": 27,
   "metadata": {},
   "outputs": [],
   "source": [
    "columns = [\n",
    "     'price_level', 'rating', 'user_ratings_total', \n",
    "      'art_gallery', 'atm', 'bakery', 'bar', 'beauty_salon',\n",
    "       'bicycle_store', 'book_store', 'cafe', 'car_dealer', 'car_repair',\n",
    "       'car_wash', 'clothing_store', 'convenience_store', 'department_store',\n",
    "       'drugstore', 'electronics_store', 'establishment', 'finance', 'florist',\n",
    "       'food', 'funeral_home', 'furniture_store', 'gas_station',\n",
    "       'general_contractor', 'grocery_or_supermarket', 'hair_care',\n",
    "       'hardware_store', 'health', 'home_goods_store', 'jewelry_store',\n",
    "       'laundry', 'liquor_store', 'local_government_office', 'locksmith',\n",
    "       'lodging', 'meal_delivery', 'meal_takeaway', 'movie_rental',\n",
    "       'night_club', 'park', 'parking', 'pet_store', 'pharmacy',\n",
    "       'point_of_interest', 'premise', 'restaurant', 'school', 'shoe_store',\n",
    "       'shopping_mall', 'spa', 'storage', 'store', 'supermarket',\n",
    "       'tourist_attraction', 'travel_agency',  \n",
    "       'population', 'population_density_square_miles',\n",
    "       'housing_units', 'home_price_to_income_ratios',\n",
    "       'avg_price_level_by_zipcode', 'avg_rating_by_zipcode',\n",
    "       'avg_user_ratings_total_by_zipcode', 'user_ratings_count_per_capipa',\n",
    "       'rating_weighed_population_density']\n"
   ]
  },
  {
   "cell_type": "code",
   "execution_count": 28,
   "metadata": {},
   "outputs": [],
   "source": [
    "from sklearn.model_selection import train_test_split, cross_val_score\n",
    "from sklearn.linear_model import LinearRegression, RidgeCV"
   ]
  },
  {
   "cell_type": "code",
   "execution_count": 29,
   "metadata": {},
   "outputs": [],
   "source": [
    "import pandas as pd\n",
    "import numpy as np\n",
    "import matplotlib.pyplot as plt\n",
    "\n",
    "from sklearn.preprocessing import StandardScaler\n",
    "from sklearn.model_selection import train_test_split, GridSearchCV\n",
    "from sklearn.pipeline import Pipeline\n",
    "\n",
    "from sklearn.linear_model import LinearRegression, LogisticRegression\n",
    "from sklearn.neighbors import KNeighborsRegressor, KNeighborsClassifier\n",
    "from sklearn.tree import DecisionTreeRegressor, DecisionTreeClassifier\n",
    "from sklearn.ensemble import BaggingRegressor, RandomForestRegressor, AdaBoostRegressor\n",
    "from sklearn.ensemble import BaggingClassifier, RandomForestClassifier, AdaBoostClassifier\n",
    "from sklearn.svm import SVR, SVC\n",
    "\n",
    "\n",
    "from sklearn.model_selection import train_test_split, cross_val_score\n",
    "from sklearn.metrics import mean_squared_error, make_scorer, f1_score\n",
    "\n",
    "%matplotlib inline"
   ]
  },
  {
   "cell_type": "code",
   "execution_count": 30,
   "metadata": {},
   "outputs": [],
   "source": [
    "final = df[columns].dropna()"
   ]
  },
  {
   "cell_type": "code",
   "execution_count": 31,
   "metadata": {},
   "outputs": [
    {
     "data": {
      "text/html": [
       "<div>\n",
       "<style scoped>\n",
       "    .dataframe tbody tr th:only-of-type {\n",
       "        vertical-align: middle;\n",
       "    }\n",
       "\n",
       "    .dataframe tbody tr th {\n",
       "        vertical-align: top;\n",
       "    }\n",
       "\n",
       "    .dataframe thead th {\n",
       "        text-align: right;\n",
       "    }\n",
       "</style>\n",
       "<table border=\"1\" class=\"dataframe\">\n",
       "  <thead>\n",
       "    <tr style=\"text-align: right;\">\n",
       "      <th></th>\n",
       "      <th>price_level</th>\n",
       "      <th>rating</th>\n",
       "      <th>user_ratings_total</th>\n",
       "      <th>art_gallery</th>\n",
       "      <th>atm</th>\n",
       "      <th>bakery</th>\n",
       "      <th>bar</th>\n",
       "      <th>beauty_salon</th>\n",
       "      <th>bicycle_store</th>\n",
       "      <th>book_store</th>\n",
       "      <th>cafe</th>\n",
       "      <th>car_dealer</th>\n",
       "      <th>car_repair</th>\n",
       "      <th>car_wash</th>\n",
       "      <th>clothing_store</th>\n",
       "      <th>convenience_store</th>\n",
       "      <th>department_store</th>\n",
       "      <th>drugstore</th>\n",
       "      <th>electronics_store</th>\n",
       "      <th>establishment</th>\n",
       "      <th>finance</th>\n",
       "      <th>florist</th>\n",
       "      <th>food</th>\n",
       "      <th>funeral_home</th>\n",
       "      <th>furniture_store</th>\n",
       "      <th>gas_station</th>\n",
       "      <th>general_contractor</th>\n",
       "      <th>grocery_or_supermarket</th>\n",
       "      <th>hair_care</th>\n",
       "      <th>hardware_store</th>\n",
       "      <th>health</th>\n",
       "      <th>home_goods_store</th>\n",
       "      <th>jewelry_store</th>\n",
       "      <th>laundry</th>\n",
       "      <th>liquor_store</th>\n",
       "      <th>local_government_office</th>\n",
       "      <th>locksmith</th>\n",
       "      <th>lodging</th>\n",
       "      <th>meal_delivery</th>\n",
       "      <th>meal_takeaway</th>\n",
       "      <th>movie_rental</th>\n",
       "      <th>night_club</th>\n",
       "      <th>park</th>\n",
       "      <th>parking</th>\n",
       "      <th>pet_store</th>\n",
       "      <th>pharmacy</th>\n",
       "      <th>point_of_interest</th>\n",
       "      <th>premise</th>\n",
       "      <th>restaurant</th>\n",
       "      <th>school</th>\n",
       "      <th>shoe_store</th>\n",
       "      <th>shopping_mall</th>\n",
       "      <th>spa</th>\n",
       "      <th>storage</th>\n",
       "      <th>store</th>\n",
       "      <th>supermarket</th>\n",
       "      <th>tourist_attraction</th>\n",
       "      <th>travel_agency</th>\n",
       "      <th>population</th>\n",
       "      <th>population_density_square_miles</th>\n",
       "      <th>housing_units</th>\n",
       "      <th>home_price_to_income_ratios</th>\n",
       "      <th>avg_price_level_by_zipcode</th>\n",
       "      <th>avg_rating_by_zipcode</th>\n",
       "      <th>avg_user_ratings_total_by_zipcode</th>\n",
       "      <th>user_ratings_count_per_capipa</th>\n",
       "      <th>rating_weighed_population_density</th>\n",
       "    </tr>\n",
       "  </thead>\n",
       "  <tbody>\n",
       "    <tr>\n",
       "      <td>0</td>\n",
       "      <td>2.0</td>\n",
       "      <td>3.4</td>\n",
       "      <td>276</td>\n",
       "      <td>0</td>\n",
       "      <td>0</td>\n",
       "      <td>0</td>\n",
       "      <td>0</td>\n",
       "      <td>0</td>\n",
       "      <td>0</td>\n",
       "      <td>0</td>\n",
       "      <td>0</td>\n",
       "      <td>0</td>\n",
       "      <td>0</td>\n",
       "      <td>0</td>\n",
       "      <td>0</td>\n",
       "      <td>0</td>\n",
       "      <td>0</td>\n",
       "      <td>0</td>\n",
       "      <td>0</td>\n",
       "      <td>1</td>\n",
       "      <td>0</td>\n",
       "      <td>0</td>\n",
       "      <td>0</td>\n",
       "      <td>0</td>\n",
       "      <td>0</td>\n",
       "      <td>0</td>\n",
       "      <td>0</td>\n",
       "      <td>0</td>\n",
       "      <td>0</td>\n",
       "      <td>0</td>\n",
       "      <td>0</td>\n",
       "      <td>0</td>\n",
       "      <td>0</td>\n",
       "      <td>0</td>\n",
       "      <td>0</td>\n",
       "      <td>0</td>\n",
       "      <td>0</td>\n",
       "      <td>0</td>\n",
       "      <td>0</td>\n",
       "      <td>0</td>\n",
       "      <td>0</td>\n",
       "      <td>0</td>\n",
       "      <td>0</td>\n",
       "      <td>0</td>\n",
       "      <td>0</td>\n",
       "      <td>0</td>\n",
       "      <td>1</td>\n",
       "      <td>0</td>\n",
       "      <td>0</td>\n",
       "      <td>0</td>\n",
       "      <td>0</td>\n",
       "      <td>0</td>\n",
       "      <td>0</td>\n",
       "      <td>0</td>\n",
       "      <td>1</td>\n",
       "      <td>0</td>\n",
       "      <td>0</td>\n",
       "      <td>0</td>\n",
       "      <td>22924</td>\n",
       "      <td>37306.6</td>\n",
       "      <td>14141</td>\n",
       "      <td>3.879086</td>\n",
       "      <td>2.0</td>\n",
       "      <td>4.144262</td>\n",
       "      <td>1900.721311</td>\n",
       "      <td>0.012040</td>\n",
       "      <td>126842.44</td>\n",
       "    </tr>\n",
       "    <tr>\n",
       "      <td>1</td>\n",
       "      <td>2.0</td>\n",
       "      <td>3.9</td>\n",
       "      <td>50</td>\n",
       "      <td>0</td>\n",
       "      <td>0</td>\n",
       "      <td>0</td>\n",
       "      <td>0</td>\n",
       "      <td>0</td>\n",
       "      <td>0</td>\n",
       "      <td>0</td>\n",
       "      <td>0</td>\n",
       "      <td>0</td>\n",
       "      <td>0</td>\n",
       "      <td>0</td>\n",
       "      <td>1</td>\n",
       "      <td>1</td>\n",
       "      <td>0</td>\n",
       "      <td>0</td>\n",
       "      <td>0</td>\n",
       "      <td>1</td>\n",
       "      <td>0</td>\n",
       "      <td>0</td>\n",
       "      <td>1</td>\n",
       "      <td>0</td>\n",
       "      <td>0</td>\n",
       "      <td>0</td>\n",
       "      <td>0</td>\n",
       "      <td>0</td>\n",
       "      <td>0</td>\n",
       "      <td>0</td>\n",
       "      <td>0</td>\n",
       "      <td>0</td>\n",
       "      <td>0</td>\n",
       "      <td>0</td>\n",
       "      <td>0</td>\n",
       "      <td>0</td>\n",
       "      <td>0</td>\n",
       "      <td>0</td>\n",
       "      <td>0</td>\n",
       "      <td>0</td>\n",
       "      <td>0</td>\n",
       "      <td>0</td>\n",
       "      <td>0</td>\n",
       "      <td>0</td>\n",
       "      <td>0</td>\n",
       "      <td>0</td>\n",
       "      <td>1</td>\n",
       "      <td>0</td>\n",
       "      <td>0</td>\n",
       "      <td>0</td>\n",
       "      <td>0</td>\n",
       "      <td>0</td>\n",
       "      <td>0</td>\n",
       "      <td>0</td>\n",
       "      <td>1</td>\n",
       "      <td>0</td>\n",
       "      <td>0</td>\n",
       "      <td>0</td>\n",
       "      <td>22924</td>\n",
       "      <td>37306.6</td>\n",
       "      <td>14141</td>\n",
       "      <td>3.879086</td>\n",
       "      <td>2.0</td>\n",
       "      <td>4.144262</td>\n",
       "      <td>1900.721311</td>\n",
       "      <td>0.002181</td>\n",
       "      <td>145495.74</td>\n",
       "    </tr>\n",
       "    <tr>\n",
       "      <td>2</td>\n",
       "      <td>2.0</td>\n",
       "      <td>4.4</td>\n",
       "      <td>51032</td>\n",
       "      <td>0</td>\n",
       "      <td>0</td>\n",
       "      <td>0</td>\n",
       "      <td>0</td>\n",
       "      <td>0</td>\n",
       "      <td>0</td>\n",
       "      <td>0</td>\n",
       "      <td>0</td>\n",
       "      <td>0</td>\n",
       "      <td>0</td>\n",
       "      <td>0</td>\n",
       "      <td>1</td>\n",
       "      <td>0</td>\n",
       "      <td>1</td>\n",
       "      <td>0</td>\n",
       "      <td>0</td>\n",
       "      <td>1</td>\n",
       "      <td>0</td>\n",
       "      <td>0</td>\n",
       "      <td>0</td>\n",
       "      <td>0</td>\n",
       "      <td>1</td>\n",
       "      <td>0</td>\n",
       "      <td>0</td>\n",
       "      <td>0</td>\n",
       "      <td>0</td>\n",
       "      <td>0</td>\n",
       "      <td>0</td>\n",
       "      <td>1</td>\n",
       "      <td>1</td>\n",
       "      <td>0</td>\n",
       "      <td>0</td>\n",
       "      <td>0</td>\n",
       "      <td>0</td>\n",
       "      <td>0</td>\n",
       "      <td>0</td>\n",
       "      <td>0</td>\n",
       "      <td>0</td>\n",
       "      <td>0</td>\n",
       "      <td>0</td>\n",
       "      <td>0</td>\n",
       "      <td>0</td>\n",
       "      <td>0</td>\n",
       "      <td>1</td>\n",
       "      <td>0</td>\n",
       "      <td>0</td>\n",
       "      <td>0</td>\n",
       "      <td>1</td>\n",
       "      <td>0</td>\n",
       "      <td>0</td>\n",
       "      <td>0</td>\n",
       "      <td>1</td>\n",
       "      <td>0</td>\n",
       "      <td>0</td>\n",
       "      <td>0</td>\n",
       "      <td>22924</td>\n",
       "      <td>37306.6</td>\n",
       "      <td>14141</td>\n",
       "      <td>3.879086</td>\n",
       "      <td>2.0</td>\n",
       "      <td>4.144262</td>\n",
       "      <td>1900.721311</td>\n",
       "      <td>2.226139</td>\n",
       "      <td>164149.04</td>\n",
       "    </tr>\n",
       "    <tr>\n",
       "      <td>3</td>\n",
       "      <td>1.0</td>\n",
       "      <td>4.4</td>\n",
       "      <td>3962</td>\n",
       "      <td>0</td>\n",
       "      <td>0</td>\n",
       "      <td>0</td>\n",
       "      <td>0</td>\n",
       "      <td>0</td>\n",
       "      <td>0</td>\n",
       "      <td>0</td>\n",
       "      <td>0</td>\n",
       "      <td>0</td>\n",
       "      <td>0</td>\n",
       "      <td>0</td>\n",
       "      <td>1</td>\n",
       "      <td>0</td>\n",
       "      <td>0</td>\n",
       "      <td>0</td>\n",
       "      <td>0</td>\n",
       "      <td>1</td>\n",
       "      <td>0</td>\n",
       "      <td>0</td>\n",
       "      <td>0</td>\n",
       "      <td>0</td>\n",
       "      <td>0</td>\n",
       "      <td>0</td>\n",
       "      <td>0</td>\n",
       "      <td>0</td>\n",
       "      <td>0</td>\n",
       "      <td>0</td>\n",
       "      <td>0</td>\n",
       "      <td>0</td>\n",
       "      <td>0</td>\n",
       "      <td>0</td>\n",
       "      <td>0</td>\n",
       "      <td>0</td>\n",
       "      <td>0</td>\n",
       "      <td>0</td>\n",
       "      <td>0</td>\n",
       "      <td>0</td>\n",
       "      <td>0</td>\n",
       "      <td>0</td>\n",
       "      <td>0</td>\n",
       "      <td>0</td>\n",
       "      <td>0</td>\n",
       "      <td>0</td>\n",
       "      <td>1</td>\n",
       "      <td>0</td>\n",
       "      <td>0</td>\n",
       "      <td>0</td>\n",
       "      <td>0</td>\n",
       "      <td>0</td>\n",
       "      <td>0</td>\n",
       "      <td>0</td>\n",
       "      <td>1</td>\n",
       "      <td>0</td>\n",
       "      <td>0</td>\n",
       "      <td>0</td>\n",
       "      <td>22924</td>\n",
       "      <td>37306.6</td>\n",
       "      <td>14141</td>\n",
       "      <td>3.879086</td>\n",
       "      <td>2.0</td>\n",
       "      <td>4.144262</td>\n",
       "      <td>1900.721311</td>\n",
       "      <td>0.172832</td>\n",
       "      <td>164149.04</td>\n",
       "    </tr>\n",
       "    <tr>\n",
       "      <td>6</td>\n",
       "      <td>3.0</td>\n",
       "      <td>4.5</td>\n",
       "      <td>235</td>\n",
       "      <td>0</td>\n",
       "      <td>0</td>\n",
       "      <td>0</td>\n",
       "      <td>0</td>\n",
       "      <td>0</td>\n",
       "      <td>0</td>\n",
       "      <td>0</td>\n",
       "      <td>0</td>\n",
       "      <td>0</td>\n",
       "      <td>0</td>\n",
       "      <td>0</td>\n",
       "      <td>1</td>\n",
       "      <td>0</td>\n",
       "      <td>0</td>\n",
       "      <td>0</td>\n",
       "      <td>0</td>\n",
       "      <td>1</td>\n",
       "      <td>0</td>\n",
       "      <td>0</td>\n",
       "      <td>0</td>\n",
       "      <td>0</td>\n",
       "      <td>0</td>\n",
       "      <td>0</td>\n",
       "      <td>0</td>\n",
       "      <td>0</td>\n",
       "      <td>0</td>\n",
       "      <td>0</td>\n",
       "      <td>0</td>\n",
       "      <td>0</td>\n",
       "      <td>0</td>\n",
       "      <td>0</td>\n",
       "      <td>0</td>\n",
       "      <td>0</td>\n",
       "      <td>0</td>\n",
       "      <td>0</td>\n",
       "      <td>0</td>\n",
       "      <td>0</td>\n",
       "      <td>0</td>\n",
       "      <td>0</td>\n",
       "      <td>0</td>\n",
       "      <td>0</td>\n",
       "      <td>0</td>\n",
       "      <td>0</td>\n",
       "      <td>1</td>\n",
       "      <td>0</td>\n",
       "      <td>0</td>\n",
       "      <td>0</td>\n",
       "      <td>0</td>\n",
       "      <td>0</td>\n",
       "      <td>0</td>\n",
       "      <td>0</td>\n",
       "      <td>1</td>\n",
       "      <td>0</td>\n",
       "      <td>0</td>\n",
       "      <td>0</td>\n",
       "      <td>22924</td>\n",
       "      <td>37306.6</td>\n",
       "      <td>14141</td>\n",
       "      <td>3.879086</td>\n",
       "      <td>2.0</td>\n",
       "      <td>4.144262</td>\n",
       "      <td>1900.721311</td>\n",
       "      <td>0.010251</td>\n",
       "      <td>167879.70</td>\n",
       "    </tr>\n",
       "  </tbody>\n",
       "</table>\n",
       "</div>"
      ],
      "text/plain": [
       "   price_level  rating  user_ratings_total  art_gallery  atm  bakery  bar  \\\n",
       "0          2.0     3.4                 276            0    0       0    0   \n",
       "1          2.0     3.9                  50            0    0       0    0   \n",
       "2          2.0     4.4               51032            0    0       0    0   \n",
       "3          1.0     4.4                3962            0    0       0    0   \n",
       "6          3.0     4.5                 235            0    0       0    0   \n",
       "\n",
       "   beauty_salon  bicycle_store  book_store  cafe  car_dealer  car_repair  \\\n",
       "0             0              0           0     0           0           0   \n",
       "1             0              0           0     0           0           0   \n",
       "2             0              0           0     0           0           0   \n",
       "3             0              0           0     0           0           0   \n",
       "6             0              0           0     0           0           0   \n",
       "\n",
       "   car_wash  clothing_store  convenience_store  department_store  drugstore  \\\n",
       "0         0               0                  0                 0          0   \n",
       "1         0               1                  1                 0          0   \n",
       "2         0               1                  0                 1          0   \n",
       "3         0               1                  0                 0          0   \n",
       "6         0               1                  0                 0          0   \n",
       "\n",
       "   electronics_store  establishment  finance  florist  food  funeral_home  \\\n",
       "0                  0              1        0        0     0             0   \n",
       "1                  0              1        0        0     1             0   \n",
       "2                  0              1        0        0     0             0   \n",
       "3                  0              1        0        0     0             0   \n",
       "6                  0              1        0        0     0             0   \n",
       "\n",
       "   furniture_store  gas_station  general_contractor  grocery_or_supermarket  \\\n",
       "0                0            0                   0                       0   \n",
       "1                0            0                   0                       0   \n",
       "2                1            0                   0                       0   \n",
       "3                0            0                   0                       0   \n",
       "6                0            0                   0                       0   \n",
       "\n",
       "   hair_care  hardware_store  health  home_goods_store  jewelry_store  \\\n",
       "0          0               0       0                 0              0   \n",
       "1          0               0       0                 0              0   \n",
       "2          0               0       0                 1              1   \n",
       "3          0               0       0                 0              0   \n",
       "6          0               0       0                 0              0   \n",
       "\n",
       "   laundry  liquor_store  local_government_office  locksmith  lodging  \\\n",
       "0        0             0                        0          0        0   \n",
       "1        0             0                        0          0        0   \n",
       "2        0             0                        0          0        0   \n",
       "3        0             0                        0          0        0   \n",
       "6        0             0                        0          0        0   \n",
       "\n",
       "   meal_delivery  meal_takeaway  movie_rental  night_club  park  parking  \\\n",
       "0              0              0             0           0     0        0   \n",
       "1              0              0             0           0     0        0   \n",
       "2              0              0             0           0     0        0   \n",
       "3              0              0             0           0     0        0   \n",
       "6              0              0             0           0     0        0   \n",
       "\n",
       "   pet_store  pharmacy  point_of_interest  premise  restaurant  school  \\\n",
       "0          0         0                  1        0           0       0   \n",
       "1          0         0                  1        0           0       0   \n",
       "2          0         0                  1        0           0       0   \n",
       "3          0         0                  1        0           0       0   \n",
       "6          0         0                  1        0           0       0   \n",
       "\n",
       "   shoe_store  shopping_mall  spa  storage  store  supermarket  \\\n",
       "0           0              0    0        0      1            0   \n",
       "1           0              0    0        0      1            0   \n",
       "2           1              0    0        0      1            0   \n",
       "3           0              0    0        0      1            0   \n",
       "6           0              0    0        0      1            0   \n",
       "\n",
       "   tourist_attraction  travel_agency  population  \\\n",
       "0                   0              0       22924   \n",
       "1                   0              0       22924   \n",
       "2                   0              0       22924   \n",
       "3                   0              0       22924   \n",
       "6                   0              0       22924   \n",
       "\n",
       "   population_density_square_miles  housing_units  \\\n",
       "0                          37306.6          14141   \n",
       "1                          37306.6          14141   \n",
       "2                          37306.6          14141   \n",
       "3                          37306.6          14141   \n",
       "6                          37306.6          14141   \n",
       "\n",
       "   home_price_to_income_ratios  avg_price_level_by_zipcode  \\\n",
       "0                     3.879086                         2.0   \n",
       "1                     3.879086                         2.0   \n",
       "2                     3.879086                         2.0   \n",
       "3                     3.879086                         2.0   \n",
       "6                     3.879086                         2.0   \n",
       "\n",
       "   avg_rating_by_zipcode  avg_user_ratings_total_by_zipcode  \\\n",
       "0               4.144262                        1900.721311   \n",
       "1               4.144262                        1900.721311   \n",
       "2               4.144262                        1900.721311   \n",
       "3               4.144262                        1900.721311   \n",
       "6               4.144262                        1900.721311   \n",
       "\n",
       "   user_ratings_count_per_capipa  rating_weighed_population_density  \n",
       "0                       0.012040                          126842.44  \n",
       "1                       0.002181                          145495.74  \n",
       "2                       2.226139                          164149.04  \n",
       "3                       0.172832                          164149.04  \n",
       "6                       0.010251                          167879.70  "
      ]
     },
     "execution_count": 31,
     "metadata": {},
     "output_type": "execute_result"
    }
   ],
   "source": [
    "final.head()"
   ]
  },
  {
   "cell_type": "code",
   "execution_count": 32,
   "metadata": {},
   "outputs": [],
   "source": [
    "from sklearn.utils import shuffle\n",
    "index = final.index\n",
    "final = shuffle(final)\n",
    "final.index = index"
   ]
  },
  {
   "cell_type": "code",
   "execution_count": 33,
   "metadata": {},
   "outputs": [],
   "source": [
    "\n",
    "target = 'home_price_to_income_ratios'\n",
    "X = final.drop(columns=target)\n",
    "y = final[target]"
   ]
  },
  {
   "cell_type": "code",
   "execution_count": 34,
   "metadata": {},
   "outputs": [],
   "source": [
    "X_train, X_test, y_train, y_test = train_test_split(X, y, random_state=30, train_size=0.70)"
   ]
  },
  {
   "cell_type": "code",
   "execution_count": 82,
   "metadata": {
    "scrolled": true
   },
   "outputs": [
    {
     "data": {
      "text/plain": [
       "Index(['price_level', 'rating', 'user_ratings_total', 'art_gallery', 'atm',\n",
       "       'bakery', 'bar', 'beauty_salon', 'bicycle_store', 'book_store', 'cafe',\n",
       "       'car_dealer', 'car_repair', 'car_wash', 'clothing_store',\n",
       "       'convenience_store', 'department_store', 'drugstore',\n",
       "       'electronics_store', 'establishment', 'finance', 'florist', 'food',\n",
       "       'funeral_home', 'furniture_store', 'gas_station', 'general_contractor',\n",
       "       'grocery_or_supermarket', 'hair_care', 'hardware_store', 'health',\n",
       "       'home_goods_store', 'jewelry_store', 'laundry', 'liquor_store',\n",
       "       'local_government_office', 'locksmith', 'lodging', 'meal_delivery',\n",
       "       'meal_takeaway', 'movie_rental', 'night_club', 'park', 'parking',\n",
       "       'pet_store', 'pharmacy', 'point_of_interest', 'premise', 'restaurant',\n",
       "       'school', 'shoe_store', 'shopping_mall', 'spa', 'storage', 'store',\n",
       "       'supermarket', 'tourist_attraction', 'travel_agency', 'population',\n",
       "       'population_density_square_miles', 'housing_units',\n",
       "       'avg_price_level_by_zipcode', 'avg_rating_by_zipcode',\n",
       "       'avg_user_ratings_total_by_zipcode', 'user_ratings_count_per_capipa',\n",
       "       'rating_weighed_population_density'],\n",
       "      dtype='object')"
      ]
     },
     "execution_count": 82,
     "metadata": {},
     "output_type": "execute_result"
    }
   ],
   "source": [
    "X_train.columns"
   ]
  },
  {
   "cell_type": "code",
   "execution_count": 84,
   "metadata": {
    "scrolled": true
   },
   "outputs": [
    {
     "data": {
      "text/plain": [
       "794     17.566794\n",
       "4536     9.273812\n",
       "3314     9.212432\n",
       "6333    11.886419\n",
       "8304     3.879086\n",
       "          ...    \n",
       "8099     3.879086\n",
       "1222    16.581300\n",
       "689      5.594752\n",
       "6220     6.999792\n",
       "7261     4.688635\n",
       "Name: home_price_to_income_ratios, Length: 3654, dtype: float64"
      ]
     },
     "execution_count": 84,
     "metadata": {},
     "output_type": "execute_result"
    }
   ],
   "source": [
    "y_train"
   ]
  },
  {
   "cell_type": "code",
   "execution_count": 87,
   "metadata": {},
   "outputs": [
    {
     "data": {
      "text/plain": [
       "array([ True,  True,  True,  True,  True,  True,  True,  True,  True,\n",
       "        True,  True,  True,  True,  True,  True,  True,  True,  True,\n",
       "        True,  True,  True,  True,  True,  True,  True,  True,  True,\n",
       "        True,  True,  True,  True,  True,  True,  True,  True,  True,\n",
       "        True,  True,  True,  True,  True,  True,  True,  True,  True,\n",
       "        True,  True,  True,  True,  True,  True,  True,  True,  True,\n",
       "        True,  True,  True,  True,  True,  True,  True,  True,  True,\n",
       "        True,  True,  True])"
      ]
     },
     "execution_count": 87,
     "metadata": {},
     "output_type": "execute_result"
    }
   ],
   "source": [
    "X_test.columns == X_train.columns"
   ]
  },
  {
   "cell_type": "markdown",
   "metadata": {},
   "source": [
    "### Linear Regression"
   ]
  },
  {
   "cell_type": "code",
   "execution_count": 35,
   "metadata": {},
   "outputs": [],
   "source": [
    "lr = LinearRegression()"
   ]
  },
  {
   "cell_type": "code",
   "execution_count": 36,
   "metadata": {},
   "outputs": [
    {
     "data": {
      "text/plain": [
       "LinearRegression(copy_X=True, fit_intercept=True, n_jobs=None, normalize=False)"
      ]
     },
     "execution_count": 36,
     "metadata": {},
     "output_type": "execute_result"
    }
   ],
   "source": [
    "lr.fit(X_train, y_train)"
   ]
  },
  {
   "cell_type": "code",
   "execution_count": 37,
   "metadata": {},
   "outputs": [
    {
     "data": {
      "text/plain": [
       "0.1817782748098462"
      ]
     },
     "execution_count": 37,
     "metadata": {},
     "output_type": "execute_result"
    }
   ],
   "source": [
    "lr.score(X_train, y_train)"
   ]
  },
  {
   "cell_type": "code",
   "execution_count": 38,
   "metadata": {},
   "outputs": [
    {
     "data": {
      "text/plain": [
       "0.1711929923455815"
      ]
     },
     "execution_count": 38,
     "metadata": {},
     "output_type": "execute_result"
    }
   ],
   "source": [
    "lr.score(X_test, y_test)"
   ]
  },
  {
   "cell_type": "code",
   "execution_count": 39,
   "metadata": {},
   "outputs": [
    {
     "data": {
      "text/plain": [
       "0.15906372360351917"
      ]
     },
     "execution_count": 39,
     "metadata": {},
     "output_type": "execute_result"
    }
   ],
   "source": [
    "cross_val_score(lr, X, y, cv=5).mean()"
   ]
  },
  {
   "cell_type": "markdown",
   "metadata": {},
   "source": [
    "### KNN"
   ]
  },
  {
   "cell_type": "code",
   "execution_count": 41,
   "metadata": {},
   "outputs": [],
   "source": [
    "# Use a pipeline to combine StandardScaler and KNN\n",
    "pipe = Pipeline(steps=[\n",
    "    ('sc', StandardScaler()),\n",
    "    ('knn', KNeighborsRegressor())\n",
    "])\n",
    "\n",
    "pipe_params = {\n",
    "    'knn__n_neighbors': [3, 5, 10],\n",
    "    'knn__p' : [1, 2]\n",
    "}\n",
    "\n",
    "gs_knn = GridSearchCV(\n",
    "    pipe,\n",
    "    pipe_params,\n",
    "    cv=5\n",
    ").fit(X_train, y_train);"
   ]
  },
  {
   "cell_type": "code",
   "execution_count": 126,
   "metadata": {},
   "outputs": [
    {
     "data": {
      "text/plain": [
       "{'knn__n_neighbors': 5, 'knn__p': 1}"
      ]
     },
     "execution_count": 126,
     "metadata": {},
     "output_type": "execute_result"
    }
   ],
   "source": [
    "gs_knn.best_params_"
   ]
  },
  {
   "cell_type": "code",
   "execution_count": 42,
   "metadata": {},
   "outputs": [
    {
     "data": {
      "text/plain": [
       "0.45688696896295655"
      ]
     },
     "execution_count": 42,
     "metadata": {},
     "output_type": "execute_result"
    }
   ],
   "source": [
    "gs_knn.best_score_"
   ]
  },
  {
   "cell_type": "code",
   "execution_count": 43,
   "metadata": {},
   "outputs": [
    {
     "data": {
      "text/plain": [
       "0.6897169707349375"
      ]
     },
     "execution_count": 43,
     "metadata": {},
     "output_type": "execute_result"
    }
   ],
   "source": [
    "gs_knn.score(X_train, y_train)"
   ]
  },
  {
   "cell_type": "code",
   "execution_count": 44,
   "metadata": {},
   "outputs": [
    {
     "data": {
      "text/plain": [
       "0.5255910519194276"
      ]
     },
     "execution_count": 44,
     "metadata": {},
     "output_type": "execute_result"
    }
   ],
   "source": [
    "gs_knn.score(X_test, y_test)"
   ]
  },
  {
   "cell_type": "code",
   "execution_count": 45,
   "metadata": {},
   "outputs": [
    {
     "data": {
      "text/plain": [
       "0.5368618881353896"
      ]
     },
     "execution_count": 45,
     "metadata": {},
     "output_type": "execute_result"
    }
   ],
   "source": [
    "cross_val_score(gs_knn.best_estimator_, X, y, scoring='r2', cv=5).mean()"
   ]
  },
  {
   "cell_type": "markdown",
   "metadata": {},
   "source": [
    "### Tree"
   ]
  },
  {
   "cell_type": "code",
   "execution_count": 46,
   "metadata": {},
   "outputs": [],
   "source": [
    "# Use grid search to find best hyperparams\n",
    "gs_tree = GridSearchCV(\n",
    "    estimator = DecisionTreeRegressor(random_state=42),\n",
    "    param_grid = {\n",
    "        'max_depth' : [10, 30, 50],\n",
    "        'min_samples_split' : [5, 10, 15],\n",
    "        'min_samples_leaf' : [2, 3, 4],\n",
    "    },\n",
    "    cv=5\n",
    ").fit(X_train, y_train)"
   ]
  },
  {
   "cell_type": "code",
   "execution_count": 47,
   "metadata": {
    "scrolled": true
   },
   "outputs": [
    {
     "data": {
      "text/plain": [
       "{'max_depth': 30, 'min_samples_leaf': 2, 'min_samples_split': 10}"
      ]
     },
     "execution_count": 47,
     "metadata": {},
     "output_type": "execute_result"
    }
   ],
   "source": [
    "gs_tree.best_params_"
   ]
  },
  {
   "cell_type": "code",
   "execution_count": 48,
   "metadata": {},
   "outputs": [
    {
     "data": {
      "text/plain": [
       "0.9967264971320761"
      ]
     },
     "execution_count": 48,
     "metadata": {},
     "output_type": "execute_result"
    }
   ],
   "source": [
    "gs_tree.best_score_"
   ]
  },
  {
   "cell_type": "code",
   "execution_count": 49,
   "metadata": {},
   "outputs": [
    {
     "data": {
      "text/plain": [
       "0.9998505489238874"
      ]
     },
     "execution_count": 49,
     "metadata": {},
     "output_type": "execute_result"
    }
   ],
   "source": [
    "gs_tree.score(X_train, y_train)"
   ]
  },
  {
   "cell_type": "code",
   "execution_count": 50,
   "metadata": {},
   "outputs": [
    {
     "data": {
      "text/plain": [
       "0.9997135447455875"
      ]
     },
     "execution_count": 50,
     "metadata": {},
     "output_type": "execute_result"
    }
   ],
   "source": [
    "gs_tree.score(X_test, y_test)"
   ]
  },
  {
   "cell_type": "code",
   "execution_count": 51,
   "metadata": {},
   "outputs": [
    {
     "data": {
      "text/plain": [
       "0.9982456023921596"
      ]
     },
     "execution_count": 51,
     "metadata": {},
     "output_type": "execute_result"
    }
   ],
   "source": [
    "cross_val_score(gs_tree.best_estimator_, X, y, scoring='r2', cv=5).mean()"
   ]
  },
  {
   "cell_type": "code",
   "execution_count": 135,
   "metadata": {
    "scrolled": false
   },
   "outputs": [],
   "source": [
    "feature_importance = pd.DataFrame(dict(zip(X_train.columns, gs_tree.best_estimator_.feature_importances_)).items())"
   ]
  },
  {
   "cell_type": "code",
   "execution_count": 148,
   "metadata": {},
   "outputs": [],
   "source": [
    "feature_importance = feature_importance.sort_values(by=[1])"
   ]
  },
  {
   "cell_type": "code",
   "execution_count": 149,
   "metadata": {},
   "outputs": [
    {
     "data": {
      "text/plain": [
       "<BarContainer object of 66 artists>"
      ]
     },
     "execution_count": 149,
     "metadata": {},
     "output_type": "execute_result"
    },
    {
     "data": {
      "image/png": "[encoded data removed]",
      "text/plain": [
       "<Figure size 720x1080 with 1 Axes>"
      ]
     },
     "metadata": {
      "needs_background": "light"
     },
     "output_type": "display_data"
    }
   ],
   "source": [
    "plt.figure(figsize=(10, 15))\n",
    "plt.barh(y = feature_importance[0], width=feature_importance[1])"
   ]
  },
  {
   "cell_type": "markdown",
   "metadata": {},
   "source": [
    "### Bagged Tree"
   ]
  },
  {
   "cell_type": "code",
   "execution_count": 53,
   "metadata": {},
   "outputs": [],
   "source": [
    "bag = BaggingRegressor(random_state=42).fit(X_train, y_train)"
   ]
  },
  {
   "cell_type": "code",
   "execution_count": 54,
   "metadata": {},
   "outputs": [
    {
     "data": {
      "text/plain": [
       "0.999695740059447"
      ]
     },
     "execution_count": 54,
     "metadata": {},
     "output_type": "execute_result"
    }
   ],
   "source": [
    "bag.score(X_train, y_train)"
   ]
  },
  {
   "cell_type": "code",
   "execution_count": 55,
   "metadata": {
    "scrolled": true
   },
   "outputs": [
    {
     "data": {
      "text/plain": [
       "0.9998826027823909"
      ]
     },
     "execution_count": 55,
     "metadata": {},
     "output_type": "execute_result"
    }
   ],
   "source": [
    "bag.score(X_test, y_test)"
   ]
  },
  {
   "cell_type": "code",
   "execution_count": 56,
   "metadata": {},
   "outputs": [],
   "source": [
    "preds = bag.predict(X_test)"
   ]
  },
  {
   "cell_type": "code",
   "execution_count": 80,
   "metadata": {},
   "outputs": [
    {
     "data": {
      "text/plain": [
       "4405    15.011575\n",
       "918      3.879086\n",
       "1567    10.834373\n",
       "189      6.262744\n",
       "Name: home_price_to_income_ratios, dtype: float64"
      ]
     },
     "execution_count": 80,
     "metadata": {},
     "output_type": "execute_result"
    }
   ],
   "source": [
    "y_test[1:5]"
   ]
  },
  {
   "cell_type": "code",
   "execution_count": 81,
   "metadata": {
    "scrolled": true
   },
   "outputs": [
    {
     "data": {
      "text/plain": [
       "array([15.011575  ,  3.87908637, 10.83437343,  6.26274396])"
      ]
     },
     "execution_count": 81,
     "metadata": {},
     "output_type": "execute_result"
    }
   ],
   "source": [
    "preds[1:5]"
   ]
  },
  {
   "cell_type": "code",
   "execution_count": 57,
   "metadata": {
    "scrolled": true
   },
   "outputs": [
    {
     "data": {
      "text/plain": [
       "<matplotlib.axes._subplots.AxesSubplot at 0x13670f9d0>"
      ]
     },
     "execution_count": 57,
     "metadata": {},
     "output_type": "execute_result"
    },
    {
     "data": {
      "image/png": "[encoded data removed]",
      "text/plain": [
       "<Figure size 432x288 with 1 Axes>"
      ]
     },
     "metadata": {
      "needs_background": "light"
     },
     "output_type": "display_data"
    }
   ],
   "source": [
    "sns.scatterplot(x = y_test, y = preds, alpha = .5)"
   ]
  },
  {
   "cell_type": "code",
   "execution_count": 58,
   "metadata": {},
   "outputs": [],
   "source": [
    "resids = y_test - preds"
   ]
  },
  {
   "cell_type": "code",
   "execution_count": 59,
   "metadata": {},
   "outputs": [
    {
     "data": {
      "text/plain": [
       "<matplotlib.axes._subplots.AxesSubplot at 0x134f3d810>"
      ]
     },
     "execution_count": 59,
     "metadata": {},
     "output_type": "execute_result"
    },
    {
     "data": {
      "image/png": "[encoded data removed]",
      "text/plain": [
       "<Figure size 432x288 with 1 Axes>"
      ]
     },
     "metadata": {
      "needs_background": "light"
     },
     "output_type": "display_data"
    }
   ],
   "source": [
    "sns.scatterplot(x = range(len(resids)),y = resids, alpha = .5)"
   ]
  },
  {
   "cell_type": "markdown",
   "metadata": {},
   "source": [
    "### Ada Boost"
   ]
  },
  {
   "cell_type": "code",
   "execution_count": 60,
   "metadata": {},
   "outputs": [],
   "source": [
    "ad = AdaBoostRegressor(random_state=42).fit(X_train, y_train)"
   ]
  },
  {
   "cell_type": "code",
   "execution_count": 61,
   "metadata": {},
   "outputs": [
    {
     "data": {
      "text/plain": [
       "0.6321262445630966"
      ]
     },
     "execution_count": 61,
     "metadata": {},
     "output_type": "execute_result"
    }
   ],
   "source": [
    "ad.score(X_train, y_train)"
   ]
  },
  {
   "cell_type": "code",
   "execution_count": 62,
   "metadata": {},
   "outputs": [
    {
     "data": {
      "text/plain": [
       "0.6499207151937794"
      ]
     },
     "execution_count": 62,
     "metadata": {},
     "output_type": "execute_result"
    }
   ],
   "source": [
    "ad.score(X_test, y_test)"
   ]
  },
  {
   "cell_type": "code",
   "execution_count": 63,
   "metadata": {},
   "outputs": [
    {
     "data": {
      "text/plain": [
       "0.6225999345454667"
      ]
     },
     "execution_count": 63,
     "metadata": {},
     "output_type": "execute_result"
    }
   ],
   "source": [
    "cross_val_score(ad, X, y, scoring='r2', cv=5).mean()"
   ]
  },
  {
   "cell_type": "code",
   "execution_count": 64,
   "metadata": {},
   "outputs": [
    {
     "data": {
      "text/plain": [
       "array([15.08143844, 12.23537077,  9.63079641, ...,  9.61108242,\n",
       "        9.16096521,  7.86674328])"
      ]
     },
     "execution_count": 64,
     "metadata": {},
     "output_type": "execute_result"
    }
   ],
   "source": [
    "ad.predict(X_train)"
   ]
  },
  {
   "cell_type": "markdown",
   "metadata": {},
   "source": [
    "### Support Vector Machine"
   ]
  },
  {
   "cell_type": "code",
   "execution_count": 65,
   "metadata": {},
   "outputs": [],
   "source": [
    "svr = SVR(gamma='scale').fit(X_train, y_train)"
   ]
  },
  {
   "cell_type": "code",
   "execution_count": 66,
   "metadata": {},
   "outputs": [
    {
     "data": {
      "text/plain": [
       "0.17227209478589442"
      ]
     },
     "execution_count": 66,
     "metadata": {},
     "output_type": "execute_result"
    }
   ],
   "source": [
    "svr.score(X_train, y_train)"
   ]
  },
  {
   "cell_type": "code",
   "execution_count": 67,
   "metadata": {},
   "outputs": [
    {
     "data": {
      "text/plain": [
       "0.1978444629554198"
      ]
     },
     "execution_count": 67,
     "metadata": {},
     "output_type": "execute_result"
    }
   ],
   "source": [
    "svr.score(X_test, y_test)"
   ]
  },
  {
   "cell_type": "code",
   "execution_count": 68,
   "metadata": {},
   "outputs": [
    {
     "data": {
      "text/plain": [
       "0.17558613471601145"
      ]
     },
     "execution_count": 68,
     "metadata": {},
     "output_type": "execute_result"
    }
   ],
   "source": [
    "cross_val_score(svr, X, y, scoring='r2', cv=5).mean()"
   ]
  },
  {
   "cell_type": "markdown",
   "metadata": {},
   "source": [
    "### Baseline Model"
   ]
  },
  {
   "cell_type": "code",
   "execution_count": 69,
   "metadata": {},
   "outputs": [],
   "source": [
    "from sklearn.dummy import DummyRegressor"
   ]
  },
  {
   "cell_type": "code",
   "execution_count": 123,
   "metadata": {},
   "outputs": [
    {
     "data": {
      "text/plain": [
       "DummyRegressor(constant=20, quantile=None, strategy='mean')"
      ]
     },
     "execution_count": 123,
     "metadata": {},
     "output_type": "execute_result"
    }
   ],
   "source": [
    "# Create a dummy regressor\n",
    "dummy_mean = DummyRegressor(strategy='mean', constant=20)\n",
    "\n",
    "# \"Train\" dummy regressor\n",
    "dummy_mean.fit(X_train, y_train)"
   ]
  },
  {
   "cell_type": "code",
   "execution_count": 124,
   "metadata": {},
   "outputs": [
    {
     "data": {
      "text/plain": [
       "0.0"
      ]
     },
     "execution_count": 124,
     "metadata": {},
     "output_type": "execute_result"
    }
   ],
   "source": [
    "dummy_mean.score(X_train, y_train)"
   ]
  },
  {
   "cell_type": "code",
   "execution_count": 125,
   "metadata": {},
   "outputs": [
    {
     "data": {
      "text/plain": [
       "-0.00016066670563885666"
      ]
     },
     "execution_count": 125,
     "metadata": {},
     "output_type": "execute_result"
    }
   ],
   "source": [
    "dummy_mean.score(X_test, y_test)"
   ]
  },
  {
   "cell_type": "markdown",
   "metadata": {},
   "source": [
    "### Polynomial Regression"
   ]
  },
  {
   "cell_type": "code",
   "execution_count": 73,
   "metadata": {},
   "outputs": [],
   "source": [
    "from sklearn.preprocessing import PolynomialFeatures"
   ]
  },
  {
   "cell_type": "code",
   "execution_count": 74,
   "metadata": {},
   "outputs": [
    {
     "data": {
      "text/plain": [
       "Pipeline(memory=None,\n",
       "         steps=[('sc',\n",
       "                 StandardScaler(copy=True, with_mean=True, with_std=True)),\n",
       "                ('poly_features',\n",
       "                 PolynomialFeatures(degree=3, include_bias=False,\n",
       "                                    interaction_only=False, order='C')),\n",
       "                ('lin_poly',\n",
       "                 LinearRegression(copy_X=True, fit_intercept=True, n_jobs=None,\n",
       "                                  normalize=False))],\n",
       "         verbose=False)"
      ]
     },
     "execution_count": 74,
     "metadata": {},
     "output_type": "execute_result"
    }
   ],
   "source": [
    "poly = Pipeline([\n",
    "    ('sc', StandardScaler()),\n",
    "    ('poly_features', PolynomialFeatures(degree=3, include_bias=False)),\n",
    "    ('lin_poly', LinearRegression())\n",
    "])\n",
    "poly.fit(X_train, y_train)"
   ]
  },
  {
   "cell_type": "code",
   "execution_count": 75,
   "metadata": {},
   "outputs": [
    {
     "data": {
      "text/plain": [
       "0.8310861430434728"
      ]
     },
     "execution_count": 75,
     "metadata": {},
     "output_type": "execute_result"
    }
   ],
   "source": [
    "poly.score(X_train, y_train)"
   ]
  },
  {
   "cell_type": "code",
   "execution_count": 76,
   "metadata": {},
   "outputs": [
    {
     "data": {
      "text/plain": [
       "-1.3311130708804719e+24"
      ]
     },
     "execution_count": 76,
     "metadata": {},
     "output_type": "execute_result"
    }
   ],
   "source": [
    "poly.score(X_test, y_test)"
   ]
  },
  {
   "cell_type": "code",
   "execution_count": 77,
   "metadata": {},
   "outputs": [
    {
     "ename": "KeyboardInterrupt",
     "evalue": "",
     "output_type": "error",
     "traceback": [
      "\u001b[0;31m---------------------------------------------------------------------------\u001b[0m",
      "\u001b[0;31mKeyboardInterrupt\u001b[0m                         Traceback (most recent call last)",
      "\u001b[0;32m<ipython-input-77-38403d10baa8>\u001b[0m in \u001b[0;36m<module>\u001b[0;34m\u001b[0m\n\u001b[0;32m----> 1\u001b[0;31m \u001b[0mcross_val_score\u001b[0m\u001b[0;34m(\u001b[0m\u001b[0mpoly\u001b[0m\u001b[0;34m,\u001b[0m \u001b[0mX\u001b[0m\u001b[0;34m,\u001b[0m \u001b[0my\u001b[0m\u001b[0;34m,\u001b[0m \u001b[0mscoring\u001b[0m\u001b[0;34m=\u001b[0m\u001b[0;34m'r2'\u001b[0m\u001b[0;34m,\u001b[0m \u001b[0mcv\u001b[0m\u001b[0;34m=\u001b[0m\u001b[0;36m5\u001b[0m\u001b[0;34m)\u001b[0m\u001b[0;34m.\u001b[0m\u001b[0mmean\u001b[0m\u001b[0;34m(\u001b[0m\u001b[0;34m)\u001b[0m\u001b[0;34m\u001b[0m\u001b[0;34m\u001b[0m\u001b[0m\n\u001b[0m",
      "\u001b[0;32m/opt/anaconda3/lib/python3.7/site-packages/sklearn/model_selection/_validation.py\u001b[0m in \u001b[0;36mcross_val_score\u001b[0;34m(estimator, X, y, groups, scoring, cv, n_jobs, verbose, fit_params, pre_dispatch, error_score)\u001b[0m\n\u001b[1;32m    389\u001b[0m                                 \u001b[0mfit_params\u001b[0m\u001b[0;34m=\u001b[0m\u001b[0mfit_params\u001b[0m\u001b[0;34m,\u001b[0m\u001b[0;34m\u001b[0m\u001b[0;34m\u001b[0m\u001b[0m\n\u001b[1;32m    390\u001b[0m                                 \u001b[0mpre_dispatch\u001b[0m\u001b[0;34m=\u001b[0m\u001b[0mpre_dispatch\u001b[0m\u001b[0;34m,\u001b[0m\u001b[0;34m\u001b[0m\u001b[0;34m\u001b[0m\u001b[0m\n\u001b[0;32m--> 391\u001b[0;31m                                 error_score=error_score)\n\u001b[0m\u001b[1;32m    392\u001b[0m     \u001b[0;32mreturn\u001b[0m \u001b[0mcv_results\u001b[0m\u001b[0;34m[\u001b[0m\u001b[0;34m'test_score'\u001b[0m\u001b[0;34m]\u001b[0m\u001b[0;34m\u001b[0m\u001b[0;34m\u001b[0m\u001b[0m\n\u001b[1;32m    393\u001b[0m \u001b[0;34m\u001b[0m\u001b[0m\n",
      "\u001b[0;32m/opt/anaconda3/lib/python3.7/site-packages/sklearn/model_selection/_validation.py\u001b[0m in \u001b[0;36mcross_validate\u001b[0;34m(estimator, X, y, groups, scoring, cv, n_jobs, verbose, fit_params, pre_dispatch, return_train_score, return_estimator, error_score)\u001b[0m\n\u001b[1;32m    230\u001b[0m             \u001b[0mreturn_times\u001b[0m\u001b[0;34m=\u001b[0m\u001b[0;32mTrue\u001b[0m\u001b[0;34m,\u001b[0m \u001b[0mreturn_estimator\u001b[0m\u001b[0;34m=\u001b[0m\u001b[0mreturn_estimator\u001b[0m\u001b[0;34m,\u001b[0m\u001b[0;34m\u001b[0m\u001b[0;34m\u001b[0m\u001b[0m\n\u001b[1;32m    231\u001b[0m             error_score=error_score)\n\u001b[0;32m--> 232\u001b[0;31m         for train, test in cv.split(X, y, groups))\n\u001b[0m\u001b[1;32m    233\u001b[0m \u001b[0;34m\u001b[0m\u001b[0m\n\u001b[1;32m    234\u001b[0m     \u001b[0mzipped_scores\u001b[0m \u001b[0;34m=\u001b[0m \u001b[0mlist\u001b[0m\u001b[0;34m(\u001b[0m\u001b[0mzip\u001b[0m\u001b[0;34m(\u001b[0m\u001b[0;34m*\u001b[0m\u001b[0mscores\u001b[0m\u001b[0;34m)\u001b[0m\u001b[0;34m)\u001b[0m\u001b[0;34m\u001b[0m\u001b[0;34m\u001b[0m\u001b[0m\n",
      "\u001b[0;32m/opt/anaconda3/lib/python3.7/site-packages/joblib/parallel.py\u001b[0m in \u001b[0;36m__call__\u001b[0;34m(self, iterable)\u001b[0m\n\u001b[1;32m    922\u001b[0m                 \u001b[0mself\u001b[0m\u001b[0;34m.\u001b[0m\u001b[0m_iterating\u001b[0m \u001b[0;34m=\u001b[0m \u001b[0mself\u001b[0m\u001b[0;34m.\u001b[0m\u001b[0m_original_iterator\u001b[0m \u001b[0;32mis\u001b[0m \u001b[0;32mnot\u001b[0m \u001b[0;32mNone\u001b[0m\u001b[0;34m\u001b[0m\u001b[0;34m\u001b[0m\u001b[0m\n\u001b[1;32m    923\u001b[0m \u001b[0;34m\u001b[0m\u001b[0m\n\u001b[0;32m--> 924\u001b[0;31m             \u001b[0;32mwhile\u001b[0m \u001b[0mself\u001b[0m\u001b[0;34m.\u001b[0m\u001b[0mdispatch_one_batch\u001b[0m\u001b[0;34m(\u001b[0m\u001b[0miterator\u001b[0m\u001b[0;34m)\u001b[0m\u001b[0;34m:\u001b[0m\u001b[0;34m\u001b[0m\u001b[0;34m\u001b[0m\u001b[0m\n\u001b[0m\u001b[1;32m    925\u001b[0m                 \u001b[0;32mpass\u001b[0m\u001b[0;34m\u001b[0m\u001b[0;34m\u001b[0m\u001b[0m\n\u001b[1;32m    926\u001b[0m \u001b[0;34m\u001b[0m\u001b[0m\n",
      "\u001b[0;32m/opt/anaconda3/lib/python3.7/site-packages/joblib/parallel.py\u001b[0m in \u001b[0;36mdispatch_one_batch\u001b[0;34m(self, iterator)\u001b[0m\n\u001b[1;32m    757\u001b[0m                 \u001b[0;32mreturn\u001b[0m \u001b[0;32mFalse\u001b[0m\u001b[0;34m\u001b[0m\u001b[0;34m\u001b[0m\u001b[0m\n\u001b[1;32m    758\u001b[0m             \u001b[0;32melse\u001b[0m\u001b[0;34m:\u001b[0m\u001b[0;34m\u001b[0m\u001b[0;34m\u001b[0m\u001b[0m\n\u001b[0;32m--> 759\u001b[0;31m                 \u001b[0mself\u001b[0m\u001b[0;34m.\u001b[0m\u001b[0m_dispatch\u001b[0m\u001b[0;34m(\u001b[0m\u001b[0mtasks\u001b[0m\u001b[0;34m)\u001b[0m\u001b[0;34m\u001b[0m\u001b[0;34m\u001b[0m\u001b[0m\n\u001b[0m\u001b[1;32m    760\u001b[0m                 \u001b[0;32mreturn\u001b[0m \u001b[0;32mTrue\u001b[0m\u001b[0;34m\u001b[0m\u001b[0;34m\u001b[0m\u001b[0m\n\u001b[1;32m    761\u001b[0m \u001b[0;34m\u001b[0m\u001b[0m\n",
      "\u001b[0;32m/opt/anaconda3/lib/python3.7/site-packages/joblib/parallel.py\u001b[0m in \u001b[0;36m_dispatch\u001b[0;34m(self, batch)\u001b[0m\n\u001b[1;32m    714\u001b[0m         \u001b[0;32mwith\u001b[0m \u001b[0mself\u001b[0m\u001b[0;34m.\u001b[0m\u001b[0m_lock\u001b[0m\u001b[0;34m:\u001b[0m\u001b[0;34m\u001b[0m\u001b[0;34m\u001b[0m\u001b[0m\n\u001b[1;32m    715\u001b[0m             \u001b[0mjob_idx\u001b[0m \u001b[0;34m=\u001b[0m \u001b[0mlen\u001b[0m\u001b[0;34m(\u001b[0m\u001b[0mself\u001b[0m\u001b[0;34m.\u001b[0m\u001b[0m_jobs\u001b[0m\u001b[0;34m)\u001b[0m\u001b[0;34m\u001b[0m\u001b[0;34m\u001b[0m\u001b[0m\n\u001b[0;32m--> 716\u001b[0;31m             \u001b[0mjob\u001b[0m \u001b[0;34m=\u001b[0m \u001b[0mself\u001b[0m\u001b[0;34m.\u001b[0m\u001b[0m_backend\u001b[0m\u001b[0;34m.\u001b[0m\u001b[0mapply_async\u001b[0m\u001b[0;34m(\u001b[0m\u001b[0mbatch\u001b[0m\u001b[0;34m,\u001b[0m \u001b[0mcallback\u001b[0m\u001b[0;34m=\u001b[0m\u001b[0mcb\u001b[0m\u001b[0;34m)\u001b[0m\u001b[0;34m\u001b[0m\u001b[0;34m\u001b[0m\u001b[0m\n\u001b[0m\u001b[1;32m    717\u001b[0m             \u001b[0;31m# A job can complete so quickly than its callback is\u001b[0m\u001b[0;34m\u001b[0m\u001b[0;34m\u001b[0m\u001b[0;34m\u001b[0m\u001b[0m\n\u001b[1;32m    718\u001b[0m             \u001b[0;31m# called before we get here, causing self._jobs to\u001b[0m\u001b[0;34m\u001b[0m\u001b[0;34m\u001b[0m\u001b[0;34m\u001b[0m\u001b[0m\n",
      "\u001b[0;32m/opt/anaconda3/lib/python3.7/site-packages/joblib/_parallel_backends.py\u001b[0m in \u001b[0;36mapply_async\u001b[0;34m(self, func, callback)\u001b[0m\n\u001b[1;32m    180\u001b[0m     \u001b[0;32mdef\u001b[0m \u001b[0mapply_async\u001b[0m\u001b[0;34m(\u001b[0m\u001b[0mself\u001b[0m\u001b[0;34m,\u001b[0m \u001b[0mfunc\u001b[0m\u001b[0;34m,\u001b[0m \u001b[0mcallback\u001b[0m\u001b[0;34m=\u001b[0m\u001b[0;32mNone\u001b[0m\u001b[0;34m)\u001b[0m\u001b[0;34m:\u001b[0m\u001b[0;34m\u001b[0m\u001b[0;34m\u001b[0m\u001b[0m\n\u001b[1;32m    181\u001b[0m         \u001b[0;34m\"\"\"Schedule a func to be run\"\"\"\u001b[0m\u001b[0;34m\u001b[0m\u001b[0;34m\u001b[0m\u001b[0m\n\u001b[0;32m--> 182\u001b[0;31m         \u001b[0mresult\u001b[0m \u001b[0;34m=\u001b[0m \u001b[0mImmediateResult\u001b[0m\u001b[0;34m(\u001b[0m\u001b[0mfunc\u001b[0m\u001b[0;34m)\u001b[0m\u001b[0;34m\u001b[0m\u001b[0;34m\u001b[0m\u001b[0m\n\u001b[0m\u001b[1;32m    183\u001b[0m         \u001b[0;32mif\u001b[0m \u001b[0mcallback\u001b[0m\u001b[0;34m:\u001b[0m\u001b[0;34m\u001b[0m\u001b[0;34m\u001b[0m\u001b[0m\n\u001b[1;32m    184\u001b[0m             \u001b[0mcallback\u001b[0m\u001b[0;34m(\u001b[0m\u001b[0mresult\u001b[0m\u001b[0;34m)\u001b[0m\u001b[0;34m\u001b[0m\u001b[0;34m\u001b[0m\u001b[0m\n",
      "\u001b[0;32m/opt/anaconda3/lib/python3.7/site-packages/joblib/_parallel_backends.py\u001b[0m in \u001b[0;36m__init__\u001b[0;34m(self, batch)\u001b[0m\n\u001b[1;32m    547\u001b[0m         \u001b[0;31m# Don't delay the application, to avoid keeping the input\u001b[0m\u001b[0;34m\u001b[0m\u001b[0;34m\u001b[0m\u001b[0;34m\u001b[0m\u001b[0m\n\u001b[1;32m    548\u001b[0m         \u001b[0;31m# arguments in memory\u001b[0m\u001b[0;34m\u001b[0m\u001b[0;34m\u001b[0m\u001b[0;34m\u001b[0m\u001b[0m\n\u001b[0;32m--> 549\u001b[0;31m         \u001b[0mself\u001b[0m\u001b[0;34m.\u001b[0m\u001b[0mresults\u001b[0m \u001b[0;34m=\u001b[0m \u001b[0mbatch\u001b[0m\u001b[0;34m(\u001b[0m\u001b[0;34m)\u001b[0m\u001b[0;34m\u001b[0m\u001b[0;34m\u001b[0m\u001b[0m\n\u001b[0m\u001b[1;32m    550\u001b[0m \u001b[0;34m\u001b[0m\u001b[0m\n\u001b[1;32m    551\u001b[0m     \u001b[0;32mdef\u001b[0m \u001b[0mget\u001b[0m\u001b[0;34m(\u001b[0m\u001b[0mself\u001b[0m\u001b[0;34m)\u001b[0m\u001b[0;34m:\u001b[0m\u001b[0;34m\u001b[0m\u001b[0;34m\u001b[0m\u001b[0m\n",
      "\u001b[0;32m/opt/anaconda3/lib/python3.7/site-packages/joblib/parallel.py\u001b[0m in \u001b[0;36m__call__\u001b[0;34m(self)\u001b[0m\n\u001b[1;32m    223\u001b[0m         \u001b[0;32mwith\u001b[0m \u001b[0mparallel_backend\u001b[0m\u001b[0;34m(\u001b[0m\u001b[0mself\u001b[0m\u001b[0;34m.\u001b[0m\u001b[0m_backend\u001b[0m\u001b[0;34m,\u001b[0m \u001b[0mn_jobs\u001b[0m\u001b[0;34m=\u001b[0m\u001b[0mself\u001b[0m\u001b[0;34m.\u001b[0m\u001b[0m_n_jobs\u001b[0m\u001b[0;34m)\u001b[0m\u001b[0;34m:\u001b[0m\u001b[0;34m\u001b[0m\u001b[0;34m\u001b[0m\u001b[0m\n\u001b[1;32m    224\u001b[0m             return [func(*args, **kwargs)\n\u001b[0;32m--> 225\u001b[0;31m                     for func, args, kwargs in self.items]\n\u001b[0m\u001b[1;32m    226\u001b[0m \u001b[0;34m\u001b[0m\u001b[0m\n\u001b[1;32m    227\u001b[0m     \u001b[0;32mdef\u001b[0m \u001b[0m__len__\u001b[0m\u001b[0;34m(\u001b[0m\u001b[0mself\u001b[0m\u001b[0;34m)\u001b[0m\u001b[0;34m:\u001b[0m\u001b[0;34m\u001b[0m\u001b[0;34m\u001b[0m\u001b[0m\n",
      "\u001b[0;32m/opt/anaconda3/lib/python3.7/site-packages/joblib/parallel.py\u001b[0m in \u001b[0;36m<listcomp>\u001b[0;34m(.0)\u001b[0m\n\u001b[1;32m    223\u001b[0m         \u001b[0;32mwith\u001b[0m \u001b[0mparallel_backend\u001b[0m\u001b[0;34m(\u001b[0m\u001b[0mself\u001b[0m\u001b[0;34m.\u001b[0m\u001b[0m_backend\u001b[0m\u001b[0;34m,\u001b[0m \u001b[0mn_jobs\u001b[0m\u001b[0;34m=\u001b[0m\u001b[0mself\u001b[0m\u001b[0;34m.\u001b[0m\u001b[0m_n_jobs\u001b[0m\u001b[0;34m)\u001b[0m\u001b[0;34m:\u001b[0m\u001b[0;34m\u001b[0m\u001b[0;34m\u001b[0m\u001b[0m\n\u001b[1;32m    224\u001b[0m             return [func(*args, **kwargs)\n\u001b[0;32m--> 225\u001b[0;31m                     for func, args, kwargs in self.items]\n\u001b[0m\u001b[1;32m    226\u001b[0m \u001b[0;34m\u001b[0m\u001b[0m\n\u001b[1;32m    227\u001b[0m     \u001b[0;32mdef\u001b[0m \u001b[0m__len__\u001b[0m\u001b[0;34m(\u001b[0m\u001b[0mself\u001b[0m\u001b[0;34m)\u001b[0m\u001b[0;34m:\u001b[0m\u001b[0;34m\u001b[0m\u001b[0;34m\u001b[0m\u001b[0m\n",
      "\u001b[0;32m/opt/anaconda3/lib/python3.7/site-packages/sklearn/model_selection/_validation.py\u001b[0m in \u001b[0;36m_fit_and_score\u001b[0;34m(estimator, X, y, scorer, train, test, verbose, parameters, fit_params, return_train_score, return_parameters, return_n_test_samples, return_times, return_estimator, error_score)\u001b[0m\n\u001b[1;32m    514\u001b[0m             \u001b[0mestimator\u001b[0m\u001b[0;34m.\u001b[0m\u001b[0mfit\u001b[0m\u001b[0;34m(\u001b[0m\u001b[0mX_train\u001b[0m\u001b[0;34m,\u001b[0m \u001b[0;34m**\u001b[0m\u001b[0mfit_params\u001b[0m\u001b[0;34m)\u001b[0m\u001b[0;34m\u001b[0m\u001b[0;34m\u001b[0m\u001b[0m\n\u001b[1;32m    515\u001b[0m         \u001b[0;32melse\u001b[0m\u001b[0;34m:\u001b[0m\u001b[0;34m\u001b[0m\u001b[0;34m\u001b[0m\u001b[0m\n\u001b[0;32m--> 516\u001b[0;31m             \u001b[0mestimator\u001b[0m\u001b[0;34m.\u001b[0m\u001b[0mfit\u001b[0m\u001b[0;34m(\u001b[0m\u001b[0mX_train\u001b[0m\u001b[0;34m,\u001b[0m \u001b[0my_train\u001b[0m\u001b[0;34m,\u001b[0m \u001b[0;34m**\u001b[0m\u001b[0mfit_params\u001b[0m\u001b[0;34m)\u001b[0m\u001b[0;34m\u001b[0m\u001b[0;34m\u001b[0m\u001b[0m\n\u001b[0m\u001b[1;32m    517\u001b[0m \u001b[0;34m\u001b[0m\u001b[0m\n\u001b[1;32m    518\u001b[0m     \u001b[0;32mexcept\u001b[0m \u001b[0mException\u001b[0m \u001b[0;32mas\u001b[0m \u001b[0me\u001b[0m\u001b[0;34m:\u001b[0m\u001b[0;34m\u001b[0m\u001b[0;34m\u001b[0m\u001b[0m\n",
      "\u001b[0;32m/opt/anaconda3/lib/python3.7/site-packages/sklearn/pipeline.py\u001b[0m in \u001b[0;36mfit\u001b[0;34m(self, X, y, **fit_params)\u001b[0m\n\u001b[1;32m    354\u001b[0m                                  self._log_message(len(self.steps) - 1)):\n\u001b[1;32m    355\u001b[0m             \u001b[0;32mif\u001b[0m \u001b[0mself\u001b[0m\u001b[0;34m.\u001b[0m\u001b[0m_final_estimator\u001b[0m \u001b[0;34m!=\u001b[0m \u001b[0;34m'passthrough'\u001b[0m\u001b[0;34m:\u001b[0m\u001b[0;34m\u001b[0m\u001b[0;34m\u001b[0m\u001b[0m\n\u001b[0;32m--> 356\u001b[0;31m                 \u001b[0mself\u001b[0m\u001b[0;34m.\u001b[0m\u001b[0m_final_estimator\u001b[0m\u001b[0;34m.\u001b[0m\u001b[0mfit\u001b[0m\u001b[0;34m(\u001b[0m\u001b[0mXt\u001b[0m\u001b[0;34m,\u001b[0m \u001b[0my\u001b[0m\u001b[0;34m,\u001b[0m \u001b[0;34m**\u001b[0m\u001b[0mfit_params\u001b[0m\u001b[0;34m)\u001b[0m\u001b[0;34m\u001b[0m\u001b[0;34m\u001b[0m\u001b[0m\n\u001b[0m\u001b[1;32m    357\u001b[0m         \u001b[0;32mreturn\u001b[0m \u001b[0mself\u001b[0m\u001b[0;34m\u001b[0m\u001b[0;34m\u001b[0m\u001b[0m\n\u001b[1;32m    358\u001b[0m \u001b[0;34m\u001b[0m\u001b[0m\n",
      "\u001b[0;32m/opt/anaconda3/lib/python3.7/site-packages/sklearn/linear_model/base.py\u001b[0m in \u001b[0;36mfit\u001b[0;34m(self, X, y, sample_weight)\u001b[0m\n\u001b[1;32m    501\u001b[0m         \u001b[0;32melse\u001b[0m\u001b[0;34m:\u001b[0m\u001b[0;34m\u001b[0m\u001b[0;34m\u001b[0m\u001b[0m\n\u001b[1;32m    502\u001b[0m             \u001b[0mself\u001b[0m\u001b[0;34m.\u001b[0m\u001b[0mcoef_\u001b[0m\u001b[0;34m,\u001b[0m \u001b[0mself\u001b[0m\u001b[0;34m.\u001b[0m\u001b[0m_residues\u001b[0m\u001b[0;34m,\u001b[0m \u001b[0mself\u001b[0m\u001b[0;34m.\u001b[0m\u001b[0mrank_\u001b[0m\u001b[0;34m,\u001b[0m \u001b[0mself\u001b[0m\u001b[0;34m.\u001b[0m\u001b[0msingular_\u001b[0m \u001b[0;34m=\u001b[0m\u001b[0;31m \u001b[0m\u001b[0;31m\\\u001b[0m\u001b[0;34m\u001b[0m\u001b[0;34m\u001b[0m\u001b[0m\n\u001b[0;32m--> 503\u001b[0;31m                 \u001b[0mlinalg\u001b[0m\u001b[0;34m.\u001b[0m\u001b[0mlstsq\u001b[0m\u001b[0;34m(\u001b[0m\u001b[0mX\u001b[0m\u001b[0;34m,\u001b[0m \u001b[0my\u001b[0m\u001b[0;34m)\u001b[0m\u001b[0;34m\u001b[0m\u001b[0;34m\u001b[0m\u001b[0m\n\u001b[0m\u001b[1;32m    504\u001b[0m             \u001b[0mself\u001b[0m\u001b[0;34m.\u001b[0m\u001b[0mcoef_\u001b[0m \u001b[0;34m=\u001b[0m \u001b[0mself\u001b[0m\u001b[0;34m.\u001b[0m\u001b[0mcoef_\u001b[0m\u001b[0;34m.\u001b[0m\u001b[0mT\u001b[0m\u001b[0;34m\u001b[0m\u001b[0;34m\u001b[0m\u001b[0m\n\u001b[1;32m    505\u001b[0m \u001b[0;34m\u001b[0m\u001b[0m\n",
      "\u001b[0;32m/opt/anaconda3/lib/python3.7/site-packages/scipy/linalg/basic.py\u001b[0m in \u001b[0;36mlstsq\u001b[0;34m(a, b, cond, overwrite_a, overwrite_b, check_finite, lapack_driver)\u001b[0m\n\u001b[1;32m   1214\u001b[0m                 \u001b[0mlwork\u001b[0m\u001b[0;34m,\u001b[0m \u001b[0miwork\u001b[0m \u001b[0;34m=\u001b[0m \u001b[0m_compute_lwork\u001b[0m\u001b[0;34m(\u001b[0m\u001b[0mlapack_lwork\u001b[0m\u001b[0;34m,\u001b[0m \u001b[0mm\u001b[0m\u001b[0;34m,\u001b[0m \u001b[0mn\u001b[0m\u001b[0;34m,\u001b[0m \u001b[0mnrhs\u001b[0m\u001b[0;34m,\u001b[0m \u001b[0mcond\u001b[0m\u001b[0;34m)\u001b[0m\u001b[0;34m\u001b[0m\u001b[0;34m\u001b[0m\u001b[0m\n\u001b[1;32m   1215\u001b[0m                 x, s, rank, info = lapack_func(a1, b1, lwork,\n\u001b[0;32m-> 1216\u001b[0;31m                                                iwork, cond, False, False)\n\u001b[0m\u001b[1;32m   1217\u001b[0m             \u001b[0;32melse\u001b[0m\u001b[0;34m:\u001b[0m  \u001b[0;31m# complex data\u001b[0m\u001b[0;34m\u001b[0m\u001b[0;34m\u001b[0m\u001b[0m\n\u001b[1;32m   1218\u001b[0m                 lwork, rwork, iwork = _compute_lwork(lapack_lwork, m, n,\n",
      "\u001b[0;31mKeyboardInterrupt\u001b[0m: "
     ]
    }
   ],
   "source": [
    "#cross_val_score(poly, X, y, scoring='r2', cv=5).mean()"
   ]
  },
  {
   "cell_type": "markdown",
   "metadata": {},
   "source": [
    "### Stochastic Gradient Descent"
   ]
  },
  {
   "cell_type": "code",
   "execution_count": null,
   "metadata": {},
   "outputs": [],
   "source": [
    "from sklearn.linear_model import SGDRegressor"
   ]
  },
  {
   "cell_type": "code",
   "execution_count": null,
   "metadata": {},
   "outputs": [],
   "source": [
    "pipe_2 = Pipeline(steps=[\n",
    "    ('sc', StandardScaler()),\n",
    "    ('SGD', SGDRegressor())\n",
    "])\n",
    "\n",
    "pipe_params_2 = {\n",
    "    'SGD__max_iter': [1000],\n",
    "    'SGD__penalty' : ['l1'],\n",
    "    'SGD__tol': [1e-3]\n",
    "}\n",
    "\n",
    "gs_SGD = GridSearchCV(\n",
    "    pipe_2,\n",
    "    pipe_params_2,\n",
    "    cv=5\n",
    "    \n",
    ").fit(X_train, y_train);"
   ]
  },
  {
   "cell_type": "code",
   "execution_count": null,
   "metadata": {},
   "outputs": [],
   "source": [
    "gs_SGD.score(X_train, y_train)"
   ]
  },
  {
   "cell_type": "code",
   "execution_count": null,
   "metadata": {},
   "outputs": [],
   "source": [
    "gs_SGD.score(X_test, y_test)"
   ]
  },
  {
   "cell_type": "code",
   "execution_count": null,
   "metadata": {},
   "outputs": [],
   "source": []
  }
 ],
 "metadata": {
  "kernelspec": {
   "display_name": "Python 3",
   "language": "python",
   "name": "python3"
  },
  "language_info": {
   "codemirror_mode": {
    "name": "ipython",
    "version": 3
   },
   "file_extension": ".py",
   "mimetype": "text/x-python",
   "name": "python",
   "nbconvert_exporter": "python",
   "pygments_lexer": "ipython3",
   "version": "3.7.4"
  },
  "toc": {
   "base_numbering": 1,
   "nav_menu": {},
   "number_sections": true,
   "sideBar": true,
   "skip_h1_title": false,
   "title_cell": "Table of Contents",
   "title_sidebar": "Contents",
   "toc_cell": true,
   "toc_position": {},
   "toc_section_display": true,
   "toc_window_display": true
  }
 },
 "nbformat": 4,
 "nbformat_minor": 2
}
