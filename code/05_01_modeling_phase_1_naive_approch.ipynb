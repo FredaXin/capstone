{
 "cells": [
  {
   "cell_type": "markdown",
   "metadata": {},
   "source": [
    "# Modeling Phase 1: Naive Approch"
   ]
  },
  {
   "cell_type": "markdown",
   "metadata": {
    "toc": true
   },
   "source": [
    "<h1>Table of Contents<span class=\"tocSkip\"></span></h1>\n",
    "<div class=\"toc\"><ul class=\"toc-item\"><li><span><a href=\"#Modeling-Phase-1:-Naive-Approch\" data-toc-modified-id=\"Modeling-Phase-1:-Naive-Approch-1\"><span class=\"toc-item-num\">1&nbsp;&nbsp;</span>Modeling Phase 1: Naive Approch</a></span><ul class=\"toc-item\"><li><span><a href=\"#Import-libraries\" data-toc-modified-id=\"Import-libraries-1.1\"><span class=\"toc-item-num\">1.1&nbsp;&nbsp;</span>Import libraries</a></span></li><li><span><a href=\"#Read-in-data\" data-toc-modified-id=\"Read-in-data-1.2\"><span class=\"toc-item-num\">1.2&nbsp;&nbsp;</span>Read in data</a></span></li><li><span><a href=\"#Merge-Goolge-dataset-with-Income-dataset\" data-toc-modified-id=\"Merge-Goolge-dataset-with-Income-dataset-1.3\"><span class=\"toc-item-num\">1.3&nbsp;&nbsp;</span>Merge Goolge dataset with Income dataset</a></span></li><li><span><a href=\"#Shuffle-the-dataset\" data-toc-modified-id=\"Shuffle-the-dataset-1.4\"><span class=\"toc-item-num\">1.4&nbsp;&nbsp;</span>Shuffle the dataset</a></span></li><li><span><a href=\"#Feature-Engineering\" data-toc-modified-id=\"Feature-Engineering-1.5\"><span class=\"toc-item-num\">1.5&nbsp;&nbsp;</span>Feature Engineering</a></span><ul class=\"toc-item\"><li><span><a href=\"#Create-interaction-columns-using-Google-dataset\" data-toc-modified-id=\"Create-interaction-columns-using-Google-dataset-1.5.1\"><span class=\"toc-item-num\">1.5.1&nbsp;&nbsp;</span>Create interaction columns using Google dataset</a></span></li><li><span><a href=\"#Create-interaction-columns-using-demographic-information-from-'income'-dataset\" data-toc-modified-id=\"Create-interaction-columns-using-demographic-information-from-'income'-dataset-1.5.2\"><span class=\"toc-item-num\">1.5.2&nbsp;&nbsp;</span>Create interaction columns using demographic information from 'income' dataset</a></span></li><li><span><a href=\"#Dummify-categorical-columns\" data-toc-modified-id=\"Dummify-categorical-columns-1.5.3\"><span class=\"toc-item-num\">1.5.3&nbsp;&nbsp;</span>Dummify categorical columns</a></span></li></ul></li></ul></li><li><span><a href=\"#Modeling\" data-toc-modified-id=\"Modeling-2\"><span class=\"toc-item-num\">2&nbsp;&nbsp;</span>Modeling</a></span><ul class=\"toc-item\"><li><span><a href=\"#Model-preparation\" data-toc-modified-id=\"Model-preparation-2.1\"><span class=\"toc-item-num\">2.1&nbsp;&nbsp;</span>Model preparation</a></span></li><li><span><a href=\"#Baseline-Model\" data-toc-modified-id=\"Baseline-Model-2.2\"><span class=\"toc-item-num\">2.2&nbsp;&nbsp;</span>Baseline Model</a></span></li><li><span><a href=\"#Linear-Regression\" data-toc-modified-id=\"Linear-Regression-2.3\"><span class=\"toc-item-num\">2.3&nbsp;&nbsp;</span>Linear Regression</a></span></li><li><span><a href=\"#KNN\" data-toc-modified-id=\"KNN-2.4\"><span class=\"toc-item-num\">2.4&nbsp;&nbsp;</span>KNN</a></span></li><li><span><a href=\"#Tree\" data-toc-modified-id=\"Tree-2.5\"><span class=\"toc-item-num\">2.5&nbsp;&nbsp;</span>Tree</a></span></li></ul></li></ul></div>"
   ]
  },
  {
   "cell_type": "markdown",
   "metadata": {},
   "source": [
    "## Import libraries"
   ]
  },
  {
   "cell_type": "code",
   "execution_count": 1,
   "metadata": {},
   "outputs": [],
   "source": [
    "import pandas as pd\n",
    "import numpy as np\n",
    "import matplotlib.pyplot as plt\n",
    "import seaborn as sns\n",
    "\n",
    "from sklearn.utils import shuffle\n",
    "from sklearn.preprocessing import StandardScaler\n",
    "from sklearn.model_selection import train_test_split, GridSearchCV, cross_val_score\n",
    "from sklearn.pipeline import Pipeline\n",
    "from sklearn.metrics import r2_score\n",
    "\n",
    "from sklearn.dummy import DummyRegressor\n",
    "from sklearn.linear_model import LinearRegression\n",
    "from sklearn.neighbors import KNeighborsRegressor\n",
    "from sklearn.tree import DecisionTreeRegressor\n",
    "\n",
    "%matplotlib inline\n",
    "\n",
    "# Display Preference\n",
    "pd.set_option('display.max_columns', None)"
   ]
  },
  {
   "cell_type": "markdown",
   "metadata": {},
   "source": [
    "## Read in data"
   ]
  },
  {
   "cell_type": "code",
   "execution_count": 2,
   "metadata": {},
   "outputs": [],
   "source": [
    "google = pd.read_csv('../data/clean_google_data_nyc.csv')\n",
    "income = pd.read_csv('../data/clean_income_by_zip_nyc.csv')"
   ]
  },
  {
   "cell_type": "markdown",
   "metadata": {},
   "source": [
    "## Merge Goolge dataset with Income dataset"
   ]
  },
  {
   "cell_type": "markdown",
   "metadata": {},
   "source": [
    "Note that 'inner' is used here for the merge. If any zipcode that doesn't exist in Google but in Income will be dropped and vice verse."
   ]
  },
  {
   "cell_type": "code",
   "execution_count": 3,
   "metadata": {},
   "outputs": [],
   "source": [
    "df = pd.merge(google, income, how='inner', left_on='zipcode', right_on='zipcode')"
   ]
  },
  {
   "cell_type": "code",
   "execution_count": 4,
   "metadata": {},
   "outputs": [
    {
     "data": {
      "text/plain": [
       "(8166, 72)"
      ]
     },
     "execution_count": 4,
     "metadata": {},
     "output_type": "execute_result"
    }
   ],
   "source": [
    "df.shape"
   ]
  },
  {
   "cell_type": "code",
   "execution_count": 5,
   "metadata": {
    "scrolled": false
   },
   "outputs": [
    {
     "data": {
      "text/html": [
       "<div>\n",
       "<style scoped>\n",
       "    .dataframe tbody tr th:only-of-type {\n",
       "        vertical-align: middle;\n",
       "    }\n",
       "\n",
       "    .dataframe tbody tr th {\n",
       "        vertical-align: top;\n",
       "    }\n",
       "\n",
       "    .dataframe thead th {\n",
       "        text-align: right;\n",
       "    }\n",
       "</style>\n",
       "<table border=\"1\" class=\"dataframe\">\n",
       "  <thead>\n",
       "    <tr style=\"text-align: right;\">\n",
       "      <th></th>\n",
       "      <th>zipcode</th>\n",
       "      <th>name</th>\n",
       "      <th>open_now</th>\n",
       "      <th>place_id</th>\n",
       "      <th>price_level</th>\n",
       "      <th>rating</th>\n",
       "      <th>user_ratings_total</th>\n",
       "      <th>searched_keyword</th>\n",
       "      <th>searched_zipcode</th>\n",
       "      <th>location_lat</th>\n",
       "      <th>location_lng</th>\n",
       "      <th>compound_code</th>\n",
       "      <th>global_code</th>\n",
       "      <th>art_gallery</th>\n",
       "      <th>atm</th>\n",
       "      <th>bakery</th>\n",
       "      <th>bar</th>\n",
       "      <th>beauty_salon</th>\n",
       "      <th>bicycle_store</th>\n",
       "      <th>book_store</th>\n",
       "      <th>cafe</th>\n",
       "      <th>car_dealer</th>\n",
       "      <th>car_repair</th>\n",
       "      <th>car_wash</th>\n",
       "      <th>clothing_store</th>\n",
       "      <th>convenience_store</th>\n",
       "      <th>department_store</th>\n",
       "      <th>drugstore</th>\n",
       "      <th>electronics_store</th>\n",
       "      <th>establishment</th>\n",
       "      <th>finance</th>\n",
       "      <th>florist</th>\n",
       "      <th>food</th>\n",
       "      <th>funeral_home</th>\n",
       "      <th>furniture_store</th>\n",
       "      <th>gas_station</th>\n",
       "      <th>general_contractor</th>\n",
       "      <th>grocery_or_supermarket</th>\n",
       "      <th>hair_care</th>\n",
       "      <th>hardware_store</th>\n",
       "      <th>health</th>\n",
       "      <th>home_goods_store</th>\n",
       "      <th>jewelry_store</th>\n",
       "      <th>laundry</th>\n",
       "      <th>liquor_store</th>\n",
       "      <th>local_government_office</th>\n",
       "      <th>locksmith</th>\n",
       "      <th>lodging</th>\n",
       "      <th>meal_delivery</th>\n",
       "      <th>meal_takeaway</th>\n",
       "      <th>movie_rental</th>\n",
       "      <th>night_club</th>\n",
       "      <th>park</th>\n",
       "      <th>parking</th>\n",
       "      <th>pet_store</th>\n",
       "      <th>pharmacy</th>\n",
       "      <th>point_of_interest</th>\n",
       "      <th>premise</th>\n",
       "      <th>restaurant</th>\n",
       "      <th>school</th>\n",
       "      <th>shoe_store</th>\n",
       "      <th>shopping_mall</th>\n",
       "      <th>spa</th>\n",
       "      <th>storage</th>\n",
       "      <th>store</th>\n",
       "      <th>supermarket</th>\n",
       "      <th>tourist_attraction</th>\n",
       "      <th>travel_agency</th>\n",
       "      <th>population</th>\n",
       "      <th>population_density_square_miles</th>\n",
       "      <th>housing_units</th>\n",
       "      <th>home_price_to_income_ratios</th>\n",
       "    </tr>\n",
       "  </thead>\n",
       "  <tbody>\n",
       "    <tr>\n",
       "      <td>0</td>\n",
       "      <td>10031</td>\n",
       "      <td>Sugar Hill Cafe</td>\n",
       "      <td>True</td>\n",
       "      <td>ChIJTdM-m3z2wokR6xZB62deoYY</td>\n",
       "      <td>NaN</td>\n",
       "      <td>4.5</td>\n",
       "      <td>362</td>\n",
       "      <td>coffee shops</td>\n",
       "      <td>10030</td>\n",
       "      <td>40.824202</td>\n",
       "      <td>-73.945600</td>\n",
       "      <td>R3F3+MQ New York</td>\n",
       "      <td>87G8R3F3+MQ</td>\n",
       "      <td>0</td>\n",
       "      <td>0</td>\n",
       "      <td>0</td>\n",
       "      <td>0</td>\n",
       "      <td>0</td>\n",
       "      <td>0</td>\n",
       "      <td>0</td>\n",
       "      <td>1</td>\n",
       "      <td>0</td>\n",
       "      <td>0</td>\n",
       "      <td>0</td>\n",
       "      <td>0</td>\n",
       "      <td>0</td>\n",
       "      <td>0</td>\n",
       "      <td>0</td>\n",
       "      <td>0</td>\n",
       "      <td>1</td>\n",
       "      <td>0</td>\n",
       "      <td>0</td>\n",
       "      <td>1</td>\n",
       "      <td>0</td>\n",
       "      <td>0</td>\n",
       "      <td>0</td>\n",
       "      <td>0</td>\n",
       "      <td>0</td>\n",
       "      <td>0</td>\n",
       "      <td>0</td>\n",
       "      <td>0</td>\n",
       "      <td>0</td>\n",
       "      <td>0</td>\n",
       "      <td>0</td>\n",
       "      <td>0</td>\n",
       "      <td>0</td>\n",
       "      <td>0</td>\n",
       "      <td>0</td>\n",
       "      <td>0</td>\n",
       "      <td>0</td>\n",
       "      <td>0</td>\n",
       "      <td>0</td>\n",
       "      <td>0</td>\n",
       "      <td>0</td>\n",
       "      <td>0</td>\n",
       "      <td>0</td>\n",
       "      <td>1</td>\n",
       "      <td>0</td>\n",
       "      <td>1</td>\n",
       "      <td>0</td>\n",
       "      <td>0</td>\n",
       "      <td>0</td>\n",
       "      <td>0</td>\n",
       "      <td>0</td>\n",
       "      <td>1</td>\n",
       "      <td>0</td>\n",
       "      <td>0</td>\n",
       "      <td>0</td>\n",
       "      <td>60254</td>\n",
       "      <td>92805.8</td>\n",
       "      <td>23802</td>\n",
       "      <td>8.358221</td>\n",
       "    </tr>\n",
       "    <tr>\n",
       "      <td>1</td>\n",
       "      <td>10031</td>\n",
       "      <td>Pet Ark Inc</td>\n",
       "      <td>True</td>\n",
       "      <td>ChIJy4ahbGT2wokRyfIagpfOE0Y</td>\n",
       "      <td>NaN</td>\n",
       "      <td>4.4</td>\n",
       "      <td>93</td>\n",
       "      <td>stores</td>\n",
       "      <td>10031</td>\n",
       "      <td>40.823917</td>\n",
       "      <td>-73.951950</td>\n",
       "      <td>R2FX+H6 New York</td>\n",
       "      <td>87G8R2FX+H6</td>\n",
       "      <td>0</td>\n",
       "      <td>0</td>\n",
       "      <td>0</td>\n",
       "      <td>0</td>\n",
       "      <td>0</td>\n",
       "      <td>0</td>\n",
       "      <td>0</td>\n",
       "      <td>0</td>\n",
       "      <td>0</td>\n",
       "      <td>0</td>\n",
       "      <td>0</td>\n",
       "      <td>0</td>\n",
       "      <td>0</td>\n",
       "      <td>0</td>\n",
       "      <td>0</td>\n",
       "      <td>0</td>\n",
       "      <td>1</td>\n",
       "      <td>0</td>\n",
       "      <td>0</td>\n",
       "      <td>0</td>\n",
       "      <td>0</td>\n",
       "      <td>0</td>\n",
       "      <td>0</td>\n",
       "      <td>0</td>\n",
       "      <td>0</td>\n",
       "      <td>0</td>\n",
       "      <td>0</td>\n",
       "      <td>0</td>\n",
       "      <td>0</td>\n",
       "      <td>0</td>\n",
       "      <td>0</td>\n",
       "      <td>0</td>\n",
       "      <td>0</td>\n",
       "      <td>0</td>\n",
       "      <td>0</td>\n",
       "      <td>0</td>\n",
       "      <td>0</td>\n",
       "      <td>0</td>\n",
       "      <td>0</td>\n",
       "      <td>0</td>\n",
       "      <td>0</td>\n",
       "      <td>0</td>\n",
       "      <td>0</td>\n",
       "      <td>1</td>\n",
       "      <td>0</td>\n",
       "      <td>0</td>\n",
       "      <td>0</td>\n",
       "      <td>0</td>\n",
       "      <td>0</td>\n",
       "      <td>0</td>\n",
       "      <td>0</td>\n",
       "      <td>1</td>\n",
       "      <td>0</td>\n",
       "      <td>0</td>\n",
       "      <td>0</td>\n",
       "      <td>60254</td>\n",
       "      <td>92805.8</td>\n",
       "      <td>23802</td>\n",
       "      <td>8.358221</td>\n",
       "    </tr>\n",
       "    <tr>\n",
       "      <td>2</td>\n",
       "      <td>10031</td>\n",
       "      <td>Grill on the Hill</td>\n",
       "      <td>True</td>\n",
       "      <td>ChIJheSk_GT2wokR-MLgSDMoiAk</td>\n",
       "      <td>2.0</td>\n",
       "      <td>4.1</td>\n",
       "      <td>385</td>\n",
       "      <td>restaurant</td>\n",
       "      <td>10031</td>\n",
       "      <td>40.822315</td>\n",
       "      <td>-73.950147</td>\n",
       "      <td>R2CX+WW New York</td>\n",
       "      <td>87G8R2CX+WW</td>\n",
       "      <td>0</td>\n",
       "      <td>0</td>\n",
       "      <td>0</td>\n",
       "      <td>1</td>\n",
       "      <td>0</td>\n",
       "      <td>0</td>\n",
       "      <td>0</td>\n",
       "      <td>0</td>\n",
       "      <td>0</td>\n",
       "      <td>0</td>\n",
       "      <td>0</td>\n",
       "      <td>0</td>\n",
       "      <td>0</td>\n",
       "      <td>0</td>\n",
       "      <td>0</td>\n",
       "      <td>0</td>\n",
       "      <td>1</td>\n",
       "      <td>0</td>\n",
       "      <td>0</td>\n",
       "      <td>1</td>\n",
       "      <td>0</td>\n",
       "      <td>0</td>\n",
       "      <td>0</td>\n",
       "      <td>0</td>\n",
       "      <td>0</td>\n",
       "      <td>0</td>\n",
       "      <td>0</td>\n",
       "      <td>0</td>\n",
       "      <td>0</td>\n",
       "      <td>0</td>\n",
       "      <td>0</td>\n",
       "      <td>0</td>\n",
       "      <td>0</td>\n",
       "      <td>0</td>\n",
       "      <td>0</td>\n",
       "      <td>0</td>\n",
       "      <td>0</td>\n",
       "      <td>0</td>\n",
       "      <td>0</td>\n",
       "      <td>0</td>\n",
       "      <td>0</td>\n",
       "      <td>0</td>\n",
       "      <td>0</td>\n",
       "      <td>1</td>\n",
       "      <td>0</td>\n",
       "      <td>1</td>\n",
       "      <td>0</td>\n",
       "      <td>0</td>\n",
       "      <td>0</td>\n",
       "      <td>0</td>\n",
       "      <td>0</td>\n",
       "      <td>0</td>\n",
       "      <td>0</td>\n",
       "      <td>0</td>\n",
       "      <td>0</td>\n",
       "      <td>60254</td>\n",
       "      <td>92805.8</td>\n",
       "      <td>23802</td>\n",
       "      <td>8.358221</td>\n",
       "    </tr>\n",
       "    <tr>\n",
       "      <td>3</td>\n",
       "      <td>10031</td>\n",
       "      <td>Foodtown of St. Nicholas Ave</td>\n",
       "      <td>True</td>\n",
       "      <td>ChIJAevUyn32wokRkzP0mEI6lIo</td>\n",
       "      <td>NaN</td>\n",
       "      <td>4.1</td>\n",
       "      <td>756</td>\n",
       "      <td>stores</td>\n",
       "      <td>10031</td>\n",
       "      <td>40.825960</td>\n",
       "      <td>-73.943139</td>\n",
       "      <td>R3G4+9P New York</td>\n",
       "      <td>87G8R3G4+9P</td>\n",
       "      <td>0</td>\n",
       "      <td>0</td>\n",
       "      <td>0</td>\n",
       "      <td>0</td>\n",
       "      <td>0</td>\n",
       "      <td>0</td>\n",
       "      <td>0</td>\n",
       "      <td>0</td>\n",
       "      <td>0</td>\n",
       "      <td>0</td>\n",
       "      <td>0</td>\n",
       "      <td>0</td>\n",
       "      <td>0</td>\n",
       "      <td>0</td>\n",
       "      <td>0</td>\n",
       "      <td>0</td>\n",
       "      <td>1</td>\n",
       "      <td>0</td>\n",
       "      <td>1</td>\n",
       "      <td>1</td>\n",
       "      <td>0</td>\n",
       "      <td>0</td>\n",
       "      <td>0</td>\n",
       "      <td>0</td>\n",
       "      <td>1</td>\n",
       "      <td>0</td>\n",
       "      <td>0</td>\n",
       "      <td>0</td>\n",
       "      <td>0</td>\n",
       "      <td>0</td>\n",
       "      <td>0</td>\n",
       "      <td>0</td>\n",
       "      <td>0</td>\n",
       "      <td>0</td>\n",
       "      <td>0</td>\n",
       "      <td>0</td>\n",
       "      <td>0</td>\n",
       "      <td>0</td>\n",
       "      <td>0</td>\n",
       "      <td>0</td>\n",
       "      <td>0</td>\n",
       "      <td>0</td>\n",
       "      <td>0</td>\n",
       "      <td>1</td>\n",
       "      <td>0</td>\n",
       "      <td>0</td>\n",
       "      <td>0</td>\n",
       "      <td>0</td>\n",
       "      <td>0</td>\n",
       "      <td>0</td>\n",
       "      <td>0</td>\n",
       "      <td>1</td>\n",
       "      <td>1</td>\n",
       "      <td>0</td>\n",
       "      <td>0</td>\n",
       "      <td>60254</td>\n",
       "      <td>92805.8</td>\n",
       "      <td>23802</td>\n",
       "      <td>8.358221</td>\n",
       "    </tr>\n",
       "    <tr>\n",
       "      <td>4</td>\n",
       "      <td>10031</td>\n",
       "      <td>Hamilton's Cafe Restaurant</td>\n",
       "      <td>False</td>\n",
       "      <td>ChIJfeGy52L2wokRzh1E8y2l2MU</td>\n",
       "      <td>2.0</td>\n",
       "      <td>4.2</td>\n",
       "      <td>294</td>\n",
       "      <td>coffee shops</td>\n",
       "      <td>10031</td>\n",
       "      <td>40.827344</td>\n",
       "      <td>-73.949401</td>\n",
       "      <td>R3G2+W6 New York</td>\n",
       "      <td>87G8R3G2+W6</td>\n",
       "      <td>0</td>\n",
       "      <td>0</td>\n",
       "      <td>0</td>\n",
       "      <td>0</td>\n",
       "      <td>0</td>\n",
       "      <td>0</td>\n",
       "      <td>0</td>\n",
       "      <td>1</td>\n",
       "      <td>0</td>\n",
       "      <td>0</td>\n",
       "      <td>0</td>\n",
       "      <td>0</td>\n",
       "      <td>0</td>\n",
       "      <td>0</td>\n",
       "      <td>0</td>\n",
       "      <td>0</td>\n",
       "      <td>1</td>\n",
       "      <td>0</td>\n",
       "      <td>0</td>\n",
       "      <td>1</td>\n",
       "      <td>0</td>\n",
       "      <td>0</td>\n",
       "      <td>0</td>\n",
       "      <td>0</td>\n",
       "      <td>0</td>\n",
       "      <td>0</td>\n",
       "      <td>0</td>\n",
       "      <td>0</td>\n",
       "      <td>0</td>\n",
       "      <td>0</td>\n",
       "      <td>0</td>\n",
       "      <td>0</td>\n",
       "      <td>0</td>\n",
       "      <td>0</td>\n",
       "      <td>0</td>\n",
       "      <td>0</td>\n",
       "      <td>0</td>\n",
       "      <td>0</td>\n",
       "      <td>0</td>\n",
       "      <td>0</td>\n",
       "      <td>0</td>\n",
       "      <td>0</td>\n",
       "      <td>0</td>\n",
       "      <td>1</td>\n",
       "      <td>0</td>\n",
       "      <td>1</td>\n",
       "      <td>0</td>\n",
       "      <td>0</td>\n",
       "      <td>0</td>\n",
       "      <td>0</td>\n",
       "      <td>0</td>\n",
       "      <td>1</td>\n",
       "      <td>0</td>\n",
       "      <td>0</td>\n",
       "      <td>0</td>\n",
       "      <td>60254</td>\n",
       "      <td>92805.8</td>\n",
       "      <td>23802</td>\n",
       "      <td>8.358221</td>\n",
       "    </tr>\n",
       "  </tbody>\n",
       "</table>\n",
       "</div>"
      ],
      "text/plain": [
       "   zipcode                          name open_now  \\\n",
       "0    10031               Sugar Hill Cafe     True   \n",
       "1    10031                   Pet Ark Inc     True   \n",
       "2    10031             Grill on the Hill     True   \n",
       "3    10031  Foodtown of St. Nicholas Ave     True   \n",
       "4    10031    Hamilton's Cafe Restaurant    False   \n",
       "\n",
       "                      place_id  price_level  rating  user_ratings_total  \\\n",
       "0  ChIJTdM-m3z2wokR6xZB62deoYY          NaN     4.5                 362   \n",
       "1  ChIJy4ahbGT2wokRyfIagpfOE0Y          NaN     4.4                  93   \n",
       "2  ChIJheSk_GT2wokR-MLgSDMoiAk          2.0     4.1                 385   \n",
       "3  ChIJAevUyn32wokRkzP0mEI6lIo          NaN     4.1                 756   \n",
       "4  ChIJfeGy52L2wokRzh1E8y2l2MU          2.0     4.2                 294   \n",
       "\n",
       "  searched_keyword  searched_zipcode  location_lat  location_lng  \\\n",
       "0     coffee shops             10030     40.824202    -73.945600   \n",
       "1           stores             10031     40.823917    -73.951950   \n",
       "2       restaurant             10031     40.822315    -73.950147   \n",
       "3           stores             10031     40.825960    -73.943139   \n",
       "4     coffee shops             10031     40.827344    -73.949401   \n",
       "\n",
       "      compound_code  global_code  art_gallery  atm  bakery  bar  beauty_salon  \\\n",
       "0  R3F3+MQ New York  87G8R3F3+MQ            0    0       0    0             0   \n",
       "1  R2FX+H6 New York  87G8R2FX+H6            0    0       0    0             0   \n",
       "2  R2CX+WW New York  87G8R2CX+WW            0    0       0    1             0   \n",
       "3  R3G4+9P New York  87G8R3G4+9P            0    0       0    0             0   \n",
       "4  R3G2+W6 New York  87G8R3G2+W6            0    0       0    0             0   \n",
       "\n",
       "   bicycle_store  book_store  cafe  car_dealer  car_repair  car_wash  \\\n",
       "0              0           0     1           0           0         0   \n",
       "1              0           0     0           0           0         0   \n",
       "2              0           0     0           0           0         0   \n",
       "3              0           0     0           0           0         0   \n",
       "4              0           0     1           0           0         0   \n",
       "\n",
       "   clothing_store  convenience_store  department_store  drugstore  \\\n",
       "0               0                  0                 0          0   \n",
       "1               0                  0                 0          0   \n",
       "2               0                  0                 0          0   \n",
       "3               0                  0                 0          0   \n",
       "4               0                  0                 0          0   \n",
       "\n",
       "   electronics_store  establishment  finance  florist  food  funeral_home  \\\n",
       "0                  0              1        0        0     1             0   \n",
       "1                  0              1        0        0     0             0   \n",
       "2                  0              1        0        0     1             0   \n",
       "3                  0              1        0        1     1             0   \n",
       "4                  0              1        0        0     1             0   \n",
       "\n",
       "   furniture_store  gas_station  general_contractor  grocery_or_supermarket  \\\n",
       "0                0            0                   0                       0   \n",
       "1                0            0                   0                       0   \n",
       "2                0            0                   0                       0   \n",
       "3                0            0                   0                       1   \n",
       "4                0            0                   0                       0   \n",
       "\n",
       "   hair_care  hardware_store  health  home_goods_store  jewelry_store  \\\n",
       "0          0               0       0                 0              0   \n",
       "1          0               0       0                 0              0   \n",
       "2          0               0       0                 0              0   \n",
       "3          0               0       0                 0              0   \n",
       "4          0               0       0                 0              0   \n",
       "\n",
       "   laundry  liquor_store  local_government_office  locksmith  lodging  \\\n",
       "0        0             0                        0          0        0   \n",
       "1        0             0                        0          0        0   \n",
       "2        0             0                        0          0        0   \n",
       "3        0             0                        0          0        0   \n",
       "4        0             0                        0          0        0   \n",
       "\n",
       "   meal_delivery  meal_takeaway  movie_rental  night_club  park  parking  \\\n",
       "0              0              0             0           0     0        0   \n",
       "1              0              0             0           0     0        0   \n",
       "2              0              0             0           0     0        0   \n",
       "3              0              0             0           0     0        0   \n",
       "4              0              0             0           0     0        0   \n",
       "\n",
       "   pet_store  pharmacy  point_of_interest  premise  restaurant  school  \\\n",
       "0          0         0                  1        0           1       0   \n",
       "1          0         0                  1        0           0       0   \n",
       "2          0         0                  1        0           1       0   \n",
       "3          0         0                  1        0           0       0   \n",
       "4          0         0                  1        0           1       0   \n",
       "\n",
       "   shoe_store  shopping_mall  spa  storage  store  supermarket  \\\n",
       "0           0              0    0        0      1            0   \n",
       "1           0              0    0        0      1            0   \n",
       "2           0              0    0        0      0            0   \n",
       "3           0              0    0        0      1            1   \n",
       "4           0              0    0        0      1            0   \n",
       "\n",
       "   tourist_attraction  travel_agency  population  \\\n",
       "0                   0              0       60254   \n",
       "1                   0              0       60254   \n",
       "2                   0              0       60254   \n",
       "3                   0              0       60254   \n",
       "4                   0              0       60254   \n",
       "\n",
       "   population_density_square_miles  housing_units  home_price_to_income_ratios  \n",
       "0                          92805.8          23802                     8.358221  \n",
       "1                          92805.8          23802                     8.358221  \n",
       "2                          92805.8          23802                     8.358221  \n",
       "3                          92805.8          23802                     8.358221  \n",
       "4                          92805.8          23802                     8.358221  "
      ]
     },
     "execution_count": 5,
     "metadata": {},
     "output_type": "execute_result"
    }
   ],
   "source": [
    "df.head()"
   ]
  },
  {
   "cell_type": "markdown",
   "metadata": {},
   "source": [
    "## Shuffle the dataset\n",
    "Shuffling the dataset is crucial; otherwise it would be problematic during the cross validation process, since Sklearn's cross validation does not shuffle the dataset."
   ]
  },
  {
   "cell_type": "code",
   "execution_count": 6,
   "metadata": {},
   "outputs": [],
   "source": [
    "index = df.index\n",
    "df = shuffle(df)\n",
    "df.index = index"
   ]
  },
  {
   "cell_type": "markdown",
   "metadata": {},
   "source": [
    "## Feature Engineering"
   ]
  },
  {
   "cell_type": "markdown",
   "metadata": {},
   "source": [
    "### Create interaction columns using Google dataset"
   ]
  },
  {
   "cell_type": "code",
   "execution_count": 7,
   "metadata": {},
   "outputs": [],
   "source": [
    "df['price_level*rating'] = df['price_level'] * df['rating']"
   ]
  },
  {
   "cell_type": "code",
   "execution_count": 8,
   "metadata": {},
   "outputs": [],
   "source": [
    "# Create column 'avg_price_level_by_zipcode', which calculate the avg price level for each zipcode\n",
    "df['avg_price_level_by_zipcode'] = [df.groupby('zipcode')['price_level'].mean()[zipcode] \n",
    "                                    for zipcode in df['zipcode']]"
   ]
  },
  {
   "cell_type": "code",
   "execution_count": 9,
   "metadata": {},
   "outputs": [],
   "source": [
    "# Avarage rating by zipcode\n",
    "df['avg_rating_by_zipcode'] = [df.groupby('zipcode')['rating'].mean()[zipcode] \n",
    "                               for zipcode in df['zipcode']]"
   ]
  },
  {
   "cell_type": "code",
   "execution_count": 10,
   "metadata": {},
   "outputs": [],
   "source": [
    "# Avarage rating_count by zipcode\n",
    "df['avg_user_ratings_total_by_zipcode'] = [df.groupby('zipcode')['user_ratings_total'].mean()[zipcode] \n",
    "                                           for zipcode in df['zipcode']]"
   ]
  },
  {
   "cell_type": "code",
   "execution_count": 11,
   "metadata": {},
   "outputs": [],
   "source": [
    "# Total number of bars by zipcode. \n",
    "# Limitation: this approach has limiattion since our dataset is merely a sample of the businesses for each zipcode.\n",
    "df['total_number_of_bars_by_zipcode'] = [df.groupby('zipcode')['bar'].sum()[zipcode] \n",
    "                                         for zipcode in df['zipcode']]\n"
   ]
  },
  {
   "cell_type": "code",
   "execution_count": 12,
   "metadata": {},
   "outputs": [],
   "source": [
    "# Total number of cafe by zipcode. \n",
    "# Limitation: this approach has limiattion since our dataset is merely a sample of the businesses for each zipcode.\n",
    "df['total_number_of_cafes_by_zipcode'] = [df.groupby('zipcode')['cafe'].sum()[zipcode] \n",
    "                                          for zipcode in df['zipcode']]"
   ]
  },
  {
   "cell_type": "markdown",
   "metadata": {},
   "source": [
    "### Create interaction columns using demographic information from 'income' dataset"
   ]
  },
  {
   "cell_type": "code",
   "execution_count": 13,
   "metadata": {},
   "outputs": [],
   "source": [
    "# Create column user ratings counts devided by the population in the given zipcode\n",
    "df['user_ratings_total_per_capita'] = df['user_ratings_total'] / df['population']"
   ]
  },
  {
   "cell_type": "code",
   "execution_count": 14,
   "metadata": {},
   "outputs": [],
   "source": [
    "# Create column rating weighed with population density in the given zipcode\n",
    "df['rating_weighed_population_density'] = df['rating'] * df['population_density_square_miles']"
   ]
  },
  {
   "cell_type": "markdown",
   "metadata": {},
   "source": [
    "### Dummify categorical columns"
   ]
  },
  {
   "cell_type": "code",
   "execution_count": 15,
   "metadata": {},
   "outputs": [],
   "source": [
    "# drop_first=False since we might not use linear regression models\n",
    "df = pd.get_dummies(df, columns=['open_now'], drop_first=False, dummy_na=True)"
   ]
  },
  {
   "cell_type": "markdown",
   "metadata": {},
   "source": [
    "# Modeling"
   ]
  },
  {
   "cell_type": "markdown",
   "metadata": {},
   "source": [
    "## Model preparation"
   ]
  },
  {
   "cell_type": "code",
   "execution_count": 16,
   "metadata": {},
   "outputs": [],
   "source": [
    "columns = [\n",
    "       'price_level', 'rating',\n",
    "       'user_ratings_total', \n",
    "       'art_gallery', 'atm', 'bakery', 'bar', 'beauty_salon', 'bicycle_store',\n",
    "       'book_store', 'cafe', 'car_dealer', 'car_repair', 'car_wash',\n",
    "       'clothing_store', 'convenience_store', 'department_store', 'drugstore',\n",
    "       'electronics_store', 'establishment', 'finance', 'florist', 'food',\n",
    "       'funeral_home', 'furniture_store', 'gas_station', 'general_contractor',\n",
    "       'grocery_or_supermarket', 'hair_care', 'hardware_store', 'health',\n",
    "       'home_goods_store', 'jewelry_store', 'laundry', 'liquor_store',\n",
    "       'local_government_office', 'locksmith', 'lodging', 'meal_delivery',\n",
    "       'meal_takeaway', 'movie_rental', 'night_club', 'park', 'parking',\n",
    "       'pet_store', 'pharmacy', 'point_of_interest', 'premise', 'restaurant',\n",
    "       'school', 'shoe_store', 'shopping_mall', 'spa', 'storage', 'store',\n",
    "       'supermarket', 'tourist_attraction', 'travel_agency', 'population',\n",
    "       'population_density_square_miles', 'housing_units',\n",
    "       'home_price_to_income_ratios', 'price_level*rating',\n",
    "       'avg_price_level_by_zipcode', 'avg_rating_by_zipcode',\n",
    "       'avg_user_ratings_total_by_zipcode', 'total_number_of_bars_by_zipcode',\n",
    "       'total_number_of_cafes_by_zipcode', 'user_ratings_total_per_capita',\n",
    "       'rating_weighed_population_density', 'open_now_False', 'open_now_True',\n",
    "       'open_now_nan'\n",
    "]"
   ]
  },
  {
   "cell_type": "code",
   "execution_count": 17,
   "metadata": {},
   "outputs": [],
   "source": [
    "final = df[columns].dropna()"
   ]
  },
  {
   "cell_type": "code",
   "execution_count": 18,
   "metadata": {},
   "outputs": [
    {
     "data": {
      "text/html": [
       "<div>\n",
       "<style scoped>\n",
       "    .dataframe tbody tr th:only-of-type {\n",
       "        vertical-align: middle;\n",
       "    }\n",
       "\n",
       "    .dataframe tbody tr th {\n",
       "        vertical-align: top;\n",
       "    }\n",
       "\n",
       "    .dataframe thead th {\n",
       "        text-align: right;\n",
       "    }\n",
       "</style>\n",
       "<table border=\"1\" class=\"dataframe\">\n",
       "  <thead>\n",
       "    <tr style=\"text-align: right;\">\n",
       "      <th></th>\n",
       "      <th>price_level</th>\n",
       "      <th>rating</th>\n",
       "      <th>user_ratings_total</th>\n",
       "      <th>art_gallery</th>\n",
       "      <th>atm</th>\n",
       "      <th>bakery</th>\n",
       "      <th>bar</th>\n",
       "      <th>beauty_salon</th>\n",
       "      <th>bicycle_store</th>\n",
       "      <th>book_store</th>\n",
       "      <th>cafe</th>\n",
       "      <th>car_dealer</th>\n",
       "      <th>car_repair</th>\n",
       "      <th>car_wash</th>\n",
       "      <th>clothing_store</th>\n",
       "      <th>convenience_store</th>\n",
       "      <th>department_store</th>\n",
       "      <th>drugstore</th>\n",
       "      <th>electronics_store</th>\n",
       "      <th>establishment</th>\n",
       "      <th>finance</th>\n",
       "      <th>florist</th>\n",
       "      <th>food</th>\n",
       "      <th>funeral_home</th>\n",
       "      <th>furniture_store</th>\n",
       "      <th>gas_station</th>\n",
       "      <th>general_contractor</th>\n",
       "      <th>grocery_or_supermarket</th>\n",
       "      <th>hair_care</th>\n",
       "      <th>hardware_store</th>\n",
       "      <th>health</th>\n",
       "      <th>home_goods_store</th>\n",
       "      <th>jewelry_store</th>\n",
       "      <th>laundry</th>\n",
       "      <th>liquor_store</th>\n",
       "      <th>local_government_office</th>\n",
       "      <th>locksmith</th>\n",
       "      <th>lodging</th>\n",
       "      <th>meal_delivery</th>\n",
       "      <th>meal_takeaway</th>\n",
       "      <th>movie_rental</th>\n",
       "      <th>night_club</th>\n",
       "      <th>park</th>\n",
       "      <th>parking</th>\n",
       "      <th>pet_store</th>\n",
       "      <th>pharmacy</th>\n",
       "      <th>point_of_interest</th>\n",
       "      <th>premise</th>\n",
       "      <th>restaurant</th>\n",
       "      <th>school</th>\n",
       "      <th>shoe_store</th>\n",
       "      <th>shopping_mall</th>\n",
       "      <th>spa</th>\n",
       "      <th>storage</th>\n",
       "      <th>store</th>\n",
       "      <th>supermarket</th>\n",
       "      <th>tourist_attraction</th>\n",
       "      <th>travel_agency</th>\n",
       "      <th>population</th>\n",
       "      <th>population_density_square_miles</th>\n",
       "      <th>housing_units</th>\n",
       "      <th>home_price_to_income_ratios</th>\n",
       "      <th>price_level*rating</th>\n",
       "      <th>avg_price_level_by_zipcode</th>\n",
       "      <th>avg_rating_by_zipcode</th>\n",
       "      <th>avg_user_ratings_total_by_zipcode</th>\n",
       "      <th>total_number_of_bars_by_zipcode</th>\n",
       "      <th>total_number_of_cafes_by_zipcode</th>\n",
       "      <th>user_ratings_total_per_capita</th>\n",
       "      <th>rating_weighed_population_density</th>\n",
       "      <th>open_now_False</th>\n",
       "      <th>open_now_True</th>\n",
       "      <th>open_now_nan</th>\n",
       "    </tr>\n",
       "  </thead>\n",
       "  <tbody>\n",
       "    <tr>\n",
       "      <td>0</td>\n",
       "      <td>1.0</td>\n",
       "      <td>4.5</td>\n",
       "      <td>51</td>\n",
       "      <td>0</td>\n",
       "      <td>0</td>\n",
       "      <td>0</td>\n",
       "      <td>0</td>\n",
       "      <td>0</td>\n",
       "      <td>0</td>\n",
       "      <td>0</td>\n",
       "      <td>0</td>\n",
       "      <td>0</td>\n",
       "      <td>0</td>\n",
       "      <td>0</td>\n",
       "      <td>0</td>\n",
       "      <td>0</td>\n",
       "      <td>0</td>\n",
       "      <td>0</td>\n",
       "      <td>0</td>\n",
       "      <td>1</td>\n",
       "      <td>0</td>\n",
       "      <td>0</td>\n",
       "      <td>1</td>\n",
       "      <td>0</td>\n",
       "      <td>0</td>\n",
       "      <td>0</td>\n",
       "      <td>0</td>\n",
       "      <td>0</td>\n",
       "      <td>0</td>\n",
       "      <td>0</td>\n",
       "      <td>0</td>\n",
       "      <td>0</td>\n",
       "      <td>0</td>\n",
       "      <td>0</td>\n",
       "      <td>0</td>\n",
       "      <td>0</td>\n",
       "      <td>0</td>\n",
       "      <td>0</td>\n",
       "      <td>1</td>\n",
       "      <td>0</td>\n",
       "      <td>0</td>\n",
       "      <td>0</td>\n",
       "      <td>0</td>\n",
       "      <td>0</td>\n",
       "      <td>0</td>\n",
       "      <td>0</td>\n",
       "      <td>1</td>\n",
       "      <td>0</td>\n",
       "      <td>1</td>\n",
       "      <td>0</td>\n",
       "      <td>0</td>\n",
       "      <td>0</td>\n",
       "      <td>0</td>\n",
       "      <td>0</td>\n",
       "      <td>0</td>\n",
       "      <td>0</td>\n",
       "      <td>0</td>\n",
       "      <td>0</td>\n",
       "      <td>20801</td>\n",
       "      <td>15418.1</td>\n",
       "      <td>6584</td>\n",
       "      <td>6.111280</td>\n",
       "      <td>4.5</td>\n",
       "      <td>1.583333</td>\n",
       "      <td>4.292857</td>\n",
       "      <td>185.964286</td>\n",
       "      <td>2</td>\n",
       "      <td>3</td>\n",
       "      <td>0.002452</td>\n",
       "      <td>69381.45</td>\n",
       "      <td>0</td>\n",
       "      <td>1</td>\n",
       "      <td>0</td>\n",
       "    </tr>\n",
       "    <tr>\n",
       "      <td>1</td>\n",
       "      <td>2.0</td>\n",
       "      <td>4.1</td>\n",
       "      <td>949</td>\n",
       "      <td>0</td>\n",
       "      <td>0</td>\n",
       "      <td>0</td>\n",
       "      <td>0</td>\n",
       "      <td>0</td>\n",
       "      <td>0</td>\n",
       "      <td>0</td>\n",
       "      <td>0</td>\n",
       "      <td>0</td>\n",
       "      <td>0</td>\n",
       "      <td>0</td>\n",
       "      <td>0</td>\n",
       "      <td>0</td>\n",
       "      <td>0</td>\n",
       "      <td>0</td>\n",
       "      <td>0</td>\n",
       "      <td>1</td>\n",
       "      <td>0</td>\n",
       "      <td>0</td>\n",
       "      <td>1</td>\n",
       "      <td>0</td>\n",
       "      <td>0</td>\n",
       "      <td>0</td>\n",
       "      <td>0</td>\n",
       "      <td>0</td>\n",
       "      <td>0</td>\n",
       "      <td>0</td>\n",
       "      <td>0</td>\n",
       "      <td>0</td>\n",
       "      <td>0</td>\n",
       "      <td>0</td>\n",
       "      <td>0</td>\n",
       "      <td>0</td>\n",
       "      <td>0</td>\n",
       "      <td>0</td>\n",
       "      <td>1</td>\n",
       "      <td>0</td>\n",
       "      <td>0</td>\n",
       "      <td>0</td>\n",
       "      <td>0</td>\n",
       "      <td>0</td>\n",
       "      <td>0</td>\n",
       "      <td>0</td>\n",
       "      <td>1</td>\n",
       "      <td>0</td>\n",
       "      <td>1</td>\n",
       "      <td>0</td>\n",
       "      <td>0</td>\n",
       "      <td>0</td>\n",
       "      <td>0</td>\n",
       "      <td>0</td>\n",
       "      <td>0</td>\n",
       "      <td>0</td>\n",
       "      <td>0</td>\n",
       "      <td>0</td>\n",
       "      <td>71360</td>\n",
       "      <td>49208.9</td>\n",
       "      <td>29973</td>\n",
       "      <td>4.908541</td>\n",
       "      <td>8.2</td>\n",
       "      <td>1.697674</td>\n",
       "      <td>4.069811</td>\n",
       "      <td>404.811321</td>\n",
       "      <td>9</td>\n",
       "      <td>14</td>\n",
       "      <td>0.013299</td>\n",
       "      <td>201756.49</td>\n",
       "      <td>0</td>\n",
       "      <td>1</td>\n",
       "      <td>0</td>\n",
       "    </tr>\n",
       "    <tr>\n",
       "      <td>4</td>\n",
       "      <td>1.0</td>\n",
       "      <td>4.4</td>\n",
       "      <td>225</td>\n",
       "      <td>0</td>\n",
       "      <td>0</td>\n",
       "      <td>0</td>\n",
       "      <td>0</td>\n",
       "      <td>0</td>\n",
       "      <td>0</td>\n",
       "      <td>0</td>\n",
       "      <td>0</td>\n",
       "      <td>0</td>\n",
       "      <td>0</td>\n",
       "      <td>0</td>\n",
       "      <td>0</td>\n",
       "      <td>0</td>\n",
       "      <td>0</td>\n",
       "      <td>0</td>\n",
       "      <td>0</td>\n",
       "      <td>1</td>\n",
       "      <td>0</td>\n",
       "      <td>0</td>\n",
       "      <td>1</td>\n",
       "      <td>0</td>\n",
       "      <td>0</td>\n",
       "      <td>0</td>\n",
       "      <td>0</td>\n",
       "      <td>0</td>\n",
       "      <td>0</td>\n",
       "      <td>0</td>\n",
       "      <td>0</td>\n",
       "      <td>0</td>\n",
       "      <td>0</td>\n",
       "      <td>0</td>\n",
       "      <td>0</td>\n",
       "      <td>0</td>\n",
       "      <td>0</td>\n",
       "      <td>0</td>\n",
       "      <td>0</td>\n",
       "      <td>0</td>\n",
       "      <td>0</td>\n",
       "      <td>0</td>\n",
       "      <td>0</td>\n",
       "      <td>0</td>\n",
       "      <td>0</td>\n",
       "      <td>0</td>\n",
       "      <td>1</td>\n",
       "      <td>0</td>\n",
       "      <td>1</td>\n",
       "      <td>0</td>\n",
       "      <td>0</td>\n",
       "      <td>0</td>\n",
       "      <td>0</td>\n",
       "      <td>0</td>\n",
       "      <td>0</td>\n",
       "      <td>0</td>\n",
       "      <td>0</td>\n",
       "      <td>0</td>\n",
       "      <td>42653</td>\n",
       "      <td>45228.0</td>\n",
       "      <td>20974</td>\n",
       "      <td>5.721885</td>\n",
       "      <td>4.4</td>\n",
       "      <td>1.675676</td>\n",
       "      <td>4.040816</td>\n",
       "      <td>470.163265</td>\n",
       "      <td>8</td>\n",
       "      <td>10</td>\n",
       "      <td>0.005275</td>\n",
       "      <td>199003.20</td>\n",
       "      <td>0</td>\n",
       "      <td>1</td>\n",
       "      <td>0</td>\n",
       "    </tr>\n",
       "    <tr>\n",
       "      <td>5</td>\n",
       "      <td>2.0</td>\n",
       "      <td>4.2</td>\n",
       "      <td>464</td>\n",
       "      <td>0</td>\n",
       "      <td>0</td>\n",
       "      <td>0</td>\n",
       "      <td>0</td>\n",
       "      <td>0</td>\n",
       "      <td>0</td>\n",
       "      <td>0</td>\n",
       "      <td>1</td>\n",
       "      <td>0</td>\n",
       "      <td>0</td>\n",
       "      <td>0</td>\n",
       "      <td>0</td>\n",
       "      <td>0</td>\n",
       "      <td>0</td>\n",
       "      <td>0</td>\n",
       "      <td>0</td>\n",
       "      <td>1</td>\n",
       "      <td>0</td>\n",
       "      <td>0</td>\n",
       "      <td>1</td>\n",
       "      <td>0</td>\n",
       "      <td>0</td>\n",
       "      <td>0</td>\n",
       "      <td>0</td>\n",
       "      <td>0</td>\n",
       "      <td>0</td>\n",
       "      <td>0</td>\n",
       "      <td>0</td>\n",
       "      <td>0</td>\n",
       "      <td>0</td>\n",
       "      <td>0</td>\n",
       "      <td>0</td>\n",
       "      <td>0</td>\n",
       "      <td>0</td>\n",
       "      <td>0</td>\n",
       "      <td>0</td>\n",
       "      <td>0</td>\n",
       "      <td>0</td>\n",
       "      <td>0</td>\n",
       "      <td>0</td>\n",
       "      <td>0</td>\n",
       "      <td>0</td>\n",
       "      <td>0</td>\n",
       "      <td>1</td>\n",
       "      <td>0</td>\n",
       "      <td>0</td>\n",
       "      <td>0</td>\n",
       "      <td>0</td>\n",
       "      <td>0</td>\n",
       "      <td>0</td>\n",
       "      <td>0</td>\n",
       "      <td>1</td>\n",
       "      <td>0</td>\n",
       "      <td>0</td>\n",
       "      <td>0</td>\n",
       "      <td>20801</td>\n",
       "      <td>15418.1</td>\n",
       "      <td>6584</td>\n",
       "      <td>6.111280</td>\n",
       "      <td>8.4</td>\n",
       "      <td>1.583333</td>\n",
       "      <td>4.292857</td>\n",
       "      <td>185.964286</td>\n",
       "      <td>2</td>\n",
       "      <td>3</td>\n",
       "      <td>0.022307</td>\n",
       "      <td>64756.02</td>\n",
       "      <td>0</td>\n",
       "      <td>1</td>\n",
       "      <td>0</td>\n",
       "    </tr>\n",
       "    <tr>\n",
       "      <td>8</td>\n",
       "      <td>2.0</td>\n",
       "      <td>3.9</td>\n",
       "      <td>172</td>\n",
       "      <td>0</td>\n",
       "      <td>0</td>\n",
       "      <td>0</td>\n",
       "      <td>0</td>\n",
       "      <td>0</td>\n",
       "      <td>0</td>\n",
       "      <td>0</td>\n",
       "      <td>0</td>\n",
       "      <td>0</td>\n",
       "      <td>0</td>\n",
       "      <td>0</td>\n",
       "      <td>0</td>\n",
       "      <td>0</td>\n",
       "      <td>0</td>\n",
       "      <td>0</td>\n",
       "      <td>0</td>\n",
       "      <td>1</td>\n",
       "      <td>0</td>\n",
       "      <td>0</td>\n",
       "      <td>0</td>\n",
       "      <td>0</td>\n",
       "      <td>0</td>\n",
       "      <td>0</td>\n",
       "      <td>0</td>\n",
       "      <td>0</td>\n",
       "      <td>0</td>\n",
       "      <td>0</td>\n",
       "      <td>0</td>\n",
       "      <td>0</td>\n",
       "      <td>0</td>\n",
       "      <td>0</td>\n",
       "      <td>0</td>\n",
       "      <td>0</td>\n",
       "      <td>0</td>\n",
       "      <td>0</td>\n",
       "      <td>0</td>\n",
       "      <td>0</td>\n",
       "      <td>0</td>\n",
       "      <td>0</td>\n",
       "      <td>0</td>\n",
       "      <td>0</td>\n",
       "      <td>0</td>\n",
       "      <td>0</td>\n",
       "      <td>1</td>\n",
       "      <td>0</td>\n",
       "      <td>0</td>\n",
       "      <td>0</td>\n",
       "      <td>0</td>\n",
       "      <td>0</td>\n",
       "      <td>0</td>\n",
       "      <td>0</td>\n",
       "      <td>1</td>\n",
       "      <td>0</td>\n",
       "      <td>0</td>\n",
       "      <td>0</td>\n",
       "      <td>93967</td>\n",
       "      <td>61733.7</td>\n",
       "      <td>33886</td>\n",
       "      <td>10.657836</td>\n",
       "      <td>7.8</td>\n",
       "      <td>1.658537</td>\n",
       "      <td>4.076923</td>\n",
       "      <td>1042.788462</td>\n",
       "      <td>3</td>\n",
       "      <td>12</td>\n",
       "      <td>0.001830</td>\n",
       "      <td>240761.43</td>\n",
       "      <td>0</td>\n",
       "      <td>1</td>\n",
       "      <td>0</td>\n",
       "    </tr>\n",
       "  </tbody>\n",
       "</table>\n",
       "</div>"
      ],
      "text/plain": [
       "   price_level  rating  user_ratings_total  art_gallery  atm  bakery  bar  \\\n",
       "0          1.0     4.5                  51            0    0       0    0   \n",
       "1          2.0     4.1                 949            0    0       0    0   \n",
       "4          1.0     4.4                 225            0    0       0    0   \n",
       "5          2.0     4.2                 464            0    0       0    0   \n",
       "8          2.0     3.9                 172            0    0       0    0   \n",
       "\n",
       "   beauty_salon  bicycle_store  book_store  cafe  car_dealer  car_repair  \\\n",
       "0             0              0           0     0           0           0   \n",
       "1             0              0           0     0           0           0   \n",
       "4             0              0           0     0           0           0   \n",
       "5             0              0           0     1           0           0   \n",
       "8             0              0           0     0           0           0   \n",
       "\n",
       "   car_wash  clothing_store  convenience_store  department_store  drugstore  \\\n",
       "0         0               0                  0                 0          0   \n",
       "1         0               0                  0                 0          0   \n",
       "4         0               0                  0                 0          0   \n",
       "5         0               0                  0                 0          0   \n",
       "8         0               0                  0                 0          0   \n",
       "\n",
       "   electronics_store  establishment  finance  florist  food  funeral_home  \\\n",
       "0                  0              1        0        0     1             0   \n",
       "1                  0              1        0        0     1             0   \n",
       "4                  0              1        0        0     1             0   \n",
       "5                  0              1        0        0     1             0   \n",
       "8                  0              1        0        0     0             0   \n",
       "\n",
       "   furniture_store  gas_station  general_contractor  grocery_or_supermarket  \\\n",
       "0                0            0                   0                       0   \n",
       "1                0            0                   0                       0   \n",
       "4                0            0                   0                       0   \n",
       "5                0            0                   0                       0   \n",
       "8                0            0                   0                       0   \n",
       "\n",
       "   hair_care  hardware_store  health  home_goods_store  jewelry_store  \\\n",
       "0          0               0       0                 0              0   \n",
       "1          0               0       0                 0              0   \n",
       "4          0               0       0                 0              0   \n",
       "5          0               0       0                 0              0   \n",
       "8          0               0       0                 0              0   \n",
       "\n",
       "   laundry  liquor_store  local_government_office  locksmith  lodging  \\\n",
       "0        0             0                        0          0        0   \n",
       "1        0             0                        0          0        0   \n",
       "4        0             0                        0          0        0   \n",
       "5        0             0                        0          0        0   \n",
       "8        0             0                        0          0        0   \n",
       "\n",
       "   meal_delivery  meal_takeaway  movie_rental  night_club  park  parking  \\\n",
       "0              1              0             0           0     0        0   \n",
       "1              1              0             0           0     0        0   \n",
       "4              0              0             0           0     0        0   \n",
       "5              0              0             0           0     0        0   \n",
       "8              0              0             0           0     0        0   \n",
       "\n",
       "   pet_store  pharmacy  point_of_interest  premise  restaurant  school  \\\n",
       "0          0         0                  1        0           1       0   \n",
       "1          0         0                  1        0           1       0   \n",
       "4          0         0                  1        0           1       0   \n",
       "5          0         0                  1        0           0       0   \n",
       "8          0         0                  1        0           0       0   \n",
       "\n",
       "   shoe_store  shopping_mall  spa  storage  store  supermarket  \\\n",
       "0           0              0    0        0      0            0   \n",
       "1           0              0    0        0      0            0   \n",
       "4           0              0    0        0      0            0   \n",
       "5           0              0    0        0      1            0   \n",
       "8           0              0    0        0      1            0   \n",
       "\n",
       "   tourist_attraction  travel_agency  population  \\\n",
       "0                   0              0       20801   \n",
       "1                   0              0       71360   \n",
       "4                   0              0       42653   \n",
       "5                   0              0       20801   \n",
       "8                   0              0       93967   \n",
       "\n",
       "   population_density_square_miles  housing_units  \\\n",
       "0                          15418.1           6584   \n",
       "1                          49208.9          29973   \n",
       "4                          45228.0          20974   \n",
       "5                          15418.1           6584   \n",
       "8                          61733.7          33886   \n",
       "\n",
       "   home_price_to_income_ratios  price_level*rating  \\\n",
       "0                     6.111280                 4.5   \n",
       "1                     4.908541                 8.2   \n",
       "4                     5.721885                 4.4   \n",
       "5                     6.111280                 8.4   \n",
       "8                    10.657836                 7.8   \n",
       "\n",
       "   avg_price_level_by_zipcode  avg_rating_by_zipcode  \\\n",
       "0                    1.583333               4.292857   \n",
       "1                    1.697674               4.069811   \n",
       "4                    1.675676               4.040816   \n",
       "5                    1.583333               4.292857   \n",
       "8                    1.658537               4.076923   \n",
       "\n",
       "   avg_user_ratings_total_by_zipcode  total_number_of_bars_by_zipcode  \\\n",
       "0                         185.964286                                2   \n",
       "1                         404.811321                                9   \n",
       "4                         470.163265                                8   \n",
       "5                         185.964286                                2   \n",
       "8                        1042.788462                                3   \n",
       "\n",
       "   total_number_of_cafes_by_zipcode  user_ratings_total_per_capita  \\\n",
       "0                                 3                       0.002452   \n",
       "1                                14                       0.013299   \n",
       "4                                10                       0.005275   \n",
       "5                                 3                       0.022307   \n",
       "8                                12                       0.001830   \n",
       "\n",
       "   rating_weighed_population_density  open_now_False  open_now_True  \\\n",
       "0                           69381.45               0              1   \n",
       "1                          201756.49               0              1   \n",
       "4                          199003.20               0              1   \n",
       "5                           64756.02               0              1   \n",
       "8                          240761.43               0              1   \n",
       "\n",
       "   open_now_nan  \n",
       "0             0  \n",
       "1             0  \n",
       "4             0  \n",
       "5             0  \n",
       "8             0  "
      ]
     },
     "execution_count": 18,
     "metadata": {},
     "output_type": "execute_result"
    }
   ],
   "source": [
    "final.head()"
   ]
  },
  {
   "cell_type": "code",
   "execution_count": 19,
   "metadata": {},
   "outputs": [],
   "source": [
    "target = 'home_price_to_income_ratios'\n",
    "X = final.drop(columns=target)\n",
    "y = final[target]"
   ]
  },
  {
   "cell_type": "code",
   "execution_count": 20,
   "metadata": {},
   "outputs": [],
   "source": [
    "X_train, X_test, y_train, y_test = train_test_split(X, y, random_state=42, train_size=0.70)"
   ]
  },
  {
   "cell_type": "markdown",
   "metadata": {},
   "source": [
    "## Baseline Model"
   ]
  },
  {
   "cell_type": "markdown",
   "metadata": {},
   "source": [
    "[reference](https://chrisalbon.com/machine_learning/model_evaluation/create_baseline_regression_model/)"
   ]
  },
  {
   "cell_type": "code",
   "execution_count": null,
   "metadata": {},
   "outputs": [],
   "source": []
  },
  {
   "cell_type": "code",
   "execution_count": 21,
   "metadata": {},
   "outputs": [],
   "source": [
    "dummy_mean = DummyRegressor(strategy='mean', constant=20).fit(X_train, y_train)"
   ]
  },
  {
   "cell_type": "code",
   "execution_count": 22,
   "metadata": {},
   "outputs": [
    {
     "data": {
      "text/plain": [
       "0.0"
      ]
     },
     "execution_count": 22,
     "metadata": {},
     "output_type": "execute_result"
    }
   ],
   "source": [
    "dummy_mean.score(X_train, y_train)"
   ]
  },
  {
   "cell_type": "code",
   "execution_count": 23,
   "metadata": {
    "scrolled": true
   },
   "outputs": [
    {
     "data": {
      "text/plain": [
       "-1.4348901402172487e-05"
      ]
     },
     "execution_count": 23,
     "metadata": {},
     "output_type": "execute_result"
    }
   ],
   "source": [
    "dummy_mean.score(X_test, y_test)"
   ]
  },
  {
   "cell_type": "markdown",
   "metadata": {},
   "source": [
    "## Linear Regression"
   ]
  },
  {
   "cell_type": "code",
   "execution_count": 24,
   "metadata": {},
   "outputs": [],
   "source": [
    "lr = LinearRegression()"
   ]
  },
  {
   "cell_type": "code",
   "execution_count": 25,
   "metadata": {},
   "outputs": [
    {
     "data": {
      "text/plain": [
       "LinearRegression(copy_X=True, fit_intercept=True, n_jobs=None, normalize=False)"
      ]
     },
     "execution_count": 25,
     "metadata": {},
     "output_type": "execute_result"
    }
   ],
   "source": [
    "lr.fit(X_train, y_train)"
   ]
  },
  {
   "cell_type": "code",
   "execution_count": 26,
   "metadata": {},
   "outputs": [
    {
     "data": {
      "text/plain": [
       "0.20156186295111123"
      ]
     },
     "execution_count": 26,
     "metadata": {},
     "output_type": "execute_result"
    }
   ],
   "source": [
    "lr.score(X_train, y_train)"
   ]
  },
  {
   "cell_type": "code",
   "execution_count": 27,
   "metadata": {},
   "outputs": [
    {
     "data": {
      "text/plain": [
       "0.22338322423808477"
      ]
     },
     "execution_count": 27,
     "metadata": {},
     "output_type": "execute_result"
    }
   ],
   "source": [
    "lr.score(X_test, y_test)"
   ]
  },
  {
   "cell_type": "code",
   "execution_count": 28,
   "metadata": {
    "scrolled": true
   },
   "outputs": [
    {
     "data": {
      "text/plain": [
       "0.19122934914794565"
      ]
     },
     "execution_count": 28,
     "metadata": {},
     "output_type": "execute_result"
    }
   ],
   "source": [
    "cross_val_score(lr, X, y, cv=5).mean()"
   ]
  },
  {
   "cell_type": "markdown",
   "metadata": {},
   "source": [
    "## KNN"
   ]
  },
  {
   "cell_type": "code",
   "execution_count": 29,
   "metadata": {},
   "outputs": [],
   "source": [
    "# Use a pipeline to combine StandardScaler and KNN\n",
    "pipe = Pipeline(steps=[\n",
    "    ('sc', StandardScaler()),\n",
    "    ('knn', KNeighborsRegressor())\n",
    "])\n",
    "\n",
    "pipe_params = {\n",
    "    'knn__n_neighbors': [3, 5, 7, 9],\n",
    "    'knn__p' : [1, 2],\n",
    "    'knn__weights' : ['uniform', 'distance']\n",
    "}\n",
    "\n",
    "gs_knn = GridSearchCV(\n",
    "    pipe,\n",
    "    pipe_params,\n",
    "    cv=5\n",
    ").fit(X_train, y_train);"
   ]
  },
  {
   "cell_type": "code",
   "execution_count": 30,
   "metadata": {},
   "outputs": [
    {
     "data": {
      "text/plain": [
       "{'knn__n_neighbors': 5, 'knn__p': 1, 'knn__weights': 'distance'}"
      ]
     },
     "execution_count": 30,
     "metadata": {},
     "output_type": "execute_result"
    }
   ],
   "source": [
    "gs_knn.best_params_"
   ]
  },
  {
   "cell_type": "code",
   "execution_count": 31,
   "metadata": {},
   "outputs": [
    {
     "data": {
      "text/plain": [
       "0.5755138458871232"
      ]
     },
     "execution_count": 31,
     "metadata": {},
     "output_type": "execute_result"
    }
   ],
   "source": [
    "gs_knn.best_score_"
   ]
  },
  {
   "cell_type": "code",
   "execution_count": 32,
   "metadata": {},
   "outputs": [
    {
     "data": {
      "text/plain": [
       "1.0"
      ]
     },
     "execution_count": 32,
     "metadata": {},
     "output_type": "execute_result"
    }
   ],
   "source": [
    "gs_knn.score(X_train, y_train)"
   ]
  },
  {
   "cell_type": "code",
   "execution_count": 33,
   "metadata": {},
   "outputs": [
    {
     "data": {
      "text/plain": [
       "0.6803089220782124"
      ]
     },
     "execution_count": 33,
     "metadata": {},
     "output_type": "execute_result"
    }
   ],
   "source": [
    "gs_knn.score(X_test, y_test)"
   ]
  },
  {
   "cell_type": "code",
   "execution_count": 34,
   "metadata": {},
   "outputs": [
    {
     "data": {
      "text/plain": [
       "0.6632024576726673"
      ]
     },
     "execution_count": 34,
     "metadata": {},
     "output_type": "execute_result"
    }
   ],
   "source": [
    "cross_val_score(gs_knn.best_estimator_, X, y, scoring='r2', cv=5).mean()"
   ]
  },
  {
   "cell_type": "markdown",
   "metadata": {},
   "source": [
    "## Tree"
   ]
  },
  {
   "cell_type": "code",
   "execution_count": 35,
   "metadata": {},
   "outputs": [],
   "source": [
    "# Use grid search to find best hyperparams\n",
    "tree = DecisionTreeRegressor(random_state=42).fit(X_train, y_train)"
   ]
  },
  {
   "cell_type": "code",
   "execution_count": 36,
   "metadata": {},
   "outputs": [
    {
     "data": {
      "text/plain": [
       "1.0"
      ]
     },
     "execution_count": 36,
     "metadata": {},
     "output_type": "execute_result"
    }
   ],
   "source": [
    "tree.score(X_train, y_train)"
   ]
  },
  {
   "cell_type": "code",
   "execution_count": 37,
   "metadata": {
    "scrolled": true
   },
   "outputs": [
    {
     "data": {
      "text/plain": [
       "1.0"
      ]
     },
     "execution_count": 37,
     "metadata": {},
     "output_type": "execute_result"
    }
   ],
   "source": [
    "tree.score(X_test, y_test)"
   ]
  },
  {
   "cell_type": "code",
   "execution_count": 38,
   "metadata": {},
   "outputs": [
    {
     "data": {
      "text/plain": [
       "0.9977539664592104"
      ]
     },
     "execution_count": 38,
     "metadata": {},
     "output_type": "execute_result"
    }
   ],
   "source": [
    "cross_val_score(tree, X, y, scoring='r2', cv=5).mean()"
   ]
  },
  {
   "cell_type": "code",
   "execution_count": 39,
   "metadata": {
    "scrolled": false
   },
   "outputs": [],
   "source": [
    "feature_importance = pd.DataFrame(dict(zip(X_train.columns, tree.feature_importances_)).items())"
   ]
  },
  {
   "cell_type": "code",
   "execution_count": 40,
   "metadata": {},
   "outputs": [],
   "source": [
    "feature_importance = feature_importance.sort_values(by=[1])"
   ]
  },
  {
   "cell_type": "code",
   "execution_count": 41,
   "metadata": {},
   "outputs": [
    {
     "data": {
      "text/plain": [
       "<BarContainer object of 72 artists>"
      ]
     },
     "execution_count": 41,
     "metadata": {},
     "output_type": "execute_result"
    },
    {
     "data": {
      "image/png": "[encoded data removed]",
      "text/plain": [
       "<Figure size 720x1080 with 1 Axes>"
      ]
     },
     "metadata": {
      "needs_background": "light"
     },
     "output_type": "display_data"
    }
   ],
   "source": [
    "plt.figure(figsize=(10, 15))\n",
    "plt.barh(y = feature_importance[0], width=feature_importance[1])"
   ]
  },
  {
   "cell_type": "code",
   "execution_count": 42,
   "metadata": {},
   "outputs": [],
   "source": [
    "preds = tree.predict(X_test)"
   ]
  },
  {
   "cell_type": "code",
   "execution_count": 43,
   "metadata": {
    "scrolled": true
   },
   "outputs": [
    {
     "data": {
      "text/plain": [
       "<matplotlib.axes._subplots.AxesSubplot at 0x1344a8290>"
      ]
     },
     "execution_count": 43,
     "metadata": {},
     "output_type": "execute_result"
    },
    {
     "data": {
      "image/png": "[encoded data removed]",
      "text/plain": [
       "<Figure size 432x288 with 1 Axes>"
      ]
     },
     "metadata": {
      "needs_background": "light"
     },
     "output_type": "display_data"
    }
   ],
   "source": [
    "sns.scatterplot(x = y_test, y = preds, alpha = .5)"
   ]
  },
  {
   "cell_type": "code",
   "execution_count": 44,
   "metadata": {},
   "outputs": [],
   "source": [
    "resids = y_test - preds"
   ]
  },
  {
   "cell_type": "code",
   "execution_count": 45,
   "metadata": {},
   "outputs": [
    {
     "data": {
      "text/plain": [
       "<matplotlib.axes._subplots.AxesSubplot at 0x1348fc910>"
      ]
     },
     "execution_count": 45,
     "metadata": {},
     "output_type": "execute_result"
    },
    {
     "data": {
      "image/png": "[encoded data removed]",
      "text/plain": [
       "<Figure size 432x288 with 1 Axes>"
      ]
     },
     "metadata": {
      "needs_background": "light"
     },
     "output_type": "display_data"
    }
   ],
   "source": [
    "sns.scatterplot(x = range(len(resids)),y = resids, alpha = .5)"
   ]
  }
 ],
 "metadata": {
  "kernelspec": {
   "display_name": "Python 3",
   "language": "python",
   "name": "python3"
  },
  "language_info": {
   "codemirror_mode": {
    "name": "ipython",
    "version": 3
   },
   "file_extension": ".py",
   "mimetype": "text/x-python",
   "name": "python",
   "nbconvert_exporter": "python",
   "pygments_lexer": "ipython3",
   "version": "3.7.4"
  },
  "toc": {
   "base_numbering": 1,
   "nav_menu": {},
   "number_sections": true,
   "sideBar": true,
   "skip_h1_title": false,
   "title_cell": "Table of Contents",
   "title_sidebar": "Contents",
   "toc_cell": true,
   "toc_position": {
    "height": "calc(100% - 180px)",
    "left": "10px",
    "top": "150px",
    "width": "301.804px"
   },
   "toc_section_display": true,
   "toc_window_display": true
  }
 },
 "nbformat": 4,
 "nbformat_minor": 2
}
