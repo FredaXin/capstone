{
 "cells": [
  {
   "cell_type": "markdown",
   "metadata": {},
   "source": [
    "# Modeling Phase 2: Aggregation"
   ]
  },
  {
   "cell_type": "markdown",
   "metadata": {},
   "source": [
    "- In Phase 2, I will use the **New York State** dataset to train the models. \n",
    "- The dataset consist of **1,521 observations**, and each observation is a aggregated value representing a zipcode. The aggregated value was generated using 87,684 businesses informations from Google. \n",
    "- The goal for this phase is to explore different modeling options and choose the best type of model for this dataset. \n",
    "- In Phase 2, some features from the **Income dataset**, such as population, population density, will be used in training the models. \n",
    "- I will use **R2 score** as the metric to evaluate the models. "
   ]
  },
  {
   "cell_type": "markdown",
   "metadata": {
    "toc": true
   },
   "source": [
    "<h1>Table of Contents<span class=\"tocSkip\"></span></h1>\n",
    "<div class=\"toc\"><ul class=\"toc-item\"><li><span><a href=\"#Modeling-Phase-2:-Aggregation\" data-toc-modified-id=\"Modeling-Phase-2:-Aggregation-1\"><span class=\"toc-item-num\">1&nbsp;&nbsp;</span>Modeling Phase 2: Aggregation</a></span><ul class=\"toc-item\"><li><span><a href=\"#Import-Libraries\" data-toc-modified-id=\"Import-Libraries-1.1\"><span class=\"toc-item-num\">1.1&nbsp;&nbsp;</span>Import Libraries</a></span></li><li><span><a href=\"#Define-constants\" data-toc-modified-id=\"Define-constants-1.2\"><span class=\"toc-item-num\">1.2&nbsp;&nbsp;</span>Define constants</a></span></li><li><span><a href=\"#Read-in-data\" data-toc-modified-id=\"Read-in-data-1.3\"><span class=\"toc-item-num\">1.3&nbsp;&nbsp;</span>Read in data</a></span></li><li><span><a href=\"#Preprocessing\" data-toc-modified-id=\"Preprocessing-1.4\"><span class=\"toc-item-num\">1.4&nbsp;&nbsp;</span>Preprocessing</a></span><ul class=\"toc-item\"><li><span><a href=\"#Pattern-submodel-to-handle-missing-values\" data-toc-modified-id=\"Pattern-submodel-to-handle-missing-values-1.4.1\"><span class=\"toc-item-num\">1.4.1&nbsp;&nbsp;</span>Pattern submodel to handle missing values</a></span></li></ul></li><li><span><a href=\"#Model-preparation\" data-toc-modified-id=\"Model-preparation-1.5\"><span class=\"toc-item-num\">1.5&nbsp;&nbsp;</span>Model preparation</a></span></li><li><span><a href=\"#Modeling\" data-toc-modified-id=\"Modeling-1.6\"><span class=\"toc-item-num\">1.6&nbsp;&nbsp;</span>Modeling</a></span><ul class=\"toc-item\"><li><span><a href=\"#Baseline-model\" data-toc-modified-id=\"Baseline-model-1.6.1\"><span class=\"toc-item-num\">1.6.1&nbsp;&nbsp;</span>Baseline model</a></span></li><li><span><a href=\"#Linear-Regression\" data-toc-modified-id=\"Linear-Regression-1.6.2\"><span class=\"toc-item-num\">1.6.2&nbsp;&nbsp;</span>Linear Regression</a></span><ul class=\"toc-item\"><li><span><a href=\"#Ridge-Regularzation\" data-toc-modified-id=\"Ridge-Regularzation-1.6.2.1\"><span class=\"toc-item-num\">1.6.2.1&nbsp;&nbsp;</span>Ridge Regularzation</a></span></li><li><span><a href=\"#Lasso-Regularzation\" data-toc-modified-id=\"Lasso-Regularzation-1.6.2.2\"><span class=\"toc-item-num\">1.6.2.2&nbsp;&nbsp;</span>Lasso Regularzation</a></span></li><li><span><a href=\"#Linear-Regression-+-PCA\" data-toc-modified-id=\"Linear-Regression-+-PCA-1.6.2.3\"><span class=\"toc-item-num\">1.6.2.3&nbsp;&nbsp;</span>Linear Regression + PCA</a></span></li></ul></li><li><span><a href=\"#Polynomial-Regression\" data-toc-modified-id=\"Polynomial-Regression-1.6.3\"><span class=\"toc-item-num\">1.6.3&nbsp;&nbsp;</span>Polynomial Regression</a></span></li><li><span><a href=\"#KNN\" data-toc-modified-id=\"KNN-1.6.4\"><span class=\"toc-item-num\">1.6.4&nbsp;&nbsp;</span>KNN</a></span></li><li><span><a href=\"#Tree-Based-Models\" data-toc-modified-id=\"Tree-Based-Models-1.6.5\"><span class=\"toc-item-num\">1.6.5&nbsp;&nbsp;</span>Tree Based Models</a></span><ul class=\"toc-item\"><li><span><a href=\"#Cart\" data-toc-modified-id=\"Cart-1.6.5.1\"><span class=\"toc-item-num\">1.6.5.1&nbsp;&nbsp;</span>Cart</a></span></li><li><span><a href=\"#Bagged-Tree\" data-toc-modified-id=\"Bagged-Tree-1.6.5.2\"><span class=\"toc-item-num\">1.6.5.2&nbsp;&nbsp;</span>Bagged Tree</a></span></li><li><span><a href=\"#Random-Forest\" data-toc-modified-id=\"Random-Forest-1.6.5.3\"><span class=\"toc-item-num\">1.6.5.3&nbsp;&nbsp;</span>Random Forest</a></span></li><li><span><a href=\"#Extra-Trees\" data-toc-modified-id=\"Extra-Trees-1.6.5.4\"><span class=\"toc-item-num\">1.6.5.4&nbsp;&nbsp;</span>Extra Trees</a></span></li><li><span><a href=\"#Ada-Boost\" data-toc-modified-id=\"Ada-Boost-1.6.5.5\"><span class=\"toc-item-num\">1.6.5.5&nbsp;&nbsp;</span>Ada Boost</a></span></li></ul></li><li><span><a href=\"#SVR\" data-toc-modified-id=\"SVR-1.6.6\"><span class=\"toc-item-num\">1.6.6&nbsp;&nbsp;</span>SVR</a></span></li><li><span><a href=\"#Stochastic-Gradient-Descent\" data-toc-modified-id=\"Stochastic-Gradient-Descent-1.6.7\"><span class=\"toc-item-num\">1.6.7&nbsp;&nbsp;</span>Stochastic Gradient Descent</a></span></li></ul></li><li><span><a href=\"#Model-Selection\" data-toc-modified-id=\"Model-Selection-1.7\"><span class=\"toc-item-num\">1.7&nbsp;&nbsp;</span>Model Selection</a></span></li><li><span><a href=\"#Model-Evaluation\" data-toc-modified-id=\"Model-Evaluation-1.8\"><span class=\"toc-item-num\">1.8&nbsp;&nbsp;</span>Model Evaluation</a></span><ul class=\"toc-item\"><li><span><a href=\"#Plot-residuals\" data-toc-modified-id=\"Plot-residuals-1.8.1\"><span class=\"toc-item-num\">1.8.1&nbsp;&nbsp;</span>Plot residuals</a></span></li><li><span><a href=\"#Visualize-feature-importance\" data-toc-modified-id=\"Visualize-feature-importance-1.8.2\"><span class=\"toc-item-num\">1.8.2&nbsp;&nbsp;</span>Visualize feature importance</a></span></li><li><span><a href=\"#Visualize-decision-tree\" data-toc-modified-id=\"Visualize-decision-tree-1.8.3\"><span class=\"toc-item-num\">1.8.3&nbsp;&nbsp;</span>Visualize decision tree</a></span></li></ul></li><li><span><a href=\"#Conclusion-and-Transition-into-Phase-3\" data-toc-modified-id=\"Conclusion-and-Transition-into-Phase-3-1.9\"><span class=\"toc-item-num\">1.9&nbsp;&nbsp;</span>Conclusion and Transition into Phase 3</a></span></li></ul></li></ul></div>"
   ]
  },
  {
   "cell_type": "markdown",
   "metadata": {},
   "source": [
    "## Import Libraries"
   ]
  },
  {
   "cell_type": "code",
   "execution_count": 1,
   "metadata": {},
   "outputs": [
    {
     "name": "stderr",
     "output_type": "stream",
     "text": [
      "/opt/anaconda3/lib/python3.7/site-packages/sklearn/externals/six.py:31: DeprecationWarning: The module is deprecated in version 0.21 and will be removed in version 0.23 since we've dropped support for Python 2.7. Please rely on the official version of six (https://pypi.org/project/six/).\n",
      "  \"(https://pypi.org/project/six/).\", DeprecationWarning)\n"
     ]
    }
   ],
   "source": [
    "import pandas as pd\n",
    "import numpy as np\n",
    "import matplotlib.pyplot as plt\n",
    "import seaborn as sns\n",
    "\n",
    "from sklearn.preprocessing import StandardScaler, PolynomialFeatures\n",
    "from sklearn.model_selection import train_test_split, GridSearchCV, cross_val_score\n",
    "from sklearn.pipeline import Pipeline\n",
    "from sklearn.metrics import r2_score\n",
    "\n",
    "from sklearn.decomposition import PCA\n",
    "from sklearn.dummy import DummyRegressor\n",
    "from sklearn.linear_model import LinearRegression, Ridge, Lasso, SGDRegressor\n",
    "from sklearn.neighbors import KNeighborsRegressor\n",
    "from sklearn.tree import DecisionTreeRegressor\n",
    "from sklearn.ensemble import BaggingRegressor, RandomForestRegressor, ExtraTreesRegressor, AdaBoostRegressor\n",
    "from sklearn.svm import SVR\n",
    "\n",
    "# Libraries to visualize Tree Based models\n",
    "from sklearn.externals.six import StringIO  \n",
    "from IPython.display import Image  \n",
    "from sklearn.tree import export_graphviz\n",
    "import pydotplus\n",
    "\n",
    "%matplotlib inline\n",
    "\n",
    "import warnings\n",
    "warnings.filterwarnings('ignore')"
   ]
  },
  {
   "cell_type": "markdown",
   "metadata": {},
   "source": [
    "## Define constants"
   ]
  },
  {
   "cell_type": "code",
   "execution_count": 2,
   "metadata": {},
   "outputs": [],
   "source": [
    "RANDOM_STATE = 20200304"
   ]
  },
  {
   "cell_type": "code",
   "execution_count": 3,
   "metadata": {},
   "outputs": [],
   "source": [
    "LOCATION = 'ny_state'"
   ]
  },
  {
   "cell_type": "code",
   "execution_count": 4,
   "metadata": {},
   "outputs": [],
   "source": [
    "TARGET = 'log_home_price_to_income_ratios'"
   ]
  },
  {
   "cell_type": "code",
   "execution_count": 5,
   "metadata": {},
   "outputs": [],
   "source": [
    "METRIC = 'r2'"
   ]
  },
  {
   "cell_type": "code",
   "execution_count": 6,
   "metadata": {},
   "outputs": [],
   "source": [
    "CV = 4 "
   ]
  },
  {
   "cell_type": "markdown",
   "metadata": {},
   "source": [
    "## Read in data"
   ]
  },
  {
   "cell_type": "code",
   "execution_count": 7,
   "metadata": {},
   "outputs": [],
   "source": [
    "df = pd.read_csv(f'../data/final_{LOCATION}_agg.csv')"
   ]
  },
  {
   "cell_type": "code",
   "execution_count": 8,
   "metadata": {},
   "outputs": [
    {
     "data": {
      "text/html": [
       "<div>\n",
       "<style scoped>\n",
       "    .dataframe tbody tr th:only-of-type {\n",
       "        vertical-align: middle;\n",
       "    }\n",
       "\n",
       "    .dataframe tbody tr th {\n",
       "        vertical-align: top;\n",
       "    }\n",
       "\n",
       "    .dataframe thead th {\n",
       "        text-align: right;\n",
       "    }\n",
       "</style>\n",
       "<table border=\"1\" class=\"dataframe\">\n",
       "  <thead>\n",
       "    <tr style=\"text-align: right;\">\n",
       "      <th></th>\n",
       "      <th>zipcode</th>\n",
       "      <th>total_accounting</th>\n",
       "      <th>total_airport</th>\n",
       "      <th>total_amusement_park</th>\n",
       "      <th>total_art_gallery</th>\n",
       "      <th>total_atm</th>\n",
       "      <th>total_bakery</th>\n",
       "      <th>total_bank</th>\n",
       "      <th>total_bar</th>\n",
       "      <th>total_beauty_salon</th>\n",
       "      <th>...</th>\n",
       "      <th>mean_price_level</th>\n",
       "      <th>mean_rating</th>\n",
       "      <th>mean_user_ratings_total</th>\n",
       "      <th>population</th>\n",
       "      <th>population_density_square_miles</th>\n",
       "      <th>housing_units</th>\n",
       "      <th>price_level*rating</th>\n",
       "      <th>user_ratings_total_per_capita</th>\n",
       "      <th>rating*population_density</th>\n",
       "      <th>log_home_price_to_income_ratios</th>\n",
       "    </tr>\n",
       "  </thead>\n",
       "  <tbody>\n",
       "    <tr>\n",
       "      <td>0</td>\n",
       "      <td>14741</td>\n",
       "      <td>0</td>\n",
       "      <td>0</td>\n",
       "      <td>0</td>\n",
       "      <td>0</td>\n",
       "      <td>0</td>\n",
       "      <td>0</td>\n",
       "      <td>0</td>\n",
       "      <td>0</td>\n",
       "      <td>0</td>\n",
       "      <td>...</td>\n",
       "      <td>1.000000</td>\n",
       "      <td>4.400000</td>\n",
       "      <td>410.000000</td>\n",
       "      <td>1809</td>\n",
       "      <td>29.4</td>\n",
       "      <td>1260</td>\n",
       "      <td>4.400000</td>\n",
       "      <td>0.226645</td>\n",
       "      <td>129.36000</td>\n",
       "      <td>0.663932</td>\n",
       "    </tr>\n",
       "    <tr>\n",
       "      <td>1</td>\n",
       "      <td>13084</td>\n",
       "      <td>0</td>\n",
       "      <td>0</td>\n",
       "      <td>0</td>\n",
       "      <td>0</td>\n",
       "      <td>1</td>\n",
       "      <td>1</td>\n",
       "      <td>0</td>\n",
       "      <td>4</td>\n",
       "      <td>0</td>\n",
       "      <td>...</td>\n",
       "      <td>1.142857</td>\n",
       "      <td>3.232143</td>\n",
       "      <td>81.928571</td>\n",
       "      <td>3734</td>\n",
       "      <td>86.8</td>\n",
       "      <td>1601</td>\n",
       "      <td>3.693878</td>\n",
       "      <td>0.021941</td>\n",
       "      <td>280.55000</td>\n",
       "      <td>0.852157</td>\n",
       "    </tr>\n",
       "    <tr>\n",
       "      <td>2</td>\n",
       "      <td>13159</td>\n",
       "      <td>0</td>\n",
       "      <td>0</td>\n",
       "      <td>0</td>\n",
       "      <td>1</td>\n",
       "      <td>1</td>\n",
       "      <td>0</td>\n",
       "      <td>0</td>\n",
       "      <td>3</td>\n",
       "      <td>0</td>\n",
       "      <td>...</td>\n",
       "      <td>1.333333</td>\n",
       "      <td>4.112500</td>\n",
       "      <td>108.875000</td>\n",
       "      <td>5348</td>\n",
       "      <td>68.5</td>\n",
       "      <td>2303</td>\n",
       "      <td>5.483333</td>\n",
       "      <td>0.020358</td>\n",
       "      <td>281.70625</td>\n",
       "      <td>0.866606</td>\n",
       "    </tr>\n",
       "    <tr>\n",
       "      <td>3</td>\n",
       "      <td>14476</td>\n",
       "      <td>0</td>\n",
       "      <td>0</td>\n",
       "      <td>0</td>\n",
       "      <td>0</td>\n",
       "      <td>0</td>\n",
       "      <td>0</td>\n",
       "      <td>0</td>\n",
       "      <td>0</td>\n",
       "      <td>0</td>\n",
       "      <td>...</td>\n",
       "      <td>1.666667</td>\n",
       "      <td>4.428571</td>\n",
       "      <td>132.285714</td>\n",
       "      <td>2274</td>\n",
       "      <td>91.7</td>\n",
       "      <td>1049</td>\n",
       "      <td>7.380952</td>\n",
       "      <td>0.058173</td>\n",
       "      <td>406.10000</td>\n",
       "      <td>0.745526</td>\n",
       "    </tr>\n",
       "    <tr>\n",
       "      <td>4</td>\n",
       "      <td>12174</td>\n",
       "      <td>0</td>\n",
       "      <td>0</td>\n",
       "      <td>0</td>\n",
       "      <td>0</td>\n",
       "      <td>0</td>\n",
       "      <td>0</td>\n",
       "      <td>0</td>\n",
       "      <td>0</td>\n",
       "      <td>0</td>\n",
       "      <td>...</td>\n",
       "      <td>NaN</td>\n",
       "      <td>0.000000</td>\n",
       "      <td>0.000000</td>\n",
       "      <td>316</td>\n",
       "      <td>274.9</td>\n",
       "      <td>139</td>\n",
       "      <td>NaN</td>\n",
       "      <td>0.000000</td>\n",
       "      <td>0.00000</td>\n",
       "      <td>0.692566</td>\n",
       "    </tr>\n",
       "  </tbody>\n",
       "</table>\n",
       "<p>5 rows × 105 columns</p>\n",
       "</div>"
      ],
      "text/plain": [
       "   zipcode  total_accounting  total_airport  total_amusement_park  \\\n",
       "0    14741                 0              0                     0   \n",
       "1    13084                 0              0                     0   \n",
       "2    13159                 0              0                     0   \n",
       "3    14476                 0              0                     0   \n",
       "4    12174                 0              0                     0   \n",
       "\n",
       "   total_art_gallery  total_atm  total_bakery  total_bank  total_bar  \\\n",
       "0                  0          0             0           0          0   \n",
       "1                  0          1             1           0          4   \n",
       "2                  1          1             0           0          3   \n",
       "3                  0          0             0           0          0   \n",
       "4                  0          0             0           0          0   \n",
       "\n",
       "   total_beauty_salon  ...  mean_price_level  mean_rating  \\\n",
       "0                   0  ...          1.000000     4.400000   \n",
       "1                   0  ...          1.142857     3.232143   \n",
       "2                   0  ...          1.333333     4.112500   \n",
       "3                   0  ...          1.666667     4.428571   \n",
       "4                   0  ...               NaN     0.000000   \n",
       "\n",
       "   mean_user_ratings_total  population  population_density_square_miles  \\\n",
       "0               410.000000        1809                             29.4   \n",
       "1                81.928571        3734                             86.8   \n",
       "2               108.875000        5348                             68.5   \n",
       "3               132.285714        2274                             91.7   \n",
       "4                 0.000000         316                            274.9   \n",
       "\n",
       "   housing_units  price_level*rating  user_ratings_total_per_capita  \\\n",
       "0           1260            4.400000                       0.226645   \n",
       "1           1601            3.693878                       0.021941   \n",
       "2           2303            5.483333                       0.020358   \n",
       "3           1049            7.380952                       0.058173   \n",
       "4            139                 NaN                       0.000000   \n",
       "\n",
       "   rating*population_density  log_home_price_to_income_ratios  \n",
       "0                  129.36000                         0.663932  \n",
       "1                  280.55000                         0.852157  \n",
       "2                  281.70625                         0.866606  \n",
       "3                  406.10000                         0.745526  \n",
       "4                    0.00000                         0.692566  \n",
       "\n",
       "[5 rows x 105 columns]"
      ]
     },
     "execution_count": 8,
     "metadata": {},
     "output_type": "execute_result"
    }
   ],
   "source": [
    "df.head()"
   ]
  },
  {
   "cell_type": "code",
   "execution_count": 9,
   "metadata": {},
   "outputs": [
    {
     "data": {
      "text/plain": [
       "(1521, 105)"
      ]
     },
     "execution_count": 9,
     "metadata": {},
     "output_type": "execute_result"
    }
   ],
   "source": [
    "df.shape"
   ]
  },
  {
   "cell_type": "markdown",
   "metadata": {},
   "source": [
    "## Preprocessing"
   ]
  },
  {
   "cell_type": "code",
   "execution_count": 10,
   "metadata": {},
   "outputs": [],
   "source": [
    "def high_corr_w_dependent_variable(df, dependent_variable, corr_value):\n",
    "    '''\n",
    "    Takes df, dependent variable, and value of correlation \n",
    "    Returns a df of independant varibles that are highly (e.g. abs(corr) > 0.4) with dependent varible\n",
    "    '''\n",
    "    temp_df = df.corr()[[dependent_variable]].sort_values(by=dependent_variable, ascending=False)\n",
    "    mask_1 = abs(temp_df[dependent_variable]) > corr_value\n",
    "    return temp_df.loc[mask_1]"
   ]
  },
  {
   "cell_type": "code",
   "execution_count": 11,
   "metadata": {},
   "outputs": [
    {
     "data": {
      "text/html": [
       "<div>\n",
       "<style scoped>\n",
       "    .dataframe tbody tr th:only-of-type {\n",
       "        vertical-align: middle;\n",
       "    }\n",
       "\n",
       "    .dataframe tbody tr th {\n",
       "        vertical-align: top;\n",
       "    }\n",
       "\n",
       "    .dataframe thead th {\n",
       "        text-align: right;\n",
       "    }\n",
       "</style>\n",
       "<table border=\"1\" class=\"dataframe\">\n",
       "  <thead>\n",
       "    <tr style=\"text-align: right;\">\n",
       "      <th></th>\n",
       "      <th>log_home_price_to_income_ratios</th>\n",
       "    </tr>\n",
       "  </thead>\n",
       "  <tbody>\n",
       "    <tr>\n",
       "      <td>log_home_price_to_income_ratios</td>\n",
       "      <td>1.000000</td>\n",
       "    </tr>\n",
       "    <tr>\n",
       "      <td>total_open_now_True</td>\n",
       "      <td>0.613297</td>\n",
       "    </tr>\n",
       "    <tr>\n",
       "      <td>population_density_square_miles</td>\n",
       "      <td>0.588593</td>\n",
       "    </tr>\n",
       "    <tr>\n",
       "      <td>rating*population_density</td>\n",
       "      <td>0.585944</td>\n",
       "    </tr>\n",
       "    <tr>\n",
       "      <td>population</td>\n",
       "      <td>0.568489</td>\n",
       "    </tr>\n",
       "    <tr>\n",
       "      <td>housing_units</td>\n",
       "      <td>0.564353</td>\n",
       "    </tr>\n",
       "    <tr>\n",
       "      <td>total_meal_delivery</td>\n",
       "      <td>0.492924</td>\n",
       "    </tr>\n",
       "    <tr>\n",
       "      <td>total_store</td>\n",
       "      <td>0.490759</td>\n",
       "    </tr>\n",
       "    <tr>\n",
       "      <td>total_food</td>\n",
       "      <td>0.489080</td>\n",
       "    </tr>\n",
       "    <tr>\n",
       "      <td>total_cafe</td>\n",
       "      <td>0.487195</td>\n",
       "    </tr>\n",
       "    <tr>\n",
       "      <td>total_restaurant</td>\n",
       "      <td>0.471756</td>\n",
       "    </tr>\n",
       "    <tr>\n",
       "      <td>total_bakery</td>\n",
       "      <td>0.423306</td>\n",
       "    </tr>\n",
       "    <tr>\n",
       "      <td>total_clothing_store</td>\n",
       "      <td>0.394660</td>\n",
       "    </tr>\n",
       "    <tr>\n",
       "      <td>total_liquor_store</td>\n",
       "      <td>0.392000</td>\n",
       "    </tr>\n",
       "    <tr>\n",
       "      <td>total_health</td>\n",
       "      <td>0.385198</td>\n",
       "    </tr>\n",
       "    <tr>\n",
       "      <td>mean_price_level</td>\n",
       "      <td>0.379605</td>\n",
       "    </tr>\n",
       "    <tr>\n",
       "      <td>total_drugstore</td>\n",
       "      <td>0.367369</td>\n",
       "    </tr>\n",
       "    <tr>\n",
       "      <td>total_bar</td>\n",
       "      <td>0.340822</td>\n",
       "    </tr>\n",
       "    <tr>\n",
       "      <td>total_electronics_store</td>\n",
       "      <td>0.335376</td>\n",
       "    </tr>\n",
       "    <tr>\n",
       "      <td>price_level*rating</td>\n",
       "      <td>0.332161</td>\n",
       "    </tr>\n",
       "    <tr>\n",
       "      <td>total_furniture_store</td>\n",
       "      <td>0.265175</td>\n",
       "    </tr>\n",
       "    <tr>\n",
       "      <td>total_shoe_store</td>\n",
       "      <td>0.264888</td>\n",
       "    </tr>\n",
       "    <tr>\n",
       "      <td>total_convenience_store</td>\n",
       "      <td>0.254799</td>\n",
       "    </tr>\n",
       "    <tr>\n",
       "      <td>total_hardware_store</td>\n",
       "      <td>0.248891</td>\n",
       "    </tr>\n",
       "    <tr>\n",
       "      <td>total_home_goods_store</td>\n",
       "      <td>0.245025</td>\n",
       "    </tr>\n",
       "    <tr>\n",
       "      <td>total_grocery_or_supermarket</td>\n",
       "      <td>0.239093</td>\n",
       "    </tr>\n",
       "    <tr>\n",
       "      <td>mean_user_ratings_total</td>\n",
       "      <td>0.230804</td>\n",
       "    </tr>\n",
       "    <tr>\n",
       "      <td>total_open_now_False</td>\n",
       "      <td>0.226203</td>\n",
       "    </tr>\n",
       "    <tr>\n",
       "      <td>total_night_club</td>\n",
       "      <td>0.225957</td>\n",
       "    </tr>\n",
       "    <tr>\n",
       "      <td>total_florist</td>\n",
       "      <td>0.216900</td>\n",
       "    </tr>\n",
       "    <tr>\n",
       "      <td>total_locksmith</td>\n",
       "      <td>0.215888</td>\n",
       "    </tr>\n",
       "    <tr>\n",
       "      <td>total_pharmacy</td>\n",
       "      <td>0.209430</td>\n",
       "    </tr>\n",
       "    <tr>\n",
       "      <td>total_jewelry_store</td>\n",
       "      <td>0.206984</td>\n",
       "    </tr>\n",
       "    <tr>\n",
       "      <td>total_department_store</td>\n",
       "      <td>0.148166</td>\n",
       "    </tr>\n",
       "    <tr>\n",
       "      <td>total_bicycle_store</td>\n",
       "      <td>0.133912</td>\n",
       "    </tr>\n",
       "    <tr>\n",
       "      <td>total_supermarket</td>\n",
       "      <td>0.133301</td>\n",
       "    </tr>\n",
       "    <tr>\n",
       "      <td>total_hair_care</td>\n",
       "      <td>0.129904</td>\n",
       "    </tr>\n",
       "    <tr>\n",
       "      <td>total_meal_takeaway</td>\n",
       "      <td>0.126371</td>\n",
       "    </tr>\n",
       "    <tr>\n",
       "      <td>total_book_store</td>\n",
       "      <td>0.120127</td>\n",
       "    </tr>\n",
       "    <tr>\n",
       "      <td>total_shopping_mall</td>\n",
       "      <td>0.106542</td>\n",
       "    </tr>\n",
       "    <tr>\n",
       "      <td>total_open_now_nan</td>\n",
       "      <td>0.101966</td>\n",
       "    </tr>\n",
       "    <tr>\n",
       "      <td>total_pet_store</td>\n",
       "      <td>0.095637</td>\n",
       "    </tr>\n",
       "    <tr>\n",
       "      <td>total_art_gallery</td>\n",
       "      <td>0.095412</td>\n",
       "    </tr>\n",
       "    <tr>\n",
       "      <td>total_general_contractor</td>\n",
       "      <td>0.086207</td>\n",
       "    </tr>\n",
       "    <tr>\n",
       "      <td>total_beauty_salon</td>\n",
       "      <td>0.081488</td>\n",
       "    </tr>\n",
       "    <tr>\n",
       "      <td>total_spa</td>\n",
       "      <td>0.066232</td>\n",
       "    </tr>\n",
       "    <tr>\n",
       "      <td>total_veterinary_care</td>\n",
       "      <td>-0.060056</td>\n",
       "    </tr>\n",
       "    <tr>\n",
       "      <td>total_atm</td>\n",
       "      <td>-0.131888</td>\n",
       "    </tr>\n",
       "    <tr>\n",
       "      <td>total_gas_station</td>\n",
       "      <td>-0.205987</td>\n",
       "    </tr>\n",
       "    <tr>\n",
       "      <td>zipcode</td>\n",
       "      <td>-0.710616</td>\n",
       "    </tr>\n",
       "  </tbody>\n",
       "</table>\n",
       "</div>"
      ],
      "text/plain": [
       "                                 log_home_price_to_income_ratios\n",
       "log_home_price_to_income_ratios                         1.000000\n",
       "total_open_now_True                                     0.613297\n",
       "population_density_square_miles                         0.588593\n",
       "rating*population_density                               0.585944\n",
       "population                                              0.568489\n",
       "housing_units                                           0.564353\n",
       "total_meal_delivery                                     0.492924\n",
       "total_store                                             0.490759\n",
       "total_food                                              0.489080\n",
       "total_cafe                                              0.487195\n",
       "total_restaurant                                        0.471756\n",
       "total_bakery                                            0.423306\n",
       "total_clothing_store                                    0.394660\n",
       "total_liquor_store                                      0.392000\n",
       "total_health                                            0.385198\n",
       "mean_price_level                                        0.379605\n",
       "total_drugstore                                         0.367369\n",
       "total_bar                                               0.340822\n",
       "total_electronics_store                                 0.335376\n",
       "price_level*rating                                      0.332161\n",
       "total_furniture_store                                   0.265175\n",
       "total_shoe_store                                        0.264888\n",
       "total_convenience_store                                 0.254799\n",
       "total_hardware_store                                    0.248891\n",
       "total_home_goods_store                                  0.245025\n",
       "total_grocery_or_supermarket                            0.239093\n",
       "mean_user_ratings_total                                 0.230804\n",
       "total_open_now_False                                    0.226203\n",
       "total_night_club                                        0.225957\n",
       "total_florist                                           0.216900\n",
       "total_locksmith                                         0.215888\n",
       "total_pharmacy                                          0.209430\n",
       "total_jewelry_store                                     0.206984\n",
       "total_department_store                                  0.148166\n",
       "total_bicycle_store                                     0.133912\n",
       "total_supermarket                                       0.133301\n",
       "total_hair_care                                         0.129904\n",
       "total_meal_takeaway                                     0.126371\n",
       "total_book_store                                        0.120127\n",
       "total_shopping_mall                                     0.106542\n",
       "total_open_now_nan                                      0.101966\n",
       "total_pet_store                                         0.095637\n",
       "total_art_gallery                                       0.095412\n",
       "total_general_contractor                                0.086207\n",
       "total_beauty_salon                                      0.081488\n",
       "total_spa                                               0.066232\n",
       "total_veterinary_care                                  -0.060056\n",
       "total_atm                                              -0.131888\n",
       "total_gas_station                                      -0.205987\n",
       "zipcode                                                -0.710616"
      ]
     },
     "execution_count": 11,
     "metadata": {},
     "output_type": "execute_result"
    }
   ],
   "source": [
    "high_corr_w_dependent_variable(df, 'log_home_price_to_income_ratios', 0.06)"
   ]
  },
  {
   "cell_type": "code",
   "execution_count": 12,
   "metadata": {},
   "outputs": [],
   "source": [
    "# I will drop any features has an absolute correlation lower than the 0.06 threshold.\n",
    "df = df[high_corr_w_dependent_variable(df, 'log_home_price_to_income_ratios', 0.06).index]"
   ]
  },
  {
   "cell_type": "code",
   "execution_count": 13,
   "metadata": {},
   "outputs": [],
   "source": [
    "# I will also drop the zipcode to prevent data leakage issue.\n",
    "df.drop(columns='zipcode', inplace=True)"
   ]
  },
  {
   "cell_type": "markdown",
   "metadata": {},
   "source": [
    "### Pattern submodel to handle missing values"
   ]
  },
  {
   "cell_type": "code",
   "execution_count": 14,
   "metadata": {},
   "outputs": [],
   "source": [
    "# define a funciton to view the total and percentage of missing values \n",
    "def view_col_with_nans(df):\n",
    "    mask_percent = df.isnull().mean().sort_values(ascending=False) \n",
    "    mask_total = df.isnull().sum().sort_values(ascending=False)\n",
    "    total = mask_total[mask_total > 0]\n",
    "    percent = mask_percent[mask_percent > 0] \n",
    "    missing_data = pd.concat([total, percent], axis=1, keys=['Total', 'Percent'])\n",
    "    return missing_data"
   ]
  },
  {
   "cell_type": "code",
   "execution_count": 15,
   "metadata": {
    "scrolled": false
   },
   "outputs": [
    {
     "data": {
      "text/html": [
       "<div>\n",
       "<style scoped>\n",
       "    .dataframe tbody tr th:only-of-type {\n",
       "        vertical-align: middle;\n",
       "    }\n",
       "\n",
       "    .dataframe tbody tr th {\n",
       "        vertical-align: top;\n",
       "    }\n",
       "\n",
       "    .dataframe thead th {\n",
       "        text-align: right;\n",
       "    }\n",
       "</style>\n",
       "<table border=\"1\" class=\"dataframe\">\n",
       "  <thead>\n",
       "    <tr style=\"text-align: right;\">\n",
       "      <th></th>\n",
       "      <th>Total</th>\n",
       "      <th>Percent</th>\n",
       "    </tr>\n",
       "  </thead>\n",
       "  <tbody>\n",
       "    <tr>\n",
       "      <td>price_level*rating</td>\n",
       "      <td>157</td>\n",
       "      <td>0.103222</td>\n",
       "    </tr>\n",
       "    <tr>\n",
       "      <td>mean_price_level</td>\n",
       "      <td>157</td>\n",
       "      <td>0.103222</td>\n",
       "    </tr>\n",
       "  </tbody>\n",
       "</table>\n",
       "</div>"
      ],
      "text/plain": [
       "                    Total   Percent\n",
       "price_level*rating    157  0.103222\n",
       "mean_price_level      157  0.103222"
      ]
     },
     "execution_count": 15,
     "metadata": {},
     "output_type": "execute_result"
    }
   ],
   "source": [
    "view_col_with_nans(df)"
   ]
  },
  {
   "cell_type": "markdown",
   "metadata": {},
   "source": [
    "The only feature that has missing data is 'mean_price_level', the 'price_level\\*rating' is derived from the former. So there are only two patterns based on missing data: observations that have no missing data; observations that has missing data on 'mean_price_level' and 'price_level\\*rating'. I will split the dataset into two using the `pattern_split` function defined below:  "
   ]
  },
  {
   "cell_type": "code",
   "execution_count": 16,
   "metadata": {},
   "outputs": [],
   "source": [
    "def pattern_split(df):\n",
    "    pat_1_indexes = df[pd.isnull(df).any(axis=1)].index\n",
    "    pat_0_indexes = set(df.index) - set(pat_1_indexes)\n",
    "\n",
    "    # Dataset with ALL columns\n",
    "    df_0 = df.loc[pat_0_indexes]\n",
    "    \n",
    "    # Dataset without columns containing NaNs\n",
    "    df_1 = df.loc[pat_1_indexes].dropna(axis=1)\n",
    "    return df_0, df_1"
   ]
  },
  {
   "cell_type": "code",
   "execution_count": 17,
   "metadata": {},
   "outputs": [],
   "source": [
    "df_0, df_1 = pattern_split(df)"
   ]
  },
  {
   "cell_type": "code",
   "execution_count": 18,
   "metadata": {},
   "outputs": [],
   "source": [
    "# Ensure that no NaNs is left behind\n",
    "assert(df_0.isnull().sum().sum() == 0)\n",
    "assert(df_1.isnull().sum().sum() == 0)"
   ]
  },
  {
   "cell_type": "markdown",
   "metadata": {},
   "source": [
    "## Model preparation"
   ]
  },
  {
   "cell_type": "markdown",
   "metadata": {},
   "source": [
    "I will define a class object called `CatWalk` that consists of attributes and methods to handle various modeling tasks, such as train-test-split, fitting, and printing train, test, and cross-validation scores. \n",
    "Thanks to [Shon Feder](https://github.com/shonfeder) for his runway advice! "
   ]
  },
  {
   "cell_type": "code",
   "execution_count": 19,
   "metadata": {},
   "outputs": [],
   "source": [
    "class CatWalk:\n",
    "    \"\"\"\n",
    "    If you know what I mean...\n",
    "    If you don't know what I mean: https://www.youtube.com/watch?v=P5mtclwloEQ\n",
    "    Hint: what do models do? They walk the catwalk.\n",
    "    \"\"\"\n",
    "    \n",
    "    # Define attributes\n",
    "    def __init__(self, df):\n",
    "        self.X = df.drop(columns=TARGET)\n",
    "        self.y = df[TARGET] \n",
    "        self.X_train, self.X_test, self.y_train, self.y_test = train_test_split(\n",
    "            self.X, \n",
    "            self.y, \n",
    "            random_state=RANDOM_STATE, \n",
    "            train_size=0.60\n",
    "        )\n",
    "        # The fitted models will be stored in a dicionary \n",
    "        # e.g. {'name', (bool, Model)}\n",
    "        # The key is the name of the model we supplied \n",
    "        # The value is a tupble (bool, Model)\n",
    "        ## Bool == True -> GridSerach; Bool == False -> Non GridSerach\n",
    "        ## Model: is the fitted model itself\n",
    "        self._fitted_models = {} \n",
    "    \n",
    "    # Define a private method to accumulate fitted models\n",
    "    def _save_model(self, name, model, is_grid_search=False):\n",
    "        self._fitted_models[name] = (is_grid_search, model)\n",
    "    \n",
    "    # Define a method to fit a Non-GridSerach model\n",
    "    def fit_model(self, name, fitter):\n",
    "        model = fitter.fit(self.X_train, self.y_train)\n",
    "        self._save_model(name, model)\n",
    "        return self\n",
    "    \n",
    "    # Define a method to fit a GridSerach model    \n",
    "    def fit_grid_search(self, name, pipe=None, params=None):\n",
    "        pipe = Pipeline(steps=[]) if pipe is None else pipe\n",
    "        params = {} if params is None else params\n",
    "        \n",
    "        model = GridSearchCV(\n",
    "            pipe, \n",
    "            params, \n",
    "            cv=CV\n",
    "        ).fit(self.X_train, self.y_train)\n",
    "        \n",
    "        self._save_model(name, model, is_grid_search=True)\n",
    "        return self\n",
    "    \n",
    "    # Define a method to print train, test, and cross_val scores\n",
    "    def print_results(self, name):\n",
    "        grid_search, model = self._fitted_models[name]\n",
    "        if not grid_search:\n",
    "            print(f'train score: {model.score(self.X_train, self.y_train)}')\n",
    "            print(f'test score: {model.score(self.X_test, self.y_test)}')\n",
    "            print(f'cv score: {cross_val_score(model, self.X, self.y, scoring=METRIC, cv=CV).mean()}')\n",
    "        else: \n",
    "            print(f'best params: {model.best_params_}')\n",
    "            print(f'train score: {model.score(self.X_train, self.y_train)}')\n",
    "            print(f'test score: {model.score(self.X_test, self.y_test)}')\n",
    "            print(f'cv score: {cross_val_score(model.best_estimator_, self.X, self.y, scoring=METRIC, cv=CV).mean()}')      \n",
    "\n",
    "    # Method to fit a non-pipeline or gridserach model and print result all in one motion\n",
    "    def do_the_simple_turn(self, name, fitter):\n",
    "        self.fit_model(name, fitter)\n",
    "        self.print_results(name)\n",
    "        return self\n",
    "    \n",
    "    # Method to fit a gridserach model and print result all in one motion\n",
    "    def do_the_little_turn(self, name, pipe, params):\n",
    "        self.fit_grid_search(name, pipe, params)\n",
    "        self.print_results(name)\n",
    "        return self\n",
    "    \n",
    "    # Method to return a list of model names\n",
    "    def model_name_list(self):\n",
    "        return list(self._fitted_models.keys())\n",
    "    \n",
    "    # Method to return the fitted model itself\n",
    "    def get_model(self, name):\n",
    "        return self._fitted_models[name][1]\n",
    "    \n",
    "    # Method to print all test scores\n",
    "    def view_all_test_scores(self):\n",
    "        for name, value in self._fitted_models.items():\n",
    "            grid_search, model = value\n",
    "            if grid_search:\n",
    "                print(f'{name} test score: {model.score(self.X_test, self.y_test)}')\n",
    "            else: \n",
    "                print(f'{name} test score: {model.score(self.X_test, self.y_test)}')\n",
    "    \n",
    "    # Method to make predictions\n",
    "    def make_predictions(self, name, input_data):\n",
    "        preds = self.get_model(name).predict(input_data)\n",
    "        return preds"
   ]
  },
  {
   "cell_type": "markdown",
   "metadata": {},
   "source": [
    "## Modeling"
   ]
  },
  {
   "cell_type": "code",
   "execution_count": 20,
   "metadata": {},
   "outputs": [],
   "source": [
    "# Instantiate a CatWalk object for dataset with full columns (dataset Pattern 0)\n",
    "modeler_0 = CatWalk(df_0)\n",
    "# Instantiate a CatWalk object for dataset without columns that have NaNs (dataset Pattern 1)\n",
    "modeler_1 = CatWalk(df_1)"
   ]
  },
  {
   "cell_type": "markdown",
   "metadata": {},
   "source": [
    "### Baseline model\n",
    "Create a `DummyRegressor` that will just predict means"
   ]
  },
  {
   "cell_type": "code",
   "execution_count": 21,
   "metadata": {
    "scrolled": true
   },
   "outputs": [
    {
     "name": "stdout",
     "output_type": "stream",
     "text": [
      "train score: 0.0\n",
      "test score: -0.005727490279588299\n",
      "cv score: -0.0008187665057266535\n"
     ]
    }
   ],
   "source": [
    "# Model for Pattern 0\n",
    "modeler_0.do_the_simple_turn('dummy', DummyRegressor(strategy='mean'));"
   ]
  },
  {
   "cell_type": "code",
   "execution_count": 22,
   "metadata": {},
   "outputs": [
    {
     "name": "stdout",
     "output_type": "stream",
     "text": [
      "train score: 0.0\n",
      "test score: -0.012797259556982743\n",
      "cv score: -0.00788243440970915\n"
     ]
    }
   ],
   "source": [
    "# Model for Pattern 1\n",
    "modeler_1.do_the_simple_turn('dummy', DummyRegressor(strategy='mean'));"
   ]
  },
  {
   "cell_type": "markdown",
   "metadata": {},
   "source": [
    "### Linear Regression"
   ]
  },
  {
   "cell_type": "code",
   "execution_count": 23,
   "metadata": {
    "scrolled": true
   },
   "outputs": [
    {
     "name": "stdout",
     "output_type": "stream",
     "text": [
      "train score: 0.6587722718718687\n",
      "test score: 0.5722813179382049\n",
      "cv score: 0.600651694871588\n"
     ]
    }
   ],
   "source": [
    "# Model for Pattern 0\n",
    "modeler_0.do_the_simple_turn('lr', LinearRegression());"
   ]
  },
  {
   "cell_type": "markdown",
   "metadata": {},
   "source": [
    "For dataset pattern 0, the model performs okay comparing to the baseline model, but shows some signs of high variance. I will apply regularization in the following subsections to reduce the variance."
   ]
  },
  {
   "cell_type": "code",
   "execution_count": 24,
   "metadata": {},
   "outputs": [
    {
     "name": "stdout",
     "output_type": "stream",
     "text": [
      "train score: 0.38680126185349184\n",
      "test score: -0.5601976266672575\n",
      "cv score: -0.8971448013607429\n"
     ]
    }
   ],
   "source": [
    "# Model for Pattern 1\n",
    "modeler_1.do_the_simple_turn('lr', LinearRegression());"
   ]
  },
  {
   "cell_type": "markdown",
   "metadata": {},
   "source": [
    "For dataset pattern 1, The model performs badly comparing to the baseline model. We will default back to the `DummyRegressor` for this pattern when making predictions."
   ]
  },
  {
   "cell_type": "markdown",
   "metadata": {},
   "source": [
    "#### Ridge Regularzation "
   ]
  },
  {
   "cell_type": "code",
   "execution_count": 25,
   "metadata": {},
   "outputs": [],
   "source": [
    "pipe = Pipeline(steps=[\n",
    "    ('sc', StandardScaler()),\n",
    "    ('ridge', Ridge())\n",
    "])\n",
    "\n",
    "params = {\n",
    "   'ridge__alpha' : [0.01, 1, 10, 100, 200, 400],\n",
    "}"
   ]
  },
  {
   "cell_type": "code",
   "execution_count": 26,
   "metadata": {
    "scrolled": true
   },
   "outputs": [
    {
     "name": "stdout",
     "output_type": "stream",
     "text": [
      "best params: {'ridge__alpha': 1}\n",
      "train score: 0.6581573025447164\n",
      "test score: 0.5755098479277214\n",
      "cv score: 0.602377671290255\n"
     ]
    }
   ],
   "source": [
    "# Model for Pattern 0\n",
    "modeler_0.do_the_little_turn('gs_lr_l2', pipe, params);"
   ]
  },
  {
   "cell_type": "markdown",
   "metadata": {},
   "source": [
    "For dataset pattern 0, The model performs okay comparing to the baseline model, but still shows some signs of high variance. I will apply L1 regularization in the following subsections to reduce the high variance."
   ]
  },
  {
   "cell_type": "code",
   "execution_count": 27,
   "metadata": {
    "scrolled": false
   },
   "outputs": [
    {
     "name": "stdout",
     "output_type": "stream",
     "text": [
      "best params: {'ridge__alpha': 400}\n",
      "train score: 0.11447669182573715\n",
      "test score: -0.009264691775827227\n",
      "cv score: -0.003732294835471911\n"
     ]
    }
   ],
   "source": [
    "# Model for Pattern 1\n",
    "modeler_1.do_the_little_turn('gs_lr_l2', pipe, params);"
   ]
  },
  {
   "cell_type": "markdown",
   "metadata": {},
   "source": [
    "For dataset pattern 1, the model performs badly, but slightly better comparing to the baseline model."
   ]
  },
  {
   "cell_type": "markdown",
   "metadata": {},
   "source": [
    "#### Lasso Regularzation"
   ]
  },
  {
   "cell_type": "code",
   "execution_count": 28,
   "metadata": {
    "scrolled": true
   },
   "outputs": [],
   "source": [
    "pipe = Pipeline(steps=[\n",
    "    ('sc', StandardScaler()),\n",
    "    ('lasso', Lasso())\n",
    "])\n",
    "\n",
    "params = {\n",
    "   'lasso__alpha' : [0.01, 0.02, 1, 2, 3, 10],\n",
    "}"
   ]
  },
  {
   "cell_type": "code",
   "execution_count": 29,
   "metadata": {
    "scrolled": false
   },
   "outputs": [
    {
     "name": "stdout",
     "output_type": "stream",
     "text": [
      "best params: {'lasso__alpha': 0.01}\n",
      "train score: 0.6373883821642031\n",
      "test score: 0.5808683689230164\n",
      "cv score: 0.6067146231758787\n"
     ]
    }
   ],
   "source": [
    "# Model for Pattern 0\n",
    "modeler_0.do_the_little_turn('gs_lr_l1', pipe, params);"
   ]
  },
  {
   "cell_type": "markdown",
   "metadata": {},
   "source": [
    "For dataset pattern 0, the model performs okay comparing to the baseline model, but still shows some signs of high variance. I will apply PCA for dimensionality reduction in the following subsections to reduce the high variance."
   ]
  },
  {
   "cell_type": "code",
   "execution_count": 30,
   "metadata": {
    "scrolled": false
   },
   "outputs": [
    {
     "name": "stdout",
     "output_type": "stream",
     "text": [
      "best params: {'lasso__alpha': 1}\n",
      "train score: 0.0\n",
      "test score: -0.012797259556982743\n",
      "cv score: -0.00788243440970915\n"
     ]
    }
   ],
   "source": [
    "# Model for Pattern 1\n",
    "modeler_1.do_the_little_turn('gs_lr_l1', pipe, params);"
   ]
  },
  {
   "cell_type": "markdown",
   "metadata": {},
   "source": [
    "For dataset pattern 1, The model performs badly, but slightly better comparing to the baseline model."
   ]
  },
  {
   "cell_type": "markdown",
   "metadata": {},
   "source": [
    "#### Linear Regression + PCA"
   ]
  },
  {
   "cell_type": "code",
   "execution_count": 31,
   "metadata": {},
   "outputs": [],
   "source": [
    "pipe = Pipeline(steps=[\n",
    "    ('ss', StandardScaler()),\n",
    "    ('pca', PCA()),\n",
    "    ('lr_pca', LinearRegression())\n",
    "])\n",
    "\n",
    "params = {\n",
    "    'pca__n_components': [10, 15, 20],\n",
    "}"
   ]
  },
  {
   "cell_type": "code",
   "execution_count": 32,
   "metadata": {
    "scrolled": false
   },
   "outputs": [
    {
     "name": "stdout",
     "output_type": "stream",
     "text": [
      "best params: {'pca__n_components': 20}\n",
      "train score: 0.6199823295889728\n",
      "test score: 0.5627366686805452\n",
      "cv score: 0.5874975120344416\n"
     ]
    }
   ],
   "source": [
    "# Model for Pattern 0\n",
    "modeler_0.do_the_little_turn('gs_lr_pca', pipe, params);"
   ]
  },
  {
   "cell_type": "markdown",
   "metadata": {},
   "source": [
    "For dataset pattern 0, the model performs okay comparing to the baseline model, but still shows some signs of high variance. So far the L1 regularization is the most effective for reducing variance. Yet the result is not optimal. I will move onto other types of models."
   ]
  },
  {
   "cell_type": "code",
   "execution_count": 33,
   "metadata": {
    "scrolled": false
   },
   "outputs": [
    {
     "name": "stdout",
     "output_type": "stream",
     "text": [
      "best params: {'pca__n_components': 10}\n",
      "train score: 0.1277482068410165\n",
      "test score: -0.106748117208191\n",
      "cv score: -0.03479785264157609\n"
     ]
    }
   ],
   "source": [
    "# Model for Pattern 1\n",
    "modeler_1.do_the_little_turn('gs_lr_pca', pipe, params);"
   ]
  },
  {
   "cell_type": "markdown",
   "metadata": {},
   "source": [
    "For dataset pattern 1, The model performs badly comparing to the baseline model. We will default back to the `DummyRegressor` for this pattern when making predictions."
   ]
  },
  {
   "cell_type": "markdown",
   "metadata": {},
   "source": [
    "### Polynomial Regression"
   ]
  },
  {
   "cell_type": "code",
   "execution_count": 34,
   "metadata": {},
   "outputs": [],
   "source": [
    "pipe = Pipeline([\n",
    "    ('sc', StandardScaler()),\n",
    "    ('poly_features', PolynomialFeatures()),\n",
    "    ('lr', LinearRegression())\n",
    "])\n",
    "\n",
    "params = {\n",
    "    'poly_features__degree': [1, 2, 3],\n",
    "}"
   ]
  },
  {
   "cell_type": "code",
   "execution_count": 35,
   "metadata": {},
   "outputs": [
    {
     "name": "stdout",
     "output_type": "stream",
     "text": [
      "best params: {'poly_features__degree': 1}\n",
      "train score: 0.6587722718718687\n",
      "test score: 0.572281317938212\n",
      "cv score: 0.6006516948715864\n"
     ]
    }
   ],
   "source": [
    "# Model for Pattern 0\n",
    "modeler_0.do_the_little_turn('gs_poly', pipe, params);"
   ]
  },
  {
   "cell_type": "markdown",
   "metadata": {},
   "source": [
    "During the EDA process, we know that many features do not have linear relation with the target. Fitting a Polynomial Regression model is my attempt to capture the non-linear relation. However, based on the grid-search, thee best model is a degree of 1, i.e. linear. We should try a different type of models that does not use linear regression as the estimator. "
   ]
  },
  {
   "cell_type": "code",
   "execution_count": 36,
   "metadata": {
    "scrolled": false
   },
   "outputs": [
    {
     "name": "stdout",
     "output_type": "stream",
     "text": [
      "best params: {'poly_features__degree': 1}\n",
      "train score: 0.38680126185349195\n",
      "test score: -0.5601976266672619\n",
      "cv score: -0.897144801360954\n"
     ]
    }
   ],
   "source": [
    "# Model for Pattern 1\n",
    "modeler_1.do_the_little_turn('gs_poly', pipe, params);"
   ]
  },
  {
   "cell_type": "markdown",
   "metadata": {},
   "source": [
    "For dataset pattern 1, the model performs badly comparing to the baseline model. We will default back to the `DummyRegressor` for this pattern when making predictions."
   ]
  },
  {
   "cell_type": "markdown",
   "metadata": {},
   "source": [
    "### KNN"
   ]
  },
  {
   "cell_type": "code",
   "execution_count": 37,
   "metadata": {},
   "outputs": [],
   "source": [
    "pipe = Pipeline(steps=[\n",
    "        ('ss', StandardScaler()),\n",
    "        ('knn', KNeighborsRegressor())\n",
    "    ])\n",
    "\n",
    "params = {\n",
    "        'knn__n_neighbors': [5, 10, 50],\n",
    "        'knn__p' : [1, 2],\n",
    "        'knn__weights' : ['uniform', 'distance'],\n",
    "         #'knn__leaf_size' : [30, 40]\n",
    "    }\n"
   ]
  },
  {
   "cell_type": "code",
   "execution_count": 38,
   "metadata": {
    "scrolled": true
   },
   "outputs": [
    {
     "name": "stdout",
     "output_type": "stream",
     "text": [
      "best params: {'knn__n_neighbors': 10, 'knn__p': 1, 'knn__weights': 'distance'}\n",
      "train score: 1.0\n",
      "test score: 0.5276977986303809\n",
      "cv score: 0.553031988319459\n"
     ]
    }
   ],
   "source": [
    "# Model for Pattern 0\n",
    "modeler_0.do_the_little_turn('gs_knn', pipe, params);"
   ]
  },
  {
   "cell_type": "markdown",
   "metadata": {},
   "source": [
    "For dataset pattern 0, the model performs okay comparing to the baseline model, but shows apparent signs of high variance and overfitting."
   ]
  },
  {
   "cell_type": "code",
   "execution_count": 39,
   "metadata": {
    "scrolled": false
   },
   "outputs": [
    {
     "name": "stdout",
     "output_type": "stream",
     "text": [
      "best params: {'knn__n_neighbors': 50, 'knn__p': 2, 'knn__weights': 'distance'}\n",
      "train score: 0.9999999999999769\n",
      "test score: -0.047649220057391695\n",
      "cv score: 0.03167389238157925\n"
     ]
    }
   ],
   "source": [
    "# Model for Pattern 1\n",
    "modeler_1.do_the_little_turn('gs_knn', pipe, params);"
   ]
  },
  {
   "cell_type": "markdown",
   "metadata": {},
   "source": [
    "For dataset pattern 1, the model performs badly comparing to the baseline model. We will default back to the `DummyRegressor` for this pattern when making predictions."
   ]
  },
  {
   "cell_type": "markdown",
   "metadata": {},
   "source": [
    "### Tree Based Models"
   ]
  },
  {
   "cell_type": "markdown",
   "metadata": {},
   "source": [
    "#### Cart"
   ]
  },
  {
   "cell_type": "code",
   "execution_count": 40,
   "metadata": {},
   "outputs": [],
   "source": [
    "pipe = Pipeline(steps=[\n",
    "    ('ss', StandardScaler()),\n",
    "    ('tree', DecisionTreeRegressor(random_state=RANDOM_STATE))\n",
    "])\n",
    "\n",
    "params = {\n",
    "    'tree__max_depth' : [10, 15, 20, 30],\n",
    "    'tree__min_samples_leaf' : [2, 3, 5],\n",
    "    'tree__max_features' : [4, 6, 10]\n",
    "}"
   ]
  },
  {
   "cell_type": "code",
   "execution_count": 41,
   "metadata": {
    "scrolled": false
   },
   "outputs": [
    {
     "name": "stdout",
     "output_type": "stream",
     "text": [
      "best params: {'tree__max_depth': 20, 'tree__max_features': 6, 'tree__min_samples_leaf': 5}\n",
      "train score: 0.7286213401858146\n",
      "test score: 0.5180656986975282\n",
      "cv score: 0.35589287487059923\n"
     ]
    }
   ],
   "source": [
    "# Model for Pattern 0\n",
    "modeler_0.do_the_little_turn('gs_tree', pipe, params);"
   ]
  },
  {
   "cell_type": "markdown",
   "metadata": {},
   "source": [
    "For dataset pattern 0, the tree model has high variance, since the train score is much higher than the test score, which is common in CART models. I will use a bootstrapped bagged tree to reduce the variance."
   ]
  },
  {
   "cell_type": "code",
   "execution_count": 42,
   "metadata": {
    "scrolled": true
   },
   "outputs": [
    {
     "name": "stdout",
     "output_type": "stream",
     "text": [
      "best params: {'tree__max_depth': 15, 'tree__max_features': 4, 'tree__min_samples_leaf': 3}\n",
      "train score: 0.10659912986229735\n",
      "test score: -0.09880694373119536\n",
      "cv score: -0.21311004639608316\n"
     ]
    }
   ],
   "source": [
    "# Model for Pattern 1\n",
    "modeler_1.do_the_little_turn('gs_tree', pipe, params);"
   ]
  },
  {
   "cell_type": "markdown",
   "metadata": {},
   "source": [
    "For dataset pattern 1, the model performs badly comparing to the baseline model. We will default back to the `DummyRegressor` for this pattern when making predictions."
   ]
  },
  {
   "cell_type": "markdown",
   "metadata": {},
   "source": [
    "#### Bagged Tree"
   ]
  },
  {
   "cell_type": "code",
   "execution_count": 43,
   "metadata": {},
   "outputs": [],
   "source": [
    "pipe = Pipeline(steps=[\n",
    "    ('ss', StandardScaler()),\n",
    "    ('bag', BaggingRegressor(random_state=RANDOM_STATE))\n",
    "])\n",
    "\n",
    "params = {\n",
    "    'bag__n_estimators' : [8, 10, 12, 14],\n",
    "    'bag__max_samples' : [0.5, 0.7, 1],\n",
    "    'bag__max_features' : [0.5, 0.7, 1]\n",
    "}"
   ]
  },
  {
   "cell_type": "code",
   "execution_count": 44,
   "metadata": {
    "scrolled": false
   },
   "outputs": [
    {
     "name": "stdout",
     "output_type": "stream",
     "text": [
      "best params: {'bag__max_features': 0.7, 'bag__max_samples': 0.7, 'bag__n_estimators': 14}\n",
      "train score: 0.8990411907028943\n",
      "test score: 0.6541225929256169\n",
      "cv score: 0.6352836386979906\n"
     ]
    }
   ],
   "source": [
    "# Model for Pattern 0\n",
    "modeler_0.do_the_little_turn('gs_bag', pipe, params);"
   ]
  },
  {
   "cell_type": "markdown",
   "metadata": {},
   "source": [
    "For dataset pattern 0, the bagged tree model still has high variance, but the test score has improved comparing to the tree model. I will use Random Forest to reduce the variance and address the problem of overfitting. "
   ]
  },
  {
   "cell_type": "code",
   "execution_count": 45,
   "metadata": {},
   "outputs": [
    {
     "name": "stdout",
     "output_type": "stream",
     "text": [
      "best params: {'bag__max_features': 1, 'bag__max_samples': 0.5, 'bag__n_estimators': 14}\n",
      "train score: 0.23982182315088463\n",
      "test score: 0.0046451269551744945\n",
      "cv score: -0.07304336670543576\n"
     ]
    }
   ],
   "source": [
    "# Model for Pattern 1\n",
    "modeler_1.do_the_little_turn('gs_bag', pipe, params);"
   ]
  },
  {
   "cell_type": "markdown",
   "metadata": {},
   "source": [
    "For dataset pattern 1, the bagged tree model is underfit, but better comparing to the baseline model. "
   ]
  },
  {
   "cell_type": "markdown",
   "metadata": {},
   "source": [
    "#### Random Forest"
   ]
  },
  {
   "cell_type": "code",
   "execution_count": 46,
   "metadata": {},
   "outputs": [],
   "source": [
    "pipe = Pipeline(steps=[\n",
    "    ('ss', StandardScaler()),\n",
    "    ('forest', RandomForestRegressor(random_state=RANDOM_STATE))\n",
    "])\n",
    "\n",
    "params = {\n",
    "    'forest__max_depth' : [10, 15, 20, 30],\n",
    "    'forest__min_samples_leaf' : [2, 3, 5],\n",
    "    'forest__max_features' : [4, 6, 10],\n",
    "    'forest__min_impurity_decrease' : [0.0, 0.1]\n",
    "}"
   ]
  },
  {
   "cell_type": "code",
   "execution_count": 47,
   "metadata": {
    "scrolled": true
   },
   "outputs": [
    {
     "name": "stdout",
     "output_type": "stream",
     "text": [
      "best params: {'forest__max_depth': 30, 'forest__max_features': 10, 'forest__min_impurity_decrease': 0.0, 'forest__min_samples_leaf': 2}\n",
      "train score: 0.8966636439074075\n",
      "test score: 0.6473409906383814\n",
      "cv score: 0.6329998417596285\n"
     ]
    }
   ],
   "source": [
    "# Model for Pattern 0\n",
    "modeler_0.do_the_little_turn('gs_forest', pipe, params);"
   ]
  },
  {
   "cell_type": "markdown",
   "metadata": {},
   "source": [
    "For dataset pattern 0, the Random Rorest model still has high variance, and the test score has not improved comparing to the bagged tree model. I will use Extra Trees to reduce the variance and address the problem of overfitting."
   ]
  },
  {
   "cell_type": "code",
   "execution_count": 48,
   "metadata": {
    "scrolled": true
   },
   "outputs": [
    {
     "name": "stdout",
     "output_type": "stream",
     "text": [
      "best params: {'forest__max_depth': 10, 'forest__max_features': 6, 'forest__min_impurity_decrease': 0.0, 'forest__min_samples_leaf': 5}\n",
      "train score: 0.21356963015577146\n",
      "test score: 0.030660700661153898\n",
      "cv score: -0.03873644526543121\n"
     ]
    }
   ],
   "source": [
    "# Model for Pattern 1\n",
    "modeler_1.do_the_little_turn('gs_forest', pipe, params);"
   ]
  },
  {
   "cell_type": "markdown",
   "metadata": {},
   "source": [
    "For dataset pattern 1, the Random Rorest model is underfit, but better comparing to the baseline model. "
   ]
  },
  {
   "cell_type": "markdown",
   "metadata": {},
   "source": [
    "#### Extra Trees "
   ]
  },
  {
   "cell_type": "code",
   "execution_count": 49,
   "metadata": {},
   "outputs": [],
   "source": [
    "pipe = Pipeline(steps=[\n",
    "    ('ss', StandardScaler()),\n",
    "    ('extra', ExtraTreesRegressor(random_state=RANDOM_STATE))\n",
    "])\n",
    "\n",
    "params = {\n",
    "    'extra__max_depth' : [10, 15, 20, 30],\n",
    "    'extra__min_samples_leaf' : [2, 3, 5],\n",
    "    'extra__max_features' : [4, 6, 10],\n",
    "    'extra__min_impurity_decrease' : [0.0, 0.1]\n",
    "}"
   ]
  },
  {
   "cell_type": "code",
   "execution_count": 50,
   "metadata": {
    "scrolled": true
   },
   "outputs": [
    {
     "name": "stdout",
     "output_type": "stream",
     "text": [
      "best params: {'extra__max_depth': 20, 'extra__max_features': 10, 'extra__min_impurity_decrease': 0.0, 'extra__min_samples_leaf': 2}\n",
      "train score: 0.9260497140869812\n",
      "test score: 0.5800199346627597\n",
      "cv score: 0.6060075082854781\n"
     ]
    }
   ],
   "source": [
    "# Model for Pattern 0\n",
    "modeler_0.do_the_little_turn('gs_extra', pipe, params);"
   ]
  },
  {
   "cell_type": "markdown",
   "metadata": {},
   "source": [
    "For dataset pattern 0, the Extra Trees model still has high variance, and the test score has not improved comparing to the bagged tree model. Among the tree models, the bagged tree outperforms the others. Since all tree based models show some signs of underfitting, I will use Ada Boost to boost the growth of tree. "
   ]
  },
  {
   "cell_type": "code",
   "execution_count": 51,
   "metadata": {
    "scrolled": true
   },
   "outputs": [
    {
     "name": "stdout",
     "output_type": "stream",
     "text": [
      "best params: {'extra__max_depth': 15, 'extra__max_features': 10, 'extra__min_impurity_decrease': 0.0, 'extra__min_samples_leaf': 3}\n",
      "train score: 0.4422049491435713\n",
      "test score: 0.014132511355322785\n",
      "cv score: 0.03650843402963888\n"
     ]
    }
   ],
   "source": [
    "# Model for Pattern 1\n",
    "modeler_1.do_the_little_turn('gs_extra', pipe, params);"
   ]
  },
  {
   "cell_type": "markdown",
   "metadata": {},
   "source": [
    "For dataset pattern 1, the Extra Trees model is underfit, but better comparing to the baseline model."
   ]
  },
  {
   "cell_type": "markdown",
   "metadata": {},
   "source": [
    "#### Ada Boost"
   ]
  },
  {
   "cell_type": "code",
   "execution_count": 52,
   "metadata": {},
   "outputs": [],
   "source": [
    "pipe = Pipeline(steps=[\n",
    "    ('ss', StandardScaler()),\n",
    "    ('ada', AdaBoostRegressor(random_state=RANDOM_STATE))\n",
    "])\n",
    "\n",
    "params = {\n",
    "    'ada__learning_rate' : [0.5, 1.0, 1.2],\n",
    "    'ada__loss' : ['linear', 'square', 'exponential']\n",
    "}"
   ]
  },
  {
   "cell_type": "code",
   "execution_count": 53,
   "metadata": {
    "scrolled": false
   },
   "outputs": [
    {
     "name": "stdout",
     "output_type": "stream",
     "text": [
      "best params: {'ada__learning_rate': 0.5, 'ada__loss': 'exponential'}\n",
      "train score: 0.6947881879895066\n",
      "test score: 0.5828825458800824\n",
      "cv score: 0.5774470559731326\n"
     ]
    }
   ],
   "source": [
    "# Model for Pattern 0\n",
    "modeler_0.do_the_little_turn('gs_ada', pipe, params);"
   ]
  },
  {
   "cell_type": "markdown",
   "metadata": {},
   "source": [
    "For dataset pattern 0, the Ada Boost does not improve the high variance or under-fitting problems."
   ]
  },
  {
   "cell_type": "code",
   "execution_count": 54,
   "metadata": {
    "scrolled": true
   },
   "outputs": [
    {
     "name": "stdout",
     "output_type": "stream",
     "text": [
      "best params: {'ada__learning_rate': 0.5, 'ada__loss': 'exponential'}\n",
      "train score: 0.7842911996957064\n",
      "test score: 0.033791910029868255\n",
      "cv score: 0.05578644054647955\n"
     ]
    }
   ],
   "source": [
    "# Model for Pattern 1\n",
    "modeler_1.do_the_little_turn('gs_ada', pipe, params);"
   ]
  },
  {
   "cell_type": "markdown",
   "metadata": {},
   "source": [
    "For dataset pattern 1, the Ada Boost model is underfit, but better comparing to the baseline model."
   ]
  },
  {
   "cell_type": "markdown",
   "metadata": {},
   "source": [
    "### SVR"
   ]
  },
  {
   "cell_type": "code",
   "execution_count": 55,
   "metadata": {},
   "outputs": [],
   "source": [
    "pipe = Pipeline(steps=[\n",
    "    ('sc', StandardScaler()),\n",
    "    ('svr', SVR())\n",
    "])\n",
    "\n",
    "params = {\n",
    "    'svr__gamma' : ['scale'],\n",
    "    'svr__degree' : [2, 3, 4],\n",
    "    'svr__kernel' : ['linear', 'poly', 'rbf']\n",
    "}"
   ]
  },
  {
   "cell_type": "code",
   "execution_count": 56,
   "metadata": {
    "scrolled": true
   },
   "outputs": [
    {
     "name": "stdout",
     "output_type": "stream",
     "text": [
      "best params: {'svr__degree': 2, 'svr__gamma': 'scale', 'svr__kernel': 'linear'}\n",
      "train score: 0.6494077463683081\n",
      "test score: 0.5663543509589688\n",
      "cv score: 0.5992791351066614\n"
     ]
    }
   ],
   "source": [
    "# Model for Pattern 0\n",
    "modeler_0.do_the_little_turn('gs_svr', pipe, params);"
   ]
  },
  {
   "cell_type": "markdown",
   "metadata": {},
   "source": [
    "For dataset pattern 0, the model performs okay comparing to the baseline model, but shows some signs of high variance."
   ]
  },
  {
   "cell_type": "code",
   "execution_count": 57,
   "metadata": {
    "scrolled": true
   },
   "outputs": [
    {
     "name": "stdout",
     "output_type": "stream",
     "text": [
      "best params: {'svr__degree': 2, 'svr__gamma': 'scale', 'svr__kernel': 'rbf'}\n",
      "train score: 0.49474118036721126\n",
      "test score: -0.07105296330552369\n",
      "cv score: -0.037835420498492284\n"
     ]
    }
   ],
   "source": [
    "# Model for Pattern 1\n",
    "modeler_1.do_the_little_turn('gs_svr', pipe, params);"
   ]
  },
  {
   "cell_type": "markdown",
   "metadata": {},
   "source": [
    "For dataset pattern 1, the model performs badly comparing to the baseline model. We will default back to the dummy regressor for this pattern when making predictions."
   ]
  },
  {
   "cell_type": "markdown",
   "metadata": {},
   "source": [
    "### Stochastic Gradient Descent"
   ]
  },
  {
   "cell_type": "code",
   "execution_count": 58,
   "metadata": {},
   "outputs": [],
   "source": [
    "pipe = Pipeline(steps=[\n",
    "    ('sc', StandardScaler()),\n",
    "    ('sgd', SGDRegressor())\n",
    "])\n",
    "\n",
    "params = {\n",
    "    'sgd__max_iter': [800, 1000, 1200],\n",
    "    'sgd__penalty' : ['l1', 'l2'],\n",
    "    'sgd__tol': [1e-3]\n",
    "}"
   ]
  },
  {
   "cell_type": "code",
   "execution_count": 59,
   "metadata": {
    "scrolled": false
   },
   "outputs": [
    {
     "name": "stdout",
     "output_type": "stream",
     "text": [
      "best params: {'sgd__max_iter': 800, 'sgd__penalty': 'l2', 'sgd__tol': 0.001}\n",
      "train score: 0.6479654469639653\n",
      "test score: 0.5715957008464874\n",
      "cv score: 0.5998778103206912\n"
     ]
    }
   ],
   "source": [
    "# Model for Pattern 0\n",
    "modeler_0.do_the_little_turn('gs_sgd', pipe, params);"
   ]
  },
  {
   "cell_type": "markdown",
   "metadata": {},
   "source": [
    "For dataset pattern 0, the model performs okay comparing to the baseline model, but shows some signs of high variance."
   ]
  },
  {
   "cell_type": "code",
   "execution_count": 60,
   "metadata": {
    "scrolled": true
   },
   "outputs": [
    {
     "name": "stdout",
     "output_type": "stream",
     "text": [
      "best params: {'sgd__max_iter': 800, 'sgd__penalty': 'l1', 'sgd__tol': 0.001}\n",
      "train score: 0.32833188805692526\n",
      "test score: -0.20743428640104256\n",
      "cv score: -0.3355685743734998\n"
     ]
    }
   ],
   "source": [
    "# Model for Pattern 1\n",
    "modeler_1.do_the_little_turn('gs_sgd', pipe, params);"
   ]
  },
  {
   "cell_type": "markdown",
   "metadata": {},
   "source": [
    "For dataset pattern 1, The model performs badly comparing to the baseline model. We will default back to the `DummyRegressor` for this pattern when making predictions."
   ]
  },
  {
   "cell_type": "markdown",
   "metadata": {},
   "source": [
    "## Model Selection"
   ]
  },
  {
   "cell_type": "code",
   "execution_count": 61,
   "metadata": {
    "scrolled": false
   },
   "outputs": [
    {
     "name": "stdout",
     "output_type": "stream",
     "text": [
      "dummy test score: -0.005727490279588299\n",
      "lr test score: 0.5722813179382049\n",
      "gs_lr_l2 test score: 0.5755098479277214\n",
      "gs_lr_l1 test score: 0.5808683689230164\n",
      "gs_lr_pca test score: 0.5627366686805452\n",
      "gs_poly test score: 0.572281317938212\n",
      "gs_knn test score: 0.5276977986303809\n",
      "gs_tree test score: 0.5180656986975282\n",
      "gs_bag test score: 0.6541225929256169\n",
      "gs_forest test score: 0.6473409906383814\n",
      "gs_extra test score: 0.5800199346627597\n",
      "gs_ada test score: 0.5828825458800824\n",
      "gs_svr test score: 0.5663543509589688\n",
      "gs_sgd test score: 0.5715957008464874\n"
     ]
    }
   ],
   "source": [
    "# Compare test scores for Pattern 0\n",
    "modeler_0.view_all_test_scores()"
   ]
  },
  {
   "cell_type": "code",
   "execution_count": 62,
   "metadata": {
    "scrolled": true
   },
   "outputs": [
    {
     "name": "stdout",
     "output_type": "stream",
     "text": [
      "dummy test score: -0.012797259556982743\n",
      "lr test score: -0.5601976266672575\n",
      "gs_lr_l2 test score: -0.009264691775827227\n",
      "gs_lr_l1 test score: -0.012797259556982743\n",
      "gs_lr_pca test score: -0.106748117208191\n",
      "gs_poly test score: -0.5601976266672619\n",
      "gs_knn test score: -0.047649220057391695\n",
      "gs_tree test score: -0.09880694373119536\n",
      "gs_bag test score: 0.0046451269551744945\n",
      "gs_forest test score: 0.030660700661153898\n",
      "gs_extra test score: 0.014132511355322785\n",
      "gs_ada test score: 0.033791910029868255\n",
      "gs_svr test score: -0.07105296330552369\n",
      "gs_sgd test score: -0.20743428640104256\n"
     ]
    }
   ],
   "source": [
    "# Compare test scores for Pattern 1\n",
    "modeler_1.view_all_test_scores()"
   ]
  },
  {
   "cell_type": "code",
   "execution_count": 63,
   "metadata": {},
   "outputs": [
    {
     "data": {
      "text/plain": [
       "0.8968"
      ]
     },
     "execution_count": 63,
     "metadata": {},
     "output_type": "execute_result"
    }
   ],
   "source": [
    "percentage_df_0 = round(df_0.shape[0] / df.shape[0], 4)\n",
    "percentage_df_0 "
   ]
  },
  {
   "cell_type": "markdown",
   "metadata": {},
   "source": [
    "- For dataset Pattern 0, which consists the 89.68% of the entire dataset, the `BaggingRegressor` outperforms the others. \n",
    "- For dataset Pattern 1, the `BaggingRegressor` model outperforms the baseline model.   \n",
    "- The `BaggingRegressor` model has a test R2 score of 0.6541225929256169, which means that 65.41% percent of the variability in our data is explained by our model, relative to a model with no predictors.\n",
    "- An ideal model would have a closer to 1 R2 score. This indicates that our model is somewhat inadequate in predicting the home affordability ratio. "
   ]
  },
  {
   "cell_type": "markdown",
   "metadata": {},
   "source": [
    "## Model Evaluation"
   ]
  },
  {
   "cell_type": "markdown",
   "metadata": {},
   "source": [
    "I will elevate the `BaggingRegressor` model using the following 3 visualization tools:\n",
    "1.\tResidual Plots\n",
    "2.\tFeature Importance\n",
    "3.\tDecision Tree Branching"
   ]
  },
  {
   "cell_type": "markdown",
   "metadata": {},
   "source": [
    "### Plot residuals"
   ]
  },
  {
   "cell_type": "code",
   "execution_count": 64,
   "metadata": {},
   "outputs": [],
   "source": [
    "y_preds_0 = np.exp(modeler_0.make_predictions('gs_bag', modeler_0.X_test))\n",
    "y_preds_1 = np.exp(modeler_1.make_predictions('gs_bag', modeler_1.X_test))\n",
    "y_preds = np.concatenate((y_preds_0, y_preds_1), axis=0)"
   ]
  },
  {
   "cell_type": "code",
   "execution_count": 65,
   "metadata": {},
   "outputs": [],
   "source": [
    "y_test_0 = np.exp(modeler_0.y_test)\n",
    "y_test_1 = np.exp(modeler_1.y_test)\n",
    "y_test = np.concatenate((y_test_0, y_test_1), axis=0)"
   ]
  },
  {
   "cell_type": "code",
   "execution_count": 106,
   "metadata": {
    "scrolled": false
   },
   "outputs": [
    {
     "data": {
      "image/png": "[encoded data removed]",
      "text/plain": [
       "<Figure size 576x432 with 1 Axes>"
      ]
     },
     "metadata": {
      "needs_background": "light"
     },
     "output_type": "display_data"
    }
   ],
   "source": [
    "# 1st plot - y_true vs. y_pred\n",
    "max_d = max(max(y_preds), max(y_test)) \n",
    "min_d = min(min(y_preds), min(y_test))\n",
    "\n",
    "plt.figure(figsize=(8, 6))\n",
    "plt.xlabel(\"Predicted Values: $\\hat{y}$\", fontsize=10)\n",
    "plt.ylabel(\"Actual Values: $y$\", fontsize=10)\n",
    "plt.title('Predicted Values vs. Actual Values', fontsize=14)\n",
    "ax = sns.scatterplot(x=y_test, y=y_preds, alpha=.7)\n",
    "ax.plot((min_d, max_d),(min_d, max_d), c='black', alpha=.7);"
   ]
  },
  {
   "cell_type": "markdown",
   "metadata": {},
   "source": [
    "If the points all fell on a diagonal line then we would have a perfect fit. However, the predictions of this model tend to cluster towards lower values. As the actual values get higher, the predictions become very spread-out. This means that the model's predictions for lower values are relative accurate; but for higher values, the predictions are way-off. In addition, the model tends to over-predict the target. "
   ]
  },
  {
   "cell_type": "code",
   "execution_count": 107,
   "metadata": {},
   "outputs": [
    {
     "data": {
      "image/png": "[encoded data removed]",
      "text/plain": [
       "<Figure size 576x432 with 1 Axes>"
      ]
     },
     "metadata": {
      "needs_background": "light"
     },
     "output_type": "display_data"
    }
   ],
   "source": [
    "# 2nd plot: residual plot\n",
    "resids = y_test - y_preds\n",
    "plt.figure(figsize=(8, 6))\n",
    "plt.title('Residual Plots', fontsize=14)\n",
    "ax = sns.scatterplot(x=range(len(resids)), y=resids, alpha=.7)\n",
    "ax.axhline(0, c='black', alpha =.7);"
   ]
  },
  {
   "cell_type": "markdown",
   "metadata": {},
   "source": [
    "Check **Independence of Errors** and **Equality of Variance**: the points on this plot shouldn't follow any patterns. However, as we can see, the errors tend to concentrate around the mean, and the points above the zero line are more spread-out. This means that the Independence of Errors and the Equality of Variance assumptions are violated. In addition, it confirms the finding from the previous plot, i.e. the model tends to over-predict the target. "
   ]
  },
  {
   "cell_type": "code",
   "execution_count": 108,
   "metadata": {
    "scrolled": false
   },
   "outputs": [
    {
     "data": {
      "image/png": "[encoded data removed]",
      "text/plain": [
       "<Figure size 576x432 with 1 Axes>"
      ]
     },
     "metadata": {
      "needs_background": "light"
     },
     "output_type": "display_data"
    }
   ],
   "source": [
    "# 3rd plot: distribution of residuals\n",
    "plt.figure(figsize=(8, 6))\n",
    "plt.title('Distribution of Residuals', fontsize=14)\n",
    "sns.distplot(resids, kde=False)\n",
    "plt.axvline(x=resids.mean(), color='black');"
   ]
  },
  {
   "cell_type": "markdown",
   "metadata": {},
   "source": [
    "Check **Normality**: The residuals roughly follow a normal distribution with mean 0, albeit some right-skewness."
   ]
  },
  {
   "cell_type": "markdown",
   "metadata": {},
   "source": [
    "### Visualize feature importance"
   ]
  },
  {
   "cell_type": "markdown",
   "metadata": {},
   "source": [
    "In Sklearn, the importance of a feature is computed as the (normalized) total reduction of the criterion brought by that feature. It is also known as the Gini importance [(Reference)](https://scikit-learn.org/stable/modules/generated/sklearn.tree.DecisionTreeClassifier.html#sklearn.tree.DecisionTreeClassifier.feature_importances_)"
   ]
  },
  {
   "cell_type": "code",
   "execution_count": 109,
   "metadata": {},
   "outputs": [],
   "source": [
    "def plot_feature_importance(model, estimator_name, X=None):\n",
    "    # Iterate through the trees and get the average feature importance \n",
    "    # Reference: https://gist.github.com/rtjeannier/69b702f6560b5cc1c0d084a26908d199\n",
    "    avg_feature_importance = np.mean([\n",
    "        tree.feature_importances_ for tree in model.best_estimator_[estimator_name]], axis=0)\n",
    "    \n",
    "    # Create a pd dataframe\n",
    "    feature_importance = pd.DataFrame(dict(zip(X.columns, avg_feature_importance)).items(), \n",
    "                                      columns=['features', 'importance'])\n",
    "    \n",
    "    # Sorted by feature importance\n",
    "    feature_importance = feature_importance.sort_values(by=['importance'])\n",
    "    \n",
    "    # Create plot\n",
    "    plt.figure(figsize=(10, 15))\n",
    "    ax = plt.barh(y = feature_importance['features'], width=feature_importance['importance'])\n",
    "    plt.title('Feature Importance', fontsize=14)\n",
    "    return feature_importance, ax"
   ]
  },
  {
   "cell_type": "code",
   "execution_count": 70,
   "metadata": {
    "scrolled": false
   },
   "outputs": [
    {
     "data": {
      "image/png": "[encoded data removed]",
      "text/plain": [
       "<Figure size 720x1080 with 1 Axes>"
      ]
     },
     "metadata": {
      "needs_background": "light"
     },
     "output_type": "display_data"
    }
   ],
   "source": [
    "df, ax = plot_feature_importance(modeler_0.get_model('gs_bag'), 'bag',  X=modeler_0.X)"
   ]
  },
  {
   "cell_type": "markdown",
   "metadata": {},
   "source": [
    "- For a bagged tree model of regression, the feature importance is the error function drops for a variable at each split point, i.e. MSE. \n",
    "- These drops in error can be averaged across all decision trees and output to provide an estimate of the importance of each input variable. The greater the drop when the variable was chosen, the greater the importance. [(Reference)](https://machinelearningmastery.com/bagging-and-random-forest-ensemble-algorithms-for-machine-learning/)\n",
    "- The feature importance plot is generated based on the `BaggingRegressor` trained on the Pattern_0 dataset. As we can see, The feature 'total_open_now_False' and 'total_open_now_True' are among the most important features. This confirmed our stipulation during the EDA process. \n",
    "- Certain business types are among the top most important features, such as the total_bakery, total_hardware store etc.\n",
    "- Many features from the census data (Income dataset) are among the top most important features. This is bad news, since my goal is to move towards the next phase, i.e. a generalization of the models which will not reply on any census data. "
   ]
  },
  {
   "cell_type": "markdown",
   "metadata": {},
   "source": [
    "### Visualize decision tree"
   ]
  },
  {
   "cell_type": "markdown",
   "metadata": {},
   "source": [
    "Thanks to [Mahdi Shadkam-Farrokhi](https://github.com/Shaddyjr) for sharing the code and reference for plotting the decision tree plot!\n",
    "[Reference](https://graphviz.readthedocs.io/en/stable/)"
   ]
  },
  {
   "cell_type": "code",
   "execution_count": 71,
   "metadata": {},
   "outputs": [],
   "source": [
    "cols = modeler_0.X.columns"
   ]
  },
  {
   "cell_type": "code",
   "execution_count": 110,
   "metadata": {
    "scrolled": true
   },
   "outputs": [
    {
     "data": {
      "image/png": "[encoded data removed]",
      "text/plain": [
       "<IPython.core.display.Image object>"
      ]
     },
     "execution_count": 110,
     "metadata": {},
     "output_type": "execute_result"
    }
   ],
   "source": [
    "dot_data = StringIO()\n",
    "export_graphviz(modeler_0.get_model('gs_tree').best_estimator_.steps[1][1], \n",
    "                out_file=dot_data, \n",
    "                feature_names=cols, \n",
    "                filled=True, \n",
    "                rounded=True,\n",
    "                max_depth=3\n",
    "               )\n",
    "graph = pydotplus.graph_from_dot_data(dot_data.getvalue())  \n",
    "Image(graph.create_png())"
   ]
  },
  {
   "cell_type": "markdown",
   "metadata": {},
   "source": [
    "- The above graph demonstrates how the `BaggingRegressor` branches off using the loss function MSE. \n",
    "- The different shades of color in each node indicate the purity of the node: the darker the shade, the more pure the node is. \n",
    "- On the top is the root node. As we can see, 'population' is where the tree starts to split off, and break into two child nodes: 'population_density' and 'total_store. \n",
    "- We see that census related features are playing an important in splitting some top level nodes. "
   ]
  },
  {
   "cell_type": "markdown",
   "metadata": {},
   "source": [
    "## Conclusion and Transition into Phase 3"
   ]
  },
  {
   "cell_type": "markdown",
   "metadata": {},
   "source": [
    "- In Phase 2, I used the aggregated observations by zipcode, combining with census data from the Income dataset to train the model.  \n",
    "- The **pattern sub-model** enabled us to handle missing data without imputation or dropping observations. \n",
    "- Among all the regression models, the **BaggingRegressor** yields the best result based on the test R2 score. However, even the best model still shows signs of high variance, and the result is **not optional**. \n",
    "- During the model elevation process, we confirmed that the model violates the **Equality of Variance** and **Independence of Errors** assumptions. \n",
    "- As we can see from evaluating the model, **features from census data** play an importance role in the model's performance. This finding might pose challenges to my goal of developing a generalization of the model: i.e. Using the model to predict home affordability ratio in other U.S. regions without retraining the model. \n",
    "- In Phase 3, I will exclude all census features and test this assumption. \n"
   ]
  }
 ],
 "metadata": {
  "kernelspec": {
   "display_name": "Python 3",
   "language": "python",
   "name": "python3"
  },
  "language_info": {
   "codemirror_mode": {
    "name": "ipython",
    "version": 3
   },
   "file_extension": ".py",
   "mimetype": "text/x-python",
   "name": "python",
   "nbconvert_exporter": "python",
   "pygments_lexer": "ipython3",
   "version": "3.7.4"
  },
  "toc": {
   "base_numbering": 1,
   "nav_menu": {},
   "number_sections": true,
   "sideBar": true,
   "skip_h1_title": false,
   "title_cell": "Table of Contents",
   "title_sidebar": "Contents",
   "toc_cell": true,
   "toc_position": {
    "height": "calc(100% - 180px)",
    "left": "10px",
    "top": "150px",
    "width": "301.804px"
   },
   "toc_section_display": true,
   "toc_window_display": true
  }
 },
 "nbformat": 4,
 "nbformat_minor": 2
}
