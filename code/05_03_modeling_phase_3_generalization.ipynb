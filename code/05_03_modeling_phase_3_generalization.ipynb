{
 "cells": [
  {
   "cell_type": "markdown",
   "metadata": {},
   "source": [
    "# Modeling Phase 3: Generalization"
   ]
  },
  {
   "cell_type": "markdown",
   "metadata": {},
   "source": [
    "- In Phase 3, I will use the New York State dataset to train the models, and then use the **LA dataset** to test the model's performance. \n",
    "- The goal for this phase is to test whether the model trained with the New York State dataset is **transferable**, i.e. whether the model can make good predictions for the home affordability ratio of other regions.\n",
    "- In Phase 3, **no features from the Census Data (Income dataset)**, such as population, population density, will be used in training the models.\n",
    "- I will use **R2 score** as the metric to evaluate the models.\n",
    "- The majority of this notebook is very similar to notebook 05_02. For the ease of your reading, go directly to the following sections:\n",
    "    - [Drop all census related features](#1)\n",
    "    - [Test model transferability on LA dataset](#2)\n",
    "    - [Conclusion](#3)\n",
    "    - [Limitations and Next Steps](#4)"
   ]
  },
  {
   "cell_type": "markdown",
   "metadata": {
    "toc": true
   },
   "source": [
    "<h1>Table of Contents<span class=\"tocSkip\"></span></h1>\n",
    "<div class=\"toc\"><ul class=\"toc-item\"><li><span><a href=\"#Modeling-Phase-3:-Generalization\" data-toc-modified-id=\"Modeling-Phase-3:-Generalization-1\"><span class=\"toc-item-num\">1&nbsp;&nbsp;</span>Modeling Phase 3: Generalization</a></span><ul class=\"toc-item\"><li><span><a href=\"#Import-Libraries\" data-toc-modified-id=\"Import-Libraries-1.1\"><span class=\"toc-item-num\">1.1&nbsp;&nbsp;</span>Import Libraries</a></span></li><li><span><a href=\"#Define-constants\" data-toc-modified-id=\"Define-constants-1.2\"><span class=\"toc-item-num\">1.2&nbsp;&nbsp;</span>Define constants</a></span></li><li><span><a href=\"#Read-in-data\" data-toc-modified-id=\"Read-in-data-1.3\"><span class=\"toc-item-num\">1.3&nbsp;&nbsp;</span>Read in data</a></span></li><li><span><a href=\"#Preprocessing\" data-toc-modified-id=\"Preprocessing-1.4\"><span class=\"toc-item-num\">1.4&nbsp;&nbsp;</span>Preprocessing</a></span><ul class=\"toc-item\"><li><span><a href=\"#Drop-all-census-related-features\" data-toc-modified-id=\"Drop-all-census-related-features-1.4.1\"><span class=\"toc-item-num\">1.4.1&nbsp;&nbsp;</span>Drop all census related features</a></span></li><li><span><a href=\"#Pattern-submodel-to-handle-missing-values\" data-toc-modified-id=\"Pattern-submodel-to-handle-missing-values-1.4.2\"><span class=\"toc-item-num\">1.4.2&nbsp;&nbsp;</span>Pattern submodel to handle missing values</a></span></li></ul></li><li><span><a href=\"#Model-preparation\" data-toc-modified-id=\"Model-preparation-1.5\"><span class=\"toc-item-num\">1.5&nbsp;&nbsp;</span>Model preparation</a></span></li><li><span><a href=\"#Modeling\" data-toc-modified-id=\"Modeling-1.6\"><span class=\"toc-item-num\">1.6&nbsp;&nbsp;</span>Modeling</a></span><ul class=\"toc-item\"><li><span><a href=\"#Baseline-model\" data-toc-modified-id=\"Baseline-model-1.6.1\"><span class=\"toc-item-num\">1.6.1&nbsp;&nbsp;</span>Baseline model</a></span></li><li><span><a href=\"#Linear-Regression\" data-toc-modified-id=\"Linear-Regression-1.6.2\"><span class=\"toc-item-num\">1.6.2&nbsp;&nbsp;</span>Linear Regression</a></span><ul class=\"toc-item\"><li><span><a href=\"#Ridge-Regularzation\" data-toc-modified-id=\"Ridge-Regularzation-1.6.2.1\"><span class=\"toc-item-num\">1.6.2.1&nbsp;&nbsp;</span>Ridge Regularzation</a></span></li><li><span><a href=\"#Lasso-Regularzation\" data-toc-modified-id=\"Lasso-Regularzation-1.6.2.2\"><span class=\"toc-item-num\">1.6.2.2&nbsp;&nbsp;</span>Lasso Regularzation</a></span></li><li><span><a href=\"#Linear-Regression-+-PCA\" data-toc-modified-id=\"Linear-Regression-+-PCA-1.6.2.3\"><span class=\"toc-item-num\">1.6.2.3&nbsp;&nbsp;</span>Linear Regression + PCA</a></span></li></ul></li><li><span><a href=\"#Polynomial-Regression\" data-toc-modified-id=\"Polynomial-Regression-1.6.3\"><span class=\"toc-item-num\">1.6.3&nbsp;&nbsp;</span>Polynomial Regression</a></span></li><li><span><a href=\"#KNN\" data-toc-modified-id=\"KNN-1.6.4\"><span class=\"toc-item-num\">1.6.4&nbsp;&nbsp;</span>KNN</a></span></li><li><span><a href=\"#Tree-Based-Models\" data-toc-modified-id=\"Tree-Based-Models-1.6.5\"><span class=\"toc-item-num\">1.6.5&nbsp;&nbsp;</span>Tree Based Models</a></span><ul class=\"toc-item\"><li><span><a href=\"#Cart\" data-toc-modified-id=\"Cart-1.6.5.1\"><span class=\"toc-item-num\">1.6.5.1&nbsp;&nbsp;</span>Cart</a></span></li><li><span><a href=\"#Bagged-Tree\" data-toc-modified-id=\"Bagged-Tree-1.6.5.2\"><span class=\"toc-item-num\">1.6.5.2&nbsp;&nbsp;</span>Bagged Tree</a></span></li><li><span><a href=\"#Random-Forest\" data-toc-modified-id=\"Random-Forest-1.6.5.3\"><span class=\"toc-item-num\">1.6.5.3&nbsp;&nbsp;</span>Random Forest</a></span></li><li><span><a href=\"#Extra-Trees\" data-toc-modified-id=\"Extra-Trees-1.6.5.4\"><span class=\"toc-item-num\">1.6.5.4&nbsp;&nbsp;</span>Extra Trees</a></span></li><li><span><a href=\"#Ada-Boost\" data-toc-modified-id=\"Ada-Boost-1.6.5.5\"><span class=\"toc-item-num\">1.6.5.5&nbsp;&nbsp;</span>Ada Boost</a></span></li></ul></li><li><span><a href=\"#SVR\" data-toc-modified-id=\"SVR-1.6.6\"><span class=\"toc-item-num\">1.6.6&nbsp;&nbsp;</span>SVR</a></span></li><li><span><a href=\"#Stochastic-Gradient-Descent\" data-toc-modified-id=\"Stochastic-Gradient-Descent-1.6.7\"><span class=\"toc-item-num\">1.6.7&nbsp;&nbsp;</span>Stochastic Gradient Descent</a></span></li></ul></li><li><span><a href=\"#Model-Selection\" data-toc-modified-id=\"Model-Selection-1.7\"><span class=\"toc-item-num\">1.7&nbsp;&nbsp;</span>Model Selection</a></span></li><li><span><a href=\"#Model-Elevation\" data-toc-modified-id=\"Model-Elevation-1.8\"><span class=\"toc-item-num\">1.8&nbsp;&nbsp;</span>Model Elevation</a></span><ul class=\"toc-item\"><li><span><a href=\"#Plot-residuals\" data-toc-modified-id=\"Plot-residuals-1.8.1\"><span class=\"toc-item-num\">1.8.1&nbsp;&nbsp;</span>Plot residuals</a></span></li></ul></li><li><span><a href=\"#Test-model-transferability-on-LA-dataset\" data-toc-modified-id=\"Test-model-transferability-on-LA-dataset-1.9\"><span class=\"toc-item-num\">1.9&nbsp;&nbsp;</span>Test model transferability on LA dataset</a></span><ul class=\"toc-item\"><li><span><a href=\"#Read-in-LA-dataset\" data-toc-modified-id=\"Read-in-LA-dataset-1.9.1\"><span class=\"toc-item-num\">1.9.1&nbsp;&nbsp;</span>Read in LA dataset</a></span></li><li><span><a href=\"#Preprocessing\" data-toc-modified-id=\"Preprocessing-1.9.2\"><span class=\"toc-item-num\">1.9.2&nbsp;&nbsp;</span>Preprocessing</a></span></li><li><span><a href=\"#Pattern-submodel-to-handle-missing-values\" data-toc-modified-id=\"Pattern-submodel-to-handle-missing-values-1.9.3\"><span class=\"toc-item-num\">1.9.3&nbsp;&nbsp;</span>Pattern submodel to handle missing values</a></span></li><li><span><a href=\"#Model-preperation\" data-toc-modified-id=\"Model-preperation-1.9.4\"><span class=\"toc-item-num\">1.9.4&nbsp;&nbsp;</span>Model preperation</a></span></li><li><span><a href=\"#Make-predictions\" data-toc-modified-id=\"Make-predictions-1.9.5\"><span class=\"toc-item-num\">1.9.5&nbsp;&nbsp;</span>Make predictions</a></span></li><li><span><a href=\"#Model-elevation\" data-toc-modified-id=\"Model-elevation-1.9.6\"><span class=\"toc-item-num\">1.9.6&nbsp;&nbsp;</span>Model elevation</a></span></li></ul></li><li><span><a href=\"#Conclusion\" data-toc-modified-id=\"Conclusion-1.10\"><span class=\"toc-item-num\">1.10&nbsp;&nbsp;</span>Conclusion</a></span></li><li><span><a href=\"#Limitations-and-Next-Steps\" data-toc-modified-id=\"Limitations-and-Next-Steps-1.11\"><span class=\"toc-item-num\">1.11&nbsp;&nbsp;</span>Limitations and Next Steps</a></span><ul class=\"toc-item\"><li><span><a href=\"#Next-Steps\" data-toc-modified-id=\"Next-Steps-1.11.1\"><span class=\"toc-item-num\">1.11.1&nbsp;&nbsp;</span>Next Steps</a></span></li><li><span><a href=\"#Limitations\" data-toc-modified-id=\"Limitations-1.11.2\"><span class=\"toc-item-num\">1.11.2&nbsp;&nbsp;</span>Limitations</a></span></li></ul></li></ul></li></ul></div>"
   ]
  },
  {
   "cell_type": "markdown",
   "metadata": {},
   "source": [
    "## Import Libraries"
   ]
  },
  {
   "cell_type": "code",
   "execution_count": 1,
   "metadata": {},
   "outputs": [],
   "source": [
    "import pandas as pd\n",
    "import numpy as np\n",
    "import matplotlib.pyplot as plt\n",
    "import seaborn as sns\n",
    "\n",
    "from sklearn.preprocessing import StandardScaler, PolynomialFeatures\n",
    "from sklearn.model_selection import train_test_split, GridSearchCV, cross_val_score\n",
    "from sklearn.pipeline import Pipeline\n",
    "from sklearn.metrics import r2_score\n",
    "\n",
    "from sklearn.decomposition import PCA\n",
    "from sklearn.dummy import DummyRegressor\n",
    "from sklearn.linear_model import LinearRegression, Ridge, Lasso, SGDRegressor\n",
    "from sklearn.neighbors import KNeighborsRegressor\n",
    "from sklearn.tree import DecisionTreeRegressor\n",
    "from sklearn.ensemble import BaggingRegressor, RandomForestRegressor, ExtraTreesRegressor, AdaBoostRegressor\n",
    "from sklearn.svm import SVR\n",
    "\n",
    "%matplotlib inline\n",
    "\n",
    "import warnings\n",
    "warnings.filterwarnings('ignore')"
   ]
  },
  {
   "cell_type": "markdown",
   "metadata": {},
   "source": [
    "## Define constants"
   ]
  },
  {
   "cell_type": "code",
   "execution_count": 2,
   "metadata": {},
   "outputs": [],
   "source": [
    "RANDOM_STATE = 20200304"
   ]
  },
  {
   "cell_type": "code",
   "execution_count": 3,
   "metadata": {},
   "outputs": [],
   "source": [
    "LOCATION = 'ny_state'"
   ]
  },
  {
   "cell_type": "code",
   "execution_count": 4,
   "metadata": {},
   "outputs": [],
   "source": [
    "TARGET = 'log_home_price_to_income_ratios'"
   ]
  },
  {
   "cell_type": "code",
   "execution_count": 5,
   "metadata": {},
   "outputs": [],
   "source": [
    "METRIC = 'r2'"
   ]
  },
  {
   "cell_type": "code",
   "execution_count": 6,
   "metadata": {},
   "outputs": [],
   "source": [
    "CV = 4 "
   ]
  },
  {
   "cell_type": "markdown",
   "metadata": {},
   "source": [
    "## Read in data"
   ]
  },
  {
   "cell_type": "code",
   "execution_count": 7,
   "metadata": {},
   "outputs": [],
   "source": [
    "df_ny_state = pd.read_csv(f'../data/final_{LOCATION}_agg.csv')"
   ]
  },
  {
   "cell_type": "code",
   "execution_count": 8,
   "metadata": {},
   "outputs": [
    {
     "data": {
      "text/html": [
       "<div>\n",
       "<style scoped>\n",
       "    .dataframe tbody tr th:only-of-type {\n",
       "        vertical-align: middle;\n",
       "    }\n",
       "\n",
       "    .dataframe tbody tr th {\n",
       "        vertical-align: top;\n",
       "    }\n",
       "\n",
       "    .dataframe thead th {\n",
       "        text-align: right;\n",
       "    }\n",
       "</style>\n",
       "<table border=\"1\" class=\"dataframe\">\n",
       "  <thead>\n",
       "    <tr style=\"text-align: right;\">\n",
       "      <th></th>\n",
       "      <th>zipcode</th>\n",
       "      <th>total_accounting</th>\n",
       "      <th>total_airport</th>\n",
       "      <th>total_amusement_park</th>\n",
       "      <th>total_art_gallery</th>\n",
       "      <th>total_atm</th>\n",
       "      <th>total_bakery</th>\n",
       "      <th>total_bank</th>\n",
       "      <th>total_bar</th>\n",
       "      <th>total_beauty_salon</th>\n",
       "      <th>...</th>\n",
       "      <th>mean_price_level</th>\n",
       "      <th>mean_rating</th>\n",
       "      <th>mean_user_ratings_total</th>\n",
       "      <th>population</th>\n",
       "      <th>population_density_square_miles</th>\n",
       "      <th>housing_units</th>\n",
       "      <th>price_level*rating</th>\n",
       "      <th>user_ratings_total_per_capita</th>\n",
       "      <th>rating*population_density</th>\n",
       "      <th>log_home_price_to_income_ratios</th>\n",
       "    </tr>\n",
       "  </thead>\n",
       "  <tbody>\n",
       "    <tr>\n",
       "      <td>0</td>\n",
       "      <td>14741</td>\n",
       "      <td>0</td>\n",
       "      <td>0</td>\n",
       "      <td>0</td>\n",
       "      <td>0</td>\n",
       "      <td>0</td>\n",
       "      <td>0</td>\n",
       "      <td>0</td>\n",
       "      <td>0</td>\n",
       "      <td>0</td>\n",
       "      <td>...</td>\n",
       "      <td>1.000000</td>\n",
       "      <td>4.400000</td>\n",
       "      <td>410.000000</td>\n",
       "      <td>1809</td>\n",
       "      <td>29.4</td>\n",
       "      <td>1260</td>\n",
       "      <td>4.400000</td>\n",
       "      <td>0.226645</td>\n",
       "      <td>129.36000</td>\n",
       "      <td>0.663932</td>\n",
       "    </tr>\n",
       "    <tr>\n",
       "      <td>1</td>\n",
       "      <td>13084</td>\n",
       "      <td>0</td>\n",
       "      <td>0</td>\n",
       "      <td>0</td>\n",
       "      <td>0</td>\n",
       "      <td>1</td>\n",
       "      <td>1</td>\n",
       "      <td>0</td>\n",
       "      <td>4</td>\n",
       "      <td>0</td>\n",
       "      <td>...</td>\n",
       "      <td>1.142857</td>\n",
       "      <td>3.232143</td>\n",
       "      <td>81.928571</td>\n",
       "      <td>3734</td>\n",
       "      <td>86.8</td>\n",
       "      <td>1601</td>\n",
       "      <td>3.693878</td>\n",
       "      <td>0.021941</td>\n",
       "      <td>280.55000</td>\n",
       "      <td>0.852157</td>\n",
       "    </tr>\n",
       "    <tr>\n",
       "      <td>2</td>\n",
       "      <td>13159</td>\n",
       "      <td>0</td>\n",
       "      <td>0</td>\n",
       "      <td>0</td>\n",
       "      <td>1</td>\n",
       "      <td>1</td>\n",
       "      <td>0</td>\n",
       "      <td>0</td>\n",
       "      <td>3</td>\n",
       "      <td>0</td>\n",
       "      <td>...</td>\n",
       "      <td>1.333333</td>\n",
       "      <td>4.112500</td>\n",
       "      <td>108.875000</td>\n",
       "      <td>5348</td>\n",
       "      <td>68.5</td>\n",
       "      <td>2303</td>\n",
       "      <td>5.483333</td>\n",
       "      <td>0.020358</td>\n",
       "      <td>281.70625</td>\n",
       "      <td>0.866606</td>\n",
       "    </tr>\n",
       "    <tr>\n",
       "      <td>3</td>\n",
       "      <td>14476</td>\n",
       "      <td>0</td>\n",
       "      <td>0</td>\n",
       "      <td>0</td>\n",
       "      <td>0</td>\n",
       "      <td>0</td>\n",
       "      <td>0</td>\n",
       "      <td>0</td>\n",
       "      <td>0</td>\n",
       "      <td>0</td>\n",
       "      <td>...</td>\n",
       "      <td>1.666667</td>\n",
       "      <td>4.428571</td>\n",
       "      <td>132.285714</td>\n",
       "      <td>2274</td>\n",
       "      <td>91.7</td>\n",
       "      <td>1049</td>\n",
       "      <td>7.380952</td>\n",
       "      <td>0.058173</td>\n",
       "      <td>406.10000</td>\n",
       "      <td>0.745526</td>\n",
       "    </tr>\n",
       "    <tr>\n",
       "      <td>4</td>\n",
       "      <td>12174</td>\n",
       "      <td>0</td>\n",
       "      <td>0</td>\n",
       "      <td>0</td>\n",
       "      <td>0</td>\n",
       "      <td>0</td>\n",
       "      <td>0</td>\n",
       "      <td>0</td>\n",
       "      <td>0</td>\n",
       "      <td>0</td>\n",
       "      <td>...</td>\n",
       "      <td>NaN</td>\n",
       "      <td>0.000000</td>\n",
       "      <td>0.000000</td>\n",
       "      <td>316</td>\n",
       "      <td>274.9</td>\n",
       "      <td>139</td>\n",
       "      <td>NaN</td>\n",
       "      <td>0.000000</td>\n",
       "      <td>0.00000</td>\n",
       "      <td>0.692566</td>\n",
       "    </tr>\n",
       "  </tbody>\n",
       "</table>\n",
       "<p>5 rows × 105 columns</p>\n",
       "</div>"
      ],
      "text/plain": [
       "   zipcode  total_accounting  total_airport  total_amusement_park  \\\n",
       "0    14741                 0              0                     0   \n",
       "1    13084                 0              0                     0   \n",
       "2    13159                 0              0                     0   \n",
       "3    14476                 0              0                     0   \n",
       "4    12174                 0              0                     0   \n",
       "\n",
       "   total_art_gallery  total_atm  total_bakery  total_bank  total_bar  \\\n",
       "0                  0          0             0           0          0   \n",
       "1                  0          1             1           0          4   \n",
       "2                  1          1             0           0          3   \n",
       "3                  0          0             0           0          0   \n",
       "4                  0          0             0           0          0   \n",
       "\n",
       "   total_beauty_salon  ...  mean_price_level  mean_rating  \\\n",
       "0                   0  ...          1.000000     4.400000   \n",
       "1                   0  ...          1.142857     3.232143   \n",
       "2                   0  ...          1.333333     4.112500   \n",
       "3                   0  ...          1.666667     4.428571   \n",
       "4                   0  ...               NaN     0.000000   \n",
       "\n",
       "   mean_user_ratings_total  population  population_density_square_miles  \\\n",
       "0               410.000000        1809                             29.4   \n",
       "1                81.928571        3734                             86.8   \n",
       "2               108.875000        5348                             68.5   \n",
       "3               132.285714        2274                             91.7   \n",
       "4                 0.000000         316                            274.9   \n",
       "\n",
       "   housing_units  price_level*rating  user_ratings_total_per_capita  \\\n",
       "0           1260            4.400000                       0.226645   \n",
       "1           1601            3.693878                       0.021941   \n",
       "2           2303            5.483333                       0.020358   \n",
       "3           1049            7.380952                       0.058173   \n",
       "4            139                 NaN                       0.000000   \n",
       "\n",
       "   rating*population_density  log_home_price_to_income_ratios  \n",
       "0                  129.36000                         0.663932  \n",
       "1                  280.55000                         0.852157  \n",
       "2                  281.70625                         0.866606  \n",
       "3                  406.10000                         0.745526  \n",
       "4                    0.00000                         0.692566  \n",
       "\n",
       "[5 rows x 105 columns]"
      ]
     },
     "execution_count": 8,
     "metadata": {},
     "output_type": "execute_result"
    }
   ],
   "source": [
    "df_ny_state.head()"
   ]
  },
  {
   "cell_type": "code",
   "execution_count": 9,
   "metadata": {},
   "outputs": [
    {
     "data": {
      "text/plain": [
       "(1521, 105)"
      ]
     },
     "execution_count": 9,
     "metadata": {},
     "output_type": "execute_result"
    }
   ],
   "source": [
    "df_ny_state.shape"
   ]
  },
  {
   "cell_type": "markdown",
   "metadata": {},
   "source": [
    "## Preprocessing"
   ]
  },
  {
   "cell_type": "code",
   "execution_count": 10,
   "metadata": {},
   "outputs": [],
   "source": [
    "def high_corr_w_dependent_variable(df, dependent_variable, corr_value):\n",
    "    '''\n",
    "    Takes df, dependent variable, and value of correlation \n",
    "    Returns a df of independant varibles that are highly (e.g. abs(corr) > 0.4) with dependent varible\n",
    "    '''\n",
    "    temp_df = df.corr()[[dependent_variable]].sort_values(by=dependent_variable, ascending=False)\n",
    "    mask_1 = abs(temp_df[dependent_variable]) > corr_value\n",
    "    return temp_df.loc[mask_1]"
   ]
  },
  {
   "cell_type": "code",
   "execution_count": 11,
   "metadata": {},
   "outputs": [
    {
     "data": {
      "text/html": [
       "<div>\n",
       "<style scoped>\n",
       "    .dataframe tbody tr th:only-of-type {\n",
       "        vertical-align: middle;\n",
       "    }\n",
       "\n",
       "    .dataframe tbody tr th {\n",
       "        vertical-align: top;\n",
       "    }\n",
       "\n",
       "    .dataframe thead th {\n",
       "        text-align: right;\n",
       "    }\n",
       "</style>\n",
       "<table border=\"1\" class=\"dataframe\">\n",
       "  <thead>\n",
       "    <tr style=\"text-align: right;\">\n",
       "      <th></th>\n",
       "      <th>log_home_price_to_income_ratios</th>\n",
       "    </tr>\n",
       "  </thead>\n",
       "  <tbody>\n",
       "    <tr>\n",
       "      <td>log_home_price_to_income_ratios</td>\n",
       "      <td>1.000000</td>\n",
       "    </tr>\n",
       "    <tr>\n",
       "      <td>total_open_now_True</td>\n",
       "      <td>0.613297</td>\n",
       "    </tr>\n",
       "    <tr>\n",
       "      <td>population_density_square_miles</td>\n",
       "      <td>0.588593</td>\n",
       "    </tr>\n",
       "    <tr>\n",
       "      <td>rating*population_density</td>\n",
       "      <td>0.585944</td>\n",
       "    </tr>\n",
       "    <tr>\n",
       "      <td>population</td>\n",
       "      <td>0.568489</td>\n",
       "    </tr>\n",
       "    <tr>\n",
       "      <td>housing_units</td>\n",
       "      <td>0.564353</td>\n",
       "    </tr>\n",
       "    <tr>\n",
       "      <td>total_meal_delivery</td>\n",
       "      <td>0.492924</td>\n",
       "    </tr>\n",
       "    <tr>\n",
       "      <td>total_store</td>\n",
       "      <td>0.490759</td>\n",
       "    </tr>\n",
       "    <tr>\n",
       "      <td>total_food</td>\n",
       "      <td>0.489080</td>\n",
       "    </tr>\n",
       "    <tr>\n",
       "      <td>total_cafe</td>\n",
       "      <td>0.487195</td>\n",
       "    </tr>\n",
       "    <tr>\n",
       "      <td>total_restaurant</td>\n",
       "      <td>0.471756</td>\n",
       "    </tr>\n",
       "    <tr>\n",
       "      <td>total_bakery</td>\n",
       "      <td>0.423306</td>\n",
       "    </tr>\n",
       "    <tr>\n",
       "      <td>total_clothing_store</td>\n",
       "      <td>0.394660</td>\n",
       "    </tr>\n",
       "    <tr>\n",
       "      <td>total_liquor_store</td>\n",
       "      <td>0.392000</td>\n",
       "    </tr>\n",
       "    <tr>\n",
       "      <td>total_health</td>\n",
       "      <td>0.385198</td>\n",
       "    </tr>\n",
       "    <tr>\n",
       "      <td>mean_price_level</td>\n",
       "      <td>0.379605</td>\n",
       "    </tr>\n",
       "    <tr>\n",
       "      <td>total_drugstore</td>\n",
       "      <td>0.367369</td>\n",
       "    </tr>\n",
       "    <tr>\n",
       "      <td>total_bar</td>\n",
       "      <td>0.340822</td>\n",
       "    </tr>\n",
       "    <tr>\n",
       "      <td>total_electronics_store</td>\n",
       "      <td>0.335376</td>\n",
       "    </tr>\n",
       "    <tr>\n",
       "      <td>price_level*rating</td>\n",
       "      <td>0.332161</td>\n",
       "    </tr>\n",
       "    <tr>\n",
       "      <td>total_furniture_store</td>\n",
       "      <td>0.265175</td>\n",
       "    </tr>\n",
       "    <tr>\n",
       "      <td>total_shoe_store</td>\n",
       "      <td>0.264888</td>\n",
       "    </tr>\n",
       "    <tr>\n",
       "      <td>total_convenience_store</td>\n",
       "      <td>0.254799</td>\n",
       "    </tr>\n",
       "    <tr>\n",
       "      <td>total_hardware_store</td>\n",
       "      <td>0.248891</td>\n",
       "    </tr>\n",
       "    <tr>\n",
       "      <td>total_home_goods_store</td>\n",
       "      <td>0.245025</td>\n",
       "    </tr>\n",
       "    <tr>\n",
       "      <td>total_grocery_or_supermarket</td>\n",
       "      <td>0.239093</td>\n",
       "    </tr>\n",
       "    <tr>\n",
       "      <td>mean_user_ratings_total</td>\n",
       "      <td>0.230804</td>\n",
       "    </tr>\n",
       "    <tr>\n",
       "      <td>total_open_now_False</td>\n",
       "      <td>0.226203</td>\n",
       "    </tr>\n",
       "    <tr>\n",
       "      <td>total_night_club</td>\n",
       "      <td>0.225957</td>\n",
       "    </tr>\n",
       "    <tr>\n",
       "      <td>total_florist</td>\n",
       "      <td>0.216900</td>\n",
       "    </tr>\n",
       "    <tr>\n",
       "      <td>total_locksmith</td>\n",
       "      <td>0.215888</td>\n",
       "    </tr>\n",
       "    <tr>\n",
       "      <td>total_pharmacy</td>\n",
       "      <td>0.209430</td>\n",
       "    </tr>\n",
       "    <tr>\n",
       "      <td>total_jewelry_store</td>\n",
       "      <td>0.206984</td>\n",
       "    </tr>\n",
       "    <tr>\n",
       "      <td>total_department_store</td>\n",
       "      <td>0.148166</td>\n",
       "    </tr>\n",
       "    <tr>\n",
       "      <td>total_bicycle_store</td>\n",
       "      <td>0.133912</td>\n",
       "    </tr>\n",
       "    <tr>\n",
       "      <td>total_supermarket</td>\n",
       "      <td>0.133301</td>\n",
       "    </tr>\n",
       "    <tr>\n",
       "      <td>total_hair_care</td>\n",
       "      <td>0.129904</td>\n",
       "    </tr>\n",
       "    <tr>\n",
       "      <td>total_meal_takeaway</td>\n",
       "      <td>0.126371</td>\n",
       "    </tr>\n",
       "    <tr>\n",
       "      <td>total_book_store</td>\n",
       "      <td>0.120127</td>\n",
       "    </tr>\n",
       "    <tr>\n",
       "      <td>total_shopping_mall</td>\n",
       "      <td>0.106542</td>\n",
       "    </tr>\n",
       "    <tr>\n",
       "      <td>total_open_now_nan</td>\n",
       "      <td>0.101966</td>\n",
       "    </tr>\n",
       "    <tr>\n",
       "      <td>total_pet_store</td>\n",
       "      <td>0.095637</td>\n",
       "    </tr>\n",
       "    <tr>\n",
       "      <td>total_art_gallery</td>\n",
       "      <td>0.095412</td>\n",
       "    </tr>\n",
       "    <tr>\n",
       "      <td>total_general_contractor</td>\n",
       "      <td>0.086207</td>\n",
       "    </tr>\n",
       "    <tr>\n",
       "      <td>total_beauty_salon</td>\n",
       "      <td>0.081488</td>\n",
       "    </tr>\n",
       "    <tr>\n",
       "      <td>total_spa</td>\n",
       "      <td>0.066232</td>\n",
       "    </tr>\n",
       "    <tr>\n",
       "      <td>total_veterinary_care</td>\n",
       "      <td>-0.060056</td>\n",
       "    </tr>\n",
       "    <tr>\n",
       "      <td>total_atm</td>\n",
       "      <td>-0.131888</td>\n",
       "    </tr>\n",
       "    <tr>\n",
       "      <td>total_gas_station</td>\n",
       "      <td>-0.205987</td>\n",
       "    </tr>\n",
       "    <tr>\n",
       "      <td>zipcode</td>\n",
       "      <td>-0.710616</td>\n",
       "    </tr>\n",
       "  </tbody>\n",
       "</table>\n",
       "</div>"
      ],
      "text/plain": [
       "                                 log_home_price_to_income_ratios\n",
       "log_home_price_to_income_ratios                         1.000000\n",
       "total_open_now_True                                     0.613297\n",
       "population_density_square_miles                         0.588593\n",
       "rating*population_density                               0.585944\n",
       "population                                              0.568489\n",
       "housing_units                                           0.564353\n",
       "total_meal_delivery                                     0.492924\n",
       "total_store                                             0.490759\n",
       "total_food                                              0.489080\n",
       "total_cafe                                              0.487195\n",
       "total_restaurant                                        0.471756\n",
       "total_bakery                                            0.423306\n",
       "total_clothing_store                                    0.394660\n",
       "total_liquor_store                                      0.392000\n",
       "total_health                                            0.385198\n",
       "mean_price_level                                        0.379605\n",
       "total_drugstore                                         0.367369\n",
       "total_bar                                               0.340822\n",
       "total_electronics_store                                 0.335376\n",
       "price_level*rating                                      0.332161\n",
       "total_furniture_store                                   0.265175\n",
       "total_shoe_store                                        0.264888\n",
       "total_convenience_store                                 0.254799\n",
       "total_hardware_store                                    0.248891\n",
       "total_home_goods_store                                  0.245025\n",
       "total_grocery_or_supermarket                            0.239093\n",
       "mean_user_ratings_total                                 0.230804\n",
       "total_open_now_False                                    0.226203\n",
       "total_night_club                                        0.225957\n",
       "total_florist                                           0.216900\n",
       "total_locksmith                                         0.215888\n",
       "total_pharmacy                                          0.209430\n",
       "total_jewelry_store                                     0.206984\n",
       "total_department_store                                  0.148166\n",
       "total_bicycle_store                                     0.133912\n",
       "total_supermarket                                       0.133301\n",
       "total_hair_care                                         0.129904\n",
       "total_meal_takeaway                                     0.126371\n",
       "total_book_store                                        0.120127\n",
       "total_shopping_mall                                     0.106542\n",
       "total_open_now_nan                                      0.101966\n",
       "total_pet_store                                         0.095637\n",
       "total_art_gallery                                       0.095412\n",
       "total_general_contractor                                0.086207\n",
       "total_beauty_salon                                      0.081488\n",
       "total_spa                                               0.066232\n",
       "total_veterinary_care                                  -0.060056\n",
       "total_atm                                              -0.131888\n",
       "total_gas_station                                      -0.205987\n",
       "zipcode                                                -0.710616"
      ]
     },
     "execution_count": 11,
     "metadata": {},
     "output_type": "execute_result"
    }
   ],
   "source": [
    "high_corr_w_dependent_variable(df_ny_state, 'log_home_price_to_income_ratios', 0.06)"
   ]
  },
  {
   "cell_type": "code",
   "execution_count": 12,
   "metadata": {},
   "outputs": [],
   "source": [
    "df_ny_state = df_ny_state[high_corr_w_dependent_variable(df_ny_state, 'log_home_price_to_income_ratios', 0.06).index]"
   ]
  },
  {
   "cell_type": "markdown",
   "metadata": {},
   "source": [
    "### Drop all census related features\n",
    "<a id='1'></a>"
   ]
  },
  {
   "cell_type": "code",
   "execution_count": 13,
   "metadata": {},
   "outputs": [],
   "source": [
    "census_cols = [\n",
    "    'population_density_square_miles', 'rating*population_density',\n",
    "    'population', 'housing_units', 'zipcode'\n",
    "]"
   ]
  },
  {
   "cell_type": "code",
   "execution_count": 14,
   "metadata": {},
   "outputs": [],
   "source": [
    "df_ny_state.drop(columns=census_cols, inplace=True)"
   ]
  },
  {
   "cell_type": "markdown",
   "metadata": {},
   "source": [
    "### Pattern submodel to handle missing values"
   ]
  },
  {
   "cell_type": "code",
   "execution_count": 15,
   "metadata": {},
   "outputs": [],
   "source": [
    "# define a funciton to view the total and percentage of missing values \n",
    "def view_col_with_nans(df):\n",
    "    mask_percent = df.isnull().mean().sort_values(ascending=False) \n",
    "    mask_total = df.isnull().sum().sort_values(ascending=False)\n",
    "    total = mask_total[mask_total > 0]\n",
    "    percent = mask_percent[mask_percent > 0] \n",
    "    missing_data = pd.concat([total, percent], axis=1, keys=['Total', 'Percent'])\n",
    "    return missing_data"
   ]
  },
  {
   "cell_type": "code",
   "execution_count": 16,
   "metadata": {
    "scrolled": true
   },
   "outputs": [
    {
     "data": {
      "text/html": [
       "<div>\n",
       "<style scoped>\n",
       "    .dataframe tbody tr th:only-of-type {\n",
       "        vertical-align: middle;\n",
       "    }\n",
       "\n",
       "    .dataframe tbody tr th {\n",
       "        vertical-align: top;\n",
       "    }\n",
       "\n",
       "    .dataframe thead th {\n",
       "        text-align: right;\n",
       "    }\n",
       "</style>\n",
       "<table border=\"1\" class=\"dataframe\">\n",
       "  <thead>\n",
       "    <tr style=\"text-align: right;\">\n",
       "      <th></th>\n",
       "      <th>Total</th>\n",
       "      <th>Percent</th>\n",
       "    </tr>\n",
       "  </thead>\n",
       "  <tbody>\n",
       "    <tr>\n",
       "      <td>price_level*rating</td>\n",
       "      <td>157</td>\n",
       "      <td>0.103222</td>\n",
       "    </tr>\n",
       "    <tr>\n",
       "      <td>mean_price_level</td>\n",
       "      <td>157</td>\n",
       "      <td>0.103222</td>\n",
       "    </tr>\n",
       "  </tbody>\n",
       "</table>\n",
       "</div>"
      ],
      "text/plain": [
       "                    Total   Percent\n",
       "price_level*rating    157  0.103222\n",
       "mean_price_level      157  0.103222"
      ]
     },
     "execution_count": 16,
     "metadata": {},
     "output_type": "execute_result"
    }
   ],
   "source": [
    "view_col_with_nans(df_ny_state)"
   ]
  },
  {
   "cell_type": "code",
   "execution_count": 17,
   "metadata": {},
   "outputs": [],
   "source": [
    "def pattern_split(df):\n",
    "    pat_1_indexes = df[pd.isnull(df).any(axis=1)].index\n",
    "    pat_0_indexes = set(df.index) - set(pat_1_indexes)\n",
    "\n",
    "    # Dataset with ALL columns\n",
    "    df_0 = df.loc[pat_0_indexes]\n",
    "    \n",
    "    # Dataset without columns containing NaNs\n",
    "    df_1 = df.loc[pat_1_indexes].dropna(axis=1)\n",
    "    return df_0, df_1"
   ]
  },
  {
   "cell_type": "code",
   "execution_count": 18,
   "metadata": {},
   "outputs": [],
   "source": [
    "df_ny_state_0, df_ny_state_1 = pattern_split(df_ny_state)"
   ]
  },
  {
   "cell_type": "code",
   "execution_count": 19,
   "metadata": {},
   "outputs": [],
   "source": [
    "assert(df_ny_state_0.isnull().sum().sum() == 0)\n",
    "assert(df_ny_state_1.isnull().sum().sum() == 0)"
   ]
  },
  {
   "cell_type": "markdown",
   "metadata": {},
   "source": [
    "## Model preparation"
   ]
  },
  {
   "cell_type": "markdown",
   "metadata": {},
   "source": [
    "Define a class that contains attributes for features and target selection, train_test_split, and fitting the model.\n",
    "The class also contains methods for fitting a simple model or a grid-search model, as well as print the results etc."
   ]
  },
  {
   "cell_type": "code",
   "execution_count": 20,
   "metadata": {},
   "outputs": [],
   "source": [
    "class CatWalk:\n",
    "    \"\"\"\n",
    "    If you know what I mean...\n",
    "    If you don't know what I mean: https://www.youtube.com/watch?v=P5mtclwloEQ\n",
    "    Hint: what do models do? They walk the catwalk.\n",
    "    \"\"\"\n",
    "    \n",
    "    # Define attributes\n",
    "    def __init__(self, df):\n",
    "        self.X = df.drop(columns=TARGET)\n",
    "        self.y = df[TARGET] \n",
    "        self.X_train, self.X_test, self.y_train, self.y_test = train_test_split(\n",
    "            self.X, \n",
    "            self.y, \n",
    "            random_state=RANDOM_STATE, \n",
    "            train_size=0.60\n",
    "        )\n",
    "        # The fitted models will be stored in a dicionary \n",
    "        # e.g. {'name', (bool, Model)}\n",
    "        # The key is the name of the model we supplied \n",
    "        # The value is a tupble (bool, Model)\n",
    "        ## Bool == True -> GridSerach; Bool == False -> Non GridSerach\n",
    "        ## Model: is the fitted model itself\n",
    "        self._fitted_models = {} \n",
    "    \n",
    "    # Define a private method to accumulate fitted models\n",
    "    def _save_model(self, name, model, is_grid_search=False):\n",
    "        self._fitted_models[name] = (is_grid_search, model)\n",
    "    \n",
    "    # Define a method to fit a Non-GridSerach model\n",
    "    def fit_model(self, name, fitter):\n",
    "        model = fitter.fit(self.X_train, self.y_train)\n",
    "        self._save_model(name, model)\n",
    "        return self\n",
    "    \n",
    "    # Define a method to fit a GridSerach model    \n",
    "    def fit_grid_search(self, name, pipe=None, params=None):\n",
    "        pipe = Pipeline(steps=[]) if pipe is None else pipe\n",
    "        params = {} if params is None else params\n",
    "        \n",
    "        model = GridSearchCV(\n",
    "            pipe, \n",
    "            params, \n",
    "            cv=CV\n",
    "        ).fit(self.X_train, self.y_train)\n",
    "        \n",
    "        self._save_model(name, model, is_grid_search=True)\n",
    "        return self\n",
    "    \n",
    "    # Define a method to print train, test, and cross_val scores\n",
    "    def print_results(self, name):\n",
    "        grid_search, model = self._fitted_models[name]\n",
    "        if not grid_search:\n",
    "            print(f'train score: {model.score(self.X_train, self.y_train)}')\n",
    "            print(f'test score: {model.score(self.X_test, self.y_test)}')\n",
    "            print(f'cv score: {cross_val_score(model, self.X, self.y, scoring=METRIC, cv=CV).mean()}')\n",
    "        else: \n",
    "            print(f'best params: {model.best_params_}')\n",
    "            print(f'train score: {model.score(self.X_train, self.y_train)}')\n",
    "            print(f'test score: {model.score(self.X_test, self.y_test)}')\n",
    "            print(f'cv score: {cross_val_score(model.best_estimator_, self.X, self.y, scoring=METRIC, cv=CV).mean()}')      \n",
    "\n",
    "    # Method to fit a non-pipeline or gridserach model and print result all in one motion\n",
    "    def do_the_simple_turn(self, name, fitter):\n",
    "        self.fit_model(name, fitter)\n",
    "        self.print_results(name)\n",
    "        return self\n",
    "    \n",
    "    # Method to fit a gridserach model and print result all in one motion\n",
    "    def do_the_little_turn(self, name, pipe, params):\n",
    "        self.fit_grid_search(name, pipe, params)\n",
    "        self.print_results(name)\n",
    "        return self\n",
    "    \n",
    "    # Method to return a list of model names\n",
    "    def model_name_list(self):\n",
    "        return list(self._fitted_models.keys())\n",
    "    \n",
    "    # Method to return the fitted model itself\n",
    "    def get_model(self, name):\n",
    "        return self._fitted_models[name][1]\n",
    "    \n",
    "    # Method to print all test scores\n",
    "    def view_all_test_scores(self):\n",
    "        for name, value in self._fitted_models.items():\n",
    "            grid_search, model = value\n",
    "            if grid_search:\n",
    "                print(f'{name} test score: {model.score(self.X_test, self.y_test)}')\n",
    "            else: \n",
    "                print(f'{name} test score: {model.score(self.X_test, self.y_test)}')\n",
    "    \n",
    "    # Method to make predictions\n",
    "    def make_predictions(self, name, input_data):\n",
    "        preds = self.get_model(name).predict(input_data)\n",
    "        return preds"
   ]
  },
  {
   "cell_type": "markdown",
   "metadata": {},
   "source": [
    "## Modeling"
   ]
  },
  {
   "cell_type": "code",
   "execution_count": 21,
   "metadata": {},
   "outputs": [],
   "source": [
    "# Instantiate a CatWalk object for dataset with full columns (dataset Pattern 0)\n",
    "modeler_0 = CatWalk(df_ny_state_0)\n",
    "# Instantiate a CatWalk object for dataset without columns that have NaNs (dataset Pattern 1)\n",
    "modeler_1 = CatWalk(df_ny_state_1)"
   ]
  },
  {
   "cell_type": "markdown",
   "metadata": {},
   "source": [
    "### Baseline model\n",
    "Create a dummy regressor that will just predict means"
   ]
  },
  {
   "cell_type": "code",
   "execution_count": 22,
   "metadata": {
    "scrolled": true
   },
   "outputs": [
    {
     "name": "stdout",
     "output_type": "stream",
     "text": [
      "train score: 0.0\n",
      "test score: -0.005727490279588299\n",
      "cv score: -0.0008187665057266535\n"
     ]
    }
   ],
   "source": [
    "# Model for Pattern 0\n",
    "modeler_0.do_the_simple_turn('dummy', DummyRegressor(strategy='mean'));"
   ]
  },
  {
   "cell_type": "code",
   "execution_count": 23,
   "metadata": {},
   "outputs": [
    {
     "name": "stdout",
     "output_type": "stream",
     "text": [
      "train score: 0.0\n",
      "test score: -0.012797259556982743\n",
      "cv score: -0.00788243440970915\n"
     ]
    }
   ],
   "source": [
    "# Model for Pattern 1\n",
    "modeler_1.do_the_simple_turn('dummy', DummyRegressor(strategy='mean'));"
   ]
  },
  {
   "cell_type": "markdown",
   "metadata": {},
   "source": [
    "### Linear Regression"
   ]
  },
  {
   "cell_type": "code",
   "execution_count": 24,
   "metadata": {
    "scrolled": true
   },
   "outputs": [
    {
     "name": "stdout",
     "output_type": "stream",
     "text": [
      "train score: 0.6161876940821087\n",
      "test score: 0.5597954039086943\n",
      "cv score: 0.567535943041715\n"
     ]
    }
   ],
   "source": [
    "# Model for Pattern 0\n",
    "modeler_0.do_the_simple_turn('lr', LinearRegression());"
   ]
  },
  {
   "cell_type": "markdown",
   "metadata": {},
   "source": [
    "For dataset pattern 0, the model performs okay comparing to the baseline model, but shows some signs of high variance. I will apply regularization in the following subsections to reduce the high variance."
   ]
  },
  {
   "cell_type": "code",
   "execution_count": 25,
   "metadata": {},
   "outputs": [
    {
     "name": "stdout",
     "output_type": "stream",
     "text": [
      "train score: 0.21293670144999355\n",
      "test score: -0.2841326682485159\n",
      "cv score: -0.7912248980010141\n"
     ]
    }
   ],
   "source": [
    "# Model for Pattern 1\n",
    "modeler_1.do_the_simple_turn('lr', LinearRegression());"
   ]
  },
  {
   "cell_type": "markdown",
   "metadata": {},
   "source": [
    "For dataset pattern 1, The model performs badly comparing to the baseline model. We will default back to the dummy regressor for this pattern when making predictions."
   ]
  },
  {
   "cell_type": "markdown",
   "metadata": {},
   "source": [
    "#### Ridge Regularzation "
   ]
  },
  {
   "cell_type": "code",
   "execution_count": 26,
   "metadata": {},
   "outputs": [],
   "source": [
    "pipe = Pipeline(steps=[\n",
    "    ('sc', StandardScaler()),\n",
    "    ('ridge', Ridge())\n",
    "])\n",
    "\n",
    "params = {\n",
    "   'ridge__alpha' : [0.01, 1, 10, 100, 200, 400],\n",
    "}"
   ]
  },
  {
   "cell_type": "code",
   "execution_count": 27,
   "metadata": {
    "scrolled": true
   },
   "outputs": [
    {
     "name": "stdout",
     "output_type": "stream",
     "text": [
      "best params: {'ridge__alpha': 10}\n",
      "train score: 0.6158446529350405\n",
      "test score: 0.5617454118427372\n",
      "cv score: 0.5686924247713141\n"
     ]
    }
   ],
   "source": [
    "# Model for Pattern 0\n",
    "modeler_0.do_the_little_turn('gs_lr_l2', pipe, params);"
   ]
  },
  {
   "cell_type": "markdown",
   "metadata": {},
   "source": [
    "For dataset pattern 0, The model performs okay comparing to the baseline model, but still shows some signs of high variance. I will apply L1 regularization in the following subsections to reduce the high variance."
   ]
  },
  {
   "cell_type": "code",
   "execution_count": 28,
   "metadata": {
    "scrolled": false
   },
   "outputs": [
    {
     "name": "stdout",
     "output_type": "stream",
     "text": [
      "best params: {'ridge__alpha': 400}\n",
      "train score: 0.07088580851844573\n",
      "test score: -0.001409499080546217\n",
      "cv score: -0.01259442837556346\n"
     ]
    }
   ],
   "source": [
    "# Model for Pattern 1\n",
    "modeler_1.do_the_little_turn('gs_lr_l2', pipe, params);"
   ]
  },
  {
   "cell_type": "markdown",
   "metadata": {},
   "source": [
    "For dataset pattern 1, The model performs badly, but slightly better comparing to the baseline model."
   ]
  },
  {
   "cell_type": "markdown",
   "metadata": {},
   "source": [
    "#### Lasso Regularzation"
   ]
  },
  {
   "cell_type": "code",
   "execution_count": 29,
   "metadata": {
    "scrolled": true
   },
   "outputs": [],
   "source": [
    "pipe = Pipeline(steps=[\n",
    "    ('sc', StandardScaler()),\n",
    "    ('lasso', Lasso())\n",
    "])\n",
    "\n",
    "params = {\n",
    "   'lasso__alpha' : [0.01, 0.02, 1, 2, 3, 10],\n",
    "}"
   ]
  },
  {
   "cell_type": "code",
   "execution_count": 30,
   "metadata": {
    "scrolled": false
   },
   "outputs": [
    {
     "name": "stdout",
     "output_type": "stream",
     "text": [
      "best params: {'lasso__alpha': 0.01}\n",
      "train score: 0.6005430760464792\n",
      "test score: 0.5643622924617858\n",
      "cv score: 0.5738931844785448\n"
     ]
    }
   ],
   "source": [
    "# Model for Pattern 0\n",
    "modeler_0.do_the_little_turn('gs_lr_l1', pipe, params);"
   ]
  },
  {
   "cell_type": "markdown",
   "metadata": {},
   "source": [
    "For dataset pattern 0, the model performs okay comparing to the baseline model, but still shows some signs of high variance. The test score has improved comparing to previous linear regression models. I will apply PCA for dimensionality reduction in the following subsections to reduce the high variance."
   ]
  },
  {
   "cell_type": "code",
   "execution_count": 31,
   "metadata": {
    "scrolled": false
   },
   "outputs": [
    {
     "name": "stdout",
     "output_type": "stream",
     "text": [
      "best params: {'lasso__alpha': 1}\n",
      "train score: 0.0\n",
      "test score: -0.012797259556982743\n",
      "cv score: -0.00788243440970915\n"
     ]
    }
   ],
   "source": [
    "# Model for Pattern 1\n",
    "modeler_1.do_the_little_turn('gs_lr_l1', pipe, params);"
   ]
  },
  {
   "cell_type": "markdown",
   "metadata": {},
   "source": [
    "For dataset pattern 1, The model performs badly, but slightly better comparing to the baseline model."
   ]
  },
  {
   "cell_type": "markdown",
   "metadata": {},
   "source": [
    "#### Linear Regression + PCA"
   ]
  },
  {
   "cell_type": "code",
   "execution_count": 32,
   "metadata": {},
   "outputs": [],
   "source": [
    "pipe = Pipeline(steps=[\n",
    "    ('ss', StandardScaler()),\n",
    "    ('pca', PCA()),\n",
    "    ('lr_pca', LinearRegression())\n",
    "])\n",
    "\n",
    "params = {\n",
    "    'pca__n_components': [10, 15, 20],\n",
    "}"
   ]
  },
  {
   "cell_type": "code",
   "execution_count": 33,
   "metadata": {
    "scrolled": false
   },
   "outputs": [
    {
     "name": "stdout",
     "output_type": "stream",
     "text": [
      "best params: {'pca__n_components': 20}\n",
      "train score: 0.5501535647375254\n",
      "test score: 0.515536238084427\n",
      "cv score: 0.513578593580041\n"
     ]
    }
   ],
   "source": [
    "# Model for Pattern 0\n",
    "modeler_0.do_the_little_turn('gs_lr_pca', pipe, params);"
   ]
  },
  {
   "cell_type": "markdown",
   "metadata": {},
   "source": [
    "For dataset pattern 0, the model performs okay comparing to the baseline model, but still shows some signs of high variance. So far the L1 regularization is the most effective to reduce variance. Yet the result is not optimal. I will move onto other types of models."
   ]
  },
  {
   "cell_type": "code",
   "execution_count": 34,
   "metadata": {
    "scrolled": false
   },
   "outputs": [
    {
     "name": "stdout",
     "output_type": "stream",
     "text": [
      "best params: {'pca__n_components': 15}\n",
      "train score: 0.11079367758937997\n",
      "test score: 0.026819179497662993\n",
      "cv score: -0.036459005475940165\n"
     ]
    }
   ],
   "source": [
    "# Model for Pattern 1\n",
    "modeler_1.do_the_little_turn('gs_lr_pca', pipe, params);"
   ]
  },
  {
   "cell_type": "markdown",
   "metadata": {},
   "source": [
    "For dataset pattern 1, The model performs badly comparing to the baseline model. We will default back to the dummy regressor for this pattern when making predictions."
   ]
  },
  {
   "cell_type": "markdown",
   "metadata": {},
   "source": [
    "### Polynomial Regression"
   ]
  },
  {
   "cell_type": "code",
   "execution_count": 35,
   "metadata": {},
   "outputs": [],
   "source": [
    "pipe = Pipeline([\n",
    "    ('sc', StandardScaler()),\n",
    "    ('poly_features', PolynomialFeatures()),\n",
    "    ('lr', LinearRegression())\n",
    "])\n",
    "\n",
    "params = {\n",
    "    'poly_features__degree': [1, 2, 3],\n",
    "}"
   ]
  },
  {
   "cell_type": "code",
   "execution_count": 36,
   "metadata": {},
   "outputs": [
    {
     "name": "stdout",
     "output_type": "stream",
     "text": [
      "best params: {'poly_features__degree': 1}\n",
      "train score: 0.6161876940821087\n",
      "test score: 0.5597954039086941\n",
      "cv score: 0.5675359430417148\n"
     ]
    }
   ],
   "source": [
    "# Model for Pattern 0\n",
    "modeler_0.do_the_little_turn('gs_poly', pipe, params);"
   ]
  },
  {
   "cell_type": "markdown",
   "metadata": {},
   "source": [
    "During the EDA process, we know that many features do not have linear relation with the target. Fitting a Polynomial Regression model is my attempt to capture the non-linear relation. However, based on the grid-search, thee best model is a degree of 1, i.e. linear. We should try a different type of models that does not use linear regression as the estimator. "
   ]
  },
  {
   "cell_type": "code",
   "execution_count": 37,
   "metadata": {
    "scrolled": false
   },
   "outputs": [
    {
     "name": "stdout",
     "output_type": "stream",
     "text": [
      "best params: {'poly_features__degree': 1}\n",
      "train score: 0.21293670144999355\n",
      "test score: -0.2841326682485168\n",
      "cv score: -0.7912248980010158\n"
     ]
    }
   ],
   "source": [
    "# Model for Pattern 1\n",
    "modeler_1.do_the_little_turn('gs_poly', pipe, params);"
   ]
  },
  {
   "cell_type": "markdown",
   "metadata": {},
   "source": [
    "For dataset pattern 1, The model performs badly comparing to the baseline model. We will default back to the dummy regressor for this pattern when making predictions."
   ]
  },
  {
   "cell_type": "markdown",
   "metadata": {},
   "source": [
    "### KNN"
   ]
  },
  {
   "cell_type": "code",
   "execution_count": 38,
   "metadata": {},
   "outputs": [],
   "source": [
    "pipe = Pipeline(steps=[\n",
    "        ('ss', StandardScaler()),\n",
    "        ('knn', KNeighborsRegressor())\n",
    "    ])\n",
    "\n",
    "params = {\n",
    "        'knn__n_neighbors': [5, 10, 50],\n",
    "        'knn__p' : [1, 2],\n",
    "        'knn__weights' : ['uniform', 'distance'],\n",
    "         #'knn__leaf_size' : [30, 40]\n",
    "    }\n"
   ]
  },
  {
   "cell_type": "code",
   "execution_count": 39,
   "metadata": {
    "scrolled": true
   },
   "outputs": [
    {
     "name": "stdout",
     "output_type": "stream",
     "text": [
      "best params: {'knn__n_neighbors': 10, 'knn__p': 1, 'knn__weights': 'distance'}\n",
      "train score: 1.0\n",
      "test score: 0.47944395781381927\n",
      "cv score: 0.49525935760068407\n"
     ]
    }
   ],
   "source": [
    "# Model for Pattern 0\n",
    "modeler_0.do_the_little_turn('gs_knn', pipe, params);"
   ]
  },
  {
   "cell_type": "markdown",
   "metadata": {},
   "source": [
    "For dataset pattern 0, The model performs okay comparing to the baseline model, but shows apparent signs of high variance and overfitting."
   ]
  },
  {
   "cell_type": "code",
   "execution_count": 40,
   "metadata": {
    "scrolled": false
   },
   "outputs": [
    {
     "name": "stdout",
     "output_type": "stream",
     "text": [
      "best params: {'knn__n_neighbors': 50, 'knn__p': 1, 'knn__weights': 'uniform'}\n",
      "train score: -0.0015783915670397608\n",
      "test score: -0.03264714069874919\n",
      "cv score: -0.018696896410356295\n"
     ]
    }
   ],
   "source": [
    "# Model for Pattern 1\n",
    "modeler_1.do_the_little_turn('gs_knn', pipe, params);"
   ]
  },
  {
   "cell_type": "markdown",
   "metadata": {},
   "source": [
    "For dataset pattern 1, the model performs badly comparing to the baseline model. We will default back to the dummy regressor for this pattern when making predictions."
   ]
  },
  {
   "cell_type": "markdown",
   "metadata": {},
   "source": [
    "### Tree Based Models"
   ]
  },
  {
   "cell_type": "markdown",
   "metadata": {},
   "source": [
    "#### Cart"
   ]
  },
  {
   "cell_type": "code",
   "execution_count": 41,
   "metadata": {},
   "outputs": [],
   "source": [
    "pipe = Pipeline(steps=[\n",
    "    ('ss', StandardScaler()),\n",
    "    ('tree', DecisionTreeRegressor(random_state=RANDOM_STATE))\n",
    "])\n",
    "\n",
    "params = {\n",
    "    'tree__max_depth' : [10, 15, 20, 30],\n",
    "    'tree__min_samples_leaf' : [2, 3, 5],\n",
    "    'tree__max_features' : [4, 6, 10]\n",
    "}"
   ]
  },
  {
   "cell_type": "code",
   "execution_count": 42,
   "metadata": {
    "scrolled": false
   },
   "outputs": [
    {
     "name": "stdout",
     "output_type": "stream",
     "text": [
      "best params: {'tree__max_depth': 10, 'tree__max_features': 6, 'tree__min_samples_leaf': 5}\n",
      "train score: 0.6868345416810724\n",
      "test score: 0.3435352649741148\n",
      "cv score: 0.3762953540593811\n"
     ]
    }
   ],
   "source": [
    "# Model for Pattern 0\n",
    "modeler_0.do_the_little_turn('gs_tree', pipe, params);"
   ]
  },
  {
   "cell_type": "markdown",
   "metadata": {},
   "source": [
    "For dataset pattern 0, the tree model has high variance, since the train score is much higher than the test score, which is common in CART models. I will use a bootstrapped bagged tree to reduce the variance."
   ]
  },
  {
   "cell_type": "code",
   "execution_count": 43,
   "metadata": {
    "scrolled": true
   },
   "outputs": [
    {
     "name": "stdout",
     "output_type": "stream",
     "text": [
      "best params: {'tree__max_depth': 10, 'tree__max_features': 4, 'tree__min_samples_leaf': 5}\n",
      "train score: 0.0\n",
      "test score: -0.012797259556982743\n",
      "cv score: -0.16884699416165605\n"
     ]
    }
   ],
   "source": [
    "# Model for Pattern 1\n",
    "modeler_1.do_the_little_turn('gs_tree', pipe, params);"
   ]
  },
  {
   "cell_type": "markdown",
   "metadata": {},
   "source": [
    "For dataset pattern 1, the model performs on a par with the baseline model."
   ]
  },
  {
   "cell_type": "markdown",
   "metadata": {},
   "source": [
    "#### Bagged Tree"
   ]
  },
  {
   "cell_type": "code",
   "execution_count": 44,
   "metadata": {},
   "outputs": [],
   "source": [
    "pipe = Pipeline(steps=[\n",
    "    ('ss', StandardScaler()),\n",
    "    ('bag', BaggingRegressor(random_state=RANDOM_STATE))\n",
    "])\n",
    "\n",
    "params = {\n",
    "    'bag__n_estimators' : [8, 10, 12, 14],\n",
    "    'bag__max_samples' : [0.5, 0.7, 1],\n",
    "    'bag__max_features' : [0.5, 0.7, 1]\n",
    "}"
   ]
  },
  {
   "cell_type": "code",
   "execution_count": 45,
   "metadata": {
    "scrolled": false
   },
   "outputs": [
    {
     "name": "stdout",
     "output_type": "stream",
     "text": [
      "best params: {'bag__max_features': 0.7, 'bag__max_samples': 0.5, 'bag__n_estimators': 14}\n",
      "train score: 0.8129693019064486\n",
      "test score: 0.5572265415260889\n",
      "cv score: 0.5432376951002269\n"
     ]
    }
   ],
   "source": [
    "# Model for Pattern 0\n",
    "modeler_0.do_the_little_turn('gs_bag', pipe, params);"
   ]
  },
  {
   "cell_type": "markdown",
   "metadata": {},
   "source": [
    "For dataset pattern 0, the bagged tree model still has high variance, but the test score has improved comparing to the tree model. I will use Random Forest to reduce the variance and address the problem of overfitting. "
   ]
  },
  {
   "cell_type": "code",
   "execution_count": 46,
   "metadata": {},
   "outputs": [
    {
     "name": "stdout",
     "output_type": "stream",
     "text": [
      "best params: {'bag__max_features': 0.5, 'bag__max_samples': 1, 'bag__n_estimators': 12}\n",
      "train score: -0.04383182758896664\n",
      "test score: -0.005718384076373706\n",
      "cv score: -0.07015306690290612\n"
     ]
    }
   ],
   "source": [
    "# Model for Pattern 1\n",
    "modeler_1.do_the_little_turn('gs_bag', pipe, params);"
   ]
  },
  {
   "cell_type": "markdown",
   "metadata": {},
   "source": [
    "For dataset pattern 1, the bagged tree model is underfit, but better comparing to the baseline model. "
   ]
  },
  {
   "cell_type": "markdown",
   "metadata": {},
   "source": [
    "#### Random Forest"
   ]
  },
  {
   "cell_type": "code",
   "execution_count": 47,
   "metadata": {},
   "outputs": [],
   "source": [
    "pipe = Pipeline(steps=[\n",
    "    ('ss', StandardScaler()),\n",
    "    ('forest', RandomForestRegressor(random_state=RANDOM_STATE))\n",
    "])\n",
    "\n",
    "params = {\n",
    "    'forest__max_depth' : [10, 15, 20, 30],\n",
    "    'forest__min_samples_leaf' : [2, 3, 5],\n",
    "    'forest__max_features' : [4, 6, 10],\n",
    "    'forest__min_impurity_decrease' : [0.0, 0.1]\n",
    "}"
   ]
  },
  {
   "cell_type": "code",
   "execution_count": 48,
   "metadata": {
    "scrolled": true
   },
   "outputs": [
    {
     "name": "stdout",
     "output_type": "stream",
     "text": [
      "best params: {'forest__max_depth': 10, 'forest__max_features': 10, 'forest__min_impurity_decrease': 0.0, 'forest__min_samples_leaf': 5}\n",
      "train score: 0.7360157845387758\n",
      "test score: 0.5395979284201503\n",
      "cv score: 0.5393641824650913\n"
     ]
    }
   ],
   "source": [
    "# Model for Pattern 0\n",
    "modeler_0.do_the_little_turn('gs_forest', pipe, params);"
   ]
  },
  {
   "cell_type": "markdown",
   "metadata": {},
   "source": [
    "For dataset pattern 0, the Random Rorest model still has high variance, and the test score has not improved comparing to the bagged tree model. I will use Extra Trees to reduce the variance and address the problem of overfitting."
   ]
  },
  {
   "cell_type": "code",
   "execution_count": 49,
   "metadata": {
    "scrolled": true
   },
   "outputs": [
    {
     "name": "stdout",
     "output_type": "stream",
     "text": [
      "best params: {'forest__max_depth': 10, 'forest__max_features': 4, 'forest__min_impurity_decrease': 0.1, 'forest__min_samples_leaf': 2}\n",
      "train score: -0.0013825422892728145\n",
      "test score: -0.006336757577861674\n",
      "cv score: -0.01020890669068969\n"
     ]
    }
   ],
   "source": [
    "# Model for Pattern 1\n",
    "modeler_1.do_the_little_turn('gs_forest', pipe, params);"
   ]
  },
  {
   "cell_type": "markdown",
   "metadata": {},
   "source": [
    "For dataset pattern 1, the Random Rorest model is underfit, but better comparing to the baseline model. "
   ]
  },
  {
   "cell_type": "markdown",
   "metadata": {},
   "source": [
    "#### Extra Trees "
   ]
  },
  {
   "cell_type": "code",
   "execution_count": 50,
   "metadata": {},
   "outputs": [],
   "source": [
    "pipe = Pipeline(steps=[\n",
    "    ('ss', StandardScaler()),\n",
    "    ('extra', ExtraTreesRegressor(random_state=RANDOM_STATE))\n",
    "])\n",
    "\n",
    "params = {\n",
    "    'extra__max_depth' : [10, 15, 20, 30],\n",
    "    'extra__min_samples_leaf' : [2, 3, 5],\n",
    "    'extra__max_features' : [4, 6, 10],\n",
    "    'extra__min_impurity_decrease' : [0.0, 0.1]\n",
    "}"
   ]
  },
  {
   "cell_type": "code",
   "execution_count": 51,
   "metadata": {
    "scrolled": true
   },
   "outputs": [
    {
     "name": "stdout",
     "output_type": "stream",
     "text": [
      "best params: {'extra__max_depth': 10, 'extra__max_features': 10, 'extra__min_impurity_decrease': 0.0, 'extra__min_samples_leaf': 3}\n",
      "train score: 0.7476936705196022\n",
      "test score: 0.5061499115253838\n",
      "cv score: 0.5388050057138605\n"
     ]
    }
   ],
   "source": [
    "# Model for Pattern 0\n",
    "modeler_0.do_the_little_turn('gs_extra', pipe, params);"
   ]
  },
  {
   "cell_type": "markdown",
   "metadata": {},
   "source": [
    "For dataset pattern 0, the Extra Trees model still has high variance, and the test score has not improved comparing to the bagged tree model. Among the tree models, the bagged tree outperforms the others. Since all tree based models show some signs of underfitting, I will use Ada Boost to boost the growth of tree. "
   ]
  },
  {
   "cell_type": "code",
   "execution_count": 52,
   "metadata": {
    "scrolled": true
   },
   "outputs": [
    {
     "name": "stdout",
     "output_type": "stream",
     "text": [
      "best params: {'extra__max_depth': 10, 'extra__max_features': 4, 'extra__min_impurity_decrease': 0.0, 'extra__min_samples_leaf': 3}\n",
      "train score: 0.05942626512115634\n",
      "test score: -0.037831275957217025\n",
      "cv score: -0.028419212979625075\n"
     ]
    }
   ],
   "source": [
    "# Model for Pattern 1\n",
    "modeler_1.do_the_little_turn('gs_extra', pipe, params);"
   ]
  },
  {
   "cell_type": "markdown",
   "metadata": {},
   "source": [
    "For dataset pattern 1, the Extra Trees model model performs badly comparing to the baseline model. We will default back to the dummy regressor for this pattern when making predictions."
   ]
  },
  {
   "cell_type": "markdown",
   "metadata": {},
   "source": [
    "#### Ada Boost"
   ]
  },
  {
   "cell_type": "code",
   "execution_count": 53,
   "metadata": {},
   "outputs": [],
   "source": [
    "pipe = Pipeline(steps=[\n",
    "    ('ss', StandardScaler()),\n",
    "    ('ada', AdaBoostRegressor(random_state=RANDOM_STATE))\n",
    "])\n",
    "\n",
    "params = {\n",
    "    'ada__learning_rate' : [0.5, 1.0, 1.2],\n",
    "    'ada__loss' : ['linear', 'square', 'exponential']\n",
    "}"
   ]
  },
  {
   "cell_type": "code",
   "execution_count": 54,
   "metadata": {
    "scrolled": false
   },
   "outputs": [
    {
     "name": "stdout",
     "output_type": "stream",
     "text": [
      "best params: {'ada__learning_rate': 0.5, 'ada__loss': 'linear'}\n",
      "train score: 0.5854964809511775\n",
      "test score: 0.4744635490347542\n",
      "cv score: 0.46918054729485104\n"
     ]
    }
   ],
   "source": [
    "# Model for Pattern 0\n",
    "modeler_0.do_the_little_turn('gs_ada', pipe, params);"
   ]
  },
  {
   "cell_type": "markdown",
   "metadata": {},
   "source": [
    "For dataset pattern 0, the Ada Boost does not improve the high variance or under-fitting problems."
   ]
  },
  {
   "cell_type": "code",
   "execution_count": 55,
   "metadata": {
    "scrolled": true
   },
   "outputs": [
    {
     "name": "stdout",
     "output_type": "stream",
     "text": [
      "best params: {'ada__learning_rate': 0.5, 'ada__loss': 'linear'}\n",
      "train score: 0.5728816185842793\n",
      "test score: -0.10155559195544206\n",
      "cv score: -0.17322898969758121\n"
     ]
    }
   ],
   "source": [
    "# Model for Pattern 1\n",
    "modeler_1.do_the_little_turn('gs_ada', pipe, params);"
   ]
  },
  {
   "cell_type": "markdown",
   "metadata": {},
   "source": [
    "For dataset pattern 1, the Ada Boost model is underfit, and worse comparing to the baseline model."
   ]
  },
  {
   "cell_type": "markdown",
   "metadata": {},
   "source": [
    "### SVR"
   ]
  },
  {
   "cell_type": "code",
   "execution_count": 56,
   "metadata": {},
   "outputs": [],
   "source": [
    "pipe = Pipeline(steps=[\n",
    "    ('sc', StandardScaler()),\n",
    "    ('svr', SVR())\n",
    "])\n",
    "\n",
    "params = {\n",
    "    'svr__gamma' : ['scale'],\n",
    "    'svr__degree' : [2, 3, 4],\n",
    "    'svr__kernel' : ['linear', 'poly', 'rbf']\n",
    "}"
   ]
  },
  {
   "cell_type": "code",
   "execution_count": 57,
   "metadata": {
    "scrolled": true
   },
   "outputs": [
    {
     "name": "stdout",
     "output_type": "stream",
     "text": [
      "best params: {'svr__degree': 2, 'svr__gamma': 'scale', 'svr__kernel': 'linear'}\n",
      "train score: 0.6040805568542349\n",
      "test score: 0.5471526339649586\n",
      "cv score: 0.5638200090771687\n"
     ]
    }
   ],
   "source": [
    "# Model for Pattern 0\n",
    "modeler_0.do_the_little_turn('gs_svr', pipe, params);"
   ]
  },
  {
   "cell_type": "markdown",
   "metadata": {},
   "source": [
    "For dataset pattern 0, The model performs okay comparing to the baseline model, but shows some signs of high variance."
   ]
  },
  {
   "cell_type": "code",
   "execution_count": 58,
   "metadata": {
    "scrolled": true
   },
   "outputs": [
    {
     "name": "stdout",
     "output_type": "stream",
     "text": [
      "best params: {'svr__degree': 2, 'svr__gamma': 'scale', 'svr__kernel': 'rbf'}\n",
      "train score: 0.25457648228382734\n",
      "test score: -0.01493228424068338\n",
      "cv score: -0.17294551878057096\n"
     ]
    }
   ],
   "source": [
    "# Model for Pattern 1\n",
    "modeler_1.do_the_little_turn('gs_svr', pipe, params);"
   ]
  },
  {
   "cell_type": "markdown",
   "metadata": {},
   "source": [
    "For dataset pattern 1, the model performs badly comparing to the baseline model. We will default back to the dummy regressor for this pattern when making predictions."
   ]
  },
  {
   "cell_type": "markdown",
   "metadata": {},
   "source": [
    "### Stochastic Gradient Descent"
   ]
  },
  {
   "cell_type": "code",
   "execution_count": 59,
   "metadata": {},
   "outputs": [],
   "source": [
    "pipe = Pipeline(steps=[\n",
    "    ('sc', StandardScaler()),\n",
    "    ('sgd', SGDRegressor())\n",
    "])\n",
    "\n",
    "params = {\n",
    "    'sgd__max_iter': [800, 1000, 1200],\n",
    "    'sgd__penalty' : ['l1', 'l2'],\n",
    "    'sgd__tol': [1e-3]\n",
    "}"
   ]
  },
  {
   "cell_type": "code",
   "execution_count": 60,
   "metadata": {
    "scrolled": false
   },
   "outputs": [
    {
     "name": "stdout",
     "output_type": "stream",
     "text": [
      "best params: {'sgd__max_iter': 800, 'sgd__penalty': 'l1', 'sgd__tol': 0.001}\n",
      "train score: 0.608290801655953\n",
      "test score: 0.5684944823288004\n",
      "cv score: 0.5631082000015089\n"
     ]
    }
   ],
   "source": [
    "# Model for Pattern 0\n",
    "modeler_0.do_the_little_turn('gs_sgd', pipe, params);"
   ]
  },
  {
   "cell_type": "markdown",
   "metadata": {},
   "source": [
    "For dataset pattern 0, the model performs okay comparing to the baseline model, but shows some signs of high variance."
   ]
  },
  {
   "cell_type": "code",
   "execution_count": 61,
   "metadata": {
    "scrolled": true
   },
   "outputs": [
    {
     "name": "stdout",
     "output_type": "stream",
     "text": [
      "best params: {'sgd__max_iter': 1000, 'sgd__penalty': 'l1', 'sgd__tol': 0.001}\n",
      "train score: 0.18281887032553668\n",
      "test score: -0.08318614958642478\n",
      "cv score: -0.3585256401998044\n"
     ]
    }
   ],
   "source": [
    "# Model for Pattern 1\n",
    "modeler_1.do_the_little_turn('gs_sgd', pipe, params);"
   ]
  },
  {
   "cell_type": "markdown",
   "metadata": {},
   "source": [
    "For dataset pattern 1, The model performs badly comparing to the baseline model. We will default back to the dummy regressor for this pattern when making predictions."
   ]
  },
  {
   "cell_type": "markdown",
   "metadata": {},
   "source": [
    "## Model Selection"
   ]
  },
  {
   "cell_type": "code",
   "execution_count": 62,
   "metadata": {
    "scrolled": false
   },
   "outputs": [
    {
     "name": "stdout",
     "output_type": "stream",
     "text": [
      "dummy test score: -0.005727490279588299\n",
      "lr test score: 0.5597954039086943\n",
      "gs_lr_l2 test score: 0.5617454118427372\n",
      "gs_lr_l1 test score: 0.5643622924617858\n",
      "gs_lr_pca test score: 0.515536238084427\n",
      "gs_poly test score: 0.5597954039086941\n",
      "gs_knn test score: 0.47944395781381927\n",
      "gs_tree test score: 0.3435352649741148\n",
      "gs_bag test score: 0.5572265415260889\n",
      "gs_forest test score: 0.5395979284201503\n",
      "gs_extra test score: 0.5061499115253838\n",
      "gs_ada test score: 0.4744635490347542\n",
      "gs_svr test score: 0.5471526339649586\n",
      "gs_sgd test score: 0.5684944823288004\n"
     ]
    }
   ],
   "source": [
    "# Compare test scores for Pattern 0\n",
    "modeler_0.view_all_test_scores()"
   ]
  },
  {
   "cell_type": "code",
   "execution_count": 63,
   "metadata": {
    "scrolled": true
   },
   "outputs": [
    {
     "name": "stdout",
     "output_type": "stream",
     "text": [
      "dummy test score: -0.012797259556982743\n",
      "lr test score: -0.2841326682485159\n",
      "gs_lr_l2 test score: -0.001409499080546217\n",
      "gs_lr_l1 test score: -0.012797259556982743\n",
      "gs_lr_pca test score: 0.026819179497662993\n",
      "gs_poly test score: -0.2841326682485168\n",
      "gs_knn test score: -0.03264714069874919\n",
      "gs_tree test score: -0.012797259556982743\n",
      "gs_bag test score: -0.005718384076373706\n",
      "gs_forest test score: -0.006336757577861674\n",
      "gs_extra test score: -0.037831275957217025\n",
      "gs_ada test score: -0.10155559195544206\n",
      "gs_svr test score: -0.01493228424068338\n",
      "gs_sgd test score: -0.08318614958642478\n"
     ]
    }
   ],
   "source": [
    "# Compare test scores for Pattern 1\n",
    "modeler_1.view_all_test_scores()"
   ]
  },
  {
   "cell_type": "code",
   "execution_count": 64,
   "metadata": {},
   "outputs": [
    {
     "data": {
      "text/plain": [
       "0.8968"
      ]
     },
     "execution_count": 64,
     "metadata": {},
     "output_type": "execute_result"
    }
   ],
   "source": [
    "percentage_df_ny_state_0 = round(df_ny_state_0.shape[0] / df_ny_state.shape[0], 4)\n",
    "percentage_df_ny_state_0"
   ]
  },
  {
   "cell_type": "markdown",
   "metadata": {},
   "source": [
    "- For dataset Pattern 0, which consists the 89.68% of the entire dataset, the **Linear Regression Model with L1 Regularization** outperforms the others. \n",
    "- For dataset Pattern 1, the Linear Regression Model with L1 Regularization performs on a par with the baseline model.   \n",
    "- The Linear Regression Model with L1 Regularization has a test R2 score of 0.5643622924617858, which means that 56.44% percent of the variance is explained by the model. An ideal model would have a closer to 1 R2 score. This indicates that our model is somewhat inadequate in predicting the home affordability ratio. "
   ]
  },
  {
   "cell_type": "markdown",
   "metadata": {},
   "source": [
    "## Model Elevation"
   ]
  },
  {
   "cell_type": "markdown",
   "metadata": {},
   "source": [
    "I will elevate the BaggingRegressor model using the following 4 visualization tool:\n",
    "1.\tResidual Plots\n",
    "2.\tFeature Importance\n",
    "3.\tDecision Tree Branching"
   ]
  },
  {
   "cell_type": "markdown",
   "metadata": {},
   "source": [
    "### Plot residuals"
   ]
  },
  {
   "cell_type": "code",
   "execution_count": 65,
   "metadata": {},
   "outputs": [],
   "source": [
    "y_preds_0 = np.exp(modeler_0.make_predictions('gs_lr_l1', modeler_0.X_test))\n",
    "y_preds_1 = np.exp(modeler_1.make_predictions('gs_lr_l1', modeler_1.X_test))\n",
    "y_preds = np.concatenate((y_preds_0, y_preds_1), axis=0)"
   ]
  },
  {
   "cell_type": "code",
   "execution_count": 66,
   "metadata": {},
   "outputs": [],
   "source": [
    "y_test_0 = np.exp(modeler_0.y_test)\n",
    "y_test_1 = np.exp(modeler_1.y_test)\n",
    "y_test = np.concatenate((y_test_0, y_test_1), axis=0)"
   ]
  },
  {
   "cell_type": "code",
   "execution_count": 67,
   "metadata": {
    "scrolled": false
   },
   "outputs": [
    {
     "data": {
      "image/png": "[encoded data removed]",
      "text/plain": [
       "<Figure size 576x432 with 1 Axes>"
      ]
     },
     "metadata": {
      "needs_background": "light"
     },
     "output_type": "display_data"
    }
   ],
   "source": [
    "# 1st plot - y_true vs. y_pred\n",
    "max_d = max(max(y_preds), max(y_test)) \n",
    "min_d = min(min(y_preds), min(y_test))\n",
    "\n",
    "plt.figure(figsize=(8, 6))\n",
    "plt.xlabel(\"Predicted Values: $\\hat{y}$\", fontsize=10)\n",
    "plt.ylabel(\"Actual Values: $y$\", fontsize=10)\n",
    "plt.title('Predicted Values vs. Actual Values', fontsize=14)\n",
    "ax = sns.scatterplot(x=y_test, y=y_preds, alpha=.7)\n",
    "ax.plot((min_d, max_d),(min_d, max_d), c='black', alpha=.7);"
   ]
  },
  {
   "cell_type": "markdown",
   "metadata": {},
   "source": [
    "Check **Equality of Variance**: If the points all fell on a diagonal line then we would have a perfect fit.\n",
    "However, the predictions of this modle tends to cluster towards lower values. As the actual values get higher, the predictions become very spread-out - this means there is no **equality of variance** of errors. "
   ]
  },
  {
   "cell_type": "code",
   "execution_count": 68,
   "metadata": {
    "scrolled": false
   },
   "outputs": [
    {
     "data": {
      "image/png": "[encoded data removed]",
      "text/plain": [
       "<Figure size 576x432 with 1 Axes>"
      ]
     },
     "metadata": {
      "needs_background": "light"
     },
     "output_type": "display_data"
    }
   ],
   "source": [
    "# 2nd plot: residual plot\n",
    "resids = y_test - y_preds\n",
    "plt.figure(figsize=(8, 6))\n",
    "plt.title('Residual Plots', fontsize=14)\n",
    "ax = sns.scatterplot(x=range(len(resids)), y=resids, alpha=.7)\n",
    "ax.axhline(0, c='black', alpha =.7);"
   ]
  },
  {
   "cell_type": "markdown",
   "metadata": {},
   "source": [
    "Check **Independence of Errors**: Errors (residuals) 𝜀𝑖 and 𝜀𝑗 must be independent of one another for any  𝑖≠𝑗, which means the points on this plot shouldn't follow any patterns. However, as we can see, the errors tend to concentrate around the mean, and the points above the mena are more spred-out."
   ]
  },
  {
   "cell_type": "code",
   "execution_count": 69,
   "metadata": {
    "scrolled": false
   },
   "outputs": [
    {
     "data": {
      "image/png": "[encoded data removed]",
      "text/plain": [
       "<Figure size 576x432 with 1 Axes>"
      ]
     },
     "metadata": {
      "needs_background": "light"
     },
     "output_type": "display_data"
    }
   ],
   "source": [
    "# 3rd plot: distribution of residuals\n",
    "plt.figure(figsize=(8, 6))\n",
    "plt.title('Distribution of Residuals', fontsize=14)\n",
    "sns.distplot(resids, kde=False)\n",
    "plt.axvline(x=resids.mean(), color='black');"
   ]
  },
  {
   "cell_type": "markdown",
   "metadata": {},
   "source": [
    "Check **Normality**: The residuals roughly follow a normal distribution with mean 0, albeit some right-skewness."
   ]
  },
  {
   "cell_type": "markdown",
   "metadata": {},
   "source": [
    "## Test model transferability on LA dataset\n",
    "<a id='2'></a>"
   ]
  },
  {
   "cell_type": "markdown",
   "metadata": {},
   "source": [
    "### Read in LA dataset"
   ]
  },
  {
   "cell_type": "code",
   "execution_count": 70,
   "metadata": {},
   "outputs": [],
   "source": [
    "df_la = pd.read_csv(f'../data/final_la_agg.csv')"
   ]
  },
  {
   "cell_type": "code",
   "execution_count": 71,
   "metadata": {
    "scrolled": false
   },
   "outputs": [
    {
     "data": {
      "text/html": [
       "<div>\n",
       "<style scoped>\n",
       "    .dataframe tbody tr th:only-of-type {\n",
       "        vertical-align: middle;\n",
       "    }\n",
       "\n",
       "    .dataframe tbody tr th {\n",
       "        vertical-align: top;\n",
       "    }\n",
       "\n",
       "    .dataframe thead th {\n",
       "        text-align: right;\n",
       "    }\n",
       "</style>\n",
       "<table border=\"1\" class=\"dataframe\">\n",
       "  <thead>\n",
       "    <tr style=\"text-align: right;\">\n",
       "      <th></th>\n",
       "      <th>zipcode</th>\n",
       "      <th>total_art_gallery</th>\n",
       "      <th>total_atm</th>\n",
       "      <th>total_bakery</th>\n",
       "      <th>total_bank</th>\n",
       "      <th>total_bar</th>\n",
       "      <th>total_beauty_salon</th>\n",
       "      <th>total_bicycle_store</th>\n",
       "      <th>total_book_store</th>\n",
       "      <th>total_bowling_alley</th>\n",
       "      <th>...</th>\n",
       "      <th>mean_rating</th>\n",
       "      <th>mean_price_level</th>\n",
       "      <th>mean_Unnamed: 0</th>\n",
       "      <th>population</th>\n",
       "      <th>population_density_square_miles</th>\n",
       "      <th>housing_units</th>\n",
       "      <th>price_level*rating</th>\n",
       "      <th>user_ratings_total_per_capita</th>\n",
       "      <th>rating*population_density</th>\n",
       "      <th>log_home_price_to_income_ratios</th>\n",
       "    </tr>\n",
       "  </thead>\n",
       "  <tbody>\n",
       "    <tr>\n",
       "      <td>0</td>\n",
       "      <td>90650</td>\n",
       "      <td>0</td>\n",
       "      <td>0</td>\n",
       "      <td>0</td>\n",
       "      <td>0</td>\n",
       "      <td>0</td>\n",
       "      <td>0</td>\n",
       "      <td>0</td>\n",
       "      <td>0</td>\n",
       "      <td>0</td>\n",
       "      <td>...</td>\n",
       "      <td>4.200000</td>\n",
       "      <td>NaN</td>\n",
       "      <td>7042.000000</td>\n",
       "      <td>105886</td>\n",
       "      <td>10793.4</td>\n",
       "      <td>28475</td>\n",
       "      <td>NaN</td>\n",
       "      <td>0.000057</td>\n",
       "      <td>45332.280000</td>\n",
       "      <td>1.820637</td>\n",
       "    </tr>\n",
       "    <tr>\n",
       "      <td>1</td>\n",
       "      <td>91731</td>\n",
       "      <td>0</td>\n",
       "      <td>0</td>\n",
       "      <td>0</td>\n",
       "      <td>0</td>\n",
       "      <td>0</td>\n",
       "      <td>0</td>\n",
       "      <td>0</td>\n",
       "      <td>0</td>\n",
       "      <td>0</td>\n",
       "      <td>...</td>\n",
       "      <td>4.233333</td>\n",
       "      <td>1.571429</td>\n",
       "      <td>13660.933333</td>\n",
       "      <td>30139</td>\n",
       "      <td>7899.6</td>\n",
       "      <td>8732</td>\n",
       "      <td>6.652381</td>\n",
       "      <td>0.011392</td>\n",
       "      <td>33441.640000</td>\n",
       "      <td>2.389753</td>\n",
       "    </tr>\n",
       "    <tr>\n",
       "      <td>2</td>\n",
       "      <td>91702</td>\n",
       "      <td>0</td>\n",
       "      <td>0</td>\n",
       "      <td>1</td>\n",
       "      <td>0</td>\n",
       "      <td>1</td>\n",
       "      <td>0</td>\n",
       "      <td>0</td>\n",
       "      <td>0</td>\n",
       "      <td>0</td>\n",
       "      <td>...</td>\n",
       "      <td>4.243396</td>\n",
       "      <td>1.432432</td>\n",
       "      <td>13017.037736</td>\n",
       "      <td>62348</td>\n",
       "      <td>368.2</td>\n",
       "      <td>16587</td>\n",
       "      <td>6.078378</td>\n",
       "      <td>0.006252</td>\n",
       "      <td>1562.418491</td>\n",
       "      <td>1.830243</td>\n",
       "    </tr>\n",
       "    <tr>\n",
       "      <td>3</td>\n",
       "      <td>91745</td>\n",
       "      <td>0</td>\n",
       "      <td>1</td>\n",
       "      <td>2</td>\n",
       "      <td>0</td>\n",
       "      <td>1</td>\n",
       "      <td>0</td>\n",
       "      <td>0</td>\n",
       "      <td>1</td>\n",
       "      <td>0</td>\n",
       "      <td>...</td>\n",
       "      <td>3.934483</td>\n",
       "      <td>1.450000</td>\n",
       "      <td>14017.620690</td>\n",
       "      <td>54975</td>\n",
       "      <td>4292.2</td>\n",
       "      <td>17066</td>\n",
       "      <td>5.705000</td>\n",
       "      <td>0.004083</td>\n",
       "      <td>16887.586897</td>\n",
       "      <td>1.913209</td>\n",
       "    </tr>\n",
       "    <tr>\n",
       "      <td>4</td>\n",
       "      <td>91601</td>\n",
       "      <td>0</td>\n",
       "      <td>0</td>\n",
       "      <td>0</td>\n",
       "      <td>0</td>\n",
       "      <td>1</td>\n",
       "      <td>0</td>\n",
       "      <td>0</td>\n",
       "      <td>1</td>\n",
       "      <td>0</td>\n",
       "      <td>...</td>\n",
       "      <td>4.213043</td>\n",
       "      <td>1.400000</td>\n",
       "      <td>12779.608696</td>\n",
       "      <td>37085</td>\n",
       "      <td>13992.5</td>\n",
       "      <td>18338</td>\n",
       "      <td>5.898261</td>\n",
       "      <td>0.007463</td>\n",
       "      <td>58951.010870</td>\n",
       "      <td>2.446668</td>\n",
       "    </tr>\n",
       "  </tbody>\n",
       "</table>\n",
       "<p>5 rows × 75 columns</p>\n",
       "</div>"
      ],
      "text/plain": [
       "   zipcode  total_art_gallery  total_atm  total_bakery  total_bank  total_bar  \\\n",
       "0    90650                  0          0             0           0          0   \n",
       "1    91731                  0          0             0           0          0   \n",
       "2    91702                  0          0             1           0          1   \n",
       "3    91745                  0          1             2           0          1   \n",
       "4    91601                  0          0             0           0          1   \n",
       "\n",
       "   total_beauty_salon  total_bicycle_store  total_book_store  \\\n",
       "0                   0                    0                 0   \n",
       "1                   0                    0                 0   \n",
       "2                   0                    0                 0   \n",
       "3                   0                    0                 1   \n",
       "4                   0                    0                 1   \n",
       "\n",
       "   total_bowling_alley  ...  mean_rating  mean_price_level  mean_Unnamed: 0  \\\n",
       "0                    0  ...     4.200000               NaN      7042.000000   \n",
       "1                    0  ...     4.233333          1.571429     13660.933333   \n",
       "2                    0  ...     4.243396          1.432432     13017.037736   \n",
       "3                    0  ...     3.934483          1.450000     14017.620690   \n",
       "4                    0  ...     4.213043          1.400000     12779.608696   \n",
       "\n",
       "   population  population_density_square_miles  housing_units  \\\n",
       "0      105886                          10793.4          28475   \n",
       "1       30139                           7899.6           8732   \n",
       "2       62348                            368.2          16587   \n",
       "3       54975                           4292.2          17066   \n",
       "4       37085                          13992.5          18338   \n",
       "\n",
       "   price_level*rating  user_ratings_total_per_capita  \\\n",
       "0                 NaN                       0.000057   \n",
       "1            6.652381                       0.011392   \n",
       "2            6.078378                       0.006252   \n",
       "3            5.705000                       0.004083   \n",
       "4            5.898261                       0.007463   \n",
       "\n",
       "   rating*population_density  log_home_price_to_income_ratios  \n",
       "0               45332.280000                         1.820637  \n",
       "1               33441.640000                         2.389753  \n",
       "2                1562.418491                         1.830243  \n",
       "3               16887.586897                         1.913209  \n",
       "4               58951.010870                         2.446668  \n",
       "\n",
       "[5 rows x 75 columns]"
      ]
     },
     "execution_count": 71,
     "metadata": {},
     "output_type": "execute_result"
    }
   ],
   "source": [
    "df_la.head()"
   ]
  },
  {
   "cell_type": "code",
   "execution_count": 72,
   "metadata": {},
   "outputs": [
    {
     "data": {
      "text/plain": [
       "(251, 75)"
      ]
     },
     "execution_count": 72,
     "metadata": {},
     "output_type": "execute_result"
    }
   ],
   "source": [
    "df_la.shape"
   ]
  },
  {
   "cell_type": "markdown",
   "metadata": {},
   "source": [
    "### Preprocessing"
   ]
  },
  {
   "cell_type": "code",
   "execution_count": 73,
   "metadata": {},
   "outputs": [],
   "source": [
    "# Drop columns that are in the la dataset but not in ny_state\n",
    "cols_to_drop_from_la = list(set(df_la.columns) - set(df_ny_state))\n",
    "df_la.drop(columns=cols_to_drop_from_la, inplace=True)"
   ]
  },
  {
   "cell_type": "code",
   "execution_count": 74,
   "metadata": {},
   "outputs": [],
   "source": [
    "# Rearrange columns orders\n",
    "df_la = df_la[df_ny_state.columns]"
   ]
  },
  {
   "cell_type": "code",
   "execution_count": 75,
   "metadata": {},
   "outputs": [],
   "source": [
    "# Check if two dataframe cols are equal\n",
    "assert bool(set(df_ny_state.columns == df_la.columns)) == True"
   ]
  },
  {
   "cell_type": "markdown",
   "metadata": {},
   "source": [
    "### Pattern submodel to handle missing values"
   ]
  },
  {
   "cell_type": "code",
   "execution_count": 76,
   "metadata": {},
   "outputs": [],
   "source": [
    "# Split into two dataset patterns\n",
    "df_la_0, df_la_1 = pattern_split(df_la)"
   ]
  },
  {
   "cell_type": "code",
   "execution_count": 77,
   "metadata": {},
   "outputs": [],
   "source": [
    "# Ensure there is no NaNs left behind\n",
    "assert(df_la_0.isnull().sum().sum() == 0)\n",
    "assert(df_la_1.isnull().sum().sum() == 0)"
   ]
  },
  {
   "cell_type": "markdown",
   "metadata": {},
   "source": [
    "### Model preperation"
   ]
  },
  {
   "cell_type": "code",
   "execution_count": 78,
   "metadata": {},
   "outputs": [],
   "source": [
    "# Instantiate a CatWalk object for dataset with full columns (dataset Pattern 0)\n",
    "modeler_la_0 = CatWalk(df_la_0)\n",
    "# Instantiate a CatWalk object for dataset without columns that have NaNs (dataset Pattern 1)\n",
    "modeler_la_1 = CatWalk(df_la_1)"
   ]
  },
  {
   "cell_type": "markdown",
   "metadata": {},
   "source": [
    "### Make predictions\n",
    "Make predictions using the Linear Regression Model with L1 Regularization trained on **ny_state** dataset."
   ]
  },
  {
   "cell_type": "code",
   "execution_count": 79,
   "metadata": {},
   "outputs": [],
   "source": [
    "# Predicted y\n",
    "y_preds_la_0 = modeler_0.make_predictions('gs_lr_l1', modeler_la_0.X)\n",
    "y_preds_la_1 = modeler_1.make_predictions('gs_lr_l1', modeler_la_1.X)\n",
    "y_preds_la = np.concatenate((y_preds_la_0, y_preds_la_1), axis=0)"
   ]
  },
  {
   "cell_type": "code",
   "execution_count": 80,
   "metadata": {},
   "outputs": [],
   "source": [
    "# True y\n",
    "y_test_la_0 = modeler_la_0.y\n",
    "y_test_la_1 = modeler_la_1.y\n",
    "y_test_la = np.concatenate((y_test_la_0, y_test_la_1), axis=0)"
   ]
  },
  {
   "cell_type": "markdown",
   "metadata": {},
   "source": [
    "### Model elevation"
   ]
  },
  {
   "cell_type": "code",
   "execution_count": 81,
   "metadata": {},
   "outputs": [
    {
     "name": "stdout",
     "output_type": "stream",
     "text": [
      "score on pattern 0 dataset: -4.059688305426361\n",
      "score on pattern 1 dataset: -5.779682645453401\n"
     ]
    }
   ],
   "source": [
    "print(f'score on pattern 0 dataset: {r2_score(y_test_la_0, y_preds_la_0)}')\n",
    "print(f'score on pattern 1 dataset: {r2_score(y_test_la_1, y_preds_la_1)}')"
   ]
  },
  {
   "cell_type": "markdown",
   "metadata": {},
   "source": [
    "The model performs badly on both pattern 0 and 1 dataset. It's clear that the model trained on the NY State dataset is inadequate to predict the home affordability ratios for the LA dataset."
   ]
  },
  {
   "cell_type": "code",
   "execution_count": 86,
   "metadata": {},
   "outputs": [
    {
     "data": {
      "image/png": "[encoded data removed]",
      "text/plain": [
       "<Figure size 576x432 with 1 Axes>"
      ]
     },
     "metadata": {
      "needs_background": "light"
     },
     "output_type": "display_data"
    }
   ],
   "source": [
    "# 1st plot - y_true vs. y_pred\n",
    "max_d = max(max(y_preds_la), max(y_test_la)) \n",
    "min_d = min(min(y_preds_la), min(y_test_la))\n",
    "\n",
    "plt.figure(figsize=(8, 6))\n",
    "plt.xlabel(\"Predicted Values: $\\hat{y}$\", fontsize=10)\n",
    "plt.ylabel(\"Actual Values: $y$\", fontsize=10)\n",
    "plt.title('Predicted Values vs. Actual Values', fontsize=14)\n",
    "ax = sns.scatterplot(x=y_test_la, y=y_preds_la, alpha=.7)\n",
    "ax.plot((min_d, max_d),(min_d, max_d), c='black', alpha=.7);"
   ]
  },
  {
   "cell_type": "markdown",
   "metadata": {},
   "source": [
    "Check **Equality of Variance**: If the points all fell on a diagonal line then we would have a perfect fit.\n",
    "However, the predictions of this model tends to cluster around the mid-range - this means there is no **equality of variance** of errors. In addition, the model tends to **over-predict** the home affordability ratio. "
   ]
  },
  {
   "cell_type": "code",
   "execution_count": 87,
   "metadata": {
    "scrolled": false
   },
   "outputs": [
    {
     "data": {
      "image/png": "[encoded data removed]",
      "text/plain": [
       "<Figure size 576x432 with 1 Axes>"
      ]
     },
     "metadata": {
      "needs_background": "light"
     },
     "output_type": "display_data"
    }
   ],
   "source": [
    "# 2nd plot: residual plot\n",
    "resids_la = y_test_la - y_preds_la\n",
    "plt.figure(figsize=(8, 6))\n",
    "plt.title('Residual Plots', fontsize=14)\n",
    "ax = sns.scatterplot(x=range(len(resids_la)), y=resids_la, alpha=.7)\n",
    "ax.axhline(0, c='black', alpha =.7);"
   ]
  },
  {
   "cell_type": "markdown",
   "metadata": {},
   "source": [
    "Check **Independence of Errors**: Errors (residuals) 𝜀𝑖 and 𝜀𝑗 must be independent of one another for any  𝑖≠𝑗, which means the points on this plot shouldn't follow any patterns. As we can see, the errors are quite evenly distributed. However, most of the errors are above the zero line, which is supposed to be the mean of error. This, again, confirms that the model tends to over-predict the home affordability ratio."
   ]
  },
  {
   "cell_type": "code",
   "execution_count": 90,
   "metadata": {
    "scrolled": false
   },
   "outputs": [
    {
     "data": {
      "image/png": "[encoded data removed]",
      "text/plain": [
       "<Figure size 576x432 with 1 Axes>"
      ]
     },
     "metadata": {
      "needs_background": "light"
     },
     "output_type": "display_data"
    }
   ],
   "source": [
    "# 3rd plot: distribution of residuals\n",
    "plt.figure(figsize=(8, 6))\n",
    "plt.title('Distribution of Residuals', fontsize=14)\n",
    "sns.distplot(resids_la, kde=False)\n",
    "plt.axvline(x=resids_la.mean(), color='black');"
   ]
  },
  {
   "cell_type": "markdown",
   "metadata": {},
   "source": [
    "Check **Normality**: The residuals roughly follow a normal distribution, but does not have a mean of 0 (indicated by the horizontal black line). The mean is bove 0, which is consistant with the findings from the previous two residual plot: the model tends to over-predict the home affordability ratio."
   ]
  },
  {
   "cell_type": "markdown",
   "metadata": {},
   "source": [
    "## Conclusion\n",
    "<a id='3'></a>"
   ]
  },
  {
   "cell_type": "markdown",
   "metadata": {},
   "source": [
    "Based on the test scores, as well as the residuals plots, we can conclude that the model trained on the New York State dataset is inadequate for the predication of home affordability ratios in LA, especially given the model tends to over-predict the target. We can conclude that the trained model is not transferable. \n",
    "\n",
    "This outcomes makes intuitive sense: New York State and LA has very different commercial landscapes, as well as demographic factors (such as median home prices and median annual income). The model has been fitted and trained on the former is not able to capture the patterns of the latter. "
   ]
  },
  {
   "cell_type": "markdown",
   "metadata": {},
   "source": [
    "## Limitations and Next Steps\n",
    "<a id='4'></a>"
   ]
  },
  {
   "cell_type": "markdown",
   "metadata": {},
   "source": [
    "### Next Steps\n",
    "**Step 1**: Improve data quality: \n",
    "- Collect more data: during the early modeling process, I observed that the models' performance drastically increased after being trained with more data points (from only using NYC to NYS). Since the amount of observations (n = 1521), I will try to collect more data to improve the model's performance.\n",
    "- Sampling data from different regions in the U.S, and stratify the samples: In order to help the model learn a wider variety of dataset, I will try to randomly sample some zipcode across the States.\n",
    "- If step 1 has been accomplished, and there is no significant improvement in the model's ability of making predictions, I will do the following:\n",
    "\n",
    "**Step 2**: Reevaluate the assumptions: \n",
    " - Research on what known factors have proven links to home affordability ratio: the first and for-most assumption of this project is that commercial activities can be predictive for home affordability ratio. This assumption is very likely to be unsound. During this project, we have confirmed that including census data will increase the model performance; in other words, the commercial activity information collected from the Google Places API alone are not as predictive as combing with census data. There might be many factors that link to the target: home affordability ratio, and further research need to be conducted, so I will have more prior knowledge about what might the be most significant factors in predicting home affordability ratio. "
   ]
  },
  {
   "cell_type": "markdown",
   "metadata": {},
   "source": [
    "### Limitations\n",
    "Using **Google Place API** has many limitations in the data collection process: \n",
    "\n",
    "- When using string search, the results returned are unpredictable: e.g. when making an API call using param \"stores near zipcode 10010\", some unexpected result was returned, such as a school or an government office. \n",
    "- The API only returns up to 3 calls per location (each location only returns up to 20 results). This limits the amount of samples can be collect per location. \n",
    "- The API returns 20 results per call, and it's unclear what algorithms was behind these results: such as proximities to the location centroid or popularity of the business as search result. So the businesses returned by the calls might be biased based on Google's algorithms.\n",
    "- As mentioned in notebook 04, the 'open_now' feature is dependent on the time when the API calls are made. \n",
    "- The Google Place API is not free: making many API calls will make the project very expensive. Therefore, the amount of data that can be collected can be very limited based on the budget of the project. "
   ]
  }
 ],
 "metadata": {
  "kernelspec": {
   "display_name": "Python 3",
   "language": "python",
   "name": "python3"
  },
  "language_info": {
   "codemirror_mode": {
    "name": "ipython",
    "version": 3
   },
   "file_extension": ".py",
   "mimetype": "text/x-python",
   "name": "python",
   "nbconvert_exporter": "python",
   "pygments_lexer": "ipython3",
   "version": "3.7.4"
  },
  "toc": {
   "base_numbering": 1,
   "nav_menu": {},
   "number_sections": true,
   "sideBar": true,
   "skip_h1_title": false,
   "title_cell": "Table of Contents",
   "title_sidebar": "Contents",
   "toc_cell": true,
   "toc_position": {
    "height": "calc(100% - 180px)",
    "left": "10px",
    "top": "150px",
    "width": "301.804px"
   },
   "toc_section_display": true,
   "toc_window_display": true
  }
 },
 "nbformat": 4,
 "nbformat_minor": 2
}
