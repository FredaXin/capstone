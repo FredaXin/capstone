{
 "cells": [
  {
   "cell_type": "markdown",
   "metadata": {},
   "source": [
    "# Modeling"
   ]
  },
  {
   "cell_type": "markdown",
   "metadata": {
    "toc": true
   },
   "source": [
    "<h1>Table of Contents<span class=\"tocSkip\"></span></h1>\n",
    "<div class=\"toc\"><ul class=\"toc-item\"><li><span><a href=\"#Modeling\" data-toc-modified-id=\"Modeling-1\"><span class=\"toc-item-num\">1&nbsp;&nbsp;</span>Modeling</a></span><ul class=\"toc-item\"><li><span><a href=\"#Import-Libraries\" data-toc-modified-id=\"Import-Libraries-1.1\"><span class=\"toc-item-num\">1.1&nbsp;&nbsp;</span>Import Libraries</a></span></li><li><span><a href=\"#Define-constants\" data-toc-modified-id=\"Define-constants-1.2\"><span class=\"toc-item-num\">1.2&nbsp;&nbsp;</span>Define constants</a></span></li><li><span><a href=\"#Read-in-data\" data-toc-modified-id=\"Read-in-data-1.3\"><span class=\"toc-item-num\">1.3&nbsp;&nbsp;</span>Read in data</a></span></li><li><span><a href=\"#Preprocessing\" data-toc-modified-id=\"Preprocessing-1.4\"><span class=\"toc-item-num\">1.4&nbsp;&nbsp;</span>Preprocessing</a></span></li><li><span><a href=\"#Model-preparation\" data-toc-modified-id=\"Model-preparation-1.5\"><span class=\"toc-item-num\">1.5&nbsp;&nbsp;</span>Model preparation</a></span></li><li><span><a href=\"#Train,-test-split\" data-toc-modified-id=\"Train,-test-split-1.6\"><span class=\"toc-item-num\">1.6&nbsp;&nbsp;</span>Train, test split</a></span></li><li><span><a href=\"#Modeling\" data-toc-modified-id=\"Modeling-1.7\"><span class=\"toc-item-num\">1.7&nbsp;&nbsp;</span>Modeling</a></span><ul class=\"toc-item\"><li><span><a href=\"#Evaluation-metric\" data-toc-modified-id=\"Evaluation-metric-1.7.1\"><span class=\"toc-item-num\">1.7.1&nbsp;&nbsp;</span>Evaluation metric</a></span></li><li><span><a href=\"#Baseline-model\" data-toc-modified-id=\"Baseline-model-1.7.2\"><span class=\"toc-item-num\">1.7.2&nbsp;&nbsp;</span>Baseline model</a></span></li><li><span><a href=\"#Linear-Regression\" data-toc-modified-id=\"Linear-Regression-1.7.3\"><span class=\"toc-item-num\">1.7.3&nbsp;&nbsp;</span>Linear Regression</a></span><ul class=\"toc-item\"><li><span><a href=\"#Ridge-Regularzation\" data-toc-modified-id=\"Ridge-Regularzation-1.7.3.1\"><span class=\"toc-item-num\">1.7.3.1&nbsp;&nbsp;</span>Ridge Regularzation</a></span></li><li><span><a href=\"#Lasso-Regularzation\" data-toc-modified-id=\"Lasso-Regularzation-1.7.3.2\"><span class=\"toc-item-num\">1.7.3.2&nbsp;&nbsp;</span>Lasso Regularzation</a></span></li><li><span><a href=\"#Linear-Regression-+-PCA\" data-toc-modified-id=\"Linear-Regression-+-PCA-1.7.3.3\"><span class=\"toc-item-num\">1.7.3.3&nbsp;&nbsp;</span>Linear Regression + PCA</a></span></li></ul></li><li><span><a href=\"#KNN\" data-toc-modified-id=\"KNN-1.7.4\"><span class=\"toc-item-num\">1.7.4&nbsp;&nbsp;</span>KNN</a></span></li><li><span><a href=\"#Tree-Based-Models\" data-toc-modified-id=\"Tree-Based-Models-1.7.5\"><span class=\"toc-item-num\">1.7.5&nbsp;&nbsp;</span>Tree Based Models</a></span><ul class=\"toc-item\"><li><span><a href=\"#Cart\" data-toc-modified-id=\"Cart-1.7.5.1\"><span class=\"toc-item-num\">1.7.5.1&nbsp;&nbsp;</span>Cart</a></span></li><li><span><a href=\"#Bagged-Tree\" data-toc-modified-id=\"Bagged-Tree-1.7.5.2\"><span class=\"toc-item-num\">1.7.5.2&nbsp;&nbsp;</span>Bagged Tree</a></span></li><li><span><a href=\"#Random-Forest\" data-toc-modified-id=\"Random-Forest-1.7.5.3\"><span class=\"toc-item-num\">1.7.5.3&nbsp;&nbsp;</span>Random Forest</a></span></li><li><span><a href=\"#Random-Forest--+-PCA\" data-toc-modified-id=\"Random-Forest--+-PCA-1.7.5.4\"><span class=\"toc-item-num\">1.7.5.4&nbsp;&nbsp;</span>Random Forest  + PCA</a></span></li><li><span><a href=\"#Extra-Trees\" data-toc-modified-id=\"Extra-Trees-1.7.5.5\"><span class=\"toc-item-num\">1.7.5.5&nbsp;&nbsp;</span>Extra Trees</a></span></li><li><span><a href=\"#Ada-Boost\" data-toc-modified-id=\"Ada-Boost-1.7.5.6\"><span class=\"toc-item-num\">1.7.5.6&nbsp;&nbsp;</span>Ada Boost</a></span></li></ul></li><li><span><a href=\"#SVR\" data-toc-modified-id=\"SVR-1.7.6\"><span class=\"toc-item-num\">1.7.6&nbsp;&nbsp;</span>SVR</a></span></li><li><span><a href=\"#Polynomial-Regression\" data-toc-modified-id=\"Polynomial-Regression-1.7.7\"><span class=\"toc-item-num\">1.7.7&nbsp;&nbsp;</span>Polynomial Regression</a></span></li><li><span><a href=\"#Stochastic-Gradient-Descent\" data-toc-modified-id=\"Stochastic-Gradient-Descent-1.7.8\"><span class=\"toc-item-num\">1.7.8&nbsp;&nbsp;</span>Stochastic Gradient Descent</a></span></li></ul></li><li><span><a href=\"#Model-Selection\" data-toc-modified-id=\"Model-Selection-1.8\"><span class=\"toc-item-num\">1.8&nbsp;&nbsp;</span>Model Selection</a></span></li><li><span><a href=\"#Model-Elevation\" data-toc-modified-id=\"Model-Elevation-1.9\"><span class=\"toc-item-num\">1.9&nbsp;&nbsp;</span>Model Elevation</a></span></li></ul></li></ul></div>"
   ]
  },
  {
   "cell_type": "markdown",
   "metadata": {},
   "source": [
    "## Import Libraries"
   ]
  },
  {
   "cell_type": "code",
   "execution_count": 1,
   "metadata": {},
   "outputs": [
    {
     "name": "stderr",
     "output_type": "stream",
     "text": [
      "/opt/anaconda3/lib/python3.7/site-packages/sklearn/externals/six.py:31: DeprecationWarning: The module is deprecated in version 0.21 and will be removed in version 0.23 since we've dropped support for Python 2.7. Please rely on the official version of six (https://pypi.org/project/six/).\n",
      "  \"(https://pypi.org/project/six/).\", DeprecationWarning)\n"
     ]
    }
   ],
   "source": [
    "import pandas as pd\n",
    "import numpy as np\n",
    "import matplotlib.pyplot as plt\n",
    "\n",
    "from sklearn.preprocessing import StandardScaler, PolynomialFeatures\n",
    "from sklearn.model_selection import train_test_split, GridSearchCV, cross_val_score\n",
    "from sklearn.pipeline import Pipeline\n",
    "\n",
    "from sklearn.decomposition import PCA\n",
    "from sklearn.dummy import DummyRegressor\n",
    "from sklearn.linear_model import LinearRegression, Ridge, Lasso, SGDRegressor\n",
    "from sklearn.neighbors import KNeighborsRegressor\n",
    "from sklearn.tree import DecisionTreeRegressor\n",
    "from sklearn.ensemble import BaggingRegressor, RandomForestRegressor, ExtraTreesRegressor, AdaBoostRegressor\n",
    "from sklearn.svm import SVR\n",
    "\n",
    "from sklearn.externals.six import StringIO\n",
    "\n",
    "from sklearn.metrics import r2_score\n",
    "import pydotplus\n",
    "\n",
    "%matplotlib inline\n",
    "\n",
    "import warnings\n",
    "warnings.filterwarnings('ignore')"
   ]
  },
  {
   "cell_type": "markdown",
   "metadata": {},
   "source": [
    "## Define constants"
   ]
  },
  {
   "cell_type": "code",
   "execution_count": 2,
   "metadata": {},
   "outputs": [],
   "source": [
    "RANDOM_STATE = 20200304"
   ]
  },
  {
   "cell_type": "code",
   "execution_count": 3,
   "metadata": {},
   "outputs": [],
   "source": [
    "LOCATION = 'ny_state'"
   ]
  },
  {
   "cell_type": "markdown",
   "metadata": {},
   "source": [
    "## Read in data"
   ]
  },
  {
   "cell_type": "code",
   "execution_count": 4,
   "metadata": {},
   "outputs": [],
   "source": [
    "df = pd.read_csv(f'../data/final_{LOCATION}_agg.csv')"
   ]
  },
  {
   "cell_type": "code",
   "execution_count": 5,
   "metadata": {},
   "outputs": [
    {
     "data": {
      "text/html": [
       "<div>\n",
       "<style scoped>\n",
       "    .dataframe tbody tr th:only-of-type {\n",
       "        vertical-align: middle;\n",
       "    }\n",
       "\n",
       "    .dataframe tbody tr th {\n",
       "        vertical-align: top;\n",
       "    }\n",
       "\n",
       "    .dataframe thead th {\n",
       "        text-align: right;\n",
       "    }\n",
       "</style>\n",
       "<table border=\"1\" class=\"dataframe\">\n",
       "  <thead>\n",
       "    <tr style=\"text-align: right;\">\n",
       "      <th></th>\n",
       "      <th>zipcode</th>\n",
       "      <th>total_accounting</th>\n",
       "      <th>total_airport</th>\n",
       "      <th>total_amusement_park</th>\n",
       "      <th>total_art_gallery</th>\n",
       "      <th>total_atm</th>\n",
       "      <th>total_bakery</th>\n",
       "      <th>total_bank</th>\n",
       "      <th>total_bar</th>\n",
       "      <th>total_beauty_salon</th>\n",
       "      <th>...</th>\n",
       "      <th>mean_price_level</th>\n",
       "      <th>mean_rating</th>\n",
       "      <th>mean_user_ratings_total</th>\n",
       "      <th>population</th>\n",
       "      <th>population_density_square_miles</th>\n",
       "      <th>housing_units</th>\n",
       "      <th>price_level*rating</th>\n",
       "      <th>user_ratings_total_per_capita</th>\n",
       "      <th>rating_weighed_population_density</th>\n",
       "      <th>log_home_price_to_income_ratios</th>\n",
       "    </tr>\n",
       "  </thead>\n",
       "  <tbody>\n",
       "    <tr>\n",
       "      <td>0</td>\n",
       "      <td>11201</td>\n",
       "      <td>0</td>\n",
       "      <td>0</td>\n",
       "      <td>0</td>\n",
       "      <td>0</td>\n",
       "      <td>0</td>\n",
       "      <td>2</td>\n",
       "      <td>0</td>\n",
       "      <td>8</td>\n",
       "      <td>0</td>\n",
       "      <td>...</td>\n",
       "      <td>2.018519</td>\n",
       "      <td>4.147945</td>\n",
       "      <td>632.904110</td>\n",
       "      <td>62823</td>\n",
       "      <td>44643.3</td>\n",
       "      <td>30741</td>\n",
       "      <td>8.372704</td>\n",
       "      <td>0.010074</td>\n",
       "      <td>185177.962192</td>\n",
       "      <td>1.991625</td>\n",
       "    </tr>\n",
       "    <tr>\n",
       "      <td>1</td>\n",
       "      <td>14215</td>\n",
       "      <td>0</td>\n",
       "      <td>0</td>\n",
       "      <td>0</td>\n",
       "      <td>0</td>\n",
       "      <td>1</td>\n",
       "      <td>1</td>\n",
       "      <td>0</td>\n",
       "      <td>1</td>\n",
       "      <td>0</td>\n",
       "      <td>...</td>\n",
       "      <td>1.272727</td>\n",
       "      <td>3.813158</td>\n",
       "      <td>197.263158</td>\n",
       "      <td>39962</td>\n",
       "      <td>8107.1</td>\n",
       "      <td>18477</td>\n",
       "      <td>4.853110</td>\n",
       "      <td>0.004936</td>\n",
       "      <td>30913.652368</td>\n",
       "      <td>0.537717</td>\n",
       "    </tr>\n",
       "    <tr>\n",
       "      <td>2</td>\n",
       "      <td>10927</td>\n",
       "      <td>0</td>\n",
       "      <td>0</td>\n",
       "      <td>0</td>\n",
       "      <td>0</td>\n",
       "      <td>1</td>\n",
       "      <td>1</td>\n",
       "      <td>0</td>\n",
       "      <td>2</td>\n",
       "      <td>0</td>\n",
       "      <td>...</td>\n",
       "      <td>1.384615</td>\n",
       "      <td>4.097826</td>\n",
       "      <td>84.086957</td>\n",
       "      <td>12081</td>\n",
       "      <td>6144.4</td>\n",
       "      <td>3816</td>\n",
       "      <td>5.673913</td>\n",
       "      <td>0.006960</td>\n",
       "      <td>25178.682609</td>\n",
       "      <td>1.397868</td>\n",
       "    </tr>\n",
       "    <tr>\n",
       "      <td>3</td>\n",
       "      <td>14131</td>\n",
       "      <td>0</td>\n",
       "      <td>0</td>\n",
       "      <td>0</td>\n",
       "      <td>0</td>\n",
       "      <td>0</td>\n",
       "      <td>2</td>\n",
       "      <td>0</td>\n",
       "      <td>1</td>\n",
       "      <td>0</td>\n",
       "      <td>...</td>\n",
       "      <td>1.428571</td>\n",
       "      <td>3.255000</td>\n",
       "      <td>58.400000</td>\n",
       "      <td>5039</td>\n",
       "      <td>119.3</td>\n",
       "      <td>2211</td>\n",
       "      <td>4.650000</td>\n",
       "      <td>0.011590</td>\n",
       "      <td>388.321500</td>\n",
       "      <td>0.729344</td>\n",
       "    </tr>\n",
       "    <tr>\n",
       "      <td>4</td>\n",
       "      <td>12155</td>\n",
       "      <td>0</td>\n",
       "      <td>0</td>\n",
       "      <td>0</td>\n",
       "      <td>0</td>\n",
       "      <td>0</td>\n",
       "      <td>0</td>\n",
       "      <td>0</td>\n",
       "      <td>1</td>\n",
       "      <td>0</td>\n",
       "      <td>...</td>\n",
       "      <td>1.250000</td>\n",
       "      <td>4.177778</td>\n",
       "      <td>317.333333</td>\n",
       "      <td>1809</td>\n",
       "      <td>31.8</td>\n",
       "      <td>1123</td>\n",
       "      <td>5.222222</td>\n",
       "      <td>0.175419</td>\n",
       "      <td>132.853333</td>\n",
       "      <td>0.850373</td>\n",
       "    </tr>\n",
       "  </tbody>\n",
       "</table>\n",
       "<p>5 rows × 105 columns</p>\n",
       "</div>"
      ],
      "text/plain": [
       "   zipcode  total_accounting  total_airport  total_amusement_park  \\\n",
       "0    11201                 0              0                     0   \n",
       "1    14215                 0              0                     0   \n",
       "2    10927                 0              0                     0   \n",
       "3    14131                 0              0                     0   \n",
       "4    12155                 0              0                     0   \n",
       "\n",
       "   total_art_gallery  total_atm  total_bakery  total_bank  total_bar  \\\n",
       "0                  0          0             2           0          8   \n",
       "1                  0          1             1           0          1   \n",
       "2                  0          1             1           0          2   \n",
       "3                  0          0             2           0          1   \n",
       "4                  0          0             0           0          1   \n",
       "\n",
       "   total_beauty_salon  ...  mean_price_level  mean_rating  \\\n",
       "0                   0  ...          2.018519     4.147945   \n",
       "1                   0  ...          1.272727     3.813158   \n",
       "2                   0  ...          1.384615     4.097826   \n",
       "3                   0  ...          1.428571     3.255000   \n",
       "4                   0  ...          1.250000     4.177778   \n",
       "\n",
       "   mean_user_ratings_total  population  population_density_square_miles  \\\n",
       "0               632.904110       62823                          44643.3   \n",
       "1               197.263158       39962                           8107.1   \n",
       "2                84.086957       12081                           6144.4   \n",
       "3                58.400000        5039                            119.3   \n",
       "4               317.333333        1809                             31.8   \n",
       "\n",
       "   housing_units  price_level*rating  user_ratings_total_per_capita  \\\n",
       "0          30741            8.372704                       0.010074   \n",
       "1          18477            4.853110                       0.004936   \n",
       "2           3816            5.673913                       0.006960   \n",
       "3           2211            4.650000                       0.011590   \n",
       "4           1123            5.222222                       0.175419   \n",
       "\n",
       "   rating_weighed_population_density  log_home_price_to_income_ratios  \n",
       "0                      185177.962192                         1.991625  \n",
       "1                       30913.652368                         0.537717  \n",
       "2                       25178.682609                         1.397868  \n",
       "3                         388.321500                         0.729344  \n",
       "4                         132.853333                         0.850373  \n",
       "\n",
       "[5 rows x 105 columns]"
      ]
     },
     "execution_count": 5,
     "metadata": {},
     "output_type": "execute_result"
    }
   ],
   "source": [
    "df.head()"
   ]
  },
  {
   "cell_type": "code",
   "execution_count": 6,
   "metadata": {},
   "outputs": [
    {
     "data": {
      "text/plain": [
       "(1521, 105)"
      ]
     },
     "execution_count": 6,
     "metadata": {},
     "output_type": "execute_result"
    }
   ],
   "source": [
    "df.shape"
   ]
  },
  {
   "cell_type": "markdown",
   "metadata": {},
   "source": [
    "## Preprocessing"
   ]
  },
  {
   "cell_type": "code",
   "execution_count": 7,
   "metadata": {},
   "outputs": [],
   "source": [
    "def high_corr_w_dependent_variable(df, dependent_variable, corr_value):\n",
    "    '''\n",
    "    Takes df, dependent variable, and value of correlation \n",
    "    Returns a df of independant varibles that are highly (e.g. abs(corr) > 0.4) with dependent varible\n",
    "    '''\n",
    "    temp_df = df.corr()[[dependent_variable]].sort_values(by=dependent_variable, ascending=False)\n",
    "    mask_1 = abs(temp_df[dependent_variable]) > corr_value\n",
    "    return temp_df.loc[mask_1]"
   ]
  },
  {
   "cell_type": "code",
   "execution_count": 8,
   "metadata": {},
   "outputs": [
    {
     "data": {
      "text/html": [
       "<div>\n",
       "<style scoped>\n",
       "    .dataframe tbody tr th:only-of-type {\n",
       "        vertical-align: middle;\n",
       "    }\n",
       "\n",
       "    .dataframe tbody tr th {\n",
       "        vertical-align: top;\n",
       "    }\n",
       "\n",
       "    .dataframe thead th {\n",
       "        text-align: right;\n",
       "    }\n",
       "</style>\n",
       "<table border=\"1\" class=\"dataframe\">\n",
       "  <thead>\n",
       "    <tr style=\"text-align: right;\">\n",
       "      <th></th>\n",
       "      <th>log_home_price_to_income_ratios</th>\n",
       "    </tr>\n",
       "  </thead>\n",
       "  <tbody>\n",
       "    <tr>\n",
       "      <td>log_home_price_to_income_ratios</td>\n",
       "      <td>1.000000</td>\n",
       "    </tr>\n",
       "    <tr>\n",
       "      <td>total_open_now_True</td>\n",
       "      <td>0.613297</td>\n",
       "    </tr>\n",
       "    <tr>\n",
       "      <td>population_density_square_miles</td>\n",
       "      <td>0.588593</td>\n",
       "    </tr>\n",
       "    <tr>\n",
       "      <td>rating_weighed_population_density</td>\n",
       "      <td>0.585944</td>\n",
       "    </tr>\n",
       "    <tr>\n",
       "      <td>population</td>\n",
       "      <td>0.568489</td>\n",
       "    </tr>\n",
       "    <tr>\n",
       "      <td>housing_units</td>\n",
       "      <td>0.564353</td>\n",
       "    </tr>\n",
       "    <tr>\n",
       "      <td>total_meal_delivery</td>\n",
       "      <td>0.492924</td>\n",
       "    </tr>\n",
       "    <tr>\n",
       "      <td>total_store</td>\n",
       "      <td>0.490759</td>\n",
       "    </tr>\n",
       "    <tr>\n",
       "      <td>total_food</td>\n",
       "      <td>0.489080</td>\n",
       "    </tr>\n",
       "    <tr>\n",
       "      <td>total_cafe</td>\n",
       "      <td>0.487195</td>\n",
       "    </tr>\n",
       "    <tr>\n",
       "      <td>total_restaurant</td>\n",
       "      <td>0.471756</td>\n",
       "    </tr>\n",
       "    <tr>\n",
       "      <td>total_bakery</td>\n",
       "      <td>0.423306</td>\n",
       "    </tr>\n",
       "    <tr>\n",
       "      <td>total_clothing_store</td>\n",
       "      <td>0.394660</td>\n",
       "    </tr>\n",
       "    <tr>\n",
       "      <td>total_liquor_store</td>\n",
       "      <td>0.392000</td>\n",
       "    </tr>\n",
       "    <tr>\n",
       "      <td>total_health</td>\n",
       "      <td>0.385198</td>\n",
       "    </tr>\n",
       "    <tr>\n",
       "      <td>mean_price_level</td>\n",
       "      <td>0.379605</td>\n",
       "    </tr>\n",
       "    <tr>\n",
       "      <td>total_drugstore</td>\n",
       "      <td>0.367369</td>\n",
       "    </tr>\n",
       "    <tr>\n",
       "      <td>total_bar</td>\n",
       "      <td>0.340822</td>\n",
       "    </tr>\n",
       "    <tr>\n",
       "      <td>total_electronics_store</td>\n",
       "      <td>0.335376</td>\n",
       "    </tr>\n",
       "    <tr>\n",
       "      <td>price_level*rating</td>\n",
       "      <td>0.332161</td>\n",
       "    </tr>\n",
       "    <tr>\n",
       "      <td>total_furniture_store</td>\n",
       "      <td>0.265175</td>\n",
       "    </tr>\n",
       "    <tr>\n",
       "      <td>total_shoe_store</td>\n",
       "      <td>0.264888</td>\n",
       "    </tr>\n",
       "    <tr>\n",
       "      <td>total_convenience_store</td>\n",
       "      <td>0.254799</td>\n",
       "    </tr>\n",
       "    <tr>\n",
       "      <td>total_hardware_store</td>\n",
       "      <td>0.248891</td>\n",
       "    </tr>\n",
       "    <tr>\n",
       "      <td>total_home_goods_store</td>\n",
       "      <td>0.245025</td>\n",
       "    </tr>\n",
       "    <tr>\n",
       "      <td>total_grocery_or_supermarket</td>\n",
       "      <td>0.239093</td>\n",
       "    </tr>\n",
       "    <tr>\n",
       "      <td>mean_user_ratings_total</td>\n",
       "      <td>0.230804</td>\n",
       "    </tr>\n",
       "    <tr>\n",
       "      <td>total_open_now_False</td>\n",
       "      <td>0.226203</td>\n",
       "    </tr>\n",
       "    <tr>\n",
       "      <td>total_night_club</td>\n",
       "      <td>0.225957</td>\n",
       "    </tr>\n",
       "    <tr>\n",
       "      <td>total_florist</td>\n",
       "      <td>0.216900</td>\n",
       "    </tr>\n",
       "    <tr>\n",
       "      <td>total_locksmith</td>\n",
       "      <td>0.215888</td>\n",
       "    </tr>\n",
       "    <tr>\n",
       "      <td>total_pharmacy</td>\n",
       "      <td>0.209430</td>\n",
       "    </tr>\n",
       "    <tr>\n",
       "      <td>total_jewelry_store</td>\n",
       "      <td>0.206984</td>\n",
       "    </tr>\n",
       "    <tr>\n",
       "      <td>total_department_store</td>\n",
       "      <td>0.148166</td>\n",
       "    </tr>\n",
       "    <tr>\n",
       "      <td>total_bicycle_store</td>\n",
       "      <td>0.133912</td>\n",
       "    </tr>\n",
       "    <tr>\n",
       "      <td>total_supermarket</td>\n",
       "      <td>0.133301</td>\n",
       "    </tr>\n",
       "    <tr>\n",
       "      <td>total_hair_care</td>\n",
       "      <td>0.129904</td>\n",
       "    </tr>\n",
       "    <tr>\n",
       "      <td>total_meal_takeaway</td>\n",
       "      <td>0.126371</td>\n",
       "    </tr>\n",
       "    <tr>\n",
       "      <td>total_book_store</td>\n",
       "      <td>0.120127</td>\n",
       "    </tr>\n",
       "    <tr>\n",
       "      <td>total_shopping_mall</td>\n",
       "      <td>0.106542</td>\n",
       "    </tr>\n",
       "    <tr>\n",
       "      <td>total_open_now_nan</td>\n",
       "      <td>0.101966</td>\n",
       "    </tr>\n",
       "    <tr>\n",
       "      <td>total_pet_store</td>\n",
       "      <td>0.095637</td>\n",
       "    </tr>\n",
       "    <tr>\n",
       "      <td>total_art_gallery</td>\n",
       "      <td>0.095412</td>\n",
       "    </tr>\n",
       "    <tr>\n",
       "      <td>total_general_contractor</td>\n",
       "      <td>0.086207</td>\n",
       "    </tr>\n",
       "    <tr>\n",
       "      <td>total_beauty_salon</td>\n",
       "      <td>0.081488</td>\n",
       "    </tr>\n",
       "    <tr>\n",
       "      <td>total_spa</td>\n",
       "      <td>0.066232</td>\n",
       "    </tr>\n",
       "    <tr>\n",
       "      <td>total_veterinary_care</td>\n",
       "      <td>-0.060056</td>\n",
       "    </tr>\n",
       "    <tr>\n",
       "      <td>total_atm</td>\n",
       "      <td>-0.131888</td>\n",
       "    </tr>\n",
       "    <tr>\n",
       "      <td>total_gas_station</td>\n",
       "      <td>-0.205987</td>\n",
       "    </tr>\n",
       "    <tr>\n",
       "      <td>zipcode</td>\n",
       "      <td>-0.710616</td>\n",
       "    </tr>\n",
       "  </tbody>\n",
       "</table>\n",
       "</div>"
      ],
      "text/plain": [
       "                                   log_home_price_to_income_ratios\n",
       "log_home_price_to_income_ratios                           1.000000\n",
       "total_open_now_True                                       0.613297\n",
       "population_density_square_miles                           0.588593\n",
       "rating_weighed_population_density                         0.585944\n",
       "population                                                0.568489\n",
       "housing_units                                             0.564353\n",
       "total_meal_delivery                                       0.492924\n",
       "total_store                                               0.490759\n",
       "total_food                                                0.489080\n",
       "total_cafe                                                0.487195\n",
       "total_restaurant                                          0.471756\n",
       "total_bakery                                              0.423306\n",
       "total_clothing_store                                      0.394660\n",
       "total_liquor_store                                        0.392000\n",
       "total_health                                              0.385198\n",
       "mean_price_level                                          0.379605\n",
       "total_drugstore                                           0.367369\n",
       "total_bar                                                 0.340822\n",
       "total_electronics_store                                   0.335376\n",
       "price_level*rating                                        0.332161\n",
       "total_furniture_store                                     0.265175\n",
       "total_shoe_store                                          0.264888\n",
       "total_convenience_store                                   0.254799\n",
       "total_hardware_store                                      0.248891\n",
       "total_home_goods_store                                    0.245025\n",
       "total_grocery_or_supermarket                              0.239093\n",
       "mean_user_ratings_total                                   0.230804\n",
       "total_open_now_False                                      0.226203\n",
       "total_night_club                                          0.225957\n",
       "total_florist                                             0.216900\n",
       "total_locksmith                                           0.215888\n",
       "total_pharmacy                                            0.209430\n",
       "total_jewelry_store                                       0.206984\n",
       "total_department_store                                    0.148166\n",
       "total_bicycle_store                                       0.133912\n",
       "total_supermarket                                         0.133301\n",
       "total_hair_care                                           0.129904\n",
       "total_meal_takeaway                                       0.126371\n",
       "total_book_store                                          0.120127\n",
       "total_shopping_mall                                       0.106542\n",
       "total_open_now_nan                                        0.101966\n",
       "total_pet_store                                           0.095637\n",
       "total_art_gallery                                         0.095412\n",
       "total_general_contractor                                  0.086207\n",
       "total_beauty_salon                                        0.081488\n",
       "total_spa                                                 0.066232\n",
       "total_veterinary_care                                    -0.060056\n",
       "total_atm                                                -0.131888\n",
       "total_gas_station                                        -0.205987\n",
       "zipcode                                                  -0.710616"
      ]
     },
     "execution_count": 8,
     "metadata": {},
     "output_type": "execute_result"
    }
   ],
   "source": [
    "high_corr_w_dependent_variable(df, 'log_home_price_to_income_ratios', 0.06)"
   ]
  },
  {
   "cell_type": "code",
   "execution_count": 9,
   "metadata": {},
   "outputs": [],
   "source": [
    "df = df[high_corr_w_dependent_variable(df, 'log_home_price_to_income_ratios', 0.06).index]"
   ]
  },
  {
   "cell_type": "code",
   "execution_count": 10,
   "metadata": {},
   "outputs": [],
   "source": [
    "df.dropna(inplace=True)"
   ]
  },
  {
   "cell_type": "code",
   "execution_count": 11,
   "metadata": {},
   "outputs": [],
   "source": [
    "df.drop(columns='zipcode', inplace=True)"
   ]
  },
  {
   "cell_type": "markdown",
   "metadata": {},
   "source": [
    "## Model preparation"
   ]
  },
  {
   "cell_type": "code",
   "execution_count": 12,
   "metadata": {},
   "outputs": [],
   "source": [
    "target = 'log_home_price_to_income_ratios'\n",
    "X = df.drop(columns=target)\n",
    "y = df[target]"
   ]
  },
  {
   "cell_type": "markdown",
   "metadata": {},
   "source": [
    "## Train, test split"
   ]
  },
  {
   "cell_type": "code",
   "execution_count": 13,
   "metadata": {},
   "outputs": [],
   "source": [
    "X_train, X_test, y_train, y_test = train_test_split(X, y, random_state=RANDOM_STATE, train_size=0.60)"
   ]
  },
  {
   "cell_type": "markdown",
   "metadata": {},
   "source": [
    "## Modeling"
   ]
  },
  {
   "cell_type": "markdown",
   "metadata": {},
   "source": [
    "###  Evaluation metric"
   ]
  },
  {
   "cell_type": "markdown",
   "metadata": {},
   "source": [
    "I will use R2 as the model evaluation metric."
   ]
  },
  {
   "cell_type": "markdown",
   "metadata": {},
   "source": [
    "Define a funciton to display train, test, cross val R2 scores"
   ]
  },
  {
   "cell_type": "code",
   "execution_count": 14,
   "metadata": {},
   "outputs": [],
   "source": [
    "# Define a funciton to display train, test, cross val R2 scores\n",
    "def print_results(model, grid_search=True, X=X, y=y, X_train=X_train, X_test=X_test, y_train=y_train, y_test=y_test):\n",
    "    if not grid_search:\n",
    "        print(f'train score: {model.score(X_train, y_train)}')\n",
    "        print(f'test score: {model.score(X_test, y_test)}')\n",
    "        print(f'cross val score: {cross_val_score(model, X, y, scoring=\"r2\", cv=4).mean()}')\n",
    "    else: \n",
    "        print(f'best params: {model.best_params_}')\n",
    "        print(f'train score: {model.score(X_train, y_train)}')\n",
    "        print(f'test score: {model.score(X_test, y_test)}')\n",
    "        print(f'cross val score: {cross_val_score(model.best_estimator_, X, y, scoring=\"r2\", cv=4).mean()}')      "
   ]
  },
  {
   "cell_type": "markdown",
   "metadata": {},
   "source": [
    "Define a function to plot feature importance for tree based models"
   ]
  },
  {
   "cell_type": "code",
   "execution_count": 15,
   "metadata": {},
   "outputs": [],
   "source": [
    "def plot_feature_importance(model, X=X):\n",
    "    # Get feature importance, and create a pd dataframe\n",
    "    feature_importance = pd.DataFrame(dict(zip(X.columns, \n",
    "                                               gs_tree.best_estimator_['tree'].feature_importances_)).items())\n",
    "    # Sorted by feature importance\n",
    "    feature_importance = feature_importance.sort_values(by=[1])\n",
    "    \n",
    "    # Create plot\n",
    "    plt.figure(figsize=(10, 15))\n",
    "    ax = plt.barh(y = feature_importance[0], width=feature_importance[1])\n",
    "    return ax "
   ]
  },
  {
   "cell_type": "markdown",
   "metadata": {},
   "source": [
    "### Baseline model"
   ]
  },
  {
   "cell_type": "code",
   "execution_count": 16,
   "metadata": {},
   "outputs": [],
   "source": [
    "# Create a dummy regressor that will just predict means\n",
    "dummy_mean = DummyRegressor(strategy='mean').fit(X_train, y_train)"
   ]
  },
  {
   "cell_type": "code",
   "execution_count": 17,
   "metadata": {
    "scrolled": true
   },
   "outputs": [
    {
     "name": "stdout",
     "output_type": "stream",
     "text": [
      "train score: 0.0\n",
      "test score: -0.0005447587969313883\n",
      "cross val score: -0.003156233335809111\n"
     ]
    }
   ],
   "source": [
    "print_results(dummy_mean, grid_search=False)"
   ]
  },
  {
   "cell_type": "markdown",
   "metadata": {},
   "source": [
    "### Linear Regression"
   ]
  },
  {
   "cell_type": "code",
   "execution_count": 18,
   "metadata": {},
   "outputs": [],
   "source": [
    "lr = LinearRegression().fit(X_train, y_train)"
   ]
  },
  {
   "cell_type": "code",
   "execution_count": 19,
   "metadata": {},
   "outputs": [
    {
     "name": "stdout",
     "output_type": "stream",
     "text": [
      "train score: 0.6272425857947569\n",
      "test score: 0.6299639882401351\n",
      "cross val score: 0.6094240146129921\n"
     ]
    }
   ],
   "source": [
    "print_results(lr, grid_search=False)"
   ]
  },
  {
   "cell_type": "markdown",
   "metadata": {},
   "source": [
    "The model performs okay comparing to the baseline model, and shows no apparent signs of overfitting.  "
   ]
  },
  {
   "cell_type": "markdown",
   "metadata": {},
   "source": [
    "**NOTE**: If the model shows any signs of overfitting, I will go through the following subsections using regularization for dimensionality reduction: Ridge, Lasso, and PCA."
   ]
  },
  {
   "cell_type": "markdown",
   "metadata": {},
   "source": [
    "#### Ridge Regularzation "
   ]
  },
  {
   "cell_type": "code",
   "execution_count": 20,
   "metadata": {},
   "outputs": [],
   "source": [
    "# pipe = Pipeline(steps=[\n",
    "#     ('sc', StandardScaler()),\n",
    "#     ('ridge', Ridge())\n",
    "# ])\n",
    "\n",
    "# params = {\n",
    "#    'ridge__alpha' : [0.01, 1, 10, 100, 200, 400],\n",
    "# }\n",
    "\n",
    "# gs_ridge = GridSearchCV(\n",
    "#     pipe,\n",
    "#     params,\n",
    "#     cv=4\n",
    "# ).fit(X_train, y_train);"
   ]
  },
  {
   "cell_type": "code",
   "execution_count": 21,
   "metadata": {
    "scrolled": true
   },
   "outputs": [],
   "source": [
    "# print_results(gs_ridge)"
   ]
  },
  {
   "cell_type": "markdown",
   "metadata": {},
   "source": [
    "#### Lasso Regularzation"
   ]
  },
  {
   "cell_type": "code",
   "execution_count": 22,
   "metadata": {
    "scrolled": true
   },
   "outputs": [],
   "source": [
    "# pipe = Pipeline(steps=[\n",
    "#     ('sc', StandardScaler()),\n",
    "#     ('lasso', Lasso())\n",
    "# ])\n",
    "\n",
    "# params = {\n",
    "#    'lasso__alpha' : [0.01, 0.02, 1, 2, 3, 10],\n",
    "# }\n",
    "\n",
    "# gs_lasso = GridSearchCV(\n",
    "#     pipe,\n",
    "#     params,\n",
    "#     cv=4\n",
    "# ).fit(X_train, y_train);"
   ]
  },
  {
   "cell_type": "code",
   "execution_count": 23,
   "metadata": {
    "scrolled": true
   },
   "outputs": [],
   "source": [
    "# print_results(gs_lasso)"
   ]
  },
  {
   "cell_type": "markdown",
   "metadata": {},
   "source": [
    "#### Linear Regression + PCA"
   ]
  },
  {
   "cell_type": "code",
   "execution_count": 24,
   "metadata": {},
   "outputs": [],
   "source": [
    "# # Use a pipeline to combine StandardScaler and KNN\n",
    "# pipe = Pipeline(steps=[\n",
    "#     ('ss', StandardScaler()),\n",
    "#     ('pca', PCA()),\n",
    "#     ('lr_pca', LinearRegression())\n",
    "# ])\n",
    "\n",
    "# params = {\n",
    "#     'pca__n_components': [10, 15, 20],\n",
    "# }\n",
    "\n",
    "# lr_pca = GridSearchCV(\n",
    "#     pipe,\n",
    "#     params,\n",
    "#     cv=4\n",
    "# ).fit(X_train, y_train);"
   ]
  },
  {
   "cell_type": "code",
   "execution_count": 25,
   "metadata": {
    "scrolled": true
   },
   "outputs": [],
   "source": [
    "# print_results(lr_pca)"
   ]
  },
  {
   "cell_type": "markdown",
   "metadata": {},
   "source": [
    "### KNN"
   ]
  },
  {
   "cell_type": "code",
   "execution_count": 26,
   "metadata": {},
   "outputs": [],
   "source": [
    "pipe = Pipeline(steps=[\n",
    "    ('ss', StandardScaler()),\n",
    "    ('knn', KNeighborsRegressor())\n",
    "])\n",
    "\n",
    "pipe_params = {\n",
    "    'knn__n_neighbors': [5, 10, 50],\n",
    "    'knn__p' : [1, 2],\n",
    "    'knn__weights' : ['uniform', 'distance'],\n",
    "     #'knn__leaf_size' : [30, 40]\n",
    "}\n",
    "\n",
    "gs_knn = GridSearchCV(\n",
    "    pipe,\n",
    "    pipe_params,\n",
    "    cv=4\n",
    ").fit(X_train, y_train);"
   ]
  },
  {
   "cell_type": "code",
   "execution_count": 27,
   "metadata": {},
   "outputs": [
    {
     "name": "stdout",
     "output_type": "stream",
     "text": [
      "best params: {'knn__n_neighbors': 10, 'knn__p': 1, 'knn__weights': 'distance'}\n",
      "train score: 1.0\n",
      "test score: 0.581451308862299\n",
      "cross val score: 0.5519508763276724\n"
     ]
    }
   ],
   "source": [
    "print_results(gs_knn)"
   ]
  },
  {
   "cell_type": "markdown",
   "metadata": {},
   "source": [
    "### Tree Based Models"
   ]
  },
  {
   "cell_type": "markdown",
   "metadata": {},
   "source": [
    "#### Cart"
   ]
  },
  {
   "cell_type": "code",
   "execution_count": 28,
   "metadata": {},
   "outputs": [],
   "source": [
    "pipe = Pipeline(steps=[\n",
    "    ('ss', StandardScaler()),\n",
    "    ('tree', DecisionTreeRegressor(random_state=RANDOM_STATE))\n",
    "])\n",
    "\n",
    "params = {\n",
    "    'tree__max_depth' : [10, 15, 20, 30],\n",
    "    'tree__min_samples_leaf' : [2, 3, 5],\n",
    "    'tree__max_features' : [4, 6, 10]\n",
    "}\n",
    "\n",
    "gs_tree = GridSearchCV(\n",
    "    pipe,\n",
    "    params,\n",
    "    cv=4\n",
    ").fit(X_train, y_train);"
   ]
  },
  {
   "cell_type": "code",
   "execution_count": 29,
   "metadata": {},
   "outputs": [
    {
     "name": "stdout",
     "output_type": "stream",
     "text": [
      "best params: {'tree__max_depth': 20, 'tree__max_features': 10, 'tree__min_samples_leaf': 3}\n",
      "train score: 0.8832102707262965\n",
      "test score: 0.522152290299416\n",
      "cross val score: 0.42556536428228464\n"
     ]
    }
   ],
   "source": [
    "print_results(gs_tree)"
   ]
  },
  {
   "cell_type": "markdown",
   "metadata": {},
   "source": [
    "The tree model is very overfit and has high variance, since the train score is much higher than the test score, which is common in CART models. I will use a bootstrapped tree to reduce the variance."
   ]
  },
  {
   "cell_type": "markdown",
   "metadata": {},
   "source": [
    "#### Bagged Tree"
   ]
  },
  {
   "cell_type": "code",
   "execution_count": 30,
   "metadata": {},
   "outputs": [],
   "source": [
    "pipe = Pipeline(steps=[\n",
    "    ('ss', StandardScaler()),\n",
    "    ('bag', BaggingRegressor(random_state=RANDOM_STATE))\n",
    "])\n",
    "\n",
    "params = {\n",
    "    'bag__n_estimators' : [8, 10, 12, 14],\n",
    "    'bag__max_samples' : [0.5, 0.7, 1],\n",
    "    'bag__max_features' : [0.5, 0.7, 1]\n",
    "}\n",
    "\n",
    "gs_bag = GridSearchCV(\n",
    "    pipe,\n",
    "    params,\n",
    "    cv=4\n",
    ").fit(X_train, y_train);"
   ]
  },
  {
   "cell_type": "code",
   "execution_count": 31,
   "metadata": {
    "scrolled": true
   },
   "outputs": [
    {
     "name": "stdout",
     "output_type": "stream",
     "text": [
      "best params: {'bag__max_features': 0.5, 'bag__max_samples': 0.7, 'bag__n_estimators': 14}\n",
      "train score: 0.8919844002623166\n",
      "test score: 0.6672318331870202\n",
      "cross val score: 0.6315054564921184\n"
     ]
    }
   ],
   "source": [
    "print_results(gs_bag)"
   ]
  },
  {
   "cell_type": "markdown",
   "metadata": {},
   "source": [
    "The bagged tree still shows signs of overfitting. I will move on to a random forest model to control the overfitting."
   ]
  },
  {
   "cell_type": "markdown",
   "metadata": {},
   "source": [
    "#### Random Forest"
   ]
  },
  {
   "cell_type": "code",
   "execution_count": 33,
   "metadata": {},
   "outputs": [],
   "source": [
    "pipe = Pipeline(steps=[\n",
    "    ('ss', StandardScaler()),\n",
    "    ('forest', RandomForestRegressor(random_state=RANDOM_STATE))\n",
    "])\n",
    "\n",
    "params = {\n",
    "    'forest__max_depth' : [10, 15, 20, 30],\n",
    "    'forest__min_samples_leaf' : [2, 3, 5],\n",
    "    'forest__max_features' : [4, 6, 10],\n",
    "    'forest__min_impurity_decrease' : [0.0, 0.1]\n",
    "}\n",
    "\n",
    "gs_forest = GridSearchCV(\n",
    "    pipe,\n",
    "    params,\n",
    "    cv=4\n",
    ").fit(X_train, y_train);"
   ]
  },
  {
   "cell_type": "code",
   "execution_count": 34,
   "metadata": {},
   "outputs": [
    {
     "name": "stdout",
     "output_type": "stream",
     "text": [
      "best params: {'forest__max_depth': 15, 'forest__max_features': 10, 'forest__min_impurity_decrease': 0.0, 'forest__min_samples_leaf': 2}\n",
      "train score: 0.88848724282131\n",
      "test score: 0.6593871406269363\n",
      "cross val score: 0.653930276406735\n"
     ]
    }
   ],
   "source": [
    "print_results(gs_forest)"
   ]
  },
  {
   "cell_type": "markdown",
   "metadata": {},
   "source": [
    "####  Random Forest  + PCA"
   ]
  },
  {
   "cell_type": "code",
   "execution_count": 35,
   "metadata": {},
   "outputs": [],
   "source": [
    "# Use a pipeline to combine StandardScaler and KNN\n",
    "pipe = Pipeline(steps=[\n",
    "    ('ss', StandardScaler()),\n",
    "    ('pca', PCA()),\n",
    "    ('forest_pca', RandomForestRegressor(random_state=RANDOM_STATE))\n",
    "])\n",
    "\n",
    "params = {\n",
    "    'pca__n_components': [10, 15, 20],\n",
    "    'forest_pca__max_depth' : [10, 15, 20, 30],\n",
    "    'forest_pca__min_samples_leaf' : [2, 3, 5],\n",
    "    'forest_pca__max_features' : [5, 7, 10],\n",
    "    'forest_pca__min_impurity_decrease' : [0.0, 0.1]\n",
    "}\n",
    "\n",
    "gs_forest_pca = GridSearchCV(\n",
    "    pipe,\n",
    "    params,\n",
    "    cv=4\n",
    ").fit(X_train, y_train);"
   ]
  },
  {
   "cell_type": "code",
   "execution_count": 36,
   "metadata": {
    "scrolled": true
   },
   "outputs": [
    {
     "name": "stdout",
     "output_type": "stream",
     "text": [
      "best params: {'forest_pca__max_depth': 30, 'forest_pca__max_features': 5, 'forest_pca__min_impurity_decrease': 0.0, 'forest_pca__min_samples_leaf': 3, 'pca__n_components': 10}\n",
      "train score: 0.8067227577429934\n",
      "test score: 0.6023732337937301\n",
      "cross val score: 0.5509417344528398\n"
     ]
    }
   ],
   "source": [
    "print_results(gs_forest_pca)"
   ]
  },
  {
   "cell_type": "markdown",
   "metadata": {},
   "source": [
    "#### Extra Trees "
   ]
  },
  {
   "cell_type": "code",
   "execution_count": 37,
   "metadata": {},
   "outputs": [],
   "source": [
    "# Use a pipeline to combine StandardScaler and KNN\n",
    "pipe = Pipeline(steps=[\n",
    "    ('ss', StandardScaler()),\n",
    "    ('extra', ExtraTreesRegressor(random_state=RANDOM_STATE))\n",
    "])\n",
    "\n",
    "params = {\n",
    "    'extra__max_depth' : [10, 15, 20, 30],\n",
    "    'extra__min_samples_leaf' : [2, 3, 5],\n",
    "    'extra__max_features' : [4, 6, 10],\n",
    "    'extra__min_impurity_decrease' : [0.0, 0.1]\n",
    "}\n",
    "\n",
    "gs_extra = GridSearchCV(\n",
    "    pipe,\n",
    "    params,\n",
    "    cv=4\n",
    ").fit(X_train, y_train);"
   ]
  },
  {
   "cell_type": "code",
   "execution_count": 38,
   "metadata": {},
   "outputs": [
    {
     "name": "stdout",
     "output_type": "stream",
     "text": [
      "best params: {'extra__max_depth': 30, 'extra__max_features': 10, 'extra__min_impurity_decrease': 0.0, 'extra__min_samples_leaf': 2}\n",
      "train score: 0.9284390836238476\n",
      "test score: 0.6462377658133119\n",
      "cross val score: 0.6213162975677895\n"
     ]
    }
   ],
   "source": [
    "print_results(gs_extra)"
   ]
  },
  {
   "cell_type": "markdown",
   "metadata": {},
   "source": [
    "#### Ada Boost"
   ]
  },
  {
   "cell_type": "code",
   "execution_count": 39,
   "metadata": {},
   "outputs": [],
   "source": [
    "# Use a pipeline to combine StandardScaler and KNN\n",
    "pipe = Pipeline(steps=[\n",
    "    ('ss', StandardScaler()),\n",
    "    ('ada', AdaBoostRegressor(random_state=RANDOM_STATE))\n",
    "])\n",
    "\n",
    "params = {\n",
    "    'ada__learning_rate' : [0.5, 1.0, 1.2],\n",
    "    'ada__loss' : ['linear', 'square', 'exponential']\n",
    "}\n",
    "\n",
    "gs_ada = GridSearchCV(\n",
    "    pipe,\n",
    "    params,\n",
    "    cv=4\n",
    ").fit(X_train, y_train);"
   ]
  },
  {
   "cell_type": "code",
   "execution_count": 40,
   "metadata": {},
   "outputs": [
    {
     "name": "stdout",
     "output_type": "stream",
     "text": [
      "best params: {'ada__learning_rate': 1.2, 'ada__loss': 'exponential'}\n",
      "train score: 0.683924316123474\n",
      "test score: 0.5810737152728165\n",
      "cross val score: 0.5702154766232443\n"
     ]
    }
   ],
   "source": [
    "print_results(gs_ada)"
   ]
  },
  {
   "cell_type": "markdown",
   "metadata": {},
   "source": [
    "### SVR"
   ]
  },
  {
   "cell_type": "code",
   "execution_count": 41,
   "metadata": {},
   "outputs": [],
   "source": [
    "pipe = Pipeline(steps=[\n",
    "    ('sc', StandardScaler()),\n",
    "    ('svr', SVR())\n",
    "])\n",
    "\n",
    "params = {\n",
    "    'svr__gamma' : ['scale'],\n",
    "    'svr__degree' : [2, 3, 4],\n",
    "    'svr__kernel' : ['linear', 'poly', 'rbf']\n",
    "}\n",
    "\n",
    "gs_svr = GridSearchCV(\n",
    "    pipe,\n",
    "    params,\n",
    "    cv=5\n",
    ").fit(X_train, y_train);"
   ]
  },
  {
   "cell_type": "code",
   "execution_count": 42,
   "metadata": {},
   "outputs": [
    {
     "name": "stdout",
     "output_type": "stream",
     "text": [
      "best params: {'svr__degree': 2, 'svr__gamma': 'scale', 'svr__kernel': 'rbf'}\n",
      "train score: 0.8055148225193891\n",
      "test score: 0.6246707825638675\n",
      "cross val score: 0.6141956230616833\n"
     ]
    }
   ],
   "source": [
    "print_results(gs_svr)"
   ]
  },
  {
   "cell_type": "markdown",
   "metadata": {},
   "source": [
    "### Polynomial Regression"
   ]
  },
  {
   "cell_type": "code",
   "execution_count": 43,
   "metadata": {},
   "outputs": [],
   "source": [
    "pipe = Pipeline([\n",
    "    ('sc', StandardScaler()),\n",
    "    ('poly_features', PolynomialFeatures()),\n",
    "    ('lr', LinearRegression())\n",
    "])\n",
    "\n",
    "params = {\n",
    "    'poly_features__degree': [1, 2, 3],\n",
    "}\n",
    "\n",
    "gs_poly = GridSearchCV(\n",
    "    pipe,\n",
    "    params,\n",
    "    cv=5\n",
    ").fit(X_train, y_train);"
   ]
  },
  {
   "cell_type": "code",
   "execution_count": 44,
   "metadata": {},
   "outputs": [
    {
     "name": "stdout",
     "output_type": "stream",
     "text": [
      "best params: {'poly_features__degree': 1}\n",
      "train score: 0.6272425857947569\n",
      "test score: 0.6299639882401329\n",
      "cross val score: 0.6094240146129926\n"
     ]
    }
   ],
   "source": [
    "print_results(gs_poly)"
   ]
  },
  {
   "cell_type": "markdown",
   "metadata": {},
   "source": [
    "### Stochastic Gradient Descent"
   ]
  },
  {
   "cell_type": "code",
   "execution_count": 45,
   "metadata": {},
   "outputs": [],
   "source": [
    "pipe = Pipeline(steps=[\n",
    "    ('sc', StandardScaler()),\n",
    "    ('SGD', SGDRegressor())\n",
    "])\n",
    "\n",
    "params = {\n",
    "    'SGD__max_iter': [800, 1000, 1200],\n",
    "    'SGD__penalty' : ['l1', 'l2'],\n",
    "    'SGD__tol': [1e-3]\n",
    "}\n",
    "\n",
    "gs_sgd = GridSearchCV(\n",
    "    pipe,\n",
    "    params,\n",
    "    cv=5\n",
    "    \n",
    ").fit(X_train, y_train);"
   ]
  },
  {
   "cell_type": "code",
   "execution_count": 46,
   "metadata": {},
   "outputs": [
    {
     "name": "stdout",
     "output_type": "stream",
     "text": [
      "best params: {'SGD__max_iter': 1000, 'SGD__penalty': 'l1', 'SGD__tol': 0.001}\n",
      "train score: 0.6203541209939945\n",
      "test score: 0.6229847266089468\n",
      "cross val score: 0.6040960366409713\n"
     ]
    }
   ],
   "source": [
    "print_results(gs_sgd)"
   ]
  },
  {
   "cell_type": "markdown",
   "metadata": {},
   "source": [
    "## Model Selection"
   ]
  },
  {
   "cell_type": "code",
   "execution_count": 47,
   "metadata": {},
   "outputs": [],
   "source": [
    "def view_all_test_score(model_list, grid_search=True, X_test=X_test, y_test=y_test):\n",
    "    if grid_search:\n",
    "        for model in model_list:\n",
    "            print(f'{model.estimator.steps[-1][0]} test score: {model.score(X_test, y_test)}')\n",
    "    else: \n",
    "         for model in model_list:\n",
    "            print(f'{type(model).__name__} test score: {model.score(X_test, y_test)}')"
   ]
  },
  {
   "cell_type": "code",
   "execution_count": 48,
   "metadata": {},
   "outputs": [],
   "source": [
    "non_grid_search_model_list = [dummy_mean, lr]"
   ]
  },
  {
   "cell_type": "code",
   "execution_count": 49,
   "metadata": {},
   "outputs": [],
   "source": [
    "grid_search_model_list = [#lr_pca, gs_ridge, gs_lasso,\n",
    "                          gs_knn, \n",
    "                          gs_tree, gs_bag, gs_forest, \n",
    "                          gs_forest_pca, gs_extra, gs_ada,\n",
    "                          gs_svr, gs_poly, gs_sgd]"
   ]
  },
  {
   "cell_type": "code",
   "execution_count": 50,
   "metadata": {},
   "outputs": [
    {
     "name": "stdout",
     "output_type": "stream",
     "text": [
      "DummyRegressor test score: -0.0005447587969313883\n",
      "LinearRegression test score: 0.6299639882401351\n"
     ]
    }
   ],
   "source": [
    "view_all_test_score(non_grid_search_model_list,  grid_search=False)"
   ]
  },
  {
   "cell_type": "code",
   "execution_count": 51,
   "metadata": {
    "scrolled": false
   },
   "outputs": [
    {
     "name": "stdout",
     "output_type": "stream",
     "text": [
      "knn test score: 0.581451308862299\n",
      "tree test score: 0.522152290299416\n",
      "bag test score: 0.6672318331870202\n",
      "forest test score: 0.6593871406269363\n",
      "forest_pca test score: 0.6023732337937301\n",
      "extra test score: 0.6462377658133119\n",
      "ada test score: 0.5810737152728165\n",
      "svr test score: 0.6246707825638675\n",
      "lr test score: 0.6299639882401329\n",
      "SGD test score: 0.6229847266089468\n"
     ]
    }
   ],
   "source": [
    "view_all_test_score(grid_search_model_list)"
   ]
  },
  {
   "cell_type": "markdown",
   "metadata": {},
   "source": [
    "The best performing model is the bagged tree model"
   ]
  },
  {
   "cell_type": "markdown",
   "metadata": {},
   "source": [
    "## Model Elevation"
   ]
  },
  {
   "cell_type": "code",
   "execution_count": 53,
   "metadata": {},
   "outputs": [
    {
     "data": {
      "text/plain": [
       "<BarContainer object of 48 artists>"
      ]
     },
     "execution_count": 53,
     "metadata": {},
     "output_type": "execute_result"
    },
    {
     "data": {
      "image/png": "[encoded data removed]",
      "text/plain": [
       "<Figure size 720x1080 with 1 Axes>"
      ]
     },
     "metadata": {
      "needs_background": "light"
     },
     "output_type": "display_data"
    }
   ],
   "source": [
    "plot_feature_importance(gs_bag)"
   ]
  },
  {
   "cell_type": "code",
   "execution_count": 54,
   "metadata": {},
   "outputs": [
    {
     "ename": "ValueError",
     "evalue": "The least populated class in y has only 1 member, which is too few. The minimum number of groups for any class cannot be less than 2.",
     "output_type": "error",
     "traceback": [
      "\u001b[0;31m---------------------------------------------------------------------------\u001b[0m",
      "\u001b[0;31mValueError\u001b[0m                                Traceback (most recent call last)",
      "\u001b[0;32m<ipython-input-54-11542efb2abb>\u001b[0m in \u001b[0;36m<module>\u001b[0;34m\u001b[0m\n\u001b[0;32m----> 1\u001b[0;31m \u001b[0mX_train\u001b[0m\u001b[0;34m,\u001b[0m \u001b[0mX_test\u001b[0m\u001b[0;34m,\u001b[0m \u001b[0my_train\u001b[0m\u001b[0;34m,\u001b[0m \u001b[0my_test\u001b[0m \u001b[0;34m=\u001b[0m \u001b[0mtrain_test_split\u001b[0m\u001b[0;34m(\u001b[0m\u001b[0mX\u001b[0m\u001b[0;34m,\u001b[0m \u001b[0my\u001b[0m\u001b[0;34m,\u001b[0m \u001b[0mrandom_state\u001b[0m \u001b[0;34m=\u001b[0m \u001b[0mRANDOM_STATE\u001b[0m\u001b[0;34m,\u001b[0m \u001b[0mstratify\u001b[0m \u001b[0;34m=\u001b[0m \u001b[0my\u001b[0m\u001b[0;34m)\u001b[0m\u001b[0;34m\u001b[0m\u001b[0;34m\u001b[0m\u001b[0m\n\u001b[0m\u001b[1;32m      2\u001b[0m \u001b[0mtree\u001b[0m \u001b[0;34m=\u001b[0m \u001b[0mDecisionTreeRegressor\u001b[0m\u001b[0;34m(\u001b[0m\u001b[0;34m)\u001b[0m\u001b[0;34m\u001b[0m\u001b[0;34m\u001b[0m\u001b[0m\n\u001b[1;32m      3\u001b[0m \u001b[0mtree\u001b[0m\u001b[0;34m.\u001b[0m\u001b[0mfit\u001b[0m\u001b[0;34m(\u001b[0m\u001b[0mX_train\u001b[0m\u001b[0;34m,\u001b[0m \u001b[0my_train\u001b[0m\u001b[0;34m)\u001b[0m\u001b[0;34m\u001b[0m\u001b[0;34m\u001b[0m\u001b[0m\n\u001b[1;32m      4\u001b[0m \u001b[0;34m\u001b[0m\u001b[0m\n\u001b[1;32m      5\u001b[0m \u001b[0mdot_data\u001b[0m \u001b[0;34m=\u001b[0m \u001b[0mStringIO\u001b[0m\u001b[0;34m(\u001b[0m\u001b[0;34m)\u001b[0m\u001b[0;34m\u001b[0m\u001b[0;34m\u001b[0m\u001b[0m\n",
      "\u001b[0;32m/opt/anaconda3/lib/python3.7/site-packages/sklearn/model_selection/_split.py\u001b[0m in \u001b[0;36mtrain_test_split\u001b[0;34m(*arrays, **options)\u001b[0m\n\u001b[1;32m   2119\u001b[0m                      random_state=random_state)\n\u001b[1;32m   2120\u001b[0m \u001b[0;34m\u001b[0m\u001b[0m\n\u001b[0;32m-> 2121\u001b[0;31m         \u001b[0mtrain\u001b[0m\u001b[0;34m,\u001b[0m \u001b[0mtest\u001b[0m \u001b[0;34m=\u001b[0m \u001b[0mnext\u001b[0m\u001b[0;34m(\u001b[0m\u001b[0mcv\u001b[0m\u001b[0;34m.\u001b[0m\u001b[0msplit\u001b[0m\u001b[0;34m(\u001b[0m\u001b[0mX\u001b[0m\u001b[0;34m=\u001b[0m\u001b[0marrays\u001b[0m\u001b[0;34m[\u001b[0m\u001b[0;36m0\u001b[0m\u001b[0;34m]\u001b[0m\u001b[0;34m,\u001b[0m \u001b[0my\u001b[0m\u001b[0;34m=\u001b[0m\u001b[0mstratify\u001b[0m\u001b[0;34m)\u001b[0m\u001b[0;34m)\u001b[0m\u001b[0;34m\u001b[0m\u001b[0;34m\u001b[0m\u001b[0m\n\u001b[0m\u001b[1;32m   2122\u001b[0m \u001b[0;34m\u001b[0m\u001b[0m\n\u001b[1;32m   2123\u001b[0m     return list(chain.from_iterable((safe_indexing(a, train),\n",
      "\u001b[0;32m/opt/anaconda3/lib/python3.7/site-packages/sklearn/model_selection/_split.py\u001b[0m in \u001b[0;36msplit\u001b[0;34m(self, X, y, groups)\u001b[0m\n\u001b[1;32m   1321\u001b[0m         \"\"\"\n\u001b[1;32m   1322\u001b[0m         \u001b[0mX\u001b[0m\u001b[0;34m,\u001b[0m \u001b[0my\u001b[0m\u001b[0;34m,\u001b[0m \u001b[0mgroups\u001b[0m \u001b[0;34m=\u001b[0m \u001b[0mindexable\u001b[0m\u001b[0;34m(\u001b[0m\u001b[0mX\u001b[0m\u001b[0;34m,\u001b[0m \u001b[0my\u001b[0m\u001b[0;34m,\u001b[0m \u001b[0mgroups\u001b[0m\u001b[0;34m)\u001b[0m\u001b[0;34m\u001b[0m\u001b[0;34m\u001b[0m\u001b[0m\n\u001b[0;32m-> 1323\u001b[0;31m         \u001b[0;32mfor\u001b[0m \u001b[0mtrain\u001b[0m\u001b[0;34m,\u001b[0m \u001b[0mtest\u001b[0m \u001b[0;32min\u001b[0m \u001b[0mself\u001b[0m\u001b[0;34m.\u001b[0m\u001b[0m_iter_indices\u001b[0m\u001b[0;34m(\u001b[0m\u001b[0mX\u001b[0m\u001b[0;34m,\u001b[0m \u001b[0my\u001b[0m\u001b[0;34m,\u001b[0m \u001b[0mgroups\u001b[0m\u001b[0;34m)\u001b[0m\u001b[0;34m:\u001b[0m\u001b[0;34m\u001b[0m\u001b[0;34m\u001b[0m\u001b[0m\n\u001b[0m\u001b[1;32m   1324\u001b[0m             \u001b[0;32myield\u001b[0m \u001b[0mtrain\u001b[0m\u001b[0;34m,\u001b[0m \u001b[0mtest\u001b[0m\u001b[0;34m\u001b[0m\u001b[0;34m\u001b[0m\u001b[0m\n\u001b[1;32m   1325\u001b[0m \u001b[0;34m\u001b[0m\u001b[0m\n",
      "\u001b[0;32m/opt/anaconda3/lib/python3.7/site-packages/sklearn/model_selection/_split.py\u001b[0m in \u001b[0;36m_iter_indices\u001b[0;34m(self, X, y, groups)\u001b[0m\n\u001b[1;32m   1634\u001b[0m         \u001b[0mclass_counts\u001b[0m \u001b[0;34m=\u001b[0m \u001b[0mnp\u001b[0m\u001b[0;34m.\u001b[0m\u001b[0mbincount\u001b[0m\u001b[0;34m(\u001b[0m\u001b[0my_indices\u001b[0m\u001b[0;34m)\u001b[0m\u001b[0;34m\u001b[0m\u001b[0;34m\u001b[0m\u001b[0m\n\u001b[1;32m   1635\u001b[0m         \u001b[0;32mif\u001b[0m \u001b[0mnp\u001b[0m\u001b[0;34m.\u001b[0m\u001b[0mmin\u001b[0m\u001b[0;34m(\u001b[0m\u001b[0mclass_counts\u001b[0m\u001b[0;34m)\u001b[0m \u001b[0;34m<\u001b[0m \u001b[0;36m2\u001b[0m\u001b[0;34m:\u001b[0m\u001b[0;34m\u001b[0m\u001b[0;34m\u001b[0m\u001b[0m\n\u001b[0;32m-> 1636\u001b[0;31m             raise ValueError(\"The least populated class in y has only 1\"\n\u001b[0m\u001b[1;32m   1637\u001b[0m                              \u001b[0;34m\" member, which is too few. The minimum\"\u001b[0m\u001b[0;34m\u001b[0m\u001b[0;34m\u001b[0m\u001b[0m\n\u001b[1;32m   1638\u001b[0m                              \u001b[0;34m\" number of groups for any class cannot\"\u001b[0m\u001b[0;34m\u001b[0m\u001b[0;34m\u001b[0m\u001b[0m\n",
      "\u001b[0;31mValueError\u001b[0m: The least populated class in y has only 1 member, which is too few. The minimum number of groups for any class cannot be less than 2."
     ]
    }
   ],
   "source": [
    "X_train, X_test, y_train, y_test = train_test_split(X, y, random_state = RANDOM_STATE, stratify = y)\n",
    "tree = DecisionTreeRegressor()\n",
    "tree.fit(X_train, y_train)\n",
    "\n",
    "dot_data = StringIO()\n",
    "\n",
    "tree.export_graphviz(\n",
    "    tree,\n",
    "    out_file = dot_data, \n",
    "    class_names = [\"not affluent\",\"affluent\"],\n",
    "    max_depth = 3,\n",
    "    feature_names = optimum_X.columns,\n",
    "    filled=True, \n",
    "    rounded=True,\n",
    "    special_characters=True,\n",
    "    impurity=False,\n",
    "    precision=2\n",
    ")\n",
    "graph = pydotplus.graph_from_dot_data(dot_data.getvalue())"
   ]
  },
  {
   "cell_type": "code",
   "execution_count": null,
   "metadata": {},
   "outputs": [],
   "source": []
  }
 ],
 "metadata": {
  "kernelspec": {
   "display_name": "Python 3",
   "language": "python",
   "name": "python3"
  },
  "language_info": {
   "codemirror_mode": {
    "name": "ipython",
    "version": 3
   },
   "file_extension": ".py",
   "mimetype": "text/x-python",
   "name": "python",
   "nbconvert_exporter": "python",
   "pygments_lexer": "ipython3",
   "version": "3.7.4"
  },
  "toc": {
   "base_numbering": 1,
   "nav_menu": {},
   "number_sections": true,
   "sideBar": true,
   "skip_h1_title": false,
   "title_cell": "Table of Contents",
   "title_sidebar": "Contents",
   "toc_cell": true,
   "toc_position": {
    "height": "calc(100% - 180px)",
    "left": "10px",
    "top": "150px",
    "width": "301.818px"
   },
   "toc_section_display": true,
   "toc_window_display": true
  }
 },
 "nbformat": 4,
 "nbformat_minor": 2
}
