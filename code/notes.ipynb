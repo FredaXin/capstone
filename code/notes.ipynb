{
 "cells": [
  {
   "cell_type": "markdown",
   "metadata": {},
   "source": [
    "# Problem Statement:   \n",
    "In regions where rapid new urban development emerges, home prices tend to become less affordable in the initial phase of the development. This phenomena occurs in many U.S. and Canadian cities such as San Francisco, Denver, and Vancouver, where the residents' income level does not keep up with the fast increase in home prices. \n",
    "\n",
    "[Home affordability](https://www.jchs.harvard.edu/home-price-income-ratios) ratio is defined as the home price and median annual income ratio. \"Historically a house in the US cost around 3 to 4 times the median annual income. During the housing bubble of 2007 the ratio surpassed 5 - in other words, the median price for a single family home in the United States cost more than 5 times the US median annual household income\"[(reference)](https://www.longtermtrends.net/home-price-median-annual-income-ratio/). In recent years, many U.S. and Canadian neighborhoods have become unaffordable for the residents. \n",
    "\n",
    "In my project, I will explore whether commercial activities in a given neighborhood can be an indicator for the affordability of home prices. In particular, I will explore which types of business might be the best indicator of the neighborhood's affordability level. This approch has the advantage of lower costs than the traditional method based on census information. It can also serve as an early indicator used by a municipality: if certain patterns of business activities emerges, the problem of a neighborhood becomes unaffordable might fellow.\n",
    "\n",
    "I will use the [Google Places API](https://developers.google.com/places/web-service/details) to gather data about neighborhood businesses, such as types, opening hours, price level etc. To calculate Home affordability ratio, I will scrap home prices data from [Zillow](https://www.zillow.com/howto/api/GetSearchResults.htm), divided by the median income collected from [US Cecus Bereau](https://www.census.gov/topics/income-poverty/income.html)(good and cheap) (or buy the data from [incomebyzipcode.com](https://www.incomebyzipcode.com/median-income-by-zip-code-list#order_form)(Fast and Good).\n",
    "\n",
    "I will use unsupervised model during the EDA process  to explore patterns of commercial activities. I will develop supervised regression models to predict affordability. \n",
    "\n",
    "My project will be develped in 4 phases:\n",
    "\n",
    "Phase 1: Case study of NYC: develop models using NYC data  \n",
    "Phase 2: Test if model is transferable for other urban areas, such as L.A. or Toronto  \n",
    "Phase 3: Generlization: Test model can be generized and used in any given urban areas.   \n",
    "Phase 4: Web interface: Develop a simple web interface so a client can imput informations, and receive predictions.   "
   ]
  },
  {
   "cell_type": "markdown",
   "metadata": {},
   "source": [
    "## Ambar's Feedback\n",
    "\n",
    "Problem with too few data-points if we use zip-code, and each zip-code is an observation.\n",
    "\n",
    "Instead, using each individual business as observations, and engineer some columns that represent the given individual business info in relation to the other business’s info in the same neighborhood. E.g. price/ Avg(price). \n",
    "This way, some features will capture the characteristic of an individual business, while the other will capture the individual business ’  characteristic in relation to the other business. \n",
    "\n",
    "E.g. Busienss price / Median Business Price for the neighborhood"
   ]
  },
  {
   "cell_type": "markdown",
   "metadata": {},
   "source": [
    "## Mahdi's Feedback\n",
    "1. Just focus on one factor, i.e. Businesses, and look into its impact on home afforablibity  \n",
    "2. Only focus on Phase 1 to 3. \n",
    "3. Do clustering as a part of feature engerring. Intead of doing it during the EDA process  "
   ]
  },
  {
   "cell_type": "markdown",
   "metadata": {},
   "source": [
    "# References\n",
    "\n",
    "- [Home Price to Income Ratio (affordability)](https://www.longtermtrends.net/home-price-median-annual-income-ratio/)\n",
    "- [Harvard University: HOME PRICE-TO-INCOME RATIOS](https://www.jchs.harvard.edu/home-price-income-ratios)"
   ]
  },
  {
   "cell_type": "markdown",
   "metadata": {},
   "source": [
    "# Useful Links\n",
    "- [Check Google API usage](https://console.cloud.google.com/google/maps-apis/overview?project=watchful-augury-268500)"
   ]
  },
  {
   "cell_type": "code",
   "execution_count": null,
   "metadata": {},
   "outputs": [],
   "source": []
  }
 ],
 "metadata": {
  "kernelspec": {
   "display_name": "Python 3",
   "language": "python",
   "name": "python3"
  },
  "language_info": {
   "codemirror_mode": {
    "name": "ipython",
    "version": 3
   },
   "file_extension": ".py",
   "mimetype": "text/x-python",
   "name": "python",
   "nbconvert_exporter": "python",
   "pygments_lexer": "ipython3",
   "version": "3.7.4"
  },
  "toc": {
   "base_numbering": 1,
   "nav_menu": {},
   "number_sections": true,
   "sideBar": true,
   "skip_h1_title": false,
   "title_cell": "Table of Contents",
   "title_sidebar": "Contents",
   "toc_cell": false,
   "toc_position": {},
   "toc_section_display": true,
   "toc_window_display": false
  }
 },
 "nbformat": 4,
 "nbformat_minor": 2
}
